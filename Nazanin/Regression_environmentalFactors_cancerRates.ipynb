{
 "cells": [
  {
   "cell_type": "code",
   "execution_count": 1,
   "metadata": {},
   "outputs": [],
   "source": [
    "from sklearn.cluster import DBSCAN\n",
    "from sklearn.preprocessing import StandardScaler\n",
    "import re\n",
    "import pandas as pd\n",
    "import numpy as np\n",
    "import matplotlib.pyplot as plt\n",
    "from sklearn.preprocessing import StandardScaler\n",
    "# Setting rando seed to get reproducible runs\n",
    "RSEED = 100"
   ]
  },
  {
   "cell_type": "code",
   "execution_count": 2,
   "metadata": {},
   "outputs": [
    {
     "data": {
      "text/html": [
       "<div>\n",
       "<style scoped>\n",
       "    .dataframe tbody tr th:only-of-type {\n",
       "        vertical-align: middle;\n",
       "    }\n",
       "\n",
       "    .dataframe tbody tr th {\n",
       "        vertical-align: top;\n",
       "    }\n",
       "\n",
       "    .dataframe thead th {\n",
       "        text-align: right;\n",
       "    }\n",
       "</style>\n",
       "<table border=\"1\" class=\"dataframe\">\n",
       "  <thead>\n",
       "    <tr style=\"text-align: right;\">\n",
       "      <th></th>\n",
       "      <th>Unnamed: 0</th>\n",
       "      <th>county</th>\n",
       "      <th>payann</th>\n",
       "      <th>estab</th>\n",
       "      <th>emp</th>\n",
       "      <th>ACID</th>\n",
       "      <th>ENRG</th>\n",
       "      <th>ETOX</th>\n",
       "      <th>EUTR</th>\n",
       "      <th>FOOD</th>\n",
       "      <th>...</th>\n",
       "      <th>MINE</th>\n",
       "      <th>MSW</th>\n",
       "      <th>NREN</th>\n",
       "      <th>OZON</th>\n",
       "      <th>PEST</th>\n",
       "      <th>REN</th>\n",
       "      <th>SMOG</th>\n",
       "      <th>VADD</th>\n",
       "      <th>WATR</th>\n",
       "      <th>annual_count_avg</th>\n",
       "    </tr>\n",
       "  </thead>\n",
       "  <tbody>\n",
       "    <tr>\n",
       "      <th>0</th>\n",
       "      <td>22002344</td>\n",
       "      <td>91</td>\n",
       "      <td>128668</td>\n",
       "      <td>594</td>\n",
       "      <td>4954</td>\n",
       "      <td>299.152569</td>\n",
       "      <td>7.286445e+05</td>\n",
       "      <td>1963.026340</td>\n",
       "      <td>26.933851</td>\n",
       "      <td>709.634497</td>\n",
       "      <td>...</td>\n",
       "      <td>0.000000e+00</td>\n",
       "      <td>2149.369209</td>\n",
       "      <td>4.351692e+05</td>\n",
       "      <td>0.002923</td>\n",
       "      <td>3.497395e-02</td>\n",
       "      <td>293475.377416</td>\n",
       "      <td>2949.632736</td>\n",
       "      <td>79914.159702</td>\n",
       "      <td>7851.498268</td>\n",
       "      <td>2179.0</td>\n",
       "    </tr>\n",
       "    <tr>\n",
       "      <th>1</th>\n",
       "      <td>41609466</td>\n",
       "      <td>516</td>\n",
       "      <td>953498</td>\n",
       "      <td>3340</td>\n",
       "      <td>32629</td>\n",
       "      <td>133.420049</td>\n",
       "      <td>6.931874e+03</td>\n",
       "      <td>3765.662479</td>\n",
       "      <td>132.635472</td>\n",
       "      <td>4843.498718</td>\n",
       "      <td>...</td>\n",
       "      <td>1.674254e+04</td>\n",
       "      <td>16148.087370</td>\n",
       "      <td>4.932628e+03</td>\n",
       "      <td>0.007422</td>\n",
       "      <td>8.577729e-02</td>\n",
       "      <td>1999.246044</td>\n",
       "      <td>4438.579174</td>\n",
       "      <td>576096.081165</td>\n",
       "      <td>1633.902304</td>\n",
       "      <td>8579.0</td>\n",
       "    </tr>\n",
       "    <tr>\n",
       "      <th>2</th>\n",
       "      <td>19847485</td>\n",
       "      <td>410</td>\n",
       "      <td>53138</td>\n",
       "      <td>361</td>\n",
       "      <td>1715</td>\n",
       "      <td>102.817249</td>\n",
       "      <td>6.064801e+00</td>\n",
       "      <td>3298.083216</td>\n",
       "      <td>13.598555</td>\n",
       "      <td>126.810329</td>\n",
       "      <td>...</td>\n",
       "      <td>0.000000e+00</td>\n",
       "      <td>554.606997</td>\n",
       "      <td>0.000000e+00</td>\n",
       "      <td>0.000153</td>\n",
       "      <td>4.371549e-02</td>\n",
       "      <td>6.064801</td>\n",
       "      <td>3649.913530</td>\n",
       "      <td>29611.275038</td>\n",
       "      <td>511.844967</td>\n",
       "      <td>1052.0</td>\n",
       "    </tr>\n",
       "    <tr>\n",
       "      <th>3</th>\n",
       "      <td>16221839</td>\n",
       "      <td>469</td>\n",
       "      <td>20778</td>\n",
       "      <td>205</td>\n",
       "      <td>655</td>\n",
       "      <td>30.042694</td>\n",
       "      <td>2.012683e+04</td>\n",
       "      <td>1807.410043</td>\n",
       "      <td>4.819015</td>\n",
       "      <td>76.420984</td>\n",
       "      <td>...</td>\n",
       "      <td>0.000000e+00</td>\n",
       "      <td>309.053357</td>\n",
       "      <td>0.000000e+00</td>\n",
       "      <td>0.000593</td>\n",
       "      <td>2.437340e-02</td>\n",
       "      <td>20126.828138</td>\n",
       "      <td>1064.780004</td>\n",
       "      <td>10666.884789</td>\n",
       "      <td>285.555832</td>\n",
       "      <td>961.0</td>\n",
       "    </tr>\n",
       "    <tr>\n",
       "      <th>4</th>\n",
       "      <td>23008810</td>\n",
       "      <td>855</td>\n",
       "      <td>61132</td>\n",
       "      <td>455</td>\n",
       "      <td>2161</td>\n",
       "      <td>32.192658</td>\n",
       "      <td>1.131970e+01</td>\n",
       "      <td>416.998063</td>\n",
       "      <td>4.320160</td>\n",
       "      <td>232.490017</td>\n",
       "      <td>...</td>\n",
       "      <td>0.000000e+00</td>\n",
       "      <td>896.650774</td>\n",
       "      <td>0.000000e+00</td>\n",
       "      <td>0.002463</td>\n",
       "      <td>6.501047e-03</td>\n",
       "      <td>11.319704</td>\n",
       "      <td>1165.911030</td>\n",
       "      <td>36511.029249</td>\n",
       "      <td>98.727235</td>\n",
       "      <td>2327.0</td>\n",
       "    </tr>\n",
       "    <tr>\n",
       "      <th>...</th>\n",
       "      <td>...</td>\n",
       "      <td>...</td>\n",
       "      <td>...</td>\n",
       "      <td>...</td>\n",
       "      <td>...</td>\n",
       "      <td>...</td>\n",
       "      <td>...</td>\n",
       "      <td>...</td>\n",
       "      <td>...</td>\n",
       "      <td>...</td>\n",
       "      <td>...</td>\n",
       "      <td>...</td>\n",
       "      <td>...</td>\n",
       "      <td>...</td>\n",
       "      <td>...</td>\n",
       "      <td>...</td>\n",
       "      <td>...</td>\n",
       "      <td>...</td>\n",
       "      <td>...</td>\n",
       "      <td>...</td>\n",
       "      <td>...</td>\n",
       "    </tr>\n",
       "    <tr>\n",
       "      <th>3128</th>\n",
       "      <td>6352509</td>\n",
       "      <td>3774</td>\n",
       "      <td>491651</td>\n",
       "      <td>989</td>\n",
       "      <td>9029</td>\n",
       "      <td>587.935749</td>\n",
       "      <td>3.629382e+06</td>\n",
       "      <td>813.473206</td>\n",
       "      <td>105.117742</td>\n",
       "      <td>1001.624899</td>\n",
       "      <td>...</td>\n",
       "      <td>1.394053e+06</td>\n",
       "      <td>4115.339612</td>\n",
       "      <td>3.628234e+06</td>\n",
       "      <td>0.003711</td>\n",
       "      <td>8.917167e-03</td>\n",
       "      <td>1147.804947</td>\n",
       "      <td>19410.599796</td>\n",
       "      <td>312217.341832</td>\n",
       "      <td>5945.474594</td>\n",
       "      <td>1231.0</td>\n",
       "    </tr>\n",
       "    <tr>\n",
       "      <th>3129</th>\n",
       "      <td>7237066</td>\n",
       "      <td>4524</td>\n",
       "      <td>361056</td>\n",
       "      <td>1402</td>\n",
       "      <td>8689</td>\n",
       "      <td>37.178584</td>\n",
       "      <td>9.249760e+02</td>\n",
       "      <td>7592.166446</td>\n",
       "      <td>25.091516</td>\n",
       "      <td>2044.202199</td>\n",
       "      <td>...</td>\n",
       "      <td>8.200278e+00</td>\n",
       "      <td>6423.591808</td>\n",
       "      <td>4.857347e+02</td>\n",
       "      <td>0.003347</td>\n",
       "      <td>2.019774e-01</td>\n",
       "      <td>439.241290</td>\n",
       "      <td>1412.961358</td>\n",
       "      <td>210925.667302</td>\n",
       "      <td>1777.330068</td>\n",
       "      <td>773.0</td>\n",
       "    </tr>\n",
       "    <tr>\n",
       "      <th>3130</th>\n",
       "      <td>5811849</td>\n",
       "      <td>3813</td>\n",
       "      <td>145379</td>\n",
       "      <td>442</td>\n",
       "      <td>3287</td>\n",
       "      <td>96.737078</td>\n",
       "      <td>1.919977e+06</td>\n",
       "      <td>112.140420</td>\n",
       "      <td>13.936063</td>\n",
       "      <td>384.841414</td>\n",
       "      <td>...</td>\n",
       "      <td>3.997271e+05</td>\n",
       "      <td>1420.508279</td>\n",
       "      <td>1.919961e+06</td>\n",
       "      <td>0.000773</td>\n",
       "      <td>4.621011e-04</td>\n",
       "      <td>16.608615</td>\n",
       "      <td>3486.862556</td>\n",
       "      <td>97322.166731</td>\n",
       "      <td>582.400056</td>\n",
       "      <td>635.0</td>\n",
       "    </tr>\n",
       "    <tr>\n",
       "      <th>3131</th>\n",
       "      <td>4442825</td>\n",
       "      <td>3053</td>\n",
       "      <td>31951</td>\n",
       "      <td>283</td>\n",
       "      <td>907</td>\n",
       "      <td>31.417667</td>\n",
       "      <td>2.756565e+05</td>\n",
       "      <td>28.072519</td>\n",
       "      <td>4.183471</td>\n",
       "      <td>101.472042</td>\n",
       "      <td>...</td>\n",
       "      <td>0.000000e+00</td>\n",
       "      <td>518.501787</td>\n",
       "      <td>2.756546e+05</td>\n",
       "      <td>0.000140</td>\n",
       "      <td>3.860924e-07</td>\n",
       "      <td>1.845259</td>\n",
       "      <td>1176.237930</td>\n",
       "      <td>20257.950393</td>\n",
       "      <td>20.344697</td>\n",
       "      <td>411.0</td>\n",
       "    </tr>\n",
       "    <tr>\n",
       "      <th>3132</th>\n",
       "      <td>3570423</td>\n",
       "      <td>2565</td>\n",
       "      <td>19638</td>\n",
       "      <td>167</td>\n",
       "      <td>496</td>\n",
       "      <td>34.618906</td>\n",
       "      <td>4.287379e+05</td>\n",
       "      <td>68.249727</td>\n",
       "      <td>4.688287</td>\n",
       "      <td>96.308035</td>\n",
       "      <td>...</td>\n",
       "      <td>1.711363e+04</td>\n",
       "      <td>348.003649</td>\n",
       "      <td>4.286608e+05</td>\n",
       "      <td>0.000395</td>\n",
       "      <td>9.432837e-04</td>\n",
       "      <td>77.061234</td>\n",
       "      <td>1321.995548</td>\n",
       "      <td>12995.136488</td>\n",
       "      <td>47.904143</td>\n",
       "      <td>386.0</td>\n",
       "    </tr>\n",
       "  </tbody>\n",
       "</table>\n",
       "<p>3133 rows × 30 columns</p>\n",
       "</div>"
      ],
      "text/plain": [
       "      Unnamed: 0  county  payann  estab    emp        ACID          ENRG  \\\n",
       "0       22002344      91  128668    594   4954  299.152569  7.286445e+05   \n",
       "1       41609466     516  953498   3340  32629  133.420049  6.931874e+03   \n",
       "2       19847485     410   53138    361   1715  102.817249  6.064801e+00   \n",
       "3       16221839     469   20778    205    655   30.042694  2.012683e+04   \n",
       "4       23008810     855   61132    455   2161   32.192658  1.131970e+01   \n",
       "...          ...     ...     ...    ...    ...         ...           ...   \n",
       "3128     6352509    3774  491651    989   9029  587.935749  3.629382e+06   \n",
       "3129     7237066    4524  361056   1402   8689   37.178584  9.249760e+02   \n",
       "3130     5811849    3813  145379    442   3287   96.737078  1.919977e+06   \n",
       "3131     4442825    3053   31951    283    907   31.417667  2.756565e+05   \n",
       "3132     3570423    2565   19638    167    496   34.618906  4.287379e+05   \n",
       "\n",
       "             ETOX        EUTR         FOOD  ...          MINE           MSW  \\\n",
       "0     1963.026340   26.933851   709.634497  ...  0.000000e+00   2149.369209   \n",
       "1     3765.662479  132.635472  4843.498718  ...  1.674254e+04  16148.087370   \n",
       "2     3298.083216   13.598555   126.810329  ...  0.000000e+00    554.606997   \n",
       "3     1807.410043    4.819015    76.420984  ...  0.000000e+00    309.053357   \n",
       "4      416.998063    4.320160   232.490017  ...  0.000000e+00    896.650774   \n",
       "...           ...         ...          ...  ...           ...           ...   \n",
       "3128   813.473206  105.117742  1001.624899  ...  1.394053e+06   4115.339612   \n",
       "3129  7592.166446   25.091516  2044.202199  ...  8.200278e+00   6423.591808   \n",
       "3130   112.140420   13.936063   384.841414  ...  3.997271e+05   1420.508279   \n",
       "3131    28.072519    4.183471   101.472042  ...  0.000000e+00    518.501787   \n",
       "3132    68.249727    4.688287    96.308035  ...  1.711363e+04    348.003649   \n",
       "\n",
       "              NREN      OZON          PEST            REN          SMOG  \\\n",
       "0     4.351692e+05  0.002923  3.497395e-02  293475.377416   2949.632736   \n",
       "1     4.932628e+03  0.007422  8.577729e-02    1999.246044   4438.579174   \n",
       "2     0.000000e+00  0.000153  4.371549e-02       6.064801   3649.913530   \n",
       "3     0.000000e+00  0.000593  2.437340e-02   20126.828138   1064.780004   \n",
       "4     0.000000e+00  0.002463  6.501047e-03      11.319704   1165.911030   \n",
       "...            ...       ...           ...            ...           ...   \n",
       "3128  3.628234e+06  0.003711  8.917167e-03    1147.804947  19410.599796   \n",
       "3129  4.857347e+02  0.003347  2.019774e-01     439.241290   1412.961358   \n",
       "3130  1.919961e+06  0.000773  4.621011e-04      16.608615   3486.862556   \n",
       "3131  2.756546e+05  0.000140  3.860924e-07       1.845259   1176.237930   \n",
       "3132  4.286608e+05  0.000395  9.432837e-04      77.061234   1321.995548   \n",
       "\n",
       "               VADD         WATR  annual_count_avg  \n",
       "0      79914.159702  7851.498268            2179.0  \n",
       "1     576096.081165  1633.902304            8579.0  \n",
       "2      29611.275038   511.844967            1052.0  \n",
       "3      10666.884789   285.555832             961.0  \n",
       "4      36511.029249    98.727235            2327.0  \n",
       "...             ...          ...               ...  \n",
       "3128  312217.341832  5945.474594            1231.0  \n",
       "3129  210925.667302  1777.330068             773.0  \n",
       "3130   97322.166731   582.400056             635.0  \n",
       "3131   20257.950393    20.344697             411.0  \n",
       "3132   12995.136488    47.904143             386.0  \n",
       "\n",
       "[3133 rows x 30 columns]"
      ]
     },
     "execution_count": 2,
     "metadata": {},
     "output_type": "execute_result"
    }
   ],
   "source": [
    "df = pd.read_csv(\"merged_indicatorsVSCancer.csv\")\n",
    "df"
   ]
  },
  {
   "cell_type": "code",
   "execution_count": 3,
   "metadata": {},
   "outputs": [
    {
     "data": {
      "text/html": [
       "<div>\n",
       "<style scoped>\n",
       "    .dataframe tbody tr th:only-of-type {\n",
       "        vertical-align: middle;\n",
       "    }\n",
       "\n",
       "    .dataframe tbody tr th {\n",
       "        vertical-align: top;\n",
       "    }\n",
       "\n",
       "    .dataframe thead th {\n",
       "        text-align: right;\n",
       "    }\n",
       "</style>\n",
       "<table border=\"1\" class=\"dataframe\">\n",
       "  <thead>\n",
       "    <tr style=\"text-align: right;\">\n",
       "      <th></th>\n",
       "      <th>ACID</th>\n",
       "      <th>ENRG</th>\n",
       "      <th>ETOX</th>\n",
       "      <th>EUTR</th>\n",
       "      <th>FOOD</th>\n",
       "      <th>GCC</th>\n",
       "      <th>HAPS</th>\n",
       "      <th>HAZW</th>\n",
       "      <th>HC</th>\n",
       "      <th>HNC</th>\n",
       "      <th>...</th>\n",
       "      <th>MINE</th>\n",
       "      <th>MSW</th>\n",
       "      <th>NREN</th>\n",
       "      <th>OZON</th>\n",
       "      <th>PEST</th>\n",
       "      <th>REN</th>\n",
       "      <th>SMOG</th>\n",
       "      <th>VADD</th>\n",
       "      <th>WATR</th>\n",
       "      <th>annual_count_avg</th>\n",
       "    </tr>\n",
       "  </thead>\n",
       "  <tbody>\n",
       "    <tr>\n",
       "      <th>0</th>\n",
       "      <td>299.152569</td>\n",
       "      <td>7.286445e+05</td>\n",
       "      <td>1963.026340</td>\n",
       "      <td>26.933851</td>\n",
       "      <td>709.634497</td>\n",
       "      <td>106259.392004</td>\n",
       "      <td>10.732168</td>\n",
       "      <td>15.515155</td>\n",
       "      <td>0.000006</td>\n",
       "      <td>0.000024</td>\n",
       "      <td>...</td>\n",
       "      <td>0.000000e+00</td>\n",
       "      <td>2149.369209</td>\n",
       "      <td>4.351692e+05</td>\n",
       "      <td>0.002923</td>\n",
       "      <td>3.497395e-02</td>\n",
       "      <td>293475.377416</td>\n",
       "      <td>2949.632736</td>\n",
       "      <td>79914.159702</td>\n",
       "      <td>7851.498268</td>\n",
       "      <td>2179.0</td>\n",
       "    </tr>\n",
       "    <tr>\n",
       "      <th>1</th>\n",
       "      <td>133.420049</td>\n",
       "      <td>6.931874e+03</td>\n",
       "      <td>3765.662479</td>\n",
       "      <td>132.635472</td>\n",
       "      <td>4843.498718</td>\n",
       "      <td>43881.445254</td>\n",
       "      <td>31.163349</td>\n",
       "      <td>614.863426</td>\n",
       "      <td>0.000025</td>\n",
       "      <td>0.000110</td>\n",
       "      <td>...</td>\n",
       "      <td>1.674254e+04</td>\n",
       "      <td>16148.087370</td>\n",
       "      <td>4.932628e+03</td>\n",
       "      <td>0.007422</td>\n",
       "      <td>8.577729e-02</td>\n",
       "      <td>1999.246044</td>\n",
       "      <td>4438.579174</td>\n",
       "      <td>576096.081165</td>\n",
       "      <td>1633.902304</td>\n",
       "      <td>8579.0</td>\n",
       "    </tr>\n",
       "    <tr>\n",
       "      <th>2</th>\n",
       "      <td>102.817249</td>\n",
       "      <td>6.064801e+00</td>\n",
       "      <td>3298.083216</td>\n",
       "      <td>13.598555</td>\n",
       "      <td>126.810329</td>\n",
       "      <td>19913.180328</td>\n",
       "      <td>7.238123</td>\n",
       "      <td>3.329358</td>\n",
       "      <td>0.000016</td>\n",
       "      <td>0.000062</td>\n",
       "      <td>...</td>\n",
       "      <td>0.000000e+00</td>\n",
       "      <td>554.606997</td>\n",
       "      <td>0.000000e+00</td>\n",
       "      <td>0.000153</td>\n",
       "      <td>4.371549e-02</td>\n",
       "      <td>6.064801</td>\n",
       "      <td>3649.913530</td>\n",
       "      <td>29611.275038</td>\n",
       "      <td>511.844967</td>\n",
       "      <td>1052.0</td>\n",
       "    </tr>\n",
       "    <tr>\n",
       "      <th>3</th>\n",
       "      <td>30.042694</td>\n",
       "      <td>2.012683e+04</td>\n",
       "      <td>1807.410043</td>\n",
       "      <td>4.819015</td>\n",
       "      <td>76.420984</td>\n",
       "      <td>5751.086704</td>\n",
       "      <td>2.622439</td>\n",
       "      <td>4.793377</td>\n",
       "      <td>0.000005</td>\n",
       "      <td>0.000030</td>\n",
       "      <td>...</td>\n",
       "      <td>0.000000e+00</td>\n",
       "      <td>309.053357</td>\n",
       "      <td>0.000000e+00</td>\n",
       "      <td>0.000593</td>\n",
       "      <td>2.437340e-02</td>\n",
       "      <td>20126.828138</td>\n",
       "      <td>1064.780004</td>\n",
       "      <td>10666.884789</td>\n",
       "      <td>285.555832</td>\n",
       "      <td>961.0</td>\n",
       "    </tr>\n",
       "    <tr>\n",
       "      <th>4</th>\n",
       "      <td>32.192658</td>\n",
       "      <td>1.131970e+01</td>\n",
       "      <td>416.998063</td>\n",
       "      <td>4.320160</td>\n",
       "      <td>232.490017</td>\n",
       "      <td>6564.143301</td>\n",
       "      <td>3.770756</td>\n",
       "      <td>9.737300</td>\n",
       "      <td>0.000005</td>\n",
       "      <td>0.000021</td>\n",
       "      <td>...</td>\n",
       "      <td>0.000000e+00</td>\n",
       "      <td>896.650774</td>\n",
       "      <td>0.000000e+00</td>\n",
       "      <td>0.002463</td>\n",
       "      <td>6.501047e-03</td>\n",
       "      <td>11.319704</td>\n",
       "      <td>1165.911030</td>\n",
       "      <td>36511.029249</td>\n",
       "      <td>98.727235</td>\n",
       "      <td>2327.0</td>\n",
       "    </tr>\n",
       "    <tr>\n",
       "      <th>...</th>\n",
       "      <td>...</td>\n",
       "      <td>...</td>\n",
       "      <td>...</td>\n",
       "      <td>...</td>\n",
       "      <td>...</td>\n",
       "      <td>...</td>\n",
       "      <td>...</td>\n",
       "      <td>...</td>\n",
       "      <td>...</td>\n",
       "      <td>...</td>\n",
       "      <td>...</td>\n",
       "      <td>...</td>\n",
       "      <td>...</td>\n",
       "      <td>...</td>\n",
       "      <td>...</td>\n",
       "      <td>...</td>\n",
       "      <td>...</td>\n",
       "      <td>...</td>\n",
       "      <td>...</td>\n",
       "      <td>...</td>\n",
       "      <td>...</td>\n",
       "    </tr>\n",
       "    <tr>\n",
       "      <th>3128</th>\n",
       "      <td>587.935749</td>\n",
       "      <td>3.629382e+06</td>\n",
       "      <td>813.473206</td>\n",
       "      <td>105.117742</td>\n",
       "      <td>1001.624899</td>\n",
       "      <td>205214.901809</td>\n",
       "      <td>46.136744</td>\n",
       "      <td>40.714622</td>\n",
       "      <td>0.000113</td>\n",
       "      <td>0.000664</td>\n",
       "      <td>...</td>\n",
       "      <td>1.394053e+06</td>\n",
       "      <td>4115.339612</td>\n",
       "      <td>3.628234e+06</td>\n",
       "      <td>0.003711</td>\n",
       "      <td>8.917167e-03</td>\n",
       "      <td>1147.804947</td>\n",
       "      <td>19410.599796</td>\n",
       "      <td>312217.341832</td>\n",
       "      <td>5945.474594</td>\n",
       "      <td>1231.0</td>\n",
       "    </tr>\n",
       "    <tr>\n",
       "      <th>3129</th>\n",
       "      <td>37.178584</td>\n",
       "      <td>9.249760e+02</td>\n",
       "      <td>7592.166446</td>\n",
       "      <td>25.091516</td>\n",
       "      <td>2044.202199</td>\n",
       "      <td>14614.797183</td>\n",
       "      <td>39.699930</td>\n",
       "      <td>167.219233</td>\n",
       "      <td>0.000015</td>\n",
       "      <td>0.000061</td>\n",
       "      <td>...</td>\n",
       "      <td>8.200278e+00</td>\n",
       "      <td>6423.591808</td>\n",
       "      <td>4.857347e+02</td>\n",
       "      <td>0.003347</td>\n",
       "      <td>2.019774e-01</td>\n",
       "      <td>439.241290</td>\n",
       "      <td>1412.961358</td>\n",
       "      <td>210925.667302</td>\n",
       "      <td>1777.330068</td>\n",
       "      <td>773.0</td>\n",
       "    </tr>\n",
       "    <tr>\n",
       "      <th>3130</th>\n",
       "      <td>96.737078</td>\n",
       "      <td>1.919977e+06</td>\n",
       "      <td>112.140420</td>\n",
       "      <td>13.936063</td>\n",
       "      <td>384.841414</td>\n",
       "      <td>32123.362015</td>\n",
       "      <td>10.644368</td>\n",
       "      <td>8.324102</td>\n",
       "      <td>0.000019</td>\n",
       "      <td>0.000117</td>\n",
       "      <td>...</td>\n",
       "      <td>3.997271e+05</td>\n",
       "      <td>1420.508279</td>\n",
       "      <td>1.919961e+06</td>\n",
       "      <td>0.000773</td>\n",
       "      <td>4.621011e-04</td>\n",
       "      <td>16.608615</td>\n",
       "      <td>3486.862556</td>\n",
       "      <td>97322.166731</td>\n",
       "      <td>582.400056</td>\n",
       "      <td>635.0</td>\n",
       "    </tr>\n",
       "    <tr>\n",
       "      <th>3131</th>\n",
       "      <td>31.417667</td>\n",
       "      <td>2.756565e+05</td>\n",
       "      <td>28.072519</td>\n",
       "      <td>4.183471</td>\n",
       "      <td>101.472042</td>\n",
       "      <td>6346.644246</td>\n",
       "      <td>2.766800</td>\n",
       "      <td>2.369265</td>\n",
       "      <td>0.000005</td>\n",
       "      <td>0.000024</td>\n",
       "      <td>...</td>\n",
       "      <td>0.000000e+00</td>\n",
       "      <td>518.501787</td>\n",
       "      <td>2.756546e+05</td>\n",
       "      <td>0.000140</td>\n",
       "      <td>3.860924e-07</td>\n",
       "      <td>1.845259</td>\n",
       "      <td>1176.237930</td>\n",
       "      <td>20257.950393</td>\n",
       "      <td>20.344697</td>\n",
       "      <td>411.0</td>\n",
       "    </tr>\n",
       "    <tr>\n",
       "      <th>3132</th>\n",
       "      <td>34.618906</td>\n",
       "      <td>4.287379e+05</td>\n",
       "      <td>68.249727</td>\n",
       "      <td>4.688287</td>\n",
       "      <td>96.308035</td>\n",
       "      <td>8445.776762</td>\n",
       "      <td>3.359196</td>\n",
       "      <td>1.517319</td>\n",
       "      <td>0.000008</td>\n",
       "      <td>0.000049</td>\n",
       "      <td>...</td>\n",
       "      <td>1.711363e+04</td>\n",
       "      <td>348.003649</td>\n",
       "      <td>4.286608e+05</td>\n",
       "      <td>0.000395</td>\n",
       "      <td>9.432837e-04</td>\n",
       "      <td>77.061234</td>\n",
       "      <td>1321.995548</td>\n",
       "      <td>12995.136488</td>\n",
       "      <td>47.904143</td>\n",
       "      <td>386.0</td>\n",
       "    </tr>\n",
       "  </tbody>\n",
       "</table>\n",
       "<p>3133 rows × 25 columns</p>\n",
       "</div>"
      ],
      "text/plain": [
       "            ACID          ENRG         ETOX        EUTR         FOOD  \\\n",
       "0     299.152569  7.286445e+05  1963.026340   26.933851   709.634497   \n",
       "1     133.420049  6.931874e+03  3765.662479  132.635472  4843.498718   \n",
       "2     102.817249  6.064801e+00  3298.083216   13.598555   126.810329   \n",
       "3      30.042694  2.012683e+04  1807.410043    4.819015    76.420984   \n",
       "4      32.192658  1.131970e+01   416.998063    4.320160   232.490017   \n",
       "...          ...           ...          ...         ...          ...   \n",
       "3128  587.935749  3.629382e+06   813.473206  105.117742  1001.624899   \n",
       "3129   37.178584  9.249760e+02  7592.166446   25.091516  2044.202199   \n",
       "3130   96.737078  1.919977e+06   112.140420   13.936063   384.841414   \n",
       "3131   31.417667  2.756565e+05    28.072519    4.183471   101.472042   \n",
       "3132   34.618906  4.287379e+05    68.249727    4.688287    96.308035   \n",
       "\n",
       "                GCC       HAPS        HAZW        HC       HNC  ...  \\\n",
       "0     106259.392004  10.732168   15.515155  0.000006  0.000024  ...   \n",
       "1      43881.445254  31.163349  614.863426  0.000025  0.000110  ...   \n",
       "2      19913.180328   7.238123    3.329358  0.000016  0.000062  ...   \n",
       "3       5751.086704   2.622439    4.793377  0.000005  0.000030  ...   \n",
       "4       6564.143301   3.770756    9.737300  0.000005  0.000021  ...   \n",
       "...             ...        ...         ...       ...       ...  ...   \n",
       "3128  205214.901809  46.136744   40.714622  0.000113  0.000664  ...   \n",
       "3129   14614.797183  39.699930  167.219233  0.000015  0.000061  ...   \n",
       "3130   32123.362015  10.644368    8.324102  0.000019  0.000117  ...   \n",
       "3131    6346.644246   2.766800    2.369265  0.000005  0.000024  ...   \n",
       "3132    8445.776762   3.359196    1.517319  0.000008  0.000049  ...   \n",
       "\n",
       "              MINE           MSW          NREN      OZON          PEST  \\\n",
       "0     0.000000e+00   2149.369209  4.351692e+05  0.002923  3.497395e-02   \n",
       "1     1.674254e+04  16148.087370  4.932628e+03  0.007422  8.577729e-02   \n",
       "2     0.000000e+00    554.606997  0.000000e+00  0.000153  4.371549e-02   \n",
       "3     0.000000e+00    309.053357  0.000000e+00  0.000593  2.437340e-02   \n",
       "4     0.000000e+00    896.650774  0.000000e+00  0.002463  6.501047e-03   \n",
       "...            ...           ...           ...       ...           ...   \n",
       "3128  1.394053e+06   4115.339612  3.628234e+06  0.003711  8.917167e-03   \n",
       "3129  8.200278e+00   6423.591808  4.857347e+02  0.003347  2.019774e-01   \n",
       "3130  3.997271e+05   1420.508279  1.919961e+06  0.000773  4.621011e-04   \n",
       "3131  0.000000e+00    518.501787  2.756546e+05  0.000140  3.860924e-07   \n",
       "3132  1.711363e+04    348.003649  4.286608e+05  0.000395  9.432837e-04   \n",
       "\n",
       "                REN          SMOG           VADD         WATR  \\\n",
       "0     293475.377416   2949.632736   79914.159702  7851.498268   \n",
       "1       1999.246044   4438.579174  576096.081165  1633.902304   \n",
       "2          6.064801   3649.913530   29611.275038   511.844967   \n",
       "3      20126.828138   1064.780004   10666.884789   285.555832   \n",
       "4         11.319704   1165.911030   36511.029249    98.727235   \n",
       "...             ...           ...            ...          ...   \n",
       "3128    1147.804947  19410.599796  312217.341832  5945.474594   \n",
       "3129     439.241290   1412.961358  210925.667302  1777.330068   \n",
       "3130      16.608615   3486.862556   97322.166731   582.400056   \n",
       "3131       1.845259   1176.237930   20257.950393    20.344697   \n",
       "3132      77.061234   1321.995548   12995.136488    47.904143   \n",
       "\n",
       "      annual_count_avg  \n",
       "0               2179.0  \n",
       "1               8579.0  \n",
       "2               1052.0  \n",
       "3                961.0  \n",
       "4               2327.0  \n",
       "...                ...  \n",
       "3128            1231.0  \n",
       "3129             773.0  \n",
       "3130             635.0  \n",
       "3131             411.0  \n",
       "3132             386.0  \n",
       "\n",
       "[3133 rows x 25 columns]"
      ]
     },
     "execution_count": 3,
     "metadata": {},
     "output_type": "execute_result"
    }
   ],
   "source": [
    "data=df[['ACID', 'ENRG',\n",
    "       'ETOX', 'EUTR', 'FOOD', 'GCC', 'HAPS', 'HAZW', 'HC', 'HNC', 'HRSP',\n",
    "       'HTOX', 'JOBS', 'LAND', 'METL', 'MINE', 'MSW', 'NREN', 'OZON', 'PEST',\n",
    "       'REN', 'SMOG', 'VADD', 'WATR', 'annual_count_avg']]\n",
    "data"
   ]
  },
  {
   "cell_type": "markdown",
   "metadata": {},
   "source": [
    "# Random Forest Regressor for environmental factors in a county and cancer rates"
   ]
  },
  {
   "cell_type": "markdown",
   "metadata": {},
   "source": [
    "### Splitting to test and train"
   ]
  },
  {
   "cell_type": "code",
   "execution_count": 4,
   "metadata": {},
   "outputs": [
    {
     "name": "stdout",
     "output_type": "stream",
     "text": [
      "XTrain (2193, 24)\n",
      "XTest (940, 24)\n"
     ]
    }
   ],
   "source": [
    "from sklearn.model_selection import train_test_split\n",
    "x1=data.loc[:, :'WATR']\n",
    "y = data['annual_count_avg']\n",
    "\n",
    "X_train1, X_test1, y_train, y_test = train_test_split(x1, y,\n",
    "                                                    test_size=0.3,\n",
    "                                                    random_state = RSEED)\n",
    "\n",
    "scaler = StandardScaler()\n",
    "scaler.fit(X_train1)\n",
    "\n",
    "X_train = scaler.transform(X_train1)\n",
    "X_test = scaler.transform(X_test1)\n",
    "\n",
    "print(\"XTrain\",X_train.shape)\n",
    "print(\"XTest\",X_test.shape)\n",
    "\n"
   ]
  },
  {
   "cell_type": "markdown",
   "metadata": {},
   "source": [
    "### Creating Random Forest Model"
   ]
  },
  {
   "cell_type": "code",
   "execution_count": 5,
   "metadata": {},
   "outputs": [
    {
     "data": {
      "text/plain": [
       "RandomForestRegressor(bootstrap=True, ccp_alpha=0.0, criterion='mse',\n",
       "                      max_depth=None, max_features='auto', max_leaf_nodes=None,\n",
       "                      max_samples=None, min_impurity_decrease=0.0,\n",
       "                      min_impurity_split=None, min_samples_leaf=1,\n",
       "                      min_samples_split=2, min_weight_fraction_leaf=0.0,\n",
       "                      n_estimators=100, n_jobs=None, oob_score=False,\n",
       "                      random_state=100, verbose=0, warm_start=False)"
      ]
     },
     "execution_count": 5,
     "metadata": {},
     "output_type": "execute_result"
    }
   ],
   "source": [
    "from sklearn.ensemble import RandomForestRegressor\n",
    "\n",
    "# Create the model with 10 trees\n",
    "regressor = RandomForestRegressor(n_estimators = 100,\n",
    "                                  random_state = RSEED)\n",
    "\n",
    "# Fit on training data\n",
    "regressor.fit(X_train, y_train)"
   ]
  },
  {
   "cell_type": "markdown",
   "metadata": {},
   "source": [
    "### Evaluation"
   ]
  },
  {
   "cell_type": "code",
   "execution_count": 6,
   "metadata": {},
   "outputs": [
    {
     "name": "stdout",
     "output_type": "stream",
     "text": [
      "Evaluation for train:\n",
      "\n",
      "Accuracy Train -inf%\n",
      "r2_score Train: 0.9603257019945082\n",
      "\n",
      "\n",
      "Evaluation for test:\n",
      "\n",
      "Accuracy Test -inf%\n",
      "r2_score Test: 0.8700949707169692\n",
      "score 0.8700949707169692\n"
     ]
    }
   ],
   "source": [
    "from sklearn import metrics\n",
    "train_rf_predictions = regressor.predict(X_train)\n",
    "rf_predictions = regressor.predict(X_test)\n",
    "MAE_train = metrics.mean_absolute_error(y_train, train_rf_predictions)\n",
    "RMSE_train = np.sqrt(metrics.mean_squared_error(y_train, train_rf_predictions))\n",
    "MAPE_train = 100 * np.mean(abs(train_rf_predictions - y_train)/abs(y_train))\n",
    "accuracy_train = 100 - MAPE_train\n",
    "r2_train = metrics.r2_score(y_train, train_rf_predictions)\n",
    "\n",
    "MAE_test = metrics.mean_absolute_error(y_test, rf_predictions)\n",
    "RMSE_test = np.sqrt(metrics.mean_squared_error(y_test, rf_predictions))\n",
    "MAPE_test = 100 * np.mean(abs(rf_predictions - y_test)/abs(y_test))\n",
    "accuracy_test = 100 - MAPE_test\n",
    "r2_test = metrics.r2_score(y_test, rf_predictions)\n",
    "print(\"Evaluation for train:\")\n",
    "print()\n",
    "#print('Mean Absolute Error Train:', MAE_train)    \n",
    "#print('Root Mean Squared Error Train:', RMSE_train)\n",
    "#print('Mean Absolute Percentage Error Train:', MAPE_train)\n",
    "print('Accuracy Train', str(accuracy_train) + \"%\")\n",
    "print('r2_score Train:',r2_train)\n",
    "print()\n",
    "print()\n",
    "print(\"Evaluation for test:\")\n",
    "print()\n",
    "#print('Mean Absolute Error Test:', MAE_test)    \n",
    "#print('Root Mean Squared Error Test:', RMSE_test)\n",
    "#print('Mean Absolute Percentage Error Test:', MAPE_test)\n",
    "print('Accuracy Test', str(accuracy_test) + \"%\")\n",
    "print('r2_score Test:', r2_test)\n",
    "print(\"score\",regressor.score(X_test, y_test))"
   ]
  },
  {
   "cell_type": "code",
   "execution_count": 7,
   "metadata": {},
   "outputs": [
    {
     "data": {
      "text/plain": [
       "Text(0, 0.5, 'Feature')"
      ]
     },
     "execution_count": 7,
     "metadata": {},
     "output_type": "execute_result"
    },
    {
     "data": {
      "image/png": "[encoded data removed]",
      "text/plain": [
       "<Figure size 432x288 with 1 Axes>"
      ]
     },
     "metadata": {
      "needs_background": "light"
     },
     "output_type": "display_data"
    }
   ],
   "source": [
    "ind = np.argsort(regressor.feature_importances_)[::-1]\n",
    "imp = regressor.feature_importances_[ind][:24]\n",
    "cols =x1.columns[ind][:24]\n",
    "pl = pd.Series(imp, index=cols).plot(kind='barh', title='Random Forest Feature Importance')\n",
    "pl.set_xlabel(\"Coefficient Strength\")\n",
    "pl.set_ylabel(\"Feature\")"
   ]
  },
  {
   "cell_type": "markdown",
   "metadata": {},
   "source": [
    "# Random Forest Regressor for HTOX,HC"
   ]
  },
  {
   "cell_type": "markdown",
   "metadata": {},
   "source": [
    "### Splitting to test and train"
   ]
  },
  {
   "cell_type": "code",
   "execution_count": 8,
   "metadata": {},
   "outputs": [
    {
     "name": "stdout",
     "output_type": "stream",
     "text": [
      "XTrain (2193, 2)\n",
      "XTest (940, 2)\n"
     ]
    }
   ],
   "source": [
    "from sklearn.model_selection import train_test_split\n",
    "x1=data[['HTOX','HC']]\n",
    "\n",
    "y = data['annual_count_avg']\n",
    "\n",
    "X_train1, X_test1, y_train, y_test = train_test_split(x1, y,\n",
    "                                                    test_size=0.3,\n",
    "                                                    random_state = RSEED)\n",
    "\n",
    "scaler = StandardScaler()\n",
    "scaler.fit(X_train1)\n",
    "\n",
    "X_train = scaler.transform(X_train1)\n",
    "X_test = scaler.transform(X_test1)\n",
    "\n",
    "print(\"XTrain\",X_train.shape)\n",
    "print(\"XTest\",X_test.shape)\n"
   ]
  },
  {
   "cell_type": "markdown",
   "metadata": {},
   "source": [
    "### Creating Random Forest Model"
   ]
  },
  {
   "cell_type": "code",
   "execution_count": 9,
   "metadata": {},
   "outputs": [
    {
     "data": {
      "text/plain": [
       "RandomForestRegressor(bootstrap=True, ccp_alpha=0.0, criterion='mse',\n",
       "                      max_depth=None, max_features='auto', max_leaf_nodes=None,\n",
       "                      max_samples=None, min_impurity_decrease=0.0,\n",
       "                      min_impurity_split=None, min_samples_leaf=1,\n",
       "                      min_samples_split=2, min_weight_fraction_leaf=0.0,\n",
       "                      n_estimators=100, n_jobs=None, oob_score=False,\n",
       "                      random_state=100, verbose=0, warm_start=False)"
      ]
     },
     "execution_count": 9,
     "metadata": {},
     "output_type": "execute_result"
    }
   ],
   "source": [
    "from sklearn.ensemble import RandomForestRegressor\n",
    "\n",
    "# Create the model with 10 trees\n",
    "regressor2 = RandomForestRegressor(n_estimators = 100,\n",
    "                                  random_state = RSEED)\n",
    "\n",
    "# Fit on training data\n",
    "regressor2.fit(X_train, y_train)"
   ]
  },
  {
   "cell_type": "markdown",
   "metadata": {},
   "source": [
    "### Evaluation"
   ]
  },
  {
   "cell_type": "code",
   "execution_count": 10,
   "metadata": {},
   "outputs": [
    {
     "name": "stdout",
     "output_type": "stream",
     "text": [
      "Evaluation for train:\n",
      "\n",
      "Accuracy Train -inf%\n",
      "r2_score Train: 0.9406317407812158\n",
      "\n",
      "\n",
      "Evaluation for test:\n",
      "\n",
      "Accuracy Test -inf%\n",
      "r2_score Test: 0.41378470045227933\n",
      "score 0.41378470045227933\n"
     ]
    }
   ],
   "source": [
    "from sklearn import metrics\n",
    "train_rf_predictions = regressor2.predict(X_train)\n",
    "rf_predictions = regressor2.predict(X_test)\n",
    "MAE_train = metrics.mean_absolute_error(y_train, train_rf_predictions)\n",
    "RMSE_train = np.sqrt(metrics.mean_squared_error(y_train, train_rf_predictions))\n",
    "MAPE_train = 100 * np.mean(abs(train_rf_predictions - y_train)/abs(y_train))\n",
    "accuracy_train = 100 - MAPE_train\n",
    "r2_train = metrics.r2_score(y_train, train_rf_predictions)\n",
    "\n",
    "MAE_test = metrics.mean_absolute_error(y_test, rf_predictions)\n",
    "RMSE_test = np.sqrt(metrics.mean_squared_error(y_test, rf_predictions))\n",
    "MAPE_test = 100 * np.mean(abs(rf_predictions - y_test)/abs(y_test))\n",
    "accuracy_test = 100 - MAPE_test\n",
    "r2_test = metrics.r2_score(y_test, rf_predictions)\n",
    "print(\"Evaluation for train:\")\n",
    "print()\n",
    "#print('Mean Absolute Error Train:', MAE_train)    \n",
    "#print('Root Mean Squared Error Train:', RMSE_train)\n",
    "#print('Mean Absolute Percentage Error Train:', MAPE_train)\n",
    "print('Accuracy Train', str(accuracy_train) + \"%\")\n",
    "print('r2_score Train:',r2_train)\n",
    "print()\n",
    "print()\n",
    "print(\"Evaluation for test:\")\n",
    "print()\n",
    "#print('Mean Absolute Error Test:', MAE_test)    \n",
    "#print('Root Mean Squared Error Test:', RMSE_test)\n",
    "#print('Mean Absolute Percentage Error Test:', MAPE_test)\n",
    "print('Accuracy Test', str(accuracy_test) + \"%\")\n",
    "print('r2_score Test:', r2_test)\n",
    "print(\"score\",regressor2.score(X_test, y_test))"
   ]
  },
  {
   "cell_type": "code",
   "execution_count": 11,
   "metadata": {},
   "outputs": [
    {
     "data": {
      "text/plain": [
       "Text(0, 0.5, 'Feature')"
      ]
     },
     "execution_count": 11,
     "metadata": {},
     "output_type": "execute_result"
    },
    {
     "data": {
      "image/png": "[encoded data removed]",
      "text/plain": [
       "<Figure size 432x288 with 1 Axes>"
      ]
     },
     "metadata": {
      "needs_background": "light"
     },
     "output_type": "display_data"
    }
   ],
   "source": [
    "ind = np.argsort(regressor2.feature_importances_)[::-1]\n",
    "imp = regressor2.feature_importances_[ind][:2]\n",
    "cols =x1.columns[ind][:2]\n",
    "#print(imp)\n",
    "pl = pd.Series(imp, index=cols).plot(kind='barh', title='Random Forest Feature Importance')\n",
    "pl.set_xlabel(\"Coefficient Strength\")\n",
    "pl.set_ylabel(\"Feature\")"
   ]
  },
  {
   "cell_type": "markdown",
   "metadata": {},
   "source": [
    "# Logistic Regression for environmental factors in a county and cancer rates"
   ]
  },
  {
   "cell_type": "markdown",
   "metadata": {},
   "source": [
    "### Splitting test and train"
   ]
  },
  {
   "cell_type": "code",
   "execution_count": 12,
   "metadata": {},
   "outputs": [
    {
     "name": "stdout",
     "output_type": "stream",
     "text": [
      "XTrain (2193, 24)\n",
      "XTest (940, 24)\n"
     ]
    }
   ],
   "source": [
    "from sklearn.model_selection import train_test_split\n",
    "x1=data.loc[:, :'WATR']\n",
    "y = data['annual_count_avg']\n",
    "\n",
    "X_train1, X_test1, y_train, y_test = train_test_split(x1, y,\n",
    "                                                    test_size=0.3,\n",
    "                                                    random_state = RSEED)\n",
    "\n",
    "scaler = StandardScaler()\n",
    "scaler.fit(X_train1)\n",
    "\n",
    "X_train = scaler.transform(X_train1)\n",
    "X_test = scaler.transform(X_test1)\n",
    "\n",
    "print(\"XTrain\",X_train.shape)\n",
    "print(\"XTest\",X_test.shape)\n",
    "\n"
   ]
  },
  {
   "cell_type": "markdown",
   "metadata": {},
   "source": [
    "### Creating LR model"
   ]
  },
  {
   "cell_type": "code",
   "execution_count": 13,
   "metadata": {},
   "outputs": [
    {
     "name": "stderr",
     "output_type": "stream",
     "text": [
      "C:\\Users\\Owner\\Miniconda3\\lib\\site-packages\\sklearn\\linear_model\\_logistic.py:940: ConvergenceWarning: lbfgs failed to converge (status=1):\n",
      "STOP: TOTAL NO. of ITERATIONS REACHED LIMIT.\n",
      "\n",
      "Increase the number of iterations (max_iter) or scale the data as shown in:\n",
      "    https://scikit-learn.org/stable/modules/preprocessing.html\n",
      "Please also refer to the documentation for alternative solver options:\n",
      "    https://scikit-learn.org/stable/modules/linear_model.html#logistic-regression\n",
      "  extra_warning_msg=_LOGISTIC_SOLVER_CONVERGENCE_MSG)\n"
     ]
    },
    {
     "data": {
      "text/plain": [
       "LogisticRegression(C=1.0, class_weight=None, dual=False, fit_intercept=True,\n",
       "                   intercept_scaling=1, l1_ratio=None, max_iter=100,\n",
       "                   multi_class='auto', n_jobs=None, penalty='l2',\n",
       "                   random_state=None, solver='lbfgs', tol=0.0001, verbose=0,\n",
       "                   warm_start=False)"
      ]
     },
     "execution_count": 13,
     "metadata": {},
     "output_type": "execute_result"
    }
   ],
   "source": [
    "from sklearn.linear_model import LogisticRegression\n",
    "# Create the model \n",
    "lr = LogisticRegression()\n",
    "\n",
    "# Fit on training data\n",
    "lr.fit(X_train, y_train)"
   ]
  },
  {
   "cell_type": "markdown",
   "metadata": {},
   "source": [
    "### Evaluation"
   ]
  },
  {
   "cell_type": "code",
   "execution_count": 14,
   "metadata": {},
   "outputs": [
    {
     "name": "stdout",
     "output_type": "stream",
     "text": [
      "Evaluation for train:\n",
      "\n",
      "Accuracy Train -inf%\n",
      "r2_score Train: 0.8585743357921237\n",
      "\n",
      "\n",
      "Evaluation for test:\n",
      "\n",
      "Accuracy Test -inf%\n",
      "r2_score Test: 0.4621527729275319\n",
      "score 0.06170212765957447\n"
     ]
    }
   ],
   "source": [
    "from sklearn import metrics\n",
    "train_rf_predictions = lr.predict(X_train)\n",
    "rf_predictions = lr.predict(X_test)\n",
    "MAE_train = metrics.mean_absolute_error(y_train, train_rf_predictions)\n",
    "RMSE_train = np.sqrt(metrics.mean_squared_error(y_train, train_rf_predictions))\n",
    "MAPE_train = 100 * np.mean(abs(train_rf_predictions - y_train)/abs(y_train))\n",
    "accuracy_train = 100 - MAPE_train\n",
    "r2_train = metrics.r2_score(y_train, train_rf_predictions)\n",
    "\n",
    "MAE_test = metrics.mean_absolute_error(y_test, rf_predictions)\n",
    "RMSE_test = np.sqrt(metrics.mean_squared_error(y_test, rf_predictions))\n",
    "MAPE_test = 100 * np.mean(abs(rf_predictions - y_test)/abs(y_test))\n",
    "accuracy_test = 100 - MAPE_test\n",
    "r2_test = metrics.r2_score(y_test, rf_predictions)\n",
    "print(\"Evaluation for train:\")\n",
    "print()\n",
    "#print('Mean Absolute Error Train:', MAE_train)    \n",
    "#print('Root Mean Squared Error Train:', RMSE_train)\n",
    "#print('Mean Absolute Percentage Error Train:', MAPE_train)\n",
    "print('Accuracy Train', str(accuracy_train) + \"%\")\n",
    "print('r2_score Train:',r2_train)\n",
    "print()\n",
    "print()\n",
    "print(\"Evaluation for test:\")\n",
    "print()\n",
    "#print('Mean Absolute Error Test:', MAE_test)    \n",
    "#print('Root Mean Squared Error Test:', RMSE_test)\n",
    "#print('Mean Absolute Percentage Error Test:', MAPE_test)\n",
    "print('Accuracy Test', str(accuracy_test) + \"%\")\n",
    "print('r2_score Test:', r2_test)\n",
    "print(\"score\",lr.score(X_test, y_test))"
   ]
  },
  {
   "cell_type": "code",
   "execution_count": 15,
   "metadata": {},
   "outputs": [],
   "source": [
    "#ind = np.argsort(np.abs(lr.coef_))[::-1][:24]\n",
    "#cols =x1.columns[ind]\n",
    "#vals = np.sort(np.abs(lr.coef_))[::-1][:24]\n",
    "#print(cols,vals)\n",
    "#pt = pd.Series(vals, index=cols).plot('barh', title = 'Important variables in Linear Regression')\n",
    "#pl.set_xlabel(\"Coefficient Strength\")\n",
    "#pl.set_ylabel(\"Feature\")"
   ]
  },
  {
   "cell_type": "markdown",
   "metadata": {},
   "source": [
    "# Logistic Regression for HTOX,HC"
   ]
  },
  {
   "cell_type": "markdown",
   "metadata": {},
   "source": [
    "### Splitting test and train"
   ]
  },
  {
   "cell_type": "code",
   "execution_count": 16,
   "metadata": {},
   "outputs": [
    {
     "name": "stdout",
     "output_type": "stream",
     "text": [
      "XTrain (2193, 2)\n",
      "XTest (940, 2)\n"
     ]
    }
   ],
   "source": [
    "from sklearn.model_selection import train_test_split\n",
    "x1=data[['HTOX','HC']]\n",
    "\n",
    "y = data['annual_count_avg']\n",
    "\n",
    "X_train1, X_test1, y_train, y_test = train_test_split(x1, y,\n",
    "                                                    test_size=0.3,\n",
    "                                                    random_state = RSEED)\n",
    "\n",
    "scaler = StandardScaler()\n",
    "scaler.fit(X_train1)\n",
    "\n",
    "X_train = scaler.transform(X_train1)\n",
    "X_test = scaler.transform(X_test1)\n",
    "\n",
    "print(\"XTrain\",X_train.shape)\n",
    "print(\"XTest\",X_test.shape)\n"
   ]
  },
  {
   "cell_type": "markdown",
   "metadata": {},
   "source": [
    "### Creating LR model"
   ]
  },
  {
   "cell_type": "code",
   "execution_count": 17,
   "metadata": {},
   "outputs": [
    {
     "name": "stderr",
     "output_type": "stream",
     "text": [
      "C:\\Users\\Owner\\Miniconda3\\lib\\site-packages\\sklearn\\linear_model\\_logistic.py:940: ConvergenceWarning: lbfgs failed to converge (status=1):\n",
      "STOP: TOTAL NO. of ITERATIONS REACHED LIMIT.\n",
      "\n",
      "Increase the number of iterations (max_iter) or scale the data as shown in:\n",
      "    https://scikit-learn.org/stable/modules/preprocessing.html\n",
      "Please also refer to the documentation for alternative solver options:\n",
      "    https://scikit-learn.org/stable/modules/linear_model.html#logistic-regression\n",
      "  extra_warning_msg=_LOGISTIC_SOLVER_CONVERGENCE_MSG)\n"
     ]
    },
    {
     "data": {
      "text/plain": [
       "LogisticRegression(C=1.0, class_weight=None, dual=False, fit_intercept=True,\n",
       "                   intercept_scaling=1, l1_ratio=None, max_iter=100,\n",
       "                   multi_class='auto', n_jobs=None, penalty='l2',\n",
       "                   random_state=None, solver='lbfgs', tol=0.0001, verbose=0,\n",
       "                   warm_start=False)"
      ]
     },
     "execution_count": 17,
     "metadata": {},
     "output_type": "execute_result"
    }
   ],
   "source": [
    "from sklearn.linear_model import LogisticRegression\n",
    "# Create the model \n",
    "lr = LogisticRegression()\n",
    "\n",
    "# Fit on training data\n",
    "lr.fit(X_train, y_train)"
   ]
  },
  {
   "cell_type": "markdown",
   "metadata": {},
   "source": [
    "### Evaluation"
   ]
  },
  {
   "cell_type": "code",
   "execution_count": 18,
   "metadata": {},
   "outputs": [
    {
     "name": "stdout",
     "output_type": "stream",
     "text": [
      "Evaluation for train:\n",
      "\n",
      "Accuracy Train 0.3190437064941989%\n",
      "r2_score Train: 0.4714775218611794\n",
      "\n",
      "\n",
      "Evaluation for test:\n",
      "\n",
      "Accuracy Test -0.16613741029571827%\n",
      "r2_score Test: 0.11461408330990763\n"
     ]
    }
   ],
   "source": [
    "from sklearn import metrics\n",
    "train_rf_predictions = lr.predict(X_train)\n",
    "rf_predictions = lr.predict(X_test)\n",
    "MAE_train = metrics.mean_absolute_error(y_train, train_rf_predictions)\n",
    "RMSE_train = np.sqrt(metrics.mean_squared_error(y_train, train_rf_predictions))\n",
    "MAPE_train = 100 * np.mean(abs(train_rf_predictions - y_train)/abs(y_train))\n",
    "accuracy_train = 100 - MAPE_train\n",
    "r2_train = metrics.r2_score(y_train, train_rf_predictions)\n",
    "\n",
    "MAE_test = metrics.mean_absolute_error(y_test, rf_predictions)\n",
    "RMSE_test = np.sqrt(metrics.mean_squared_error(y_test, rf_predictions))\n",
    "MAPE_test = 100 * np.mean(abs(rf_predictions - y_test)/abs(y_test))\n",
    "accuracy_test = 100 - MAPE_test\n",
    "r2_test = metrics.r2_score(y_test, rf_predictions)\n",
    "print(\"Evaluation for train:\")\n",
    "print()\n",
    "#print('Mean Absolute Error Train:', MAE_train)    \n",
    "#print('Root Mean Squared Error Train:', RMSE_train)\n",
    "#print('Mean Absolute Percentage Error Train:', MAPE_train)\n",
    "print('Accuracy Train', str(accuracy_train) + \"%\")\n",
    "print('r2_score Train:',r2_train)\n",
    "print()\n",
    "print()\n",
    "print(\"Evaluation for test:\")\n",
    "print()\n",
    "#print('Mean Absolute Error Test:', MAE_test)    \n",
    "#print('Root Mean Squared Error Test:', RMSE_test)\n",
    "#print('Mean Absolute Percentage Error Test:', MAPE_test)\n",
    "print('Accuracy Test', str(accuracy_test) + \"%\")\n",
    "print('r2_score Test:', r2_test)\n",
    "print(\"score\",lr.score(X_test, y_test))"
   ]
  },
  {
   "cell_type": "markdown",
   "metadata": {},
   "source": [
    "# SVR for environmental factors in a county and cancer rates"
   ]
  },
  {
   "cell_type": "markdown",
   "metadata": {},
   "source": [
    "### Splitting test and train"
   ]
  },
  {
   "cell_type": "code",
   "execution_count": 25,
   "metadata": {},
   "outputs": [
    {
     "name": "stdout",
     "output_type": "stream",
     "text": [
      "XTrain (2193, 24)\n",
      "XTest (940, 24)\n"
     ]
    }
   ],
   "source": [
    "from sklearn.model_selection import train_test_split\n",
    "x1=data.loc[:, :'WATR']\n",
    "y = data['annual_count_avg']\n",
    "\n",
    "X_train1, X_test1, y_train, y_test = train_test_split(x1, y,\n",
    "                                                    test_size=0.3,\n",
    "                                                    random_state = RSEED)\n",
    "\n",
    "scaler = StandardScaler()\n",
    "scaler.fit(X_train1)\n",
    "\n",
    "X_train = scaler.transform(X_train1)\n",
    "X_test = scaler.transform(X_test1)\n",
    "\n",
    "print(\"XTrain\",X_train.shape)\n",
    "print(\"XTest\",X_test.shape)\n",
    "\n"
   ]
  },
  {
   "cell_type": "markdown",
   "metadata": {},
   "source": [
    "### Creating SVR model"
   ]
  },
  {
   "cell_type": "code",
   "execution_count": 26,
   "metadata": {},
   "outputs": [
    {
     "data": {
      "text/plain": [
       "LinearSVR(C=1.0, dual=True, epsilon=0.0, fit_intercept=True,\n",
       "          intercept_scaling=1.0, loss='epsilon_insensitive', max_iter=1000,\n",
       "          random_state=0, tol=1e-05, verbose=0)"
      ]
     },
     "execution_count": 26,
     "metadata": {},
     "output_type": "execute_result"
    }
   ],
   "source": [
    "from sklearn.svm import LinearSVR\n",
    "# Create the model \n",
    "\n",
    "svr = LinearSVR(random_state=0, tol=1e-5)\n",
    "# Fit on training data\n",
    "svr.fit(X_train, y_train)"
   ]
  },
  {
   "cell_type": "markdown",
   "metadata": {},
   "source": [
    "### Evaluation"
   ]
  },
  {
   "cell_type": "code",
   "execution_count": 27,
   "metadata": {},
   "outputs": [
    {
     "name": "stdout",
     "output_type": "stream",
     "text": [
      "Evaluation for train:\n",
      "\n",
      "Accuracy Train -inf%\n",
      "r2_score Train: 0.32574365212920087\n",
      "\n",
      "\n",
      "Evaluation for test:\n",
      "\n",
      "Accuracy Test -inf%\n",
      "r2_score Test: 0.1925047582004683\n",
      "score 0.1925047582004683\n"
     ]
    }
   ],
   "source": [
    "from sklearn import metrics\n",
    "train_rf_predictions = svr.predict(X_train)\n",
    "rf_predictions = svr.predict(X_test)\n",
    "MAE_train = metrics.mean_absolute_error(y_train, train_rf_predictions)\n",
    "RMSE_train = np.sqrt(metrics.mean_squared_error(y_train, train_rf_predictions))\n",
    "MAPE_train = 100 * np.mean(abs(train_rf_predictions - y_train)/abs(y_train))\n",
    "accuracy_train = 100 - MAPE_train\n",
    "r2_train = metrics.r2_score(y_train, train_rf_predictions)\n",
    "\n",
    "MAE_test = metrics.mean_absolute_error(y_test, rf_predictions)\n",
    "RMSE_test = np.sqrt(metrics.mean_squared_error(y_test, rf_predictions))\n",
    "MAPE_test = 100 * np.mean(abs(rf_predictions - y_test)/abs(y_test))\n",
    "accuracy_test = 100 - MAPE_test\n",
    "r2_test = metrics.r2_score(y_test, rf_predictions)\n",
    "print(\"Evaluation for train:\")\n",
    "print()\n",
    "#print('Mean Absolute Error Train:', MAE_train)    \n",
    "#print('Root Mean Squared Error Train:', RMSE_train)\n",
    "#print('Mean Absolute Percentage Error Train:', MAPE_train)\n",
    "print('Accuracy Train', str(accuracy_train) + \"%\")\n",
    "print('r2_score Train:',r2_train)\n",
    "print()\n",
    "print()\n",
    "print(\"Evaluation for test:\")\n",
    "print()\n",
    "#print('Mean Absolute Error Test:', MAE_test)    \n",
    "#print('Root Mean Squared Error Test:', RMSE_test)\n",
    "#print('Mean Absolute Percentage Error Test:', MAPE_test)\n",
    "print('Accuracy Test', str(accuracy_test) + \"%\")\n",
    "print('r2_score Test:', r2_test)\n",
    "print(\"score\",svr.score(X_test, y_test))"
   ]
  },
  {
   "cell_type": "markdown",
   "metadata": {},
   "source": [
    "# SVR for HTOX,HC"
   ]
  },
  {
   "cell_type": "markdown",
   "metadata": {},
   "source": [
    "### splitting for test and train"
   ]
  },
  {
   "cell_type": "code",
   "execution_count": 28,
   "metadata": {},
   "outputs": [
    {
     "name": "stdout",
     "output_type": "stream",
     "text": [
      "XTrain (2193, 2)\n",
      "XTest (940, 2)\n"
     ]
    }
   ],
   "source": [
    "from sklearn.model_selection import train_test_split\n",
    "x1=data[['HTOX','HC']]\n",
    "\n",
    "y = data['annual_count_avg']\n",
    "\n",
    "X_train1, X_test1, y_train, y_test = train_test_split(x1, y,\n",
    "                                                    test_size=0.3,\n",
    "                                                    random_state = RSEED)\n",
    "\n",
    "scaler = StandardScaler()\n",
    "scaler.fit(X_train1)\n",
    "\n",
    "X_train = scaler.transform(X_train1)\n",
    "X_test = scaler.transform(X_test1)\n",
    "\n",
    "print(\"XTrain\",X_train.shape)\n",
    "print(\"XTest\",X_test.shape)\n"
   ]
  },
  {
   "cell_type": "markdown",
   "metadata": {},
   "source": [
    "### Creating SVR model"
   ]
  },
  {
   "cell_type": "code",
   "execution_count": 29,
   "metadata": {},
   "outputs": [
    {
     "data": {
      "text/plain": [
       "LinearSVR(C=1.0, dual=True, epsilon=0.0, fit_intercept=True,\n",
       "          intercept_scaling=1.0, loss='epsilon_insensitive', max_iter=1000,\n",
       "          random_state=0, tol=1e-05, verbose=0)"
      ]
     },
     "execution_count": 29,
     "metadata": {},
     "output_type": "execute_result"
    }
   ],
   "source": [
    "from sklearn.svm import LinearSVR\n",
    "# Create the model \n",
    "\n",
    "svr = LinearSVR(random_state=0, tol=1e-5)\n",
    "# Fit on training data\n",
    "svr.fit(X_train, y_train)"
   ]
  },
  {
   "cell_type": "markdown",
   "metadata": {},
   "source": [
    "### Evaluation"
   ]
  },
  {
   "cell_type": "code",
   "execution_count": 30,
   "metadata": {},
   "outputs": [
    {
     "name": "stdout",
     "output_type": "stream",
     "text": [
      "Evaluation for train:\n",
      "\n",
      "Accuracy Train -inf%\n",
      "r2_score Train: -0.0294099288709071\n",
      "\n",
      "\n",
      "Evaluation for test:\n",
      "\n",
      "Accuracy Test -inf%\n",
      "r2_score Test: -0.08589664158110089\n",
      "score -0.08589664158110089\n"
     ]
    }
   ],
   "source": [
    "from sklearn import metrics\n",
    "train_rf_predictions = svr.predict(X_train)\n",
    "rf_predictions = svr.predict(X_test)\n",
    "MAE_train = metrics.mean_absolute_error(y_train, train_rf_predictions)\n",
    "RMSE_train = np.sqrt(metrics.mean_squared_error(y_train, train_rf_predictions))\n",
    "MAPE_train = 100 * np.mean(abs(train_rf_predictions - y_train)/abs(y_train))\n",
    "accuracy_train = 100 - MAPE_train\n",
    "r2_train = metrics.r2_score(y_train, train_rf_predictions)\n",
    "\n",
    "MAE_test = metrics.mean_absolute_error(y_test, rf_predictions)\n",
    "RMSE_test = np.sqrt(metrics.mean_squared_error(y_test, rf_predictions))\n",
    "MAPE_test = 100 * np.mean(abs(rf_predictions - y_test)/abs(y_test))\n",
    "accuracy_test = 100 - MAPE_test\n",
    "r2_test = metrics.r2_score(y_test, rf_predictions)\n",
    "print(\"Evaluation for train:\")\n",
    "print()\n",
    "#print('Mean Absolute Error Train:', MAE_train)    \n",
    "#print('Root Mean Squared Error Train:', RMSE_train)\n",
    "#print('Mean Absolute Percentage Error Train:', MAPE_train)\n",
    "print('Accuracy Train', str(accuracy_train) + \"%\")\n",
    "print('r2_score Train:',r2_train)\n",
    "print()\n",
    "print()\n",
    "print(\"Evaluation for test:\")\n",
    "print()\n",
    "#print('Mean Absolute Error Test:', MAE_test)    \n",
    "#print('Root Mean Squared Error Test:', RMSE_test)\n",
    "#print('Mean Absolute Percentage Error Test:', MAPE_test)\n",
    "print('Accuracy Test', str(accuracy_test) + \"%\")\n",
    "print('r2_score Test:', r2_test)\n",
    "print(\"score\",svr.score(X_test, y_test))"
   ]
  },
  {
   "cell_type": "code",
   "execution_count": null,
   "metadata": {},
   "outputs": [],
   "source": []
  },
  {
   "cell_type": "code",
   "execution_count": null,
   "metadata": {},
   "outputs": [],
   "source": []
  }
 ],
 "metadata": {
  "kernelspec": {
   "display_name": "Python 3",
   "language": "python",
   "name": "python3"
  },
  "language_info": {
   "codemirror_mode": {
    "name": "ipython",
    "version": 3
   },
   "file_extension": ".py",
   "mimetype": "text/x-python",
   "name": "python",
   "nbconvert_exporter": "python",
   "pygments_lexer": "ipython3",
   "version": "3.7.4"
  }
 },
 "nbformat": 4,
 "nbformat_minor": 4
}
