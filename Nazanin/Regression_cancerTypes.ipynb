{
 "cells": [
  {
   "cell_type": "code",
   "execution_count": 11,
   "metadata": {},
   "outputs": [],
   "source": [
    "from sklearn.cluster import DBSCAN\n",
    "from sklearn.preprocessing import StandardScaler\n",
    "import re\n",
    "import pandas as pd\n",
    "import numpy as np\n",
    "import matplotlib.pyplot as plt\n",
    "from sklearn.preprocessing import StandardScaler\n",
    "from sklearn.model_selection import train_test_split\n",
    "from sklearn.ensemble import RandomForestRegressor\n",
    "from sklearn.model_selection import cross_val_score, GridSearchCV, cross_validate, train_test_split\n",
    "from sklearn import metrics\n",
    "from sklearn.metrics import accuracy_score, classification_report\n",
    "from sklearn.linear_model import LogisticRegression\n",
    "from sklearn.svm import LinearSVR\n",
    "# Setting random seed to get reproducible runs\n",
    "RSEED = 100"
   ]
  },
  {
   "cell_type": "markdown",
   "metadata": {},
   "source": [
    "# Part 1: Data Processing"
   ]
  },
  {
   "cell_type": "code",
   "execution_count": 12,
   "metadata": {},
   "outputs": [],
   "source": [
    "data = pd.read_csv(\"factorsCancerPerCounty.csv\")"
   ]
  },
  {
   "cell_type": "code",
   "execution_count": 13,
   "metadata": {},
   "outputs": [],
   "source": [
    "data.drop('Unnamed: 0', axis=1, inplace=True)"
   ]
  },
  {
   "cell_type": "code",
   "execution_count": 14,
   "metadata": {},
   "outputs": [
    {
     "data": {
      "text/plain": [
       "Index(['locale', 'fips', 'incidence rate_per_100000', 'annual_count_avg',\n",
       "       'areatype', 'cancer', 'stateFIPS', 'state', 'cancer_description',\n",
       "       'ACID', 'ENRG', 'ETOX', 'EUTR', 'FOOD', 'GCC', 'HAPS', 'HAZW', 'HC',\n",
       "       'HNC', 'HRSP', 'HTOX', 'JOBS', 'LAND', 'METL', 'MINE', 'MSW', 'NREN',\n",
       "       'OZON', 'PEST', 'REN', 'SMOG', 'VADD', 'WATR'],\n",
       "      dtype='object')"
      ]
     },
     "execution_count": 14,
     "metadata": {},
     "output_type": "execute_result"
    }
   ],
   "source": [
    "data.columns"
   ]
  },
  {
   "cell_type": "code",
   "execution_count": 15,
   "metadata": {},
   "outputs": [],
   "source": [
    "factors=np.array(['ACID', 'ENRG', 'ETOX', 'EUTR', 'FOOD',\n",
    "       'GCC', 'HAPS', 'HAZW', 'HC', 'HNC', 'HRSP', 'HTOX', 'JOBS', 'LAND',\n",
    "       'METL', 'MINE', 'MSW', 'NREN', 'OZON', 'PEST', 'REN', 'SMOG', 'VADD',\n",
    "       'WATR'])"
   ]
  },
  {
   "cell_type": "code",
   "execution_count": 16,
   "metadata": {
    "scrolled": false
   },
   "outputs": [
    {
     "data": {
      "text/html": [
       "<div>\n",
       "<style scoped>\n",
       "    .dataframe tbody tr th:only-of-type {\n",
       "        vertical-align: middle;\n",
       "    }\n",
       "\n",
       "    .dataframe tbody tr th {\n",
       "        vertical-align: top;\n",
       "    }\n",
       "\n",
       "    .dataframe thead th {\n",
       "        text-align: right;\n",
       "    }\n",
       "</style>\n",
       "<table border=\"1\" class=\"dataframe\">\n",
       "  <thead>\n",
       "    <tr style=\"text-align: right;\">\n",
       "      <th></th>\n",
       "      <th>locale</th>\n",
       "      <th>fips</th>\n",
       "      <th>incidence rate_per_100000</th>\n",
       "      <th>annual_count_avg</th>\n",
       "      <th>areatype</th>\n",
       "      <th>cancer</th>\n",
       "      <th>stateFIPS</th>\n",
       "      <th>state</th>\n",
       "      <th>cancer_description</th>\n",
       "      <th>ACID</th>\n",
       "      <th>...</th>\n",
       "      <th>METL</th>\n",
       "      <th>MINE</th>\n",
       "      <th>MSW</th>\n",
       "      <th>NREN</th>\n",
       "      <th>OZON</th>\n",
       "      <th>PEST</th>\n",
       "      <th>REN</th>\n",
       "      <th>SMOG</th>\n",
       "      <th>VADD</th>\n",
       "      <th>WATR</th>\n",
       "    </tr>\n",
       "  </thead>\n",
       "  <tbody>\n",
       "    <tr>\n",
       "      <th>0</th>\n",
       "      <td>Autauga County(6,10)</td>\n",
       "      <td>1001</td>\n",
       "      <td>495.6</td>\n",
       "      <td>304</td>\n",
       "      <td>county</td>\n",
       "      <td>1</td>\n",
       "      <td>1</td>\n",
       "      <td>alabama</td>\n",
       "      <td>All Cancer Sites</td>\n",
       "      <td>299.152569</td>\n",
       "      <td>...</td>\n",
       "      <td>0.050200</td>\n",
       "      <td>0.000000</td>\n",
       "      <td>2149.369209</td>\n",
       "      <td>435169.166702</td>\n",
       "      <td>0.002923</td>\n",
       "      <td>0.034974</td>\n",
       "      <td>293475.377416</td>\n",
       "      <td>2949.632736</td>\n",
       "      <td>79914.159702</td>\n",
       "      <td>7851.498268</td>\n",
       "    </tr>\n",
       "    <tr>\n",
       "      <th>1</th>\n",
       "      <td>Autauga County(6,10)</td>\n",
       "      <td>1001</td>\n",
       "      <td>13.5</td>\n",
       "      <td>8</td>\n",
       "      <td>county</td>\n",
       "      <td>3</td>\n",
       "      <td>1</td>\n",
       "      <td>alabama</td>\n",
       "      <td>Oral Cavity &amp; Pharynx</td>\n",
       "      <td>299.152569</td>\n",
       "      <td>...</td>\n",
       "      <td>0.050200</td>\n",
       "      <td>0.000000</td>\n",
       "      <td>2149.369209</td>\n",
       "      <td>435169.166702</td>\n",
       "      <td>0.002923</td>\n",
       "      <td>0.034974</td>\n",
       "      <td>293475.377416</td>\n",
       "      <td>2949.632736</td>\n",
       "      <td>79914.159702</td>\n",
       "      <td>7851.498268</td>\n",
       "    </tr>\n",
       "    <tr>\n",
       "      <th>2</th>\n",
       "      <td>Autauga County(6,10)</td>\n",
       "      <td>1001</td>\n",
       "      <td>0.0</td>\n",
       "      <td>3</td>\n",
       "      <td>county</td>\n",
       "      <td>17</td>\n",
       "      <td>1</td>\n",
       "      <td>alabama</td>\n",
       "      <td>Esophagus</td>\n",
       "      <td>299.152569</td>\n",
       "      <td>...</td>\n",
       "      <td>0.050200</td>\n",
       "      <td>0.000000</td>\n",
       "      <td>2149.369209</td>\n",
       "      <td>435169.166702</td>\n",
       "      <td>0.002923</td>\n",
       "      <td>0.034974</td>\n",
       "      <td>293475.377416</td>\n",
       "      <td>2949.632736</td>\n",
       "      <td>79914.159702</td>\n",
       "      <td>7851.498268</td>\n",
       "    </tr>\n",
       "    <tr>\n",
       "      <th>3</th>\n",
       "      <td>Autauga County(6,10)</td>\n",
       "      <td>1001</td>\n",
       "      <td>9.1</td>\n",
       "      <td>6</td>\n",
       "      <td>county</td>\n",
       "      <td>18</td>\n",
       "      <td>1</td>\n",
       "      <td>alabama</td>\n",
       "      <td>Stomach</td>\n",
       "      <td>299.152569</td>\n",
       "      <td>...</td>\n",
       "      <td>0.050200</td>\n",
       "      <td>0.000000</td>\n",
       "      <td>2149.369209</td>\n",
       "      <td>435169.166702</td>\n",
       "      <td>0.002923</td>\n",
       "      <td>0.034974</td>\n",
       "      <td>293475.377416</td>\n",
       "      <td>2949.632736</td>\n",
       "      <td>79914.159702</td>\n",
       "      <td>7851.498268</td>\n",
       "    </tr>\n",
       "    <tr>\n",
       "      <th>4</th>\n",
       "      <td>Autauga County(6,10)</td>\n",
       "      <td>1001</td>\n",
       "      <td>52.2</td>\n",
       "      <td>32</td>\n",
       "      <td>county</td>\n",
       "      <td>20</td>\n",
       "      <td>1</td>\n",
       "      <td>alabama</td>\n",
       "      <td>Colon &amp; Rectum</td>\n",
       "      <td>299.152569</td>\n",
       "      <td>...</td>\n",
       "      <td>0.050200</td>\n",
       "      <td>0.000000</td>\n",
       "      <td>2149.369209</td>\n",
       "      <td>435169.166702</td>\n",
       "      <td>0.002923</td>\n",
       "      <td>0.034974</td>\n",
       "      <td>293475.377416</td>\n",
       "      <td>2949.632736</td>\n",
       "      <td>79914.159702</td>\n",
       "      <td>7851.498268</td>\n",
       "    </tr>\n",
       "    <tr>\n",
       "      <th>...</th>\n",
       "      <td>...</td>\n",
       "      <td>...</td>\n",
       "      <td>...</td>\n",
       "      <td>...</td>\n",
       "      <td>...</td>\n",
       "      <td>...</td>\n",
       "      <td>...</td>\n",
       "      <td>...</td>\n",
       "      <td>...</td>\n",
       "      <td>...</td>\n",
       "      <td>...</td>\n",
       "      <td>...</td>\n",
       "      <td>...</td>\n",
       "      <td>...</td>\n",
       "      <td>...</td>\n",
       "      <td>...</td>\n",
       "      <td>...</td>\n",
       "      <td>...</td>\n",
       "      <td>...</td>\n",
       "      <td>...</td>\n",
       "      <td>...</td>\n",
       "    </tr>\n",
       "    <tr>\n",
       "      <th>72054</th>\n",
       "      <td>Weston County(6,10)</td>\n",
       "      <td>56045</td>\n",
       "      <td>0.0</td>\n",
       "      <td>3</td>\n",
       "      <td>county</td>\n",
       "      <td>86</td>\n",
       "      <td>56</td>\n",
       "      <td>wyoming</td>\n",
       "      <td>Non-Hodgkin Lymphoma</td>\n",
       "      <td>34.618906</td>\n",
       "      <td>...</td>\n",
       "      <td>0.000817</td>\n",
       "      <td>17113.628433</td>\n",
       "      <td>348.003649</td>\n",
       "      <td>428660.792817</td>\n",
       "      <td>0.000395</td>\n",
       "      <td>0.000943</td>\n",
       "      <td>77.061234</td>\n",
       "      <td>1321.995548</td>\n",
       "      <td>12995.136488</td>\n",
       "      <td>47.904143</td>\n",
       "    </tr>\n",
       "    <tr>\n",
       "      <th>72055</th>\n",
       "      <td>Weston County(6,10)</td>\n",
       "      <td>56045</td>\n",
       "      <td>0.0</td>\n",
       "      <td>3</td>\n",
       "      <td>county</td>\n",
       "      <td>90</td>\n",
       "      <td>56</td>\n",
       "      <td>wyoming</td>\n",
       "      <td>Leukemia</td>\n",
       "      <td>34.618906</td>\n",
       "      <td>...</td>\n",
       "      <td>0.000817</td>\n",
       "      <td>17113.628433</td>\n",
       "      <td>348.003649</td>\n",
       "      <td>428660.792817</td>\n",
       "      <td>0.000395</td>\n",
       "      <td>0.000943</td>\n",
       "      <td>77.061234</td>\n",
       "      <td>1321.995548</td>\n",
       "      <td>12995.136488</td>\n",
       "      <td>47.904143</td>\n",
       "    </tr>\n",
       "    <tr>\n",
       "      <th>72056</th>\n",
       "      <td>Weston County(6,10)</td>\n",
       "      <td>56045</td>\n",
       "      <td>0.0</td>\n",
       "      <td>3</td>\n",
       "      <td>county</td>\n",
       "      <td>400</td>\n",
       "      <td>56</td>\n",
       "      <td>wyoming</td>\n",
       "      <td>Breast (in situ) (Female)</td>\n",
       "      <td>34.618906</td>\n",
       "      <td>...</td>\n",
       "      <td>0.000817</td>\n",
       "      <td>17113.628433</td>\n",
       "      <td>348.003649</td>\n",
       "      <td>428660.792817</td>\n",
       "      <td>0.000395</td>\n",
       "      <td>0.000943</td>\n",
       "      <td>77.061234</td>\n",
       "      <td>1321.995548</td>\n",
       "      <td>12995.136488</td>\n",
       "      <td>47.904143</td>\n",
       "    </tr>\n",
       "    <tr>\n",
       "      <th>72057</th>\n",
       "      <td>Weston County(6,10)</td>\n",
       "      <td>56045</td>\n",
       "      <td>0.0</td>\n",
       "      <td>3</td>\n",
       "      <td>county</td>\n",
       "      <td>515</td>\n",
       "      <td>56</td>\n",
       "      <td>wyoming</td>\n",
       "      <td>Childhood (Ages &lt;20, All Sites)</td>\n",
       "      <td>34.618906</td>\n",
       "      <td>...</td>\n",
       "      <td>0.000817</td>\n",
       "      <td>17113.628433</td>\n",
       "      <td>348.003649</td>\n",
       "      <td>428660.792817</td>\n",
       "      <td>0.000395</td>\n",
       "      <td>0.000943</td>\n",
       "      <td>77.061234</td>\n",
       "      <td>1321.995548</td>\n",
       "      <td>12995.136488</td>\n",
       "      <td>47.904143</td>\n",
       "    </tr>\n",
       "    <tr>\n",
       "      <th>72058</th>\n",
       "      <td>Weston County(6,10)</td>\n",
       "      <td>56045</td>\n",
       "      <td>0.0</td>\n",
       "      <td>3</td>\n",
       "      <td>county</td>\n",
       "      <td>516</td>\n",
       "      <td>56</td>\n",
       "      <td>wyoming</td>\n",
       "      <td>Childhood (Ages &lt;15, All Sites)</td>\n",
       "      <td>34.618906</td>\n",
       "      <td>...</td>\n",
       "      <td>0.000817</td>\n",
       "      <td>17113.628433</td>\n",
       "      <td>348.003649</td>\n",
       "      <td>428660.792817</td>\n",
       "      <td>0.000395</td>\n",
       "      <td>0.000943</td>\n",
       "      <td>77.061234</td>\n",
       "      <td>1321.995548</td>\n",
       "      <td>12995.136488</td>\n",
       "      <td>47.904143</td>\n",
       "    </tr>\n",
       "  </tbody>\n",
       "</table>\n",
       "<p>72059 rows × 33 columns</p>\n",
       "</div>"
      ],
      "text/plain": [
       "                     locale   fips  incidence rate_per_100000  \\\n",
       "0      Autauga County(6,10)   1001                      495.6   \n",
       "1      Autauga County(6,10)   1001                       13.5   \n",
       "2      Autauga County(6,10)   1001                        0.0   \n",
       "3      Autauga County(6,10)   1001                        9.1   \n",
       "4      Autauga County(6,10)   1001                       52.2   \n",
       "...                     ...    ...                        ...   \n",
       "72054   Weston County(6,10)  56045                        0.0   \n",
       "72055   Weston County(6,10)  56045                        0.0   \n",
       "72056   Weston County(6,10)  56045                        0.0   \n",
       "72057   Weston County(6,10)  56045                        0.0   \n",
       "72058   Weston County(6,10)  56045                        0.0   \n",
       "\n",
       "       annual_count_avg areatype  cancer  stateFIPS    state  \\\n",
       "0                   304   county       1          1  alabama   \n",
       "1                     8   county       3          1  alabama   \n",
       "2                     3   county      17          1  alabama   \n",
       "3                     6   county      18          1  alabama   \n",
       "4                    32   county      20          1  alabama   \n",
       "...                 ...      ...     ...        ...      ...   \n",
       "72054                 3   county      86         56  wyoming   \n",
       "72055                 3   county      90         56  wyoming   \n",
       "72056                 3   county     400         56  wyoming   \n",
       "72057                 3   county     515         56  wyoming   \n",
       "72058                 3   county     516         56  wyoming   \n",
       "\n",
       "                    cancer_description        ACID  ...      METL  \\\n",
       "0                     All Cancer Sites  299.152569  ...  0.050200   \n",
       "1                Oral Cavity & Pharynx  299.152569  ...  0.050200   \n",
       "2                            Esophagus  299.152569  ...  0.050200   \n",
       "3                              Stomach  299.152569  ...  0.050200   \n",
       "4                       Colon & Rectum  299.152569  ...  0.050200   \n",
       "...                                ...         ...  ...       ...   \n",
       "72054             Non-Hodgkin Lymphoma   34.618906  ...  0.000817   \n",
       "72055                         Leukemia   34.618906  ...  0.000817   \n",
       "72056        Breast (in situ) (Female)   34.618906  ...  0.000817   \n",
       "72057  Childhood (Ages <20, All Sites)   34.618906  ...  0.000817   \n",
       "72058  Childhood (Ages <15, All Sites)   34.618906  ...  0.000817   \n",
       "\n",
       "               MINE          MSW           NREN      OZON      PEST  \\\n",
       "0          0.000000  2149.369209  435169.166702  0.002923  0.034974   \n",
       "1          0.000000  2149.369209  435169.166702  0.002923  0.034974   \n",
       "2          0.000000  2149.369209  435169.166702  0.002923  0.034974   \n",
       "3          0.000000  2149.369209  435169.166702  0.002923  0.034974   \n",
       "4          0.000000  2149.369209  435169.166702  0.002923  0.034974   \n",
       "...             ...          ...            ...       ...       ...   \n",
       "72054  17113.628433   348.003649  428660.792817  0.000395  0.000943   \n",
       "72055  17113.628433   348.003649  428660.792817  0.000395  0.000943   \n",
       "72056  17113.628433   348.003649  428660.792817  0.000395  0.000943   \n",
       "72057  17113.628433   348.003649  428660.792817  0.000395  0.000943   \n",
       "72058  17113.628433   348.003649  428660.792817  0.000395  0.000943   \n",
       "\n",
       "                 REN         SMOG          VADD         WATR  \n",
       "0      293475.377416  2949.632736  79914.159702  7851.498268  \n",
       "1      293475.377416  2949.632736  79914.159702  7851.498268  \n",
       "2      293475.377416  2949.632736  79914.159702  7851.498268  \n",
       "3      293475.377416  2949.632736  79914.159702  7851.498268  \n",
       "4      293475.377416  2949.632736  79914.159702  7851.498268  \n",
       "...              ...          ...           ...          ...  \n",
       "72054      77.061234  1321.995548  12995.136488    47.904143  \n",
       "72055      77.061234  1321.995548  12995.136488    47.904143  \n",
       "72056      77.061234  1321.995548  12995.136488    47.904143  \n",
       "72057      77.061234  1321.995548  12995.136488    47.904143  \n",
       "72058      77.061234  1321.995548  12995.136488    47.904143  \n",
       "\n",
       "[72059 rows x 33 columns]"
      ]
     },
     "execution_count": 16,
     "metadata": {},
     "output_type": "execute_result"
    }
   ],
   "source": [
    "data"
   ]
  },
  {
   "cell_type": "code",
   "execution_count": 18,
   "metadata": {},
   "outputs": [],
   "source": [
    "#print(data.dtypes)\n",
    "#data['annual_count_avg'].replace({r'[^\\x00-\\x7F]+':'0'}, regex=True, inplace=True)\n",
    "#data['annual_count_avg'] = data['annual_count_avg'].astype(\"float64\")"
   ]
  },
  {
   "cell_type": "code",
   "execution_count": 19,
   "metadata": {},
   "outputs": [
    {
     "data": {
      "text/plain": [
       "array([  1,   3,  17,  18,  20,  35,  40,  47,  53,  55,  57,  58,  61,\n",
       "        66,  71,  72,  76,  80,  86,  90, 400, 515, 516], dtype=int64)"
      ]
     },
     "execution_count": 19,
     "metadata": {},
     "output_type": "execute_result"
    }
   ],
   "source": [
    "cancerVals=data[\"cancer\"].unique()\n",
    "cancerVals"
   ]
  },
  {
   "cell_type": "code",
   "execution_count": 20,
   "metadata": {},
   "outputs": [
    {
     "data": {
      "text/plain": [
       "array(['All Cancer Sites', 'Oral Cavity & Pharynx', 'Esophagus',\n",
       "       'Stomach', 'Colon & Rectum', 'Liver & Bile Duct', 'Pancreas',\n",
       "       'Lung & Bronchus', 'Melanoma of the Skin', 'Breast (Female)',\n",
       "       'Cervix (Female)', 'Uterus (Corpus & Uterus, NOS) (Female)',\n",
       "       'Ovary (Female)', 'Prostate (Male)', 'Bladder',\n",
       "       'Kidney & Renal Pelvis', 'Brain & ONS', 'Thyroid',\n",
       "       'Non-Hodgkin Lymphoma', 'Leukemia', 'Breast (in situ) (Female)',\n",
       "       'Childhood (Ages <20, All Sites)',\n",
       "       'Childhood (Ages <15, All Sites)'], dtype=object)"
      ]
     },
     "execution_count": 20,
     "metadata": {},
     "output_type": "execute_result"
    }
   ],
   "source": [
    "cancerDescr=data[\"cancer_description\"].unique()\n",
    "cancerDescr"
   ]
  },
  {
   "cell_type": "code",
   "execution_count": 21,
   "metadata": {},
   "outputs": [
    {
     "name": "stdout",
     "output_type": "stream",
     "text": [
      "    cancer                      cancer_description\n",
      "0        1                        All Cancer Sites\n",
      "1        3                   Oral Cavity & Pharynx\n",
      "2       17                               Esophagus\n",
      "3       18                                 Stomach\n",
      "4       20                          Colon & Rectum\n",
      "5       35                       Liver & Bile Duct\n",
      "6       40                                Pancreas\n",
      "7       47                         Lung & Bronchus\n",
      "8       53                    Melanoma of the Skin\n",
      "9       55                         Breast (Female)\n",
      "10      57                         Cervix (Female)\n",
      "11      58  Uterus (Corpus & Uterus, NOS) (Female)\n",
      "12      61                          Ovary (Female)\n",
      "13      66                         Prostate (Male)\n",
      "14      71                                 Bladder\n",
      "15      72                   Kidney & Renal Pelvis\n",
      "16      76                             Brain & ONS\n",
      "17      80                                 Thyroid\n",
      "18      86                    Non-Hodgkin Lymphoma\n",
      "19      90                                Leukemia\n",
      "20     400               Breast (in situ) (Female)\n",
      "21     515         Childhood (Ages <20, All Sites)\n",
      "22     516         Childhood (Ages <15, All Sites)\n",
      "example:\n",
      "1    Oral Cavity & Pharynx\n"
     ]
    }
   ],
   "source": [
    "cancerDescription=data[[\"cancer\",\"cancer_description\"]]\n",
    "cancerTypes=cancerDescription.groupby([\"cancer\",\"cancer_description\"]).sum().reset_index()\n",
    "print(cancerTypes)\n",
    "cancer=cancerTypes[\"cancer\"]==3\n",
    "print(\"example:\")\n",
    "print(cancerTypes[cancer][\"cancer_description\"].to_string())"
   ]
  },
  {
   "cell_type": "markdown",
   "metadata": {},
   "source": [
    "# Part 2: Random Forest Regressor"
   ]
  },
  {
   "cell_type": "markdown",
   "metadata": {},
   "source": [
    "## Hypertuning"
   ]
  },
  {
   "cell_type": "code",
   "execution_count": 24,
   "metadata": {},
   "outputs": [
    {
     "name": "stdout",
     "output_type": "stream",
     "text": [
      "XTrain (2193, 24)\n",
      "XTest (940, 24)\n"
     ]
    }
   ],
   "source": [
    "cancerData=data[\"cancer\"]==1\n",
    "newData=data[cancerData]    \n",
    "\n",
    "#splitting to test and train\n",
    "x1=newData.loc[:, 'ACID':'WATR']\n",
    "y = newData['annual_count_avg']\n",
    "\n",
    "X_train1, X_test1, y_train, y_test = train_test_split(x1, y,\n",
    "                                                    test_size=0.3,\n",
    "                                                    random_state = RSEED)\n",
    "scaler = StandardScaler()\n",
    "scaler.fit(X_train1)\n",
    "\n",
    "X_train = scaler.transform(X_train1)\n",
    "X_test = scaler.transform(X_test1)\n",
    "\n",
    "print(\"XTrain\",X_train.shape)\n",
    "print(\"XTest\",X_test.shape)"
   ]
  },
  {
   "cell_type": "code",
   "execution_count": 192,
   "metadata": {},
   "outputs": [
    {
     "data": {
      "text/plain": [
       "GridSearchCV(cv=None, error_score=nan,\n",
       "             estimator=RandomForestRegressor(bootstrap=True, ccp_alpha=0.0,\n",
       "                                             criterion='mse', max_depth=None,\n",
       "                                             max_features='auto',\n",
       "                                             max_leaf_nodes=None,\n",
       "                                             max_samples=None,\n",
       "                                             min_impurity_decrease=0.0,\n",
       "                                             min_impurity_split=None,\n",
       "                                             min_samples_leaf=1,\n",
       "                                             min_samples_split=2,\n",
       "                                             min_weight_fraction_leaf=0.0,\n",
       "                                             n_estimators=100, n_jobs=None,\n",
       "                                             oob_score=False, random_state=100,\n",
       "                                             verbose=0, warm_start=False),\n",
       "             iid='deprecated', n_jobs=None,\n",
       "             param_grid={'max_depth': [2, 8, 16, 32, 50, 64],\n",
       "                         'n_estimators': [4, 16, 32, 50, 64, 100, 128, 256]},\n",
       "             pre_dispatch='2*n_jobs', refit=True, return_train_score=False,\n",
       "             scoring=None, verbose=0)"
      ]
     },
     "execution_count": 192,
     "metadata": {},
     "output_type": "execute_result"
    }
   ],
   "source": [
    "# Create the model with 10 trees\n",
    "#regressor = RandomForestRegressor(n_estimators = 100,\n",
    "                                 # random_state = RSEED)\n",
    "\n",
    "# Fit on training data\n",
    "#regressor.fit(X_train, y_train)\n",
    "\n",
    "parameters={'n_estimators':[4, 16,32,50,64,100,128, 256],'max_depth': [2, 8, 16,32,50,64]}\n",
    "rf = RandomForestRegressor(random_state = RSEED)\n",
    "clf = GridSearchCV(rf, parameters)\n",
    "clf.fit(X_train, y_train)"
   ]
  },
  {
   "cell_type": "code",
   "execution_count": 193,
   "metadata": {},
   "outputs": [
    {
     "name": "stdout",
     "output_type": "stream",
     "text": [
      "{'max_depth': 8, 'n_estimators': 100}\n"
     ]
    }
   ],
   "source": [
    "print(clf.best_params_)"
   ]
  },
  {
   "cell_type": "markdown",
   "metadata": {},
   "source": [
    "## Random Forest Loop"
   ]
  },
  {
   "cell_type": "code",
   "execution_count": 25,
   "metadata": {
    "scrolled": false
   },
   "outputs": [
    {
     "name": "stdout",
     "output_type": "stream",
     "text": [
      "cancer type: 1\n",
      "0    All Cancer Sites\n",
      "Creating RandomForest Model and Fitting the Data\n",
      "score 0.8852407861819583\n",
      "Feature Importance\n",
      "indecis: [ 4 16 14 12 18  3 22 10  6  5  7 19  2  0  9  8 11 21  1 17 13 15 20 23]\n",
      "importances: [0.49268192 0.12579432 0.07567727 0.05688776 0.04149034 0.02959606\n",
      " 0.02280888 0.02127417 0.02013722 0.01699096 0.01452833 0.01234892\n",
      " 0.01170191 0.01157722 0.01117984 0.00854697 0.00459369 0.00424026\n",
      " 0.00399506 0.00363218 0.00308794 0.0028779  0.00219499 0.00215589]\n",
      "features: ['FOOD' 'MSW' 'METL' 'JOBS' 'OZON' 'EUTR' 'VADD' 'HRSP' 'HAPS' 'GCC'\n",
      " 'HAZW' 'PEST' 'ETOX' 'ACID' 'HNC' 'HC' 'HTOX' 'SMOG' 'ENRG' 'NREN' 'LAND'\n",
      " 'MINE' 'REN' 'WATR']\n",
      "\n",
      "\n",
      "cancer type: 3\n",
      "1    Oral Cavity & Pharynx\n",
      "Creating RandomForest Model and Fitting the Data\n"
     ]
    },
    {
     "name": "stderr",
     "output_type": "stream",
     "text": [
      "C:\\Users\\Owner\\Miniconda3\\lib\\site-packages\\ipykernel_launcher.py:60: UserWarning: Matplotlib is currently using module://ipykernel.pylab.backend_inline, which is a non-GUI backend, so cannot show the figure.\n"
     ]
    },
    {
     "name": "stdout",
     "output_type": "stream",
     "text": [
      "score 0.8912823129262131\n",
      "Feature Importance\n",
      "indecis: [ 4 16 14 18  6 12 10  3 22  7  2  0 19  8 11  9  5 15  1 21 17 13 20 23]\n",
      "importances: [0.5477527  0.12695945 0.0518122  0.04423135 0.03681129 0.03081746\n",
      " 0.02293407 0.0227872  0.01746641 0.01303041 0.01220525 0.01083486\n",
      " 0.01070295 0.00994424 0.00769991 0.00521176 0.00482829 0.0047111\n",
      " 0.00462975 0.00328971 0.00323408 0.00298026 0.00273162 0.00239372]\n",
      "features: ['FOOD' 'MSW' 'METL' 'OZON' 'HAPS' 'JOBS' 'HRSP' 'EUTR' 'VADD' 'HAZW'\n",
      " 'ETOX' 'ACID' 'PEST' 'HC' 'HTOX' 'HNC' 'GCC' 'MINE' 'ENRG' 'SMOG' 'NREN'\n",
      " 'LAND' 'REN' 'WATR']\n",
      "\n",
      "\n",
      "cancer type: 17\n",
      "2    Esophagus\n",
      "Creating RandomForest Model and Fitting the Data\n"
     ]
    },
    {
     "name": "stderr",
     "output_type": "stream",
     "text": [
      "C:\\Users\\Owner\\Miniconda3\\lib\\site-packages\\ipykernel_launcher.py:60: UserWarning: Matplotlib is currently using module://ipykernel.pylab.backend_inline, which is a non-GUI backend, so cannot show the figure.\n"
     ]
    },
    {
     "name": "stdout",
     "output_type": "stream",
     "text": [
      "score 0.8147285115763045\n",
      "Feature Importance\n",
      "indecis: [ 4 16 14 12  3  6 22  9 10 18 11  0 19  8  5  2 15 21  7 17 13 20  1 23]\n",
      "importances: [0.52822139 0.11779892 0.06302532 0.03714294 0.03103647 0.02510674\n",
      " 0.02236052 0.0202514  0.01863412 0.0173182  0.01587547 0.01581091\n",
      " 0.01335691 0.01327824 0.01162932 0.01090929 0.00692088 0.00686067\n",
      " 0.00685365 0.00491723 0.00428296 0.00352738 0.00273142 0.00214966]\n",
      "features: ['FOOD' 'MSW' 'METL' 'JOBS' 'EUTR' 'HAPS' 'VADD' 'HNC' 'HRSP' 'OZON'\n",
      " 'HTOX' 'ACID' 'PEST' 'HC' 'GCC' 'ETOX' 'MINE' 'SMOG' 'HAZW' 'NREN' 'LAND'\n",
      " 'REN' 'ENRG' 'WATR']\n",
      "\n",
      "\n",
      "cancer type: 18\n",
      "3    Stomach\n",
      "Creating RandomForest Model and Fitting the Data\n"
     ]
    },
    {
     "name": "stderr",
     "output_type": "stream",
     "text": [
      "C:\\Users\\Owner\\Miniconda3\\lib\\site-packages\\ipykernel_launcher.py:60: UserWarning: Matplotlib is currently using module://ipykernel.pylab.backend_inline, which is a non-GUI backend, so cannot show the figure.\n"
     ]
    },
    {
     "name": "stdout",
     "output_type": "stream",
     "text": [
      "score 0.8506912725026379\n",
      "Feature Importance\n",
      "indecis: [ 4 12 14 16  3 22 18  5 10  6  8  7 19 21  0 11  9 23 15 20  1  2 17 13]\n",
      "importances: [0.24067044 0.16633722 0.11864369 0.10198101 0.05997125 0.05477799\n",
      " 0.05054731 0.04384246 0.03206688 0.02280872 0.0157404  0.01494672\n",
      " 0.00957518 0.00938331 0.00761809 0.00751688 0.00720453 0.00628966\n",
      " 0.00627715 0.00619381 0.00613021 0.00492523 0.00472972 0.00182214]\n",
      "features: ['FOOD' 'JOBS' 'METL' 'MSW' 'EUTR' 'VADD' 'OZON' 'GCC' 'HRSP' 'HAPS' 'HC'\n",
      " 'HAZW' 'PEST' 'SMOG' 'ACID' 'HTOX' 'HNC' 'WATR' 'MINE' 'REN' 'ENRG'\n",
      " 'ETOX' 'NREN' 'LAND']\n",
      "\n",
      "\n",
      "cancer type: 20\n",
      "4    Colon & Rectum\n",
      "Creating RandomForest Model and Fitting the Data\n"
     ]
    },
    {
     "name": "stderr",
     "output_type": "stream",
     "text": [
      "C:\\Users\\Owner\\Miniconda3\\lib\\site-packages\\ipykernel_launcher.py:60: UserWarning: Matplotlib is currently using module://ipykernel.pylab.backend_inline, which is a non-GUI backend, so cannot show the figure.\n"
     ]
    },
    {
     "name": "stdout",
     "output_type": "stream",
     "text": [
      "score 0.8498637009893605\n",
      "Feature Importance\n",
      "indecis: [ 4 16 14 12 18 10 22  3  6  5  8 19  7 11  0  9  2 13 21 17  1 20 15 23]\n",
      "importances: [0.39879631 0.11286664 0.10059166 0.06950069 0.0438727  0.0406677\n",
      " 0.03113411 0.03112462 0.02786254 0.02375907 0.01704526 0.01691604\n",
      " 0.01669079 0.01499256 0.01023048 0.00962566 0.00918123 0.00565248\n",
      " 0.00444212 0.00341442 0.00340087 0.00317169 0.00308215 0.00197821]\n",
      "features: ['FOOD' 'MSW' 'METL' 'JOBS' 'OZON' 'HRSP' 'VADD' 'EUTR' 'HAPS' 'GCC' 'HC'\n",
      " 'PEST' 'HAZW' 'HTOX' 'ACID' 'HNC' 'ETOX' 'LAND' 'SMOG' 'NREN' 'ENRG'\n",
      " 'REN' 'MINE' 'WATR']\n",
      "\n",
      "\n",
      "cancer type: 35\n",
      "5    Liver & Bile Duct\n",
      "Creating RandomForest Model and Fitting the Data\n"
     ]
    },
    {
     "name": "stderr",
     "output_type": "stream",
     "text": [
      "C:\\Users\\Owner\\Miniconda3\\lib\\site-packages\\ipykernel_launcher.py:60: UserWarning: Matplotlib is currently using module://ipykernel.pylab.backend_inline, which is a non-GUI backend, so cannot show the figure.\n"
     ]
    },
    {
     "name": "stdout",
     "output_type": "stream",
     "text": [
      "score 0.8442765993098549\n",
      "Feature Importance\n",
      "indecis: [ 4 14 12 16 18  6  3  5 10 22  0 11 19  8  9  2 17 23 20  1  7 15 21 13]\n",
      "importances: [0.36606347 0.14054152 0.11281052 0.05226175 0.05159953 0.05045629\n",
      " 0.02844971 0.02791108 0.02306719 0.01936385 0.01850295 0.01761284\n",
      " 0.01720665 0.01551091 0.01082096 0.00984669 0.00708267 0.0057869\n",
      " 0.0050973  0.00499926 0.00488526 0.003577   0.00335456 0.00319114]\n",
      "features: ['FOOD' 'METL' 'JOBS' 'MSW' 'OZON' 'HAPS' 'EUTR' 'GCC' 'HRSP' 'VADD'\n",
      " 'ACID' 'HTOX' 'PEST' 'HC' 'HNC' 'ETOX' 'NREN' 'WATR' 'REN' 'ENRG' 'HAZW'\n",
      " 'MINE' 'SMOG' 'LAND']\n",
      "\n",
      "\n",
      "cancer type: 40\n",
      "6    Pancreas\n",
      "Creating RandomForest Model and Fitting the Data\n"
     ]
    },
    {
     "name": "stderr",
     "output_type": "stream",
     "text": [
      "C:\\Users\\Owner\\Miniconda3\\lib\\site-packages\\ipykernel_launcher.py:60: UserWarning: Matplotlib is currently using module://ipykernel.pylab.backend_inline, which is a non-GUI backend, so cannot show the figure.\n"
     ]
    },
    {
     "name": "stdout",
     "output_type": "stream",
     "text": [
      "score 0.8576572930029167\n",
      "Feature Importance\n",
      "indecis: [ 4 16 12 14 18  3 10  6 22  5  2  9 11 19  0  7  8 21 17 20 13 15 23  1]\n",
      "importances: [0.44629605 0.10219802 0.0937944  0.08850614 0.04172812 0.03004026\n",
      " 0.0264428  0.02518926 0.0251182  0.01859682 0.0167338  0.01591569\n",
      " 0.01203094 0.01162257 0.00937964 0.00758455 0.00741348 0.0048431\n",
      " 0.00330064 0.00312552 0.00287827 0.00287217 0.00248366 0.00190589]\n",
      "features: ['FOOD' 'MSW' 'JOBS' 'METL' 'OZON' 'EUTR' 'HRSP' 'HAPS' 'VADD' 'GCC'\n",
      " 'ETOX' 'HNC' 'HTOX' 'PEST' 'ACID' 'HAZW' 'HC' 'SMOG' 'NREN' 'REN' 'LAND'\n",
      " 'MINE' 'WATR' 'ENRG']\n",
      "\n",
      "\n",
      "cancer type: 47\n",
      "7    Lung & Bronchus\n",
      "Creating RandomForest Model and Fitting the Data\n"
     ]
    },
    {
     "name": "stderr",
     "output_type": "stream",
     "text": [
      "C:\\Users\\Owner\\Miniconda3\\lib\\site-packages\\ipykernel_launcher.py:60: UserWarning: Matplotlib is currently using module://ipykernel.pylab.backend_inline, which is a non-GUI backend, so cannot show the figure.\n"
     ]
    },
    {
     "name": "stdout",
     "output_type": "stream",
     "text": [
      "score 0.8243010676486408\n",
      "Feature Importance\n",
      "indecis: [ 4 16 12 14  8  3 22  6 10 18 11 19  5  2  9 17  1 15  7  0 20 13 23 21]\n",
      "importances: [0.45575133 0.1918567  0.05581671 0.04154461 0.0331364  0.03159982\n",
      " 0.02562481 0.02288691 0.02045719 0.02021858 0.01808373 0.01482849\n",
      " 0.01136594 0.00838209 0.00781174 0.0060922  0.00562766 0.00557724\n",
      " 0.00538945 0.00448028 0.00404793 0.00359499 0.00342326 0.00240196]\n",
      "features: ['FOOD' 'MSW' 'JOBS' 'METL' 'HC' 'EUTR' 'VADD' 'HAPS' 'HRSP' 'OZON' 'HTOX'\n",
      " 'PEST' 'GCC' 'ETOX' 'HNC' 'NREN' 'ENRG' 'MINE' 'HAZW' 'ACID' 'REN' 'LAND'\n",
      " 'WATR' 'SMOG']\n",
      "\n",
      "\n",
      "cancer type: 53\n",
      "8    Melanoma of the Skin\n",
      "Creating RandomForest Model and Fitting the Data\n"
     ]
    },
    {
     "name": "stderr",
     "output_type": "stream",
     "text": [
      "C:\\Users\\Owner\\Miniconda3\\lib\\site-packages\\ipykernel_launcher.py:60: UserWarning: Matplotlib is currently using module://ipykernel.pylab.backend_inline, which is a non-GUI backend, so cannot show the figure.\n"
     ]
    },
    {
     "name": "stdout",
     "output_type": "stream",
     "text": [
      "score 0.8462164478862779\n",
      "Feature Importance\n",
      "indecis: [ 4 16  2 19 18 12  7  6  3 22 10 14  9 15 23 20  5  8 13  1 17  0 11 21]\n",
      "importances: [0.54969581 0.08575433 0.07488451 0.04974528 0.04193766 0.02779781\n",
      " 0.02289592 0.02235774 0.02228572 0.02127343 0.01418203 0.00979177\n",
      " 0.00834609 0.0075061  0.00727139 0.00589352 0.00496477 0.00455816\n",
      " 0.00393481 0.00371741 0.00351166 0.00325958 0.0028646  0.00156991]\n",
      "features: ['FOOD' 'MSW' 'ETOX' 'PEST' 'OZON' 'JOBS' 'HAZW' 'HAPS' 'EUTR' 'VADD'\n",
      " 'HRSP' 'METL' 'HNC' 'MINE' 'WATR' 'REN' 'GCC' 'HC' 'LAND' 'ENRG' 'NREN'\n",
      " 'ACID' 'HTOX' 'SMOG']\n",
      "\n",
      "\n",
      "cancer type: 55\n",
      "9    Breast (Female)\n",
      "Creating RandomForest Model and Fitting the Data\n"
     ]
    },
    {
     "name": "stderr",
     "output_type": "stream",
     "text": [
      "C:\\Users\\Owner\\Miniconda3\\lib\\site-packages\\ipykernel_launcher.py:60: UserWarning: Matplotlib is currently using module://ipykernel.pylab.backend_inline, which is a non-GUI backend, so cannot show the figure.\n"
     ]
    },
    {
     "name": "stdout",
     "output_type": "stream",
     "text": [
      "score 0.9141385928243955\n",
      "Feature Importance\n",
      "indecis: [ 4 16 14 18 12  3 22  6 10  5  8 19  2 21  0 11  7  9 20 17 13  1 15 23]\n",
      "importances: [0.47740263 0.13149328 0.06646426 0.04730706 0.04613045 0.03458098\n",
      " 0.03423449 0.03092724 0.02942507 0.01773351 0.01540303 0.0149607\n",
      " 0.01271764 0.00707331 0.00671456 0.00474033 0.00437532 0.00382815\n",
      " 0.00332029 0.0029643  0.0025667  0.0023938  0.0020168  0.0012261 ]\n",
      "features: ['FOOD' 'MSW' 'METL' 'OZON' 'JOBS' 'EUTR' 'VADD' 'HAPS' 'HRSP' 'GCC' 'HC'\n",
      " 'PEST' 'ETOX' 'SMOG' 'ACID' 'HTOX' 'HAZW' 'HNC' 'REN' 'NREN' 'LAND'\n",
      " 'ENRG' 'MINE' 'WATR']\n",
      "\n",
      "\n",
      "cancer type: 57\n",
      "10    Cervix (Female)\n",
      "Creating RandomForest Model and Fitting the Data\n"
     ]
    },
    {
     "name": "stderr",
     "output_type": "stream",
     "text": [
      "C:\\Users\\Owner\\Miniconda3\\lib\\site-packages\\ipykernel_launcher.py:60: UserWarning: Matplotlib is currently using module://ipykernel.pylab.backend_inline, which is a non-GUI backend, so cannot show the figure.\n"
     ]
    },
    {
     "name": "stdout",
     "output_type": "stream",
     "text": [
      "score 0.7650378567101366\n",
      "Feature Importance\n",
      "indecis: [ 4 12 14 16  5  3 18  6 10 22  0  8  9 11 21  2 17  7 13 15 19 20 23  1]\n",
      "importances: [0.20774679 0.14476432 0.1361332  0.05975629 0.0527894  0.0513323\n",
      " 0.04980821 0.04368826 0.04176226 0.03569442 0.02884608 0.02686502\n",
      " 0.025987   0.02210173 0.0129038  0.01239098 0.01166477 0.01046135\n",
      " 0.00671532 0.00447993 0.00399291 0.00360945 0.00328241 0.00322381]\n",
      "features: ['FOOD' 'JOBS' 'METL' 'MSW' 'GCC' 'EUTR' 'OZON' 'HAPS' 'HRSP' 'VADD'\n",
      " 'ACID' 'HC' 'HNC' 'HTOX' 'SMOG' 'ETOX' 'NREN' 'HAZW' 'LAND' 'MINE' 'PEST'\n",
      " 'REN' 'WATR' 'ENRG']\n",
      "\n",
      "\n",
      "cancer type: 58\n",
      "11    Uterus (Corpus & Uterus, NOS) (Female)\n",
      "Creating RandomForest Model and Fitting the Data\n"
     ]
    },
    {
     "name": "stderr",
     "output_type": "stream",
     "text": [
      "C:\\Users\\Owner\\Miniconda3\\lib\\site-packages\\ipykernel_launcher.py:60: UserWarning: Matplotlib is currently using module://ipykernel.pylab.backend_inline, which is a non-GUI backend, so cannot show the figure.\n"
     ]
    },
    {
     "name": "stdout",
     "output_type": "stream",
     "text": [
      "score 0.8619421610358949\n",
      "Feature Importance\n",
      "indecis: [ 4 12 14 16 22 18  3 10  6 19  5  8  7  0 11  2  9 21 13 20 23 15  1 17]\n",
      "importances: [0.4121697  0.10842808 0.08962343 0.0883013  0.05637571 0.04978043\n",
      " 0.02850778 0.028171   0.01855624 0.01828118 0.01694109 0.01605754\n",
      " 0.01248458 0.00925957 0.00915167 0.00707283 0.00600871 0.00477713\n",
      " 0.00428162 0.00416465 0.00376158 0.00345828 0.00223094 0.00215495]\n",
      "features: ['FOOD' 'JOBS' 'METL' 'MSW' 'VADD' 'OZON' 'EUTR' 'HRSP' 'HAPS' 'PEST'\n",
      " 'GCC' 'HC' 'HAZW' 'ACID' 'HTOX' 'ETOX' 'HNC' 'SMOG' 'LAND' 'REN' 'WATR'\n",
      " 'MINE' 'ENRG' 'NREN']\n",
      "\n",
      "\n",
      "cancer type: 61\n",
      "12    Ovary (Female)\n",
      "Creating RandomForest Model and Fitting the Data\n"
     ]
    },
    {
     "name": "stderr",
     "output_type": "stream",
     "text": [
      "C:\\Users\\Owner\\Miniconda3\\lib\\site-packages\\ipykernel_launcher.py:60: UserWarning: Matplotlib is currently using module://ipykernel.pylab.backend_inline, which is a non-GUI backend, so cannot show the figure.\n"
     ]
    },
    {
     "name": "stdout",
     "output_type": "stream",
     "text": [
      "score 0.8739319988187106\n",
      "Feature Importance\n",
      "indecis: [ 4 14 16 18 12  3 22 10  5  6  8 19  2  9  7  0 11 21 15 13 17  1 20 23]\n",
      "importances: [0.43519334 0.08297265 0.07804038 0.06399248 0.05428397 0.04391917\n",
      " 0.03923745 0.03873144 0.02876001 0.02631916 0.01834504 0.01643303\n",
      " 0.01456031 0.01139506 0.01098892 0.00952941 0.007042   0.00511781\n",
      " 0.0042303  0.00273784 0.00273006 0.00214693 0.00174991 0.00154333]\n",
      "features: ['FOOD' 'METL' 'MSW' 'OZON' 'JOBS' 'EUTR' 'VADD' 'HRSP' 'GCC' 'HAPS' 'HC'\n",
      " 'PEST' 'ETOX' 'HNC' 'HAZW' 'ACID' 'HTOX' 'SMOG' 'MINE' 'LAND' 'NREN'\n",
      " 'ENRG' 'REN' 'WATR']\n",
      "\n",
      "\n",
      "cancer type: 66\n",
      "13    Prostate (Male)\n",
      "Creating RandomForest Model and Fitting the Data\n"
     ]
    },
    {
     "name": "stderr",
     "output_type": "stream",
     "text": [
      "C:\\Users\\Owner\\Miniconda3\\lib\\site-packages\\ipykernel_launcher.py:60: UserWarning: Matplotlib is currently using module://ipykernel.pylab.backend_inline, which is a non-GUI backend, so cannot show the figure.\n"
     ]
    },
    {
     "name": "stdout",
     "output_type": "stream",
     "text": [
      "score 0.8740511799988824\n",
      "Feature Importance\n",
      "indecis: [ 4 16 12 14 22 18  3 10  6  5  2 19  7  8  9  0 17 11  1 23 15 20 21 13]\n",
      "importances: [0.48077879 0.09200397 0.08757509 0.08183111 0.03891939 0.03755949\n",
      " 0.02548784 0.0219645  0.01981543 0.01690694 0.01475449 0.01279755\n",
      " 0.01069237 0.00976361 0.00963145 0.00952867 0.00557769 0.00490109\n",
      " 0.00392838 0.00388313 0.00340444 0.00296942 0.00273544 0.00258971]\n",
      "features: ['FOOD' 'MSW' 'JOBS' 'METL' 'VADD' 'OZON' 'EUTR' 'HRSP' 'HAPS' 'GCC'\n",
      " 'ETOX' 'PEST' 'HAZW' 'HC' 'HNC' 'ACID' 'NREN' 'HTOX' 'ENRG' 'WATR' 'MINE'\n",
      " 'REN' 'SMOG' 'LAND']\n",
      "\n",
      "\n",
      "cancer type: 71\n",
      "14    Bladder\n",
      "Creating RandomForest Model and Fitting the Data\n"
     ]
    },
    {
     "name": "stderr",
     "output_type": "stream",
     "text": [
      "C:\\Users\\Owner\\Miniconda3\\lib\\site-packages\\ipykernel_launcher.py:60: UserWarning: Matplotlib is currently using module://ipykernel.pylab.backend_inline, which is a non-GUI backend, so cannot show the figure.\n"
     ]
    },
    {
     "name": "stdout",
     "output_type": "stream",
     "text": [
      "score 0.8222638983189149\n",
      "Feature Importance\n",
      "indecis: [ 4 16 12 14 22 19 18  2 10  3  6  5  7  9  8 15 11  1  0 17 23 20 13 21]\n",
      "importances: [0.48507261 0.16608914 0.0495879  0.0402481  0.03276807 0.0325428\n",
      " 0.03127389 0.02426875 0.02277614 0.02141246 0.01946006 0.01400254\n",
      " 0.01032194 0.00815268 0.00767242 0.00602072 0.00528349 0.00467789\n",
      " 0.00391697 0.00351271 0.00324755 0.00304663 0.00303911 0.00160542]\n",
      "features: ['FOOD' 'MSW' 'JOBS' 'METL' 'VADD' 'PEST' 'OZON' 'ETOX' 'HRSP' 'EUTR'\n",
      " 'HAPS' 'GCC' 'HAZW' 'HNC' 'HC' 'MINE' 'HTOX' 'ENRG' 'ACID' 'NREN' 'WATR'\n",
      " 'REN' 'LAND' 'SMOG']\n",
      "\n",
      "\n",
      "cancer type: 72\n",
      "15    Kidney & Renal Pelvis\n",
      "Creating RandomForest Model and Fitting the Data\n"
     ]
    },
    {
     "name": "stderr",
     "output_type": "stream",
     "text": [
      "C:\\Users\\Owner\\Miniconda3\\lib\\site-packages\\ipykernel_launcher.py:60: UserWarning: Matplotlib is currently using module://ipykernel.pylab.backend_inline, which is a non-GUI backend, so cannot show the figure.\n"
     ]
    },
    {
     "name": "stdout",
     "output_type": "stream",
     "text": [
      "score 0.8395389544222707\n",
      "Feature Importance\n",
      "indecis: [ 4 16 14 12 18 10  3  6 22 11  5  0  9 19  7  8  2 21 20 15 13 23 17  1]\n",
      "importances: [0.40914141 0.14825745 0.07682553 0.04620107 0.0453336  0.04060521\n",
      " 0.03417207 0.03267368 0.02489453 0.02463758 0.02178694 0.01930912\n",
      " 0.01422807 0.01317422 0.00983273 0.00728381 0.00700423 0.00647751\n",
      " 0.00389304 0.00364387 0.00305116 0.00266484 0.00263814 0.00227019]\n",
      "features: ['FOOD' 'MSW' 'METL' 'JOBS' 'OZON' 'HRSP' 'EUTR' 'HAPS' 'VADD' 'HTOX'\n",
      " 'GCC' 'ACID' 'HNC' 'PEST' 'HAZW' 'HC' 'ETOX' 'SMOG' 'REN' 'MINE' 'LAND'\n",
      " 'WATR' 'NREN' 'ENRG']\n",
      "\n",
      "\n",
      "cancer type: 76\n",
      "16    Brain & ONS\n",
      "Creating RandomForest Model and Fitting the Data\n"
     ]
    },
    {
     "name": "stderr",
     "output_type": "stream",
     "text": [
      "C:\\Users\\Owner\\Miniconda3\\lib\\site-packages\\ipykernel_launcher.py:60: UserWarning: Matplotlib is currently using module://ipykernel.pylab.backend_inline, which is a non-GUI backend, so cannot show the figure.\n"
     ]
    },
    {
     "name": "stdout",
     "output_type": "stream",
     "text": [
      "score 0.8866263352458327\n",
      "Feature Importance\n",
      "indecis: [ 4 16 14 18  6 10 22  0  3  5 12  8 19  2  7 15 13 21  9 17 23 20 11  1]\n",
      "importances: [0.536584   0.12961535 0.06418454 0.05403837 0.04472204 0.03164688\n",
      " 0.0214166  0.0193635  0.01618329 0.01330886 0.01217383 0.01027404\n",
      " 0.01010052 0.00900076 0.00394803 0.00375962 0.00358874 0.00337304\n",
      " 0.00263387 0.0025219  0.00230753 0.00229381 0.00157349 0.00138737]\n",
      "features: ['FOOD' 'MSW' 'METL' 'OZON' 'HAPS' 'HRSP' 'VADD' 'ACID' 'EUTR' 'GCC'\n",
      " 'JOBS' 'HC' 'PEST' 'ETOX' 'HAZW' 'MINE' 'LAND' 'SMOG' 'HNC' 'NREN' 'WATR'\n",
      " 'REN' 'HTOX' 'ENRG']\n",
      "\n",
      "\n",
      "cancer type: 80\n",
      "17    Thyroid\n",
      "Creating RandomForest Model and Fitting the Data\n"
     ]
    },
    {
     "name": "stderr",
     "output_type": "stream",
     "text": [
      "C:\\Users\\Owner\\Miniconda3\\lib\\site-packages\\ipykernel_launcher.py:60: UserWarning: Matplotlib is currently using module://ipykernel.pylab.backend_inline, which is a non-GUI backend, so cannot show the figure.\n"
     ]
    },
    {
     "name": "stdout",
     "output_type": "stream",
     "text": [
      "score 0.7999516362996226\n",
      "Feature Importance\n",
      "indecis: [ 4 16 12 14 22 18 10  3  6 19  2  5  0 13 15  8  7 11  9 23 17 20  1 21]\n",
      "importances: [0.44787036 0.11518753 0.08631177 0.08429224 0.04915391 0.03351547\n",
      " 0.02785554 0.02033247 0.01902389 0.01707041 0.01683239 0.01662814\n",
      " 0.01255402 0.00707616 0.0068884  0.00632692 0.00623942 0.00619908\n",
      " 0.00494264 0.00449017 0.00417367 0.00295938 0.00216406 0.00191197]\n",
      "features: ['FOOD' 'MSW' 'JOBS' 'METL' 'VADD' 'OZON' 'HRSP' 'EUTR' 'HAPS' 'PEST'\n",
      " 'ETOX' 'GCC' 'ACID' 'LAND' 'MINE' 'HC' 'HAZW' 'HTOX' 'HNC' 'WATR' 'NREN'\n",
      " 'REN' 'ENRG' 'SMOG']\n",
      "\n",
      "\n",
      "cancer type: 86\n",
      "18    Non-Hodgkin Lymphoma\n",
      "Creating RandomForest Model and Fitting the Data\n"
     ]
    },
    {
     "name": "stderr",
     "output_type": "stream",
     "text": [
      "C:\\Users\\Owner\\Miniconda3\\lib\\site-packages\\ipykernel_launcher.py:60: UserWarning: Matplotlib is currently using module://ipykernel.pylab.backend_inline, which is a non-GUI backend, so cannot show the figure.\n"
     ]
    },
    {
     "name": "stdout",
     "output_type": "stream",
     "text": [
      "score 0.8614971947241707\n",
      "Feature Importance\n",
      "indecis: [ 4 16 12 14 18 19  3 10  2 22  6  7  0  5  9  8 11 13 15  1 17 20 23 21]\n",
      "importances: [0.47368154 0.09951439 0.07089116 0.06540613 0.04492134 0.03707437\n",
      " 0.03587478 0.03231945 0.03219608 0.02208778 0.01821105 0.01221914\n",
      " 0.01109775 0.00872963 0.00733298 0.00552996 0.00546845 0.00333155\n",
      " 0.00330762 0.00288    0.00281943 0.00208539 0.00174685 0.00127319]\n",
      "features: ['FOOD' 'MSW' 'JOBS' 'METL' 'OZON' 'PEST' 'EUTR' 'HRSP' 'ETOX' 'VADD'\n",
      " 'HAPS' 'HAZW' 'ACID' 'GCC' 'HNC' 'HC' 'HTOX' 'LAND' 'MINE' 'ENRG' 'NREN'\n",
      " 'REN' 'WATR' 'SMOG']\n",
      "\n",
      "\n",
      "cancer type: 90\n",
      "19    Leukemia\n",
      "Creating RandomForest Model and Fitting the Data\n"
     ]
    },
    {
     "name": "stderr",
     "output_type": "stream",
     "text": [
      "C:\\Users\\Owner\\Miniconda3\\lib\\site-packages\\ipykernel_launcher.py:60: UserWarning: Matplotlib is currently using module://ipykernel.pylab.backend_inline, which is a non-GUI backend, so cannot show the figure.\n"
     ]
    },
    {
     "name": "stdout",
     "output_type": "stream",
     "text": [
      "score 0.8478596017946073\n",
      "Feature Importance\n",
      "indecis: [ 4 16 14 12  3 18  6 22  2 10 19  9  5  0  7 11  8 15 21 13  1 20 17 23]\n",
      "importances: [0.46444967 0.11372859 0.07533275 0.06131352 0.0326161  0.0322048\n",
      " 0.03179354 0.03140345 0.02751872 0.02609485 0.02223847 0.01133355\n",
      " 0.01115901 0.0088442  0.00826843 0.00747185 0.00640483 0.00526927\n",
      " 0.00522341 0.00484226 0.00431995 0.00361761 0.00250866 0.00204254]\n",
      "features: ['FOOD' 'MSW' 'METL' 'JOBS' 'EUTR' 'OZON' 'HAPS' 'VADD' 'ETOX' 'HRSP'\n",
      " 'PEST' 'HNC' 'GCC' 'ACID' 'HAZW' 'HTOX' 'HC' 'MINE' 'SMOG' 'LAND' 'ENRG'\n",
      " 'REN' 'NREN' 'WATR']\n",
      "\n",
      "\n",
      "cancer type: 400\n",
      "20    Breast (in situ) (Female)\n",
      "Creating RandomForest Model and Fitting the Data\n"
     ]
    },
    {
     "name": "stderr",
     "output_type": "stream",
     "text": [
      "C:\\Users\\Owner\\Miniconda3\\lib\\site-packages\\ipykernel_launcher.py:60: UserWarning: Matplotlib is currently using module://ipykernel.pylab.backend_inline, which is a non-GUI backend, so cannot show the figure.\n"
     ]
    },
    {
     "name": "stdout",
     "output_type": "stream",
     "text": [
      "score 0.9138826739133933\n",
      "Feature Importance\n",
      "indecis: [ 4 12 16 14 22 19 10  2 18  6  3  7  5  8 21  0 17  9 15 11 23 13  1 20]\n",
      "importances: [0.41502628 0.20544558 0.10108974 0.06942405 0.03120768 0.02617463\n",
      " 0.02417046 0.02070423 0.02040979 0.01459563 0.01093123 0.00879853\n",
      " 0.00793542 0.00701122 0.00498527 0.00475139 0.00453073 0.00450024\n",
      " 0.00399369 0.00360039 0.00359931 0.00306402 0.00238797 0.00166252]\n",
      "features: ['FOOD' 'JOBS' 'MSW' 'METL' 'VADD' 'PEST' 'HRSP' 'ETOX' 'OZON' 'HAPS'\n",
      " 'EUTR' 'HAZW' 'GCC' 'HC' 'SMOG' 'ACID' 'NREN' 'HNC' 'MINE' 'HTOX' 'WATR'\n",
      " 'LAND' 'ENRG' 'REN']\n",
      "\n",
      "\n",
      "cancer type: 515\n",
      "21    Childhood (Ages <20, All Sites)\n",
      "Creating RandomForest Model and Fitting the Data\n"
     ]
    },
    {
     "name": "stderr",
     "output_type": "stream",
     "text": [
      "C:\\Users\\Owner\\Miniconda3\\lib\\site-packages\\ipykernel_launcher.py:53: RuntimeWarning: More than 20 figures have been opened. Figures created through the pyplot interface (`matplotlib.pyplot.figure`) are retained until explicitly closed and may consume too much memory. (To control this warning, see the rcParam `figure.max_open_warning`).\n",
      "C:\\Users\\Owner\\Miniconda3\\lib\\site-packages\\ipykernel_launcher.py:60: UserWarning: Matplotlib is currently using module://ipykernel.pylab.backend_inline, which is a non-GUI backend, so cannot show the figure.\n"
     ]
    },
    {
     "name": "stdout",
     "output_type": "stream",
     "text": [
      "score 0.853551687575325\n",
      "Feature Importance\n",
      "indecis: [ 4 16 18 14  6 12 10  3  5  7 22  9  8  0 19 11  2 13 17 21 20 15  1 23]\n",
      "importances: [0.31587534 0.1137927  0.09070537 0.06930877 0.06897626 0.04775594\n",
      " 0.04643669 0.03869391 0.02773165 0.02633604 0.02402999 0.02391082\n",
      " 0.02224448 0.02116979 0.01543947 0.01111933 0.00957297 0.00568568\n",
      " 0.00521319 0.00373547 0.0032037  0.00307644 0.00300373 0.0029823 ]\n",
      "features: ['FOOD' 'MSW' 'OZON' 'METL' 'HAPS' 'JOBS' 'HRSP' 'EUTR' 'GCC' 'HAZW'\n",
      " 'VADD' 'HNC' 'HC' 'ACID' 'PEST' 'HTOX' 'ETOX' 'LAND' 'NREN' 'SMOG' 'REN'\n",
      " 'MINE' 'ENRG' 'WATR']\n",
      "\n",
      "\n",
      "cancer type: 516\n",
      "22    Childhood (Ages <15, All Sites)\n",
      "Creating RandomForest Model and Fitting the Data\n"
     ]
    },
    {
     "name": "stderr",
     "output_type": "stream",
     "text": [
      "C:\\Users\\Owner\\Miniconda3\\lib\\site-packages\\ipykernel_launcher.py:53: RuntimeWarning: More than 20 figures have been opened. Figures created through the pyplot interface (`matplotlib.pyplot.figure`) are retained until explicitly closed and may consume too much memory. (To control this warning, see the rcParam `figure.max_open_warning`).\n",
      "C:\\Users\\Owner\\Miniconda3\\lib\\site-packages\\ipykernel_launcher.py:60: UserWarning: Matplotlib is currently using module://ipykernel.pylab.backend_inline, which is a non-GUI backend, so cannot show the figure.\n"
     ]
    },
    {
     "name": "stdout",
     "output_type": "stream",
     "text": [
      "score 0.8408359751494777\n",
      "Feature Importance\n",
      "indecis: [ 4 16 18 14  6 10  3 12  5 11  0 22  9  7  8  2 17 21 19 13 15  1 23 20]\n",
      "importances: [0.29271124 0.10750733 0.09495364 0.08645943 0.08043705 0.06210114\n",
      " 0.03708248 0.03444826 0.02797534 0.02523437 0.02387576 0.02326252\n",
      " 0.02122236 0.01993742 0.01916896 0.00628078 0.00617515 0.00579223\n",
      " 0.00543458 0.00468138 0.004519   0.00394428 0.00372322 0.00307208]\n",
      "features: ['FOOD' 'MSW' 'OZON' 'METL' 'HAPS' 'HRSP' 'EUTR' 'JOBS' 'GCC' 'HTOX'\n",
      " 'ACID' 'VADD' 'HNC' 'HAZW' 'HC' 'ETOX' 'NREN' 'SMOG' 'PEST' 'LAND' 'MINE'\n",
      " 'ENRG' 'WATR' 'REN']\n",
      "\n",
      "\n"
     ]
    },
    {
     "name": "stderr",
     "output_type": "stream",
     "text": [
      "C:\\Users\\Owner\\Miniconda3\\lib\\site-packages\\ipykernel_launcher.py:53: RuntimeWarning: More than 20 figures have been opened. Figures created through the pyplot interface (`matplotlib.pyplot.figure`) are retained until explicitly closed and may consume too much memory. (To control this warning, see the rcParam `figure.max_open_warning`).\n",
      "C:\\Users\\Owner\\Miniconda3\\lib\\site-packages\\ipykernel_launcher.py:60: UserWarning: Matplotlib is currently using module://ipykernel.pylab.backend_inline, which is a non-GUI backend, so cannot show the figure.\n"
     ]
    },
    {
     "data": {
      "image/png": "[encoded data removed]",
      "text/plain": [
       "<Figure size 216x108 with 1 Axes>"
      ]
     },
     "metadata": {
      "needs_background": "light"
     },
     "output_type": "display_data"
    },
    {
     "data": {
      "image/png": "[encoded data removed]",
      "text/plain": [
       "<Figure size 216x108 with 1 Axes>"
      ]
     },
     "metadata": {
      "needs_background": "light"
     },
     "output_type": "display_data"
    },
    {
     "data": {
      "image/png": "[encoded data removed]",
      "text/plain": [
       "<Figure size 216x108 with 1 Axes>"
      ]
     },
     "metadata": {
      "needs_background": "light"
     },
     "output_type": "display_data"
    },
    {
     "data": {
      "image/png": "[encoded data removed]",
      "text/plain": [
       "<Figure size 216x108 with 1 Axes>"
      ]
     },
     "metadata": {
      "needs_background": "light"
     },
     "output_type": "display_data"
    },
    {
     "data": {
      "image/png": "[encoded data removed]",
      "text/plain": [
       "<Figure size 216x108 with 1 Axes>"
      ]
     },
     "metadata": {
      "needs_background": "light"
     },
     "output_type": "display_data"
    },
    {
     "data": {
      "image/png": "[encoded data removed]",
      "text/plain": [
       "<Figure size 216x108 with 1 Axes>"
      ]
     },
     "metadata": {
      "needs_background": "light"
     },
     "output_type": "display_data"
    },
    {
     "data": {
      "image/png": "[encoded data removed]",
      "text/plain": [
       "<Figure size 216x108 with 1 Axes>"
      ]
     },
     "metadata": {
      "needs_background": "light"
     },
     "output_type": "display_data"
    },
    {
     "data": {
      "image/png": "[encoded data removed]",
      "text/plain": [
       "<Figure size 216x108 with 1 Axes>"
      ]
     },
     "metadata": {
      "needs_background": "light"
     },
     "output_type": "display_data"
    },
    {
     "data": {
      "image/png": "[encoded data removed]",
      "text/plain": [
       "<Figure size 216x108 with 1 Axes>"
      ]
     },
     "metadata": {
      "needs_background": "light"
     },
     "output_type": "display_data"
    },
    {
     "data": {
      "image/png": "[encoded data removed]",
      "text/plain": [
       "<Figure size 216x108 with 1 Axes>"
      ]
     },
     "metadata": {
      "needs_background": "light"
     },
     "output_type": "display_data"
    },
    {
     "data": {
      "image/png": "[encoded data removed]",
      "text/plain": [
       "<Figure size 216x108 with 1 Axes>"
      ]
     },
     "metadata": {
      "needs_background": "light"
     },
     "output_type": "display_data"
    },
    {
     "data": {
      "image/png": "[encoded data removed]",
      "text/plain": [
       "<Figure size 216x108 with 1 Axes>"
      ]
     },
     "metadata": {
      "needs_background": "light"
     },
     "output_type": "display_data"
    },
    {
     "data": {
      "image/png": "[encoded data removed]",
      "text/plain": [
       "<Figure size 216x108 with 1 Axes>"
      ]
     },
     "metadata": {
      "needs_background": "light"
     },
     "output_type": "display_data"
    },
    {
     "data": {
      "image/png": "[encoded data removed]",
      "text/plain": [
       "<Figure size 216x108 with 1 Axes>"
      ]
     },
     "metadata": {
      "needs_background": "light"
     },
     "output_type": "display_data"
    },
    {
     "data": {
      "image/png": "[encoded data removed]",
      "text/plain": [
       "<Figure size 216x108 with 1 Axes>"
      ]
     },
     "metadata": {
      "needs_background": "light"
     },
     "output_type": "display_data"
    },
    {
     "data": {
      "image/png": "[encoded data removed]",
      "text/plain": [
       "<Figure size 216x108 with 1 Axes>"
      ]
     },
     "metadata": {
      "needs_background": "light"
     },
     "output_type": "display_data"
    },
    {
     "data": {
      "image/png": "[encoded data removed]",
      "text/plain": [
       "<Figure size 216x108 with 1 Axes>"
      ]
     },
     "metadata": {
      "needs_background": "light"
     },
     "output_type": "display_data"
    },
    {
     "data": {
      "image/png": "[encoded data removed]",
      "text/plain": [
       "<Figure size 216x108 with 1 Axes>"
      ]
     },
     "metadata": {
      "needs_background": "light"
     },
     "output_type": "display_data"
    },
    {
     "data": {
      "image/png": "[encoded data removed]",
      "text/plain": [
       "<Figure size 216x108 with 1 Axes>"
      ]
     },
     "metadata": {
      "needs_background": "light"
     },
     "output_type": "display_data"
    },
    {
     "data": {
      "image/png": "[encoded data removed]",
      "text/plain": [
       "<Figure size 216x108 with 1 Axes>"
      ]
     },
     "metadata": {
      "needs_background": "light"
     },
     "output_type": "display_data"
    },
    {
     "data": {
      "image/png": "[encoded data removed]",
      "text/plain": [
       "<Figure size 216x108 with 1 Axes>"
      ]
     },
     "metadata": {
      "needs_background": "light"
     },
     "output_type": "display_data"
    },
    {
     "data": {
      "image/png": "[encoded data removed]",
      "text/plain": [
       "<Figure size 216x108 with 1 Axes>"
      ]
     },
     "metadata": {
      "needs_background": "light"
     },
     "output_type": "display_data"
    },
    {
     "data": {
      "image/png": "[encoded data removed]",
      "text/plain": [
       "<Figure size 216x108 with 1 Axes>"
      ]
     },
     "metadata": {
      "needs_background": "light"
     },
     "output_type": "display_data"
    }
   ],
   "source": [
    "for i in cancerVals:\n",
    "    #print cancer type number\n",
    "    print(\"cancer type:\",i)\n",
    "    \n",
    "    #print cancer description\n",
    "    cancer=cancerTypes[\"cancer\"]==i\n",
    "    discr=cancerTypes[cancer][\"cancer_description\"].to_string()\n",
    "    print(discr)\n",
    "    \n",
    "    #selecting data for the specific cancer type\n",
    "    cancerData=data[\"cancer\"]==i\n",
    "    newData=data[cancerData]\n",
    "    \n",
    "    #splitting to test and train\n",
    "    x1=newData.loc[:, 'ACID':'WATR']\n",
    "    y = newData['annual_count_avg']\n",
    "\n",
    "    X_train1, X_test1, y_train, y_test = train_test_split(x1, y,\n",
    "                                                        test_size=0.3,\n",
    "                                                        random_state = RSEED)\n",
    "\n",
    "    scaler = StandardScaler()\n",
    "    scaler.fit(X_train1)\n",
    "\n",
    "    X_train = scaler.transform(X_train1)\n",
    "    X_test = scaler.transform(X_test1)\n",
    "    \n",
    "    #Creating RandomForest Model\n",
    "    print(\"Creating RandomForest Model and Fitting the Data\")\n",
    "    rf = RandomForestRegressor(n_estimators = 100,\n",
    "                                      max_depth= 8, \n",
    "                                      random_state = RSEED)\n",
    "\n",
    "    # Fit on training data\n",
    "    rf.fit(X_train, y_train)\n",
    "    \n",
    "    #Evaluation\n",
    "    r2_score=rf.score(X_test, y_test)\n",
    "    print(\"score\",r2_score)\n",
    "    \n",
    "    #Feature Importance\n",
    "    print(\"Feature Importance\")\n",
    "    features=rf.feature_importances_\n",
    "    #print(features)\n",
    "    ind = np.argsort(features)[::-1]\n",
    "    print(\"indecis:\",ind)\n",
    "    imp = features[ind]\n",
    "    print(\"importances:\",imp)\n",
    "    cols =factors[ind]\n",
    "    print(\"features:\",cols)\n",
    "    \n",
    "    #plot the importance factors\n",
    "    fig=plt.figure(figsize=(3,1.5))\n",
    "    ax = fig.add_axes([0,0,1,1])\n",
    "    ax.set_title('Feature Importance for {}'.format(discr))\n",
    "    ax.bar( cols[:5].tolist(),imp[:5].tolist())\n",
    "    ax.set_ylabel(\"Coefficient Strength\")\n",
    "    ax.set_xlabel(\"Feature\")\n",
    "    plt.ylim(0, 1)\n",
    "    fig.show()\n",
    "    print(\"\\n\")"
   ]
  },
  {
   "cell_type": "markdown",
   "metadata": {},
   "source": [
    "# Logistic Regression"
   ]
  },
  {
   "cell_type": "markdown",
   "metadata": {},
   "source": [
    "## Hypertuning"
   ]
  },
  {
   "cell_type": "code",
   "execution_count": 168,
   "metadata": {},
   "outputs": [
    {
     "name": "stdout",
     "output_type": "stream",
     "text": [
      "XTrain (2193, 24)\n",
      "XTest (940, 24)\n"
     ]
    }
   ],
   "source": [
    "cancerData=data[\"cancer\"]==1\n",
    "newData=data[cancerData]    \n",
    "\n",
    "#splitting to test and train\n",
    "x1=newData.loc[:, 'ACID':'WATR']\n",
    "y = newData['annual_count_avg']\n",
    "\n",
    "X_train1, X_test1, y_train, y_test = train_test_split(x1, y,\n",
    "                                                    test_size=0.3,\n",
    "                                                    random_state = RSEED)\n",
    "scaler = StandardScaler()\n",
    "scaler.fit(X_train1)\n",
    "\n",
    "X_train = scaler.transform(X_train1)\n",
    "X_test = scaler.transform(X_test1)\n",
    "\n",
    "print(\"XTrain\",X_train.shape)\n",
    "print(\"XTest\",X_test.shape)"
   ]
  },
  {
   "cell_type": "code",
   "execution_count": 194,
   "metadata": {
    "scrolled": true
   },
   "outputs": [
    {
     "name": "stderr",
     "output_type": "stream",
     "text": [
      "C:\\Users\\Owner\\Miniconda3\\lib\\site-packages\\sklearn\\model_selection\\_split.py:667: UserWarning: The least populated class in y has only 1 members, which is less than n_splits=5.\n",
      "  % (min_groups, self.n_splits)), UserWarning)\n",
      "C:\\Users\\Owner\\Miniconda3\\lib\\site-packages\\sklearn\\linear_model\\_logistic.py:940: ConvergenceWarning: lbfgs failed to converge (status=1):\n",
      "STOP: TOTAL NO. of ITERATIONS REACHED LIMIT.\n",
      "\n",
      "Increase the number of iterations (max_iter) or scale the data as shown in:\n",
      "    https://scikit-learn.org/stable/modules/preprocessing.html\n",
      "Please also refer to the documentation for alternative solver options:\n",
      "    https://scikit-learn.org/stable/modules/linear_model.html#logistic-regression\n",
      "  extra_warning_msg=_LOGISTIC_SOLVER_CONVERGENCE_MSG)\n",
      "C:\\Users\\Owner\\Miniconda3\\lib\\site-packages\\sklearn\\linear_model\\_logistic.py:940: ConvergenceWarning: lbfgs failed to converge (status=1):\n",
      "STOP: TOTAL NO. of ITERATIONS REACHED LIMIT.\n",
      "\n",
      "Increase the number of iterations (max_iter) or scale the data as shown in:\n",
      "    https://scikit-learn.org/stable/modules/preprocessing.html\n",
      "Please also refer to the documentation for alternative solver options:\n",
      "    https://scikit-learn.org/stable/modules/linear_model.html#logistic-regression\n",
      "  extra_warning_msg=_LOGISTIC_SOLVER_CONVERGENCE_MSG)\n",
      "C:\\Users\\Owner\\Miniconda3\\lib\\site-packages\\sklearn\\linear_model\\_logistic.py:940: ConvergenceWarning: lbfgs failed to converge (status=1):\n",
      "STOP: TOTAL NO. of ITERATIONS REACHED LIMIT.\n",
      "\n",
      "Increase the number of iterations (max_iter) or scale the data as shown in:\n",
      "    https://scikit-learn.org/stable/modules/preprocessing.html\n",
      "Please also refer to the documentation for alternative solver options:\n",
      "    https://scikit-learn.org/stable/modules/linear_model.html#logistic-regression\n",
      "  extra_warning_msg=_LOGISTIC_SOLVER_CONVERGENCE_MSG)\n",
      "C:\\Users\\Owner\\Miniconda3\\lib\\site-packages\\sklearn\\linear_model\\_logistic.py:940: ConvergenceWarning: lbfgs failed to converge (status=1):\n",
      "STOP: TOTAL NO. of ITERATIONS REACHED LIMIT.\n",
      "\n",
      "Increase the number of iterations (max_iter) or scale the data as shown in:\n",
      "    https://scikit-learn.org/stable/modules/preprocessing.html\n",
      "Please also refer to the documentation for alternative solver options:\n",
      "    https://scikit-learn.org/stable/modules/linear_model.html#logistic-regression\n",
      "  extra_warning_msg=_LOGISTIC_SOLVER_CONVERGENCE_MSG)\n",
      "C:\\Users\\Owner\\Miniconda3\\lib\\site-packages\\sklearn\\linear_model\\_logistic.py:940: ConvergenceWarning: lbfgs failed to converge (status=1):\n",
      "STOP: TOTAL NO. of ITERATIONS REACHED LIMIT.\n",
      "\n",
      "Increase the number of iterations (max_iter) or scale the data as shown in:\n",
      "    https://scikit-learn.org/stable/modules/preprocessing.html\n",
      "Please also refer to the documentation for alternative solver options:\n",
      "    https://scikit-learn.org/stable/modules/linear_model.html#logistic-regression\n",
      "  extra_warning_msg=_LOGISTIC_SOLVER_CONVERGENCE_MSG)\n",
      "C:\\Users\\Owner\\Miniconda3\\lib\\site-packages\\sklearn\\linear_model\\_sag.py:330: ConvergenceWarning: The max_iter was reached which means the coef_ did not converge\n",
      "  \"the coef_ did not converge\", ConvergenceWarning)\n",
      "C:\\Users\\Owner\\Miniconda3\\lib\\site-packages\\sklearn\\linear_model\\_sag.py:330: ConvergenceWarning: The max_iter was reached which means the coef_ did not converge\n",
      "  \"the coef_ did not converge\", ConvergenceWarning)\n",
      "C:\\Users\\Owner\\Miniconda3\\lib\\site-packages\\sklearn\\linear_model\\_sag.py:330: ConvergenceWarning: The max_iter was reached which means the coef_ did not converge\n",
      "  \"the coef_ did not converge\", ConvergenceWarning)\n",
      "C:\\Users\\Owner\\Miniconda3\\lib\\site-packages\\sklearn\\linear_model\\_sag.py:330: ConvergenceWarning: The max_iter was reached which means the coef_ did not converge\n",
      "  \"the coef_ did not converge\", ConvergenceWarning)\n",
      "C:\\Users\\Owner\\Miniconda3\\lib\\site-packages\\sklearn\\linear_model\\_sag.py:330: ConvergenceWarning: The max_iter was reached which means the coef_ did not converge\n",
      "  \"the coef_ did not converge\", ConvergenceWarning)\n",
      "C:\\Users\\Owner\\Miniconda3\\lib\\site-packages\\sklearn\\linear_model\\_sag.py:330: ConvergenceWarning: The max_iter was reached which means the coef_ did not converge\n",
      "  \"the coef_ did not converge\", ConvergenceWarning)\n",
      "C:\\Users\\Owner\\Miniconda3\\lib\\site-packages\\sklearn\\linear_model\\_sag.py:330: ConvergenceWarning: The max_iter was reached which means the coef_ did not converge\n",
      "  \"the coef_ did not converge\", ConvergenceWarning)\n",
      "C:\\Users\\Owner\\Miniconda3\\lib\\site-packages\\sklearn\\linear_model\\_sag.py:330: ConvergenceWarning: The max_iter was reached which means the coef_ did not converge\n",
      "  \"the coef_ did not converge\", ConvergenceWarning)\n",
      "C:\\Users\\Owner\\Miniconda3\\lib\\site-packages\\sklearn\\linear_model\\_sag.py:330: ConvergenceWarning: The max_iter was reached which means the coef_ did not converge\n",
      "  \"the coef_ did not converge\", ConvergenceWarning)\n",
      "C:\\Users\\Owner\\Miniconda3\\lib\\site-packages\\sklearn\\linear_model\\_sag.py:330: ConvergenceWarning: The max_iter was reached which means the coef_ did not converge\n",
      "  \"the coef_ did not converge\", ConvergenceWarning)\n",
      "C:\\Users\\Owner\\Miniconda3\\lib\\site-packages\\sklearn\\linear_model\\_logistic.py:940: ConvergenceWarning: lbfgs failed to converge (status=1):\n",
      "STOP: TOTAL NO. of ITERATIONS REACHED LIMIT.\n",
      "\n",
      "Increase the number of iterations (max_iter) or scale the data as shown in:\n",
      "    https://scikit-learn.org/stable/modules/preprocessing.html\n",
      "Please also refer to the documentation for alternative solver options:\n",
      "    https://scikit-learn.org/stable/modules/linear_model.html#logistic-regression\n",
      "  extra_warning_msg=_LOGISTIC_SOLVER_CONVERGENCE_MSG)\n",
      "C:\\Users\\Owner\\Miniconda3\\lib\\site-packages\\sklearn\\linear_model\\_logistic.py:940: ConvergenceWarning: lbfgs failed to converge (status=1):\n",
      "STOP: TOTAL NO. of ITERATIONS REACHED LIMIT.\n",
      "\n",
      "Increase the number of iterations (max_iter) or scale the data as shown in:\n",
      "    https://scikit-learn.org/stable/modules/preprocessing.html\n",
      "Please also refer to the documentation for alternative solver options:\n",
      "    https://scikit-learn.org/stable/modules/linear_model.html#logistic-regression\n",
      "  extra_warning_msg=_LOGISTIC_SOLVER_CONVERGENCE_MSG)\n",
      "C:\\Users\\Owner\\Miniconda3\\lib\\site-packages\\sklearn\\linear_model\\_logistic.py:940: ConvergenceWarning: lbfgs failed to converge (status=1):\n",
      "STOP: TOTAL NO. of ITERATIONS REACHED LIMIT.\n",
      "\n",
      "Increase the number of iterations (max_iter) or scale the data as shown in:\n",
      "    https://scikit-learn.org/stable/modules/preprocessing.html\n",
      "Please also refer to the documentation for alternative solver options:\n",
      "    https://scikit-learn.org/stable/modules/linear_model.html#logistic-regression\n",
      "  extra_warning_msg=_LOGISTIC_SOLVER_CONVERGENCE_MSG)\n",
      "C:\\Users\\Owner\\Miniconda3\\lib\\site-packages\\sklearn\\linear_model\\_logistic.py:940: ConvergenceWarning: lbfgs failed to converge (status=1):\n",
      "STOP: TOTAL NO. of ITERATIONS REACHED LIMIT.\n",
      "\n",
      "Increase the number of iterations (max_iter) or scale the data as shown in:\n",
      "    https://scikit-learn.org/stable/modules/preprocessing.html\n",
      "Please also refer to the documentation for alternative solver options:\n",
      "    https://scikit-learn.org/stable/modules/linear_model.html#logistic-regression\n",
      "  extra_warning_msg=_LOGISTIC_SOLVER_CONVERGENCE_MSG)\n",
      "C:\\Users\\Owner\\Miniconda3\\lib\\site-packages\\sklearn\\linear_model\\_logistic.py:940: ConvergenceWarning: lbfgs failed to converge (status=1):\n",
      "STOP: TOTAL NO. of ITERATIONS REACHED LIMIT.\n",
      "\n",
      "Increase the number of iterations (max_iter) or scale the data as shown in:\n",
      "    https://scikit-learn.org/stable/modules/preprocessing.html\n",
      "Please also refer to the documentation for alternative solver options:\n",
      "    https://scikit-learn.org/stable/modules/linear_model.html#logistic-regression\n",
      "  extra_warning_msg=_LOGISTIC_SOLVER_CONVERGENCE_MSG)\n",
      "C:\\Users\\Owner\\Miniconda3\\lib\\site-packages\\sklearn\\linear_model\\_sag.py:330: ConvergenceWarning: The max_iter was reached which means the coef_ did not converge\n",
      "  \"the coef_ did not converge\", ConvergenceWarning)\n",
      "C:\\Users\\Owner\\Miniconda3\\lib\\site-packages\\sklearn\\linear_model\\_sag.py:330: ConvergenceWarning: The max_iter was reached which means the coef_ did not converge\n",
      "  \"the coef_ did not converge\", ConvergenceWarning)\n",
      "C:\\Users\\Owner\\Miniconda3\\lib\\site-packages\\sklearn\\linear_model\\_sag.py:330: ConvergenceWarning: The max_iter was reached which means the coef_ did not converge\n",
      "  \"the coef_ did not converge\", ConvergenceWarning)\n"
     ]
    },
    {
     "name": "stderr",
     "output_type": "stream",
     "text": [
      "C:\\Users\\Owner\\Miniconda3\\lib\\site-packages\\sklearn\\linear_model\\_sag.py:330: ConvergenceWarning: The max_iter was reached which means the coef_ did not converge\n",
      "  \"the coef_ did not converge\", ConvergenceWarning)\n",
      "C:\\Users\\Owner\\Miniconda3\\lib\\site-packages\\sklearn\\linear_model\\_sag.py:330: ConvergenceWarning: The max_iter was reached which means the coef_ did not converge\n",
      "  \"the coef_ did not converge\", ConvergenceWarning)\n",
      "C:\\Users\\Owner\\Miniconda3\\lib\\site-packages\\sklearn\\linear_model\\_sag.py:330: ConvergenceWarning: The max_iter was reached which means the coef_ did not converge\n",
      "  \"the coef_ did not converge\", ConvergenceWarning)\n",
      "C:\\Users\\Owner\\Miniconda3\\lib\\site-packages\\sklearn\\linear_model\\_sag.py:330: ConvergenceWarning: The max_iter was reached which means the coef_ did not converge\n",
      "  \"the coef_ did not converge\", ConvergenceWarning)\n",
      "C:\\Users\\Owner\\Miniconda3\\lib\\site-packages\\sklearn\\linear_model\\_sag.py:330: ConvergenceWarning: The max_iter was reached which means the coef_ did not converge\n",
      "  \"the coef_ did not converge\", ConvergenceWarning)\n",
      "C:\\Users\\Owner\\Miniconda3\\lib\\site-packages\\sklearn\\linear_model\\_sag.py:330: ConvergenceWarning: The max_iter was reached which means the coef_ did not converge\n",
      "  \"the coef_ did not converge\", ConvergenceWarning)\n",
      "C:\\Users\\Owner\\Miniconda3\\lib\\site-packages\\sklearn\\linear_model\\_sag.py:330: ConvergenceWarning: The max_iter was reached which means the coef_ did not converge\n",
      "  \"the coef_ did not converge\", ConvergenceWarning)\n",
      "C:\\Users\\Owner\\Miniconda3\\lib\\site-packages\\sklearn\\linear_model\\_logistic.py:940: ConvergenceWarning: lbfgs failed to converge (status=1):\n",
      "STOP: TOTAL NO. of ITERATIONS REACHED LIMIT.\n",
      "\n",
      "Increase the number of iterations (max_iter) or scale the data as shown in:\n",
      "    https://scikit-learn.org/stable/modules/preprocessing.html\n",
      "Please also refer to the documentation for alternative solver options:\n",
      "    https://scikit-learn.org/stable/modules/linear_model.html#logistic-regression\n",
      "  extra_warning_msg=_LOGISTIC_SOLVER_CONVERGENCE_MSG)\n",
      "C:\\Users\\Owner\\Miniconda3\\lib\\site-packages\\sklearn\\linear_model\\_logistic.py:940: ConvergenceWarning: lbfgs failed to converge (status=1):\n",
      "STOP: TOTAL NO. of ITERATIONS REACHED LIMIT.\n",
      "\n",
      "Increase the number of iterations (max_iter) or scale the data as shown in:\n",
      "    https://scikit-learn.org/stable/modules/preprocessing.html\n",
      "Please also refer to the documentation for alternative solver options:\n",
      "    https://scikit-learn.org/stable/modules/linear_model.html#logistic-regression\n",
      "  extra_warning_msg=_LOGISTIC_SOLVER_CONVERGENCE_MSG)\n",
      "C:\\Users\\Owner\\Miniconda3\\lib\\site-packages\\sklearn\\linear_model\\_logistic.py:940: ConvergenceWarning: lbfgs failed to converge (status=1):\n",
      "STOP: TOTAL NO. of ITERATIONS REACHED LIMIT.\n",
      "\n",
      "Increase the number of iterations (max_iter) or scale the data as shown in:\n",
      "    https://scikit-learn.org/stable/modules/preprocessing.html\n",
      "Please also refer to the documentation for alternative solver options:\n",
      "    https://scikit-learn.org/stable/modules/linear_model.html#logistic-regression\n",
      "  extra_warning_msg=_LOGISTIC_SOLVER_CONVERGENCE_MSG)\n",
      "C:\\Users\\Owner\\Miniconda3\\lib\\site-packages\\sklearn\\linear_model\\_logistic.py:940: ConvergenceWarning: lbfgs failed to converge (status=1):\n",
      "STOP: TOTAL NO. of ITERATIONS REACHED LIMIT.\n",
      "\n",
      "Increase the number of iterations (max_iter) or scale the data as shown in:\n",
      "    https://scikit-learn.org/stable/modules/preprocessing.html\n",
      "Please also refer to the documentation for alternative solver options:\n",
      "    https://scikit-learn.org/stable/modules/linear_model.html#logistic-regression\n",
      "  extra_warning_msg=_LOGISTIC_SOLVER_CONVERGENCE_MSG)\n",
      "C:\\Users\\Owner\\Miniconda3\\lib\\site-packages\\sklearn\\linear_model\\_logistic.py:940: ConvergenceWarning: lbfgs failed to converge (status=1):\n",
      "STOP: TOTAL NO. of ITERATIONS REACHED LIMIT.\n",
      "\n",
      "Increase the number of iterations (max_iter) or scale the data as shown in:\n",
      "    https://scikit-learn.org/stable/modules/preprocessing.html\n",
      "Please also refer to the documentation for alternative solver options:\n",
      "    https://scikit-learn.org/stable/modules/linear_model.html#logistic-regression\n",
      "  extra_warning_msg=_LOGISTIC_SOLVER_CONVERGENCE_MSG)\n",
      "C:\\Users\\Owner\\Miniconda3\\lib\\site-packages\\sklearn\\linear_model\\_sag.py:330: ConvergenceWarning: The max_iter was reached which means the coef_ did not converge\n",
      "  \"the coef_ did not converge\", ConvergenceWarning)\n",
      "C:\\Users\\Owner\\Miniconda3\\lib\\site-packages\\sklearn\\linear_model\\_sag.py:330: ConvergenceWarning: The max_iter was reached which means the coef_ did not converge\n",
      "  \"the coef_ did not converge\", ConvergenceWarning)\n",
      "C:\\Users\\Owner\\Miniconda3\\lib\\site-packages\\sklearn\\linear_model\\_sag.py:330: ConvergenceWarning: The max_iter was reached which means the coef_ did not converge\n",
      "  \"the coef_ did not converge\", ConvergenceWarning)\n",
      "C:\\Users\\Owner\\Miniconda3\\lib\\site-packages\\sklearn\\linear_model\\_sag.py:330: ConvergenceWarning: The max_iter was reached which means the coef_ did not converge\n",
      "  \"the coef_ did not converge\", ConvergenceWarning)\n",
      "C:\\Users\\Owner\\Miniconda3\\lib\\site-packages\\sklearn\\linear_model\\_sag.py:330: ConvergenceWarning: The max_iter was reached which means the coef_ did not converge\n",
      "  \"the coef_ did not converge\", ConvergenceWarning)\n",
      "C:\\Users\\Owner\\Miniconda3\\lib\\site-packages\\sklearn\\linear_model\\_sag.py:330: ConvergenceWarning: The max_iter was reached which means the coef_ did not converge\n",
      "  \"the coef_ did not converge\", ConvergenceWarning)\n",
      "C:\\Users\\Owner\\Miniconda3\\lib\\site-packages\\sklearn\\linear_model\\_sag.py:330: ConvergenceWarning: The max_iter was reached which means the coef_ did not converge\n",
      "  \"the coef_ did not converge\", ConvergenceWarning)\n",
      "C:\\Users\\Owner\\Miniconda3\\lib\\site-packages\\sklearn\\linear_model\\_sag.py:330: ConvergenceWarning: The max_iter was reached which means the coef_ did not converge\n",
      "  \"the coef_ did not converge\", ConvergenceWarning)\n",
      "C:\\Users\\Owner\\Miniconda3\\lib\\site-packages\\sklearn\\linear_model\\_sag.py:330: ConvergenceWarning: The max_iter was reached which means the coef_ did not converge\n",
      "  \"the coef_ did not converge\", ConvergenceWarning)\n",
      "C:\\Users\\Owner\\Miniconda3\\lib\\site-packages\\sklearn\\linear_model\\_sag.py:330: ConvergenceWarning: The max_iter was reached which means the coef_ did not converge\n",
      "  \"the coef_ did not converge\", ConvergenceWarning)\n",
      "C:\\Users\\Owner\\Miniconda3\\lib\\site-packages\\sklearn\\linear_model\\_logistic.py:940: ConvergenceWarning: lbfgs failed to converge (status=1):\n",
      "STOP: TOTAL NO. of ITERATIONS REACHED LIMIT.\n",
      "\n",
      "Increase the number of iterations (max_iter) or scale the data as shown in:\n",
      "    https://scikit-learn.org/stable/modules/preprocessing.html\n",
      "Please also refer to the documentation for alternative solver options:\n",
      "    https://scikit-learn.org/stable/modules/linear_model.html#logistic-regression\n",
      "  extra_warning_msg=_LOGISTIC_SOLVER_CONVERGENCE_MSG)\n",
      "C:\\Users\\Owner\\Miniconda3\\lib\\site-packages\\sklearn\\linear_model\\_logistic.py:940: ConvergenceWarning: lbfgs failed to converge (status=1):\n",
      "STOP: TOTAL NO. of ITERATIONS REACHED LIMIT.\n",
      "\n",
      "Increase the number of iterations (max_iter) or scale the data as shown in:\n",
      "    https://scikit-learn.org/stable/modules/preprocessing.html\n",
      "Please also refer to the documentation for alternative solver options:\n",
      "    https://scikit-learn.org/stable/modules/linear_model.html#logistic-regression\n",
      "  extra_warning_msg=_LOGISTIC_SOLVER_CONVERGENCE_MSG)\n",
      "C:\\Users\\Owner\\Miniconda3\\lib\\site-packages\\sklearn\\linear_model\\_logistic.py:940: ConvergenceWarning: lbfgs failed to converge (status=1):\n",
      "STOP: TOTAL NO. of ITERATIONS REACHED LIMIT.\n",
      "\n",
      "Increase the number of iterations (max_iter) or scale the data as shown in:\n",
      "    https://scikit-learn.org/stable/modules/preprocessing.html\n",
      "Please also refer to the documentation for alternative solver options:\n",
      "    https://scikit-learn.org/stable/modules/linear_model.html#logistic-regression\n",
      "  extra_warning_msg=_LOGISTIC_SOLVER_CONVERGENCE_MSG)\n",
      "C:\\Users\\Owner\\Miniconda3\\lib\\site-packages\\sklearn\\linear_model\\_logistic.py:940: ConvergenceWarning: lbfgs failed to converge (status=1):\n",
      "STOP: TOTAL NO. of ITERATIONS REACHED LIMIT.\n",
      "\n",
      "Increase the number of iterations (max_iter) or scale the data as shown in:\n",
      "    https://scikit-learn.org/stable/modules/preprocessing.html\n",
      "Please also refer to the documentation for alternative solver options:\n",
      "    https://scikit-learn.org/stable/modules/linear_model.html#logistic-regression\n",
      "  extra_warning_msg=_LOGISTIC_SOLVER_CONVERGENCE_MSG)\n"
     ]
    },
    {
     "name": "stderr",
     "output_type": "stream",
     "text": [
      "C:\\Users\\Owner\\Miniconda3\\lib\\site-packages\\sklearn\\linear_model\\_logistic.py:940: ConvergenceWarning: lbfgs failed to converge (status=1):\n",
      "STOP: TOTAL NO. of ITERATIONS REACHED LIMIT.\n",
      "\n",
      "Increase the number of iterations (max_iter) or scale the data as shown in:\n",
      "    https://scikit-learn.org/stable/modules/preprocessing.html\n",
      "Please also refer to the documentation for alternative solver options:\n",
      "    https://scikit-learn.org/stable/modules/linear_model.html#logistic-regression\n",
      "  extra_warning_msg=_LOGISTIC_SOLVER_CONVERGENCE_MSG)\n",
      "C:\\Users\\Owner\\Miniconda3\\lib\\site-packages\\sklearn\\linear_model\\_sag.py:330: ConvergenceWarning: The max_iter was reached which means the coef_ did not converge\n",
      "  \"the coef_ did not converge\", ConvergenceWarning)\n",
      "C:\\Users\\Owner\\Miniconda3\\lib\\site-packages\\sklearn\\linear_model\\_sag.py:330: ConvergenceWarning: The max_iter was reached which means the coef_ did not converge\n",
      "  \"the coef_ did not converge\", ConvergenceWarning)\n",
      "C:\\Users\\Owner\\Miniconda3\\lib\\site-packages\\sklearn\\linear_model\\_sag.py:330: ConvergenceWarning: The max_iter was reached which means the coef_ did not converge\n",
      "  \"the coef_ did not converge\", ConvergenceWarning)\n",
      "C:\\Users\\Owner\\Miniconda3\\lib\\site-packages\\sklearn\\linear_model\\_sag.py:330: ConvergenceWarning: The max_iter was reached which means the coef_ did not converge\n",
      "  \"the coef_ did not converge\", ConvergenceWarning)\n",
      "C:\\Users\\Owner\\Miniconda3\\lib\\site-packages\\sklearn\\linear_model\\_sag.py:330: ConvergenceWarning: The max_iter was reached which means the coef_ did not converge\n",
      "  \"the coef_ did not converge\", ConvergenceWarning)\n",
      "C:\\Users\\Owner\\Miniconda3\\lib\\site-packages\\sklearn\\linear_model\\_sag.py:330: ConvergenceWarning: The max_iter was reached which means the coef_ did not converge\n",
      "  \"the coef_ did not converge\", ConvergenceWarning)\n",
      "C:\\Users\\Owner\\Miniconda3\\lib\\site-packages\\sklearn\\linear_model\\_sag.py:330: ConvergenceWarning: The max_iter was reached which means the coef_ did not converge\n",
      "  \"the coef_ did not converge\", ConvergenceWarning)\n",
      "C:\\Users\\Owner\\Miniconda3\\lib\\site-packages\\sklearn\\linear_model\\_sag.py:330: ConvergenceWarning: The max_iter was reached which means the coef_ did not converge\n",
      "  \"the coef_ did not converge\", ConvergenceWarning)\n",
      "C:\\Users\\Owner\\Miniconda3\\lib\\site-packages\\sklearn\\linear_model\\_sag.py:330: ConvergenceWarning: The max_iter was reached which means the coef_ did not converge\n",
      "  \"the coef_ did not converge\", ConvergenceWarning)\n",
      "C:\\Users\\Owner\\Miniconda3\\lib\\site-packages\\sklearn\\linear_model\\_sag.py:330: ConvergenceWarning: The max_iter was reached which means the coef_ did not converge\n",
      "  \"the coef_ did not converge\", ConvergenceWarning)\n",
      "C:\\Users\\Owner\\Miniconda3\\lib\\site-packages\\sklearn\\linear_model\\_logistic.py:940: ConvergenceWarning: lbfgs failed to converge (status=1):\n",
      "STOP: TOTAL NO. of ITERATIONS REACHED LIMIT.\n",
      "\n",
      "Increase the number of iterations (max_iter) or scale the data as shown in:\n",
      "    https://scikit-learn.org/stable/modules/preprocessing.html\n",
      "Please also refer to the documentation for alternative solver options:\n",
      "    https://scikit-learn.org/stable/modules/linear_model.html#logistic-regression\n",
      "  extra_warning_msg=_LOGISTIC_SOLVER_CONVERGENCE_MSG)\n",
      "C:\\Users\\Owner\\Miniconda3\\lib\\site-packages\\sklearn\\linear_model\\_logistic.py:940: ConvergenceWarning: lbfgs failed to converge (status=1):\n",
      "STOP: TOTAL NO. of ITERATIONS REACHED LIMIT.\n",
      "\n",
      "Increase the number of iterations (max_iter) or scale the data as shown in:\n",
      "    https://scikit-learn.org/stable/modules/preprocessing.html\n",
      "Please also refer to the documentation for alternative solver options:\n",
      "    https://scikit-learn.org/stable/modules/linear_model.html#logistic-regression\n",
      "  extra_warning_msg=_LOGISTIC_SOLVER_CONVERGENCE_MSG)\n",
      "C:\\Users\\Owner\\Miniconda3\\lib\\site-packages\\sklearn\\linear_model\\_logistic.py:940: ConvergenceWarning: lbfgs failed to converge (status=1):\n",
      "STOP: TOTAL NO. of ITERATIONS REACHED LIMIT.\n",
      "\n",
      "Increase the number of iterations (max_iter) or scale the data as shown in:\n",
      "    https://scikit-learn.org/stable/modules/preprocessing.html\n",
      "Please also refer to the documentation for alternative solver options:\n",
      "    https://scikit-learn.org/stable/modules/linear_model.html#logistic-regression\n",
      "  extra_warning_msg=_LOGISTIC_SOLVER_CONVERGENCE_MSG)\n",
      "C:\\Users\\Owner\\Miniconda3\\lib\\site-packages\\sklearn\\linear_model\\_logistic.py:940: ConvergenceWarning: lbfgs failed to converge (status=1):\n",
      "STOP: TOTAL NO. of ITERATIONS REACHED LIMIT.\n",
      "\n",
      "Increase the number of iterations (max_iter) or scale the data as shown in:\n",
      "    https://scikit-learn.org/stable/modules/preprocessing.html\n",
      "Please also refer to the documentation for alternative solver options:\n",
      "    https://scikit-learn.org/stable/modules/linear_model.html#logistic-regression\n",
      "  extra_warning_msg=_LOGISTIC_SOLVER_CONVERGENCE_MSG)\n",
      "C:\\Users\\Owner\\Miniconda3\\lib\\site-packages\\sklearn\\linear_model\\_logistic.py:940: ConvergenceWarning: lbfgs failed to converge (status=1):\n",
      "STOP: TOTAL NO. of ITERATIONS REACHED LIMIT.\n",
      "\n",
      "Increase the number of iterations (max_iter) or scale the data as shown in:\n",
      "    https://scikit-learn.org/stable/modules/preprocessing.html\n",
      "Please also refer to the documentation for alternative solver options:\n",
      "    https://scikit-learn.org/stable/modules/linear_model.html#logistic-regression\n",
      "  extra_warning_msg=_LOGISTIC_SOLVER_CONVERGENCE_MSG)\n",
      "C:\\Users\\Owner\\Miniconda3\\lib\\site-packages\\sklearn\\linear_model\\_sag.py:330: ConvergenceWarning: The max_iter was reached which means the coef_ did not converge\n",
      "  \"the coef_ did not converge\", ConvergenceWarning)\n",
      "C:\\Users\\Owner\\Miniconda3\\lib\\site-packages\\sklearn\\linear_model\\_sag.py:330: ConvergenceWarning: The max_iter was reached which means the coef_ did not converge\n",
      "  \"the coef_ did not converge\", ConvergenceWarning)\n",
      "C:\\Users\\Owner\\Miniconda3\\lib\\site-packages\\sklearn\\linear_model\\_sag.py:330: ConvergenceWarning: The max_iter was reached which means the coef_ did not converge\n",
      "  \"the coef_ did not converge\", ConvergenceWarning)\n",
      "C:\\Users\\Owner\\Miniconda3\\lib\\site-packages\\sklearn\\linear_model\\_sag.py:330: ConvergenceWarning: The max_iter was reached which means the coef_ did not converge\n",
      "  \"the coef_ did not converge\", ConvergenceWarning)\n",
      "C:\\Users\\Owner\\Miniconda3\\lib\\site-packages\\sklearn\\linear_model\\_sag.py:330: ConvergenceWarning: The max_iter was reached which means the coef_ did not converge\n",
      "  \"the coef_ did not converge\", ConvergenceWarning)\n",
      "C:\\Users\\Owner\\Miniconda3\\lib\\site-packages\\sklearn\\linear_model\\_sag.py:330: ConvergenceWarning: The max_iter was reached which means the coef_ did not converge\n",
      "  \"the coef_ did not converge\", ConvergenceWarning)\n",
      "C:\\Users\\Owner\\Miniconda3\\lib\\site-packages\\sklearn\\linear_model\\_sag.py:330: ConvergenceWarning: The max_iter was reached which means the coef_ did not converge\n",
      "  \"the coef_ did not converge\", ConvergenceWarning)\n",
      "C:\\Users\\Owner\\Miniconda3\\lib\\site-packages\\sklearn\\linear_model\\_sag.py:330: ConvergenceWarning: The max_iter was reached which means the coef_ did not converge\n",
      "  \"the coef_ did not converge\", ConvergenceWarning)\n",
      "C:\\Users\\Owner\\Miniconda3\\lib\\site-packages\\sklearn\\linear_model\\_sag.py:330: ConvergenceWarning: The max_iter was reached which means the coef_ did not converge\n",
      "  \"the coef_ did not converge\", ConvergenceWarning)\n",
      "C:\\Users\\Owner\\Miniconda3\\lib\\site-packages\\sklearn\\linear_model\\_sag.py:330: ConvergenceWarning: The max_iter was reached which means the coef_ did not converge\n",
      "  \"the coef_ did not converge\", ConvergenceWarning)\n",
      "C:\\Users\\Owner\\Miniconda3\\lib\\site-packages\\sklearn\\linear_model\\_sag.py:330: ConvergenceWarning: The max_iter was reached which means the coef_ did not converge\n",
      "  \"the coef_ did not converge\", ConvergenceWarning)\n",
      "C:\\Users\\Owner\\Miniconda3\\lib\\site-packages\\sklearn\\linear_model\\_sag.py:330: ConvergenceWarning: The max_iter was reached which means the coef_ did not converge\n",
      "  \"the coef_ did not converge\", ConvergenceWarning)\n",
      "C:\\Users\\Owner\\Miniconda3\\lib\\site-packages\\sklearn\\linear_model\\_sag.py:330: ConvergenceWarning: The max_iter was reached which means the coef_ did not converge\n",
      "  \"the coef_ did not converge\", ConvergenceWarning)\n",
      "C:\\Users\\Owner\\Miniconda3\\lib\\site-packages\\sklearn\\linear_model\\_sag.py:330: ConvergenceWarning: The max_iter was reached which means the coef_ did not converge\n",
      "  \"the coef_ did not converge\", ConvergenceWarning)\n"
     ]
    },
    {
     "name": "stderr",
     "output_type": "stream",
     "text": [
      "C:\\Users\\Owner\\Miniconda3\\lib\\site-packages\\sklearn\\linear_model\\_sag.py:330: ConvergenceWarning: The max_iter was reached which means the coef_ did not converge\n",
      "  \"the coef_ did not converge\", ConvergenceWarning)\n",
      "C:\\Users\\Owner\\Miniconda3\\lib\\site-packages\\sklearn\\linear_model\\_sag.py:330: ConvergenceWarning: The max_iter was reached which means the coef_ did not converge\n",
      "  \"the coef_ did not converge\", ConvergenceWarning)\n",
      "C:\\Users\\Owner\\Miniconda3\\lib\\site-packages\\sklearn\\linear_model\\_sag.py:330: ConvergenceWarning: The max_iter was reached which means the coef_ did not converge\n",
      "  \"the coef_ did not converge\", ConvergenceWarning)\n",
      "C:\\Users\\Owner\\Miniconda3\\lib\\site-packages\\sklearn\\linear_model\\_sag.py:330: ConvergenceWarning: The max_iter was reached which means the coef_ did not converge\n",
      "  \"the coef_ did not converge\", ConvergenceWarning)\n",
      "C:\\Users\\Owner\\Miniconda3\\lib\\site-packages\\sklearn\\linear_model\\_sag.py:330: ConvergenceWarning: The max_iter was reached which means the coef_ did not converge\n",
      "  \"the coef_ did not converge\", ConvergenceWarning)\n",
      "C:\\Users\\Owner\\Miniconda3\\lib\\site-packages\\sklearn\\linear_model\\_sag.py:330: ConvergenceWarning: The max_iter was reached which means the coef_ did not converge\n",
      "  \"the coef_ did not converge\", ConvergenceWarning)\n",
      "C:\\Users\\Owner\\Miniconda3\\lib\\site-packages\\sklearn\\linear_model\\_sag.py:330: ConvergenceWarning: The max_iter was reached which means the coef_ did not converge\n",
      "  \"the coef_ did not converge\", ConvergenceWarning)\n",
      "C:\\Users\\Owner\\Miniconda3\\lib\\site-packages\\sklearn\\linear_model\\_sag.py:330: ConvergenceWarning: The max_iter was reached which means the coef_ did not converge\n",
      "  \"the coef_ did not converge\", ConvergenceWarning)\n",
      "C:\\Users\\Owner\\Miniconda3\\lib\\site-packages\\sklearn\\linear_model\\_sag.py:330: ConvergenceWarning: The max_iter was reached which means the coef_ did not converge\n",
      "  \"the coef_ did not converge\", ConvergenceWarning)\n",
      "C:\\Users\\Owner\\Miniconda3\\lib\\site-packages\\sklearn\\linear_model\\_sag.py:330: ConvergenceWarning: The max_iter was reached which means the coef_ did not converge\n",
      "  \"the coef_ did not converge\", ConvergenceWarning)\n",
      "C:\\Users\\Owner\\Miniconda3\\lib\\site-packages\\sklearn\\linear_model\\_sag.py:330: ConvergenceWarning: The max_iter was reached which means the coef_ did not converge\n",
      "  \"the coef_ did not converge\", ConvergenceWarning)\n",
      "C:\\Users\\Owner\\Miniconda3\\lib\\site-packages\\sklearn\\linear_model\\_sag.py:330: ConvergenceWarning: The max_iter was reached which means the coef_ did not converge\n",
      "  \"the coef_ did not converge\", ConvergenceWarning)\n",
      "C:\\Users\\Owner\\Miniconda3\\lib\\site-packages\\sklearn\\linear_model\\_sag.py:330: ConvergenceWarning: The max_iter was reached which means the coef_ did not converge\n",
      "  \"the coef_ did not converge\", ConvergenceWarning)\n",
      "C:\\Users\\Owner\\Miniconda3\\lib\\site-packages\\sklearn\\linear_model\\_sag.py:330: ConvergenceWarning: The max_iter was reached which means the coef_ did not converge\n",
      "  \"the coef_ did not converge\", ConvergenceWarning)\n",
      "C:\\Users\\Owner\\Miniconda3\\lib\\site-packages\\sklearn\\linear_model\\_sag.py:330: ConvergenceWarning: The max_iter was reached which means the coef_ did not converge\n",
      "  \"the coef_ did not converge\", ConvergenceWarning)\n",
      "C:\\Users\\Owner\\Miniconda3\\lib\\site-packages\\sklearn\\linear_model\\_sag.py:330: ConvergenceWarning: The max_iter was reached which means the coef_ did not converge\n",
      "  \"the coef_ did not converge\", ConvergenceWarning)\n",
      "C:\\Users\\Owner\\Miniconda3\\lib\\site-packages\\sklearn\\linear_model\\_sag.py:330: ConvergenceWarning: The max_iter was reached which means the coef_ did not converge\n",
      "  \"the coef_ did not converge\", ConvergenceWarning)\n",
      "C:\\Users\\Owner\\Miniconda3\\lib\\site-packages\\sklearn\\linear_model\\_sag.py:330: ConvergenceWarning: The max_iter was reached which means the coef_ did not converge\n",
      "  \"the coef_ did not converge\", ConvergenceWarning)\n",
      "C:\\Users\\Owner\\Miniconda3\\lib\\site-packages\\sklearn\\linear_model\\_sag.py:330: ConvergenceWarning: The max_iter was reached which means the coef_ did not converge\n",
      "  \"the coef_ did not converge\", ConvergenceWarning)\n",
      "C:\\Users\\Owner\\Miniconda3\\lib\\site-packages\\sklearn\\linear_model\\_sag.py:330: ConvergenceWarning: The max_iter was reached which means the coef_ did not converge\n",
      "  \"the coef_ did not converge\", ConvergenceWarning)\n",
      "C:\\Users\\Owner\\Miniconda3\\lib\\site-packages\\sklearn\\linear_model\\_sag.py:330: ConvergenceWarning: The max_iter was reached which means the coef_ did not converge\n",
      "  \"the coef_ did not converge\", ConvergenceWarning)\n",
      "C:\\Users\\Owner\\Miniconda3\\lib\\site-packages\\sklearn\\linear_model\\_sag.py:330: ConvergenceWarning: The max_iter was reached which means the coef_ did not converge\n",
      "  \"the coef_ did not converge\", ConvergenceWarning)\n",
      "C:\\Users\\Owner\\Miniconda3\\lib\\site-packages\\sklearn\\linear_model\\_sag.py:330: ConvergenceWarning: The max_iter was reached which means the coef_ did not converge\n",
      "  \"the coef_ did not converge\", ConvergenceWarning)\n",
      "C:\\Users\\Owner\\Miniconda3\\lib\\site-packages\\sklearn\\linear_model\\_sag.py:330: ConvergenceWarning: The max_iter was reached which means the coef_ did not converge\n",
      "  \"the coef_ did not converge\", ConvergenceWarning)\n",
      "C:\\Users\\Owner\\Miniconda3\\lib\\site-packages\\sklearn\\linear_model\\_sag.py:330: ConvergenceWarning: The max_iter was reached which means the coef_ did not converge\n",
      "  \"the coef_ did not converge\", ConvergenceWarning)\n",
      "C:\\Users\\Owner\\Miniconda3\\lib\\site-packages\\sklearn\\linear_model\\_sag.py:330: ConvergenceWarning: The max_iter was reached which means the coef_ did not converge\n",
      "  \"the coef_ did not converge\", ConvergenceWarning)\n",
      "C:\\Users\\Owner\\Miniconda3\\lib\\site-packages\\sklearn\\linear_model\\_sag.py:330: ConvergenceWarning: The max_iter was reached which means the coef_ did not converge\n",
      "  \"the coef_ did not converge\", ConvergenceWarning)\n"
     ]
    },
    {
     "data": {
      "text/plain": [
       "GridSearchCV(cv=None, error_score=nan,\n",
       "             estimator=LogisticRegression(C=1.0, class_weight=None, dual=False,\n",
       "                                          fit_intercept=True,\n",
       "                                          intercept_scaling=1, l1_ratio=None,\n",
       "                                          max_iter=100, multi_class='auto',\n",
       "                                          n_jobs=None, penalty='l2',\n",
       "                                          random_state=100, solver='lbfgs',\n",
       "                                          tol=0.0001, verbose=0,\n",
       "                                          warm_start=False),\n",
       "             iid='deprecated', n_jobs=None,\n",
       "             param_grid={'max_iter': [64, 100, 128, 200, 256, 400, 528, 1000],\n",
       "                         'solver': ['newton-cg', 'lbfgs', 'liblinear', 'sag',\n",
       "                                    'saga']},\n",
       "             pre_dispatch='2*n_jobs', refit=True, return_train_score=False,\n",
       "             scoring=None, verbose=0)"
      ]
     },
     "execution_count": 194,
     "metadata": {},
     "output_type": "execute_result"
    }
   ],
   "source": [
    "# Create the model with 10 trees\n",
    "#regressor = RandomForestRegressor(n_estimators = 100,\n",
    "                                 # random_state = RSEED)\n",
    "\n",
    "# Fit on training data\n",
    "#regressor.fit(X_train, y_train)\n",
    "\n",
    "parameters={'solver':['newton-cg', 'lbfgs', 'liblinear', 'sag', 'saga'],'max_iter': [64,100,128,200,256,400,528,1000]}\n",
    "lr = LogisticRegression(random_state = RSEED)\n",
    "clf = GridSearchCV(lr, parameters)\n",
    "clf.fit(X_train, y_train)"
   ]
  },
  {
   "cell_type": "code",
   "execution_count": 195,
   "metadata": {},
   "outputs": [
    {
     "name": "stdout",
     "output_type": "stream",
     "text": [
      "{'max_iter': 1000, 'solver': 'sag'}\n"
     ]
    }
   ],
   "source": [
    "print(clf.best_params_)"
   ]
  },
  {
   "cell_type": "markdown",
   "metadata": {},
   "source": [
    "## Logistic Regression Loop"
   ]
  },
  {
   "cell_type": "code",
   "execution_count": 198,
   "metadata": {
    "scrolled": false
   },
   "outputs": [
    {
     "name": "stdout",
     "output_type": "stream",
     "text": [
      "cancer type: 1\n",
      "0    All Cancer Sites\n",
      "Creating Logistic Regression Model and Fitting the Data\n"
     ]
    },
    {
     "name": "stderr",
     "output_type": "stream",
     "text": [
      "C:\\Users\\Owner\\Miniconda3\\lib\\site-packages\\sklearn\\linear_model\\_sag.py:330: ConvergenceWarning: The max_iter was reached which means the coef_ did not converge\n",
      "  \"the coef_ did not converge\", ConvergenceWarning)\n"
     ]
    },
    {
     "name": "stdout",
     "output_type": "stream",
     "text": [
      "score 0.06170212765957447\n",
      "\n",
      "\n",
      "cancer type: 3\n",
      "1    Oral Cavity & Pharynx\n",
      "Creating Logistic Regression Model and Fitting the Data\n"
     ]
    },
    {
     "name": "stderr",
     "output_type": "stream",
     "text": [
      "C:\\Users\\Owner\\Miniconda3\\lib\\site-packages\\sklearn\\linear_model\\_sag.py:330: ConvergenceWarning: The max_iter was reached which means the coef_ did not converge\n",
      "  \"the coef_ did not converge\", ConvergenceWarning)\n"
     ]
    },
    {
     "name": "stdout",
     "output_type": "stream",
     "text": [
      "score 0.3606382978723404\n",
      "\n",
      "\n",
      "cancer type: 17\n",
      "2    Esophagus\n",
      "Creating Logistic Regression Model and Fitting the Data\n"
     ]
    },
    {
     "name": "stderr",
     "output_type": "stream",
     "text": [
      "C:\\Users\\Owner\\Miniconda3\\lib\\site-packages\\sklearn\\linear_model\\_sag.py:330: ConvergenceWarning: The max_iter was reached which means the coef_ did not converge\n",
      "  \"the coef_ did not converge\", ConvergenceWarning)\n"
     ]
    },
    {
     "name": "stdout",
     "output_type": "stream",
     "text": [
      "score 0.625531914893617\n",
      "\n",
      "\n",
      "cancer type: 18\n",
      "3    Stomach\n",
      "Creating Logistic Regression Model and Fitting the Data\n"
     ]
    },
    {
     "name": "stderr",
     "output_type": "stream",
     "text": [
      "C:\\Users\\Owner\\Miniconda3\\lib\\site-packages\\sklearn\\linear_model\\_sag.py:330: ConvergenceWarning: The max_iter was reached which means the coef_ did not converge\n",
      "  \"the coef_ did not converge\", ConvergenceWarning)\n"
     ]
    },
    {
     "name": "stdout",
     "output_type": "stream",
     "text": [
      "score 0.5914893617021276\n",
      "\n",
      "\n",
      "cancer type: 20\n",
      "4    Colon & Rectum\n",
      "Creating Logistic Regression Model and Fitting the Data\n"
     ]
    },
    {
     "name": "stderr",
     "output_type": "stream",
     "text": [
      "C:\\Users\\Owner\\Miniconda3\\lib\\site-packages\\sklearn\\linear_model\\_sag.py:330: ConvergenceWarning: The max_iter was reached which means the coef_ did not converge\n",
      "  \"the coef_ did not converge\", ConvergenceWarning)\n"
     ]
    },
    {
     "name": "stdout",
     "output_type": "stream",
     "text": [
      "score 0.1148936170212766\n",
      "\n",
      "\n",
      "cancer type: 35\n",
      "5    Liver & Bile Duct\n",
      "Creating Logistic Regression Model and Fitting the Data\n"
     ]
    },
    {
     "name": "stderr",
     "output_type": "stream",
     "text": [
      "C:\\Users\\Owner\\Miniconda3\\lib\\site-packages\\sklearn\\linear_model\\_sag.py:330: ConvergenceWarning: The max_iter was reached which means the coef_ did not converge\n",
      "  \"the coef_ did not converge\", ConvergenceWarning)\n"
     ]
    },
    {
     "name": "stdout",
     "output_type": "stream",
     "text": [
      "score 0.5212765957446809\n",
      "\n",
      "\n",
      "cancer type: 40\n",
      "6    Pancreas\n",
      "Creating Logistic Regression Model and Fitting the Data\n"
     ]
    },
    {
     "name": "stderr",
     "output_type": "stream",
     "text": [
      "C:\\Users\\Owner\\Miniconda3\\lib\\site-packages\\sklearn\\linear_model\\_sag.py:330: ConvergenceWarning: The max_iter was reached which means the coef_ did not converge\n",
      "  \"the coef_ did not converge\", ConvergenceWarning)\n"
     ]
    },
    {
     "name": "stdout",
     "output_type": "stream",
     "text": [
      "score 0.37127659574468086\n",
      "\n",
      "\n",
      "cancer type: 47\n",
      "7    Lung & Bronchus\n",
      "Creating Logistic Regression Model and Fitting the Data\n"
     ]
    },
    {
     "name": "stderr",
     "output_type": "stream",
     "text": [
      "C:\\Users\\Owner\\Miniconda3\\lib\\site-packages\\sklearn\\linear_model\\_sag.py:330: ConvergenceWarning: The max_iter was reached which means the coef_ did not converge\n",
      "  \"the coef_ did not converge\", ConvergenceWarning)\n"
     ]
    },
    {
     "name": "stdout",
     "output_type": "stream",
     "text": [
      "score 0.08936170212765958\n",
      "\n",
      "\n",
      "cancer type: 53\n",
      "8    Melanoma of the Skin\n",
      "Creating Logistic Regression Model and Fitting the Data\n"
     ]
    },
    {
     "name": "stderr",
     "output_type": "stream",
     "text": [
      "C:\\Users\\Owner\\Miniconda3\\lib\\site-packages\\sklearn\\linear_model\\_sag.py:330: ConvergenceWarning: The max_iter was reached which means the coef_ did not converge\n",
      "  \"the coef_ did not converge\", ConvergenceWarning)\n"
     ]
    },
    {
     "name": "stdout",
     "output_type": "stream",
     "text": [
      "score 0.2797872340425532\n",
      "\n",
      "\n",
      "cancer type: 55\n",
      "9    Breast (Female)\n",
      "Creating Logistic Regression Model and Fitting the Data\n"
     ]
    },
    {
     "name": "stderr",
     "output_type": "stream",
     "text": [
      "C:\\Users\\Owner\\Miniconda3\\lib\\site-packages\\sklearn\\linear_model\\_sag.py:330: ConvergenceWarning: The max_iter was reached which means the coef_ did not converge\n",
      "  \"the coef_ did not converge\", ConvergenceWarning)\n"
     ]
    },
    {
     "name": "stdout",
     "output_type": "stream",
     "text": [
      "score 0.1\n",
      "\n",
      "\n",
      "cancer type: 57\n",
      "10    Cervix (Female)\n",
      "Creating Logistic Regression Model and Fitting the Data\n"
     ]
    },
    {
     "name": "stderr",
     "output_type": "stream",
     "text": [
      "C:\\Users\\Owner\\Miniconda3\\lib\\site-packages\\sklearn\\linear_model\\_sag.py:330: ConvergenceWarning: The max_iter was reached which means the coef_ did not converge\n",
      "  \"the coef_ did not converge\", ConvergenceWarning)\n"
     ]
    },
    {
     "name": "stdout",
     "output_type": "stream",
     "text": [
      "score 0.7265957446808511\n",
      "\n",
      "\n",
      "cancer type: 58\n",
      "11    Uterus (Corpus & Uterus, NOS) (Female)\n",
      "Creating Logistic Regression Model and Fitting the Data\n"
     ]
    },
    {
     "name": "stderr",
     "output_type": "stream",
     "text": [
      "C:\\Users\\Owner\\Miniconda3\\lib\\site-packages\\sklearn\\linear_model\\_sag.py:330: ConvergenceWarning: The max_iter was reached which means the coef_ did not converge\n",
      "  \"the coef_ did not converge\", ConvergenceWarning)\n"
     ]
    },
    {
     "name": "stdout",
     "output_type": "stream",
     "text": [
      "score 0.35638297872340424\n",
      "\n",
      "\n",
      "cancer type: 61\n",
      "12    Ovary (Female)\n",
      "Creating Logistic Regression Model and Fitting the Data\n"
     ]
    },
    {
     "name": "stderr",
     "output_type": "stream",
     "text": [
      "C:\\Users\\Owner\\Miniconda3\\lib\\site-packages\\sklearn\\linear_model\\_sag.py:330: ConvergenceWarning: The max_iter was reached which means the coef_ did not converge\n",
      "  \"the coef_ did not converge\", ConvergenceWarning)\n"
     ]
    },
    {
     "name": "stdout",
     "output_type": "stream",
     "text": [
      "score 0.6265957446808511\n",
      "\n",
      "\n",
      "cancer type: 66\n",
      "13    Prostate (Male)\n",
      "Creating Logistic Regression Model and Fitting the Data\n"
     ]
    },
    {
     "name": "stderr",
     "output_type": "stream",
     "text": [
      "C:\\Users\\Owner\\Miniconda3\\lib\\site-packages\\sklearn\\linear_model\\_sag.py:330: ConvergenceWarning: The max_iter was reached which means the coef_ did not converge\n",
      "  \"the coef_ did not converge\", ConvergenceWarning)\n"
     ]
    },
    {
     "name": "stdout",
     "output_type": "stream",
     "text": [
      "score 0.0925531914893617\n",
      "\n",
      "\n",
      "cancer type: 71\n",
      "14    Bladder\n",
      "Creating Logistic Regression Model and Fitting the Data\n"
     ]
    },
    {
     "name": "stderr",
     "output_type": "stream",
     "text": [
      "C:\\Users\\Owner\\Miniconda3\\lib\\site-packages\\sklearn\\linear_model\\_sag.py:330: ConvergenceWarning: The max_iter was reached which means the coef_ did not converge\n",
      "  \"the coef_ did not converge\", ConvergenceWarning)\n"
     ]
    },
    {
     "name": "stdout",
     "output_type": "stream",
     "text": [
      "score 0.251063829787234\n",
      "\n",
      "\n",
      "cancer type: 72\n",
      "15    Kidney & Renal Pelvis\n",
      "Creating Logistic Regression Model and Fitting the Data\n"
     ]
    },
    {
     "name": "stderr",
     "output_type": "stream",
     "text": [
      "C:\\Users\\Owner\\Miniconda3\\lib\\site-packages\\sklearn\\linear_model\\_sag.py:330: ConvergenceWarning: The max_iter was reached which means the coef_ did not converge\n",
      "  \"the coef_ did not converge\", ConvergenceWarning)\n"
     ]
    },
    {
     "name": "stdout",
     "output_type": "stream",
     "text": [
      "score 0.26276595744680853\n",
      "\n",
      "\n",
      "cancer type: 76\n",
      "16    Brain & ONS\n",
      "Creating Logistic Regression Model and Fitting the Data\n"
     ]
    },
    {
     "name": "stderr",
     "output_type": "stream",
     "text": [
      "C:\\Users\\Owner\\Miniconda3\\lib\\site-packages\\sklearn\\linear_model\\_sag.py:330: ConvergenceWarning: The max_iter was reached which means the coef_ did not converge\n",
      "  \"the coef_ did not converge\", ConvergenceWarning)\n"
     ]
    },
    {
     "name": "stdout",
     "output_type": "stream",
     "text": [
      "score 0.5914893617021276\n",
      "\n",
      "\n",
      "cancer type: 80\n",
      "17    Thyroid\n",
      "Creating Logistic Regression Model and Fitting the Data\n"
     ]
    },
    {
     "name": "stderr",
     "output_type": "stream",
     "text": [
      "C:\\Users\\Owner\\Miniconda3\\lib\\site-packages\\sklearn\\linear_model\\_sag.py:330: ConvergenceWarning: The max_iter was reached which means the coef_ did not converge\n",
      "  \"the coef_ did not converge\", ConvergenceWarning)\n"
     ]
    },
    {
     "name": "stdout",
     "output_type": "stream",
     "text": [
      "score 0.42872340425531913\n",
      "\n",
      "\n",
      "cancer type: 86\n",
      "18    Non-Hodgkin Lymphoma\n",
      "Creating Logistic Regression Model and Fitting the Data\n"
     ]
    },
    {
     "name": "stderr",
     "output_type": "stream",
     "text": [
      "C:\\Users\\Owner\\Miniconda3\\lib\\site-packages\\sklearn\\linear_model\\_sag.py:330: ConvergenceWarning: The max_iter was reached which means the coef_ did not converge\n",
      "  \"the coef_ did not converge\", ConvergenceWarning)\n"
     ]
    },
    {
     "name": "stdout",
     "output_type": "stream",
     "text": [
      "score 0.28085106382978725\n",
      "\n",
      "\n",
      "cancer type: 90\n",
      "19    Leukemia\n",
      "Creating Logistic Regression Model and Fitting the Data\n"
     ]
    },
    {
     "name": "stderr",
     "output_type": "stream",
     "text": [
      "C:\\Users\\Owner\\Miniconda3\\lib\\site-packages\\sklearn\\linear_model\\_sag.py:330: ConvergenceWarning: The max_iter was reached which means the coef_ did not converge\n",
      "  \"the coef_ did not converge\", ConvergenceWarning)\n"
     ]
    },
    {
     "name": "stdout",
     "output_type": "stream",
     "text": [
      "score 0.3468085106382979\n",
      "\n",
      "\n",
      "cancer type: 400\n",
      "20    Breast (in situ) (Female)\n",
      "Creating Logistic Regression Model and Fitting the Data\n"
     ]
    },
    {
     "name": "stderr",
     "output_type": "stream",
     "text": [
      "C:\\Users\\Owner\\Miniconda3\\lib\\site-packages\\sklearn\\linear_model\\_sag.py:330: ConvergenceWarning: The max_iter was reached which means the coef_ did not converge\n",
      "  \"the coef_ did not converge\", ConvergenceWarning)\n"
     ]
    },
    {
     "name": "stdout",
     "output_type": "stream",
     "text": [
      "score 0.4074468085106383\n",
      "\n",
      "\n",
      "cancer type: 515\n",
      "21    Childhood (Ages <20, All Sites)\n",
      "Creating Logistic Regression Model and Fitting the Data\n"
     ]
    },
    {
     "name": "stderr",
     "output_type": "stream",
     "text": [
      "C:\\Users\\Owner\\Miniconda3\\lib\\site-packages\\sklearn\\linear_model\\_sag.py:330: ConvergenceWarning: The max_iter was reached which means the coef_ did not converge\n",
      "  \"the coef_ did not converge\", ConvergenceWarning)\n"
     ]
    },
    {
     "name": "stdout",
     "output_type": "stream",
     "text": [
      "score 0.6957446808510638\n",
      "\n",
      "\n",
      "cancer type: 516\n",
      "22    Childhood (Ages <15, All Sites)\n",
      "Creating Logistic Regression Model and Fitting the Data\n",
      "score 0.7617021276595745\n",
      "\n",
      "\n"
     ]
    },
    {
     "name": "stderr",
     "output_type": "stream",
     "text": [
      "C:\\Users\\Owner\\Miniconda3\\lib\\site-packages\\sklearn\\linear_model\\_sag.py:330: ConvergenceWarning: The max_iter was reached which means the coef_ did not converge\n",
      "  \"the coef_ did not converge\", ConvergenceWarning)\n"
     ]
    }
   ],
   "source": [
    "for i in cancerVals:\n",
    "    #print cancer type number\n",
    "    print(\"cancer type:\",i)\n",
    "    \n",
    "    #print cancer description\n",
    "    cancer=cancerTypes[\"cancer\"]==i\n",
    "    discr=cancerTypes[cancer][\"cancer_description\"].to_string()\n",
    "    print(discr)\n",
    "    \n",
    "    #selecting data for the specific cancer type\n",
    "    cancerData=data[\"cancer\"]==i\n",
    "    newData=data[cancerData]\n",
    "    \n",
    "    #splitting to test and train\n",
    "    x1=newData.loc[:, 'ACID':'WATR']\n",
    "    y = newData['annual_count_avg']\n",
    "\n",
    "    X_train1, X_test1, y_train, y_test = train_test_split(x1, y,\n",
    "                                                        test_size=0.3,\n",
    "                                                        random_state = RSEED)\n",
    "\n",
    "    scaler = StandardScaler()\n",
    "    scaler.fit(X_train1)\n",
    "\n",
    "    X_train = scaler.transform(X_train1)\n",
    "    X_test = scaler.transform(X_test1)\n",
    "    \n",
    "    #Creating Logistic Regression Model\n",
    "    print(\"Creating Logistic Regression Model and Fitting the Data\")\n",
    "    lr = LogisticRegression(random_state=RSEED,solver='sag' ,max_iter=2000)\n",
    "\n",
    "    # Fit on training data\n",
    "    lr.fit(X_train, y_train)\n",
    "    \n",
    "    #Evaluation\n",
    "    r2_score=lr.score(X_test, y_test)\n",
    "    print(\"score\",r2_score)\n",
    "    print(\"\\n\")"
   ]
  },
  {
   "cell_type": "markdown",
   "metadata": {},
   "source": [
    "# SVR"
   ]
  },
  {
   "cell_type": "markdown",
   "metadata": {},
   "source": [
    "## Hypertuning"
   ]
  },
  {
   "cell_type": "code",
   "execution_count": 207,
   "metadata": {},
   "outputs": [
    {
     "name": "stdout",
     "output_type": "stream",
     "text": [
      "XTrain (2193, 24)\n",
      "XTest (940, 24)\n"
     ]
    }
   ],
   "source": [
    "cancerData=data[\"cancer\"]==1\n",
    "newData=data[cancerData]    \n",
    "\n",
    "#splitting to test and train\n",
    "x1=newData.loc[:, 'ACID':'WATR']\n",
    "y = newData['annual_count_avg']\n",
    "\n",
    "X_train1, X_test1, y_train, y_test = train_test_split(x1, y,\n",
    "                                                    test_size=0.3,\n",
    "                                                    random_state = RSEED)\n",
    "scaler = StandardScaler()\n",
    "scaler.fit(X_train1)\n",
    "\n",
    "X_train = scaler.transform(X_train1)\n",
    "X_test = scaler.transform(X_test1)\n",
    "\n",
    "print(\"XTrain\",X_train.shape)\n",
    "print(\"XTest\",X_test.shape)"
   ]
  },
  {
   "cell_type": "code",
   "execution_count": 233,
   "metadata": {},
   "outputs": [
    {
     "data": {
      "text/plain": [
       "GridSearchCV(cv=None, error_score=nan,\n",
       "             estimator=LinearSVR(C=1.0, dual=True, epsilon=0.0,\n",
       "                                 fit_intercept=True, intercept_scaling=1.0,\n",
       "                                 loss='epsilon_insensitive', max_iter=1000,\n",
       "                                 random_state=100, tol=0.0001, verbose=0),\n",
       "             iid='deprecated', n_jobs=None,\n",
       "             param_grid={'C': [0.01, 0.1, 1],\n",
       "                         'epsilon': [0, 0.001, 0.01, 0.1, 1],\n",
       "                         'max_iter': [64, 100, 128, 200, 256, 400, 528, 1000,\n",
       "                                      2000],\n",
       "                         'tol': [1e-05, 0.001, 0.1]},\n",
       "             pre_dispatch='2*n_jobs', refit=True, return_train_score=False,\n",
       "             scoring=None, verbose=0)"
      ]
     },
     "execution_count": 233,
     "metadata": {},
     "output_type": "execute_result"
    }
   ],
   "source": [
    "# Create the model with 10 trees\n",
    "#regressor = RandomForestRegressor(n_estimators = 100,\n",
    "                                 # random_state = RSEED)\n",
    "\n",
    "# Fit on training data\n",
    "#regressor.fit(X_train, y_train)\n",
    "\n",
    "\n",
    "parameters={'C': [0.01,0.1,1],'epsilon':[0,0.001,0.01,0.1,1],'tol':[1e-5,1e-3,1e-1],'max_iter': [64,100,128,200,256,400,528,1000,2000]}\n",
    "svr =LinearSVR(random_state = RSEED)\n",
    "clf = GridSearchCV(svr, parameters)\n",
    "clf.fit(X_train, y_train)"
   ]
  },
  {
   "cell_type": "code",
   "execution_count": 234,
   "metadata": {},
   "outputs": [
    {
     "name": "stdout",
     "output_type": "stream",
     "text": [
      "{'C': 1, 'epsilon': 0, 'max_iter': 64, 'tol': 0.1}\n"
     ]
    }
   ],
   "source": [
    "print(clf.best_params_)"
   ]
  },
  {
   "cell_type": "markdown",
   "metadata": {},
   "source": [
    "## SVR Loop"
   ]
  },
  {
   "cell_type": "code",
   "execution_count": 238,
   "metadata": {
    "scrolled": false
   },
   "outputs": [
    {
     "name": "stdout",
     "output_type": "stream",
     "text": [
      "cancer type: 1\n",
      "0    All Cancer Sites\n",
      "Creating SVR Model and Fitting the Data\n",
      "score 0.7184725059866879\n",
      "cancer type: 3\n",
      "1    Oral Cavity & Pharynx\n",
      "Creating SVR Model and Fitting the Data\n",
      "score 0.8975414971693537\n",
      "cancer type: 17\n",
      "2    Esophagus\n",
      "Creating SVR Model and Fitting the Data\n",
      "score 0.8862507159438485\n",
      "cancer type: 18\n",
      "3    Stomach\n",
      "Creating SVR Model and Fitting the Data\n",
      "score 0.8664749900261575\n",
      "cancer type: 20\n",
      "4    Colon & Rectum\n",
      "Creating SVR Model and Fitting the Data\n",
      "score 0.8826498922306962\n",
      "cancer type: 35\n",
      "5    Liver & Bile Duct\n",
      "Creating SVR Model and Fitting the Data\n",
      "score 0.8531337492527578\n",
      "cancer type: 40\n",
      "6    Pancreas\n",
      "Creating SVR Model and Fitting the Data\n",
      "score 0.902103399814497\n",
      "cancer type: 47\n",
      "7    Lung & Bronchus\n",
      "Creating SVR Model and Fitting the Data\n",
      "score 0.8250699098770378\n",
      "cancer type: 53\n",
      "8    Melanoma of the Skin\n",
      "Creating SVR Model and Fitting the Data\n",
      "score 0.7980331784515731\n",
      "cancer type: 55\n",
      "9    Breast (Female)\n",
      "Creating SVR Model and Fitting the Data\n",
      "score 0.9081212907286168\n",
      "cancer type: 57\n",
      "10    Cervix (Female)\n",
      "Creating SVR Model and Fitting the Data\n",
      "score 0.8031883792990113\n",
      "cancer type: 58\n",
      "11    Uterus (Corpus & Uterus, NOS) (Female)\n",
      "Creating SVR Model and Fitting the Data\n",
      "score 0.8874938253710295\n",
      "cancer type: 61\n",
      "12    Ovary (Female)\n",
      "Creating SVR Model and Fitting the Data\n",
      "score 0.9174814147312265\n",
      "cancer type: 66\n",
      "13    Prostate (Male)\n",
      "Creating SVR Model and Fitting the Data\n",
      "score 0.8699227467999084\n",
      "cancer type: 71\n",
      "14    Bladder\n",
      "Creating SVR Model and Fitting the Data\n",
      "score 0.8390543667849474\n",
      "cancer type: 72\n",
      "15    Kidney & Renal Pelvis\n",
      "Creating SVR Model and Fitting the Data\n",
      "score 0.8950032366608556\n",
      "cancer type: 76\n",
      "16    Brain & ONS\n",
      "Creating SVR Model and Fitting the Data\n",
      "score 0.9123698626533325\n",
      "cancer type: 80\n",
      "17    Thyroid\n",
      "Creating SVR Model and Fitting the Data\n",
      "score 0.8596261853943767\n",
      "cancer type: 86\n",
      "18    Non-Hodgkin Lymphoma\n",
      "Creating SVR Model and Fitting the Data\n",
      "score 0.8602162985941852\n",
      "cancer type: 90\n",
      "19    Leukemia\n",
      "Creating SVR Model and Fitting the Data\n",
      "score 0.8526099762860017\n",
      "cancer type: 400\n",
      "20    Breast (in situ) (Female)\n",
      "Creating SVR Model and Fitting the Data\n",
      "score 0.8817448272808088\n",
      "cancer type: 515\n",
      "21    Childhood (Ages <20, All Sites)\n",
      "Creating SVR Model and Fitting the Data\n",
      "score 0.8636045934901028\n",
      "cancer type: 516\n",
      "22    Childhood (Ages <15, All Sites)\n",
      "Creating SVR Model and Fitting the Data\n",
      "score 0.8650415324654795\n"
     ]
    }
   ],
   "source": [
    "for i in cancerVals:\n",
    "    #print cancer type number\n",
    "    print(\"cancer type:\",i)\n",
    "    \n",
    "    #print cancer description\n",
    "    cancer=cancerTypes[\"cancer\"]==i\n",
    "    discr=cancerTypes[cancer][\"cancer_description\"].to_string()\n",
    "    print(discr)\n",
    "    \n",
    "    #selecting data for the specific cancer type\n",
    "    cancerData=data[\"cancer\"]==i\n",
    "    newData=data[cancerData]\n",
    "    \n",
    "    #splitting to test and train\n",
    "    x1=newData.loc[:, 'ACID':'WATR']\n",
    "    y = newData['annual_count_avg']\n",
    "\n",
    "    X_train1, X_test1, y_train, y_test = train_test_split(x1, y,\n",
    "                                                        test_size=0.3,\n",
    "                                                        random_state = RSEED)\n",
    "\n",
    "    scaler = StandardScaler()\n",
    "    scaler.fit(X_train1)\n",
    "\n",
    "    X_train = scaler.transform(X_train1)\n",
    "    X_test = scaler.transform(X_test1)\n",
    "    \n",
    "    #Creating SVR Model\n",
    "    print(\"Creating SVR Model and Fitting the Data\")\n",
    "    svr = LinearSVR(random_state=0, C= 1, epsilon= 0, max_iter=64, tol= 0.1)\n",
    "\n",
    "    # Fit on training data\n",
    "    svr.fit(X_train, y_train)\n",
    "    \n",
    "    #Evaluation\n",
    "    r2_score=svr.score(X_test, y_test)\n",
    "    print(\"score\",r2_score)\n"
   ]
  },
  {
   "cell_type": "code",
   "execution_count": null,
   "metadata": {},
   "outputs": [],
   "source": []
  }
 ],
 "metadata": {
  "kernelspec": {
   "display_name": "Python 3",
   "language": "python",
   "name": "python3"
  },
  "language_info": {
   "codemirror_mode": {
    "name": "ipython",
    "version": 3
   },
   "file_extension": ".py",
   "mimetype": "text/x-python",
   "name": "python",
   "nbconvert_exporter": "python",
   "pygments_lexer": "ipython3",
   "version": "3.7.4"
  }
 },
 "nbformat": 4,
 "nbformat_minor": 4
}
