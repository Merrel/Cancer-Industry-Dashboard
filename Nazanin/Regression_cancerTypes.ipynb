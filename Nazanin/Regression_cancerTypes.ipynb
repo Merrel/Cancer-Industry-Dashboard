{
 "cells": [
  {
   "cell_type": "code",
   "execution_count": 191,
   "metadata": {},
   "outputs": [],
   "source": [
    "from sklearn.cluster import DBSCAN\n",
    "from sklearn.preprocessing import StandardScaler\n",
    "import re\n",
    "import pandas as pd\n",
    "import numpy as np\n",
    "import matplotlib.pyplot as plt\n",
    "from sklearn.preprocessing import StandardScaler\n",
    "from sklearn.model_selection import train_test_split\n",
    "from sklearn.ensemble import RandomForestRegressor\n",
    "from sklearn.model_selection import cross_val_score, GridSearchCV, cross_validate, train_test_split\n",
    "from sklearn import metrics\n",
    "from sklearn.metrics import accuracy_score, classification_report\n",
    "from sklearn.linear_model import LogisticRegression\n",
    "from sklearn.svm import LinearSVR\n",
    "# Setting random seed to get reproducible runs\n",
    "RSEED = 100"
   ]
  },
  {
   "cell_type": "markdown",
   "metadata": {},
   "source": [
    "# Part 1: Data Processing"
   ]
  },
  {
   "cell_type": "code",
   "execution_count": 64,
   "metadata": {},
   "outputs": [
    {
     "name": "stderr",
     "output_type": "stream",
     "text": [
      "C:\\Users\\Owner\\Miniconda3\\lib\\site-packages\\IPython\\core\\interactiveshell.py:3063: DtypeWarning: Columns (3) have mixed types.Specify dtype option on import or set low_memory=False.\n",
      "  interactivity=interactivity, compiler=compiler, result=result)\n"
     ]
    }
   ],
   "source": [
    "data = pd.read_csv(\"factorsCancerPerCounty.csv\")"
   ]
  },
  {
   "cell_type": "code",
   "execution_count": 65,
   "metadata": {},
   "outputs": [],
   "source": [
    "data.drop('Unnamed: 0', axis=1, inplace=True)"
   ]
  },
  {
   "cell_type": "code",
   "execution_count": 66,
   "metadata": {},
   "outputs": [
    {
     "data": {
      "text/plain": [
       "Index(['locale', 'fips', 'annual_count_avg', 'areatype', 'cancer', 'stateFIPS',\n",
       "       'state', 'cancer_description', 'ACID', 'ENRG', 'ETOX', 'EUTR', 'FOOD',\n",
       "       'GCC', 'HAPS', 'HAZW', 'HC', 'HNC', 'HRSP', 'HTOX', 'JOBS', 'LAND',\n",
       "       'METL', 'MINE', 'MSW', 'NREN', 'OZON', 'PEST', 'REN', 'SMOG', 'VADD',\n",
       "       'WATR'],\n",
       "      dtype='object')"
      ]
     },
     "execution_count": 66,
     "metadata": {},
     "output_type": "execute_result"
    }
   ],
   "source": [
    "data.columns"
   ]
  },
  {
   "cell_type": "code",
   "execution_count": 98,
   "metadata": {},
   "outputs": [],
   "source": [
    "factors=np.array(['ACID', 'ENRG', 'ETOX', 'EUTR', 'FOOD',\n",
    "       'GCC', 'HAPS', 'HAZW', 'HC', 'HNC', 'HRSP', 'HTOX', 'JOBS', 'LAND',\n",
    "       'METL', 'MINE', 'MSW', 'NREN', 'OZON', 'PEST', 'REN', 'SMOG', 'VADD',\n",
    "       'WATR'])"
   ]
  },
  {
   "cell_type": "code",
   "execution_count": 67,
   "metadata": {
    "scrolled": false
   },
   "outputs": [
    {
     "data": {
      "text/html": [
       "<div>\n",
       "<style scoped>\n",
       "    .dataframe tbody tr th:only-of-type {\n",
       "        vertical-align: middle;\n",
       "    }\n",
       "\n",
       "    .dataframe tbody tr th {\n",
       "        vertical-align: top;\n",
       "    }\n",
       "\n",
       "    .dataframe thead th {\n",
       "        text-align: right;\n",
       "    }\n",
       "</style>\n",
       "<table border=\"1\" class=\"dataframe\">\n",
       "  <thead>\n",
       "    <tr style=\"text-align: right;\">\n",
       "      <th></th>\n",
       "      <th>locale</th>\n",
       "      <th>fips</th>\n",
       "      <th>annual_count_avg</th>\n",
       "      <th>areatype</th>\n",
       "      <th>cancer</th>\n",
       "      <th>stateFIPS</th>\n",
       "      <th>state</th>\n",
       "      <th>cancer_description</th>\n",
       "      <th>ACID</th>\n",
       "      <th>ENRG</th>\n",
       "      <th>...</th>\n",
       "      <th>METL</th>\n",
       "      <th>MINE</th>\n",
       "      <th>MSW</th>\n",
       "      <th>NREN</th>\n",
       "      <th>OZON</th>\n",
       "      <th>PEST</th>\n",
       "      <th>REN</th>\n",
       "      <th>SMOG</th>\n",
       "      <th>VADD</th>\n",
       "      <th>WATR</th>\n",
       "    </tr>\n",
       "  </thead>\n",
       "  <tbody>\n",
       "    <tr>\n",
       "      <th>0</th>\n",
       "      <td>Autauga County(6,10)</td>\n",
       "      <td>1001</td>\n",
       "      <td>304</td>\n",
       "      <td>county</td>\n",
       "      <td>1</td>\n",
       "      <td>1</td>\n",
       "      <td>alabama</td>\n",
       "      <td>All Cancer Sites</td>\n",
       "      <td>299.152569</td>\n",
       "      <td>728644.544118</td>\n",
       "      <td>...</td>\n",
       "      <td>0.050200</td>\n",
       "      <td>0.000000</td>\n",
       "      <td>2149.369209</td>\n",
       "      <td>435169.166702</td>\n",
       "      <td>0.002923</td>\n",
       "      <td>0.034974</td>\n",
       "      <td>293475.377416</td>\n",
       "      <td>2949.632736</td>\n",
       "      <td>79914.159702</td>\n",
       "      <td>7851.498268</td>\n",
       "    </tr>\n",
       "    <tr>\n",
       "      <th>1</th>\n",
       "      <td>Autauga County(6,10)</td>\n",
       "      <td>1001</td>\n",
       "      <td>8</td>\n",
       "      <td>county</td>\n",
       "      <td>3</td>\n",
       "      <td>1</td>\n",
       "      <td>alabama</td>\n",
       "      <td>Oral Cavity &amp; Pharynx</td>\n",
       "      <td>299.152569</td>\n",
       "      <td>728644.544118</td>\n",
       "      <td>...</td>\n",
       "      <td>0.050200</td>\n",
       "      <td>0.000000</td>\n",
       "      <td>2149.369209</td>\n",
       "      <td>435169.166702</td>\n",
       "      <td>0.002923</td>\n",
       "      <td>0.034974</td>\n",
       "      <td>293475.377416</td>\n",
       "      <td>2949.632736</td>\n",
       "      <td>79914.159702</td>\n",
       "      <td>7851.498268</td>\n",
       "    </tr>\n",
       "    <tr>\n",
       "      <th>2</th>\n",
       "      <td>Autauga County(6,10)</td>\n",
       "      <td>1001</td>\n",
       "      <td>3</td>\n",
       "      <td>county</td>\n",
       "      <td>17</td>\n",
       "      <td>1</td>\n",
       "      <td>alabama</td>\n",
       "      <td>Esophagus</td>\n",
       "      <td>299.152569</td>\n",
       "      <td>728644.544118</td>\n",
       "      <td>...</td>\n",
       "      <td>0.050200</td>\n",
       "      <td>0.000000</td>\n",
       "      <td>2149.369209</td>\n",
       "      <td>435169.166702</td>\n",
       "      <td>0.002923</td>\n",
       "      <td>0.034974</td>\n",
       "      <td>293475.377416</td>\n",
       "      <td>2949.632736</td>\n",
       "      <td>79914.159702</td>\n",
       "      <td>7851.498268</td>\n",
       "    </tr>\n",
       "    <tr>\n",
       "      <th>3</th>\n",
       "      <td>Autauga County(6,10)</td>\n",
       "      <td>1001</td>\n",
       "      <td>6</td>\n",
       "      <td>county</td>\n",
       "      <td>18</td>\n",
       "      <td>1</td>\n",
       "      <td>alabama</td>\n",
       "      <td>Stomach</td>\n",
       "      <td>299.152569</td>\n",
       "      <td>728644.544118</td>\n",
       "      <td>...</td>\n",
       "      <td>0.050200</td>\n",
       "      <td>0.000000</td>\n",
       "      <td>2149.369209</td>\n",
       "      <td>435169.166702</td>\n",
       "      <td>0.002923</td>\n",
       "      <td>0.034974</td>\n",
       "      <td>293475.377416</td>\n",
       "      <td>2949.632736</td>\n",
       "      <td>79914.159702</td>\n",
       "      <td>7851.498268</td>\n",
       "    </tr>\n",
       "    <tr>\n",
       "      <th>4</th>\n",
       "      <td>Autauga County(6,10)</td>\n",
       "      <td>1001</td>\n",
       "      <td>32</td>\n",
       "      <td>county</td>\n",
       "      <td>20</td>\n",
       "      <td>1</td>\n",
       "      <td>alabama</td>\n",
       "      <td>Colon &amp; Rectum</td>\n",
       "      <td>299.152569</td>\n",
       "      <td>728644.544118</td>\n",
       "      <td>...</td>\n",
       "      <td>0.050200</td>\n",
       "      <td>0.000000</td>\n",
       "      <td>2149.369209</td>\n",
       "      <td>435169.166702</td>\n",
       "      <td>0.002923</td>\n",
       "      <td>0.034974</td>\n",
       "      <td>293475.377416</td>\n",
       "      <td>2949.632736</td>\n",
       "      <td>79914.159702</td>\n",
       "      <td>7851.498268</td>\n",
       "    </tr>\n",
       "    <tr>\n",
       "      <th>...</th>\n",
       "      <td>...</td>\n",
       "      <td>...</td>\n",
       "      <td>...</td>\n",
       "      <td>...</td>\n",
       "      <td>...</td>\n",
       "      <td>...</td>\n",
       "      <td>...</td>\n",
       "      <td>...</td>\n",
       "      <td>...</td>\n",
       "      <td>...</td>\n",
       "      <td>...</td>\n",
       "      <td>...</td>\n",
       "      <td>...</td>\n",
       "      <td>...</td>\n",
       "      <td>...</td>\n",
       "      <td>...</td>\n",
       "      <td>...</td>\n",
       "      <td>...</td>\n",
       "      <td>...</td>\n",
       "      <td>...</td>\n",
       "      <td>...</td>\n",
       "    </tr>\n",
       "    <tr>\n",
       "      <th>72054</th>\n",
       "      <td>Weston County(6,10)</td>\n",
       "      <td>56045</td>\n",
       "      <td>3</td>\n",
       "      <td>county</td>\n",
       "      <td>86</td>\n",
       "      <td>56</td>\n",
       "      <td>wyoming</td>\n",
       "      <td>Non-Hodgkin Lymphoma</td>\n",
       "      <td>34.618906</td>\n",
       "      <td>428737.854052</td>\n",
       "      <td>...</td>\n",
       "      <td>0.000817</td>\n",
       "      <td>17113.628433</td>\n",
       "      <td>348.003649</td>\n",
       "      <td>428660.792817</td>\n",
       "      <td>0.000395</td>\n",
       "      <td>0.000943</td>\n",
       "      <td>77.061234</td>\n",
       "      <td>1321.995548</td>\n",
       "      <td>12995.136488</td>\n",
       "      <td>47.904143</td>\n",
       "    </tr>\n",
       "    <tr>\n",
       "      <th>72055</th>\n",
       "      <td>Weston County(6,10)</td>\n",
       "      <td>56045</td>\n",
       "      <td>3</td>\n",
       "      <td>county</td>\n",
       "      <td>90</td>\n",
       "      <td>56</td>\n",
       "      <td>wyoming</td>\n",
       "      <td>Leukemia</td>\n",
       "      <td>34.618906</td>\n",
       "      <td>428737.854052</td>\n",
       "      <td>...</td>\n",
       "      <td>0.000817</td>\n",
       "      <td>17113.628433</td>\n",
       "      <td>348.003649</td>\n",
       "      <td>428660.792817</td>\n",
       "      <td>0.000395</td>\n",
       "      <td>0.000943</td>\n",
       "      <td>77.061234</td>\n",
       "      <td>1321.995548</td>\n",
       "      <td>12995.136488</td>\n",
       "      <td>47.904143</td>\n",
       "    </tr>\n",
       "    <tr>\n",
       "      <th>72056</th>\n",
       "      <td>Weston County(6,10)</td>\n",
       "      <td>56045</td>\n",
       "      <td>3</td>\n",
       "      <td>county</td>\n",
       "      <td>400</td>\n",
       "      <td>56</td>\n",
       "      <td>wyoming</td>\n",
       "      <td>Breast (in situ) (Female)</td>\n",
       "      <td>34.618906</td>\n",
       "      <td>428737.854052</td>\n",
       "      <td>...</td>\n",
       "      <td>0.000817</td>\n",
       "      <td>17113.628433</td>\n",
       "      <td>348.003649</td>\n",
       "      <td>428660.792817</td>\n",
       "      <td>0.000395</td>\n",
       "      <td>0.000943</td>\n",
       "      <td>77.061234</td>\n",
       "      <td>1321.995548</td>\n",
       "      <td>12995.136488</td>\n",
       "      <td>47.904143</td>\n",
       "    </tr>\n",
       "    <tr>\n",
       "      <th>72057</th>\n",
       "      <td>Weston County(6,10)</td>\n",
       "      <td>56045</td>\n",
       "      <td>3</td>\n",
       "      <td>county</td>\n",
       "      <td>515</td>\n",
       "      <td>56</td>\n",
       "      <td>wyoming</td>\n",
       "      <td>Childhood (Ages &lt;20, All Sites)</td>\n",
       "      <td>34.618906</td>\n",
       "      <td>428737.854052</td>\n",
       "      <td>...</td>\n",
       "      <td>0.000817</td>\n",
       "      <td>17113.628433</td>\n",
       "      <td>348.003649</td>\n",
       "      <td>428660.792817</td>\n",
       "      <td>0.000395</td>\n",
       "      <td>0.000943</td>\n",
       "      <td>77.061234</td>\n",
       "      <td>1321.995548</td>\n",
       "      <td>12995.136488</td>\n",
       "      <td>47.904143</td>\n",
       "    </tr>\n",
       "    <tr>\n",
       "      <th>72058</th>\n",
       "      <td>Weston County(6,10)</td>\n",
       "      <td>56045</td>\n",
       "      <td>3</td>\n",
       "      <td>county</td>\n",
       "      <td>516</td>\n",
       "      <td>56</td>\n",
       "      <td>wyoming</td>\n",
       "      <td>Childhood (Ages &lt;15, All Sites)</td>\n",
       "      <td>34.618906</td>\n",
       "      <td>428737.854052</td>\n",
       "      <td>...</td>\n",
       "      <td>0.000817</td>\n",
       "      <td>17113.628433</td>\n",
       "      <td>348.003649</td>\n",
       "      <td>428660.792817</td>\n",
       "      <td>0.000395</td>\n",
       "      <td>0.000943</td>\n",
       "      <td>77.061234</td>\n",
       "      <td>1321.995548</td>\n",
       "      <td>12995.136488</td>\n",
       "      <td>47.904143</td>\n",
       "    </tr>\n",
       "  </tbody>\n",
       "</table>\n",
       "<p>72059 rows × 32 columns</p>\n",
       "</div>"
      ],
      "text/plain": [
       "                     locale   fips annual_count_avg areatype  cancer  \\\n",
       "0      Autauga County(6,10)   1001              304   county       1   \n",
       "1      Autauga County(6,10)   1001                8   county       3   \n",
       "2      Autauga County(6,10)   1001                3   county      17   \n",
       "3      Autauga County(6,10)   1001                6   county      18   \n",
       "4      Autauga County(6,10)   1001               32   county      20   \n",
       "...                     ...    ...              ...      ...     ...   \n",
       "72054   Weston County(6,10)  56045                3   county      86   \n",
       "72055   Weston County(6,10)  56045                3   county      90   \n",
       "72056   Weston County(6,10)  56045                3   county     400   \n",
       "72057   Weston County(6,10)  56045                3   county     515   \n",
       "72058   Weston County(6,10)  56045                3   county     516   \n",
       "\n",
       "       stateFIPS    state               cancer_description        ACID  \\\n",
       "0              1  alabama                 All Cancer Sites  299.152569   \n",
       "1              1  alabama            Oral Cavity & Pharynx  299.152569   \n",
       "2              1  alabama                        Esophagus  299.152569   \n",
       "3              1  alabama                          Stomach  299.152569   \n",
       "4              1  alabama                   Colon & Rectum  299.152569   \n",
       "...          ...      ...                              ...         ...   \n",
       "72054         56  wyoming             Non-Hodgkin Lymphoma   34.618906   \n",
       "72055         56  wyoming                         Leukemia   34.618906   \n",
       "72056         56  wyoming        Breast (in situ) (Female)   34.618906   \n",
       "72057         56  wyoming  Childhood (Ages <20, All Sites)   34.618906   \n",
       "72058         56  wyoming  Childhood (Ages <15, All Sites)   34.618906   \n",
       "\n",
       "                ENRG  ...      METL          MINE          MSW           NREN  \\\n",
       "0      728644.544118  ...  0.050200      0.000000  2149.369209  435169.166702   \n",
       "1      728644.544118  ...  0.050200      0.000000  2149.369209  435169.166702   \n",
       "2      728644.544118  ...  0.050200      0.000000  2149.369209  435169.166702   \n",
       "3      728644.544118  ...  0.050200      0.000000  2149.369209  435169.166702   \n",
       "4      728644.544118  ...  0.050200      0.000000  2149.369209  435169.166702   \n",
       "...              ...  ...       ...           ...          ...            ...   \n",
       "72054  428737.854052  ...  0.000817  17113.628433   348.003649  428660.792817   \n",
       "72055  428737.854052  ...  0.000817  17113.628433   348.003649  428660.792817   \n",
       "72056  428737.854052  ...  0.000817  17113.628433   348.003649  428660.792817   \n",
       "72057  428737.854052  ...  0.000817  17113.628433   348.003649  428660.792817   \n",
       "72058  428737.854052  ...  0.000817  17113.628433   348.003649  428660.792817   \n",
       "\n",
       "           OZON      PEST            REN         SMOG          VADD  \\\n",
       "0      0.002923  0.034974  293475.377416  2949.632736  79914.159702   \n",
       "1      0.002923  0.034974  293475.377416  2949.632736  79914.159702   \n",
       "2      0.002923  0.034974  293475.377416  2949.632736  79914.159702   \n",
       "3      0.002923  0.034974  293475.377416  2949.632736  79914.159702   \n",
       "4      0.002923  0.034974  293475.377416  2949.632736  79914.159702   \n",
       "...         ...       ...            ...          ...           ...   \n",
       "72054  0.000395  0.000943      77.061234  1321.995548  12995.136488   \n",
       "72055  0.000395  0.000943      77.061234  1321.995548  12995.136488   \n",
       "72056  0.000395  0.000943      77.061234  1321.995548  12995.136488   \n",
       "72057  0.000395  0.000943      77.061234  1321.995548  12995.136488   \n",
       "72058  0.000395  0.000943      77.061234  1321.995548  12995.136488   \n",
       "\n",
       "              WATR  \n",
       "0      7851.498268  \n",
       "1      7851.498268  \n",
       "2      7851.498268  \n",
       "3      7851.498268  \n",
       "4      7851.498268  \n",
       "...            ...  \n",
       "72054    47.904143  \n",
       "72055    47.904143  \n",
       "72056    47.904143  \n",
       "72057    47.904143  \n",
       "72058    47.904143  \n",
       "\n",
       "[72059 rows x 32 columns]"
      ]
     },
     "execution_count": 67,
     "metadata": {},
     "output_type": "execute_result"
    }
   ],
   "source": [
    "data"
   ]
  },
  {
   "cell_type": "code",
   "execution_count": 69,
   "metadata": {},
   "outputs": [
    {
     "name": "stdout",
     "output_type": "stream",
     "text": [
      "locale                 object\n",
      "fips                    int64\n",
      "annual_count_avg       object\n",
      "areatype               object\n",
      "cancer                  int64\n",
      "stateFIPS               int64\n",
      "state                  object\n",
      "cancer_description     object\n",
      "ACID                  float64\n",
      "ENRG                  float64\n",
      "ETOX                  float64\n",
      "EUTR                  float64\n",
      "FOOD                  float64\n",
      "GCC                   float64\n",
      "HAPS                  float64\n",
      "HAZW                  float64\n",
      "HC                    float64\n",
      "HNC                   float64\n",
      "HRSP                  float64\n",
      "HTOX                  float64\n",
      "JOBS                  float64\n",
      "LAND                  float64\n",
      "METL                  float64\n",
      "MINE                  float64\n",
      "MSW                   float64\n",
      "NREN                  float64\n",
      "OZON                  float64\n",
      "PEST                  float64\n",
      "REN                   float64\n",
      "SMOG                  float64\n",
      "VADD                  float64\n",
      "WATR                  float64\n",
      "dtype: object\n"
     ]
    }
   ],
   "source": [
    "print(data.dtypes)\n",
    "data['annual_count_avg'].replace({r'[^\\x00-\\x7F]+':'0'}, regex=True, inplace=True)\n",
    "data['annual_count_avg'] = data['annual_count_avg'].astype(\"float64\")"
   ]
  },
  {
   "cell_type": "code",
   "execution_count": 70,
   "metadata": {},
   "outputs": [
    {
     "data": {
      "text/plain": [
       "array([  1,   3,  17,  18,  20,  35,  40,  47,  53,  55,  57,  58,  61,\n",
       "        66,  71,  72,  76,  80,  86,  90, 400, 515, 516], dtype=int64)"
      ]
     },
     "execution_count": 70,
     "metadata": {},
     "output_type": "execute_result"
    }
   ],
   "source": [
    "cancerVals=data[\"cancer\"].unique()\n",
    "cancerVals"
   ]
  },
  {
   "cell_type": "code",
   "execution_count": 71,
   "metadata": {},
   "outputs": [
    {
     "data": {
      "text/plain": [
       "array(['All Cancer Sites', 'Oral Cavity & Pharynx', 'Esophagus',\n",
       "       'Stomach', 'Colon & Rectum', 'Liver & Bile Duct', 'Pancreas',\n",
       "       'Lung & Bronchus', 'Melanoma of the Skin', 'Breast (Female)',\n",
       "       'Cervix (Female)', 'Uterus (Corpus & Uterus, NOS) (Female)',\n",
       "       'Ovary (Female)', 'Prostate (Male)', 'Bladder',\n",
       "       'Kidney & Renal Pelvis', 'Brain & ONS', 'Thyroid',\n",
       "       'Non-Hodgkin Lymphoma', 'Leukemia', 'Breast (in situ) (Female)',\n",
       "       'Childhood (Ages <20, All Sites)',\n",
       "       'Childhood (Ages <15, All Sites)'], dtype=object)"
      ]
     },
     "execution_count": 71,
     "metadata": {},
     "output_type": "execute_result"
    }
   ],
   "source": [
    "cancerDescr=data[\"cancer_description\"].unique()\n",
    "cancerDescr"
   ]
  },
  {
   "cell_type": "code",
   "execution_count": 155,
   "metadata": {},
   "outputs": [
    {
     "name": "stdout",
     "output_type": "stream",
     "text": [
      "    cancer                      cancer_description\n",
      "0        1                        All Cancer Sites\n",
      "1        3                   Oral Cavity & Pharynx\n",
      "2       17                               Esophagus\n",
      "3       18                                 Stomach\n",
      "4       20                          Colon & Rectum\n",
      "5       35                       Liver & Bile Duct\n",
      "6       40                                Pancreas\n",
      "7       47                         Lung & Bronchus\n",
      "8       53                    Melanoma of the Skin\n",
      "9       55                         Breast (Female)\n",
      "10      57                         Cervix (Female)\n",
      "11      58  Uterus (Corpus & Uterus, NOS) (Female)\n",
      "12      61                          Ovary (Female)\n",
      "13      66                         Prostate (Male)\n",
      "14      71                                 Bladder\n",
      "15      72                   Kidney & Renal Pelvis\n",
      "16      76                             Brain & ONS\n",
      "17      80                                 Thyroid\n",
      "18      86                    Non-Hodgkin Lymphoma\n",
      "19      90                                Leukemia\n",
      "20     400               Breast (in situ) (Female)\n",
      "21     515         Childhood (Ages <20, All Sites)\n",
      "22     516         Childhood (Ages <15, All Sites)\n",
      "example:\n",
      "1    Oral Cavity & Pharynx\n"
     ]
    }
   ],
   "source": [
    "cancerDescription=data[[\"cancer\",\"cancer_description\"]]\n",
    "cancerTypes=cancerDescription.groupby([\"cancer\",\"cancer_description\"]).sum().reset_index()\n",
    "print(cancerTypes)\n",
    "cancer=cancerTypes[\"cancer\"]==3\n",
    "print(\"example:\")\n",
    "print(cancerTypes[cancer][\"cancer_description\"].to_string())"
   ]
  },
  {
   "cell_type": "markdown",
   "metadata": {},
   "source": [
    "# Part 2: Random Forest Regressor"
   ]
  },
  {
   "cell_type": "markdown",
   "metadata": {},
   "source": [
    "## Hypertuning"
   ]
  },
  {
   "cell_type": "code",
   "execution_count": 180,
   "metadata": {},
   "outputs": [
    {
     "name": "stdout",
     "output_type": "stream",
     "text": [
      "XTrain (2193, 24)\n",
      "XTest (940, 24)\n"
     ]
    }
   ],
   "source": [
    "cancerData=data[\"cancer\"]==1\n",
    "newData=data[cancerData]    \n",
    "\n",
    "#splitting to test and train\n",
    "x1=newData.loc[:, 'ACID':'WATR']\n",
    "y = newData['annual_count_avg']\n",
    "\n",
    "X_train1, X_test1, y_train, y_test = train_test_split(x1, y,\n",
    "                                                    test_size=0.3,\n",
    "                                                    random_state = RSEED)\n",
    "scaler = StandardScaler()\n",
    "scaler.fit(X_train1)\n",
    "\n",
    "X_train = scaler.transform(X_train1)\n",
    "X_test = scaler.transform(X_test1)\n",
    "\n",
    "print(\"XTrain\",X_train.shape)\n",
    "print(\"XTest\",X_test.shape)"
   ]
  },
  {
   "cell_type": "code",
   "execution_count": null,
   "metadata": {},
   "outputs": [],
   "source": [
    "# Create the model with 10 trees\n",
    "#regressor = RandomForestRegressor(n_estimators = 100,\n",
    "                                 # random_state = RSEED)\n",
    "\n",
    "# Fit on training data\n",
    "#regressor.fit(X_train, y_train)\n",
    "\n",
    "parameters={'n_estimators':[4, 16,32,50,64,100,128, 256],'max_depth': [2, 8, 16,32,50,64]}\n",
    "rf = RandomForestRegressor(random_state = RSEED)\n",
    "clf = GridSearchCV(rf, parameters)\n",
    "clf.fit(X_train, y_train)"
   ]
  },
  {
   "cell_type": "code",
   "execution_count": null,
   "metadata": {},
   "outputs": [],
   "source": [
    "print(clf.best_params_)"
   ]
  },
  {
   "cell_type": "markdown",
   "metadata": {},
   "source": [
    "## Random Forest Loop"
   ]
  },
  {
   "cell_type": "code",
   "execution_count": 186,
   "metadata": {
    "scrolled": false
   },
   "outputs": [
    {
     "name": "stdout",
     "output_type": "stream",
     "text": [
      "cancer type: 1\n",
      "0    All Cancer Sites\n",
      "Creating RandomForest Model and Fitting the Data\n",
      "score 0.8819687210387928\n",
      "Feature Importance\n",
      "indecis: [ 4 16 14 18 12 22  3  7  6 11  2 19  0 17 15 20  1 13 10  5 23  8 21  9]\n",
      "importances: [0.53490404 0.11591872 0.0820623  0.06413346 0.03011724 0.02448188\n",
      " 0.02411051 0.01910172 0.01882702 0.01600346 0.01248373 0.01176378\n",
      " 0.01026421 0.00522996 0.00509087 0.0045648  0.00420603 0.0036281\n",
      " 0.00340355 0.00254425 0.00231281 0.00210026 0.00208105 0.00066626]\n",
      "features: ['FOOD' 'MSW' 'METL' 'OZON' 'JOBS' 'VADD' 'EUTR' 'HAZW' 'HAPS' 'HTOX'\n",
      " 'ETOX' 'PEST' 'ACID' 'NREN' 'MINE' 'REN' 'ENRG' 'LAND' 'HRSP' 'GCC'\n",
      " 'WATR' 'HC' 'SMOG' 'HNC']\n",
      "\n",
      "\n",
      "cancer type: 3\n",
      "1    Oral Cavity & Pharynx\n",
      "Creating RandomForest Model and Fitting the Data\n"
     ]
    },
    {
     "name": "stderr",
     "output_type": "stream",
     "text": [
      "C:\\Users\\Owner\\Miniconda3\\lib\\site-packages\\ipykernel_launcher.py:60: UserWarning: Matplotlib is currently using module://ipykernel.pylab.backend_inline, which is a non-GUI backend, so cannot show the figure.\n"
     ]
    },
    {
     "name": "stdout",
     "output_type": "stream",
     "text": [
      "score 0.8758564756373749\n",
      "Feature Importance\n",
      "indecis: [ 4 16 18  6 14 22  3  2 10  7 12 11  8 19  5 17 15  1 20 13  0 23 21  9]\n",
      "importances: [0.53450614 0.15741434 0.05873836 0.04871986 0.04333129 0.02500536\n",
      " 0.02423856 0.01678462 0.01228034 0.0110564  0.00972783 0.00971953\n",
      " 0.00836054 0.00685098 0.00502185 0.00486844 0.00420986 0.00390055\n",
      " 0.00374622 0.00342021 0.00290556 0.00248078 0.00177137 0.00094103]\n",
      "features: ['FOOD' 'MSW' 'OZON' 'HAPS' 'METL' 'VADD' 'EUTR' 'ETOX' 'HRSP' 'HAZW'\n",
      " 'JOBS' 'HTOX' 'HC' 'PEST' 'GCC' 'NREN' 'MINE' 'ENRG' 'REN' 'LAND' 'ACID'\n",
      " 'WATR' 'SMOG' 'HNC']\n",
      "\n",
      "\n",
      "cancer type: 17\n",
      "2    Esophagus\n",
      "Creating RandomForest Model and Fitting the Data\n"
     ]
    },
    {
     "name": "stderr",
     "output_type": "stream",
     "text": [
      "C:\\Users\\Owner\\Miniconda3\\lib\\site-packages\\ipykernel_launcher.py:60: UserWarning: Matplotlib is currently using module://ipykernel.pylab.backend_inline, which is a non-GUI backend, so cannot show the figure.\n"
     ]
    },
    {
     "name": "stdout",
     "output_type": "stream",
     "text": [
      "score 0.8152024048835163\n",
      "Feature Importance\n",
      "indecis: [ 4 16 14 10 22 18 12  6  3  8 11  5  9 15  2  7 17 20 19 13  0 21 23  1]\n",
      "importances: [0.54201492 0.10578857 0.06608228 0.03583555 0.03535785 0.0347759\n",
      " 0.0314871  0.02556283 0.02262223 0.01708537 0.01082988 0.00925631\n",
      " 0.00833242 0.00789605 0.00761597 0.00700683 0.00661825 0.00546382\n",
      " 0.00448364 0.00432695 0.00357863 0.0033031  0.00237529 0.00230024]\n",
      "features: ['FOOD' 'MSW' 'METL' 'HRSP' 'VADD' 'OZON' 'JOBS' 'HAPS' 'EUTR' 'HC' 'HTOX'\n",
      " 'GCC' 'HNC' 'MINE' 'ETOX' 'HAZW' 'NREN' 'REN' 'PEST' 'LAND' 'ACID' 'SMOG'\n",
      " 'WATR' 'ENRG']\n",
      "\n",
      "\n",
      "cancer type: 18\n",
      "3    Stomach\n",
      "Creating RandomForest Model and Fitting the Data\n"
     ]
    },
    {
     "name": "stderr",
     "output_type": "stream",
     "text": [
      "C:\\Users\\Owner\\Miniconda3\\lib\\site-packages\\ipykernel_launcher.py:60: UserWarning: Matplotlib is currently using module://ipykernel.pylab.backend_inline, which is a non-GUI backend, so cannot show the figure.\n"
     ]
    },
    {
     "name": "stdout",
     "output_type": "stream",
     "text": [
      "score 0.849464813706331\n",
      "Feature Importance\n",
      "indecis: [ 4 12 16  3 18 14 22  5 10  6  9  7 21  1  2 19  8 23 17 13 15 20  0 11]\n",
      "importances: [0.22353621 0.1939082  0.12096731 0.0976474  0.08678339 0.07797725\n",
      " 0.05547445 0.02745838 0.02106266 0.01999722 0.01810137 0.00955761\n",
      " 0.0081886  0.00750831 0.0063349  0.00413509 0.00369347 0.00366273\n",
      " 0.00357013 0.00297051 0.00284036 0.00278959 0.00132937 0.00050548]\n",
      "features: ['FOOD' 'JOBS' 'MSW' 'EUTR' 'OZON' 'METL' 'VADD' 'GCC' 'HRSP' 'HAPS' 'HNC'\n",
      " 'HAZW' 'SMOG' 'ENRG' 'ETOX' 'PEST' 'HC' 'WATR' 'NREN' 'LAND' 'MINE' 'REN'\n",
      " 'ACID' 'HTOX']\n",
      "\n",
      "\n",
      "cancer type: 20\n",
      "4    Colon & Rectum\n",
      "Creating RandomForest Model and Fitting the Data\n"
     ]
    },
    {
     "name": "stderr",
     "output_type": "stream",
     "text": [
      "C:\\Users\\Owner\\Miniconda3\\lib\\site-packages\\ipykernel_launcher.py:60: UserWarning: Matplotlib is currently using module://ipykernel.pylab.backend_inline, which is a non-GUI backend, so cannot show the figure.\n"
     ]
    },
    {
     "name": "stdout",
     "output_type": "stream",
     "text": [
      "score 0.8471980024181344\n",
      "Feature Importance\n",
      "indecis: [ 4 16 18 14 10  9 12  3 22  6 11 19  2  7  1 15 20 17  5  0 21  8 13 23]\n",
      "importances: [0.43371001 0.1162898  0.08911767 0.06853543 0.04212088 0.03853192\n",
      " 0.03738027 0.03555587 0.03505335 0.02957482 0.01799729 0.01572797\n",
      " 0.00694526 0.00564819 0.00433604 0.00385782 0.00333153 0.00303781\n",
      " 0.00300976 0.00273517 0.00224118 0.0018495  0.001761   0.00165146]\n",
      "features: ['FOOD' 'MSW' 'OZON' 'METL' 'HRSP' 'HNC' 'JOBS' 'EUTR' 'VADD' 'HAPS'\n",
      " 'HTOX' 'PEST' 'ETOX' 'HAZW' 'ENRG' 'MINE' 'REN' 'NREN' 'GCC' 'ACID'\n",
      " 'SMOG' 'HC' 'LAND' 'WATR']\n",
      "\n",
      "\n",
      "cancer type: 35\n",
      "5    Liver & Bile Duct\n",
      "Creating RandomForest Model and Fitting the Data\n"
     ]
    },
    {
     "name": "stderr",
     "output_type": "stream",
     "text": [
      "C:\\Users\\Owner\\Miniconda3\\lib\\site-packages\\ipykernel_launcher.py:60: UserWarning: Matplotlib is currently using module://ipykernel.pylab.backend_inline, which is a non-GUI backend, so cannot show the figure.\n"
     ]
    },
    {
     "name": "stdout",
     "output_type": "stream",
     "text": [
      "score 0.8385184914578491\n",
      "Feature Importance\n",
      "indecis: [ 4 14 12 18 16 22  8  3  9 10  0  1  6 21 19 17  2  7  5 11 20 15 13 23]\n",
      "importances: [0.41625946 0.1159245  0.11433382 0.07260107 0.06368553 0.05059003\n",
      " 0.01983907 0.01815154 0.01636036 0.0161244  0.01396619 0.00983169\n",
      " 0.00983159 0.00945038 0.00934999 0.00863131 0.00790973 0.00554898\n",
      " 0.00537732 0.00450285 0.00364005 0.00285124 0.00265298 0.00258591]\n",
      "features: ['FOOD' 'METL' 'JOBS' 'OZON' 'MSW' 'VADD' 'HC' 'EUTR' 'HNC' 'HRSP' 'ACID'\n",
      " 'ENRG' 'HAPS' 'SMOG' 'PEST' 'NREN' 'ETOX' 'HAZW' 'GCC' 'HTOX' 'REN'\n",
      " 'MINE' 'LAND' 'WATR']\n",
      "\n",
      "\n",
      "cancer type: 40\n",
      "6    Pancreas\n",
      "Creating RandomForest Model and Fitting the Data\n"
     ]
    },
    {
     "name": "stderr",
     "output_type": "stream",
     "text": [
      "C:\\Users\\Owner\\Miniconda3\\lib\\site-packages\\ipykernel_launcher.py:60: UserWarning: Matplotlib is currently using module://ipykernel.pylab.backend_inline, which is a non-GUI backend, so cannot show the figure.\n"
     ]
    },
    {
     "name": "stdout",
     "output_type": "stream",
     "text": [
      "score 0.8418035577902212\n",
      "Feature Importance\n",
      "indecis: [ 4 16 14 12  3 18 22  9 19  7  8 10 11  5  2  6 13 20 23 15  1  0 17 21]\n",
      "importances: [0.44188374 0.11526283 0.10509788 0.06175875 0.04621004 0.04332804\n",
      " 0.03371238 0.02874648 0.02373899 0.01448801 0.01204447 0.01178413\n",
      " 0.01114612 0.01106643 0.01026751 0.00691609 0.00443865 0.00382107\n",
      " 0.0030282  0.00290874 0.00269706 0.00216879 0.00211245 0.00137315]\n",
      "features: ['FOOD' 'MSW' 'METL' 'JOBS' 'EUTR' 'OZON' 'VADD' 'HNC' 'PEST' 'HAZW' 'HC'\n",
      " 'HRSP' 'HTOX' 'GCC' 'ETOX' 'HAPS' 'LAND' 'REN' 'WATR' 'MINE' 'ENRG'\n",
      " 'ACID' 'NREN' 'SMOG']\n",
      "\n",
      "\n",
      "cancer type: 47\n",
      "7    Lung & Bronchus\n",
      "Creating RandomForest Model and Fitting the Data\n"
     ]
    },
    {
     "name": "stderr",
     "output_type": "stream",
     "text": [
      "C:\\Users\\Owner\\Miniconda3\\lib\\site-packages\\ipykernel_launcher.py:60: UserWarning: Matplotlib is currently using module://ipykernel.pylab.backend_inline, which is a non-GUI backend, so cannot show the figure.\n"
     ]
    },
    {
     "name": "stdout",
     "output_type": "stream",
     "text": [
      "score 0.8106591169995\n",
      "Feature Importance\n",
      "indecis: [ 4 16 14  6 18 22 12  3 10  9  7 21 17  1  8  2 15 19 20 23 13  0  5 11]\n",
      "importances: [0.45347092 0.19674917 0.0797479  0.05404369 0.03804975 0.02779223\n",
      " 0.02704136 0.01844722 0.01628162 0.01504917 0.01027846 0.0076594\n",
      " 0.0076587  0.00632567 0.00628648 0.00588088 0.00584104 0.00491495\n",
      " 0.00475993 0.00395111 0.00338155 0.00299431 0.00211136 0.00128312]\n",
      "features: ['FOOD' 'MSW' 'METL' 'HAPS' 'OZON' 'VADD' 'JOBS' 'EUTR' 'HRSP' 'HNC'\n",
      " 'HAZW' 'SMOG' 'NREN' 'ENRG' 'HC' 'ETOX' 'MINE' 'PEST' 'REN' 'WATR' 'LAND'\n",
      " 'ACID' 'GCC' 'HTOX']\n",
      "\n",
      "\n",
      "cancer type: 53\n",
      "8    Melanoma of the Skin\n",
      "Creating RandomForest Model and Fitting the Data\n"
     ]
    },
    {
     "name": "stderr",
     "output_type": "stream",
     "text": [
      "C:\\Users\\Owner\\Miniconda3\\lib\\site-packages\\ipykernel_launcher.py:60: UserWarning: Matplotlib is currently using module://ipykernel.pylab.backend_inline, which is a non-GUI backend, so cannot show the figure.\n"
     ]
    },
    {
     "name": "stdout",
     "output_type": "stream",
     "text": [
      "score 0.8285368793721613\n",
      "Feature Importance\n",
      "indecis: [ 4  2 16 19 18  3  7 14 22  6 12 23 15 20 13  1 10  0  5 17 21  9  8 11]\n",
      "importances: [0.56698275 0.08374635 0.06247443 0.05450958 0.04383384 0.03326534\n",
      " 0.02125625 0.02120097 0.02099811 0.01968633 0.01420182 0.01154203\n",
      " 0.00734212 0.00720499 0.00543349 0.00464777 0.00412179 0.00375558\n",
      " 0.00355774 0.00273162 0.00268465 0.00253192 0.00139118 0.00089933]\n",
      "features: ['FOOD' 'ETOX' 'MSW' 'PEST' 'OZON' 'EUTR' 'HAZW' 'METL' 'VADD' 'HAPS'\n",
      " 'JOBS' 'WATR' 'MINE' 'REN' 'LAND' 'ENRG' 'HRSP' 'ACID' 'GCC' 'NREN'\n",
      " 'SMOG' 'HNC' 'HC' 'HTOX']\n",
      "\n",
      "\n",
      "cancer type: 55\n",
      "9    Breast (Female)\n",
      "Creating RandomForest Model and Fitting the Data\n"
     ]
    },
    {
     "name": "stderr",
     "output_type": "stream",
     "text": [
      "C:\\Users\\Owner\\Miniconda3\\lib\\site-packages\\ipykernel_launcher.py:60: UserWarning: Matplotlib is currently using module://ipykernel.pylab.backend_inline, which is a non-GUI backend, so cannot show the figure.\n"
     ]
    },
    {
     "name": "stdout",
     "output_type": "stream",
     "text": [
      "score 0.9068670360693758\n",
      "Feature Importance\n",
      "indecis: [ 4 16 18 12  3 14 22  6  2 19  0 10  7  5 17 13  8 20 15 23  1 11 21  9]\n",
      "importances: [0.4880163  0.11487587 0.0731649  0.06722081 0.05494756 0.05372273\n",
      " 0.0448191  0.02654748 0.01970919 0.01206048 0.01065374 0.00622012\n",
      " 0.00596477 0.00492986 0.00318938 0.00262511 0.00249813 0.00191189\n",
      " 0.00187371 0.00121688 0.00120828 0.00112842 0.00078087 0.00071441]\n",
      "features: ['FOOD' 'MSW' 'OZON' 'JOBS' 'EUTR' 'METL' 'VADD' 'HAPS' 'ETOX' 'PEST'\n",
      " 'ACID' 'HRSP' 'HAZW' 'GCC' 'NREN' 'LAND' 'HC' 'REN' 'MINE' 'WATR' 'ENRG'\n",
      " 'HTOX' 'SMOG' 'HNC']\n",
      "\n",
      "\n",
      "cancer type: 57\n",
      "10    Cervix (Female)\n",
      "Creating RandomForest Model and Fitting the Data\n"
     ]
    },
    {
     "name": "stderr",
     "output_type": "stream",
     "text": [
      "C:\\Users\\Owner\\Miniconda3\\lib\\site-packages\\ipykernel_launcher.py:60: UserWarning: Matplotlib is currently using module://ipykernel.pylab.backend_inline, which is a non-GUI backend, so cannot show the figure.\n"
     ]
    },
    {
     "name": "stdout",
     "output_type": "stream",
     "text": [
      "score 0.754588090255887\n",
      "Feature Importance\n",
      "indecis: [ 4 14 12 18  9  3 16 22  5  0 17 11  6  8  7 10 13 20 15 23  1 19 21  2]\n",
      "importances: [0.27804088 0.12456036 0.10080031 0.08718777 0.07980681 0.05032971\n",
      " 0.04871003 0.04032521 0.02555735 0.02487443 0.02465976 0.02364886\n",
      " 0.01824629 0.01425964 0.01374963 0.01209313 0.00979127 0.00669028\n",
      " 0.00460012 0.00424877 0.00213071 0.00212625 0.00178621 0.00177622]\n",
      "features: ['FOOD' 'METL' 'JOBS' 'OZON' 'HNC' 'EUTR' 'MSW' 'VADD' 'GCC' 'ACID' 'NREN'\n",
      " 'HTOX' 'HAPS' 'HC' 'HAZW' 'HRSP' 'LAND' 'REN' 'MINE' 'WATR' 'ENRG' 'PEST'\n",
      " 'SMOG' 'ETOX']\n",
      "\n",
      "\n",
      "cancer type: 58\n",
      "11    Uterus (Corpus & Uterus, NOS) (Female)\n",
      "Creating RandomForest Model and Fitting the Data\n"
     ]
    },
    {
     "name": "stderr",
     "output_type": "stream",
     "text": [
      "C:\\Users\\Owner\\Miniconda3\\lib\\site-packages\\ipykernel_launcher.py:60: UserWarning: Matplotlib is currently using module://ipykernel.pylab.backend_inline, which is a non-GUI backend, so cannot show the figure.\n"
     ]
    },
    {
     "name": "stdout",
     "output_type": "stream",
     "text": [
      "score 0.8828842335020907\n",
      "Feature Importance\n",
      "indecis: [ 4 16 14 12 22  3 18 21 19  2  8  7  6 10 11 17 23 15  1  5  9 20 13  0]\n",
      "importances: [0.43590258 0.10245452 0.08721239 0.07630888 0.06666756 0.05865754\n",
      " 0.05622009 0.01430692 0.01428013 0.01418597 0.01236321 0.012059\n",
      " 0.0106027  0.00835087 0.00536987 0.0048825  0.00407069 0.00395547\n",
      " 0.00283079 0.00277525 0.00185877 0.00173825 0.00149587 0.00145018]\n",
      "features: ['FOOD' 'MSW' 'METL' 'JOBS' 'VADD' 'EUTR' 'OZON' 'SMOG' 'PEST' 'ETOX' 'HC'\n",
      " 'HAZW' 'HAPS' 'HRSP' 'HTOX' 'NREN' 'WATR' 'MINE' 'ENRG' 'GCC' 'HNC' 'REN'\n",
      " 'LAND' 'ACID']\n",
      "\n",
      "\n",
      "cancer type: 61\n",
      "12    Ovary (Female)\n",
      "Creating RandomForest Model and Fitting the Data\n"
     ]
    },
    {
     "name": "stderr",
     "output_type": "stream",
     "text": [
      "C:\\Users\\Owner\\Miniconda3\\lib\\site-packages\\ipykernel_launcher.py:60: UserWarning: Matplotlib is currently using module://ipykernel.pylab.backend_inline, which is a non-GUI backend, so cannot show the figure.\n"
     ]
    },
    {
     "name": "stdout",
     "output_type": "stream",
     "text": [
      "score 0.8580431922392132\n",
      "Feature Importance\n",
      "indecis: [ 4 18 16 14 22 12  3  9  5  8  7  6  2 19 10 20  0  1 15 13 23 21 17 11]\n",
      "importances: [0.43740765 0.12809795 0.09416146 0.06863729 0.05948271 0.04131013\n",
      " 0.03001224 0.02078779 0.01929599 0.01703705 0.01588929 0.01440437\n",
      " 0.01177658 0.00991565 0.00736884 0.00558846 0.00388069 0.00319401\n",
      " 0.0030029  0.0021129  0.00207301 0.00176442 0.00144657 0.00135205]\n",
      "features: ['FOOD' 'OZON' 'MSW' 'METL' 'VADD' 'JOBS' 'EUTR' 'HNC' 'GCC' 'HC' 'HAZW'\n",
      " 'HAPS' 'ETOX' 'PEST' 'HRSP' 'REN' 'ACID' 'ENRG' 'MINE' 'LAND' 'WATR'\n",
      " 'SMOG' 'NREN' 'HTOX']\n",
      "\n",
      "\n",
      "cancer type: 66\n",
      "13    Prostate (Male)\n",
      "Creating RandomForest Model and Fitting the Data\n"
     ]
    },
    {
     "name": "stderr",
     "output_type": "stream",
     "text": [
      "C:\\Users\\Owner\\Miniconda3\\lib\\site-packages\\ipykernel_launcher.py:60: UserWarning: Matplotlib is currently using module://ipykernel.pylab.backend_inline, which is a non-GUI backend, so cannot show the figure.\n"
     ]
    },
    {
     "name": "stdout",
     "output_type": "stream",
     "text": [
      "score 0.8890921186839258\n",
      "Feature Importance\n",
      "indecis: [ 4 16 14 12 18 22  3  6  2 11  8 17  7  1 10 19 20  5 15  9  0 21 23 13]\n",
      "importances: [0.47726681 0.11432342 0.08495119 0.075463   0.04652379 0.04249969\n",
      " 0.04236086 0.02217718 0.01710813 0.01546033 0.01467508 0.00810877\n",
      " 0.00757796 0.004926   0.00469198 0.00409499 0.00336974 0.00296421\n",
      " 0.00291503 0.00205419 0.00203212 0.00172207 0.0015004  0.00123305]\n",
      "features: ['FOOD' 'MSW' 'METL' 'JOBS' 'OZON' 'VADD' 'EUTR' 'HAPS' 'ETOX' 'HTOX' 'HC'\n",
      " 'NREN' 'HAZW' 'ENRG' 'HRSP' 'PEST' 'REN' 'GCC' 'MINE' 'HNC' 'ACID' 'SMOG'\n",
      " 'WATR' 'LAND']\n",
      "\n",
      "\n",
      "cancer type: 71\n",
      "14    Bladder\n",
      "Creating RandomForest Model and Fitting the Data\n"
     ]
    },
    {
     "name": "stderr",
     "output_type": "stream",
     "text": [
      "C:\\Users\\Owner\\Miniconda3\\lib\\site-packages\\ipykernel_launcher.py:60: UserWarning: Matplotlib is currently using module://ipykernel.pylab.backend_inline, which is a non-GUI backend, so cannot show the figure.\n"
     ]
    },
    {
     "name": "stdout",
     "output_type": "stream",
     "text": [
      "score 0.8112243194021053\n",
      "Feature Importance\n",
      "indecis: [ 4 16 22 18 12 19 14  3 11  6 10  2  7  9 17 20  1 15  5 23  8 13 21  0]\n",
      "importances: [0.45084778 0.21500985 0.04757335 0.04588356 0.02972138 0.02923274\n",
      " 0.0273392  0.02517186 0.01814738 0.01746689 0.01635393 0.01559711\n",
      " 0.01215875 0.00880958 0.00679406 0.0056984  0.0047557  0.0046588\n",
      " 0.00361267 0.00354258 0.00351988 0.00328733 0.00293331 0.00188392]\n",
      "features: ['FOOD' 'MSW' 'VADD' 'OZON' 'JOBS' 'PEST' 'METL' 'EUTR' 'HTOX' 'HAPS'\n",
      " 'HRSP' 'ETOX' 'HAZW' 'HNC' 'NREN' 'REN' 'ENRG' 'MINE' 'GCC' 'WATR' 'HC'\n",
      " 'LAND' 'SMOG' 'ACID']\n",
      "\n",
      "\n",
      "cancer type: 72\n",
      "15    Kidney & Renal Pelvis\n",
      "Creating RandomForest Model and Fitting the Data\n"
     ]
    },
    {
     "name": "stderr",
     "output_type": "stream",
     "text": [
      "C:\\Users\\Owner\\Miniconda3\\lib\\site-packages\\ipykernel_launcher.py:60: UserWarning: Matplotlib is currently using module://ipykernel.pylab.backend_inline, which is a non-GUI backend, so cannot show the figure.\n"
     ]
    },
    {
     "name": "stdout",
     "output_type": "stream",
     "text": [
      "score 0.8333744990202927\n",
      "Feature Importance\n",
      "indecis: [ 4 16 14 18  3 12 22  6  9 10  7 11  2  8 19  5 15 20 13  1 23 17  0 21]\n",
      "importances: [0.4430514  0.12651371 0.0651587  0.0611461  0.05915794 0.0445963\n",
      " 0.0403703  0.03107726 0.02682605 0.01781524 0.01557315 0.01491824\n",
      " 0.01335129 0.01021769 0.00484353 0.00465354 0.00403493 0.00314515\n",
      " 0.00307259 0.00292928 0.00252985 0.00232129 0.00171893 0.00097755]\n",
      "features: ['FOOD' 'MSW' 'METL' 'OZON' 'EUTR' 'JOBS' 'VADD' 'HAPS' 'HNC' 'HRSP'\n",
      " 'HAZW' 'HTOX' 'ETOX' 'HC' 'PEST' 'GCC' 'MINE' 'REN' 'LAND' 'ENRG' 'WATR'\n",
      " 'NREN' 'ACID' 'SMOG']\n",
      "\n",
      "\n",
      "cancer type: 76\n",
      "16    Brain & ONS\n",
      "Creating RandomForest Model and Fitting the Data\n"
     ]
    },
    {
     "name": "stderr",
     "output_type": "stream",
     "text": [
      "C:\\Users\\Owner\\Miniconda3\\lib\\site-packages\\ipykernel_launcher.py:60: UserWarning: Matplotlib is currently using module://ipykernel.pylab.backend_inline, which is a non-GUI backend, so cannot show the figure.\n"
     ]
    },
    {
     "name": "stdout",
     "output_type": "stream",
     "text": [
      "score 0.8727688868910078\n",
      "Feature Importance\n",
      "indecis: [ 4 16 18 14  6 22  3 10  7 12  2  8 19 13 20 15  9 11 23  0  5  1 17 21]\n",
      "importances: [0.52135651 0.14082315 0.08088168 0.05617588 0.041578   0.03348525\n",
      " 0.0247554  0.01977218 0.01647384 0.01219049 0.01073084 0.00924115\n",
      " 0.0084461  0.0045518  0.00417244 0.00397258 0.00310173 0.00140827\n",
      " 0.00136809 0.00126444 0.00123493 0.0011647  0.00095796 0.0008926 ]\n",
      "features: ['FOOD' 'MSW' 'OZON' 'METL' 'HAPS' 'VADD' 'EUTR' 'HRSP' 'HAZW' 'JOBS'\n",
      " 'ETOX' 'HC' 'PEST' 'LAND' 'REN' 'MINE' 'HNC' 'HTOX' 'WATR' 'ACID' 'GCC'\n",
      " 'ENRG' 'NREN' 'SMOG']\n",
      "\n",
      "\n",
      "cancer type: 80\n",
      "17    Thyroid\n",
      "Creating RandomForest Model and Fitting the Data\n"
     ]
    },
    {
     "name": "stderr",
     "output_type": "stream",
     "text": [
      "C:\\Users\\Owner\\Miniconda3\\lib\\site-packages\\ipykernel_launcher.py:60: UserWarning: Matplotlib is currently using module://ipykernel.pylab.backend_inline, which is a non-GUI backend, so cannot show the figure.\n"
     ]
    },
    {
     "name": "stdout",
     "output_type": "stream",
     "text": [
      "score 0.7653499783233767\n",
      "Feature Importance\n",
      "indecis: [ 4 12 16 22 14 18 19  2 10  5  3  7 15 13  6 17 21 11 23  1  8  9 20  0]\n",
      "importances: [0.44680257 0.12858782 0.11079102 0.06852824 0.06789986 0.04299037\n",
      " 0.02416086 0.02297506 0.01761087 0.01289908 0.01186018 0.00819669\n",
      " 0.00572735 0.00542298 0.00342771 0.00338705 0.00337246 0.00301432\n",
      " 0.00274153 0.00262345 0.00234456 0.00208414 0.00133931 0.00121251]\n",
      "features: ['FOOD' 'JOBS' 'MSW' 'VADD' 'METL' 'OZON' 'PEST' 'ETOX' 'HRSP' 'GCC'\n",
      " 'EUTR' 'HAZW' 'MINE' 'LAND' 'HAPS' 'NREN' 'SMOG' 'HTOX' 'WATR' 'ENRG'\n",
      " 'HC' 'HNC' 'REN' 'ACID']\n",
      "\n",
      "\n",
      "cancer type: 86\n",
      "18    Non-Hodgkin Lymphoma\n",
      "Creating RandomForest Model and Fitting the Data\n"
     ]
    },
    {
     "name": "stderr",
     "output_type": "stream",
     "text": [
      "C:\\Users\\Owner\\Miniconda3\\lib\\site-packages\\ipykernel_launcher.py:60: UserWarning: Matplotlib is currently using module://ipykernel.pylab.backend_inline, which is a non-GUI backend, so cannot show the figure.\n"
     ]
    },
    {
     "name": "stdout",
     "output_type": "stream",
     "text": [
      "score 0.8561623267150786\n",
      "Feature Importance\n",
      "indecis: [ 4 16 14 12 18 19 22  2  8  3 10  6 11  7 15  1 17 13 23 20  9 21  0  5]\n",
      "importances: [0.47099763 0.09553903 0.08406918 0.07007467 0.05232678 0.04507702\n",
      " 0.04387238 0.03605413 0.01950503 0.01823566 0.01280464 0.0122121\n",
      " 0.01150533 0.00582231 0.00400504 0.00255541 0.00254422 0.00249053\n",
      " 0.00226421 0.00221489 0.00216297 0.00125239 0.00121288 0.00120156]\n",
      "features: ['FOOD' 'MSW' 'METL' 'JOBS' 'OZON' 'PEST' 'VADD' 'ETOX' 'HC' 'EUTR' 'HRSP'\n",
      " 'HAPS' 'HTOX' 'HAZW' 'MINE' 'ENRG' 'NREN' 'LAND' 'WATR' 'REN' 'HNC'\n",
      " 'SMOG' 'ACID' 'GCC']\n",
      "\n",
      "\n",
      "cancer type: 90\n",
      "19    Leukemia\n",
      "Creating RandomForest Model and Fitting the Data\n"
     ]
    },
    {
     "name": "stderr",
     "output_type": "stream",
     "text": [
      "C:\\Users\\Owner\\Miniconda3\\lib\\site-packages\\ipykernel_launcher.py:60: UserWarning: Matplotlib is currently using module://ipykernel.pylab.backend_inline, which is a non-GUI backend, so cannot show the figure.\n"
     ]
    },
    {
     "name": "stdout",
     "output_type": "stream",
     "text": [
      "score 0.8188287613006758\n",
      "Feature Importance\n",
      "indecis: [ 4 16 14 18 12  2 19  3 22  8 10  7 13  1 15  6 11 20  9  0 23 17  5 21]\n",
      "importances: [0.48947756 0.11181785 0.09251049 0.06171903 0.05288553 0.03214416\n",
      " 0.03062619 0.02762761 0.02728035 0.01251434 0.00857444 0.00857442\n",
      " 0.00846795 0.00544435 0.00517527 0.00464827 0.00388679 0.00353783\n",
      " 0.0031237  0.00254497 0.00248258 0.00188201 0.00154025 0.00151408]\n",
      "features: ['FOOD' 'MSW' 'METL' 'OZON' 'JOBS' 'ETOX' 'PEST' 'EUTR' 'VADD' 'HC' 'HRSP'\n",
      " 'HAZW' 'LAND' 'ENRG' 'MINE' 'HAPS' 'HTOX' 'REN' 'HNC' 'ACID' 'WATR'\n",
      " 'NREN' 'GCC' 'SMOG']\n",
      "\n",
      "\n",
      "cancer type: 400\n",
      "20    Breast (in situ) (Female)\n",
      "Creating RandomForest Model and Fitting the Data\n"
     ]
    },
    {
     "name": "stderr",
     "output_type": "stream",
     "text": [
      "C:\\Users\\Owner\\Miniconda3\\lib\\site-packages\\ipykernel_launcher.py:60: UserWarning: Matplotlib is currently using module://ipykernel.pylab.backend_inline, which is a non-GUI backend, so cannot show the figure.\n"
     ]
    },
    {
     "name": "stdout",
     "output_type": "stream",
     "text": [
      "score 0.9164076716997492\n",
      "Feature Importance\n",
      "indecis: [ 4 12 16 14 22  3 18  6  2  9 19 10 17  7  5 13  1 15 20  8  0 23 11 21]\n",
      "importances: [0.4515971  0.19554934 0.09253723 0.06314175 0.03385007 0.0311775\n",
      " 0.03026832 0.01978792 0.01665725 0.00991471 0.00964992 0.00936219\n",
      " 0.00611734 0.00586396 0.00481695 0.00319933 0.00286554 0.00238619\n",
      " 0.0023626  0.00205893 0.00184347 0.00177694 0.00165842 0.00155705]\n",
      "features: ['FOOD' 'JOBS' 'MSW' 'METL' 'VADD' 'EUTR' 'OZON' 'HAPS' 'ETOX' 'HNC'\n",
      " 'PEST' 'HRSP' 'NREN' 'HAZW' 'GCC' 'LAND' 'ENRG' 'MINE' 'REN' 'HC' 'ACID'\n",
      " 'WATR' 'HTOX' 'SMOG']\n",
      "\n",
      "\n",
      "cancer type: 515\n",
      "21    Childhood (Ages <20, All Sites)\n",
      "Creating RandomForest Model and Fitting the Data\n"
     ]
    },
    {
     "name": "stderr",
     "output_type": "stream",
     "text": [
      "C:\\Users\\Owner\\Miniconda3\\lib\\site-packages\\ipykernel_launcher.py:53: RuntimeWarning: More than 20 figures have been opened. Figures created through the pyplot interface (`matplotlib.pyplot.figure`) are retained until explicitly closed and may consume too much memory. (To control this warning, see the rcParam `figure.max_open_warning`).\n",
      "C:\\Users\\Owner\\Miniconda3\\lib\\site-packages\\ipykernel_launcher.py:60: UserWarning: Matplotlib is currently using module://ipykernel.pylab.backend_inline, which is a non-GUI backend, so cannot show the figure.\n"
     ]
    },
    {
     "name": "stdout",
     "output_type": "stream",
     "text": [
      "score 0.8462587542850576\n",
      "Feature Importance\n",
      "indecis: [ 4 18 12 16  7  9 22  6 14  8  3  5 10 19 13  2 17 11 21  0 23 15  1 20]\n",
      "importances: [0.36354125 0.13132248 0.08051119 0.07108568 0.04752848 0.04289443\n",
      " 0.03880568 0.03690618 0.03405801 0.03217665 0.03189623 0.03120736\n",
      " 0.01219195 0.00776623 0.00606483 0.00545301 0.00475597 0.00455404\n",
      " 0.00405145 0.00343452 0.00323904 0.00258071 0.00234633 0.00162829]\n",
      "features: ['FOOD' 'OZON' 'JOBS' 'MSW' 'HAZW' 'HNC' 'VADD' 'HAPS' 'METL' 'HC' 'EUTR'\n",
      " 'GCC' 'HRSP' 'PEST' 'LAND' 'ETOX' 'NREN' 'HTOX' 'SMOG' 'ACID' 'WATR'\n",
      " 'MINE' 'ENRG' 'REN']\n",
      "\n",
      "\n",
      "cancer type: 516\n",
      "22    Childhood (Ages <15, All Sites)\n",
      "Creating RandomForest Model and Fitting the Data\n"
     ]
    },
    {
     "name": "stderr",
     "output_type": "stream",
     "text": [
      "C:\\Users\\Owner\\Miniconda3\\lib\\site-packages\\ipykernel_launcher.py:53: RuntimeWarning: More than 20 figures have been opened. Figures created through the pyplot interface (`matplotlib.pyplot.figure`) are retained until explicitly closed and may consume too much memory. (To control this warning, see the rcParam `figure.max_open_warning`).\n",
      "C:\\Users\\Owner\\Miniconda3\\lib\\site-packages\\ipykernel_launcher.py:60: UserWarning: Matplotlib is currently using module://ipykernel.pylab.backend_inline, which is a non-GUI backend, so cannot show the figure.\n"
     ]
    },
    {
     "name": "stdout",
     "output_type": "stream",
     "text": [
      "score 0.8336211436452444\n",
      "Feature Importance\n",
      "indecis: [ 4 18 16 14  6 12  9 22 10  8  7  0  5  3 11 13 17 15  2 21  1 19 23 20]\n",
      "importances: [0.33272512 0.14587501 0.07948008 0.07425304 0.06059841 0.04547982\n",
      " 0.03932965 0.03617644 0.02682828 0.02370139 0.02365897 0.01941692\n",
      " 0.01881353 0.01675235 0.01201516 0.01191103 0.00726275 0.00719818\n",
      " 0.00417136 0.0041336  0.00289867 0.00285995 0.00272427 0.00173602]\n",
      "features: ['FOOD' 'OZON' 'MSW' 'METL' 'HAPS' 'JOBS' 'HNC' 'VADD' 'HRSP' 'HC' 'HAZW'\n",
      " 'ACID' 'GCC' 'EUTR' 'HTOX' 'LAND' 'NREN' 'MINE' 'ETOX' 'SMOG' 'ENRG'\n",
      " 'PEST' 'WATR' 'REN']\n",
      "\n",
      "\n"
     ]
    },
    {
     "name": "stderr",
     "output_type": "stream",
     "text": [
      "C:\\Users\\Owner\\Miniconda3\\lib\\site-packages\\ipykernel_launcher.py:53: RuntimeWarning: More than 20 figures have been opened. Figures created through the pyplot interface (`matplotlib.pyplot.figure`) are retained until explicitly closed and may consume too much memory. (To control this warning, see the rcParam `figure.max_open_warning`).\n",
      "C:\\Users\\Owner\\Miniconda3\\lib\\site-packages\\ipykernel_launcher.py:60: UserWarning: Matplotlib is currently using module://ipykernel.pylab.backend_inline, which is a non-GUI backend, so cannot show the figure.\n"
     ]
    },
    {
     "data": {
      "image/png": "[encoded data removed]",
      "text/plain": [
       "<Figure size 216x108 with 1 Axes>"
      ]
     },
     "metadata": {
      "needs_background": "light"
     },
     "output_type": "display_data"
    },
    {
     "data": {
      "image/png": "[encoded data removed]",
      "text/plain": [
       "<Figure size 216x108 with 1 Axes>"
      ]
     },
     "metadata": {
      "needs_background": "light"
     },
     "output_type": "display_data"
    },
    {
     "data": {
      "image/png": "[encoded data removed]",
      "text/plain": [
       "<Figure size 216x108 with 1 Axes>"
      ]
     },
     "metadata": {
      "needs_background": "light"
     },
     "output_type": "display_data"
    },
    {
     "data": {
      "image/png": "[encoded data removed]",
      "text/plain": [
       "<Figure size 216x108 with 1 Axes>"
      ]
     },
     "metadata": {
      "needs_background": "light"
     },
     "output_type": "display_data"
    },
    {
     "data": {
      "image/png": "[encoded data removed]",
      "text/plain": [
       "<Figure size 216x108 with 1 Axes>"
      ]
     },
     "metadata": {
      "needs_background": "light"
     },
     "output_type": "display_data"
    },
    {
     "data": {
      "image/png": "[encoded data removed]",
      "text/plain": [
       "<Figure size 216x108 with 1 Axes>"
      ]
     },
     "metadata": {
      "needs_background": "light"
     },
     "output_type": "display_data"
    },
    {
     "data": {
      "image/png": "[encoded data removed]",
      "text/plain": [
       "<Figure size 216x108 with 1 Axes>"
      ]
     },
     "metadata": {
      "needs_background": "light"
     },
     "output_type": "display_data"
    },
    {
     "data": {
      "image/png": "[encoded data removed]",
      "text/plain": [
       "<Figure size 216x108 with 1 Axes>"
      ]
     },
     "metadata": {
      "needs_background": "light"
     },
     "output_type": "display_data"
    },
    {
     "data": {
      "image/png": "[encoded data removed]",
      "text/plain": [
       "<Figure size 216x108 with 1 Axes>"
      ]
     },
     "metadata": {
      "needs_background": "light"
     },
     "output_type": "display_data"
    },
    {
     "data": {
      "image/png": "[encoded data removed]",
      "text/plain": [
       "<Figure size 216x108 with 1 Axes>"
      ]
     },
     "metadata": {
      "needs_background": "light"
     },
     "output_type": "display_data"
    },
    {
     "data": {
      "image/png": "[encoded data removed]",
      "text/plain": [
       "<Figure size 216x108 with 1 Axes>"
      ]
     },
     "metadata": {
      "needs_background": "light"
     },
     "output_type": "display_data"
    },
    {
     "data": {
      "image/png": "[encoded data removed]",
      "text/plain": [
       "<Figure size 216x108 with 1 Axes>"
      ]
     },
     "metadata": {
      "needs_background": "light"
     },
     "output_type": "display_data"
    },
    {
     "data": {
      "image/png": "[encoded data removed]",
      "text/plain": [
       "<Figure size 216x108 with 1 Axes>"
      ]
     },
     "metadata": {
      "needs_background": "light"
     },
     "output_type": "display_data"
    },
    {
     "data": {
      "image/png": "[encoded data removed]",
      "text/plain": [
       "<Figure size 216x108 with 1 Axes>"
      ]
     },
     "metadata": {
      "needs_background": "light"
     },
     "output_type": "display_data"
    },
    {
     "data": {
      "image/png": "[encoded data removed]",
      "text/plain": [
       "<Figure size 216x108 with 1 Axes>"
      ]
     },
     "metadata": {
      "needs_background": "light"
     },
     "output_type": "display_data"
    },
    {
     "data": {
      "image/png": "[encoded data removed]",
      "text/plain": [
       "<Figure size 216x108 with 1 Axes>"
      ]
     },
     "metadata": {
      "needs_background": "light"
     },
     "output_type": "display_data"
    },
    {
     "data": {
      "image/png": "[encoded data removed]",
      "text/plain": [
       "<Figure size 216x108 with 1 Axes>"
      ]
     },
     "metadata": {
      "needs_background": "light"
     },
     "output_type": "display_data"
    },
    {
     "data": {
      "image/png": "[encoded data removed]",
      "text/plain": [
       "<Figure size 216x108 with 1 Axes>"
      ]
     },
     "metadata": {
      "needs_background": "light"
     },
     "output_type": "display_data"
    },
    {
     "data": {
      "image/png": "[encoded data removed]",
      "text/plain": [
       "<Figure size 216x108 with 1 Axes>"
      ]
     },
     "metadata": {
      "needs_background": "light"
     },
     "output_type": "display_data"
    },
    {
     "data": {
      "image/png": "[encoded data removed]",
      "text/plain": [
       "<Figure size 216x108 with 1 Axes>"
      ]
     },
     "metadata": {
      "needs_background": "light"
     },
     "output_type": "display_data"
    },
    {
     "data": {
      "image/png": "[encoded data removed]",
      "text/plain": [
       "<Figure size 216x108 with 1 Axes>"
      ]
     },
     "metadata": {
      "needs_background": "light"
     },
     "output_type": "display_data"
    },
    {
     "data": {
      "image/png": "[encoded data removed]",
      "text/plain": [
       "<Figure size 216x108 with 1 Axes>"
      ]
     },
     "metadata": {
      "needs_background": "light"
     },
     "output_type": "display_data"
    },
    {
     "data": {
      "image/png": "[encoded data removed]",
      "text/plain": [
       "<Figure size 216x108 with 1 Axes>"
      ]
     },
     "metadata": {
      "needs_background": "light"
     },
     "output_type": "display_data"
    }
   ],
   "source": [
    "for i in cancerVals:\n",
    "    #print cancer type number\n",
    "    print(\"cancer type:\",i)\n",
    "    \n",
    "    #print cancer description\n",
    "    cancer=cancerTypes[\"cancer\"]==i\n",
    "    discr=cancerTypes[cancer][\"cancer_description\"].to_string()\n",
    "    print(discr)\n",
    "    \n",
    "    #selecting data for the specific cancer type\n",
    "    cancerData=data[\"cancer\"]==i\n",
    "    newData=data[cancerData]\n",
    "    \n",
    "    #splitting to test and train\n",
    "    x1=newData.loc[:, 'ACID':'WATR']\n",
    "    y = newData['annual_count_avg']\n",
    "\n",
    "    X_train1, X_test1, y_train, y_test = train_test_split(x1, y,\n",
    "                                                        test_size=0.3,\n",
    "                                                        random_state = RSEED)\n",
    "\n",
    "    scaler = StandardScaler()\n",
    "    scaler.fit(X_train1)\n",
    "\n",
    "    X_train = scaler.transform(X_train1)\n",
    "    X_test = scaler.transform(X_test1)\n",
    "    \n",
    "    #Creating RandomForest Model\n",
    "    print(\"Creating RandomForest Model and Fitting the Data\")\n",
    "    rf = RandomForestRegressor(n_estimators = 32,\n",
    "                                      max_depth= 64, \n",
    "                                      random_state = RSEED)\n",
    "\n",
    "    # Fit on training data\n",
    "    rf.fit(X_train, y_train)\n",
    "    \n",
    "    #Evaluation\n",
    "    r2_score=rf.score(X_test, y_test)\n",
    "    print(\"score\",r2_score)\n",
    "    \n",
    "    #Feature Importance\n",
    "    print(\"Feature Importance\")\n",
    "    features=rf.feature_importances_\n",
    "    #print(features)\n",
    "    ind = np.argsort(features)[::-1]\n",
    "    print(\"indecis:\",ind)\n",
    "    imp = features[ind]\n",
    "    print(\"importances:\",imp)\n",
    "    cols =factors[ind]\n",
    "    print(\"features:\",cols)\n",
    "    \n",
    "    #plot the importance factors\n",
    "    fig=plt.figure(figsize=(3,1.5))\n",
    "    ax = fig.add_axes([0,0,1,1])\n",
    "    ax.set_title('Feature Importance for {}'.format(discr))\n",
    "    ax.bar( cols[:5].tolist(),imp[:5].tolist())\n",
    "    ax.set_ylabel(\"Coefficient Strength\")\n",
    "    ax.set_xlabel(\"Feature\")\n",
    "    plt.ylim(0, 1)\n",
    "    fig.show()\n",
    "    print(\"\\n\")"
   ]
  },
  {
   "cell_type": "markdown",
   "metadata": {},
   "source": [
    "# Logistic Regression"
   ]
  },
  {
   "cell_type": "markdown",
   "metadata": {},
   "source": [
    "## Hypertuning"
   ]
  },
  {
   "cell_type": "code",
   "execution_count": 168,
   "metadata": {},
   "outputs": [
    {
     "name": "stdout",
     "output_type": "stream",
     "text": [
      "XTrain (2193, 24)\n",
      "XTest (940, 24)\n"
     ]
    }
   ],
   "source": [
    "cancerData=data[\"cancer\"]==1\n",
    "newData=data[cancerData]    \n",
    "\n",
    "#splitting to test and train\n",
    "x1=newData.loc[:, 'ACID':'WATR']\n",
    "y = newData['annual_count_avg']\n",
    "\n",
    "X_train1, X_test1, y_train, y_test = train_test_split(x1, y,\n",
    "                                                    test_size=0.3,\n",
    "                                                    random_state = RSEED)\n",
    "scaler = StandardScaler()\n",
    "scaler.fit(X_train1)\n",
    "\n",
    "X_train = scaler.transform(X_train1)\n",
    "X_test = scaler.transform(X_test1)\n",
    "\n",
    "print(\"XTrain\",X_train.shape)\n",
    "print(\"XTest\",X_test.shape)"
   ]
  },
  {
   "cell_type": "code",
   "execution_count": null,
   "metadata": {
    "scrolled": true
   },
   "outputs": [],
   "source": [
    "# Create the model with 10 trees\n",
    "#regressor = RandomForestRegressor(n_estimators = 100,\n",
    "                                 # random_state = RSEED)\n",
    "\n",
    "# Fit on training data\n",
    "#regressor.fit(X_train, y_train)\n",
    "\n",
    "parameters={'solver':['newton-cg', 'lbfgs', 'liblinear', 'sag', 'saga'],'max_iter': [64,100,128,200,256,400,528,1000]}\n",
    "lr = LogisticRegression(random_state = RSEED)\n",
    "clf = GridSearchCV(lr, parameters)\n",
    "clf.fit(X_train, y_train)"
   ]
  },
  {
   "cell_type": "code",
   "execution_count": null,
   "metadata": {},
   "outputs": [],
   "source": [
    "print(clf.best_params_)"
   ]
  },
  {
   "cell_type": "markdown",
   "metadata": {},
   "source": [
    "## Logistic Regression Loop"
   ]
  },
  {
   "cell_type": "code",
   "execution_count": 172,
   "metadata": {
    "scrolled": false
   },
   "outputs": [
    {
     "name": "stdout",
     "output_type": "stream",
     "text": [
      "cancer type: 1\n",
      "0    All Cancer Sites\n",
      "Creating Logistic Regression Model and Fitting the Data\n"
     ]
    },
    {
     "name": "stderr",
     "output_type": "stream",
     "text": [
      "C:\\Users\\Owner\\Miniconda3\\lib\\site-packages\\sklearn\\linear_model\\_sag.py:330: ConvergenceWarning: The max_iter was reached which means the coef_ did not converge\n",
      "  \"the coef_ did not converge\", ConvergenceWarning)\n"
     ]
    },
    {
     "name": "stdout",
     "output_type": "stream",
     "text": [
      "score 0.06170212765957447\n",
      "\n",
      "\n",
      "cancer type: 3\n",
      "1    Oral Cavity & Pharynx\n",
      "Creating Logistic Regression Model and Fitting the Data\n"
     ]
    },
    {
     "name": "stderr",
     "output_type": "stream",
     "text": [
      "C:\\Users\\Owner\\Miniconda3\\lib\\site-packages\\sklearn\\linear_model\\_sag.py:330: ConvergenceWarning: The max_iter was reached which means the coef_ did not converge\n",
      "  \"the coef_ did not converge\", ConvergenceWarning)\n"
     ]
    },
    {
     "name": "stdout",
     "output_type": "stream",
     "text": [
      "score 0.3606382978723404\n",
      "\n",
      "\n",
      "cancer type: 17\n",
      "2    Esophagus\n",
      "Creating Logistic Regression Model and Fitting the Data\n"
     ]
    },
    {
     "name": "stderr",
     "output_type": "stream",
     "text": [
      "C:\\Users\\Owner\\Miniconda3\\lib\\site-packages\\sklearn\\linear_model\\_sag.py:330: ConvergenceWarning: The max_iter was reached which means the coef_ did not converge\n",
      "  \"the coef_ did not converge\", ConvergenceWarning)\n"
     ]
    },
    {
     "name": "stdout",
     "output_type": "stream",
     "text": [
      "score 0.625531914893617\n",
      "\n",
      "\n",
      "cancer type: 18\n",
      "3    Stomach\n",
      "Creating Logistic Regression Model and Fitting the Data\n"
     ]
    },
    {
     "name": "stderr",
     "output_type": "stream",
     "text": [
      "C:\\Users\\Owner\\Miniconda3\\lib\\site-packages\\sklearn\\linear_model\\_sag.py:330: ConvergenceWarning: The max_iter was reached which means the coef_ did not converge\n",
      "  \"the coef_ did not converge\", ConvergenceWarning)\n"
     ]
    },
    {
     "name": "stdout",
     "output_type": "stream",
     "text": [
      "score 0.5914893617021276\n",
      "\n",
      "\n",
      "cancer type: 20\n",
      "4    Colon & Rectum\n",
      "Creating Logistic Regression Model and Fitting the Data\n"
     ]
    },
    {
     "name": "stderr",
     "output_type": "stream",
     "text": [
      "C:\\Users\\Owner\\Miniconda3\\lib\\site-packages\\sklearn\\linear_model\\_sag.py:330: ConvergenceWarning: The max_iter was reached which means the coef_ did not converge\n",
      "  \"the coef_ did not converge\", ConvergenceWarning)\n"
     ]
    },
    {
     "name": "stdout",
     "output_type": "stream",
     "text": [
      "score 0.1148936170212766\n",
      "\n",
      "\n",
      "cancer type: 35\n",
      "5    Liver & Bile Duct\n",
      "Creating Logistic Regression Model and Fitting the Data\n"
     ]
    },
    {
     "name": "stderr",
     "output_type": "stream",
     "text": [
      "C:\\Users\\Owner\\Miniconda3\\lib\\site-packages\\sklearn\\linear_model\\_sag.py:330: ConvergenceWarning: The max_iter was reached which means the coef_ did not converge\n",
      "  \"the coef_ did not converge\", ConvergenceWarning)\n"
     ]
    },
    {
     "name": "stdout",
     "output_type": "stream",
     "text": [
      "score 0.5212765957446809\n",
      "\n",
      "\n",
      "cancer type: 40\n",
      "6    Pancreas\n",
      "Creating Logistic Regression Model and Fitting the Data\n"
     ]
    },
    {
     "name": "stderr",
     "output_type": "stream",
     "text": [
      "C:\\Users\\Owner\\Miniconda3\\lib\\site-packages\\sklearn\\linear_model\\_sag.py:330: ConvergenceWarning: The max_iter was reached which means the coef_ did not converge\n",
      "  \"the coef_ did not converge\", ConvergenceWarning)\n"
     ]
    },
    {
     "name": "stdout",
     "output_type": "stream",
     "text": [
      "score 0.37127659574468086\n",
      "\n",
      "\n",
      "cancer type: 47\n",
      "7    Lung & Bronchus\n",
      "Creating Logistic Regression Model and Fitting the Data\n"
     ]
    },
    {
     "name": "stderr",
     "output_type": "stream",
     "text": [
      "C:\\Users\\Owner\\Miniconda3\\lib\\site-packages\\sklearn\\linear_model\\_sag.py:330: ConvergenceWarning: The max_iter was reached which means the coef_ did not converge\n",
      "  \"the coef_ did not converge\", ConvergenceWarning)\n"
     ]
    },
    {
     "name": "stdout",
     "output_type": "stream",
     "text": [
      "score 0.08936170212765958\n",
      "\n",
      "\n",
      "cancer type: 53\n",
      "8    Melanoma of the Skin\n",
      "Creating Logistic Regression Model and Fitting the Data\n"
     ]
    },
    {
     "name": "stderr",
     "output_type": "stream",
     "text": [
      "C:\\Users\\Owner\\Miniconda3\\lib\\site-packages\\sklearn\\linear_model\\_sag.py:330: ConvergenceWarning: The max_iter was reached which means the coef_ did not converge\n",
      "  \"the coef_ did not converge\", ConvergenceWarning)\n"
     ]
    },
    {
     "name": "stdout",
     "output_type": "stream",
     "text": [
      "score 0.2797872340425532\n",
      "\n",
      "\n",
      "cancer type: 55\n",
      "9    Breast (Female)\n",
      "Creating Logistic Regression Model and Fitting the Data\n"
     ]
    },
    {
     "name": "stderr",
     "output_type": "stream",
     "text": [
      "C:\\Users\\Owner\\Miniconda3\\lib\\site-packages\\sklearn\\linear_model\\_sag.py:330: ConvergenceWarning: The max_iter was reached which means the coef_ did not converge\n",
      "  \"the coef_ did not converge\", ConvergenceWarning)\n"
     ]
    },
    {
     "name": "stdout",
     "output_type": "stream",
     "text": [
      "score 0.1\n",
      "\n",
      "\n",
      "cancer type: 57\n",
      "10    Cervix (Female)\n",
      "Creating Logistic Regression Model and Fitting the Data\n"
     ]
    },
    {
     "name": "stderr",
     "output_type": "stream",
     "text": [
      "C:\\Users\\Owner\\Miniconda3\\lib\\site-packages\\sklearn\\linear_model\\_sag.py:330: ConvergenceWarning: The max_iter was reached which means the coef_ did not converge\n",
      "  \"the coef_ did not converge\", ConvergenceWarning)\n"
     ]
    },
    {
     "name": "stdout",
     "output_type": "stream",
     "text": [
      "score 0.7265957446808511\n",
      "\n",
      "\n",
      "cancer type: 58\n",
      "11    Uterus (Corpus & Uterus, NOS) (Female)\n",
      "Creating Logistic Regression Model and Fitting the Data\n"
     ]
    },
    {
     "name": "stderr",
     "output_type": "stream",
     "text": [
      "C:\\Users\\Owner\\Miniconda3\\lib\\site-packages\\sklearn\\linear_model\\_sag.py:330: ConvergenceWarning: The max_iter was reached which means the coef_ did not converge\n",
      "  \"the coef_ did not converge\", ConvergenceWarning)\n"
     ]
    },
    {
     "name": "stdout",
     "output_type": "stream",
     "text": [
      "score 0.35638297872340424\n",
      "\n",
      "\n",
      "cancer type: 61\n",
      "12    Ovary (Female)\n",
      "Creating Logistic Regression Model and Fitting the Data\n"
     ]
    },
    {
     "name": "stderr",
     "output_type": "stream",
     "text": [
      "C:\\Users\\Owner\\Miniconda3\\lib\\site-packages\\sklearn\\linear_model\\_sag.py:330: ConvergenceWarning: The max_iter was reached which means the coef_ did not converge\n",
      "  \"the coef_ did not converge\", ConvergenceWarning)\n"
     ]
    },
    {
     "name": "stdout",
     "output_type": "stream",
     "text": [
      "score 0.6265957446808511\n",
      "\n",
      "\n",
      "cancer type: 66\n",
      "13    Prostate (Male)\n",
      "Creating Logistic Regression Model and Fitting the Data\n"
     ]
    },
    {
     "name": "stderr",
     "output_type": "stream",
     "text": [
      "C:\\Users\\Owner\\Miniconda3\\lib\\site-packages\\sklearn\\linear_model\\_sag.py:330: ConvergenceWarning: The max_iter was reached which means the coef_ did not converge\n",
      "  \"the coef_ did not converge\", ConvergenceWarning)\n"
     ]
    },
    {
     "name": "stdout",
     "output_type": "stream",
     "text": [
      "score 0.0925531914893617\n",
      "\n",
      "\n",
      "cancer type: 71\n",
      "14    Bladder\n",
      "Creating Logistic Regression Model and Fitting the Data\n"
     ]
    },
    {
     "name": "stderr",
     "output_type": "stream",
     "text": [
      "C:\\Users\\Owner\\Miniconda3\\lib\\site-packages\\sklearn\\linear_model\\_sag.py:330: ConvergenceWarning: The max_iter was reached which means the coef_ did not converge\n",
      "  \"the coef_ did not converge\", ConvergenceWarning)\n"
     ]
    },
    {
     "name": "stdout",
     "output_type": "stream",
     "text": [
      "score 0.251063829787234\n",
      "\n",
      "\n",
      "cancer type: 72\n",
      "15    Kidney & Renal Pelvis\n",
      "Creating Logistic Regression Model and Fitting the Data\n"
     ]
    },
    {
     "name": "stderr",
     "output_type": "stream",
     "text": [
      "C:\\Users\\Owner\\Miniconda3\\lib\\site-packages\\sklearn\\linear_model\\_sag.py:330: ConvergenceWarning: The max_iter was reached which means the coef_ did not converge\n",
      "  \"the coef_ did not converge\", ConvergenceWarning)\n"
     ]
    },
    {
     "name": "stdout",
     "output_type": "stream",
     "text": [
      "score 0.26276595744680853\n",
      "\n",
      "\n",
      "cancer type: 76\n",
      "16    Brain & ONS\n",
      "Creating Logistic Regression Model and Fitting the Data\n"
     ]
    },
    {
     "name": "stderr",
     "output_type": "stream",
     "text": [
      "C:\\Users\\Owner\\Miniconda3\\lib\\site-packages\\sklearn\\linear_model\\_sag.py:330: ConvergenceWarning: The max_iter was reached which means the coef_ did not converge\n",
      "  \"the coef_ did not converge\", ConvergenceWarning)\n"
     ]
    },
    {
     "name": "stdout",
     "output_type": "stream",
     "text": [
      "score 0.5914893617021276\n",
      "\n",
      "\n",
      "cancer type: 80\n",
      "17    Thyroid\n",
      "Creating Logistic Regression Model and Fitting the Data\n"
     ]
    },
    {
     "name": "stderr",
     "output_type": "stream",
     "text": [
      "C:\\Users\\Owner\\Miniconda3\\lib\\site-packages\\sklearn\\linear_model\\_sag.py:330: ConvergenceWarning: The max_iter was reached which means the coef_ did not converge\n",
      "  \"the coef_ did not converge\", ConvergenceWarning)\n"
     ]
    },
    {
     "name": "stdout",
     "output_type": "stream",
     "text": [
      "score 0.42872340425531913\n",
      "\n",
      "\n",
      "cancer type: 86\n",
      "18    Non-Hodgkin Lymphoma\n",
      "Creating Logistic Regression Model and Fitting the Data\n"
     ]
    },
    {
     "name": "stderr",
     "output_type": "stream",
     "text": [
      "C:\\Users\\Owner\\Miniconda3\\lib\\site-packages\\sklearn\\linear_model\\_sag.py:330: ConvergenceWarning: The max_iter was reached which means the coef_ did not converge\n",
      "  \"the coef_ did not converge\", ConvergenceWarning)\n"
     ]
    },
    {
     "name": "stdout",
     "output_type": "stream",
     "text": [
      "score 0.28085106382978725\n",
      "\n",
      "\n",
      "cancer type: 90\n",
      "19    Leukemia\n",
      "Creating Logistic Regression Model and Fitting the Data\n"
     ]
    },
    {
     "name": "stderr",
     "output_type": "stream",
     "text": [
      "C:\\Users\\Owner\\Miniconda3\\lib\\site-packages\\sklearn\\linear_model\\_sag.py:330: ConvergenceWarning: The max_iter was reached which means the coef_ did not converge\n",
      "  \"the coef_ did not converge\", ConvergenceWarning)\n"
     ]
    },
    {
     "name": "stdout",
     "output_type": "stream",
     "text": [
      "score 0.3468085106382979\n",
      "\n",
      "\n",
      "cancer type: 400\n",
      "20    Breast (in situ) (Female)\n",
      "Creating Logistic Regression Model and Fitting the Data\n"
     ]
    },
    {
     "name": "stderr",
     "output_type": "stream",
     "text": [
      "C:\\Users\\Owner\\Miniconda3\\lib\\site-packages\\sklearn\\linear_model\\_sag.py:330: ConvergenceWarning: The max_iter was reached which means the coef_ did not converge\n",
      "  \"the coef_ did not converge\", ConvergenceWarning)\n"
     ]
    },
    {
     "name": "stdout",
     "output_type": "stream",
     "text": [
      "score 0.4074468085106383\n",
      "\n",
      "\n",
      "cancer type: 515\n",
      "21    Childhood (Ages <20, All Sites)\n",
      "Creating Logistic Regression Model and Fitting the Data\n"
     ]
    },
    {
     "name": "stderr",
     "output_type": "stream",
     "text": [
      "C:\\Users\\Owner\\Miniconda3\\lib\\site-packages\\sklearn\\linear_model\\_sag.py:330: ConvergenceWarning: The max_iter was reached which means the coef_ did not converge\n",
      "  \"the coef_ did not converge\", ConvergenceWarning)\n"
     ]
    },
    {
     "name": "stdout",
     "output_type": "stream",
     "text": [
      "score 0.6957446808510638\n",
      "\n",
      "\n",
      "cancer type: 516\n",
      "22    Childhood (Ages <15, All Sites)\n",
      "Creating Logistic Regression Model and Fitting the Data\n",
      "score 0.7617021276595745\n",
      "\n",
      "\n"
     ]
    },
    {
     "name": "stderr",
     "output_type": "stream",
     "text": [
      "C:\\Users\\Owner\\Miniconda3\\lib\\site-packages\\sklearn\\linear_model\\_sag.py:330: ConvergenceWarning: The max_iter was reached which means the coef_ did not converge\n",
      "  \"the coef_ did not converge\", ConvergenceWarning)\n"
     ]
    }
   ],
   "source": [
    "for i in cancerVals:\n",
    "    #print cancer type number\n",
    "    print(\"cancer type:\",i)\n",
    "    \n",
    "    #print cancer description\n",
    "    cancer=cancerTypes[\"cancer\"]==i\n",
    "    discr=cancerTypes[cancer][\"cancer_description\"].to_string()\n",
    "    print(discr)\n",
    "    \n",
    "    #selecting data for the specific cancer type\n",
    "    cancerData=data[\"cancer\"]==i\n",
    "    newData=data[cancerData]\n",
    "    \n",
    "    #splitting to test and train\n",
    "    x1=newData.loc[:, 'ACID':'WATR']\n",
    "    y = newData['annual_count_avg']\n",
    "\n",
    "    X_train1, X_test1, y_train, y_test = train_test_split(x1, y,\n",
    "                                                        test_size=0.3,\n",
    "                                                        random_state = RSEED)\n",
    "\n",
    "    scaler = StandardScaler()\n",
    "    scaler.fit(X_train1)\n",
    "\n",
    "    X_train = scaler.transform(X_train1)\n",
    "    X_test = scaler.transform(X_test1)\n",
    "    \n",
    "    #Creating Logistic Regression Model\n",
    "    print(\"Creating Logistic Regression Model and Fitting the Data\")\n",
    "    lr = LogisticRegression(random_state=RSEED,solver='sag' ,max_iter=2000)\n",
    "\n",
    "    # Fit on training data\n",
    "    lr.fit(X_train, y_train)\n",
    "    \n",
    "    #Evaluation\n",
    "    r2_score=lr.score(X_test, y_test)\n",
    "    print(\"score\",r2_score)\n",
    "    print(\"\\n\")"
   ]
  },
  {
   "cell_type": "markdown",
   "metadata": {},
   "source": [
    "# SVR"
   ]
  },
  {
   "cell_type": "markdown",
   "metadata": {},
   "source": [
    "## Hypertuning"
   ]
  },
  {
   "cell_type": "code",
   "execution_count": null,
   "metadata": {},
   "outputs": [],
   "source": [
    "cancerData=data[\"cancer\"]==1\n",
    "newData=data[cancerData]    \n",
    "\n",
    "#splitting to test and train\n",
    "x1=newData.loc[:, 'ACID':'WATR']\n",
    "y = newData['annual_count_avg']\n",
    "\n",
    "X_train1, X_test1, y_train, y_test = train_test_split(x1, y,\n",
    "                                                    test_size=0.3,\n",
    "                                                    random_state = RSEED)\n",
    "scaler = StandardScaler()\n",
    "scaler.fit(X_train1)\n",
    "\n",
    "X_train = scaler.transform(X_train1)\n",
    "X_test = scaler.transform(X_test1)\n",
    "\n",
    "print(\"XTrain\",X_train.shape)\n",
    "print(\"XTest\",X_test.shape)"
   ]
  },
  {
   "cell_type": "code",
   "execution_count": null,
   "metadata": {},
   "outputs": [],
   "source": [
    "# Create the model with 10 trees\n",
    "#regressor = RandomForestRegressor(n_estimators = 100,\n",
    "                                 # random_state = RSEED)\n",
    "\n",
    "# Fit on training data\n",
    "#regressor.fit(X_train, y_train)\n",
    "\n",
    "parameters={'kernel':['linear', 'poly', 'rbf', 'sigmoid'],'C': [0.01,0.1,1],'epsilon':[0.01,0.1,1],'tol':['1e-5','1e-3','1e-1']}\n",
    "LinearSVR =LinearSVR(random_state = RSEED)\n",
    "clf = GridSearchCV(LinearSVR, parameters)\n",
    "clf.fit(X_train, y_train)"
   ]
  },
  {
   "cell_type": "code",
   "execution_count": null,
   "metadata": {},
   "outputs": [],
   "source": [
    "print(clf.best_params_)"
   ]
  },
  {
   "cell_type": "markdown",
   "metadata": {},
   "source": [
    "## SVR Loop"
   ]
  },
  {
   "cell_type": "code",
   "execution_count": null,
   "metadata": {
    "scrolled": false
   },
   "outputs": [],
   "source": [
    "for i in cancerVals:\n",
    "    #print cancer type number\n",
    "    print(\"cancer type:\",i)\n",
    "    \n",
    "    #print cancer description\n",
    "    cancer=cancerTypes[\"cancer\"]==i\n",
    "    discr=cancerTypes[cancer][\"cancer_description\"].to_string()\n",
    "    print(discr)\n",
    "    \n",
    "    #selecting data for the specific cancer type\n",
    "    cancerData=data[\"cancer\"]==i\n",
    "    newData=data[cancerData]\n",
    "    \n",
    "    #splitting to test and train\n",
    "    x1=newData.loc[:, 'ACID':'WATR']\n",
    "    y = newData['annual_count_avg']\n",
    "\n",
    "    X_train1, X_test1, y_train, y_test = train_test_split(x1, y,\n",
    "                                                        test_size=0.3,\n",
    "                                                        random_state = RSEED)\n",
    "\n",
    "    scaler = StandardScaler()\n",
    "    scaler.fit(X_train1)\n",
    "\n",
    "    X_train = scaler.transform(X_train1)\n",
    "    X_test = scaler.transform(X_test1)\n",
    "    \n",
    "    #Creating RandomForest Model\n",
    "    print(\"Creating RandomForest Model and Fitting the Data\")\n",
    "    svr = LinearSVR(random_state=0, tol=1e-5)\n",
    "\n",
    "    # Fit on training data\n",
    "    svr.fit(X_train, y_train)\n",
    "    \n",
    "    #Evaluation\n",
    "    r2_score=svr.score(X_test, y_test)\n",
    "    print(\"score\",r2_score)\n",
    "    \n",
    "    #Feature Importance\n",
    "    print(\"Feature Importance\")\n",
    "    features=svr.feature_importances_\n",
    "    #print(features)\n",
    "    ind = np.argsort(features)[::-1]\n",
    "    print(\"indecis:\",ind)\n",
    "    imp = features[ind]\n",
    "    print(\"importances:\",imp)\n",
    "    cols =factors[ind]\n",
    "    print(\"features:\",cols)\n",
    "    \n",
    "    #plot the importance factors\n",
    "    fig=plt.figure(figsize=(3,1.5))\n",
    "    ax = fig.add_axes([0,0,1,1])\n",
    "    ax.set_title('Feature Importance for {}'.format(discr))\n",
    "    ax.bar( cols[:5].tolist(),imp[:5].tolist())\n",
    "    ax.set_ylabel(\"Coefficient Strength\")\n",
    "    ax.set_xlabel(\"Feature\")\n",
    "    plt.ylim(0, 1)\n",
    "    fig.show()\n",
    "    print(\"\\n\")"
   ]
  }
 ],
 "metadata": {
  "kernelspec": {
   "display_name": "Python 3",
   "language": "python",
   "name": "python3"
  },
  "language_info": {
   "codemirror_mode": {
    "name": "ipython",
    "version": 3
   },
   "file_extension": ".py",
   "mimetype": "text/x-python",
   "name": "python",
   "nbconvert_exporter": "python",
   "pygments_lexer": "ipython3",
   "version": "3.7.4"
  }
 },
 "nbformat": 4,
 "nbformat_minor": 4
}
