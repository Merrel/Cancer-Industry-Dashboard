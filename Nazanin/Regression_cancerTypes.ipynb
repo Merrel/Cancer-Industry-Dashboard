{
 "cells": [
  {
   "cell_type": "code",
   "execution_count": 83,
   "metadata": {},
   "outputs": [],
   "source": [
    "from sklearn.cluster import DBSCAN\n",
    "from sklearn.preprocessing import StandardScaler\n",
    "import re\n",
    "import pandas as pd\n",
    "import numpy as np\n",
    "import matplotlib.pyplot as plt\n",
    "from sklearn.preprocessing import StandardScaler\n",
    "from sklearn.model_selection import train_test_split\n",
    "from sklearn.ensemble import RandomForestRegressor\n",
    "from sklearn.model_selection import cross_val_score, GridSearchCV, cross_validate, train_test_split\n",
    "from sklearn import metrics\n",
    "# Setting random seed to get reproducible runs\n",
    "RSEED = 100"
   ]
  },
  {
   "cell_type": "markdown",
   "metadata": {},
   "source": [
    "# Part 1: Data Processing"
   ]
  },
  {
   "cell_type": "code",
   "execution_count": 64,
   "metadata": {},
   "outputs": [
    {
     "name": "stderr",
     "output_type": "stream",
     "text": [
      "C:\\Users\\Owner\\Miniconda3\\lib\\site-packages\\IPython\\core\\interactiveshell.py:3063: DtypeWarning: Columns (3) have mixed types.Specify dtype option on import or set low_memory=False.\n",
      "  interactivity=interactivity, compiler=compiler, result=result)\n"
     ]
    }
   ],
   "source": [
    "data = pd.read_csv(\"factorsCancerPerCounty.csv\")"
   ]
  },
  {
   "cell_type": "code",
   "execution_count": 65,
   "metadata": {},
   "outputs": [],
   "source": [
    "data.drop('Unnamed: 0', axis=1, inplace=True)"
   ]
  },
  {
   "cell_type": "code",
   "execution_count": 66,
   "metadata": {},
   "outputs": [
    {
     "data": {
      "text/plain": [
       "Index(['locale', 'fips', 'annual_count_avg', 'areatype', 'cancer', 'stateFIPS',\n",
       "       'state', 'cancer_description', 'ACID', 'ENRG', 'ETOX', 'EUTR', 'FOOD',\n",
       "       'GCC', 'HAPS', 'HAZW', 'HC', 'HNC', 'HRSP', 'HTOX', 'JOBS', 'LAND',\n",
       "       'METL', 'MINE', 'MSW', 'NREN', 'OZON', 'PEST', 'REN', 'SMOG', 'VADD',\n",
       "       'WATR'],\n",
       "      dtype='object')"
      ]
     },
     "execution_count": 66,
     "metadata": {},
     "output_type": "execute_result"
    }
   ],
   "source": [
    "data.columns"
   ]
  },
  {
   "cell_type": "code",
   "execution_count": 67,
   "metadata": {
    "scrolled": false
   },
   "outputs": [
    {
     "data": {
      "text/html": [
       "<div>\n",
       "<style scoped>\n",
       "    .dataframe tbody tr th:only-of-type {\n",
       "        vertical-align: middle;\n",
       "    }\n",
       "\n",
       "    .dataframe tbody tr th {\n",
       "        vertical-align: top;\n",
       "    }\n",
       "\n",
       "    .dataframe thead th {\n",
       "        text-align: right;\n",
       "    }\n",
       "</style>\n",
       "<table border=\"1\" class=\"dataframe\">\n",
       "  <thead>\n",
       "    <tr style=\"text-align: right;\">\n",
       "      <th></th>\n",
       "      <th>locale</th>\n",
       "      <th>fips</th>\n",
       "      <th>annual_count_avg</th>\n",
       "      <th>areatype</th>\n",
       "      <th>cancer</th>\n",
       "      <th>stateFIPS</th>\n",
       "      <th>state</th>\n",
       "      <th>cancer_description</th>\n",
       "      <th>ACID</th>\n",
       "      <th>ENRG</th>\n",
       "      <th>...</th>\n",
       "      <th>METL</th>\n",
       "      <th>MINE</th>\n",
       "      <th>MSW</th>\n",
       "      <th>NREN</th>\n",
       "      <th>OZON</th>\n",
       "      <th>PEST</th>\n",
       "      <th>REN</th>\n",
       "      <th>SMOG</th>\n",
       "      <th>VADD</th>\n",
       "      <th>WATR</th>\n",
       "    </tr>\n",
       "  </thead>\n",
       "  <tbody>\n",
       "    <tr>\n",
       "      <th>0</th>\n",
       "      <td>Autauga County(6,10)</td>\n",
       "      <td>1001</td>\n",
       "      <td>304</td>\n",
       "      <td>county</td>\n",
       "      <td>1</td>\n",
       "      <td>1</td>\n",
       "      <td>alabama</td>\n",
       "      <td>All Cancer Sites</td>\n",
       "      <td>299.152569</td>\n",
       "      <td>728644.544118</td>\n",
       "      <td>...</td>\n",
       "      <td>0.050200</td>\n",
       "      <td>0.000000</td>\n",
       "      <td>2149.369209</td>\n",
       "      <td>435169.166702</td>\n",
       "      <td>0.002923</td>\n",
       "      <td>0.034974</td>\n",
       "      <td>293475.377416</td>\n",
       "      <td>2949.632736</td>\n",
       "      <td>79914.159702</td>\n",
       "      <td>7851.498268</td>\n",
       "    </tr>\n",
       "    <tr>\n",
       "      <th>1</th>\n",
       "      <td>Autauga County(6,10)</td>\n",
       "      <td>1001</td>\n",
       "      <td>8</td>\n",
       "      <td>county</td>\n",
       "      <td>3</td>\n",
       "      <td>1</td>\n",
       "      <td>alabama</td>\n",
       "      <td>Oral Cavity &amp; Pharynx</td>\n",
       "      <td>299.152569</td>\n",
       "      <td>728644.544118</td>\n",
       "      <td>...</td>\n",
       "      <td>0.050200</td>\n",
       "      <td>0.000000</td>\n",
       "      <td>2149.369209</td>\n",
       "      <td>435169.166702</td>\n",
       "      <td>0.002923</td>\n",
       "      <td>0.034974</td>\n",
       "      <td>293475.377416</td>\n",
       "      <td>2949.632736</td>\n",
       "      <td>79914.159702</td>\n",
       "      <td>7851.498268</td>\n",
       "    </tr>\n",
       "    <tr>\n",
       "      <th>2</th>\n",
       "      <td>Autauga County(6,10)</td>\n",
       "      <td>1001</td>\n",
       "      <td>3</td>\n",
       "      <td>county</td>\n",
       "      <td>17</td>\n",
       "      <td>1</td>\n",
       "      <td>alabama</td>\n",
       "      <td>Esophagus</td>\n",
       "      <td>299.152569</td>\n",
       "      <td>728644.544118</td>\n",
       "      <td>...</td>\n",
       "      <td>0.050200</td>\n",
       "      <td>0.000000</td>\n",
       "      <td>2149.369209</td>\n",
       "      <td>435169.166702</td>\n",
       "      <td>0.002923</td>\n",
       "      <td>0.034974</td>\n",
       "      <td>293475.377416</td>\n",
       "      <td>2949.632736</td>\n",
       "      <td>79914.159702</td>\n",
       "      <td>7851.498268</td>\n",
       "    </tr>\n",
       "    <tr>\n",
       "      <th>3</th>\n",
       "      <td>Autauga County(6,10)</td>\n",
       "      <td>1001</td>\n",
       "      <td>6</td>\n",
       "      <td>county</td>\n",
       "      <td>18</td>\n",
       "      <td>1</td>\n",
       "      <td>alabama</td>\n",
       "      <td>Stomach</td>\n",
       "      <td>299.152569</td>\n",
       "      <td>728644.544118</td>\n",
       "      <td>...</td>\n",
       "      <td>0.050200</td>\n",
       "      <td>0.000000</td>\n",
       "      <td>2149.369209</td>\n",
       "      <td>435169.166702</td>\n",
       "      <td>0.002923</td>\n",
       "      <td>0.034974</td>\n",
       "      <td>293475.377416</td>\n",
       "      <td>2949.632736</td>\n",
       "      <td>79914.159702</td>\n",
       "      <td>7851.498268</td>\n",
       "    </tr>\n",
       "    <tr>\n",
       "      <th>4</th>\n",
       "      <td>Autauga County(6,10)</td>\n",
       "      <td>1001</td>\n",
       "      <td>32</td>\n",
       "      <td>county</td>\n",
       "      <td>20</td>\n",
       "      <td>1</td>\n",
       "      <td>alabama</td>\n",
       "      <td>Colon &amp; Rectum</td>\n",
       "      <td>299.152569</td>\n",
       "      <td>728644.544118</td>\n",
       "      <td>...</td>\n",
       "      <td>0.050200</td>\n",
       "      <td>0.000000</td>\n",
       "      <td>2149.369209</td>\n",
       "      <td>435169.166702</td>\n",
       "      <td>0.002923</td>\n",
       "      <td>0.034974</td>\n",
       "      <td>293475.377416</td>\n",
       "      <td>2949.632736</td>\n",
       "      <td>79914.159702</td>\n",
       "      <td>7851.498268</td>\n",
       "    </tr>\n",
       "    <tr>\n",
       "      <th>...</th>\n",
       "      <td>...</td>\n",
       "      <td>...</td>\n",
       "      <td>...</td>\n",
       "      <td>...</td>\n",
       "      <td>...</td>\n",
       "      <td>...</td>\n",
       "      <td>...</td>\n",
       "      <td>...</td>\n",
       "      <td>...</td>\n",
       "      <td>...</td>\n",
       "      <td>...</td>\n",
       "      <td>...</td>\n",
       "      <td>...</td>\n",
       "      <td>...</td>\n",
       "      <td>...</td>\n",
       "      <td>...</td>\n",
       "      <td>...</td>\n",
       "      <td>...</td>\n",
       "      <td>...</td>\n",
       "      <td>...</td>\n",
       "      <td>...</td>\n",
       "    </tr>\n",
       "    <tr>\n",
       "      <th>72054</th>\n",
       "      <td>Weston County(6,10)</td>\n",
       "      <td>56045</td>\n",
       "      <td>3</td>\n",
       "      <td>county</td>\n",
       "      <td>86</td>\n",
       "      <td>56</td>\n",
       "      <td>wyoming</td>\n",
       "      <td>Non-Hodgkin Lymphoma</td>\n",
       "      <td>34.618906</td>\n",
       "      <td>428737.854052</td>\n",
       "      <td>...</td>\n",
       "      <td>0.000817</td>\n",
       "      <td>17113.628433</td>\n",
       "      <td>348.003649</td>\n",
       "      <td>428660.792817</td>\n",
       "      <td>0.000395</td>\n",
       "      <td>0.000943</td>\n",
       "      <td>77.061234</td>\n",
       "      <td>1321.995548</td>\n",
       "      <td>12995.136488</td>\n",
       "      <td>47.904143</td>\n",
       "    </tr>\n",
       "    <tr>\n",
       "      <th>72055</th>\n",
       "      <td>Weston County(6,10)</td>\n",
       "      <td>56045</td>\n",
       "      <td>3</td>\n",
       "      <td>county</td>\n",
       "      <td>90</td>\n",
       "      <td>56</td>\n",
       "      <td>wyoming</td>\n",
       "      <td>Leukemia</td>\n",
       "      <td>34.618906</td>\n",
       "      <td>428737.854052</td>\n",
       "      <td>...</td>\n",
       "      <td>0.000817</td>\n",
       "      <td>17113.628433</td>\n",
       "      <td>348.003649</td>\n",
       "      <td>428660.792817</td>\n",
       "      <td>0.000395</td>\n",
       "      <td>0.000943</td>\n",
       "      <td>77.061234</td>\n",
       "      <td>1321.995548</td>\n",
       "      <td>12995.136488</td>\n",
       "      <td>47.904143</td>\n",
       "    </tr>\n",
       "    <tr>\n",
       "      <th>72056</th>\n",
       "      <td>Weston County(6,10)</td>\n",
       "      <td>56045</td>\n",
       "      <td>3</td>\n",
       "      <td>county</td>\n",
       "      <td>400</td>\n",
       "      <td>56</td>\n",
       "      <td>wyoming</td>\n",
       "      <td>Breast (in situ) (Female)</td>\n",
       "      <td>34.618906</td>\n",
       "      <td>428737.854052</td>\n",
       "      <td>...</td>\n",
       "      <td>0.000817</td>\n",
       "      <td>17113.628433</td>\n",
       "      <td>348.003649</td>\n",
       "      <td>428660.792817</td>\n",
       "      <td>0.000395</td>\n",
       "      <td>0.000943</td>\n",
       "      <td>77.061234</td>\n",
       "      <td>1321.995548</td>\n",
       "      <td>12995.136488</td>\n",
       "      <td>47.904143</td>\n",
       "    </tr>\n",
       "    <tr>\n",
       "      <th>72057</th>\n",
       "      <td>Weston County(6,10)</td>\n",
       "      <td>56045</td>\n",
       "      <td>3</td>\n",
       "      <td>county</td>\n",
       "      <td>515</td>\n",
       "      <td>56</td>\n",
       "      <td>wyoming</td>\n",
       "      <td>Childhood (Ages &lt;20, All Sites)</td>\n",
       "      <td>34.618906</td>\n",
       "      <td>428737.854052</td>\n",
       "      <td>...</td>\n",
       "      <td>0.000817</td>\n",
       "      <td>17113.628433</td>\n",
       "      <td>348.003649</td>\n",
       "      <td>428660.792817</td>\n",
       "      <td>0.000395</td>\n",
       "      <td>0.000943</td>\n",
       "      <td>77.061234</td>\n",
       "      <td>1321.995548</td>\n",
       "      <td>12995.136488</td>\n",
       "      <td>47.904143</td>\n",
       "    </tr>\n",
       "    <tr>\n",
       "      <th>72058</th>\n",
       "      <td>Weston County(6,10)</td>\n",
       "      <td>56045</td>\n",
       "      <td>3</td>\n",
       "      <td>county</td>\n",
       "      <td>516</td>\n",
       "      <td>56</td>\n",
       "      <td>wyoming</td>\n",
       "      <td>Childhood (Ages &lt;15, All Sites)</td>\n",
       "      <td>34.618906</td>\n",
       "      <td>428737.854052</td>\n",
       "      <td>...</td>\n",
       "      <td>0.000817</td>\n",
       "      <td>17113.628433</td>\n",
       "      <td>348.003649</td>\n",
       "      <td>428660.792817</td>\n",
       "      <td>0.000395</td>\n",
       "      <td>0.000943</td>\n",
       "      <td>77.061234</td>\n",
       "      <td>1321.995548</td>\n",
       "      <td>12995.136488</td>\n",
       "      <td>47.904143</td>\n",
       "    </tr>\n",
       "  </tbody>\n",
       "</table>\n",
       "<p>72059 rows × 32 columns</p>\n",
       "</div>"
      ],
      "text/plain": [
       "                     locale   fips annual_count_avg areatype  cancer  \\\n",
       "0      Autauga County(6,10)   1001              304   county       1   \n",
       "1      Autauga County(6,10)   1001                8   county       3   \n",
       "2      Autauga County(6,10)   1001                3   county      17   \n",
       "3      Autauga County(6,10)   1001                6   county      18   \n",
       "4      Autauga County(6,10)   1001               32   county      20   \n",
       "...                     ...    ...              ...      ...     ...   \n",
       "72054   Weston County(6,10)  56045                3   county      86   \n",
       "72055   Weston County(6,10)  56045                3   county      90   \n",
       "72056   Weston County(6,10)  56045                3   county     400   \n",
       "72057   Weston County(6,10)  56045                3   county     515   \n",
       "72058   Weston County(6,10)  56045                3   county     516   \n",
       "\n",
       "       stateFIPS    state               cancer_description        ACID  \\\n",
       "0              1  alabama                 All Cancer Sites  299.152569   \n",
       "1              1  alabama            Oral Cavity & Pharynx  299.152569   \n",
       "2              1  alabama                        Esophagus  299.152569   \n",
       "3              1  alabama                          Stomach  299.152569   \n",
       "4              1  alabama                   Colon & Rectum  299.152569   \n",
       "...          ...      ...                              ...         ...   \n",
       "72054         56  wyoming             Non-Hodgkin Lymphoma   34.618906   \n",
       "72055         56  wyoming                         Leukemia   34.618906   \n",
       "72056         56  wyoming        Breast (in situ) (Female)   34.618906   \n",
       "72057         56  wyoming  Childhood (Ages <20, All Sites)   34.618906   \n",
       "72058         56  wyoming  Childhood (Ages <15, All Sites)   34.618906   \n",
       "\n",
       "                ENRG  ...      METL          MINE          MSW           NREN  \\\n",
       "0      728644.544118  ...  0.050200      0.000000  2149.369209  435169.166702   \n",
       "1      728644.544118  ...  0.050200      0.000000  2149.369209  435169.166702   \n",
       "2      728644.544118  ...  0.050200      0.000000  2149.369209  435169.166702   \n",
       "3      728644.544118  ...  0.050200      0.000000  2149.369209  435169.166702   \n",
       "4      728644.544118  ...  0.050200      0.000000  2149.369209  435169.166702   \n",
       "...              ...  ...       ...           ...          ...            ...   \n",
       "72054  428737.854052  ...  0.000817  17113.628433   348.003649  428660.792817   \n",
       "72055  428737.854052  ...  0.000817  17113.628433   348.003649  428660.792817   \n",
       "72056  428737.854052  ...  0.000817  17113.628433   348.003649  428660.792817   \n",
       "72057  428737.854052  ...  0.000817  17113.628433   348.003649  428660.792817   \n",
       "72058  428737.854052  ...  0.000817  17113.628433   348.003649  428660.792817   \n",
       "\n",
       "           OZON      PEST            REN         SMOG          VADD  \\\n",
       "0      0.002923  0.034974  293475.377416  2949.632736  79914.159702   \n",
       "1      0.002923  0.034974  293475.377416  2949.632736  79914.159702   \n",
       "2      0.002923  0.034974  293475.377416  2949.632736  79914.159702   \n",
       "3      0.002923  0.034974  293475.377416  2949.632736  79914.159702   \n",
       "4      0.002923  0.034974  293475.377416  2949.632736  79914.159702   \n",
       "...         ...       ...            ...          ...           ...   \n",
       "72054  0.000395  0.000943      77.061234  1321.995548  12995.136488   \n",
       "72055  0.000395  0.000943      77.061234  1321.995548  12995.136488   \n",
       "72056  0.000395  0.000943      77.061234  1321.995548  12995.136488   \n",
       "72057  0.000395  0.000943      77.061234  1321.995548  12995.136488   \n",
       "72058  0.000395  0.000943      77.061234  1321.995548  12995.136488   \n",
       "\n",
       "              WATR  \n",
       "0      7851.498268  \n",
       "1      7851.498268  \n",
       "2      7851.498268  \n",
       "3      7851.498268  \n",
       "4      7851.498268  \n",
       "...            ...  \n",
       "72054    47.904143  \n",
       "72055    47.904143  \n",
       "72056    47.904143  \n",
       "72057    47.904143  \n",
       "72058    47.904143  \n",
       "\n",
       "[72059 rows x 32 columns]"
      ]
     },
     "execution_count": 67,
     "metadata": {},
     "output_type": "execute_result"
    }
   ],
   "source": [
    "data"
   ]
  },
  {
   "cell_type": "code",
   "execution_count": 69,
   "metadata": {},
   "outputs": [
    {
     "name": "stdout",
     "output_type": "stream",
     "text": [
      "locale                 object\n",
      "fips                    int64\n",
      "annual_count_avg       object\n",
      "areatype               object\n",
      "cancer                  int64\n",
      "stateFIPS               int64\n",
      "state                  object\n",
      "cancer_description     object\n",
      "ACID                  float64\n",
      "ENRG                  float64\n",
      "ETOX                  float64\n",
      "EUTR                  float64\n",
      "FOOD                  float64\n",
      "GCC                   float64\n",
      "HAPS                  float64\n",
      "HAZW                  float64\n",
      "HC                    float64\n",
      "HNC                   float64\n",
      "HRSP                  float64\n",
      "HTOX                  float64\n",
      "JOBS                  float64\n",
      "LAND                  float64\n",
      "METL                  float64\n",
      "MINE                  float64\n",
      "MSW                   float64\n",
      "NREN                  float64\n",
      "OZON                  float64\n",
      "PEST                  float64\n",
      "REN                   float64\n",
      "SMOG                  float64\n",
      "VADD                  float64\n",
      "WATR                  float64\n",
      "dtype: object\n"
     ]
    }
   ],
   "source": [
    "print(data.dtypes)\n",
    "data['annual_count_avg'].replace({r'[^\\x00-\\x7F]+':'0'}, regex=True, inplace=True)\n",
    "data['annual_count_avg'] = data['annual_count_avg'].astype(\"float64\")"
   ]
  },
  {
   "cell_type": "code",
   "execution_count": 70,
   "metadata": {},
   "outputs": [
    {
     "data": {
      "text/plain": [
       "array([  1,   3,  17,  18,  20,  35,  40,  47,  53,  55,  57,  58,  61,\n",
       "        66,  71,  72,  76,  80,  86,  90, 400, 515, 516], dtype=int64)"
      ]
     },
     "execution_count": 70,
     "metadata": {},
     "output_type": "execute_result"
    }
   ],
   "source": [
    "cancerVals=data[\"cancer\"].unique()\n",
    "cancerVals"
   ]
  },
  {
   "cell_type": "code",
   "execution_count": 71,
   "metadata": {},
   "outputs": [
    {
     "data": {
      "text/plain": [
       "array(['All Cancer Sites', 'Oral Cavity & Pharynx', 'Esophagus',\n",
       "       'Stomach', 'Colon & Rectum', 'Liver & Bile Duct', 'Pancreas',\n",
       "       'Lung & Bronchus', 'Melanoma of the Skin', 'Breast (Female)',\n",
       "       'Cervix (Female)', 'Uterus (Corpus & Uterus, NOS) (Female)',\n",
       "       'Ovary (Female)', 'Prostate (Male)', 'Bladder',\n",
       "       'Kidney & Renal Pelvis', 'Brain & ONS', 'Thyroid',\n",
       "       'Non-Hodgkin Lymphoma', 'Leukemia', 'Breast (in situ) (Female)',\n",
       "       'Childhood (Ages <20, All Sites)',\n",
       "       'Childhood (Ages <15, All Sites)'], dtype=object)"
      ]
     },
     "execution_count": 71,
     "metadata": {},
     "output_type": "execute_result"
    }
   ],
   "source": [
    "cancerDescr=data[\"cancer_description\"].unique()\n",
    "cancerDescr"
   ]
  },
  {
   "cell_type": "code",
   "execution_count": 72,
   "metadata": {},
   "outputs": [
    {
     "name": "stdout",
     "output_type": "stream",
     "text": [
      "    cancer                      cancer_description\n",
      "0        1                        All Cancer Sites\n",
      "1        3                   Oral Cavity & Pharynx\n",
      "2       17                               Esophagus\n",
      "3       18                                 Stomach\n",
      "4       20                          Colon & Rectum\n",
      "5       35                       Liver & Bile Duct\n",
      "6       40                                Pancreas\n",
      "7       47                         Lung & Bronchus\n",
      "8       53                    Melanoma of the Skin\n",
      "9       55                         Breast (Female)\n",
      "10      57                         Cervix (Female)\n",
      "11      58  Uterus (Corpus & Uterus, NOS) (Female)\n",
      "12      61                          Ovary (Female)\n",
      "13      66                         Prostate (Male)\n",
      "14      71                                 Bladder\n",
      "15      72                   Kidney & Renal Pelvis\n",
      "16      76                             Brain & ONS\n",
      "17      80                                 Thyroid\n",
      "18      86                    Non-Hodgkin Lymphoma\n",
      "19      90                                Leukemia\n",
      "20     400               Breast (in situ) (Female)\n",
      "21     515         Childhood (Ages <20, All Sites)\n",
      "22     516         Childhood (Ages <15, All Sites)\n",
      "example:\n",
      "All Cancer Sites\n"
     ]
    }
   ],
   "source": [
    "cancerDescription=data[[\"cancer\",\"cancer_description\"]]\n",
    "cancerTypes=cancerDescription.groupby([\"cancer\",\"cancer_description\"]).sum().reset_index()\n",
    "print(cancerTypes)\n",
    "cancer=cancerTypes[\"cancer\"]==1\n",
    "print(\"example:\")\n",
    "print(cancerTypes[cancer][\"cancer_description\"][0])"
   ]
  },
  {
   "cell_type": "markdown",
   "metadata": {},
   "source": [
    "# Part 2: Hypertuning"
   ]
  },
  {
   "cell_type": "code",
   "execution_count": null,
   "metadata": {},
   "outputs": [],
   "source": [
    "cancerData=data[\"cancer\"]==1\n",
    "newData=data[cancerData]    \n",
    "\n",
    "#splitting to test and train\n",
    "x1=newData.loc[:, 'ACID':'WATR']\n",
    "y = newData['annual_count_avg']\n",
    "\n",
    "X_train1, X_test1, y_train, y_test = train_test_split(x1, y,\n",
    "                                                    test_size=0.3,\n",
    "                                                    random_state = RSEED)"
   ]
  },
  {
   "cell_type": "code",
   "execution_count": 82,
   "metadata": {},
   "outputs": [
    {
     "data": {
      "text/plain": [
       "GridSearchCV(cv=None, error_score=nan,\n",
       "             estimator=RandomForestRegressor(bootstrap=True, ccp_alpha=0.0,\n",
       "                                             criterion='mse', max_depth=None,\n",
       "                                             max_features='auto',\n",
       "                                             max_leaf_nodes=None,\n",
       "                                             max_samples=None,\n",
       "                                             min_impurity_decrease=0.0,\n",
       "                                             min_impurity_split=None,\n",
       "                                             min_samples_leaf=1,\n",
       "                                             min_samples_split=2,\n",
       "                                             min_weight_fraction_leaf=0.0,\n",
       "                                             n_estimators=100, n_jobs=None,\n",
       "                                             oob_score=False, random_state=None,\n",
       "                                             verbose=0, warm_start=False),\n",
       "             iid='deprecated', n_jobs=None,\n",
       "             param_grid={'max_depth': [2, 8, 16, 32, 50, 64],\n",
       "                         'n_estimators': [4, 16, 32, 50, 64, 100, 128, 256]},\n",
       "             pre_dispatch='2*n_jobs', refit=True, return_train_score=False,\n",
       "             scoring=None, verbose=0)"
      ]
     },
     "execution_count": 82,
     "metadata": {},
     "output_type": "execute_result"
    }
   ],
   "source": [
    "# Create the model with 10 trees\n",
    "#regressor = RandomForestRegressor(n_estimators = 100,\n",
    "                                 # random_state = RSEED)\n",
    "\n",
    "# Fit on training data\n",
    "#regressor.fit(X_train, y_train)\n",
    "\n",
    "parameters={'n_estimators':[4, 16,32,50,64,100,128, 256],'max_depth': [2, 8, 16,32,50,64]}\n",
    "rf = RandomForestRegressor()\n",
    "clf = GridSearchCV(rf, parameters)\n",
    "clf.fit(X_train, y_train)"
   ]
  },
  {
   "cell_type": "code",
   "execution_count": 81,
   "metadata": {},
   "outputs": [
    {
     "name": "stdout",
     "output_type": "stream",
     "text": [
      "{'max_depth': 64, 'n_estimators': 32}\n"
     ]
    }
   ],
   "source": [
    "print(clf.best_params_)"
   ]
  },
  {
   "cell_type": "markdown",
   "metadata": {},
   "source": [
    "# Random Forest Regressor for environmental factors in a county and cancer rates"
   ]
  },
  {
   "cell_type": "code",
   "execution_count": null,
   "metadata": {},
   "outputs": [],
   "source": [
    "for i in cancerVals:\n",
    "    #print cancer type number\n",
    "    print(\"cancer type:\",i)\n",
    "    \n",
    "    #print cancer description\n",
    "    cancer=cancerTypes[\"cancer\"]==i\n",
    "    print(cancerTypes[cancer][\"cancer_description\"][0])\n",
    "    print(\"\\n\")\n",
    "    #selecting data for the specific cancer type\n",
    "    cancerData=data[\"cancer\"]==i\n",
    "    newData=data[cancerData]\n",
    "    \n",
    "    #splitting to test and train\n",
    "    x1=newData.loc[:, 'ACID':'WATR']\n",
    "    y = newData['annual_count_avg']\n",
    "\n",
    "    X_train1, X_test1, y_train, y_test = train_test_split(x1, y,\n",
    "                                                        test_size=0.3,\n",
    "                                                        random_state = RSEED)\n",
    "\n",
    "    scaler = StandardScaler()\n",
    "    scaler.fit(X_train1)\n",
    "\n",
    "    X_train = scaler.transform(X_train1)\n",
    "    X_test = scaler.transform(X_test1)\n",
    "    \n",
    "    #Creating RandomForest Model\n",
    "    print(\"Creating RandomForest Model and Fitting the Data\")\n",
    "    rf = RandomForestRegressor(n_estimators = 32,\n",
    "                                      max_depth: 64, \n",
    "                                      random_state = RSEED)\n",
    "\n",
    "    # Fit on training data\n",
    "    rf.fit(X_train, y_train)\n",
    "    \n",
    "    #Evaluation\n",
    "    pred=rf.predict(X_test)\n",
    "    acc_score=accuracy_score(y_test,pred)\n",
    "    print(\"Accuracy Score\",acc_score)\n",
    "    r2_score=rf.score(X_test, y_test)\n",
    "    print(\"score\",score)"
   ]
  },
  {
   "cell_type": "markdown",
   "metadata": {},
   "source": [
    "### Splitting to test and train"
   ]
  },
  {
   "cell_type": "code",
   "execution_count": 73,
   "metadata": {},
   "outputs": [
    {
     "name": "stdout",
     "output_type": "stream",
     "text": [
      "                        locale   fips  annual_count_avg areatype  cancer  \\\n",
      "0         Autauga County(6,10)   1001             304.0   county       1   \n",
      "23        Baldwin County(6,10)   1003            1189.0   county       1   \n",
      "46        Barbour County(6,10)   1005             145.0   county       1   \n",
      "69           Bibb County(6,10)   1007             128.0   county       1   \n",
      "92         Blount County(6,10)   1009             317.0   county       1   \n",
      "...                        ...    ...               ...      ...     ...   \n",
      "71944  Sweetwater County(6,10)  56037             162.0   county       1   \n",
      "71967       Teton County(6,10)  56039              98.0   county       1   \n",
      "71990       Uinta County(6,10)  56041              78.0   county       1   \n",
      "72013    Washakie County(6,10)  56043              44.0   county       1   \n",
      "72036      Weston County(6,10)  56045              40.0   county       1   \n",
      "\n",
      "       stateFIPS    state cancer_description        ACID          ENRG  ...  \\\n",
      "0              1  alabama   All Cancer Sites  299.152569  7.286445e+05  ...   \n",
      "23             1  alabama   All Cancer Sites  133.420049  6.931874e+03  ...   \n",
      "46             1  alabama   All Cancer Sites  102.817249  6.064801e+00  ...   \n",
      "69             1  alabama   All Cancer Sites   30.042694  2.012683e+04  ...   \n",
      "92             1  alabama   All Cancer Sites   32.192658  1.131970e+01  ...   \n",
      "...          ...      ...                ...         ...           ...  ...   \n",
      "71944         56  wyoming   All Cancer Sites  587.935749  3.629382e+06  ...   \n",
      "71967         56  wyoming   All Cancer Sites   37.178584  9.249760e+02  ...   \n",
      "71990         56  wyoming   All Cancer Sites   96.737078  1.919977e+06  ...   \n",
      "72013         56  wyoming   All Cancer Sites   31.417667  2.756565e+05  ...   \n",
      "72036         56  wyoming   All Cancer Sites   34.618906  4.287379e+05  ...   \n",
      "\n",
      "           METL          MINE           MSW          NREN      OZON  \\\n",
      "0      0.050200  0.000000e+00   2149.369209  4.351692e+05  0.002923   \n",
      "23     0.057225  1.674254e+04  16148.087370  4.932628e+03  0.007422   \n",
      "46     0.002351  0.000000e+00    554.606997  0.000000e+00  0.000153   \n",
      "69     0.006445  0.000000e+00    309.053357  0.000000e+00  0.000593   \n",
      "92     0.004599  0.000000e+00    896.650774  0.000000e+00  0.002463   \n",
      "...         ...           ...           ...           ...       ...   \n",
      "71944  0.063982  1.394053e+06   4115.339612  3.628234e+06  0.003711   \n",
      "71967  0.020598  8.200278e+00   6423.591808  4.857347e+02  0.003347   \n",
      "71990  0.011720  3.997271e+05   1420.508279  1.919961e+06  0.000773   \n",
      "72013  0.000551  0.000000e+00    518.501787  2.756546e+05  0.000140   \n",
      "72036  0.000817  1.711363e+04    348.003649  4.286608e+05  0.000395   \n",
      "\n",
      "               PEST            REN          SMOG           VADD         WATR  \n",
      "0      3.497395e-02  293475.377416   2949.632736   79914.159702  7851.498268  \n",
      "23     8.577729e-02    1999.246044   4438.579174  576096.081165  1633.902304  \n",
      "46     4.371549e-02       6.064801   3649.913530   29611.275038   511.844967  \n",
      "69     2.437340e-02   20126.828138   1064.780004   10666.884789   285.555832  \n",
      "92     6.501047e-03      11.319704   1165.911030   36511.029249    98.727235  \n",
      "...             ...            ...           ...            ...          ...  \n",
      "71944  8.917167e-03    1147.804947  19410.599796  312217.341832  5945.474594  \n",
      "71967  2.019774e-01     439.241290   1412.961358  210925.667302  1777.330068  \n",
      "71990  4.621011e-04      16.608615   3486.862556   97322.166731   582.400056  \n",
      "72013  3.860924e-07       1.845259   1176.237930   20257.950393    20.344697  \n",
      "72036  9.432837e-04      77.061234   1321.995548   12995.136488    47.904143  \n",
      "\n",
      "[3133 rows x 32 columns]\n",
      "XTrain (2193, 24)\n",
      "XTest (940, 24)\n"
     ]
    }
   ],
   "source": [
    "cancerData=data[\"cancer\"]==1\n",
    "newData=data[cancerData]\n",
    "print(newData)    \n",
    "#splitting to test and train\n",
    "x1=newData.loc[:, 'ACID':'WATR']\n",
    "y = newData['annual_count_avg']\n",
    "\n",
    "X_train1, X_test1, y_train, y_test = train_test_split(x1, y,\n",
    "                                                    test_size=0.3,\n",
    "                                                    random_state = RSEED)\n",
    "\n",
    "scaler = StandardScaler()\n",
    "scaler.fit(X_train1)\n",
    "\n",
    "X_train = scaler.transform(X_train1)\n",
    "X_test = scaler.transform(X_test1)\n",
    "\n",
    "print(\"XTrain\",X_train.shape)\n",
    "print(\"XTest\",X_test.shape)\n",
    "\n"
   ]
  },
  {
   "cell_type": "markdown",
   "metadata": {},
   "source": [
    "### Creating Random Forest Model"
   ]
  },
  {
   "cell_type": "code",
   "execution_count": null,
   "metadata": {},
   "outputs": [],
   "source": [
    "from sklearn.ensemble import RandomForestRegressor\n",
    "\n",
    "# Create the model with 10 trees\n",
    "regressor = RandomForestRegressor(n_estimators = 100,\n",
    "                                  random_state = RSEED)\n",
    "\n",
    "# Fit on training data\n",
    "regressor.fit(X_train, y_train)"
   ]
  },
  {
   "cell_type": "markdown",
   "metadata": {},
   "source": [
    "### Evaluation"
   ]
  },
  {
   "cell_type": "code",
   "execution_count": 6,
   "metadata": {},
   "outputs": [
    {
     "name": "stdout",
     "output_type": "stream",
     "text": [
      "Evaluation for train:\n",
      "\n",
      "Accuracy Train -inf%\n",
      "r2_score Train: 0.9603257019945082\n",
      "\n",
      "\n",
      "Evaluation for test:\n",
      "\n",
      "Accuracy Test -inf%\n",
      "r2_score Test: 0.8700949707169692\n",
      "score 0.8700949707169692\n"
     ]
    }
   ],
   "source": [
    "from sklearn import metrics\n",
    "train_rf_predictions = regressor.predict(X_train)\n",
    "rf_predictions = regressor.predict(X_test)\n",
    "MAE_train = metrics.mean_absolute_error(y_train, train_rf_predictions)\n",
    "RMSE_train = np.sqrt(metrics.mean_squared_error(y_train, train_rf_predictions))\n",
    "MAPE_train = 100 * np.mean(abs(train_rf_predictions - y_train)/abs(y_train))\n",
    "accuracy_train = 100 - MAPE_train\n",
    "r2_train = metrics.r2_score(y_train, train_rf_predictions)\n",
    "\n",
    "MAE_test = metrics.mean_absolute_error(y_test, rf_predictions)\n",
    "RMSE_test = np.sqrt(metrics.mean_squared_error(y_test, rf_predictions))\n",
    "MAPE_test = 100 * np.mean(abs(rf_predictions - y_test)/abs(y_test))\n",
    "accuracy_test = 100 - MAPE_test\n",
    "r2_test = metrics.r2_score(y_test, rf_predictions)\n",
    "print(\"Evaluation for train:\")\n",
    "print()\n",
    "#print('Mean Absolute Error Train:', MAE_train)    \n",
    "#print('Root Mean Squared Error Train:', RMSE_train)\n",
    "#print('Mean Absolute Percentage Error Train:', MAPE_train)\n",
    "print('Accuracy Train', str(accuracy_train) + \"%\")\n",
    "print('r2_score Train:',r2_train)\n",
    "print()\n",
    "print()\n",
    "print(\"Evaluation for test:\")\n",
    "print()\n",
    "#print('Mean Absolute Error Test:', MAE_test)    \n",
    "#print('Root Mean Squared Error Test:', RMSE_test)\n",
    "#print('Mean Absolute Percentage Error Test:', MAPE_test)\n",
    "print('Accuracy Test', str(accuracy_test) + \"%\")\n",
    "print('r2_score Test:', r2_test)\n",
    "print(\"score\",regressor.score(X_test, y_test))"
   ]
  },
  {
   "cell_type": "code",
   "execution_count": 7,
   "metadata": {},
   "outputs": [
    {
     "data": {
      "text/plain": [
       "Text(0, 0.5, 'Feature')"
      ]
     },
     "execution_count": 7,
     "metadata": {},
     "output_type": "execute_result"
    },
    {
     "data": {
      "image/png": "[encoded data removed]",
      "text/plain": [
       "<Figure size 432x288 with 1 Axes>"
      ]
     },
     "metadata": {
      "needs_background": "light"
     },
     "output_type": "display_data"
    }
   ],
   "source": [
    "ind = np.argsort(regressor.feature_importances_)[::-1]\n",
    "imp = regressor.feature_importances_[ind][:24]\n",
    "cols =x1.columns[ind][:24]\n",
    "pl = pd.Series(imp, index=cols).plot(kind='barh', title='Random Forest Feature Importance')\n",
    "pl.set_xlabel(\"Coefficient Strength\")\n",
    "pl.set_ylabel(\"Feature\")"
   ]
  },
  {
   "cell_type": "markdown",
   "metadata": {},
   "source": [
    "# Random Forest Regressor for HTOX,HC"
   ]
  },
  {
   "cell_type": "markdown",
   "metadata": {},
   "source": [
    "### Splitting to test and train"
   ]
  },
  {
   "cell_type": "code",
   "execution_count": 8,
   "metadata": {},
   "outputs": [
    {
     "name": "stdout",
     "output_type": "stream",
     "text": [
      "XTrain (2193, 2)\n",
      "XTest (940, 2)\n"
     ]
    }
   ],
   "source": [
    "from sklearn.model_selection import train_test_split\n",
    "x1=data[['HTOX','HC']]\n",
    "\n",
    "y = data['annual_count_avg']\n",
    "\n",
    "X_train1, X_test1, y_train, y_test = train_test_split(x1, y,\n",
    "                                                    test_size=0.3,\n",
    "                                                    random_state = RSEED)\n",
    "\n",
    "scaler = StandardScaler()\n",
    "scaler.fit(X_train1)\n",
    "\n",
    "X_train = scaler.transform(X_train1)\n",
    "X_test = scaler.transform(X_test1)\n",
    "\n",
    "print(\"XTrain\",X_train.shape)\n",
    "print(\"XTest\",X_test.shape)\n"
   ]
  },
  {
   "cell_type": "markdown",
   "metadata": {},
   "source": [
    "### Creating Random Forest Model"
   ]
  },
  {
   "cell_type": "code",
   "execution_count": 9,
   "metadata": {},
   "outputs": [
    {
     "data": {
      "text/plain": [
       "RandomForestRegressor(bootstrap=True, ccp_alpha=0.0, criterion='mse',\n",
       "                      max_depth=None, max_features='auto', max_leaf_nodes=None,\n",
       "                      max_samples=None, min_impurity_decrease=0.0,\n",
       "                      min_impurity_split=None, min_samples_leaf=1,\n",
       "                      min_samples_split=2, min_weight_fraction_leaf=0.0,\n",
       "                      n_estimators=100, n_jobs=None, oob_score=False,\n",
       "                      random_state=100, verbose=0, warm_start=False)"
      ]
     },
     "execution_count": 9,
     "metadata": {},
     "output_type": "execute_result"
    }
   ],
   "source": [
    "from sklearn.ensemble import RandomForestRegressor\n",
    "\n",
    "# Create the model with 10 trees\n",
    "regressor2 = RandomForestRegressor(n_estimators = 100,\n",
    "                                  random_state = RSEED)\n",
    "\n",
    "# Fit on training data\n",
    "regressor2.fit(X_train, y_train)"
   ]
  },
  {
   "cell_type": "markdown",
   "metadata": {},
   "source": [
    "### Evaluation"
   ]
  },
  {
   "cell_type": "code",
   "execution_count": 10,
   "metadata": {},
   "outputs": [
    {
     "name": "stdout",
     "output_type": "stream",
     "text": [
      "Evaluation for train:\n",
      "\n",
      "Accuracy Train -inf%\n",
      "r2_score Train: 0.9406317407812158\n",
      "\n",
      "\n",
      "Evaluation for test:\n",
      "\n",
      "Accuracy Test -inf%\n",
      "r2_score Test: 0.41378470045227933\n",
      "score 0.41378470045227933\n"
     ]
    }
   ],
   "source": [
    "from sklearn import metrics\n",
    "train_rf_predictions = regressor2.predict(X_train)\n",
    "rf_predictions = regressor2.predict(X_test)\n",
    "MAE_train = metrics.mean_absolute_error(y_train, train_rf_predictions)\n",
    "RMSE_train = np.sqrt(metrics.mean_squared_error(y_train, train_rf_predictions))\n",
    "MAPE_train = 100 * np.mean(abs(train_rf_predictions - y_train)/abs(y_train))\n",
    "accuracy_train = 100 - MAPE_train\n",
    "r2_train = metrics.r2_score(y_train, train_rf_predictions)\n",
    "\n",
    "MAE_test = metrics.mean_absolute_error(y_test, rf_predictions)\n",
    "RMSE_test = np.sqrt(metrics.mean_squared_error(y_test, rf_predictions))\n",
    "MAPE_test = 100 * np.mean(abs(rf_predictions - y_test)/abs(y_test))\n",
    "accuracy_test = 100 - MAPE_test\n",
    "r2_test = metrics.r2_score(y_test, rf_predictions)\n",
    "print(\"Evaluation for train:\")\n",
    "print()\n",
    "#print('Mean Absolute Error Train:', MAE_train)    \n",
    "#print('Root Mean Squared Error Train:', RMSE_train)\n",
    "#print('Mean Absolute Percentage Error Train:', MAPE_train)\n",
    "print('Accuracy Train', str(accuracy_train) + \"%\")\n",
    "print('r2_score Train:',r2_train)\n",
    "print()\n",
    "print()\n",
    "print(\"Evaluation for test:\")\n",
    "print()\n",
    "#print('Mean Absolute Error Test:', MAE_test)    \n",
    "#print('Root Mean Squared Error Test:', RMSE_test)\n",
    "#print('Mean Absolute Percentage Error Test:', MAPE_test)\n",
    "print('Accuracy Test', str(accuracy_test) + \"%\")\n",
    "print('r2_score Test:', r2_test)\n",
    "print(\"score\",regressor2.score(X_test, y_test))"
   ]
  },
  {
   "cell_type": "code",
   "execution_count": 11,
   "metadata": {},
   "outputs": [
    {
     "data": {
      "text/plain": [
       "Text(0, 0.5, 'Feature')"
      ]
     },
     "execution_count": 11,
     "metadata": {},
     "output_type": "execute_result"
    },
    {
     "data": {
      "image/png": "[encoded data removed]",
      "text/plain": [
       "<Figure size 432x288 with 1 Axes>"
      ]
     },
     "metadata": {
      "needs_background": "light"
     },
     "output_type": "display_data"
    }
   ],
   "source": [
    "ind = np.argsort(regressor2.feature_importances_)[::-1]\n",
    "imp = regressor2.feature_importances_[ind][:2]\n",
    "cols =x1.columns[ind][:2]\n",
    "#print(imp)\n",
    "pl = pd.Series(imp, index=cols).plot(kind='barh', title='Random Forest Feature Importance')\n",
    "pl.set_xlabel(\"Coefficient Strength\")\n",
    "pl.set_ylabel(\"Feature\")"
   ]
  },
  {
   "cell_type": "markdown",
   "metadata": {},
   "source": [
    "# Logistic Regression for environmental factors in a county and cancer rates"
   ]
  },
  {
   "cell_type": "markdown",
   "metadata": {},
   "source": [
    "### Splitting test and train"
   ]
  },
  {
   "cell_type": "code",
   "execution_count": 12,
   "metadata": {},
   "outputs": [
    {
     "name": "stdout",
     "output_type": "stream",
     "text": [
      "XTrain (2193, 24)\n",
      "XTest (940, 24)\n"
     ]
    }
   ],
   "source": [
    "from sklearn.model_selection import train_test_split\n",
    "x1=data.loc[:, :'WATR']\n",
    "y = data['annual_count_avg']\n",
    "\n",
    "X_train1, X_test1, y_train, y_test = train_test_split(x1, y,\n",
    "                                                    test_size=0.3,\n",
    "                                                    random_state = RSEED)\n",
    "\n",
    "scaler = StandardScaler()\n",
    "scaler.fit(X_train1)\n",
    "\n",
    "X_train = scaler.transform(X_train1)\n",
    "X_test = scaler.transform(X_test1)\n",
    "\n",
    "print(\"XTrain\",X_train.shape)\n",
    "print(\"XTest\",X_test.shape)\n",
    "\n"
   ]
  },
  {
   "cell_type": "markdown",
   "metadata": {},
   "source": [
    "### Creating LR model"
   ]
  },
  {
   "cell_type": "code",
   "execution_count": 13,
   "metadata": {},
   "outputs": [
    {
     "name": "stderr",
     "output_type": "stream",
     "text": [
      "C:\\Users\\Owner\\Miniconda3\\lib\\site-packages\\sklearn\\linear_model\\_logistic.py:940: ConvergenceWarning: lbfgs failed to converge (status=1):\n",
      "STOP: TOTAL NO. of ITERATIONS REACHED LIMIT.\n",
      "\n",
      "Increase the number of iterations (max_iter) or scale the data as shown in:\n",
      "    https://scikit-learn.org/stable/modules/preprocessing.html\n",
      "Please also refer to the documentation for alternative solver options:\n",
      "    https://scikit-learn.org/stable/modules/linear_model.html#logistic-regression\n",
      "  extra_warning_msg=_LOGISTIC_SOLVER_CONVERGENCE_MSG)\n"
     ]
    },
    {
     "data": {
      "text/plain": [
       "LogisticRegression(C=1.0, class_weight=None, dual=False, fit_intercept=True,\n",
       "                   intercept_scaling=1, l1_ratio=None, max_iter=100,\n",
       "                   multi_class='auto', n_jobs=None, penalty='l2',\n",
       "                   random_state=None, solver='lbfgs', tol=0.0001, verbose=0,\n",
       "                   warm_start=False)"
      ]
     },
     "execution_count": 13,
     "metadata": {},
     "output_type": "execute_result"
    }
   ],
   "source": [
    "from sklearn.linear_model import LogisticRegression\n",
    "# Create the model \n",
    "lr = LogisticRegression()\n",
    "\n",
    "# Fit on training data\n",
    "lr.fit(X_train, y_train)"
   ]
  },
  {
   "cell_type": "markdown",
   "metadata": {},
   "source": [
    "### Evaluation"
   ]
  },
  {
   "cell_type": "code",
   "execution_count": 14,
   "metadata": {},
   "outputs": [
    {
     "name": "stdout",
     "output_type": "stream",
     "text": [
      "Evaluation for train:\n",
      "\n",
      "Accuracy Train -inf%\n",
      "r2_score Train: 0.8585743357921237\n",
      "\n",
      "\n",
      "Evaluation for test:\n",
      "\n",
      "Accuracy Test -inf%\n",
      "r2_score Test: 0.4621527729275319\n",
      "score 0.06170212765957447\n"
     ]
    }
   ],
   "source": [
    "from sklearn import metrics\n",
    "train_rf_predictions = lr.predict(X_train)\n",
    "rf_predictions = lr.predict(X_test)\n",
    "MAE_train = metrics.mean_absolute_error(y_train, train_rf_predictions)\n",
    "RMSE_train = np.sqrt(metrics.mean_squared_error(y_train, train_rf_predictions))\n",
    "MAPE_train = 100 * np.mean(abs(train_rf_predictions - y_train)/abs(y_train))\n",
    "accuracy_train = 100 - MAPE_train\n",
    "r2_train = metrics.r2_score(y_train, train_rf_predictions)\n",
    "\n",
    "MAE_test = metrics.mean_absolute_error(y_test, rf_predictions)\n",
    "RMSE_test = np.sqrt(metrics.mean_squared_error(y_test, rf_predictions))\n",
    "MAPE_test = 100 * np.mean(abs(rf_predictions - y_test)/abs(y_test))\n",
    "accuracy_test = 100 - MAPE_test\n",
    "r2_test = metrics.r2_score(y_test, rf_predictions)\n",
    "print(\"Evaluation for train:\")\n",
    "print()\n",
    "#print('Mean Absolute Error Train:', MAE_train)    \n",
    "#print('Root Mean Squared Error Train:', RMSE_train)\n",
    "#print('Mean Absolute Percentage Error Train:', MAPE_train)\n",
    "print('Accuracy Train', str(accuracy_train) + \"%\")\n",
    "print('r2_score Train:',r2_train)\n",
    "print()\n",
    "print()\n",
    "print(\"Evaluation for test:\")\n",
    "print()\n",
    "#print('Mean Absolute Error Test:', MAE_test)    \n",
    "#print('Root Mean Squared Error Test:', RMSE_test)\n",
    "#print('Mean Absolute Percentage Error Test:', MAPE_test)\n",
    "print('Accuracy Test', str(accuracy_test) + \"%\")\n",
    "print('r2_score Test:', r2_test)\n",
    "print(\"score\",lr.score(X_test, y_test))"
   ]
  },
  {
   "cell_type": "code",
   "execution_count": 15,
   "metadata": {},
   "outputs": [],
   "source": [
    "#ind = np.argsort(np.abs(lr.coef_))[::-1][:24]\n",
    "#cols =x1.columns[ind]\n",
    "#vals = np.sort(np.abs(lr.coef_))[::-1][:24]\n",
    "#print(cols,vals)\n",
    "#pt = pd.Series(vals, index=cols).plot('barh', title = 'Important variables in Linear Regression')\n",
    "#pl.set_xlabel(\"Coefficient Strength\")\n",
    "#pl.set_ylabel(\"Feature\")"
   ]
  },
  {
   "cell_type": "markdown",
   "metadata": {},
   "source": [
    "# Logistic Regression for HTOX,HC"
   ]
  },
  {
   "cell_type": "markdown",
   "metadata": {},
   "source": [
    "### Splitting test and train"
   ]
  },
  {
   "cell_type": "code",
   "execution_count": 16,
   "metadata": {},
   "outputs": [
    {
     "name": "stdout",
     "output_type": "stream",
     "text": [
      "XTrain (2193, 2)\n",
      "XTest (940, 2)\n"
     ]
    }
   ],
   "source": [
    "from sklearn.model_selection import train_test_split\n",
    "x1=data[['HTOX','HC']]\n",
    "\n",
    "y = data['annual_count_avg']\n",
    "\n",
    "X_train1, X_test1, y_train, y_test = train_test_split(x1, y,\n",
    "                                                    test_size=0.3,\n",
    "                                                    random_state = RSEED)\n",
    "\n",
    "scaler = StandardScaler()\n",
    "scaler.fit(X_train1)\n",
    "\n",
    "X_train = scaler.transform(X_train1)\n",
    "X_test = scaler.transform(X_test1)\n",
    "\n",
    "print(\"XTrain\",X_train.shape)\n",
    "print(\"XTest\",X_test.shape)\n"
   ]
  },
  {
   "cell_type": "markdown",
   "metadata": {},
   "source": [
    "### Creating LR model"
   ]
  },
  {
   "cell_type": "code",
   "execution_count": 17,
   "metadata": {},
   "outputs": [
    {
     "name": "stderr",
     "output_type": "stream",
     "text": [
      "C:\\Users\\Owner\\Miniconda3\\lib\\site-packages\\sklearn\\linear_model\\_logistic.py:940: ConvergenceWarning: lbfgs failed to converge (status=1):\n",
      "STOP: TOTAL NO. of ITERATIONS REACHED LIMIT.\n",
      "\n",
      "Increase the number of iterations (max_iter) or scale the data as shown in:\n",
      "    https://scikit-learn.org/stable/modules/preprocessing.html\n",
      "Please also refer to the documentation for alternative solver options:\n",
      "    https://scikit-learn.org/stable/modules/linear_model.html#logistic-regression\n",
      "  extra_warning_msg=_LOGISTIC_SOLVER_CONVERGENCE_MSG)\n"
     ]
    },
    {
     "data": {
      "text/plain": [
       "LogisticRegression(C=1.0, class_weight=None, dual=False, fit_intercept=True,\n",
       "                   intercept_scaling=1, l1_ratio=None, max_iter=100,\n",
       "                   multi_class='auto', n_jobs=None, penalty='l2',\n",
       "                   random_state=None, solver='lbfgs', tol=0.0001, verbose=0,\n",
       "                   warm_start=False)"
      ]
     },
     "execution_count": 17,
     "metadata": {},
     "output_type": "execute_result"
    }
   ],
   "source": [
    "from sklearn.linear_model import LogisticRegression\n",
    "# Create the model \n",
    "lr = LogisticRegression()\n",
    "\n",
    "# Fit on training data\n",
    "lr.fit(X_train, y_train)"
   ]
  },
  {
   "cell_type": "markdown",
   "metadata": {},
   "source": [
    "### Evaluation"
   ]
  },
  {
   "cell_type": "code",
   "execution_count": 18,
   "metadata": {},
   "outputs": [
    {
     "name": "stdout",
     "output_type": "stream",
     "text": [
      "Evaluation for train:\n",
      "\n",
      "Accuracy Train 0.3190437064941989%\n",
      "r2_score Train: 0.4714775218611794\n",
      "\n",
      "\n",
      "Evaluation for test:\n",
      "\n",
      "Accuracy Test -0.16613741029571827%\n",
      "r2_score Test: 0.11461408330990763\n"
     ]
    }
   ],
   "source": [
    "from sklearn import metrics\n",
    "train_rf_predictions = lr.predict(X_train)\n",
    "rf_predictions = lr.predict(X_test)\n",
    "MAE_train = metrics.mean_absolute_error(y_train, train_rf_predictions)\n",
    "RMSE_train = np.sqrt(metrics.mean_squared_error(y_train, train_rf_predictions))\n",
    "MAPE_train = 100 * np.mean(abs(train_rf_predictions - y_train)/abs(y_train))\n",
    "accuracy_train = 100 - MAPE_train\n",
    "r2_train = metrics.r2_score(y_train, train_rf_predictions)\n",
    "\n",
    "MAE_test = metrics.mean_absolute_error(y_test, rf_predictions)\n",
    "RMSE_test = np.sqrt(metrics.mean_squared_error(y_test, rf_predictions))\n",
    "MAPE_test = 100 * np.mean(abs(rf_predictions - y_test)/abs(y_test))\n",
    "accuracy_test = 100 - MAPE_test\n",
    "r2_test = metrics.r2_score(y_test, rf_predictions)\n",
    "print(\"Evaluation for train:\")\n",
    "print()\n",
    "#print('Mean Absolute Error Train:', MAE_train)    \n",
    "#print('Root Mean Squared Error Train:', RMSE_train)\n",
    "#print('Mean Absolute Percentage Error Train:', MAPE_train)\n",
    "print('Accuracy Train', str(accuracy_train) + \"%\")\n",
    "print('r2_score Train:',r2_train)\n",
    "print()\n",
    "print()\n",
    "print(\"Evaluation for test:\")\n",
    "print()\n",
    "#print('Mean Absolute Error Test:', MAE_test)    \n",
    "#print('Root Mean Squared Error Test:', RMSE_test)\n",
    "#print('Mean Absolute Percentage Error Test:', MAPE_test)\n",
    "print('Accuracy Test', str(accuracy_test) + \"%\")\n",
    "print('r2_score Test:', r2_test)\n",
    "print(\"score\",lr.score(X_test, y_test))"
   ]
  },
  {
   "cell_type": "markdown",
   "metadata": {},
   "source": [
    "# SVR for environmental factors in a county and cancer rates"
   ]
  },
  {
   "cell_type": "markdown",
   "metadata": {},
   "source": [
    "### Splitting test and train"
   ]
  },
  {
   "cell_type": "code",
   "execution_count": 25,
   "metadata": {},
   "outputs": [
    {
     "name": "stdout",
     "output_type": "stream",
     "text": [
      "XTrain (2193, 24)\n",
      "XTest (940, 24)\n"
     ]
    }
   ],
   "source": [
    "from sklearn.model_selection import train_test_split\n",
    "x1=data.loc[:, :'WATR']\n",
    "y = data['annual_count_avg']\n",
    "\n",
    "X_train1, X_test1, y_train, y_test = train_test_split(x1, y,\n",
    "                                                    test_size=0.3,\n",
    "                                                    random_state = RSEED)\n",
    "\n",
    "scaler = StandardScaler()\n",
    "scaler.fit(X_train1)\n",
    "\n",
    "X_train = scaler.transform(X_train1)\n",
    "X_test = scaler.transform(X_test1)\n",
    "\n",
    "print(\"XTrain\",X_train.shape)\n",
    "print(\"XTest\",X_test.shape)\n",
    "\n"
   ]
  },
  {
   "cell_type": "markdown",
   "metadata": {},
   "source": [
    "### Creating SVR model"
   ]
  },
  {
   "cell_type": "code",
   "execution_count": 26,
   "metadata": {},
   "outputs": [
    {
     "data": {
      "text/plain": [
       "LinearSVR(C=1.0, dual=True, epsilon=0.0, fit_intercept=True,\n",
       "          intercept_scaling=1.0, loss='epsilon_insensitive', max_iter=1000,\n",
       "          random_state=0, tol=1e-05, verbose=0)"
      ]
     },
     "execution_count": 26,
     "metadata": {},
     "output_type": "execute_result"
    }
   ],
   "source": [
    "from sklearn.svm import LinearSVR\n",
    "# Create the model \n",
    "\n",
    "svr = LinearSVR(random_state=0, tol=1e-5)\n",
    "# Fit on training data\n",
    "svr.fit(X_train, y_train)"
   ]
  },
  {
   "cell_type": "markdown",
   "metadata": {},
   "source": [
    "### Evaluation"
   ]
  },
  {
   "cell_type": "code",
   "execution_count": 27,
   "metadata": {},
   "outputs": [
    {
     "name": "stdout",
     "output_type": "stream",
     "text": [
      "Evaluation for train:\n",
      "\n",
      "Accuracy Train -inf%\n",
      "r2_score Train: 0.32574365212920087\n",
      "\n",
      "\n",
      "Evaluation for test:\n",
      "\n",
      "Accuracy Test -inf%\n",
      "r2_score Test: 0.1925047582004683\n",
      "score 0.1925047582004683\n"
     ]
    }
   ],
   "source": [
    "from sklearn import metrics\n",
    "train_rf_predictions = svr.predict(X_train)\n",
    "rf_predictions = svr.predict(X_test)\n",
    "MAE_train = metrics.mean_absolute_error(y_train, train_rf_predictions)\n",
    "RMSE_train = np.sqrt(metrics.mean_squared_error(y_train, train_rf_predictions))\n",
    "MAPE_train = 100 * np.mean(abs(train_rf_predictions - y_train)/abs(y_train))\n",
    "accuracy_train = 100 - MAPE_train\n",
    "r2_train = metrics.r2_score(y_train, train_rf_predictions)\n",
    "\n",
    "MAE_test = metrics.mean_absolute_error(y_test, rf_predictions)\n",
    "RMSE_test = np.sqrt(metrics.mean_squared_error(y_test, rf_predictions))\n",
    "MAPE_test = 100 * np.mean(abs(rf_predictions - y_test)/abs(y_test))\n",
    "accuracy_test = 100 - MAPE_test\n",
    "r2_test = metrics.r2_score(y_test, rf_predictions)\n",
    "print(\"Evaluation for train:\")\n",
    "print()\n",
    "#print('Mean Absolute Error Train:', MAE_train)    \n",
    "#print('Root Mean Squared Error Train:', RMSE_train)\n",
    "#print('Mean Absolute Percentage Error Train:', MAPE_train)\n",
    "print('Accuracy Train', str(accuracy_train) + \"%\")\n",
    "print('r2_score Train:',r2_train)\n",
    "print()\n",
    "print()\n",
    "print(\"Evaluation for test:\")\n",
    "print()\n",
    "#print('Mean Absolute Error Test:', MAE_test)    \n",
    "#print('Root Mean Squared Error Test:', RMSE_test)\n",
    "#print('Mean Absolute Percentage Error Test:', MAPE_test)\n",
    "print('Accuracy Test', str(accuracy_test) + \"%\")\n",
    "print('r2_score Test:', r2_test)\n",
    "print(\"score\",svr.score(X_test, y_test))"
   ]
  },
  {
   "cell_type": "markdown",
   "metadata": {},
   "source": [
    "# SVR for HTOX,HC"
   ]
  },
  {
   "cell_type": "markdown",
   "metadata": {},
   "source": [
    "### splitting for test and train"
   ]
  },
  {
   "cell_type": "code",
   "execution_count": 28,
   "metadata": {},
   "outputs": [
    {
     "name": "stdout",
     "output_type": "stream",
     "text": [
      "XTrain (2193, 2)\n",
      "XTest (940, 2)\n"
     ]
    }
   ],
   "source": [
    "from sklearn.model_selection import train_test_split\n",
    "x1=data[['HTOX','HC']]\n",
    "\n",
    "y = data['annual_count_avg']\n",
    "\n",
    "X_train1, X_test1, y_train, y_test = train_test_split(x1, y,\n",
    "                                                    test_size=0.3,\n",
    "                                                    random_state = RSEED)\n",
    "\n",
    "scaler = StandardScaler()\n",
    "scaler.fit(X_train1)\n",
    "\n",
    "X_train = scaler.transform(X_train1)\n",
    "X_test = scaler.transform(X_test1)\n",
    "\n",
    "print(\"XTrain\",X_train.shape)\n",
    "print(\"XTest\",X_test.shape)\n"
   ]
  },
  {
   "cell_type": "markdown",
   "metadata": {},
   "source": [
    "### Creating SVR model"
   ]
  },
  {
   "cell_type": "code",
   "execution_count": 29,
   "metadata": {},
   "outputs": [
    {
     "data": {
      "text/plain": [
       "LinearSVR(C=1.0, dual=True, epsilon=0.0, fit_intercept=True,\n",
       "          intercept_scaling=1.0, loss='epsilon_insensitive', max_iter=1000,\n",
       "          random_state=0, tol=1e-05, verbose=0)"
      ]
     },
     "execution_count": 29,
     "metadata": {},
     "output_type": "execute_result"
    }
   ],
   "source": [
    "from sklearn.svm import LinearSVR\n",
    "# Create the model \n",
    "\n",
    "svr = LinearSVR(random_state=0, tol=1e-5)\n",
    "# Fit on training data\n",
    "svr.fit(X_train, y_train)"
   ]
  },
  {
   "cell_type": "markdown",
   "metadata": {},
   "source": [
    "### Evaluation"
   ]
  },
  {
   "cell_type": "code",
   "execution_count": 30,
   "metadata": {},
   "outputs": [
    {
     "name": "stdout",
     "output_type": "stream",
     "text": [
      "Evaluation for train:\n",
      "\n",
      "Accuracy Train -inf%\n",
      "r2_score Train: -0.0294099288709071\n",
      "\n",
      "\n",
      "Evaluation for test:\n",
      "\n",
      "Accuracy Test -inf%\n",
      "r2_score Test: -0.08589664158110089\n",
      "score -0.08589664158110089\n"
     ]
    }
   ],
   "source": [
    "from sklearn import metrics\n",
    "train_rf_predictions = svr.predict(X_train)\n",
    "rf_predictions = svr.predict(X_test)\n",
    "MAE_train = metrics.mean_absolute_error(y_train, train_rf_predictions)\n",
    "RMSE_train = np.sqrt(metrics.mean_squared_error(y_train, train_rf_predictions))\n",
    "MAPE_train = 100 * np.mean(abs(train_rf_predictions - y_train)/abs(y_train))\n",
    "accuracy_train = 100 - MAPE_train\n",
    "r2_train = metrics.r2_score(y_train, train_rf_predictions)\n",
    "\n",
    "MAE_test = metrics.mean_absolute_error(y_test, rf_predictions)\n",
    "RMSE_test = np.sqrt(metrics.mean_squared_error(y_test, rf_predictions))\n",
    "MAPE_test = 100 * np.mean(abs(rf_predictions - y_test)/abs(y_test))\n",
    "accuracy_test = 100 - MAPE_test\n",
    "r2_test = metrics.r2_score(y_test, rf_predictions)\n",
    "print(\"Evaluation for train:\")\n",
    "print()\n",
    "#print('Mean Absolute Error Train:', MAE_train)    \n",
    "#print('Root Mean Squared Error Train:', RMSE_train)\n",
    "#print('Mean Absolute Percentage Error Train:', MAPE_train)\n",
    "print('Accuracy Train', str(accuracy_train) + \"%\")\n",
    "print('r2_score Train:',r2_train)\n",
    "print()\n",
    "print()\n",
    "print(\"Evaluation for test:\")\n",
    "print()\n",
    "#print('Mean Absolute Error Test:', MAE_test)    \n",
    "#print('Root Mean Squared Error Test:', RMSE_test)\n",
    "#print('Mean Absolute Percentage Error Test:', MAPE_test)\n",
    "print('Accuracy Test', str(accuracy_test) + \"%\")\n",
    "print('r2_score Test:', r2_test)\n",
    "print(\"score\",svr.score(X_test, y_test))"
   ]
  },
  {
   "cell_type": "code",
   "execution_count": null,
   "metadata": {},
   "outputs": [],
   "source": []
  },
  {
   "cell_type": "code",
   "execution_count": null,
   "metadata": {},
   "outputs": [],
   "source": []
  }
 ],
 "metadata": {
  "kernelspec": {
   "display_name": "Python 3",
   "language": "python",
   "name": "python3"
  },
  "language_info": {
   "codemirror_mode": {
    "name": "ipython",
    "version": 3
   },
   "file_extension": ".py",
   "mimetype": "text/x-python",
   "name": "python",
   "nbconvert_exporter": "python",
   "pygments_lexer": "ipython3",
   "version": "3.7.4"
  }
 },
 "nbformat": 4,
 "nbformat_minor": 4
}
