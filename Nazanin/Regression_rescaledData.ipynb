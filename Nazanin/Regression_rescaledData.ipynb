{
 "cells": [
  {
   "cell_type": "code",
   "execution_count": 1,
   "metadata": {},
   "outputs": [],
   "source": [
    "from sklearn.cluster import DBSCAN\n",
    "from sklearn.preprocessing import StandardScaler\n",
    "import re\n",
    "import pandas as pd\n",
    "import numpy as np\n",
    "import matplotlib.pyplot as plt\n",
    "from sklearn.preprocessing import StandardScaler\n",
    "from sklearn.model_selection import train_test_split\n",
    "from sklearn.ensemble import RandomForestRegressor\n",
    "from sklearn.model_selection import cross_val_score, GridSearchCV, cross_validate, train_test_split\n",
    "from sklearn import metrics\n",
    "from sklearn.metrics import accuracy_score, classification_report\n",
    "from sklearn.linear_model import LogisticRegression\n",
    "from sklearn.svm import LinearSVR\n",
    "# Setting random seed to get reproducible runs\n",
    "RSEED = 100"
   ]
  },
  {
   "cell_type": "markdown",
   "metadata": {},
   "source": [
    "# Part 1: Data Processing"
   ]
  },
  {
   "cell_type": "code",
   "execution_count": 2,
   "metadata": {},
   "outputs": [],
   "source": [
    "data = pd.read_csv(\"cancer_industry.csv\")"
   ]
  },
  {
   "cell_type": "code",
   "execution_count": 112,
   "metadata": {},
   "outputs": [],
   "source": [
    "#data.drop('Unnamed: 0', axis=1, inplace=True)"
   ]
  },
  {
   "cell_type": "code",
   "execution_count": 3,
   "metadata": {},
   "outputs": [
    {
     "data": {
      "text/plain": "Index(['locale', 'fips', 'areatype', 'cancer', 'stateFIPS', 'state',\n       'cancer_description', 'annual_count_avg', 'incidence rate_per_100000',\n       'incidence rate_lower_95_confidence',\n       'incidence rate_upper_95_confidence', 'ACID', 'ENRG', 'ETOX', 'EUTR',\n       'FOOD', 'GCC', 'HAPS', 'HAZW', 'HC', 'HNC', 'HRSP', 'HTOX', 'JOBS',\n       'LAND', 'METL', 'MINE', 'MSW', 'NREN', 'OZON', 'PEST', 'REN', 'SMOG',\n       'VADD', 'WATR'],\n      dtype='object')"
     },
     "execution_count": 3,
     "metadata": {},
     "output_type": "execute_result"
    }
   ],
   "source": [
    "data.columns"
   ]
  },
  {
   "cell_type": "code",
   "execution_count": 4,
   "metadata": {},
   "outputs": [],
   "source": [
    "factors=np.array(['ACID', 'ENRG', 'ETOX', 'EUTR', 'FOOD',\n",
    "       'GCC', 'HAPS', 'HAZW', 'HC', 'HNC', 'HRSP', 'HTOX', 'JOBS', 'LAND',\n",
    "       'METL', 'MINE', 'MSW', 'NREN', 'OZON', 'PEST', 'REN', 'SMOG', 'VADD',\n",
    "       'WATR'])"
   ]
  },
  {
   "cell_type": "code",
   "execution_count": 5,
   "metadata": {},
   "outputs": [
    {
     "data": {
      "text/html": "<div>\n<style scoped>\n    .dataframe tbody tr th:only-of-type {\n        vertical-align: middle;\n    }\n\n    .dataframe tbody tr th {\n        vertical-align: top;\n    }\n\n    .dataframe thead th {\n        text-align: right;\n    }\n</style>\n<table border=\"1\" class=\"dataframe\">\n  <thead>\n    <tr style=\"text-align: right;\">\n      <th></th>\n      <th>locale</th>\n      <th>fips</th>\n      <th>areatype</th>\n      <th>cancer</th>\n      <th>stateFIPS</th>\n      <th>state</th>\n      <th>cancer_description</th>\n      <th>annual_count_avg</th>\n      <th>incidence rate_per_100000</th>\n      <th>incidence rate_lower_95_confidence</th>\n      <th>...</th>\n      <th>METL</th>\n      <th>MINE</th>\n      <th>MSW</th>\n      <th>NREN</th>\n      <th>OZON</th>\n      <th>PEST</th>\n      <th>REN</th>\n      <th>SMOG</th>\n      <th>VADD</th>\n      <th>WATR</th>\n    </tr>\n  </thead>\n  <tbody>\n    <tr>\n      <th>0</th>\n      <td>Autauga County(6,10)</td>\n      <td>1001</td>\n      <td>county</td>\n      <td>1</td>\n      <td>1</td>\n      <td>alabama</td>\n      <td>All Cancer Sites</td>\n      <td>304</td>\n      <td>495.6</td>\n      <td>470.6</td>\n      <td>...</td>\n      <td>0.000177</td>\n      <td>0.000000</td>\n      <td>3.332971</td>\n      <td>1558.288943</td>\n      <td>8.205763e-06</td>\n      <td>0.000069</td>\n      <td>1050.867678</td>\n      <td>9.764524</td>\n      <td>168.936475</td>\n      <td>27.485562</td>\n    </tr>\n    <tr>\n      <th>1</th>\n      <td>Autauga County(6,10)</td>\n      <td>1001</td>\n      <td>county</td>\n      <td>3</td>\n      <td>1</td>\n      <td>alabama</td>\n      <td>Oral Cavity &amp; Pharynx</td>\n      <td>8</td>\n      <td>13.5</td>\n      <td>9.6</td>\n      <td>...</td>\n      <td>0.000177</td>\n      <td>0.000000</td>\n      <td>3.332971</td>\n      <td>1558.288943</td>\n      <td>8.205763e-06</td>\n      <td>0.000069</td>\n      <td>1050.867678</td>\n      <td>9.764524</td>\n      <td>168.936475</td>\n      <td>27.485562</td>\n    </tr>\n    <tr>\n      <th>2</th>\n      <td>Autauga County(6,10)</td>\n      <td>1001</td>\n      <td>county</td>\n      <td>17</td>\n      <td>1</td>\n      <td>alabama</td>\n      <td>Esophagus</td>\n      <td>0</td>\n      <td>0.0</td>\n      <td>0.0</td>\n      <td>...</td>\n      <td>0.000177</td>\n      <td>0.000000</td>\n      <td>3.332971</td>\n      <td>1558.288943</td>\n      <td>8.205763e-06</td>\n      <td>0.000069</td>\n      <td>1050.867678</td>\n      <td>9.764524</td>\n      <td>168.936475</td>\n      <td>27.485562</td>\n    </tr>\n    <tr>\n      <th>3</th>\n      <td>Autauga County(6,10)</td>\n      <td>1001</td>\n      <td>county</td>\n      <td>18</td>\n      <td>1</td>\n      <td>alabama</td>\n      <td>Stomach</td>\n      <td>6</td>\n      <td>9.1</td>\n      <td>6.0</td>\n      <td>...</td>\n      <td>0.000177</td>\n      <td>0.000000</td>\n      <td>3.332971</td>\n      <td>1558.288943</td>\n      <td>8.205763e-06</td>\n      <td>0.000069</td>\n      <td>1050.867678</td>\n      <td>9.764524</td>\n      <td>168.936475</td>\n      <td>27.485562</td>\n    </tr>\n    <tr>\n      <th>4</th>\n      <td>Autauga County(6,10)</td>\n      <td>1001</td>\n      <td>county</td>\n      <td>20</td>\n      <td>1</td>\n      <td>alabama</td>\n      <td>Colon &amp; Rectum</td>\n      <td>32</td>\n      <td>52.2</td>\n      <td>44.2</td>\n      <td>...</td>\n      <td>0.000177</td>\n      <td>0.000000</td>\n      <td>3.332971</td>\n      <td>1558.288943</td>\n      <td>8.205763e-06</td>\n      <td>0.000069</td>\n      <td>1050.867678</td>\n      <td>9.764524</td>\n      <td>168.936475</td>\n      <td>27.485562</td>\n    </tr>\n    <tr>\n      <th>...</th>\n      <td>...</td>\n      <td>...</td>\n      <td>...</td>\n      <td>...</td>\n      <td>...</td>\n      <td>...</td>\n      <td>...</td>\n      <td>...</td>\n      <td>...</td>\n      <td>...</td>\n      <td>...</td>\n      <td>...</td>\n      <td>...</td>\n      <td>...</td>\n      <td>...</td>\n      <td>...</td>\n      <td>...</td>\n      <td>...</td>\n      <td>...</td>\n      <td>...</td>\n      <td>...</td>\n    </tr>\n    <tr>\n      <th>72054</th>\n      <td>Weston County(6,10)</td>\n      <td>56045</td>\n      <td>county</td>\n      <td>86</td>\n      <td>56</td>\n      <td>wyoming</td>\n      <td>Non-Hodgkin Lymphoma</td>\n      <td>0</td>\n      <td>0.0</td>\n      <td>0.0</td>\n      <td>...</td>\n      <td>0.000002</td>\n      <td>31.285543</td>\n      <td>0.491881</td>\n      <td>1971.904410</td>\n      <td>8.367255e-07</td>\n      <td>0.000002</td>\n      <td>0.159930</td>\n      <td>3.642929</td>\n      <td>28.875893</td>\n      <td>0.122450</td>\n    </tr>\n    <tr>\n      <th>72055</th>\n      <td>Weston County(6,10)</td>\n      <td>56045</td>\n      <td>county</td>\n      <td>90</td>\n      <td>56</td>\n      <td>wyoming</td>\n      <td>Leukemia</td>\n      <td>0</td>\n      <td>0.0</td>\n      <td>0.0</td>\n      <td>...</td>\n      <td>0.000002</td>\n      <td>31.285543</td>\n      <td>0.491881</td>\n      <td>1971.904410</td>\n      <td>8.367255e-07</td>\n      <td>0.000002</td>\n      <td>0.159930</td>\n      <td>3.642929</td>\n      <td>28.875893</td>\n      <td>0.122450</td>\n    </tr>\n    <tr>\n      <th>72056</th>\n      <td>Weston County(6,10)</td>\n      <td>56045</td>\n      <td>county</td>\n      <td>400</td>\n      <td>56</td>\n      <td>wyoming</td>\n      <td>Breast (in situ) (Female)</td>\n      <td>0</td>\n      <td>0.0</td>\n      <td>0.0</td>\n      <td>...</td>\n      <td>0.000002</td>\n      <td>31.285543</td>\n      <td>0.491881</td>\n      <td>1971.904410</td>\n      <td>8.367255e-07</td>\n      <td>0.000002</td>\n      <td>0.159930</td>\n      <td>3.642929</td>\n      <td>28.875893</td>\n      <td>0.122450</td>\n    </tr>\n    <tr>\n      <th>72057</th>\n      <td>Weston County(6,10)</td>\n      <td>56045</td>\n      <td>county</td>\n      <td>515</td>\n      <td>56</td>\n      <td>wyoming</td>\n      <td>Childhood (Ages &lt;20, All Sites)</td>\n      <td>0</td>\n      <td>0.0</td>\n      <td>0.0</td>\n      <td>...</td>\n      <td>0.000002</td>\n      <td>31.285543</td>\n      <td>0.491881</td>\n      <td>1971.904410</td>\n      <td>8.367255e-07</td>\n      <td>0.000002</td>\n      <td>0.159930</td>\n      <td>3.642929</td>\n      <td>28.875893</td>\n      <td>0.122450</td>\n    </tr>\n    <tr>\n      <th>72058</th>\n      <td>Weston County(6,10)</td>\n      <td>56045</td>\n      <td>county</td>\n      <td>516</td>\n      <td>56</td>\n      <td>wyoming</td>\n      <td>Childhood (Ages &lt;15, All Sites)</td>\n      <td>0</td>\n      <td>0.0</td>\n      <td>0.0</td>\n      <td>...</td>\n      <td>0.000002</td>\n      <td>31.285543</td>\n      <td>0.491881</td>\n      <td>1971.904410</td>\n      <td>8.367255e-07</td>\n      <td>0.000002</td>\n      <td>0.159930</td>\n      <td>3.642929</td>\n      <td>28.875893</td>\n      <td>0.122450</td>\n    </tr>\n  </tbody>\n</table>\n<p>72059 rows × 35 columns</p>\n</div>",
      "text/plain": "                     locale   fips areatype  cancer  stateFIPS    state  \\\n0      Autauga County(6,10)   1001   county       1          1  alabama   \n1      Autauga County(6,10)   1001   county       3          1  alabama   \n2      Autauga County(6,10)   1001   county      17          1  alabama   \n3      Autauga County(6,10)   1001   county      18          1  alabama   \n4      Autauga County(6,10)   1001   county      20          1  alabama   \n...                     ...    ...      ...     ...        ...      ...   \n72054   Weston County(6,10)  56045   county      86         56  wyoming   \n72055   Weston County(6,10)  56045   county      90         56  wyoming   \n72056   Weston County(6,10)  56045   county     400         56  wyoming   \n72057   Weston County(6,10)  56045   county     515         56  wyoming   \n72058   Weston County(6,10)  56045   county     516         56  wyoming   \n\n                    cancer_description  annual_count_avg  \\\n0                     All Cancer Sites               304   \n1                Oral Cavity & Pharynx                 8   \n2                            Esophagus                 0   \n3                              Stomach                 6   \n4                       Colon & Rectum                32   \n...                                ...               ...   \n72054             Non-Hodgkin Lymphoma                 0   \n72055                         Leukemia                 0   \n72056        Breast (in situ) (Female)                 0   \n72057  Childhood (Ages <20, All Sites)                 0   \n72058  Childhood (Ages <15, All Sites)                 0   \n\n       incidence rate_per_100000  incidence rate_lower_95_confidence  ...  \\\n0                          495.6                               470.6  ...   \n1                           13.5                                 9.6  ...   \n2                            0.0                                 0.0  ...   \n3                            9.1                                 6.0  ...   \n4                           52.2                                44.2  ...   \n...                          ...                                 ...  ...   \n72054                        0.0                                 0.0  ...   \n72055                        0.0                                 0.0  ...   \n72056                        0.0                                 0.0  ...   \n72057                        0.0                                 0.0  ...   \n72058                        0.0                                 0.0  ...   \n\n           METL       MINE       MSW         NREN          OZON      PEST  \\\n0      0.000177   0.000000  3.332971  1558.288943  8.205763e-06  0.000069   \n1      0.000177   0.000000  3.332971  1558.288943  8.205763e-06  0.000069   \n2      0.000177   0.000000  3.332971  1558.288943  8.205763e-06  0.000069   \n3      0.000177   0.000000  3.332971  1558.288943  8.205763e-06  0.000069   \n4      0.000177   0.000000  3.332971  1558.288943  8.205763e-06  0.000069   \n...         ...        ...       ...          ...           ...       ...   \n72054  0.000002  31.285543  0.491881  1971.904410  8.367255e-07  0.000002   \n72055  0.000002  31.285543  0.491881  1971.904410  8.367255e-07  0.000002   \n72056  0.000002  31.285543  0.491881  1971.904410  8.367255e-07  0.000002   \n72057  0.000002  31.285543  0.491881  1971.904410  8.367255e-07  0.000002   \n72058  0.000002  31.285543  0.491881  1971.904410  8.367255e-07  0.000002   \n\n               REN      SMOG        VADD       WATR  \n0      1050.867678  9.764524  168.936475  27.485562  \n1      1050.867678  9.764524  168.936475  27.485562  \n2      1050.867678  9.764524  168.936475  27.485562  \n3      1050.867678  9.764524  168.936475  27.485562  \n4      1050.867678  9.764524  168.936475  27.485562  \n...            ...       ...         ...        ...  \n72054     0.159930  3.642929   28.875893   0.122450  \n72055     0.159930  3.642929   28.875893   0.122450  \n72056     0.159930  3.642929   28.875893   0.122450  \n72057     0.159930  3.642929   28.875893   0.122450  \n72058     0.159930  3.642929   28.875893   0.122450  \n\n[72059 rows x 35 columns]"
     },
     "execution_count": 5,
     "metadata": {},
     "output_type": "execute_result"
    }
   ],
   "source": [
    "data"
   ]
  },
  {
   "cell_type": "code",
   "execution_count": 6,
   "metadata": {},
   "outputs": [
    {
     "name": "stdout",
     "output_type": "stream",
     "text": "locale                                 object\nfips                                    int64\nareatype                               object\ncancer                                  int64\nstateFIPS                               int64\nstate                                  object\ncancer_description                     object\nannual_count_avg                        int64\nincidence rate_per_100000             float64\nincidence rate_lower_95_confidence    float64\nincidence rate_upper_95_confidence    float64\nACID                                  float64\nENRG                                  float64\nETOX                                  float64\nEUTR                                  float64\nFOOD                                  float64\nGCC                                   float64\nHAPS                                  float64\nHAZW                                  float64\nHC                                    float64\nHNC                                   float64\nHRSP                                  float64\nHTOX                                  float64\nJOBS                                  float64\nLAND                                  float64\nMETL                                  float64\nMINE                                  float64\nMSW                                   float64\nNREN                                  float64\nOZON                                  float64\nPEST                                  float64\nREN                                   float64\nSMOG                                  float64\nVADD                                  float64\nWATR                                  float64\ndtype: object\n"
    },
    {
     "data": {
      "text/html": "<div>\n<style scoped>\n    .dataframe tbody tr th:only-of-type {\n        vertical-align: middle;\n    }\n\n    .dataframe tbody tr th {\n        vertical-align: top;\n    }\n\n    .dataframe thead th {\n        text-align: right;\n    }\n</style>\n<table border=\"1\" class=\"dataframe\">\n  <thead>\n    <tr style=\"text-align: right;\">\n      <th></th>\n      <th>locale</th>\n      <th>fips</th>\n      <th>areatype</th>\n      <th>cancer</th>\n      <th>stateFIPS</th>\n      <th>state</th>\n      <th>cancer_description</th>\n      <th>annual_count_avg</th>\n      <th>incidence rate_per_100000</th>\n      <th>incidence rate_lower_95_confidence</th>\n      <th>...</th>\n      <th>METL</th>\n      <th>MINE</th>\n      <th>MSW</th>\n      <th>NREN</th>\n      <th>OZON</th>\n      <th>PEST</th>\n      <th>REN</th>\n      <th>SMOG</th>\n      <th>VADD</th>\n      <th>WATR</th>\n    </tr>\n  </thead>\n  <tbody>\n    <tr>\n      <th>0</th>\n      <td>Autauga County(6,10)</td>\n      <td>1001</td>\n      <td>county</td>\n      <td>1</td>\n      <td>1</td>\n      <td>alabama</td>\n      <td>All Cancer Sites</td>\n      <td>304</td>\n      <td>495.6</td>\n      <td>470.6</td>\n      <td>...</td>\n      <td>0.000177</td>\n      <td>0.000000</td>\n      <td>3.332971</td>\n      <td>1558.288943</td>\n      <td>8.205763e-06</td>\n      <td>0.000069</td>\n      <td>1050.867678</td>\n      <td>9.764524</td>\n      <td>168.936475</td>\n      <td>27.485562</td>\n    </tr>\n    <tr>\n      <th>1</th>\n      <td>Autauga County(6,10)</td>\n      <td>1001</td>\n      <td>county</td>\n      <td>3</td>\n      <td>1</td>\n      <td>alabama</td>\n      <td>Oral Cavity &amp; Pharynx</td>\n      <td>8</td>\n      <td>13.5</td>\n      <td>9.6</td>\n      <td>...</td>\n      <td>0.000177</td>\n      <td>0.000000</td>\n      <td>3.332971</td>\n      <td>1558.288943</td>\n      <td>8.205763e-06</td>\n      <td>0.000069</td>\n      <td>1050.867678</td>\n      <td>9.764524</td>\n      <td>168.936475</td>\n      <td>27.485562</td>\n    </tr>\n    <tr>\n      <th>2</th>\n      <td>Autauga County(6,10)</td>\n      <td>1001</td>\n      <td>county</td>\n      <td>17</td>\n      <td>1</td>\n      <td>alabama</td>\n      <td>Esophagus</td>\n      <td>0</td>\n      <td>0.0</td>\n      <td>0.0</td>\n      <td>...</td>\n      <td>0.000177</td>\n      <td>0.000000</td>\n      <td>3.332971</td>\n      <td>1558.288943</td>\n      <td>8.205763e-06</td>\n      <td>0.000069</td>\n      <td>1050.867678</td>\n      <td>9.764524</td>\n      <td>168.936475</td>\n      <td>27.485562</td>\n    </tr>\n    <tr>\n      <th>3</th>\n      <td>Autauga County(6,10)</td>\n      <td>1001</td>\n      <td>county</td>\n      <td>18</td>\n      <td>1</td>\n      <td>alabama</td>\n      <td>Stomach</td>\n      <td>6</td>\n      <td>9.1</td>\n      <td>6.0</td>\n      <td>...</td>\n      <td>0.000177</td>\n      <td>0.000000</td>\n      <td>3.332971</td>\n      <td>1558.288943</td>\n      <td>8.205763e-06</td>\n      <td>0.000069</td>\n      <td>1050.867678</td>\n      <td>9.764524</td>\n      <td>168.936475</td>\n      <td>27.485562</td>\n    </tr>\n    <tr>\n      <th>4</th>\n      <td>Autauga County(6,10)</td>\n      <td>1001</td>\n      <td>county</td>\n      <td>20</td>\n      <td>1</td>\n      <td>alabama</td>\n      <td>Colon &amp; Rectum</td>\n      <td>32</td>\n      <td>52.2</td>\n      <td>44.2</td>\n      <td>...</td>\n      <td>0.000177</td>\n      <td>0.000000</td>\n      <td>3.332971</td>\n      <td>1558.288943</td>\n      <td>8.205763e-06</td>\n      <td>0.000069</td>\n      <td>1050.867678</td>\n      <td>9.764524</td>\n      <td>168.936475</td>\n      <td>27.485562</td>\n    </tr>\n    <tr>\n      <th>...</th>\n      <td>...</td>\n      <td>...</td>\n      <td>...</td>\n      <td>...</td>\n      <td>...</td>\n      <td>...</td>\n      <td>...</td>\n      <td>...</td>\n      <td>...</td>\n      <td>...</td>\n      <td>...</td>\n      <td>...</td>\n      <td>...</td>\n      <td>...</td>\n      <td>...</td>\n      <td>...</td>\n      <td>...</td>\n      <td>...</td>\n      <td>...</td>\n      <td>...</td>\n      <td>...</td>\n    </tr>\n    <tr>\n      <th>72054</th>\n      <td>Weston County(6,10)</td>\n      <td>56045</td>\n      <td>county</td>\n      <td>86</td>\n      <td>56</td>\n      <td>wyoming</td>\n      <td>Non-Hodgkin Lymphoma</td>\n      <td>0</td>\n      <td>0.0</td>\n      <td>0.0</td>\n      <td>...</td>\n      <td>0.000002</td>\n      <td>31.285543</td>\n      <td>0.491881</td>\n      <td>1971.904410</td>\n      <td>8.367255e-07</td>\n      <td>0.000002</td>\n      <td>0.159930</td>\n      <td>3.642929</td>\n      <td>28.875893</td>\n      <td>0.122450</td>\n    </tr>\n    <tr>\n      <th>72055</th>\n      <td>Weston County(6,10)</td>\n      <td>56045</td>\n      <td>county</td>\n      <td>90</td>\n      <td>56</td>\n      <td>wyoming</td>\n      <td>Leukemia</td>\n      <td>0</td>\n      <td>0.0</td>\n      <td>0.0</td>\n      <td>...</td>\n      <td>0.000002</td>\n      <td>31.285543</td>\n      <td>0.491881</td>\n      <td>1971.904410</td>\n      <td>8.367255e-07</td>\n      <td>0.000002</td>\n      <td>0.159930</td>\n      <td>3.642929</td>\n      <td>28.875893</td>\n      <td>0.122450</td>\n    </tr>\n    <tr>\n      <th>72056</th>\n      <td>Weston County(6,10)</td>\n      <td>56045</td>\n      <td>county</td>\n      <td>400</td>\n      <td>56</td>\n      <td>wyoming</td>\n      <td>Breast (in situ) (Female)</td>\n      <td>0</td>\n      <td>0.0</td>\n      <td>0.0</td>\n      <td>...</td>\n      <td>0.000002</td>\n      <td>31.285543</td>\n      <td>0.491881</td>\n      <td>1971.904410</td>\n      <td>8.367255e-07</td>\n      <td>0.000002</td>\n      <td>0.159930</td>\n      <td>3.642929</td>\n      <td>28.875893</td>\n      <td>0.122450</td>\n    </tr>\n    <tr>\n      <th>72057</th>\n      <td>Weston County(6,10)</td>\n      <td>56045</td>\n      <td>county</td>\n      <td>515</td>\n      <td>56</td>\n      <td>wyoming</td>\n      <td>Childhood (Ages &lt;20, All Sites)</td>\n      <td>0</td>\n      <td>0.0</td>\n      <td>0.0</td>\n      <td>...</td>\n      <td>0.000002</td>\n      <td>31.285543</td>\n      <td>0.491881</td>\n      <td>1971.904410</td>\n      <td>8.367255e-07</td>\n      <td>0.000002</td>\n      <td>0.159930</td>\n      <td>3.642929</td>\n      <td>28.875893</td>\n      <td>0.122450</td>\n    </tr>\n    <tr>\n      <th>72058</th>\n      <td>Weston County(6,10)</td>\n      <td>56045</td>\n      <td>county</td>\n      <td>516</td>\n      <td>56</td>\n      <td>wyoming</td>\n      <td>Childhood (Ages &lt;15, All Sites)</td>\n      <td>0</td>\n      <td>0.0</td>\n      <td>0.0</td>\n      <td>...</td>\n      <td>0.000002</td>\n      <td>31.285543</td>\n      <td>0.491881</td>\n      <td>1971.904410</td>\n      <td>8.367255e-07</td>\n      <td>0.000002</td>\n      <td>0.159930</td>\n      <td>3.642929</td>\n      <td>28.875893</td>\n      <td>0.122450</td>\n    </tr>\n  </tbody>\n</table>\n<p>72059 rows × 35 columns</p>\n</div>",
      "text/plain": "                     locale   fips areatype  cancer  stateFIPS    state  \\\n0      Autauga County(6,10)   1001   county       1          1  alabama   \n1      Autauga County(6,10)   1001   county       3          1  alabama   \n2      Autauga County(6,10)   1001   county      17          1  alabama   \n3      Autauga County(6,10)   1001   county      18          1  alabama   \n4      Autauga County(6,10)   1001   county      20          1  alabama   \n...                     ...    ...      ...     ...        ...      ...   \n72054   Weston County(6,10)  56045   county      86         56  wyoming   \n72055   Weston County(6,10)  56045   county      90         56  wyoming   \n72056   Weston County(6,10)  56045   county     400         56  wyoming   \n72057   Weston County(6,10)  56045   county     515         56  wyoming   \n72058   Weston County(6,10)  56045   county     516         56  wyoming   \n\n                    cancer_description  annual_count_avg  \\\n0                     All Cancer Sites               304   \n1                Oral Cavity & Pharynx                 8   \n2                            Esophagus                 0   \n3                              Stomach                 6   \n4                       Colon & Rectum                32   \n...                                ...               ...   \n72054             Non-Hodgkin Lymphoma                 0   \n72055                         Leukemia                 0   \n72056        Breast (in situ) (Female)                 0   \n72057  Childhood (Ages <20, All Sites)                 0   \n72058  Childhood (Ages <15, All Sites)                 0   \n\n       incidence rate_per_100000  incidence rate_lower_95_confidence  ...  \\\n0                          495.6                               470.6  ...   \n1                           13.5                                 9.6  ...   \n2                            0.0                                 0.0  ...   \n3                            9.1                                 6.0  ...   \n4                           52.2                                44.2  ...   \n...                          ...                                 ...  ...   \n72054                        0.0                                 0.0  ...   \n72055                        0.0                                 0.0  ...   \n72056                        0.0                                 0.0  ...   \n72057                        0.0                                 0.0  ...   \n72058                        0.0                                 0.0  ...   \n\n           METL       MINE       MSW         NREN          OZON      PEST  \\\n0      0.000177   0.000000  3.332971  1558.288943  8.205763e-06  0.000069   \n1      0.000177   0.000000  3.332971  1558.288943  8.205763e-06  0.000069   \n2      0.000177   0.000000  3.332971  1558.288943  8.205763e-06  0.000069   \n3      0.000177   0.000000  3.332971  1558.288943  8.205763e-06  0.000069   \n4      0.000177   0.000000  3.332971  1558.288943  8.205763e-06  0.000069   \n...         ...        ...       ...          ...           ...       ...   \n72054  0.000002  31.285543  0.491881  1971.904410  8.367255e-07  0.000002   \n72055  0.000002  31.285543  0.491881  1971.904410  8.367255e-07  0.000002   \n72056  0.000002  31.285543  0.491881  1971.904410  8.367255e-07  0.000002   \n72057  0.000002  31.285543  0.491881  1971.904410  8.367255e-07  0.000002   \n72058  0.000002  31.285543  0.491881  1971.904410  8.367255e-07  0.000002   \n\n               REN      SMOG        VADD       WATR  \n0      1050.867678  9.764524  168.936475  27.485562  \n1      1050.867678  9.764524  168.936475  27.485562  \n2      1050.867678  9.764524  168.936475  27.485562  \n3      1050.867678  9.764524  168.936475  27.485562  \n4      1050.867678  9.764524  168.936475  27.485562  \n...            ...       ...         ...        ...  \n72054     0.159930  3.642929   28.875893   0.122450  \n72055     0.159930  3.642929   28.875893   0.122450  \n72056     0.159930  3.642929   28.875893   0.122450  \n72057     0.159930  3.642929   28.875893   0.122450  \n72058     0.159930  3.642929   28.875893   0.122450  \n\n[72059 rows x 35 columns]"
     },
     "execution_count": 6,
     "metadata": {},
     "output_type": "execute_result"
    }
   ],
   "source": [
    "#def split_keep_first(text):\n",
    "#    return text.split()[0]\n",
    "print(data.dtypes)\n",
    "#data['incidence rate_per_100000'].replace({r'[^\\x00-\\x7F]':'0'}, regex=True, inplace=True)\n",
    "#data['incidence rate_per_100000'] = data['incidence rate_per_100000'].str.replace(r'[^0-9]+', '')\n",
    "#data['incidence rate_per_100000'] = data['incidence rate_per_100000'].astype(\"str\")\n",
    "#data['incidence rate_per_100000'] = data['incidence rate_per_100000'].apply(split_keep_first)\n",
    "data['incidence rate_per_100000'] = data['incidence rate_per_100000'].astype(\"float64\")\n",
    "data"
   ]
  },
  {
   "cell_type": "code",
   "execution_count": 117,
   "metadata": {},
   "outputs": [],
   "source": [
    "#population = pd.read_csv(\"sex.csv\")\n",
    "#population"
   ]
  },
  {
   "cell_type": "code",
   "execution_count": 53,
   "metadata": {
    "scrolled": false
   },
   "outputs": [],
   "source": [
    "#pop1=population[[\"fips\",\"people (female)\"]]\n",
    "#pop2=population[[\"fips\",\"people (male)\"]]\n",
    "#pop1=pop1.dropna(axis='index')\n",
    "#pop2=pop2.dropna()\n",
    "#pop=pop1.merge(pop2,on='fips')\n",
    "##pop.dropna(axis='index')\n",
    "#pop"
   ]
  },
  {
   "cell_type": "code",
   "execution_count": 52,
   "metadata": {},
   "outputs": [],
   "source": [
    "#pop.drop_duplicates()\n",
    "#pop"
   ]
  },
  {
   "cell_type": "code",
   "execution_count": 51,
   "metadata": {},
   "outputs": [],
   "source": [
    "#data2 = pd.merge(data1, pop, on='fips', how='inner')\n",
    "#data2.head(20)"
   ]
  },
  {
   "cell_type": "code",
   "execution_count": 50,
   "metadata": {},
   "outputs": [],
   "source": [
    "#data2"
   ]
  },
  {
   "cell_type": "code",
   "execution_count": 49,
   "metadata": {},
   "outputs": [],
   "source": [
    "#data2[\"population\"]=data2.apply(lambda row: row[\"people (female)\"] + row[\"people (male)\"], axis=1)\n",
    "#data2"
   ]
  },
  {
   "cell_type": "code",
   "execution_count": 48,
   "metadata": {},
   "outputs": [],
   "source": [
    "#for i in ['ACID', 'ENRG', 'ETOX',\n",
    "#       'EUTR', 'FOOD', 'GCC', 'HAPS', 'HAZW', 'HC', 'HNC', 'HRSP', 'HTOX',\n",
    "#       'JOBS', 'LAND', 'METL', 'MINE', 'MSW', 'NREN', 'OZON', 'PEST', 'REN',\n",
    "#       'SMOG', 'VADD', 'WATR']:\n",
    "#    data2[i] = data2.apply(lambda row: row[i] / row[\"population\"], axis=1)\n",
    "#data2"
   ]
  },
  {
   "cell_type": "code",
   "execution_count": 47,
   "metadata": {},
   "outputs": [],
   "source": [
    "#data"
   ]
  },
  {
   "cell_type": "code",
   "execution_count": 31,
   "metadata": {},
   "outputs": [],
   "source": [
    "#data=data2"
   ]
  },
  {
   "cell_type": "code",
   "execution_count": 7,
   "metadata": {},
   "outputs": [
    {
     "data": {
      "text/plain": "Index(['locale', 'fips', 'areatype', 'cancer', 'stateFIPS', 'state',\n       'cancer_description', 'annual_count_avg', 'incidence rate_per_100000',\n       'incidence rate_lower_95_confidence',\n       'incidence rate_upper_95_confidence', 'ACID', 'ENRG', 'ETOX', 'EUTR',\n       'FOOD', 'GCC', 'HAPS', 'HAZW', 'HC', 'HNC', 'HRSP', 'HTOX', 'JOBS',\n       'LAND', 'METL', 'MINE', 'MSW', 'NREN', 'OZON', 'PEST', 'REN', 'SMOG',\n       'VADD', 'WATR'],\n      dtype='object')"
     },
     "execution_count": 7,
     "metadata": {},
     "output_type": "execute_result"
    }
   ],
   "source": [
    "data.columns"
   ]
  },
  {
   "cell_type": "code",
   "execution_count": 8,
   "metadata": {},
   "outputs": [
    {
     "data": {
      "text/plain": "array([  1,   3,  17,  18,  20,  35,  40,  47,  53,  55,  57,  58,  61,\n        66,  71,  72,  76,  80,  86,  90, 400, 515, 516])"
     },
     "execution_count": 8,
     "metadata": {},
     "output_type": "execute_result"
    }
   ],
   "source": [
    "cancerVals=data[\"cancer\"].unique()\n",
    "cancerVals"
   ]
  },
  {
   "cell_type": "code",
   "execution_count": 9,
   "metadata": {},
   "outputs": [
    {
     "data": {
      "text/plain": "array(['All Cancer Sites', 'Oral Cavity & Pharynx', 'Esophagus',\n       'Stomach', 'Colon & Rectum', 'Liver & Bile Duct', 'Pancreas',\n       'Lung & Bronchus', 'Melanoma of the Skin', 'Breast (Female)',\n       'Cervix (Female)', 'Uterus (Corpus & Uterus, NOS) (Female)',\n       'Ovary (Female)', 'Prostate (Male)', 'Bladder',\n       'Kidney & Renal Pelvis', 'Brain & ONS', 'Thyroid',\n       'Non-Hodgkin Lymphoma', 'Leukemia', 'Breast (in situ) (Female)',\n       'Childhood (Ages <20, All Sites)',\n       'Childhood (Ages <15, All Sites)'], dtype=object)"
     },
     "execution_count": 9,
     "metadata": {},
     "output_type": "execute_result"
    }
   ],
   "source": [
    "cancerDescr=data[\"cancer_description\"].unique()\n",
    "cancerDescr"
   ]
  },
  {
   "cell_type": "code",
   "execution_count": 10,
   "metadata": {},
   "outputs": [
    {
     "name": "stdout",
     "output_type": "stream",
     "text": "cancer                      cancer_description\n0        1                        All Cancer Sites\n1        3                   Oral Cavity & Pharynx\n2       17                               Esophagus\n3       18                                 Stomach\n4       20                          Colon & Rectum\n5       35                       Liver & Bile Duct\n6       40                                Pancreas\n7       47                         Lung & Bronchus\n8       53                    Melanoma of the Skin\n9       55                         Breast (Female)\n10      57                         Cervix (Female)\n11      58  Uterus (Corpus & Uterus, NOS) (Female)\n12      61                          Ovary (Female)\n13      66                         Prostate (Male)\n14      71                                 Bladder\n15      72                   Kidney & Renal Pelvis\n16      76                             Brain & ONS\n17      80                                 Thyroid\n18      86                    Non-Hodgkin Lymphoma\n19      90                                Leukemia\n20     400               Breast (in situ) (Female)\n21     515         Childhood (Ages <20, All Sites)\n22     516         Childhood (Ages <15, All Sites)\nexample:\n1    Oral Cavity & Pharynx\n"
    }
   ],
   "source": [
    "cancerDescription=data[[\"cancer\",\"cancer_description\"]]\n",
    "cancerTypes=cancerDescription.groupby([\"cancer\",\"cancer_description\"]).sum().reset_index()\n",
    "print(cancerTypes)\n",
    "cancer=cancerTypes[\"cancer\"]==3\n",
    "print(\"example:\")\n",
    "print(cancerTypes[cancer][\"cancer_description\"].to_string())"
   ]
  },
  {
   "cell_type": "markdown",
   "metadata": {},
   "source": [
    "# Part 2: Random Forest Regressor"
   ]
  },
  {
   "cell_type": "markdown",
   "metadata": {},
   "source": [
    "## Hypertuning"
   ]
  },
  {
   "cell_type": "code",
   "execution_count": 80,
   "metadata": {},
   "outputs": [
    {
     "name": "stdout",
     "output_type": "stream",
     "text": [
      "XTrain (2193, 24)\n",
      "XTest (940, 24)\n"
     ]
    }
   ],
   "source": [
    "cancerData=data[\"cancer\"]==1\n",
    "newData=data[cancerData]    \n",
    "\n",
    "#splitting to test and train\n",
    "x1=newData.loc[:, 'ACID':'WATR']\n",
    "y = newData['annual_count_avg']\n",
    "\n",
    "X_train1, X_test1, y_train, y_test = train_test_split(x1, y,\n",
    "                                                    test_size=0.3,\n",
    "                                                    random_state = RSEED)\n",
    "scaler = StandardScaler()\n",
    "scaler.fit(X_train1)\n",
    "\n",
    "X_train = scaler.transform(X_train1)\n",
    "X_test = scaler.transform(X_test1)\n",
    "\n",
    "print(\"XTrain\",X_train.shape)\n",
    "print(\"XTest\",X_test.shape)"
   ]
  },
  {
   "cell_type": "code",
   "execution_count": 14,
   "metadata": {},
   "outputs": [
    {
     "data": {
      "text/plain": [
       "GridSearchCV(cv=None, error_score=nan,\n",
       "             estimator=RandomForestRegressor(bootstrap=True, ccp_alpha=0.0,\n",
       "                                             criterion='mse', max_depth=None,\n",
       "                                             max_features='auto',\n",
       "                                             max_leaf_nodes=None,\n",
       "                                             max_samples=None,\n",
       "                                             min_impurity_decrease=0.0,\n",
       "                                             min_impurity_split=None,\n",
       "                                             min_samples_leaf=1,\n",
       "                                             min_samples_split=2,\n",
       "                                             min_weight_fraction_leaf=0.0,\n",
       "                                             n_estimators=100, n_jobs=None,\n",
       "                                             oob_score=False, random_state=100,\n",
       "                                             verbose=0, warm_start=False),\n",
       "             iid='deprecated', n_jobs=None,\n",
       "             param_grid={'max_depth': [2, 8, 16, 32, 50, 64],\n",
       "                         'n_estimators': [4, 16, 32, 50, 64, 100, 128, 256]},\n",
       "             pre_dispatch='2*n_jobs', refit=True, return_train_score=False,\n",
       "             scoring=None, verbose=0)"
      ]
     },
     "execution_count": 14,
     "metadata": {},
     "output_type": "execute_result"
    }
   ],
   "source": [
    "# Create the model with 10 trees\n",
    "#regressor = RandomForestRegressor(n_estimators = 100,\n",
    "                                 # random_state = RSEED)\n",
    "\n",
    "# Fit on training data\n",
    "#regressor.fit(X_train, y_train)\n",
    "\n",
    "parameters={'n_estimators':[4, 16,32,50,64,100,128, 256],'max_depth': [2, 8, 16,32,50,64]}\n",
    "rf = RandomForestRegressor(random_state = RSEED)\n",
    "clf = GridSearchCV(rf, parameters)\n",
    "clf.fit(X_train, y_train)"
   ]
  },
  {
   "cell_type": "code",
   "execution_count": 15,
   "metadata": {},
   "outputs": [
    {
     "name": "stdout",
     "output_type": "stream",
     "text": [
      "{'max_depth': 8, 'n_estimators': 100}\n"
     ]
    }
   ],
   "source": [
    "print(clf.best_params_)"
   ]
  },
  {
   "cell_type": "markdown",
   "metadata": {},
   "source": [
    "## Random Forest Loop"
   ]
  },
  {
   "cell_type": "code",
   "execution_count": 81,
   "metadata": {},
   "outputs": [
    {
     "name": "stdout",
     "output_type": "stream",
     "text": [
      "cancer type: 1\n",
      "0    All Cancer Sites\n",
      "Creating RandomForest Model and Fitting the Data\n",
      "score 0.8557931714466026\n",
      "Feature Importance\n",
      "indecis: [ 4 14 16 12 18  3 19  2  6  7 22 10  0  8 13  5 17 11 15 20  1 23  9 21]\n",
      "importances: [0.52370794 0.08519115 0.07232734 0.06012977 0.03656999 0.03585955\n",
      " 0.0324252  0.02914219 0.02874697 0.02091755 0.01439032 0.01332506\n",
      " 0.00696646 0.00542978 0.00535063 0.0049534  0.00460099 0.00434863\n",
      " 0.00433481 0.0035827  0.0027817  0.00214119 0.00159213 0.00118456]\n",
      "features: ['FOOD' 'METL' 'MSW' 'JOBS' 'OZON' 'EUTR' 'PEST' 'ETOX' 'HAPS' 'HAZW'\n",
      " 'VADD' 'HRSP' 'ACID' 'HC' 'LAND' 'GCC' 'NREN' 'HTOX' 'MINE' 'REN' 'ENRG'\n",
      " 'WATR' 'HNC' 'SMOG']\n",
      "\n",
      "\n",
      "cancer type: 3\n",
      "1    Oral Cavity & Pharynx\n",
      "Creating RandomForest Model and Fitting the Data\n"
     ]
    },
    {
     "name": "stderr",
     "output_type": "stream",
     "text": [
      "C:\\Users\\Owner\\Miniconda3\\lib\\site-packages\\ipykernel_launcher.py:64: UserWarning: Matplotlib is currently using module://ipykernel.pylab.backend_inline, which is a non-GUI backend, so cannot show the figure.\n"
     ]
    },
    {
     "name": "stdout",
     "output_type": "stream",
     "text": [
      "score 0.8768754252320395\n",
      "Feature Importance\n",
      "indecis: [ 4 16 14 18  7  6  3  2 12 19  9 22 10  1 15 11 20 17  5  8 13  0 21 23]\n",
      "importances: [0.59758527 0.06976628 0.05510933 0.04732653 0.0386699  0.03278587\n",
      " 0.02410143 0.02192258 0.02152848 0.0181793  0.01282756 0.01093913\n",
      " 0.01043627 0.00606654 0.00494659 0.00424918 0.00408984 0.00371395\n",
      " 0.00369486 0.00352338 0.00332816 0.00203688 0.0019163  0.0012564 ]\n",
      "features: ['FOOD' 'MSW' 'METL' 'OZON' 'HAZW' 'HAPS' 'EUTR' 'ETOX' 'JOBS' 'PEST'\n",
      " 'HNC' 'VADD' 'HRSP' 'ENRG' 'MINE' 'HTOX' 'REN' 'NREN' 'GCC' 'HC' 'LAND'\n",
      " 'ACID' 'SMOG' 'WATR']\n",
      "\n",
      "\n",
      "cancer type: 17\n",
      "2    Esophagus\n",
      "Creating RandomForest Model and Fitting the Data\n"
     ]
    },
    {
     "name": "stderr",
     "output_type": "stream",
     "text": [
      "C:\\Users\\Owner\\Miniconda3\\lib\\site-packages\\ipykernel_launcher.py:64: UserWarning: Matplotlib is currently using module://ipykernel.pylab.backend_inline, which is a non-GUI backend, so cannot show the figure.\n"
     ]
    },
    {
     "name": "stdout",
     "output_type": "stream",
     "text": [
      "score 0.8126109753659849\n",
      "Feature Importance\n",
      "indecis: [ 4 14 16  3  6 18 12 22  2 19  7  9 15 10  8 20 13 17 21  1 23  0 11  5]\n",
      "importances: [0.58487904 0.09122646 0.05955583 0.03491759 0.03474464 0.02903057\n",
      " 0.02264515 0.02069096 0.01944539 0.01911511 0.01535919 0.01092014\n",
      " 0.01029124 0.00779684 0.00744888 0.00506175 0.00445647 0.00387381\n",
      " 0.00342609 0.00338771 0.00336709 0.00314824 0.00284145 0.00237037]\n",
      "features: ['FOOD' 'METL' 'MSW' 'EUTR' 'HAPS' 'OZON' 'JOBS' 'VADD' 'ETOX' 'PEST'\n",
      " 'HAZW' 'HNC' 'MINE' 'HRSP' 'HC' 'REN' 'LAND' 'NREN' 'SMOG' 'ENRG' 'WATR'\n",
      " 'ACID' 'HTOX' 'GCC']\n",
      "\n",
      "\n",
      "cancer type: 18\n",
      "3    Stomach\n",
      "Creating RandomForest Model and Fitting the Data\n"
     ]
    },
    {
     "name": "stderr",
     "output_type": "stream",
     "text": [
      "C:\\Users\\Owner\\Miniconda3\\lib\\site-packages\\ipykernel_launcher.py:64: UserWarning: Matplotlib is currently using module://ipykernel.pylab.backend_inline, which is a non-GUI backend, so cannot show the figure.\n"
     ]
    },
    {
     "name": "stdout",
     "output_type": "stream",
     "text": [
      "score 0.8410689742037122\n",
      "Feature Importance\n",
      "indecis: [ 4 14 12 16 18 22  3 19  2 10  6  7 21  5  0  1 20  8 17 15 13 23  9 11]\n",
      "importances: [0.27573915 0.1620138  0.15024271 0.05899806 0.0561413  0.04927315\n",
      " 0.04596889 0.04460871 0.03566597 0.02553172 0.01703326 0.01024851\n",
      " 0.00989688 0.00888792 0.00812254 0.0075602  0.00731227 0.0068567\n",
      " 0.00676692 0.00516442 0.0031299  0.00230603 0.00143588 0.0010951 ]\n",
      "features: ['FOOD' 'METL' 'JOBS' 'MSW' 'OZON' 'VADD' 'EUTR' 'PEST' 'ETOX' 'HRSP'\n",
      " 'HAPS' 'HAZW' 'SMOG' 'GCC' 'ACID' 'ENRG' 'REN' 'HC' 'NREN' 'MINE' 'LAND'\n",
      " 'WATR' 'HNC' 'HTOX']\n",
      "\n",
      "\n",
      "cancer type: 20\n",
      "4    Colon & Rectum\n",
      "Creating RandomForest Model and Fitting the Data\n"
     ]
    },
    {
     "name": "stderr",
     "output_type": "stream",
     "text": [
      "C:\\Users\\Owner\\Miniconda3\\lib\\site-packages\\ipykernel_launcher.py:64: UserWarning: Matplotlib is currently using module://ipykernel.pylab.backend_inline, which is a non-GUI backend, so cannot show the figure.\n"
     ]
    },
    {
     "name": "stdout",
     "output_type": "stream",
     "text": [
      "score 0.8425398635009285\n",
      "Feature Importance\n",
      "indecis: [ 4 14 16 12 18  3  6 10 22 19  2 11  7  0 21  8 15 20 13 17  9  5  1 23]\n",
      "importances: [0.44363662 0.11199983 0.07702921 0.06532516 0.04744467 0.04102555\n",
      " 0.02835341 0.02659977 0.02546915 0.02545432 0.02059755 0.01709208\n",
      " 0.0170859  0.00744344 0.00643297 0.00612155 0.00535541 0.00478995\n",
      " 0.00461205 0.00423743 0.00415846 0.00412384 0.00330537 0.0023063 ]\n",
      "features: ['FOOD' 'METL' 'MSW' 'JOBS' 'OZON' 'EUTR' 'HAPS' 'HRSP' 'VADD' 'PEST'\n",
      " 'ETOX' 'HTOX' 'HAZW' 'ACID' 'SMOG' 'HC' 'MINE' 'REN' 'LAND' 'NREN' 'HNC'\n",
      " 'GCC' 'ENRG' 'WATR']\n",
      "\n",
      "\n",
      "cancer type: 35\n",
      "5    Liver & Bile Duct\n",
      "Creating RandomForest Model and Fitting the Data\n"
     ]
    },
    {
     "name": "stderr",
     "output_type": "stream",
     "text": [
      "C:\\Users\\Owner\\Miniconda3\\lib\\site-packages\\ipykernel_launcher.py:64: UserWarning: Matplotlib is currently using module://ipykernel.pylab.backend_inline, which is a non-GUI backend, so cannot show the figure.\n"
     ]
    },
    {
     "name": "stdout",
     "output_type": "stream",
     "text": [
      "score 0.8176414891993946\n",
      "Feature Importance\n",
      "indecis: [ 4 14 12  3 18 16 10  6 22  8  9  7  2  5 19 17  0 21 15 13 20  1 23 11]\n",
      "importances: [0.37081816 0.15381159 0.14144129 0.05065606 0.04914385 0.03853569\n",
      " 0.0270322  0.02362243 0.01832726 0.01769228 0.01500741 0.0149586\n",
      " 0.01291992 0.01220287 0.00931211 0.00893889 0.00823772 0.00760097\n",
      " 0.00462847 0.00454546 0.00348329 0.00333775 0.00217462 0.0015711 ]\n",
      "features: ['FOOD' 'METL' 'JOBS' 'EUTR' 'OZON' 'MSW' 'HRSP' 'HAPS' 'VADD' 'HC' 'HNC'\n",
      " 'HAZW' 'ETOX' 'GCC' 'PEST' 'NREN' 'ACID' 'SMOG' 'MINE' 'LAND' 'REN'\n",
      " 'ENRG' 'WATR' 'HTOX']\n",
      "\n",
      "\n",
      "cancer type: 40\n",
      "6    Pancreas\n",
      "Creating RandomForest Model and Fitting the Data\n"
     ]
    },
    {
     "name": "stderr",
     "output_type": "stream",
     "text": [
      "C:\\Users\\Owner\\Miniconda3\\lib\\site-packages\\ipykernel_launcher.py:64: UserWarning: Matplotlib is currently using module://ipykernel.pylab.backend_inline, which is a non-GUI backend, so cannot show the figure.\n"
     ]
    },
    {
     "name": "stdout",
     "output_type": "stream",
     "text": [
      "score 0.8341414231704023\n",
      "Feature Importance\n",
      "indecis: [ 4 14 12 16 18  3  2 22  6 10 19  7  5 11  0  1 20 17  8 13 21 15  9 23]\n",
      "importances: [0.4917139  0.08702564 0.08654662 0.05643307 0.04568584 0.0422833\n",
      " 0.03393839 0.03137215 0.02102855 0.02047348 0.01557074 0.0127337\n",
      " 0.00847639 0.00804395 0.00597464 0.00490805 0.00472606 0.00421267\n",
      " 0.00403238 0.00389371 0.00357981 0.00356851 0.00189624 0.00188221]\n",
      "features: ['FOOD' 'METL' 'JOBS' 'MSW' 'OZON' 'EUTR' 'ETOX' 'VADD' 'HAPS' 'HRSP'\n",
      " 'PEST' 'HAZW' 'GCC' 'HTOX' 'ACID' 'ENRG' 'REN' 'NREN' 'HC' 'LAND' 'SMOG'\n",
      " 'MINE' 'HNC' 'WATR']\n",
      "\n",
      "\n",
      "cancer type: 47\n",
      "7    Lung & Bronchus\n",
      "Creating RandomForest Model and Fitting the Data\n"
     ]
    },
    {
     "name": "stderr",
     "output_type": "stream",
     "text": [
      "C:\\Users\\Owner\\Miniconda3\\lib\\site-packages\\ipykernel_launcher.py:64: UserWarning: Matplotlib is currently using module://ipykernel.pylab.backend_inline, which is a non-GUI backend, so cannot show the figure.\n"
     ]
    },
    {
     "name": "stdout",
     "output_type": "stream",
     "text": [
      "score 0.7979727925024641\n",
      "Feature Importance\n",
      "indecis: [ 4 16 14  3  6 18 12 19 22  7  2 11 17 15 10  8  1 23 13 20 21  0  5  9]\n",
      "importances: [0.55637019 0.09665904 0.06120339 0.04156445 0.03840367 0.03375187\n",
      " 0.02550024 0.02278137 0.0225975  0.01943159 0.017711   0.00807897\n",
      " 0.00758915 0.00745353 0.006126   0.0057854  0.00517439 0.00512812\n",
      " 0.00457973 0.00419088 0.00316861 0.00295762 0.00227291 0.00152038]\n",
      "features: ['FOOD' 'MSW' 'METL' 'EUTR' 'HAPS' 'OZON' 'JOBS' 'PEST' 'VADD' 'HAZW'\n",
      " 'ETOX' 'HTOX' 'NREN' 'MINE' 'HRSP' 'HC' 'ENRG' 'WATR' 'LAND' 'REN' 'SMOG'\n",
      " 'ACID' 'GCC' 'HNC']\n",
      "\n",
      "\n",
      "cancer type: 53\n",
      "8    Melanoma of the Skin\n",
      "Creating RandomForest Model and Fitting the Data\n"
     ]
    },
    {
     "name": "stderr",
     "output_type": "stream",
     "text": [
      "C:\\Users\\Owner\\Miniconda3\\lib\\site-packages\\ipykernel_launcher.py:64: UserWarning: Matplotlib is currently using module://ipykernel.pylab.backend_inline, which is a non-GUI backend, so cannot show the figure.\n"
     ]
    },
    {
     "name": "stdout",
     "output_type": "stream",
     "text": [
      "score 0.8273341322187255\n",
      "Feature Importance\n",
      "indecis: [ 4 19  2 18 16  7 12  3 15 14 22 23 20 17  1 13 10  9  5 11  0  6 21  8]\n",
      "importances: [0.47008997 0.15787701 0.10148176 0.04628683 0.04430176 0.04329075\n",
      " 0.02840774 0.0223107  0.01207078 0.01172651 0.01166324 0.00698627\n",
      " 0.00682984 0.00498902 0.00489849 0.00448069 0.00430037 0.00334466\n",
      " 0.00322855 0.00247461 0.00244511 0.00234734 0.0020877  0.00208028]\n",
      "features: ['FOOD' 'PEST' 'ETOX' 'OZON' 'MSW' 'HAZW' 'JOBS' 'EUTR' 'MINE' 'METL'\n",
      " 'VADD' 'WATR' 'REN' 'NREN' 'ENRG' 'LAND' 'HRSP' 'HNC' 'GCC' 'HTOX' 'ACID'\n",
      " 'HAPS' 'SMOG' 'HC']\n",
      "\n",
      "\n",
      "cancer type: 55\n",
      "9    Breast (Female)\n",
      "Creating RandomForest Model and Fitting the Data\n"
     ]
    },
    {
     "name": "stderr",
     "output_type": "stream",
     "text": [
      "C:\\Users\\Owner\\Miniconda3\\lib\\site-packages\\ipykernel_launcher.py:64: UserWarning: Matplotlib is currently using module://ipykernel.pylab.backend_inline, which is a non-GUI backend, so cannot show the figure.\n"
     ]
    },
    {
     "name": "stdout",
     "output_type": "stream",
     "text": [
      "score 0.8971465502746103\n",
      "Feature Importance\n",
      "indecis: [ 4 14 16 12 18  7  3 19  6 10 22  2  9 11  0 21 15 13 17  1  5 23  8 20]\n",
      "importances: [0.52720649 0.0819845  0.07514831 0.05504982 0.05043698 0.03179584\n",
      " 0.02685713 0.02467504 0.02202863 0.0218738  0.01965152 0.01589776\n",
      " 0.01188122 0.00683415 0.00604167 0.00463243 0.00351437 0.0034238\n",
      " 0.0027671  0.00245754 0.00180586 0.001413   0.00137038 0.00125266]\n",
      "features: ['FOOD' 'METL' 'MSW' 'JOBS' 'OZON' 'HAZW' 'EUTR' 'PEST' 'HAPS' 'HRSP'\n",
      " 'VADD' 'ETOX' 'HNC' 'HTOX' 'ACID' 'SMOG' 'MINE' 'LAND' 'NREN' 'ENRG'\n",
      " 'GCC' 'WATR' 'HC' 'REN']\n",
      "\n",
      "\n",
      "cancer type: 57\n",
      "10    Cervix (Female)\n",
      "Creating RandomForest Model and Fitting the Data\n"
     ]
    },
    {
     "name": "stderr",
     "output_type": "stream",
     "text": [
      "C:\\Users\\Owner\\Miniconda3\\lib\\site-packages\\ipykernel_launcher.py:64: UserWarning: Matplotlib is currently using module://ipykernel.pylab.backend_inline, which is a non-GUI backend, so cannot show the figure.\n"
     ]
    },
    {
     "name": "stdout",
     "output_type": "stream",
     "text": [
      "score 0.7755848261780651\n",
      "Feature Importance\n",
      "indecis: [ 4 14 12  3 16 18  6 22 10  2  9  8  7  5  0 13 11 17 15  1 20 19 23 21]\n",
      "importances: [0.28492899 0.14318861 0.08883583 0.07395298 0.06457242 0.0638285\n",
      " 0.04582184 0.03914605 0.0301249  0.02125988 0.02107553 0.01990135\n",
      " 0.01942334 0.01508874 0.01294685 0.01183379 0.00949382 0.0076089\n",
      " 0.00606434 0.0051197  0.00499126 0.0042173  0.00360622 0.00296886]\n",
      "features: ['FOOD' 'METL' 'JOBS' 'EUTR' 'MSW' 'OZON' 'HAPS' 'VADD' 'HRSP' 'ETOX'\n",
      " 'HNC' 'HC' 'HAZW' 'GCC' 'ACID' 'LAND' 'HTOX' 'NREN' 'MINE' 'ENRG' 'REN'\n",
      " 'PEST' 'WATR' 'SMOG']\n",
      "\n",
      "\n",
      "cancer type: 58\n",
      "11    Uterus (Corpus & Uterus, NOS) (Female)\n",
      "Creating RandomForest Model and Fitting the Data\n"
     ]
    },
    {
     "name": "stderr",
     "output_type": "stream",
     "text": [
      "C:\\Users\\Owner\\Miniconda3\\lib\\site-packages\\ipykernel_launcher.py:64: UserWarning: Matplotlib is currently using module://ipykernel.pylab.backend_inline, which is a non-GUI backend, so cannot show the figure.\n"
     ]
    },
    {
     "name": "stdout",
     "output_type": "stream",
     "text": [
      "score 0.8602346303599469\n",
      "Feature Importance\n",
      "indecis: [ 4 12 14 18 16  3 22 19  2 10  6  7  0 17 11 21  5  8 15 13 20  1 23  9]\n",
      "importances: [0.42720735 0.14383351 0.09204474 0.05409168 0.05265638 0.04340696\n",
      " 0.03498187 0.0268791  0.02238868 0.02173428 0.01910273 0.01393668\n",
      " 0.00721113 0.0053363  0.00468879 0.00459565 0.00430519 0.00412082\n",
      " 0.00398157 0.00375214 0.00361975 0.00236975 0.00224616 0.00150879]\n",
      "features: ['FOOD' 'JOBS' 'METL' 'OZON' 'MSW' 'EUTR' 'VADD' 'PEST' 'ETOX' 'HRSP'\n",
      " 'HAPS' 'HAZW' 'ACID' 'NREN' 'HTOX' 'SMOG' 'GCC' 'HC' 'MINE' 'LAND' 'REN'\n",
      " 'ENRG' 'WATR' 'HNC']\n",
      "\n",
      "\n",
      "cancer type: 61\n",
      "12    Ovary (Female)\n",
      "Creating RandomForest Model and Fitting the Data\n"
     ]
    },
    {
     "name": "stderr",
     "output_type": "stream",
     "text": [
      "C:\\Users\\Owner\\Miniconda3\\lib\\site-packages\\ipykernel_launcher.py:64: UserWarning: Matplotlib is currently using module://ipykernel.pylab.backend_inline, which is a non-GUI backend, so cannot show the figure.\n"
     ]
    },
    {
     "name": "stdout",
     "output_type": "stream",
     "text": [
      "score 0.8493102647937654\n",
      "Feature Importance\n",
      "indecis: [ 4 14 12 18 16  2  3  7 10 22  6 19  8  0  9 21 15 13 20  1 17 23  5 11]\n",
      "importances: [0.43848629 0.16393119 0.06173787 0.05881562 0.04788965 0.0304902\n",
      " 0.02836145 0.02811151 0.0250798  0.02491182 0.02234233 0.02115066\n",
      " 0.01061956 0.00729372 0.00507003 0.00453699 0.00394384 0.00363596\n",
      " 0.00335874 0.00275487 0.00271893 0.00224971 0.00134735 0.00116191]\n",
      "features: ['FOOD' 'METL' 'JOBS' 'OZON' 'MSW' 'ETOX' 'EUTR' 'HAZW' 'HRSP' 'VADD'\n",
      " 'HAPS' 'PEST' 'HC' 'ACID' 'HNC' 'SMOG' 'MINE' 'LAND' 'REN' 'ENRG' 'NREN'\n",
      " 'WATR' 'GCC' 'HTOX']\n",
      "\n",
      "\n",
      "cancer type: 66\n",
      "13    Prostate (Male)\n",
      "Creating RandomForest Model and Fitting the Data\n"
     ]
    },
    {
     "name": "stderr",
     "output_type": "stream",
     "text": [
      "C:\\Users\\Owner\\Miniconda3\\lib\\site-packages\\ipykernel_launcher.py:64: UserWarning: Matplotlib is currently using module://ipykernel.pylab.backend_inline, which is a non-GUI backend, so cannot show the figure.\n"
     ]
    },
    {
     "name": "stdout",
     "output_type": "stream",
     "text": [
      "score 0.8749881314630615\n",
      "Feature Importance\n",
      "indecis: [ 4 14 12 16 18  3 22  2  6  7 19 10  5  0 21 13 20 17  9 15  1 11  8 23]\n",
      "importances: [0.49981825 0.10587152 0.08858731 0.06314962 0.03752404 0.03603879\n",
      " 0.02725102 0.02655652 0.02070815 0.01772689 0.0157631  0.01188593\n",
      " 0.00613823 0.00588644 0.00584747 0.00515967 0.00492158 0.00443498\n",
      " 0.00419885 0.00390641 0.00345512 0.00191438 0.00172708 0.00152864]\n",
      "features: ['FOOD' 'METL' 'JOBS' 'MSW' 'OZON' 'EUTR' 'VADD' 'ETOX' 'HAPS' 'HAZW'\n",
      " 'PEST' 'HRSP' 'GCC' 'ACID' 'SMOG' 'LAND' 'REN' 'NREN' 'HNC' 'MINE' 'ENRG'\n",
      " 'HTOX' 'HC' 'WATR']\n",
      "\n",
      "\n",
      "cancer type: 71\n",
      "14    Bladder\n",
      "Creating RandomForest Model and Fitting the Data\n"
     ]
    },
    {
     "name": "stderr",
     "output_type": "stream",
     "text": [
      "C:\\Users\\Owner\\Miniconda3\\lib\\site-packages\\ipykernel_launcher.py:64: UserWarning: Matplotlib is currently using module://ipykernel.pylab.backend_inline, which is a non-GUI backend, so cannot show the figure.\n"
     ]
    },
    {
     "name": "stdout",
     "output_type": "stream",
     "text": [
      "score 0.8011482423830124\n",
      "Feature Importance\n",
      "indecis: [ 4 14 16 19 12  6  3  2 18 22  7 10 15 11 21 20 13  1  0 17 23  5  8  9]\n",
      "importances: [0.55135811 0.06724429 0.06609071 0.05015429 0.04470498 0.03556609\n",
      " 0.03230181 0.03229131 0.02233237 0.01843105 0.0151015  0.01318945\n",
      " 0.006881   0.00617966 0.00607378 0.00479829 0.00470753 0.00463081\n",
      " 0.00421516 0.00334088 0.00302277 0.00289131 0.00246962 0.00202323]\n",
      "features: ['FOOD' 'METL' 'MSW' 'PEST' 'JOBS' 'HAPS' 'EUTR' 'ETOX' 'OZON' 'VADD'\n",
      " 'HAZW' 'HRSP' 'MINE' 'HTOX' 'SMOG' 'REN' 'LAND' 'ENRG' 'ACID' 'NREN'\n",
      " 'WATR' 'GCC' 'HC' 'HNC']\n",
      "\n",
      "\n",
      "cancer type: 72\n",
      "15    Kidney & Renal Pelvis\n",
      "Creating RandomForest Model and Fitting the Data\n"
     ]
    },
    {
     "name": "stderr",
     "output_type": "stream",
     "text": [
      "C:\\Users\\Owner\\Miniconda3\\lib\\site-packages\\ipykernel_launcher.py:64: UserWarning: Matplotlib is currently using module://ipykernel.pylab.backend_inline, which is a non-GUI backend, so cannot show the figure.\n"
     ]
    },
    {
     "name": "stdout",
     "output_type": "stream",
     "text": [
      "score 0.8354872092072878\n",
      "Feature Importance\n",
      "indecis: [ 4 14 16 18 12  3  6 19 10  2  7  9 22  0  8 11 13 15 20 17  5  1 23 21]\n",
      "importances: [0.48972325 0.0873466  0.08388119 0.05139157 0.04862811 0.04814452\n",
      " 0.0277745  0.02057214 0.01948727 0.0191473  0.01794372 0.01555213\n",
      " 0.01469553 0.01132121 0.00969141 0.00857405 0.00492904 0.00482082\n",
      " 0.00476545 0.00408909 0.00249811 0.00189316 0.00186762 0.00126219]\n",
      "features: ['FOOD' 'METL' 'MSW' 'OZON' 'JOBS' 'EUTR' 'HAPS' 'PEST' 'HRSP' 'ETOX'\n",
      " 'HAZW' 'HNC' 'VADD' 'ACID' 'HC' 'HTOX' 'LAND' 'MINE' 'REN' 'NREN' 'GCC'\n",
      " 'ENRG' 'WATR' 'SMOG']\n",
      "\n",
      "\n",
      "cancer type: 76\n",
      "16    Brain & ONS\n",
      "Creating RandomForest Model and Fitting the Data\n"
     ]
    },
    {
     "name": "stderr",
     "output_type": "stream",
     "text": [
      "C:\\Users\\Owner\\Miniconda3\\lib\\site-packages\\ipykernel_launcher.py:64: UserWarning: Matplotlib is currently using module://ipykernel.pylab.backend_inline, which is a non-GUI backend, so cannot show the figure.\n"
     ]
    },
    {
     "name": "stdout",
     "output_type": "stream",
     "text": [
      "score 0.8710237010524804\n",
      "Feature Importance\n",
      "indecis: [ 4 14 16 18 12  6  3  7 19  2 22 10  9  0 13 21  5  8 15 20 17 23  1 11]\n",
      "importances: [0.54803445 0.07724507 0.07684965 0.04037301 0.04004722 0.03538869\n",
      " 0.03140465 0.03052772 0.0257242  0.0193566  0.01442389 0.01238514\n",
      " 0.00815594 0.00673491 0.00630916 0.00490509 0.00476215 0.0041067\n",
      " 0.00333106 0.00302168 0.00232552 0.00168154 0.001631   0.00127498]\n",
      "features: ['FOOD' 'METL' 'MSW' 'OZON' 'JOBS' 'HAPS' 'EUTR' 'HAZW' 'PEST' 'ETOX'\n",
      " 'VADD' 'HRSP' 'HNC' 'ACID' 'LAND' 'SMOG' 'GCC' 'HC' 'MINE' 'REN' 'NREN'\n",
      " 'WATR' 'ENRG' 'HTOX']\n",
      "\n",
      "\n",
      "cancer type: 80\n",
      "17    Thyroid\n",
      "Creating RandomForest Model and Fitting the Data\n"
     ]
    },
    {
     "name": "stderr",
     "output_type": "stream",
     "text": [
      "C:\\Users\\Owner\\Miniconda3\\lib\\site-packages\\ipykernel_launcher.py:64: UserWarning: Matplotlib is currently using module://ipykernel.pylab.backend_inline, which is a non-GUI backend, so cannot show the figure.\n"
     ]
    },
    {
     "name": "stdout",
     "output_type": "stream",
     "text": [
      "score 0.8084699123286511\n",
      "Feature Importance\n",
      "indecis: [ 4 12 14 16 18 19 22  6 10  3  2  5  7 13  0 15 17 20  1 23 11 21  9  8]\n",
      "importances: [0.49613054 0.10757111 0.09026756 0.06825287 0.03766459 0.0337733\n",
      " 0.02245251 0.02234684 0.01706906 0.01697346 0.01600192 0.01118489\n",
      " 0.01090208 0.01056531 0.00976093 0.00635992 0.00495501 0.00344751\n",
      " 0.00331221 0.00291483 0.00236834 0.00220099 0.00196822 0.001556  ]\n",
      "features: ['FOOD' 'JOBS' 'METL' 'MSW' 'OZON' 'PEST' 'VADD' 'HAPS' 'HRSP' 'EUTR'\n",
      " 'ETOX' 'GCC' 'HAZW' 'LAND' 'ACID' 'MINE' 'NREN' 'REN' 'ENRG' 'WATR'\n",
      " 'HTOX' 'SMOG' 'HNC' 'HC']\n",
      "\n",
      "\n",
      "cancer type: 86\n",
      "18    Non-Hodgkin Lymphoma\n",
      "Creating RandomForest Model and Fitting the Data\n"
     ]
    },
    {
     "name": "stderr",
     "output_type": "stream",
     "text": [
      "C:\\Users\\Owner\\Miniconda3\\lib\\site-packages\\ipykernel_launcher.py:64: UserWarning: Matplotlib is currently using module://ipykernel.pylab.backend_inline, which is a non-GUI backend, so cannot show the figure.\n"
     ]
    },
    {
     "name": "stdout",
     "output_type": "stream",
     "text": [
      "score 0.8383791032061453\n",
      "Feature Importance\n",
      "indecis: [ 4 14 12 19  2 16 18 10  3  7 22  6  0  8 15  9 11 13 20 17  1 23  5 21]\n",
      "importances: [0.5131443  0.08222844 0.07870745 0.0554744  0.05271929 0.05118865\n",
      " 0.02834126 0.02005837 0.01961058 0.01904013 0.01744244 0.01362788\n",
      " 0.00963924 0.0056369  0.00525059 0.00438462 0.00438304 0.00380862\n",
      " 0.0037319  0.00357039 0.00298572 0.00210909 0.00184424 0.00107247]\n",
      "features: ['FOOD' 'METL' 'JOBS' 'PEST' 'ETOX' 'MSW' 'OZON' 'HRSP' 'EUTR' 'HAZW'\n",
      " 'VADD' 'HAPS' 'ACID' 'HC' 'MINE' 'HNC' 'HTOX' 'LAND' 'REN' 'NREN' 'ENRG'\n",
      " 'WATR' 'GCC' 'SMOG']\n",
      "\n",
      "\n",
      "cancer type: 90\n",
      "19    Leukemia\n",
      "Creating RandomForest Model and Fitting the Data\n"
     ]
    },
    {
     "name": "stderr",
     "output_type": "stream",
     "text": [
      "C:\\Users\\Owner\\Miniconda3\\lib\\site-packages\\ipykernel_launcher.py:64: UserWarning: Matplotlib is currently using module://ipykernel.pylab.backend_inline, which is a non-GUI backend, so cannot show the figure.\n"
     ]
    },
    {
     "name": "stdout",
     "output_type": "stream",
     "text": [
      "score 0.8223895592294637\n",
      "Feature Importance\n",
      "indecis: [ 4 14 16  2 12  3 19 18  7  6 22 10 13  0  8 20 15  9  1 17 21 23 11  5]\n",
      "importances: [0.48407643 0.10579288 0.08235912 0.04988203 0.0477492  0.04266444\n",
      " 0.03983268 0.03365719 0.0191567  0.01650073 0.01541509 0.01113323\n",
      " 0.00809854 0.00713425 0.00616829 0.00562745 0.00505337 0.00418207\n",
      " 0.00399873 0.00326638 0.00263395 0.002208   0.00176997 0.00163929]\n",
      "features: ['FOOD' 'METL' 'MSW' 'ETOX' 'JOBS' 'EUTR' 'PEST' 'OZON' 'HAZW' 'HAPS'\n",
      " 'VADD' 'HRSP' 'LAND' 'ACID' 'HC' 'REN' 'MINE' 'HNC' 'ENRG' 'NREN' 'SMOG'\n",
      " 'WATR' 'HTOX' 'GCC']\n",
      "\n",
      "\n",
      "cancer type: 400\n",
      "20    Breast (in situ) (Female)\n",
      "Creating RandomForest Model and Fitting the Data\n"
     ]
    },
    {
     "name": "stderr",
     "output_type": "stream",
     "text": [
      "C:\\Users\\Owner\\Miniconda3\\lib\\site-packages\\ipykernel_launcher.py:64: UserWarning: Matplotlib is currently using module://ipykernel.pylab.backend_inline, which is a non-GUI backend, so cannot show the figure.\n"
     ]
    },
    {
     "name": "stdout",
     "output_type": "stream",
     "text": [
      "score 0.911648172753528\n",
      "Feature Importance\n",
      "indecis: [ 4 12 14 16 19  2 18  3 22  7 10  6 13 11 17  0 15  5 21  9 20 23  1  8]\n",
      "importances: [0.4721403  0.18736658 0.07525869 0.05102191 0.04866656 0.02903994\n",
      " 0.02166214 0.01819788 0.01710865 0.01113388 0.01071758 0.01051095\n",
      " 0.00698594 0.00571534 0.0051237  0.00483841 0.00435769 0.00425092\n",
      " 0.00398644 0.00394029 0.00272423 0.00196559 0.00194713 0.00133926]\n",
      "features: ['FOOD' 'JOBS' 'METL' 'MSW' 'PEST' 'ETOX' 'OZON' 'EUTR' 'VADD' 'HAZW'\n",
      " 'HRSP' 'HAPS' 'LAND' 'HTOX' 'NREN' 'ACID' 'MINE' 'GCC' 'SMOG' 'HNC' 'REN'\n",
      " 'WATR' 'ENRG' 'HC']\n",
      "\n",
      "\n",
      "cancer type: 515\n",
      "21    Childhood (Ages <20, All Sites)\n",
      "Creating RandomForest Model and Fitting the Data\n"
     ]
    },
    {
     "name": "stderr",
     "output_type": "stream",
     "text": [
      "C:\\Users\\Owner\\Miniconda3\\lib\\site-packages\\ipykernel_launcher.py:57: RuntimeWarning: More than 20 figures have been opened. Figures created through the pyplot interface (`matplotlib.pyplot.figure`) are retained until explicitly closed and may consume too much memory. (To control this warning, see the rcParam `figure.max_open_warning`).\n",
      "C:\\Users\\Owner\\Miniconda3\\lib\\site-packages\\ipykernel_launcher.py:64: UserWarning: Matplotlib is currently using module://ipykernel.pylab.backend_inline, which is a non-GUI backend, so cannot show the figure.\n"
     ]
    },
    {
     "name": "stdout",
     "output_type": "stream",
     "text": [
      "score 0.8303687000559623\n",
      "Feature Importance\n",
      "indecis: [ 4 18 14 16 12  3  7  6 10 22  2  9  0 19  5  8 13 17 11 21 15  1 20 23]\n",
      "importances: [0.33720183 0.11372439 0.10704326 0.09012143 0.06288877 0.05426452\n",
      " 0.04359282 0.04338026 0.0222134  0.02115656 0.01644999 0.01632563\n",
      " 0.01383958 0.00911485 0.00852851 0.00712701 0.00606957 0.00574426\n",
      " 0.00542412 0.00391511 0.00378051 0.00309822 0.00286309 0.00213233]\n",
      "features: ['FOOD' 'OZON' 'METL' 'MSW' 'JOBS' 'EUTR' 'HAZW' 'HAPS' 'HRSP' 'VADD'\n",
      " 'ETOX' 'HNC' 'ACID' 'PEST' 'GCC' 'HC' 'LAND' 'NREN' 'HTOX' 'SMOG' 'MINE'\n",
      " 'ENRG' 'REN' 'WATR']\n",
      "\n",
      "\n",
      "cancer type: 516\n",
      "22    Childhood (Ages <15, All Sites)\n",
      "Creating RandomForest Model and Fitting the Data\n"
     ]
    },
    {
     "name": "stderr",
     "output_type": "stream",
     "text": [
      "C:\\Users\\Owner\\Miniconda3\\lib\\site-packages\\ipykernel_launcher.py:57: RuntimeWarning: More than 20 figures have been opened. Figures created through the pyplot interface (`matplotlib.pyplot.figure`) are retained until explicitly closed and may consume too much memory. (To control this warning, see the rcParam `figure.max_open_warning`).\n",
      "C:\\Users\\Owner\\Miniconda3\\lib\\site-packages\\ipykernel_launcher.py:64: UserWarning: Matplotlib is currently using module://ipykernel.pylab.backend_inline, which is a non-GUI backend, so cannot show the figure.\n"
     ]
    },
    {
     "name": "stdout",
     "output_type": "stream",
     "text": [
      "score 0.8439563831043835\n",
      "Feature Importance\n",
      "indecis: [ 4 14 16 18  3 12  6  7 22  9 10  8 19  2  0  5 13 15 11 17  1 21 20 23]\n",
      "importances: [0.30995978 0.13541334 0.11385136 0.09897329 0.07655201 0.05574552\n",
      " 0.03267651 0.02705522 0.02260869 0.02009646 0.01920768 0.01509498\n",
      " 0.01121072 0.0095418  0.00905672 0.00845367 0.00686198 0.00599\n",
      " 0.00542752 0.00528734 0.0034682  0.00287204 0.00250581 0.00208936]\n",
      "features: ['FOOD' 'METL' 'MSW' 'OZON' 'EUTR' 'JOBS' 'HAPS' 'HAZW' 'VADD' 'HNC'\n",
      " 'HRSP' 'HC' 'PEST' 'ETOX' 'ACID' 'GCC' 'LAND' 'MINE' 'HTOX' 'NREN' 'ENRG'\n",
      " 'SMOG' 'REN' 'WATR']\n",
      "\n",
      "\n",
      "Average score: 0.8402658101404618\n"
     ]
    },
    {
     "name": "stderr",
     "output_type": "stream",
     "text": [
      "C:\\Users\\Owner\\Miniconda3\\lib\\site-packages\\ipykernel_launcher.py:57: RuntimeWarning: More than 20 figures have been opened. Figures created through the pyplot interface (`matplotlib.pyplot.figure`) are retained until explicitly closed and may consume too much memory. (To control this warning, see the rcParam `figure.max_open_warning`).\n",
      "C:\\Users\\Owner\\Miniconda3\\lib\\site-packages\\ipykernel_launcher.py:64: UserWarning: Matplotlib is currently using module://ipykernel.pylab.backend_inline, which is a non-GUI backend, so cannot show the figure.\n"
     ]
    },
    {
     "data": {
      "image/png": "[encoded data removed]",
      "text/plain": [
       "<Figure size 216x108 with 1 Axes>"
      ]
     },
     "metadata": {
      "needs_background": "light"
     },
     "output_type": "display_data"
    },
    {
     "data": {
      "image/png": "[encoded data removed]",
      "text/plain": [
       "<Figure size 216x108 with 1 Axes>"
      ]
     },
     "metadata": {
      "needs_background": "light"
     },
     "output_type": "display_data"
    },
    {
     "data": {
      "image/png": "[encoded data removed]",
      "text/plain": [
       "<Figure size 216x108 with 1 Axes>"
      ]
     },
     "metadata": {
      "needs_background": "light"
     },
     "output_type": "display_data"
    },
    {
     "data": {
      "image/png": "[encoded data removed]",
      "text/plain": [
       "<Figure size 216x108 with 1 Axes>"
      ]
     },
     "metadata": {
      "needs_background": "light"
     },
     "output_type": "display_data"
    },
    {
     "data": {
      "image/png": "[encoded data removed]",
      "text/plain": [
       "<Figure size 216x108 with 1 Axes>"
      ]
     },
     "metadata": {
      "needs_background": "light"
     },
     "output_type": "display_data"
    },
    {
     "data": {
      "image/png": "[encoded data removed]",
      "text/plain": [
       "<Figure size 216x108 with 1 Axes>"
      ]
     },
     "metadata": {
      "needs_background": "light"
     },
     "output_type": "display_data"
    },
    {
     "data": {
      "image/png": "[encoded data removed]",
      "text/plain": [
       "<Figure size 216x108 with 1 Axes>"
      ]
     },
     "metadata": {
      "needs_background": "light"
     },
     "output_type": "display_data"
    },
    {
     "data": {
      "image/png": "[encoded data removed]",
      "text/plain": [
       "<Figure size 216x108 with 1 Axes>"
      ]
     },
     "metadata": {
      "needs_background": "light"
     },
     "output_type": "display_data"
    },
    {
     "data": {
      "image/png": "[encoded data removed]",
      "text/plain": [
       "<Figure size 216x108 with 1 Axes>"
      ]
     },
     "metadata": {
      "needs_background": "light"
     },
     "output_type": "display_data"
    },
    {
     "data": {
      "image/png": "[encoded data removed]",
      "text/plain": [
       "<Figure size 216x108 with 1 Axes>"
      ]
     },
     "metadata": {
      "needs_background": "light"
     },
     "output_type": "display_data"
    },
    {
     "data": {
      "image/png": "[encoded data removed]",
      "text/plain": [
       "<Figure size 216x108 with 1 Axes>"
      ]
     },
     "metadata": {
      "needs_background": "light"
     },
     "output_type": "display_data"
    },
    {
     "data": {
      "image/png": "[encoded data removed]",
      "text/plain": [
       "<Figure size 216x108 with 1 Axes>"
      ]
     },
     "metadata": {
      "needs_background": "light"
     },
     "output_type": "display_data"
    },
    {
     "data": {
      "image/png": "[encoded data removed]",
      "text/plain": [
       "<Figure size 216x108 with 1 Axes>"
      ]
     },
     "metadata": {
      "needs_background": "light"
     },
     "output_type": "display_data"
    },
    {
     "data": {
      "image/png": "[encoded data removed]",
      "text/plain": [
       "<Figure size 216x108 with 1 Axes>"
      ]
     },
     "metadata": {
      "needs_background": "light"
     },
     "output_type": "display_data"
    },
    {
     "data": {
      "image/png": "[encoded data removed]",
      "text/plain": [
       "<Figure size 216x108 with 1 Axes>"
      ]
     },
     "metadata": {
      "needs_background": "light"
     },
     "output_type": "display_data"
    },
    {
     "data": {
      "image/png": "[encoded data removed]",
      "text/plain": [
       "<Figure size 216x108 with 1 Axes>"
      ]
     },
     "metadata": {
      "needs_background": "light"
     },
     "output_type": "display_data"
    },
    {
     "data": {
      "image/png": "[encoded data removed]",
      "text/plain": [
       "<Figure size 216x108 with 1 Axes>"
      ]
     },
     "metadata": {
      "needs_background": "light"
     },
     "output_type": "display_data"
    },
    {
     "data": {
      "image/png": "[encoded data removed]",
      "text/plain": [
       "<Figure size 216x108 with 1 Axes>"
      ]
     },
     "metadata": {
      "needs_background": "light"
     },
     "output_type": "display_data"
    },
    {
     "data": {
      "image/png": "[encoded data removed]",
      "text/plain": [
       "<Figure size 216x108 with 1 Axes>"
      ]
     },
     "metadata": {
      "needs_background": "light"
     },
     "output_type": "display_data"
    },
    {
     "data": {
      "image/png": "[encoded data removed]",
      "text/plain": [
       "<Figure size 216x108 with 1 Axes>"
      ]
     },
     "metadata": {
      "needs_background": "light"
     },
     "output_type": "display_data"
    },
    {
     "data": {
      "image/png": "[encoded data removed]",
      "text/plain": [
       "<Figure size 216x108 with 1 Axes>"
      ]
     },
     "metadata": {
      "needs_background": "light"
     },
     "output_type": "display_data"
    },
    {
     "data": {
      "image/png": "[encoded data removed]",
      "text/plain": [
       "<Figure size 216x108 with 1 Axes>"
      ]
     },
     "metadata": {
      "needs_background": "light"
     },
     "output_type": "display_data"
    },
    {
     "data": {
      "image/png": "[encoded data removed]",
      "text/plain": [
       "<Figure size 216x108 with 1 Axes>"
      ]
     },
     "metadata": {
      "needs_background": "light"
     },
     "output_type": "display_data"
    }
   ],
   "source": [
    "sum1 = 0\n",
    "\n",
    "for i in cancerVals:\n",
    "    #print cancer type number\n",
    "    print(\"cancer type:\",i)\n",
    "    \n",
    "    #print cancer description\n",
    "    cancer=cancerTypes[\"cancer\"]==i\n",
    "    discr=cancerTypes[cancer][\"cancer_description\"].to_string()\n",
    "    print(discr)\n",
    "    \n",
    "    #selecting data for the specific cancer type\n",
    "    cancerData=data[\"cancer\"]==i\n",
    "    newData=data[cancerData]\n",
    "    \n",
    "    #splitting to test and train\n",
    "    #x1=newData[['FOOD','ETOX',\"JOBS\",\"METL\",\"MSW\"]]\n",
    "    x1=newData.loc[:, 'ACID':'WATR']\n",
    "    y = newData['annual_count_avg']\n",
    "\n",
    "    X_train1, X_test1, y_train, y_test = train_test_split(x1, y,\n",
    "                                                        test_size=0.3,\n",
    "                                                        random_state = RSEED)\n",
    "\n",
    "    scaler = StandardScaler()\n",
    "    scaler.fit(X_train1)\n",
    "\n",
    "    X_train = scaler.transform(X_train1)\n",
    "    X_test = scaler.transform(X_test1)\n",
    "    \n",
    "    #Creating RandomForest Model\n",
    "    print(\"Creating RandomForest Model and Fitting the Data\")\n",
    "    rf = RandomForestRegressor(n_estimators = 100,\n",
    "                                      max_depth= 8, \n",
    "                                      random_state = RSEED)\n",
    "\n",
    "    # Fit on training data\n",
    "    rf.fit(X_train, y_train)\n",
    "    \n",
    "    #Evaluation\n",
    "    r2_score=rf.score(X_test, y_test)\n",
    "    print(\"score\",r2_score)\n",
    "    sum1 += r2_score\n",
    "\n",
    "    #Feature Importance\n",
    "    print(\"Feature Importance\")\n",
    "    features=rf.feature_importances_\n",
    "    #print(features)\n",
    "    ind = np.argsort(features)[::-1]\n",
    "    print(\"indecis:\",ind)\n",
    "    imp = features[ind]\n",
    "    print(\"importances:\",imp)\n",
    "    cols =factors[ind]\n",
    "    print(\"features:\",cols)\n",
    "    \n",
    "    #plot the importance factors\n",
    "    fig=plt.figure(figsize=(3,1.5))\n",
    "    ax = fig.add_axes([0,0,1,1])\n",
    "    ax.set_title('Feature Importance for {}'.format(discr))\n",
    "    ax.bar( cols[:5].tolist(),imp[:5].tolist())\n",
    "    ax.set_ylabel(\"Coefficient Strength\")\n",
    "    ax.set_xlabel(\"Feature\")\n",
    "    plt.ylim(0, 1)\n",
    "    fig.show()\n",
    "    print(\"\\n\")\n",
    "\n",
    "print(f\"Average score: {sum1/len(cancerVals)}\")"
   ]
  },
  {
   "cell_type": "markdown",
   "metadata": {},
   "source": [
    "# Logistic Regression"
   ]
  },
  {
   "cell_type": "markdown",
   "metadata": {},
   "source": [
    "## Hypertuning"
   ]
  },
  {
   "cell_type": "code",
   "execution_count": 12,
   "metadata": {},
   "outputs": [
    {
     "name": "stdout",
     "output_type": "stream",
     "text": [
      "XTrain (2193, 24)\n",
      "XTest (940, 24)\n"
     ]
    }
   ],
   "source": [
    "cancerData=data[\"cancer\"]==1\n",
    "newData=data[cancerData]    \n",
    "\n",
    "#splitting to test and train\n",
    "x1=newData.loc[:, 'ACID':'WATR']\n",
    "y = newData['annual_count_avg']\n",
    "\n",
    "X_train1, X_test1, y_train, y_test = train_test_split(x1, y,\n",
    "                                                    test_size=0.3,\n",
    "                                                    random_state = RSEED)\n",
    "scaler = StandardScaler()\n",
    "scaler.fit(X_train1)\n",
    "\n",
    "X_train = scaler.transform(X_train1)\n",
    "X_test = scaler.transform(X_test1)\n",
    "\n",
    "print(\"XTrain\",X_train.shape)\n",
    "print(\"XTest\",X_test.shape)"
   ]
  },
  {
   "cell_type": "code",
   "execution_count": 183,
   "metadata": {},
   "outputs": [
    {
     "name": "stderr",
     "output_type": "stream",
     "text": [
      "C:\\Users\\Owner\\Miniconda3\\lib\\site-packages\\sklearn\\model_selection\\_validation.py:536: FitFailedWarning: Estimator fit failed. The score on this train-test partition for these parameters will be set to nan. Details: \n",
      "ValueError: Unknown label type: 'continuous'\n",
      "\n",
      "  FitFailedWarning)\n",
      "C:\\Users\\Owner\\Miniconda3\\lib\\site-packages\\sklearn\\model_selection\\_validation.py:536: FitFailedWarning: Estimator fit failed. The score on this train-test partition for these parameters will be set to nan. Details: \n",
      "ValueError: Unknown label type: 'continuous'\n",
      "\n",
      "  FitFailedWarning)\n",
      "C:\\Users\\Owner\\Miniconda3\\lib\\site-packages\\sklearn\\model_selection\\_validation.py:536: FitFailedWarning: Estimator fit failed. The score on this train-test partition for these parameters will be set to nan. Details: \n",
      "ValueError: Unknown label type: 'continuous'\n",
      "\n",
      "  FitFailedWarning)\n",
      "C:\\Users\\Owner\\Miniconda3\\lib\\site-packages\\sklearn\\model_selection\\_validation.py:536: FitFailedWarning: Estimator fit failed. The score on this train-test partition for these parameters will be set to nan. Details: \n",
      "ValueError: Unknown label type: 'continuous'\n",
      "\n",
      "  FitFailedWarning)\n",
      "C:\\Users\\Owner\\Miniconda3\\lib\\site-packages\\sklearn\\model_selection\\_validation.py:536: FitFailedWarning: Estimator fit failed. The score on this train-test partition for these parameters will be set to nan. Details: \n",
      "ValueError: Unknown label type: 'continuous'\n",
      "\n",
      "  FitFailedWarning)\n",
      "C:\\Users\\Owner\\Miniconda3\\lib\\site-packages\\sklearn\\model_selection\\_validation.py:536: FitFailedWarning: Estimator fit failed. The score on this train-test partition for these parameters will be set to nan. Details: \n",
      "ValueError: Unknown label type: 'continuous'\n",
      "\n",
      "  FitFailedWarning)\n",
      "C:\\Users\\Owner\\Miniconda3\\lib\\site-packages\\sklearn\\model_selection\\_validation.py:536: FitFailedWarning: Estimator fit failed. The score on this train-test partition for these parameters will be set to nan. Details: \n",
      "ValueError: Unknown label type: 'continuous'\n",
      "\n",
      "  FitFailedWarning)\n",
      "C:\\Users\\Owner\\Miniconda3\\lib\\site-packages\\sklearn\\model_selection\\_validation.py:536: FitFailedWarning: Estimator fit failed. The score on this train-test partition for these parameters will be set to nan. Details: \n",
      "ValueError: Unknown label type: 'continuous'\n",
      "\n",
      "  FitFailedWarning)\n",
      "C:\\Users\\Owner\\Miniconda3\\lib\\site-packages\\sklearn\\model_selection\\_validation.py:536: FitFailedWarning: Estimator fit failed. The score on this train-test partition for these parameters will be set to nan. Details: \n",
      "ValueError: Unknown label type: 'continuous'\n",
      "\n",
      "  FitFailedWarning)\n",
      "C:\\Users\\Owner\\Miniconda3\\lib\\site-packages\\sklearn\\model_selection\\_validation.py:536: FitFailedWarning: Estimator fit failed. The score on this train-test partition for these parameters will be set to nan. Details: \n",
      "ValueError: Unknown label type: 'continuous'\n",
      "\n",
      "  FitFailedWarning)\n",
      "C:\\Users\\Owner\\Miniconda3\\lib\\site-packages\\sklearn\\model_selection\\_validation.py:536: FitFailedWarning: Estimator fit failed. The score on this train-test partition for these parameters will be set to nan. Details: \n",
      "ValueError: Unknown label type: 'continuous'\n",
      "\n",
      "  FitFailedWarning)\n",
      "C:\\Users\\Owner\\Miniconda3\\lib\\site-packages\\sklearn\\model_selection\\_validation.py:536: FitFailedWarning: Estimator fit failed. The score on this train-test partition for these parameters will be set to nan. Details: \n",
      "ValueError: Unknown label type: 'continuous'\n",
      "\n",
      "  FitFailedWarning)\n",
      "C:\\Users\\Owner\\Miniconda3\\lib\\site-packages\\sklearn\\model_selection\\_validation.py:536: FitFailedWarning: Estimator fit failed. The score on this train-test partition for these parameters will be set to nan. Details: \n",
      "ValueError: Unknown label type: 'continuous'\n",
      "\n",
      "  FitFailedWarning)\n",
      "C:\\Users\\Owner\\Miniconda3\\lib\\site-packages\\sklearn\\model_selection\\_validation.py:536: FitFailedWarning: Estimator fit failed. The score on this train-test partition for these parameters will be set to nan. Details: \n",
      "ValueError: Unknown label type: 'continuous'\n",
      "\n",
      "  FitFailedWarning)\n",
      "C:\\Users\\Owner\\Miniconda3\\lib\\site-packages\\sklearn\\model_selection\\_validation.py:536: FitFailedWarning: Estimator fit failed. The score on this train-test partition for these parameters will be set to nan. Details: \n",
      "ValueError: Unknown label type: 'continuous'\n",
      "\n",
      "  FitFailedWarning)\n",
      "C:\\Users\\Owner\\Miniconda3\\lib\\site-packages\\sklearn\\model_selection\\_validation.py:536: FitFailedWarning: Estimator fit failed. The score on this train-test partition for these parameters will be set to nan. Details: \n",
      "ValueError: Unknown label type: 'continuous'\n",
      "\n",
      "  FitFailedWarning)\n",
      "C:\\Users\\Owner\\Miniconda3\\lib\\site-packages\\sklearn\\model_selection\\_validation.py:536: FitFailedWarning: Estimator fit failed. The score on this train-test partition for these parameters will be set to nan. Details: \n",
      "ValueError: Unknown label type: 'continuous'\n",
      "\n",
      "  FitFailedWarning)\n",
      "C:\\Users\\Owner\\Miniconda3\\lib\\site-packages\\sklearn\\model_selection\\_validation.py:536: FitFailedWarning: Estimator fit failed. The score on this train-test partition for these parameters will be set to nan. Details: \n",
      "ValueError: Unknown label type: 'continuous'\n",
      "\n",
      "  FitFailedWarning)\n",
      "C:\\Users\\Owner\\Miniconda3\\lib\\site-packages\\sklearn\\model_selection\\_validation.py:536: FitFailedWarning: Estimator fit failed. The score on this train-test partition for these parameters will be set to nan. Details: \n",
      "ValueError: Unknown label type: 'continuous'\n",
      "\n",
      "  FitFailedWarning)\n",
      "C:\\Users\\Owner\\Miniconda3\\lib\\site-packages\\sklearn\\model_selection\\_validation.py:536: FitFailedWarning: Estimator fit failed. The score on this train-test partition for these parameters will be set to nan. Details: \n",
      "ValueError: Unknown label type: 'continuous'\n",
      "\n",
      "  FitFailedWarning)\n",
      "C:\\Users\\Owner\\Miniconda3\\lib\\site-packages\\sklearn\\model_selection\\_validation.py:536: FitFailedWarning: Estimator fit failed. The score on this train-test partition for these parameters will be set to nan. Details: \n",
      "ValueError: Unknown label type: 'continuous'\n",
      "\n",
      "  FitFailedWarning)\n",
      "C:\\Users\\Owner\\Miniconda3\\lib\\site-packages\\sklearn\\model_selection\\_validation.py:536: FitFailedWarning: Estimator fit failed. The score on this train-test partition for these parameters will be set to nan. Details: \n",
      "ValueError: Unknown label type: 'continuous'\n",
      "\n",
      "  FitFailedWarning)\n",
      "C:\\Users\\Owner\\Miniconda3\\lib\\site-packages\\sklearn\\model_selection\\_validation.py:536: FitFailedWarning: Estimator fit failed. The score on this train-test partition for these parameters will be set to nan. Details: \n",
      "ValueError: Unknown label type: 'continuous'\n",
      "\n",
      "  FitFailedWarning)\n",
      "C:\\Users\\Owner\\Miniconda3\\lib\\site-packages\\sklearn\\model_selection\\_validation.py:536: FitFailedWarning: Estimator fit failed. The score on this train-test partition for these parameters will be set to nan. Details: \n",
      "ValueError: Unknown label type: 'continuous'\n",
      "\n",
      "  FitFailedWarning)\n",
      "C:\\Users\\Owner\\Miniconda3\\lib\\site-packages\\sklearn\\model_selection\\_validation.py:536: FitFailedWarning: Estimator fit failed. The score on this train-test partition for these parameters will be set to nan. Details: \n",
      "ValueError: Unknown label type: 'continuous'\n",
      "\n",
      "  FitFailedWarning)\n",
      "C:\\Users\\Owner\\Miniconda3\\lib\\site-packages\\sklearn\\model_selection\\_validation.py:536: FitFailedWarning: Estimator fit failed. The score on this train-test partition for these parameters will be set to nan. Details: \n",
      "ValueError: Unknown label type: 'continuous'\n",
      "\n",
      "  FitFailedWarning)\n",
      "C:\\Users\\Owner\\Miniconda3\\lib\\site-packages\\sklearn\\model_selection\\_validation.py:536: FitFailedWarning: Estimator fit failed. The score on this train-test partition for these parameters will be set to nan. Details: \n",
      "ValueError: Unknown label type: 'continuous'\n",
      "\n",
      "  FitFailedWarning)\n",
      "C:\\Users\\Owner\\Miniconda3\\lib\\site-packages\\sklearn\\model_selection\\_validation.py:536: FitFailedWarning: Estimator fit failed. The score on this train-test partition for these parameters will be set to nan. Details: \n",
      "ValueError: Unknown label type: 'continuous'\n",
      "\n",
      "  FitFailedWarning)\n",
      "C:\\Users\\Owner\\Miniconda3\\lib\\site-packages\\sklearn\\model_selection\\_validation.py:536: FitFailedWarning: Estimator fit failed. The score on this train-test partition for these parameters will be set to nan. Details: \n",
      "ValueError: Unknown label type: 'continuous'\n",
      "\n",
      "  FitFailedWarning)\n",
      "C:\\Users\\Owner\\Miniconda3\\lib\\site-packages\\sklearn\\model_selection\\_validation.py:536: FitFailedWarning: Estimator fit failed. The score on this train-test partition for these parameters will be set to nan. Details: \n",
      "ValueError: Unknown label type: 'continuous'\n",
      "\n",
      "  FitFailedWarning)\n",
      "C:\\Users\\Owner\\Miniconda3\\lib\\site-packages\\sklearn\\model_selection\\_validation.py:536: FitFailedWarning: Estimator fit failed. The score on this train-test partition for these parameters will be set to nan. Details: \n",
      "ValueError: Unknown label type: 'continuous'\n",
      "\n",
      "  FitFailedWarning)\n",
      "C:\\Users\\Owner\\Miniconda3\\lib\\site-packages\\sklearn\\model_selection\\_validation.py:536: FitFailedWarning: Estimator fit failed. The score on this train-test partition for these parameters will be set to nan. Details: \n",
      "ValueError: Unknown label type: 'continuous'\n",
      "\n",
      "  FitFailedWarning)\n",
      "C:\\Users\\Owner\\Miniconda3\\lib\\site-packages\\sklearn\\model_selection\\_validation.py:536: FitFailedWarning: Estimator fit failed. The score on this train-test partition for these parameters will be set to nan. Details: \n",
      "ValueError: Unknown label type: 'continuous'\n",
      "\n",
      "  FitFailedWarning)\n",
      "C:\\Users\\Owner\\Miniconda3\\lib\\site-packages\\sklearn\\model_selection\\_validation.py:536: FitFailedWarning: Estimator fit failed. The score on this train-test partition for these parameters will be set to nan. Details: \n",
      "ValueError: Unknown label type: 'continuous'\n",
      "\n",
      "  FitFailedWarning)\n",
      "C:\\Users\\Owner\\Miniconda3\\lib\\site-packages\\sklearn\\model_selection\\_validation.py:536: FitFailedWarning: Estimator fit failed. The score on this train-test partition for these parameters will be set to nan. Details: \n",
      "ValueError: Unknown label type: 'continuous'\n",
      "\n",
      "  FitFailedWarning)\n",
      "C:\\Users\\Owner\\Miniconda3\\lib\\site-packages\\sklearn\\model_selection\\_validation.py:536: FitFailedWarning: Estimator fit failed. The score on this train-test partition for these parameters will be set to nan. Details: \n",
      "ValueError: Unknown label type: 'continuous'\n",
      "\n",
      "  FitFailedWarning)\n",
      "C:\\Users\\Owner\\Miniconda3\\lib\\site-packages\\sklearn\\model_selection\\_validation.py:536: FitFailedWarning: Estimator fit failed. The score on this train-test partition for these parameters will be set to nan. Details: \n",
      "ValueError: Unknown label type: 'continuous'\n",
      "\n",
      "  FitFailedWarning)\n",
      "C:\\Users\\Owner\\Miniconda3\\lib\\site-packages\\sklearn\\model_selection\\_validation.py:536: FitFailedWarning: Estimator fit failed. The score on this train-test partition for these parameters will be set to nan. Details: \n",
      "ValueError: Unknown label type: 'continuous'\n",
      "\n",
      "  FitFailedWarning)\n",
      "C:\\Users\\Owner\\Miniconda3\\lib\\site-packages\\sklearn\\model_selection\\_validation.py:536: FitFailedWarning: Estimator fit failed. The score on this train-test partition for these parameters will be set to nan. Details: \n",
      "ValueError: Unknown label type: 'continuous'\n",
      "\n",
      "  FitFailedWarning)\n",
      "C:\\Users\\Owner\\Miniconda3\\lib\\site-packages\\sklearn\\model_selection\\_validation.py:536: FitFailedWarning: Estimator fit failed. The score on this train-test partition for these parameters will be set to nan. Details: \n",
      "ValueError: Unknown label type: 'continuous'\n",
      "\n",
      "  FitFailedWarning)\n",
      "C:\\Users\\Owner\\Miniconda3\\lib\\site-packages\\sklearn\\model_selection\\_validation.py:536: FitFailedWarning: Estimator fit failed. The score on this train-test partition for these parameters will be set to nan. Details: \n",
      "ValueError: Unknown label type: 'continuous'\n",
      "\n",
      "  FitFailedWarning)\n",
      "C:\\Users\\Owner\\Miniconda3\\lib\\site-packages\\sklearn\\model_selection\\_validation.py:536: FitFailedWarning: Estimator fit failed. The score on this train-test partition for these parameters will be set to nan. Details: \n",
      "ValueError: Unknown label type: 'continuous'\n",
      "\n",
      "  FitFailedWarning)\n",
      "C:\\Users\\Owner\\Miniconda3\\lib\\site-packages\\sklearn\\model_selection\\_validation.py:536: FitFailedWarning: Estimator fit failed. The score on this train-test partition for these parameters will be set to nan. Details: \n",
      "ValueError: Unknown label type: 'continuous'\n",
      "\n",
      "  FitFailedWarning)\n",
      "C:\\Users\\Owner\\Miniconda3\\lib\\site-packages\\sklearn\\model_selection\\_validation.py:536: FitFailedWarning: Estimator fit failed. The score on this train-test partition for these parameters will be set to nan. Details: \n",
      "ValueError: Unknown label type: 'continuous'\n",
      "\n",
      "  FitFailedWarning)\n",
      "C:\\Users\\Owner\\Miniconda3\\lib\\site-packages\\sklearn\\model_selection\\_validation.py:536: FitFailedWarning: Estimator fit failed. The score on this train-test partition for these parameters will be set to nan. Details: \n",
      "ValueError: Unknown label type: 'continuous'\n",
      "\n",
      "  FitFailedWarning)\n",
      "C:\\Users\\Owner\\Miniconda3\\lib\\site-packages\\sklearn\\model_selection\\_validation.py:536: FitFailedWarning: Estimator fit failed. The score on this train-test partition for these parameters will be set to nan. Details: \n",
      "ValueError: Unknown label type: 'continuous'\n",
      "\n",
      "  FitFailedWarning)\n",
      "C:\\Users\\Owner\\Miniconda3\\lib\\site-packages\\sklearn\\model_selection\\_validation.py:536: FitFailedWarning: Estimator fit failed. The score on this train-test partition for these parameters will be set to nan. Details: \n",
      "ValueError: Unknown label type: 'continuous'\n",
      "\n",
      "  FitFailedWarning)\n",
      "C:\\Users\\Owner\\Miniconda3\\lib\\site-packages\\sklearn\\model_selection\\_validation.py:536: FitFailedWarning: Estimator fit failed. The score on this train-test partition for these parameters will be set to nan. Details: \n",
      "ValueError: Unknown label type: 'continuous'\n",
      "\n",
      "  FitFailedWarning)\n",
      "C:\\Users\\Owner\\Miniconda3\\lib\\site-packages\\sklearn\\model_selection\\_validation.py:536: FitFailedWarning: Estimator fit failed. The score on this train-test partition for these parameters will be set to nan. Details: \n",
      "ValueError: Unknown label type: 'continuous'\n",
      "\n",
      "  FitFailedWarning)\n",
      "C:\\Users\\Owner\\Miniconda3\\lib\\site-packages\\sklearn\\model_selection\\_validation.py:536: FitFailedWarning: Estimator fit failed. The score on this train-test partition for these parameters will be set to nan. Details: \n",
      "ValueError: Unknown label type: 'continuous'\n",
      "\n",
      "  FitFailedWarning)\n",
      "C:\\Users\\Owner\\Miniconda3\\lib\\site-packages\\sklearn\\model_selection\\_validation.py:536: FitFailedWarning: Estimator fit failed. The score on this train-test partition for these parameters will be set to nan. Details: \n",
      "ValueError: Unknown label type: 'continuous'\n",
      "\n",
      "  FitFailedWarning)\n",
      "C:\\Users\\Owner\\Miniconda3\\lib\\site-packages\\sklearn\\model_selection\\_validation.py:536: FitFailedWarning: Estimator fit failed. The score on this train-test partition for these parameters will be set to nan. Details: \n",
      "ValueError: Unknown label type: 'continuous'\n",
      "\n",
      "  FitFailedWarning)\n",
      "C:\\Users\\Owner\\Miniconda3\\lib\\site-packages\\sklearn\\model_selection\\_validation.py:536: FitFailedWarning: Estimator fit failed. The score on this train-test partition for these parameters will be set to nan. Details: \n",
      "ValueError: Unknown label type: 'continuous'\n",
      "\n",
      "  FitFailedWarning)\n",
      "C:\\Users\\Owner\\Miniconda3\\lib\\site-packages\\sklearn\\model_selection\\_validation.py:536: FitFailedWarning: Estimator fit failed. The score on this train-test partition for these parameters will be set to nan. Details: \n",
      "ValueError: Unknown label type: 'continuous'\n",
      "\n",
      "  FitFailedWarning)\n",
      "C:\\Users\\Owner\\Miniconda3\\lib\\site-packages\\sklearn\\model_selection\\_validation.py:536: FitFailedWarning: Estimator fit failed. The score on this train-test partition for these parameters will be set to nan. Details: \n",
      "ValueError: Unknown label type: 'continuous'\n",
      "\n",
      "  FitFailedWarning)\n",
      "C:\\Users\\Owner\\Miniconda3\\lib\\site-packages\\sklearn\\model_selection\\_validation.py:536: FitFailedWarning: Estimator fit failed. The score on this train-test partition for these parameters will be set to nan. Details: \n",
      "ValueError: Unknown label type: 'continuous'\n",
      "\n",
      "  FitFailedWarning)\n",
      "C:\\Users\\Owner\\Miniconda3\\lib\\site-packages\\sklearn\\model_selection\\_validation.py:536: FitFailedWarning: Estimator fit failed. The score on this train-test partition for these parameters will be set to nan. Details: \n",
      "ValueError: Unknown label type: 'continuous'\n",
      "\n",
      "  FitFailedWarning)\n",
      "C:\\Users\\Owner\\Miniconda3\\lib\\site-packages\\sklearn\\model_selection\\_validation.py:536: FitFailedWarning: Estimator fit failed. The score on this train-test partition for these parameters will be set to nan. Details: \n",
      "ValueError: Unknown label type: 'continuous'\n",
      "\n",
      "  FitFailedWarning)\n",
      "C:\\Users\\Owner\\Miniconda3\\lib\\site-packages\\sklearn\\model_selection\\_validation.py:536: FitFailedWarning: Estimator fit failed. The score on this train-test partition for these parameters will be set to nan. Details: \n",
      "ValueError: Unknown label type: 'continuous'\n",
      "\n",
      "  FitFailedWarning)\n",
      "C:\\Users\\Owner\\Miniconda3\\lib\\site-packages\\sklearn\\model_selection\\_validation.py:536: FitFailedWarning: Estimator fit failed. The score on this train-test partition for these parameters will be set to nan. Details: \n",
      "ValueError: Unknown label type: 'continuous'\n",
      "\n",
      "  FitFailedWarning)\n",
      "C:\\Users\\Owner\\Miniconda3\\lib\\site-packages\\sklearn\\model_selection\\_validation.py:536: FitFailedWarning: Estimator fit failed. The score on this train-test partition for these parameters will be set to nan. Details: \n",
      "ValueError: Unknown label type: 'continuous'\n",
      "\n",
      "  FitFailedWarning)\n",
      "C:\\Users\\Owner\\Miniconda3\\lib\\site-packages\\sklearn\\model_selection\\_validation.py:536: FitFailedWarning: Estimator fit failed. The score on this train-test partition for these parameters will be set to nan. Details: \n",
      "ValueError: Unknown label type: 'continuous'\n",
      "\n",
      "  FitFailedWarning)\n",
      "C:\\Users\\Owner\\Miniconda3\\lib\\site-packages\\sklearn\\model_selection\\_validation.py:536: FitFailedWarning: Estimator fit failed. The score on this train-test partition for these parameters will be set to nan. Details: \n",
      "ValueError: Unknown label type: 'continuous'\n",
      "\n",
      "  FitFailedWarning)\n",
      "C:\\Users\\Owner\\Miniconda3\\lib\\site-packages\\sklearn\\model_selection\\_validation.py:536: FitFailedWarning: Estimator fit failed. The score on this train-test partition for these parameters will be set to nan. Details: \n",
      "ValueError: Unknown label type: 'continuous'\n",
      "\n",
      "  FitFailedWarning)\n",
      "C:\\Users\\Owner\\Miniconda3\\lib\\site-packages\\sklearn\\model_selection\\_validation.py:536: FitFailedWarning: Estimator fit failed. The score on this train-test partition for these parameters will be set to nan. Details: \n",
      "ValueError: Unknown label type: 'continuous'\n",
      "\n",
      "  FitFailedWarning)\n",
      "C:\\Users\\Owner\\Miniconda3\\lib\\site-packages\\sklearn\\model_selection\\_validation.py:536: FitFailedWarning: Estimator fit failed. The score on this train-test partition for these parameters will be set to nan. Details: \n",
      "ValueError: Unknown label type: 'continuous'\n",
      "\n",
      "  FitFailedWarning)\n",
      "C:\\Users\\Owner\\Miniconda3\\lib\\site-packages\\sklearn\\model_selection\\_validation.py:536: FitFailedWarning: Estimator fit failed. The score on this train-test partition for these parameters will be set to nan. Details: \n",
      "ValueError: Unknown label type: 'continuous'\n",
      "\n",
      "  FitFailedWarning)\n",
      "C:\\Users\\Owner\\Miniconda3\\lib\\site-packages\\sklearn\\model_selection\\_validation.py:536: FitFailedWarning: Estimator fit failed. The score on this train-test partition for these parameters will be set to nan. Details: \n",
      "ValueError: Unknown label type: 'continuous'\n",
      "\n",
      "  FitFailedWarning)\n",
      "C:\\Users\\Owner\\Miniconda3\\lib\\site-packages\\sklearn\\model_selection\\_validation.py:536: FitFailedWarning: Estimator fit failed. The score on this train-test partition for these parameters will be set to nan. Details: \n",
      "ValueError: Unknown label type: 'continuous'\n",
      "\n",
      "  FitFailedWarning)\n",
      "C:\\Users\\Owner\\Miniconda3\\lib\\site-packages\\sklearn\\model_selection\\_validation.py:536: FitFailedWarning: Estimator fit failed. The score on this train-test partition for these parameters will be set to nan. Details: \n",
      "ValueError: Unknown label type: 'continuous'\n",
      "\n",
      "  FitFailedWarning)\n",
      "C:\\Users\\Owner\\Miniconda3\\lib\\site-packages\\sklearn\\model_selection\\_validation.py:536: FitFailedWarning: Estimator fit failed. The score on this train-test partition for these parameters will be set to nan. Details: \n",
      "ValueError: Unknown label type: 'continuous'\n",
      "\n",
      "  FitFailedWarning)\n",
      "C:\\Users\\Owner\\Miniconda3\\lib\\site-packages\\sklearn\\model_selection\\_validation.py:536: FitFailedWarning: Estimator fit failed. The score on this train-test partition for these parameters will be set to nan. Details: \n",
      "ValueError: Unknown label type: 'continuous'\n",
      "\n",
      "  FitFailedWarning)\n",
      "C:\\Users\\Owner\\Miniconda3\\lib\\site-packages\\sklearn\\model_selection\\_validation.py:536: FitFailedWarning: Estimator fit failed. The score on this train-test partition for these parameters will be set to nan. Details: \n",
      "ValueError: Unknown label type: 'continuous'\n",
      "\n",
      "  FitFailedWarning)\n",
      "C:\\Users\\Owner\\Miniconda3\\lib\\site-packages\\sklearn\\model_selection\\_validation.py:536: FitFailedWarning: Estimator fit failed. The score on this train-test partition for these parameters will be set to nan. Details: \n",
      "ValueError: Unknown label type: 'continuous'\n",
      "\n",
      "  FitFailedWarning)\n",
      "C:\\Users\\Owner\\Miniconda3\\lib\\site-packages\\sklearn\\model_selection\\_validation.py:536: FitFailedWarning: Estimator fit failed. The score on this train-test partition for these parameters will be set to nan. Details: \n",
      "ValueError: Unknown label type: 'continuous'\n",
      "\n",
      "  FitFailedWarning)\n",
      "C:\\Users\\Owner\\Miniconda3\\lib\\site-packages\\sklearn\\model_selection\\_validation.py:536: FitFailedWarning: Estimator fit failed. The score on this train-test partition for these parameters will be set to nan. Details: \n",
      "ValueError: Unknown label type: 'continuous'\n",
      "\n",
      "  FitFailedWarning)\n",
      "C:\\Users\\Owner\\Miniconda3\\lib\\site-packages\\sklearn\\model_selection\\_validation.py:536: FitFailedWarning: Estimator fit failed. The score on this train-test partition for these parameters will be set to nan. Details: \n",
      "ValueError: Unknown label type: 'continuous'\n",
      "\n",
      "  FitFailedWarning)\n",
      "C:\\Users\\Owner\\Miniconda3\\lib\\site-packages\\sklearn\\model_selection\\_validation.py:536: FitFailedWarning: Estimator fit failed. The score on this train-test partition for these parameters will be set to nan. Details: \n",
      "ValueError: Unknown label type: 'continuous'\n",
      "\n",
      "  FitFailedWarning)\n",
      "C:\\Users\\Owner\\Miniconda3\\lib\\site-packages\\sklearn\\model_selection\\_validation.py:536: FitFailedWarning: Estimator fit failed. The score on this train-test partition for these parameters will be set to nan. Details: \n",
      "ValueError: Unknown label type: 'continuous'\n",
      "\n",
      "  FitFailedWarning)\n",
      "C:\\Users\\Owner\\Miniconda3\\lib\\site-packages\\sklearn\\model_selection\\_validation.py:536: FitFailedWarning: Estimator fit failed. The score on this train-test partition for these parameters will be set to nan. Details: \n",
      "ValueError: Unknown label type: 'continuous'\n",
      "\n",
      "  FitFailedWarning)\n",
      "C:\\Users\\Owner\\Miniconda3\\lib\\site-packages\\sklearn\\model_selection\\_validation.py:536: FitFailedWarning: Estimator fit failed. The score on this train-test partition for these parameters will be set to nan. Details: \n",
      "ValueError: Unknown label type: 'continuous'\n",
      "\n",
      "  FitFailedWarning)\n",
      "C:\\Users\\Owner\\Miniconda3\\lib\\site-packages\\sklearn\\model_selection\\_validation.py:536: FitFailedWarning: Estimator fit failed. The score on this train-test partition for these parameters will be set to nan. Details: \n",
      "ValueError: Unknown label type: 'continuous'\n",
      "\n",
      "  FitFailedWarning)\n",
      "C:\\Users\\Owner\\Miniconda3\\lib\\site-packages\\sklearn\\model_selection\\_validation.py:536: FitFailedWarning: Estimator fit failed. The score on this train-test partition for these parameters will be set to nan. Details: \n",
      "ValueError: Unknown label type: 'continuous'\n",
      "\n",
      "  FitFailedWarning)\n",
      "C:\\Users\\Owner\\Miniconda3\\lib\\site-packages\\sklearn\\model_selection\\_validation.py:536: FitFailedWarning: Estimator fit failed. The score on this train-test partition for these parameters will be set to nan. Details: \n",
      "ValueError: Unknown label type: 'continuous'\n",
      "\n",
      "  FitFailedWarning)\n",
      "C:\\Users\\Owner\\Miniconda3\\lib\\site-packages\\sklearn\\model_selection\\_validation.py:536: FitFailedWarning: Estimator fit failed. The score on this train-test partition for these parameters will be set to nan. Details: \n",
      "ValueError: Unknown label type: 'continuous'\n",
      "\n",
      "  FitFailedWarning)\n",
      "C:\\Users\\Owner\\Miniconda3\\lib\\site-packages\\sklearn\\model_selection\\_validation.py:536: FitFailedWarning: Estimator fit failed. The score on this train-test partition for these parameters will be set to nan. Details: \n",
      "ValueError: Unknown label type: 'continuous'\n",
      "\n",
      "  FitFailedWarning)\n",
      "C:\\Users\\Owner\\Miniconda3\\lib\\site-packages\\sklearn\\model_selection\\_validation.py:536: FitFailedWarning: Estimator fit failed. The score on this train-test partition for these parameters will be set to nan. Details: \n",
      "ValueError: Unknown label type: 'continuous'\n",
      "\n",
      "  FitFailedWarning)\n",
      "C:\\Users\\Owner\\Miniconda3\\lib\\site-packages\\sklearn\\model_selection\\_validation.py:536: FitFailedWarning: Estimator fit failed. The score on this train-test partition for these parameters will be set to nan. Details: \n",
      "ValueError: Unknown label type: 'continuous'\n",
      "\n",
      "  FitFailedWarning)\n",
      "C:\\Users\\Owner\\Miniconda3\\lib\\site-packages\\sklearn\\model_selection\\_validation.py:536: FitFailedWarning: Estimator fit failed. The score on this train-test partition for these parameters will be set to nan. Details: \n",
      "ValueError: Unknown label type: 'continuous'\n",
      "\n",
      "  FitFailedWarning)\n",
      "C:\\Users\\Owner\\Miniconda3\\lib\\site-packages\\sklearn\\model_selection\\_validation.py:536: FitFailedWarning: Estimator fit failed. The score on this train-test partition for these parameters will be set to nan. Details: \n",
      "ValueError: Unknown label type: 'continuous'\n",
      "\n",
      "  FitFailedWarning)\n",
      "C:\\Users\\Owner\\Miniconda3\\lib\\site-packages\\sklearn\\model_selection\\_validation.py:536: FitFailedWarning: Estimator fit failed. The score on this train-test partition for these parameters will be set to nan. Details: \n",
      "ValueError: Unknown label type: 'continuous'\n",
      "\n",
      "  FitFailedWarning)\n",
      "C:\\Users\\Owner\\Miniconda3\\lib\\site-packages\\sklearn\\model_selection\\_validation.py:536: FitFailedWarning: Estimator fit failed. The score on this train-test partition for these parameters will be set to nan. Details: \n",
      "ValueError: Unknown label type: 'continuous'\n",
      "\n",
      "  FitFailedWarning)\n",
      "C:\\Users\\Owner\\Miniconda3\\lib\\site-packages\\sklearn\\model_selection\\_validation.py:536: FitFailedWarning: Estimator fit failed. The score on this train-test partition for these parameters will be set to nan. Details: \n",
      "ValueError: Unknown label type: 'continuous'\n",
      "\n",
      "  FitFailedWarning)\n",
      "C:\\Users\\Owner\\Miniconda3\\lib\\site-packages\\sklearn\\model_selection\\_validation.py:536: FitFailedWarning: Estimator fit failed. The score on this train-test partition for these parameters will be set to nan. Details: \n",
      "ValueError: Unknown label type: 'continuous'\n",
      "\n",
      "  FitFailedWarning)\n",
      "C:\\Users\\Owner\\Miniconda3\\lib\\site-packages\\sklearn\\model_selection\\_validation.py:536: FitFailedWarning: Estimator fit failed. The score on this train-test partition for these parameters will be set to nan. Details: \n",
      "ValueError: Unknown label type: 'continuous'\n",
      "\n",
      "  FitFailedWarning)\n",
      "C:\\Users\\Owner\\Miniconda3\\lib\\site-packages\\sklearn\\model_selection\\_validation.py:536: FitFailedWarning: Estimator fit failed. The score on this train-test partition for these parameters will be set to nan. Details: \n",
      "ValueError: Unknown label type: 'continuous'\n",
      "\n",
      "  FitFailedWarning)\n",
      "C:\\Users\\Owner\\Miniconda3\\lib\\site-packages\\sklearn\\model_selection\\_validation.py:536: FitFailedWarning: Estimator fit failed. The score on this train-test partition for these parameters will be set to nan. Details: \n",
      "ValueError: Unknown label type: 'continuous'\n",
      "\n",
      "  FitFailedWarning)\n",
      "C:\\Users\\Owner\\Miniconda3\\lib\\site-packages\\sklearn\\model_selection\\_validation.py:536: FitFailedWarning: Estimator fit failed. The score on this train-test partition for these parameters will be set to nan. Details: \n",
      "ValueError: Unknown label type: 'continuous'\n",
      "\n",
      "  FitFailedWarning)\n",
      "C:\\Users\\Owner\\Miniconda3\\lib\\site-packages\\sklearn\\model_selection\\_validation.py:536: FitFailedWarning: Estimator fit failed. The score on this train-test partition for these parameters will be set to nan. Details: \n",
      "ValueError: Unknown label type: 'continuous'\n",
      "\n",
      "  FitFailedWarning)\n",
      "C:\\Users\\Owner\\Miniconda3\\lib\\site-packages\\sklearn\\model_selection\\_validation.py:536: FitFailedWarning: Estimator fit failed. The score on this train-test partition for these parameters will be set to nan. Details: \n",
      "ValueError: Unknown label type: 'continuous'\n",
      "\n",
      "  FitFailedWarning)\n",
      "C:\\Users\\Owner\\Miniconda3\\lib\\site-packages\\sklearn\\model_selection\\_validation.py:536: FitFailedWarning: Estimator fit failed. The score on this train-test partition for these parameters will be set to nan. Details: \n",
      "ValueError: Unknown label type: 'continuous'\n",
      "\n",
      "  FitFailedWarning)\n",
      "C:\\Users\\Owner\\Miniconda3\\lib\\site-packages\\sklearn\\model_selection\\_validation.py:536: FitFailedWarning: Estimator fit failed. The score on this train-test partition for these parameters will be set to nan. Details: \n",
      "ValueError: Unknown label type: 'continuous'\n",
      "\n",
      "  FitFailedWarning)\n",
      "C:\\Users\\Owner\\Miniconda3\\lib\\site-packages\\sklearn\\model_selection\\_validation.py:536: FitFailedWarning: Estimator fit failed. The score on this train-test partition for these parameters will be set to nan. Details: \n",
      "ValueError: Unknown label type: 'continuous'\n",
      "\n",
      "  FitFailedWarning)\n",
      "C:\\Users\\Owner\\Miniconda3\\lib\\site-packages\\sklearn\\model_selection\\_validation.py:536: FitFailedWarning: Estimator fit failed. The score on this train-test partition for these parameters will be set to nan. Details: \n",
      "ValueError: Unknown label type: 'continuous'\n",
      "\n",
      "  FitFailedWarning)\n",
      "C:\\Users\\Owner\\Miniconda3\\lib\\site-packages\\sklearn\\model_selection\\_validation.py:536: FitFailedWarning: Estimator fit failed. The score on this train-test partition for these parameters will be set to nan. Details: \n",
      "ValueError: Unknown label type: 'continuous'\n",
      "\n",
      "  FitFailedWarning)\n",
      "C:\\Users\\Owner\\Miniconda3\\lib\\site-packages\\sklearn\\model_selection\\_validation.py:536: FitFailedWarning: Estimator fit failed. The score on this train-test partition for these parameters will be set to nan. Details: \n",
      "ValueError: Unknown label type: 'continuous'\n",
      "\n",
      "  FitFailedWarning)\n",
      "C:\\Users\\Owner\\Miniconda3\\lib\\site-packages\\sklearn\\model_selection\\_validation.py:536: FitFailedWarning: Estimator fit failed. The score on this train-test partition for these parameters will be set to nan. Details: \n",
      "ValueError: Unknown label type: 'continuous'\n",
      "\n",
      "  FitFailedWarning)\n",
      "C:\\Users\\Owner\\Miniconda3\\lib\\site-packages\\sklearn\\model_selection\\_validation.py:536: FitFailedWarning: Estimator fit failed. The score on this train-test partition for these parameters will be set to nan. Details: \n",
      "ValueError: Unknown label type: 'continuous'\n",
      "\n",
      "  FitFailedWarning)\n",
      "C:\\Users\\Owner\\Miniconda3\\lib\\site-packages\\sklearn\\model_selection\\_validation.py:536: FitFailedWarning: Estimator fit failed. The score on this train-test partition for these parameters will be set to nan. Details: \n",
      "ValueError: Unknown label type: 'continuous'\n",
      "\n",
      "  FitFailedWarning)\n",
      "C:\\Users\\Owner\\Miniconda3\\lib\\site-packages\\sklearn\\model_selection\\_validation.py:536: FitFailedWarning: Estimator fit failed. The score on this train-test partition for these parameters will be set to nan. Details: \n",
      "ValueError: Unknown label type: 'continuous'\n",
      "\n",
      "  FitFailedWarning)\n",
      "C:\\Users\\Owner\\Miniconda3\\lib\\site-packages\\sklearn\\model_selection\\_validation.py:536: FitFailedWarning: Estimator fit failed. The score on this train-test partition for these parameters will be set to nan. Details: \n",
      "ValueError: Unknown label type: 'continuous'\n",
      "\n",
      "  FitFailedWarning)\n",
      "C:\\Users\\Owner\\Miniconda3\\lib\\site-packages\\sklearn\\model_selection\\_validation.py:536: FitFailedWarning: Estimator fit failed. The score on this train-test partition for these parameters will be set to nan. Details: \n",
      "ValueError: Unknown label type: 'continuous'\n",
      "\n",
      "  FitFailedWarning)\n",
      "C:\\Users\\Owner\\Miniconda3\\lib\\site-packages\\sklearn\\model_selection\\_validation.py:536: FitFailedWarning: Estimator fit failed. The score on this train-test partition for these parameters will be set to nan. Details: \n",
      "ValueError: Unknown label type: 'continuous'\n",
      "\n",
      "  FitFailedWarning)\n",
      "C:\\Users\\Owner\\Miniconda3\\lib\\site-packages\\sklearn\\model_selection\\_validation.py:536: FitFailedWarning: Estimator fit failed. The score on this train-test partition for these parameters will be set to nan. Details: \n",
      "ValueError: Unknown label type: 'continuous'\n",
      "\n",
      "  FitFailedWarning)\n",
      "C:\\Users\\Owner\\Miniconda3\\lib\\site-packages\\sklearn\\model_selection\\_validation.py:536: FitFailedWarning: Estimator fit failed. The score on this train-test partition for these parameters will be set to nan. Details: \n",
      "ValueError: Unknown label type: 'continuous'\n",
      "\n",
      "  FitFailedWarning)\n",
      "C:\\Users\\Owner\\Miniconda3\\lib\\site-packages\\sklearn\\model_selection\\_validation.py:536: FitFailedWarning: Estimator fit failed. The score on this train-test partition for these parameters will be set to nan. Details: \n",
      "ValueError: Unknown label type: 'continuous'\n",
      "\n",
      "  FitFailedWarning)\n",
      "C:\\Users\\Owner\\Miniconda3\\lib\\site-packages\\sklearn\\model_selection\\_validation.py:536: FitFailedWarning: Estimator fit failed. The score on this train-test partition for these parameters will be set to nan. Details: \n",
      "ValueError: Unknown label type: 'continuous'\n",
      "\n",
      "  FitFailedWarning)\n",
      "C:\\Users\\Owner\\Miniconda3\\lib\\site-packages\\sklearn\\model_selection\\_validation.py:536: FitFailedWarning: Estimator fit failed. The score on this train-test partition for these parameters will be set to nan. Details: \n",
      "ValueError: Unknown label type: 'continuous'\n",
      "\n",
      "  FitFailedWarning)\n",
      "C:\\Users\\Owner\\Miniconda3\\lib\\site-packages\\sklearn\\model_selection\\_validation.py:536: FitFailedWarning: Estimator fit failed. The score on this train-test partition for these parameters will be set to nan. Details: \n",
      "ValueError: Unknown label type: 'continuous'\n",
      "\n",
      "  FitFailedWarning)\n",
      "C:\\Users\\Owner\\Miniconda3\\lib\\site-packages\\sklearn\\model_selection\\_validation.py:536: FitFailedWarning: Estimator fit failed. The score on this train-test partition for these parameters will be set to nan. Details: \n",
      "ValueError: Unknown label type: 'continuous'\n",
      "\n",
      "  FitFailedWarning)\n",
      "C:\\Users\\Owner\\Miniconda3\\lib\\site-packages\\sklearn\\model_selection\\_validation.py:536: FitFailedWarning: Estimator fit failed. The score on this train-test partition for these parameters will be set to nan. Details: \n",
      "ValueError: Unknown label type: 'continuous'\n",
      "\n",
      "  FitFailedWarning)\n",
      "C:\\Users\\Owner\\Miniconda3\\lib\\site-packages\\sklearn\\model_selection\\_validation.py:536: FitFailedWarning: Estimator fit failed. The score on this train-test partition for these parameters will be set to nan. Details: \n",
      "ValueError: Unknown label type: 'continuous'\n",
      "\n",
      "  FitFailedWarning)\n",
      "C:\\Users\\Owner\\Miniconda3\\lib\\site-packages\\sklearn\\model_selection\\_validation.py:536: FitFailedWarning: Estimator fit failed. The score on this train-test partition for these parameters will be set to nan. Details: \n",
      "ValueError: Unknown label type: 'continuous'\n",
      "\n",
      "  FitFailedWarning)\n",
      "C:\\Users\\Owner\\Miniconda3\\lib\\site-packages\\sklearn\\model_selection\\_validation.py:536: FitFailedWarning: Estimator fit failed. The score on this train-test partition for these parameters will be set to nan. Details: \n",
      "ValueError: Unknown label type: 'continuous'\n",
      "\n",
      "  FitFailedWarning)\n",
      "C:\\Users\\Owner\\Miniconda3\\lib\\site-packages\\sklearn\\model_selection\\_validation.py:536: FitFailedWarning: Estimator fit failed. The score on this train-test partition for these parameters will be set to nan. Details: \n",
      "ValueError: Unknown label type: 'continuous'\n",
      "\n",
      "  FitFailedWarning)\n",
      "C:\\Users\\Owner\\Miniconda3\\lib\\site-packages\\sklearn\\model_selection\\_validation.py:536: FitFailedWarning: Estimator fit failed. The score on this train-test partition for these parameters will be set to nan. Details: \n",
      "ValueError: Unknown label type: 'continuous'\n",
      "\n",
      "  FitFailedWarning)\n",
      "C:\\Users\\Owner\\Miniconda3\\lib\\site-packages\\sklearn\\model_selection\\_validation.py:536: FitFailedWarning: Estimator fit failed. The score on this train-test partition for these parameters will be set to nan. Details: \n",
      "ValueError: Unknown label type: 'continuous'\n",
      "\n",
      "  FitFailedWarning)\n",
      "C:\\Users\\Owner\\Miniconda3\\lib\\site-packages\\sklearn\\model_selection\\_validation.py:536: FitFailedWarning: Estimator fit failed. The score on this train-test partition for these parameters will be set to nan. Details: \n",
      "ValueError: Unknown label type: 'continuous'\n",
      "\n",
      "  FitFailedWarning)\n",
      "C:\\Users\\Owner\\Miniconda3\\lib\\site-packages\\sklearn\\model_selection\\_validation.py:536: FitFailedWarning: Estimator fit failed. The score on this train-test partition for these parameters will be set to nan. Details: \n",
      "ValueError: Unknown label type: 'continuous'\n",
      "\n",
      "  FitFailedWarning)\n",
      "C:\\Users\\Owner\\Miniconda3\\lib\\site-packages\\sklearn\\model_selection\\_validation.py:536: FitFailedWarning: Estimator fit failed. The score on this train-test partition for these parameters will be set to nan. Details: \n",
      "ValueError: Unknown label type: 'continuous'\n",
      "\n",
      "  FitFailedWarning)\n",
      "C:\\Users\\Owner\\Miniconda3\\lib\\site-packages\\sklearn\\model_selection\\_validation.py:536: FitFailedWarning: Estimator fit failed. The score on this train-test partition for these parameters will be set to nan. Details: \n",
      "ValueError: Unknown label type: 'continuous'\n",
      "\n",
      "  FitFailedWarning)\n",
      "C:\\Users\\Owner\\Miniconda3\\lib\\site-packages\\sklearn\\model_selection\\_validation.py:536: FitFailedWarning: Estimator fit failed. The score on this train-test partition for these parameters will be set to nan. Details: \n",
      "ValueError: Unknown label type: 'continuous'\n",
      "\n",
      "  FitFailedWarning)\n",
      "C:\\Users\\Owner\\Miniconda3\\lib\\site-packages\\sklearn\\model_selection\\_validation.py:536: FitFailedWarning: Estimator fit failed. The score on this train-test partition for these parameters will be set to nan. Details: \n",
      "ValueError: Unknown label type: 'continuous'\n",
      "\n",
      "  FitFailedWarning)\n",
      "C:\\Users\\Owner\\Miniconda3\\lib\\site-packages\\sklearn\\model_selection\\_validation.py:536: FitFailedWarning: Estimator fit failed. The score on this train-test partition for these parameters will be set to nan. Details: \n",
      "ValueError: Unknown label type: 'continuous'\n",
      "\n",
      "  FitFailedWarning)\n",
      "C:\\Users\\Owner\\Miniconda3\\lib\\site-packages\\sklearn\\model_selection\\_validation.py:536: FitFailedWarning: Estimator fit failed. The score on this train-test partition for these parameters will be set to nan. Details: \n",
      "ValueError: Unknown label type: 'continuous'\n",
      "\n",
      "  FitFailedWarning)\n",
      "C:\\Users\\Owner\\Miniconda3\\lib\\site-packages\\sklearn\\model_selection\\_validation.py:536: FitFailedWarning: Estimator fit failed. The score on this train-test partition for these parameters will be set to nan. Details: \n",
      "ValueError: Unknown label type: 'continuous'\n",
      "\n",
      "  FitFailedWarning)\n",
      "C:\\Users\\Owner\\Miniconda3\\lib\\site-packages\\sklearn\\model_selection\\_validation.py:536: FitFailedWarning: Estimator fit failed. The score on this train-test partition for these parameters will be set to nan. Details: \n",
      "ValueError: Unknown label type: 'continuous'\n",
      "\n",
      "  FitFailedWarning)\n",
      "C:\\Users\\Owner\\Miniconda3\\lib\\site-packages\\sklearn\\model_selection\\_validation.py:536: FitFailedWarning: Estimator fit failed. The score on this train-test partition for these parameters will be set to nan. Details: \n",
      "ValueError: Unknown label type: 'continuous'\n",
      "\n",
      "  FitFailedWarning)\n",
      "C:\\Users\\Owner\\Miniconda3\\lib\\site-packages\\sklearn\\model_selection\\_validation.py:536: FitFailedWarning: Estimator fit failed. The score on this train-test partition for these parameters will be set to nan. Details: \n",
      "ValueError: Unknown label type: 'continuous'\n",
      "\n",
      "  FitFailedWarning)\n",
      "C:\\Users\\Owner\\Miniconda3\\lib\\site-packages\\sklearn\\model_selection\\_validation.py:536: FitFailedWarning: Estimator fit failed. The score on this train-test partition for these parameters will be set to nan. Details: \n",
      "ValueError: Unknown label type: 'continuous'\n",
      "\n",
      "  FitFailedWarning)\n",
      "C:\\Users\\Owner\\Miniconda3\\lib\\site-packages\\sklearn\\model_selection\\_validation.py:536: FitFailedWarning: Estimator fit failed. The score on this train-test partition for these parameters will be set to nan. Details: \n",
      "ValueError: Unknown label type: 'continuous'\n",
      "\n",
      "  FitFailedWarning)\n",
      "C:\\Users\\Owner\\Miniconda3\\lib\\site-packages\\sklearn\\model_selection\\_validation.py:536: FitFailedWarning: Estimator fit failed. The score on this train-test partition for these parameters will be set to nan. Details: \n",
      "ValueError: Unknown label type: 'continuous'\n",
      "\n",
      "  FitFailedWarning)\n",
      "C:\\Users\\Owner\\Miniconda3\\lib\\site-packages\\sklearn\\model_selection\\_validation.py:536: FitFailedWarning: Estimator fit failed. The score on this train-test partition for these parameters will be set to nan. Details: \n",
      "ValueError: Unknown label type: 'continuous'\n",
      "\n",
      "  FitFailedWarning)\n",
      "C:\\Users\\Owner\\Miniconda3\\lib\\site-packages\\sklearn\\model_selection\\_validation.py:536: FitFailedWarning: Estimator fit failed. The score on this train-test partition for these parameters will be set to nan. Details: \n",
      "ValueError: Unknown label type: 'continuous'\n",
      "\n",
      "  FitFailedWarning)\n",
      "C:\\Users\\Owner\\Miniconda3\\lib\\site-packages\\sklearn\\model_selection\\_validation.py:536: FitFailedWarning: Estimator fit failed. The score on this train-test partition for these parameters will be set to nan. Details: \n",
      "ValueError: Unknown label type: 'continuous'\n",
      "\n",
      "  FitFailedWarning)\n",
      "C:\\Users\\Owner\\Miniconda3\\lib\\site-packages\\sklearn\\model_selection\\_validation.py:536: FitFailedWarning: Estimator fit failed. The score on this train-test partition for these parameters will be set to nan. Details: \n",
      "ValueError: Unknown label type: 'continuous'\n",
      "\n",
      "  FitFailedWarning)\n",
      "C:\\Users\\Owner\\Miniconda3\\lib\\site-packages\\sklearn\\model_selection\\_validation.py:536: FitFailedWarning: Estimator fit failed. The score on this train-test partition for these parameters will be set to nan. Details: \n",
      "ValueError: Unknown label type: 'continuous'\n",
      "\n",
      "  FitFailedWarning)\n",
      "C:\\Users\\Owner\\Miniconda3\\lib\\site-packages\\sklearn\\model_selection\\_validation.py:536: FitFailedWarning: Estimator fit failed. The score on this train-test partition for these parameters will be set to nan. Details: \n",
      "ValueError: Unknown label type: 'continuous'\n",
      "\n",
      "  FitFailedWarning)\n",
      "C:\\Users\\Owner\\Miniconda3\\lib\\site-packages\\sklearn\\model_selection\\_validation.py:536: FitFailedWarning: Estimator fit failed. The score on this train-test partition for these parameters will be set to nan. Details: \n",
      "ValueError: Unknown label type: 'continuous'\n",
      "\n",
      "  FitFailedWarning)\n",
      "C:\\Users\\Owner\\Miniconda3\\lib\\site-packages\\sklearn\\model_selection\\_validation.py:536: FitFailedWarning: Estimator fit failed. The score on this train-test partition for these parameters will be set to nan. Details: \n",
      "ValueError: Unknown label type: 'continuous'\n",
      "\n",
      "  FitFailedWarning)\n",
      "C:\\Users\\Owner\\Miniconda3\\lib\\site-packages\\sklearn\\model_selection\\_validation.py:536: FitFailedWarning: Estimator fit failed. The score on this train-test partition for these parameters will be set to nan. Details: \n",
      "ValueError: Unknown label type: 'continuous'\n",
      "\n",
      "  FitFailedWarning)\n",
      "C:\\Users\\Owner\\Miniconda3\\lib\\site-packages\\sklearn\\model_selection\\_validation.py:536: FitFailedWarning: Estimator fit failed. The score on this train-test partition for these parameters will be set to nan. Details: \n",
      "ValueError: Unknown label type: 'continuous'\n",
      "\n",
      "  FitFailedWarning)\n",
      "C:\\Users\\Owner\\Miniconda3\\lib\\site-packages\\sklearn\\model_selection\\_validation.py:536: FitFailedWarning: Estimator fit failed. The score on this train-test partition for these parameters will be set to nan. Details: \n",
      "ValueError: Unknown label type: 'continuous'\n",
      "\n",
      "  FitFailedWarning)\n",
      "C:\\Users\\Owner\\Miniconda3\\lib\\site-packages\\sklearn\\model_selection\\_validation.py:536: FitFailedWarning: Estimator fit failed. The score on this train-test partition for these parameters will be set to nan. Details: \n",
      "ValueError: Unknown label type: 'continuous'\n",
      "\n",
      "  FitFailedWarning)\n",
      "C:\\Users\\Owner\\Miniconda3\\lib\\site-packages\\sklearn\\model_selection\\_validation.py:536: FitFailedWarning: Estimator fit failed. The score on this train-test partition for these parameters will be set to nan. Details: \n",
      "ValueError: Unknown label type: 'continuous'\n",
      "\n",
      "  FitFailedWarning)\n",
      "C:\\Users\\Owner\\Miniconda3\\lib\\site-packages\\sklearn\\model_selection\\_validation.py:536: FitFailedWarning: Estimator fit failed. The score on this train-test partition for these parameters will be set to nan. Details: \n",
      "ValueError: Unknown label type: 'continuous'\n",
      "\n",
      "  FitFailedWarning)\n",
      "C:\\Users\\Owner\\Miniconda3\\lib\\site-packages\\sklearn\\model_selection\\_validation.py:536: FitFailedWarning: Estimator fit failed. The score on this train-test partition for these parameters will be set to nan. Details: \n",
      "ValueError: Unknown label type: 'continuous'\n",
      "\n",
      "  FitFailedWarning)\n",
      "C:\\Users\\Owner\\Miniconda3\\lib\\site-packages\\sklearn\\model_selection\\_validation.py:536: FitFailedWarning: Estimator fit failed. The score on this train-test partition for these parameters will be set to nan. Details: \n",
      "ValueError: Unknown label type: 'continuous'\n",
      "\n",
      "  FitFailedWarning)\n",
      "C:\\Users\\Owner\\Miniconda3\\lib\\site-packages\\sklearn\\model_selection\\_validation.py:536: FitFailedWarning: Estimator fit failed. The score on this train-test partition for these parameters will be set to nan. Details: \n",
      "ValueError: Unknown label type: 'continuous'\n",
      "\n",
      "  FitFailedWarning)\n",
      "C:\\Users\\Owner\\Miniconda3\\lib\\site-packages\\sklearn\\model_selection\\_validation.py:536: FitFailedWarning: Estimator fit failed. The score on this train-test partition for these parameters will be set to nan. Details: \n",
      "ValueError: Unknown label type: 'continuous'\n",
      "\n",
      "  FitFailedWarning)\n",
      "C:\\Users\\Owner\\Miniconda3\\lib\\site-packages\\sklearn\\model_selection\\_validation.py:536: FitFailedWarning: Estimator fit failed. The score on this train-test partition for these parameters will be set to nan. Details: \n",
      "ValueError: Unknown label type: 'continuous'\n",
      "\n",
      "  FitFailedWarning)\n",
      "C:\\Users\\Owner\\Miniconda3\\lib\\site-packages\\sklearn\\model_selection\\_validation.py:536: FitFailedWarning: Estimator fit failed. The score on this train-test partition for these parameters will be set to nan. Details: \n",
      "ValueError: Unknown label type: 'continuous'\n",
      "\n",
      "  FitFailedWarning)\n",
      "C:\\Users\\Owner\\Miniconda3\\lib\\site-packages\\sklearn\\model_selection\\_validation.py:536: FitFailedWarning: Estimator fit failed. The score on this train-test partition for these parameters will be set to nan. Details: \n",
      "ValueError: Unknown label type: 'continuous'\n",
      "\n",
      "  FitFailedWarning)\n",
      "C:\\Users\\Owner\\Miniconda3\\lib\\site-packages\\sklearn\\model_selection\\_validation.py:536: FitFailedWarning: Estimator fit failed. The score on this train-test partition for these parameters will be set to nan. Details: \n",
      "ValueError: Unknown label type: 'continuous'\n",
      "\n",
      "  FitFailedWarning)\n",
      "C:\\Users\\Owner\\Miniconda3\\lib\\site-packages\\sklearn\\model_selection\\_validation.py:536: FitFailedWarning: Estimator fit failed. The score on this train-test partition for these parameters will be set to nan. Details: \n",
      "ValueError: Unknown label type: 'continuous'\n",
      "\n",
      "  FitFailedWarning)\n",
      "C:\\Users\\Owner\\Miniconda3\\lib\\site-packages\\sklearn\\model_selection\\_validation.py:536: FitFailedWarning: Estimator fit failed. The score on this train-test partition for these parameters will be set to nan. Details: \n",
      "ValueError: Unknown label type: 'continuous'\n",
      "\n",
      "  FitFailedWarning)\n",
      "C:\\Users\\Owner\\Miniconda3\\lib\\site-packages\\sklearn\\model_selection\\_validation.py:536: FitFailedWarning: Estimator fit failed. The score on this train-test partition for these parameters will be set to nan. Details: \n",
      "ValueError: Unknown label type: 'continuous'\n",
      "\n",
      "  FitFailedWarning)\n",
      "C:\\Users\\Owner\\Miniconda3\\lib\\site-packages\\sklearn\\model_selection\\_validation.py:536: FitFailedWarning: Estimator fit failed. The score on this train-test partition for these parameters will be set to nan. Details: \n",
      "ValueError: Unknown label type: 'continuous'\n",
      "\n",
      "  FitFailedWarning)\n",
      "C:\\Users\\Owner\\Miniconda3\\lib\\site-packages\\sklearn\\model_selection\\_validation.py:536: FitFailedWarning: Estimator fit failed. The score on this train-test partition for these parameters will be set to nan. Details: \n",
      "ValueError: Unknown label type: 'continuous'\n",
      "\n",
      "  FitFailedWarning)\n",
      "C:\\Users\\Owner\\Miniconda3\\lib\\site-packages\\sklearn\\model_selection\\_validation.py:536: FitFailedWarning: Estimator fit failed. The score on this train-test partition for these parameters will be set to nan. Details: \n",
      "ValueError: Unknown label type: 'continuous'\n",
      "\n",
      "  FitFailedWarning)\n",
      "C:\\Users\\Owner\\Miniconda3\\lib\\site-packages\\sklearn\\model_selection\\_validation.py:536: FitFailedWarning: Estimator fit failed. The score on this train-test partition for these parameters will be set to nan. Details: \n",
      "ValueError: Unknown label type: 'continuous'\n",
      "\n",
      "  FitFailedWarning)\n",
      "C:\\Users\\Owner\\Miniconda3\\lib\\site-packages\\sklearn\\model_selection\\_validation.py:536: FitFailedWarning: Estimator fit failed. The score on this train-test partition for these parameters will be set to nan. Details: \n",
      "ValueError: Unknown label type: 'continuous'\n",
      "\n",
      "  FitFailedWarning)\n",
      "C:\\Users\\Owner\\Miniconda3\\lib\\site-packages\\sklearn\\model_selection\\_validation.py:536: FitFailedWarning: Estimator fit failed. The score on this train-test partition for these parameters will be set to nan. Details: \n",
      "ValueError: Unknown label type: 'continuous'\n",
      "\n",
      "  FitFailedWarning)\n",
      "C:\\Users\\Owner\\Miniconda3\\lib\\site-packages\\sklearn\\model_selection\\_validation.py:536: FitFailedWarning: Estimator fit failed. The score on this train-test partition for these parameters will be set to nan. Details: \n",
      "ValueError: Unknown label type: 'continuous'\n",
      "\n",
      "  FitFailedWarning)\n",
      "C:\\Users\\Owner\\Miniconda3\\lib\\site-packages\\sklearn\\model_selection\\_validation.py:536: FitFailedWarning: Estimator fit failed. The score on this train-test partition for these parameters will be set to nan. Details: \n",
      "ValueError: Unknown label type: 'continuous'\n",
      "\n",
      "  FitFailedWarning)\n",
      "C:\\Users\\Owner\\Miniconda3\\lib\\site-packages\\sklearn\\model_selection\\_validation.py:536: FitFailedWarning: Estimator fit failed. The score on this train-test partition for these parameters will be set to nan. Details: \n",
      "ValueError: Unknown label type: 'continuous'\n",
      "\n",
      "  FitFailedWarning)\n",
      "C:\\Users\\Owner\\Miniconda3\\lib\\site-packages\\sklearn\\model_selection\\_validation.py:536: FitFailedWarning: Estimator fit failed. The score on this train-test partition for these parameters will be set to nan. Details: \n",
      "ValueError: Unknown label type: 'continuous'\n",
      "\n",
      "  FitFailedWarning)\n",
      "C:\\Users\\Owner\\Miniconda3\\lib\\site-packages\\sklearn\\model_selection\\_validation.py:536: FitFailedWarning: Estimator fit failed. The score on this train-test partition for these parameters will be set to nan. Details: \n",
      "ValueError: Unknown label type: 'continuous'\n",
      "\n",
      "  FitFailedWarning)\n",
      "C:\\Users\\Owner\\Miniconda3\\lib\\site-packages\\sklearn\\model_selection\\_validation.py:536: FitFailedWarning: Estimator fit failed. The score on this train-test partition for these parameters will be set to nan. Details: \n",
      "ValueError: Unknown label type: 'continuous'\n",
      "\n",
      "  FitFailedWarning)\n",
      "C:\\Users\\Owner\\Miniconda3\\lib\\site-packages\\sklearn\\model_selection\\_validation.py:536: FitFailedWarning: Estimator fit failed. The score on this train-test partition for these parameters will be set to nan. Details: \n",
      "ValueError: Unknown label type: 'continuous'\n",
      "\n",
      "  FitFailedWarning)\n",
      "C:\\Users\\Owner\\Miniconda3\\lib\\site-packages\\sklearn\\model_selection\\_validation.py:536: FitFailedWarning: Estimator fit failed. The score on this train-test partition for these parameters will be set to nan. Details: \n",
      "ValueError: Unknown label type: 'continuous'\n",
      "\n",
      "  FitFailedWarning)\n",
      "C:\\Users\\Owner\\Miniconda3\\lib\\site-packages\\sklearn\\model_selection\\_validation.py:536: FitFailedWarning: Estimator fit failed. The score on this train-test partition for these parameters will be set to nan. Details: \n",
      "ValueError: Unknown label type: 'continuous'\n",
      "\n",
      "  FitFailedWarning)\n",
      "C:\\Users\\Owner\\Miniconda3\\lib\\site-packages\\sklearn\\model_selection\\_validation.py:536: FitFailedWarning: Estimator fit failed. The score on this train-test partition for these parameters will be set to nan. Details: \n",
      "ValueError: Unknown label type: 'continuous'\n",
      "\n",
      "  FitFailedWarning)\n",
      "C:\\Users\\Owner\\Miniconda3\\lib\\site-packages\\sklearn\\model_selection\\_validation.py:536: FitFailedWarning: Estimator fit failed. The score on this train-test partition for these parameters will be set to nan. Details: \n",
      "ValueError: Unknown label type: 'continuous'\n",
      "\n",
      "  FitFailedWarning)\n",
      "C:\\Users\\Owner\\Miniconda3\\lib\\site-packages\\sklearn\\model_selection\\_validation.py:536: FitFailedWarning: Estimator fit failed. The score on this train-test partition for these parameters will be set to nan. Details: \n",
      "ValueError: Unknown label type: 'continuous'\n",
      "\n",
      "  FitFailedWarning)\n",
      "C:\\Users\\Owner\\Miniconda3\\lib\\site-packages\\sklearn\\model_selection\\_validation.py:536: FitFailedWarning: Estimator fit failed. The score on this train-test partition for these parameters will be set to nan. Details: \n",
      "ValueError: Unknown label type: 'continuous'\n",
      "\n",
      "  FitFailedWarning)\n",
      "C:\\Users\\Owner\\Miniconda3\\lib\\site-packages\\sklearn\\model_selection\\_validation.py:536: FitFailedWarning: Estimator fit failed. The score on this train-test partition for these parameters will be set to nan. Details: \n",
      "ValueError: Unknown label type: 'continuous'\n",
      "\n",
      "  FitFailedWarning)\n",
      "C:\\Users\\Owner\\Miniconda3\\lib\\site-packages\\sklearn\\model_selection\\_validation.py:536: FitFailedWarning: Estimator fit failed. The score on this train-test partition for these parameters will be set to nan. Details: \n",
      "ValueError: Unknown label type: 'continuous'\n",
      "\n",
      "  FitFailedWarning)\n",
      "C:\\Users\\Owner\\Miniconda3\\lib\\site-packages\\sklearn\\model_selection\\_validation.py:536: FitFailedWarning: Estimator fit failed. The score on this train-test partition for these parameters will be set to nan. Details: \n",
      "ValueError: Unknown label type: 'continuous'\n",
      "\n",
      "  FitFailedWarning)\n",
      "C:\\Users\\Owner\\Miniconda3\\lib\\site-packages\\sklearn\\model_selection\\_validation.py:536: FitFailedWarning: Estimator fit failed. The score on this train-test partition for these parameters will be set to nan. Details: \n",
      "ValueError: Unknown label type: 'continuous'\n",
      "\n",
      "  FitFailedWarning)\n",
      "C:\\Users\\Owner\\Miniconda3\\lib\\site-packages\\sklearn\\model_selection\\_validation.py:536: FitFailedWarning: Estimator fit failed. The score on this train-test partition for these parameters will be set to nan. Details: \n",
      "ValueError: Unknown label type: 'continuous'\n",
      "\n",
      "  FitFailedWarning)\n",
      "C:\\Users\\Owner\\Miniconda3\\lib\\site-packages\\sklearn\\model_selection\\_validation.py:536: FitFailedWarning: Estimator fit failed. The score on this train-test partition for these parameters will be set to nan. Details: \n",
      "ValueError: Unknown label type: 'continuous'\n",
      "\n",
      "  FitFailedWarning)\n",
      "C:\\Users\\Owner\\Miniconda3\\lib\\site-packages\\sklearn\\model_selection\\_validation.py:536: FitFailedWarning: Estimator fit failed. The score on this train-test partition for these parameters will be set to nan. Details: \n",
      "ValueError: Unknown label type: 'continuous'\n",
      "\n",
      "  FitFailedWarning)\n",
      "C:\\Users\\Owner\\Miniconda3\\lib\\site-packages\\sklearn\\model_selection\\_validation.py:536: FitFailedWarning: Estimator fit failed. The score on this train-test partition for these parameters will be set to nan. Details: \n",
      "ValueError: Unknown label type: 'continuous'\n",
      "\n",
      "  FitFailedWarning)\n",
      "C:\\Users\\Owner\\Miniconda3\\lib\\site-packages\\sklearn\\model_selection\\_validation.py:536: FitFailedWarning: Estimator fit failed. The score on this train-test partition for these parameters will be set to nan. Details: \n",
      "ValueError: Unknown label type: 'continuous'\n",
      "\n",
      "  FitFailedWarning)\n"
     ]
    },
    {
     "name": "stderr",
     "output_type": "stream",
     "text": [
      "C:\\Users\\Owner\\Miniconda3\\lib\\site-packages\\sklearn\\model_selection\\_validation.py:536: FitFailedWarning: Estimator fit failed. The score on this train-test partition for these parameters will be set to nan. Details: \n",
      "ValueError: Unknown label type: 'continuous'\n",
      "\n",
      "  FitFailedWarning)\n",
      "C:\\Users\\Owner\\Miniconda3\\lib\\site-packages\\sklearn\\model_selection\\_validation.py:536: FitFailedWarning: Estimator fit failed. The score on this train-test partition for these parameters will be set to nan. Details: \n",
      "ValueError: Unknown label type: 'continuous'\n",
      "\n",
      "  FitFailedWarning)\n",
      "C:\\Users\\Owner\\Miniconda3\\lib\\site-packages\\sklearn\\model_selection\\_validation.py:536: FitFailedWarning: Estimator fit failed. The score on this train-test partition for these parameters will be set to nan. Details: \n",
      "ValueError: Unknown label type: 'continuous'\n",
      "\n",
      "  FitFailedWarning)\n",
      "C:\\Users\\Owner\\Miniconda3\\lib\\site-packages\\sklearn\\model_selection\\_validation.py:536: FitFailedWarning: Estimator fit failed. The score on this train-test partition for these parameters will be set to nan. Details: \n",
      "ValueError: Unknown label type: 'continuous'\n",
      "\n",
      "  FitFailedWarning)\n",
      "C:\\Users\\Owner\\Miniconda3\\lib\\site-packages\\sklearn\\model_selection\\_validation.py:536: FitFailedWarning: Estimator fit failed. The score on this train-test partition for these parameters will be set to nan. Details: \n",
      "ValueError: Unknown label type: 'continuous'\n",
      "\n",
      "  FitFailedWarning)\n"
     ]
    },
    {
     "ename": "ValueError",
     "evalue": "Unknown label type: 'continuous'",
     "output_type": "error",
     "traceback": [
      "\u001b[1;31m---------------------------------------------------------------------------\u001b[0m",
      "\u001b[1;31mValueError\u001b[0m                                Traceback (most recent call last)",
      "\u001b[1;32m<ipython-input-183-62ea7fd9cc31>\u001b[0m in \u001b[0;36m<module>\u001b[1;34m\u001b[0m\n\u001b[0;32m      9\u001b[0m \u001b[0mlr\u001b[0m \u001b[1;33m=\u001b[0m \u001b[0mLogisticRegression\u001b[0m\u001b[1;33m(\u001b[0m\u001b[0mrandom_state\u001b[0m \u001b[1;33m=\u001b[0m \u001b[0mRSEED\u001b[0m\u001b[1;33m)\u001b[0m\u001b[1;33m\u001b[0m\u001b[1;33m\u001b[0m\u001b[0m\n\u001b[0;32m     10\u001b[0m \u001b[0mclf\u001b[0m \u001b[1;33m=\u001b[0m \u001b[0mGridSearchCV\u001b[0m\u001b[1;33m(\u001b[0m\u001b[0mlr\u001b[0m\u001b[1;33m,\u001b[0m \u001b[0mparameters\u001b[0m\u001b[1;33m)\u001b[0m\u001b[1;33m\u001b[0m\u001b[1;33m\u001b[0m\u001b[0m\n\u001b[1;32m---> 11\u001b[1;33m \u001b[0mclf\u001b[0m\u001b[1;33m.\u001b[0m\u001b[0mfit\u001b[0m\u001b[1;33m(\u001b[0m\u001b[0mX_train\u001b[0m\u001b[1;33m,\u001b[0m \u001b[0my_train\u001b[0m\u001b[1;33m)\u001b[0m\u001b[1;33m\u001b[0m\u001b[1;33m\u001b[0m\u001b[0m\n\u001b[0m",
      "\u001b[1;32m~\\Miniconda3\\lib\\site-packages\\sklearn\\model_selection\\_search.py\u001b[0m in \u001b[0;36mfit\u001b[1;34m(self, X, y, groups, **fit_params)\u001b[0m\n\u001b[0;32m    737\u001b[0m             \u001b[0mrefit_start_time\u001b[0m \u001b[1;33m=\u001b[0m \u001b[0mtime\u001b[0m\u001b[1;33m.\u001b[0m\u001b[0mtime\u001b[0m\u001b[1;33m(\u001b[0m\u001b[1;33m)\u001b[0m\u001b[1;33m\u001b[0m\u001b[1;33m\u001b[0m\u001b[0m\n\u001b[0;32m    738\u001b[0m             \u001b[1;32mif\u001b[0m \u001b[0my\u001b[0m \u001b[1;32mis\u001b[0m \u001b[1;32mnot\u001b[0m \u001b[1;32mNone\u001b[0m\u001b[1;33m:\u001b[0m\u001b[1;33m\u001b[0m\u001b[1;33m\u001b[0m\u001b[0m\n\u001b[1;32m--> 739\u001b[1;33m                 \u001b[0mself\u001b[0m\u001b[1;33m.\u001b[0m\u001b[0mbest_estimator_\u001b[0m\u001b[1;33m.\u001b[0m\u001b[0mfit\u001b[0m\u001b[1;33m(\u001b[0m\u001b[0mX\u001b[0m\u001b[1;33m,\u001b[0m \u001b[0my\u001b[0m\u001b[1;33m,\u001b[0m \u001b[1;33m**\u001b[0m\u001b[0mfit_params\u001b[0m\u001b[1;33m)\u001b[0m\u001b[1;33m\u001b[0m\u001b[1;33m\u001b[0m\u001b[0m\n\u001b[0m\u001b[0;32m    740\u001b[0m             \u001b[1;32melse\u001b[0m\u001b[1;33m:\u001b[0m\u001b[1;33m\u001b[0m\u001b[1;33m\u001b[0m\u001b[0m\n\u001b[0;32m    741\u001b[0m                 \u001b[0mself\u001b[0m\u001b[1;33m.\u001b[0m\u001b[0mbest_estimator_\u001b[0m\u001b[1;33m.\u001b[0m\u001b[0mfit\u001b[0m\u001b[1;33m(\u001b[0m\u001b[0mX\u001b[0m\u001b[1;33m,\u001b[0m \u001b[1;33m**\u001b[0m\u001b[0mfit_params\u001b[0m\u001b[1;33m)\u001b[0m\u001b[1;33m\u001b[0m\u001b[1;33m\u001b[0m\u001b[0m\n",
      "\u001b[1;32m~\\Miniconda3\\lib\\site-packages\\sklearn\\linear_model\\_logistic.py\u001b[0m in \u001b[0;36mfit\u001b[1;34m(self, X, y, sample_weight)\u001b[0m\n\u001b[0;32m   1526\u001b[0m         X, y = check_X_y(X, y, accept_sparse='csr', dtype=_dtype, order=\"C\",\n\u001b[0;32m   1527\u001b[0m                          accept_large_sparse=solver != 'liblinear')\n\u001b[1;32m-> 1528\u001b[1;33m         \u001b[0mcheck_classification_targets\u001b[0m\u001b[1;33m(\u001b[0m\u001b[0my\u001b[0m\u001b[1;33m)\u001b[0m\u001b[1;33m\u001b[0m\u001b[1;33m\u001b[0m\u001b[0m\n\u001b[0m\u001b[0;32m   1529\u001b[0m         \u001b[0mself\u001b[0m\u001b[1;33m.\u001b[0m\u001b[0mclasses_\u001b[0m \u001b[1;33m=\u001b[0m \u001b[0mnp\u001b[0m\u001b[1;33m.\u001b[0m\u001b[0munique\u001b[0m\u001b[1;33m(\u001b[0m\u001b[0my\u001b[0m\u001b[1;33m)\u001b[0m\u001b[1;33m\u001b[0m\u001b[1;33m\u001b[0m\u001b[0m\n\u001b[0;32m   1530\u001b[0m         \u001b[0mn_samples\u001b[0m\u001b[1;33m,\u001b[0m \u001b[0mn_features\u001b[0m \u001b[1;33m=\u001b[0m \u001b[0mX\u001b[0m\u001b[1;33m.\u001b[0m\u001b[0mshape\u001b[0m\u001b[1;33m\u001b[0m\u001b[1;33m\u001b[0m\u001b[0m\n",
      "\u001b[1;32m~\\Miniconda3\\lib\\site-packages\\sklearn\\utils\\multiclass.py\u001b[0m in \u001b[0;36mcheck_classification_targets\u001b[1;34m(y)\u001b[0m\n\u001b[0;32m    167\u001b[0m     if y_type not in ['binary', 'multiclass', 'multiclass-multioutput',\n\u001b[0;32m    168\u001b[0m                       'multilabel-indicator', 'multilabel-sequences']:\n\u001b[1;32m--> 169\u001b[1;33m         \u001b[1;32mraise\u001b[0m \u001b[0mValueError\u001b[0m\u001b[1;33m(\u001b[0m\u001b[1;34m\"Unknown label type: %r\"\u001b[0m \u001b[1;33m%\u001b[0m \u001b[0my_type\u001b[0m\u001b[1;33m)\u001b[0m\u001b[1;33m\u001b[0m\u001b[1;33m\u001b[0m\u001b[0m\n\u001b[0m\u001b[0;32m    170\u001b[0m \u001b[1;33m\u001b[0m\u001b[0m\n\u001b[0;32m    171\u001b[0m \u001b[1;33m\u001b[0m\u001b[0m\n",
      "\u001b[1;31mValueError\u001b[0m: Unknown label type: 'continuous'"
     ]
    }
   ],
   "source": [
    "# Create the model with 10 trees\n",
    "#regressor = RandomForestRegressor(n_estimators = 100,\n",
    "                                 # random_state = RSEED)\n",
    "\n",
    "# Fit on training data\n",
    "#regressor.fit(X_train, y_train)\n",
    "\n",
    "parameters={'solver':['newton-cg', 'lbfgs', 'liblinear', 'sag', 'saga'],'max_iter': [64,100,128,200,256,400,528,1000]}\n",
    "lr = LogisticRegression(random_state = RSEED)\n",
    "clf = GridSearchCV(lr, parameters)\n",
    "clf.fit(X_train, y_train)"
   ]
  },
  {
   "cell_type": "code",
   "execution_count": 19,
   "metadata": {},
   "outputs": [
    {
     "ename": "AttributeError",
     "evalue": "'GridSearchCV' object has no attribute 'best_params_'",
     "output_type": "error",
     "traceback": [
      "\u001b[0;31m---------------------------------------------------------------------------\u001b[0m",
      "\u001b[0;31mAttributeError\u001b[0m                            Traceback (most recent call last)",
      "\u001b[0;32m<ipython-input-19-efd907acad9f>\u001b[0m in \u001b[0;36m<module>\u001b[0;34m\u001b[0m\n\u001b[0;32m----> 1\u001b[0;31m \u001b[0mprint\u001b[0m\u001b[0;34m(\u001b[0m\u001b[0mclf\u001b[0m\u001b[0;34m.\u001b[0m\u001b[0mbest_params_\u001b[0m\u001b[0;34m)\u001b[0m\u001b[0;34m\u001b[0m\u001b[0;34m\u001b[0m\u001b[0m\n\u001b[0m",
      "\u001b[0;31mAttributeError\u001b[0m: 'GridSearchCV' object has no attribute 'best_params_'"
     ]
    }
   ],
   "source": [
    "print(clf.best_params_)"
   ]
  },
  {
   "cell_type": "markdown",
   "metadata": {},
   "source": [
    "## Logistic Regression Loop"
   ]
  },
  {
   "cell_type": "code",
   "execution_count": 13,
   "metadata": {},
   "outputs": [
    {
     "name": "stdout",
     "output_type": "stream",
     "text": [
      "cancer type: 1\n",
      "0    All Cancer Sites\n",
      "Creating Logistic Regression Model and Fitting the Data\n"
     ]
    },
    {
     "ename": "ValueError",
     "evalue": "Unknown label type: 'continuous'",
     "output_type": "error",
     "traceback": [
      "\u001b[1;31m---------------------------------------------------------------------------\u001b[0m",
      "\u001b[1;31mValueError\u001b[0m                                Traceback (most recent call last)",
      "\u001b[1;32m<ipython-input-13-7b150dccbf42>\u001b[0m in \u001b[0;36m<module>\u001b[1;34m\u001b[0m\n\u001b[0;32m     32\u001b[0m \u001b[1;33m\u001b[0m\u001b[0m\n\u001b[0;32m     33\u001b[0m     \u001b[1;31m# Fit on training data\u001b[0m\u001b[1;33m\u001b[0m\u001b[1;33m\u001b[0m\u001b[1;33m\u001b[0m\u001b[0m\n\u001b[1;32m---> 34\u001b[1;33m     \u001b[0mlr\u001b[0m\u001b[1;33m.\u001b[0m\u001b[0mfit\u001b[0m\u001b[1;33m(\u001b[0m\u001b[0mX_train\u001b[0m\u001b[1;33m,\u001b[0m \u001b[0my_train\u001b[0m\u001b[1;33m)\u001b[0m\u001b[1;33m\u001b[0m\u001b[1;33m\u001b[0m\u001b[0m\n\u001b[0m\u001b[0;32m     35\u001b[0m \u001b[1;33m\u001b[0m\u001b[0m\n\u001b[0;32m     36\u001b[0m     \u001b[1;31m#Evaluation\u001b[0m\u001b[1;33m\u001b[0m\u001b[1;33m\u001b[0m\u001b[1;33m\u001b[0m\u001b[0m\n",
      "\u001b[1;32m~\\Miniconda3\\lib\\site-packages\\sklearn\\linear_model\\_logistic.py\u001b[0m in \u001b[0;36mfit\u001b[1;34m(self, X, y, sample_weight)\u001b[0m\n\u001b[0;32m   1526\u001b[0m         X, y = check_X_y(X, y, accept_sparse='csr', dtype=_dtype, order=\"C\",\n\u001b[0;32m   1527\u001b[0m                          accept_large_sparse=solver != 'liblinear')\n\u001b[1;32m-> 1528\u001b[1;33m         \u001b[0mcheck_classification_targets\u001b[0m\u001b[1;33m(\u001b[0m\u001b[0my\u001b[0m\u001b[1;33m)\u001b[0m\u001b[1;33m\u001b[0m\u001b[1;33m\u001b[0m\u001b[0m\n\u001b[0m\u001b[0;32m   1529\u001b[0m         \u001b[0mself\u001b[0m\u001b[1;33m.\u001b[0m\u001b[0mclasses_\u001b[0m \u001b[1;33m=\u001b[0m \u001b[0mnp\u001b[0m\u001b[1;33m.\u001b[0m\u001b[0munique\u001b[0m\u001b[1;33m(\u001b[0m\u001b[0my\u001b[0m\u001b[1;33m)\u001b[0m\u001b[1;33m\u001b[0m\u001b[1;33m\u001b[0m\u001b[0m\n\u001b[0;32m   1530\u001b[0m         \u001b[0mn_samples\u001b[0m\u001b[1;33m,\u001b[0m \u001b[0mn_features\u001b[0m \u001b[1;33m=\u001b[0m \u001b[0mX\u001b[0m\u001b[1;33m.\u001b[0m\u001b[0mshape\u001b[0m\u001b[1;33m\u001b[0m\u001b[1;33m\u001b[0m\u001b[0m\n",
      "\u001b[1;32m~\\Miniconda3\\lib\\site-packages\\sklearn\\utils\\multiclass.py\u001b[0m in \u001b[0;36mcheck_classification_targets\u001b[1;34m(y)\u001b[0m\n\u001b[0;32m    167\u001b[0m     if y_type not in ['binary', 'multiclass', 'multiclass-multioutput',\n\u001b[0;32m    168\u001b[0m                       'multilabel-indicator', 'multilabel-sequences']:\n\u001b[1;32m--> 169\u001b[1;33m         \u001b[1;32mraise\u001b[0m \u001b[0mValueError\u001b[0m\u001b[1;33m(\u001b[0m\u001b[1;34m\"Unknown label type: %r\"\u001b[0m \u001b[1;33m%\u001b[0m \u001b[0my_type\u001b[0m\u001b[1;33m)\u001b[0m\u001b[1;33m\u001b[0m\u001b[1;33m\u001b[0m\u001b[0m\n\u001b[0m\u001b[0;32m    170\u001b[0m \u001b[1;33m\u001b[0m\u001b[0m\n\u001b[0;32m    171\u001b[0m \u001b[1;33m\u001b[0m\u001b[0m\n",
      "\u001b[1;31mValueError\u001b[0m: Unknown label type: 'continuous'"
     ]
    }
   ],
   "source": [
    "sum1 = 0\n",
    "for i in cancerVals:\n",
    "    #print cancer type number\n",
    "    print(\"cancer type:\",i)\n",
    "    \n",
    "    #print cancer description\n",
    "    cancer=cancerTypes[\"cancer\"]==i\n",
    "    discr=cancerTypes[cancer][\"cancer_description\"].to_string()\n",
    "    print(discr)\n",
    "    \n",
    "    #selecting data for the specific cancer type\n",
    "    cancerData=data[\"cancer\"]==i\n",
    "    newData=data[cancerData]\n",
    "    \n",
    "    #splitting to test and train\n",
    "    x1=newData.loc[:, 'ACID':'WATR']\n",
    "    y = newData['annual_count_avg']\n",
    "\n",
    "    X_train1, X_test1, y_train, y_test = train_test_split(x1, y,\n",
    "                                                        test_size=0.3,\n",
    "                                                        random_state = RSEED)\n",
    "\n",
    "    scaler = StandardScaler()\n",
    "    scaler.fit(X_train1)\n",
    "\n",
    "    X_train = scaler.transform(X_train1)\n",
    "    X_test = scaler.transform(X_test1)\n",
    "    \n",
    "    #Creating Logistic Regression Model\n",
    "    print(\"Creating Logistic Regression Model and Fitting the Data\")\n",
    "    lr = LogisticRegression(random_state=RSEED,solver='sag' ,max_iter=2000)\n",
    "\n",
    "    # Fit on training data\n",
    "    lr.fit(X_train, y_train)\n",
    "    \n",
    "    #Evaluation\n",
    "    r2_score=lr.score(X_test, y_test)\n",
    "    print(\"score\",r2_score)\n",
    "    print(\"\\n\")\n",
    "    sum1 += r2_score\n",
    "\n",
    "print(f\"Average score: {sum1/len(cancerVals)}\")"
   ]
  },
  {
   "cell_type": "markdown",
   "metadata": {},
   "source": [
    "# SVR"
   ]
  },
  {
   "cell_type": "markdown",
   "metadata": {},
   "source": [
    "## Hypertuning"
   ]
  },
  {
   "cell_type": "code",
   "execution_count": 82,
   "metadata": {},
   "outputs": [
    {
     "name": "stdout",
     "output_type": "stream",
     "text": [
      "XTrain (2193, 24)\n",
      "XTest (940, 24)\n"
     ]
    }
   ],
   "source": [
    "cancerData=data[\"cancer\"]==1\n",
    "newData=data[cancerData]    \n",
    "\n",
    "#splitting to test and train\n",
    "x1=newData.loc[:, 'ACID':'WATR']\n",
    "y = newData['annual_count_avg']\n",
    "\n",
    "X_train1, X_test1, y_train, y_test = train_test_split(x1, y,\n",
    "                                                    test_size=0.3,\n",
    "                                                    random_state = RSEED)\n",
    "scaler = StandardScaler()\n",
    "scaler.fit(X_train1)\n",
    "\n",
    "X_train = scaler.transform(X_train1)\n",
    "X_test = scaler.transform(X_test1)\n",
    "\n",
    "print(\"XTrain\",X_train.shape)\n",
    "print(\"XTest\",X_test.shape)"
   ]
  },
  {
   "cell_type": "code",
   "execution_count": 23,
   "metadata": {},
   "outputs": [
    {
     "data": {
      "text/plain": [
       "GridSearchCV(cv=None, error_score=nan,\n",
       "             estimator=LinearSVR(C=1.0, dual=True, epsilon=0.0,\n",
       "                                 fit_intercept=True, intercept_scaling=1.0,\n",
       "                                 loss='epsilon_insensitive', max_iter=1000,\n",
       "                                 random_state=100, tol=0.0001, verbose=0),\n",
       "             iid='deprecated', n_jobs=None,\n",
       "             param_grid={'C': [0.01, 0.1, 1],\n",
       "                         'epsilon': [0, 0.001, 0.01, 0.1, 1],\n",
       "                         'max_iter': [64, 100, 128, 200, 256, 400, 528, 1000,\n",
       "                                      2000],\n",
       "                         'tol': [1e-05, 0.001, 0.1]},\n",
       "             pre_dispatch='2*n_jobs', refit=True, return_train_score=False,\n",
       "             scoring=None, verbose=0)"
      ]
     },
     "execution_count": 23,
     "metadata": {},
     "output_type": "execute_result"
    }
   ],
   "source": [
    "# Create the model with 10 trees\n",
    "#regressor = RandomForestRegressor(n_estimators = 100,\n",
    "                                 # random_state = RSEED)\n",
    "\n",
    "# Fit on training data\n",
    "#regressor.fit(X_train, y_train)\n",
    "\n",
    "\n",
    "parameters={'C': [0.01,0.1,1],'epsilon':[0,0.001,0.01,0.1,1],'tol':[1e-5,1e-3,1e-1],'max_iter': [64,100,128,200,256,400,528,1000,2000]}\n",
    "svr =LinearSVR(random_state = RSEED)\n",
    "clf = GridSearchCV(svr, parameters)\n",
    "clf.fit(X_train, y_train)"
   ]
  },
  {
   "cell_type": "code",
   "execution_count": 24,
   "metadata": {},
   "outputs": [
    {
     "name": "stdout",
     "output_type": "stream",
     "text": [
      "{'C': 1, 'epsilon': 0.1, 'max_iter': 64, 'tol': 0.001}\n"
     ]
    }
   ],
   "source": [
    "print(clf.best_params_)"
   ]
  },
  {
   "cell_type": "markdown",
   "metadata": {},
   "source": [
    "## SVR Loop"
   ]
  },
  {
   "cell_type": "code",
   "execution_count": 16,
   "metadata": {
    "scrolled": true
   },
   "outputs": [
    {
     "name": "stdout",
     "output_type": "stream",
     "text": [
      "cancer type: 1\n",
      "0    All Cancer Sites\n",
      "Creating SVR Model and Fitting the Data\n",
      "score -0.017549044660424284\n",
      "cancer type: 3\n",
      "1    Oral Cavity & Pharynx\n",
      "Creating SVR Model and Fitting the Data\n",
      "score -0.01878244934500306\n",
      "cancer type: 17\n",
      "2    Esophagus\n",
      "Creating SVR Model and Fitting the Data\n",
      "score -0.15505755597593907\n",
      "cancer type: 18\n",
      "3    Stomach\n",
      "Creating SVR Model and Fitting the Data\n",
      "score -0.18647508404214497\n",
      "cancer type: 20\n",
      "4    Colon & Rectum\n",
      "Creating SVR Model and Fitting the Data\n",
      "score -0.0721860500250675\n",
      "cancer type: 35\n",
      "5    Liver & Bile Duct\n",
      "Creating SVR Model and Fitting the Data\n",
      "score -0.2587595984623656\n",
      "cancer type: 40\n",
      "6    Pancreas\n",
      "Creating SVR Model and Fitting the Data\n",
      "score -0.45747459664691864\n",
      "cancer type: 47\n",
      "7    Lung & Bronchus\n",
      "Creating SVR Model and Fitting the Data\n",
      "score -0.02222658384688514\n",
      "cancer type: 53\n",
      "8    Melanoma of the Skin\n",
      "Creating SVR Model and Fitting the Data\n",
      "score 0.006382376218478036\n",
      "cancer type: 55\n",
      "9    Breast (Female)\n",
      "Creating SVR Model and Fitting the Data\n",
      "score -0.07354086097602619\n",
      "cancer type: 57\n",
      "10    Cervix (Female)\n",
      "Creating SVR Model and Fitting the Data\n",
      "score -0.030837230238767388\n",
      "cancer type: 58\n",
      "11    Uterus (Corpus & Uterus, NOS) (Female)\n",
      "Creating SVR Model and Fitting the Data\n",
      "score 0.012251644916316473\n",
      "cancer type: 61\n",
      "12    Ovary (Female)\n",
      "Creating SVR Model and Fitting the Data\n",
      "score -0.21448790918639982\n",
      "cancer type: 66\n",
      "13    Prostate (Male)\n",
      "Creating SVR Model and Fitting the Data\n",
      "score -0.02768268770853921\n",
      "cancer type: 71\n",
      "14    Bladder\n",
      "Creating SVR Model and Fitting the Data\n",
      "score -0.02117036399856631\n",
      "cancer type: 72\n",
      "15    Kidney & Renal Pelvis\n",
      "Creating SVR Model and Fitting the Data\n",
      "score -0.09780314074965468\n",
      "cancer type: 76\n",
      "16    Brain & ONS\n",
      "Creating SVR Model and Fitting the Data\n",
      "score -0.31651864665126395\n",
      "cancer type: 80\n",
      "17    Thyroid\n",
      "Creating SVR Model and Fitting the Data\n",
      "score -0.5093978890069621\n",
      "cancer type: 86\n",
      "18    Non-Hodgkin Lymphoma\n",
      "Creating SVR Model and Fitting the Data\n",
      "score -0.14611516724739415\n",
      "cancer type: 90\n",
      "19    Leukemia\n",
      "Creating SVR Model and Fitting the Data\n",
      "score -0.01194830106086009\n",
      "cancer type: 400\n",
      "20    Breast (in situ) (Female)\n",
      "Creating SVR Model and Fitting the Data\n",
      "score -0.6108863971491829\n",
      "cancer type: 515\n",
      "21    Childhood (Ages <20, All Sites)\n",
      "Creating SVR Model and Fitting the Data\n",
      "score 0.021968660485019886\n",
      "cancer type: 516\n",
      "22    Childhood (Ages <15, All Sites)\n",
      "Creating SVR Model and Fitting the Data\n",
      "score 0.16765237682216005\n",
      "Average score: -0.1322019347189735\n"
     ]
    }
   ],
   "source": [
    "sum1 = 0\n",
    "for i in cancerVals:\n",
    "    #print cancer type number\n",
    "    print(\"cancer type:\",i)\n",
    "    \n",
    "    #print cancer description\n",
    "    cancer=cancerTypes[\"cancer\"]==i\n",
    "    discr=cancerTypes[cancer][\"cancer_description\"].to_string()\n",
    "    print(discr)\n",
    "    \n",
    "    #selecting data for the specific cancer type\n",
    "    cancerData=data[\"cancer\"]==i\n",
    "    newData=data[cancerData]\n",
    "    \n",
    "    #splitting to test and train\n",
    "    x1=newData.loc[:, 'ACID':'WATR']\n",
    "    y = newData['annual_count_avg']\n",
    "\n",
    "    X_train1, X_test1, y_train, y_test = train_test_split(x1, y,\n",
    "                                                        test_size=0.3,\n",
    "                                                        random_state = RSEED)\n",
    "\n",
    "    scaler = StandardScaler()\n",
    "    scaler.fit(X_train1)\n",
    "\n",
    "    X_train = scaler.transform(X_train1)\n",
    "    X_test = scaler.transform(X_test1)\n",
    "    \n",
    "    #Creating SVR Model\n",
    "    print(\"Creating SVR Model and Fitting the Data\")\n",
    "    svr = LinearSVR(random_state=0, C= 1, epsilon= 0, max_iter=64, tol= 0.1)\n",
    "\n",
    "    # Fit on training data\n",
    "    svr.fit(X_train, y_train)\n",
    "    \n",
    "    #Evaluation\n",
    "    r2_score=svr.score(X_test, y_test)\n",
    "    print(\"score\",r2_score)\n",
    "    sum1 += r2_score\n",
    "\n",
    "print(f\"Average score: {sum1/len(cancerVals)}\")"
   ]
  },
  {
   "cell_type": "markdown",
   "metadata": {},
   "source": [
    "## Other Models"
   ]
  },
  {
   "cell_type": "code",
   "execution_count": 87,
   "metadata": {},
   "outputs": [
    {
     "name": "stdout",
     "output_type": "stream",
     "text": [
      "XTrain (2193, 24)\n",
      "XTest (940, 24)\n"
     ]
    }
   ],
   "source": [
    "from sklearn import linear_model\n",
    "\n",
    "cancerData=data[\"cancer\"]==1\n",
    "newData=data[cancerData]    \n",
    "\n",
    "#splitting to test and train\n",
    "x1 = newData.loc[:, 'ACID':'WATR']\n",
    "y = newData['annual_count_avg']\n",
    "\n",
    "X_train1, X_test1, y_train, y_test = train_test_split(x1, y,\n",
    "                                                    test_size=0.3,\n",
    "                                                    random_state = RSEED)\n",
    "scaler = StandardScaler()\n",
    "scaler.fit(X_train1)\n",
    "\n",
    "X_train = scaler.transform(X_train1)\n",
    "X_test = scaler.transform(X_test1)\n",
    "\n",
    "print(\"XTrain\",X_train.shape)\n",
    "print(\"XTest\",X_test.shape)"
   ]
  },
  {
   "cell_type": "code",
   "execution_count": 88,
   "metadata": {},
   "outputs": [],
   "source": [
    "ridge = linear_model.Ridge(alpha=0.5).fit(X_train, y_train)"
   ]
  },
  {
   "cell_type": "code",
   "execution_count": 89,
   "metadata": {},
   "outputs": [
    {
     "name": "stdout",
     "output_type": "stream",
     "text": [
      "cancer type: 1\n",
      "0    All Cancer Sites\n",
      "Creating Ridge Model and Fitting the Data\n",
      "score 0.9025716440951275\n",
      "cancer type: 3\n",
      "1    Oral Cavity & Pharynx\n",
      "Creating Ridge Model and Fitting the Data\n",
      "score 0.8737647883033777\n",
      "cancer type: 17\n",
      "2    Esophagus\n",
      "Creating Ridge Model and Fitting the Data\n",
      "score 0.8773831331720305\n",
      "cancer type: 18\n",
      "3    Stomach\n",
      "Creating Ridge Model and Fitting the Data\n",
      "score 0.7698276613277772\n",
      "cancer type: 20\n",
      "4    Colon & Rectum\n",
      "Creating Ridge Model and Fitting the Data\n",
      "score 0.8918640094051146\n",
      "cancer type: 35\n",
      "5    Liver & Bile Duct\n",
      "Creating Ridge Model and Fitting the Data\n",
      "score 0.8215960099034895\n",
      "cancer type: 40\n",
      "6    Pancreas\n",
      "Creating Ridge Model and Fitting the Data\n",
      "score 0.8974095256595276\n",
      "cancer type: 47\n",
      "7    Lung & Bronchus\n",
      "Creating Ridge Model and Fitting the Data\n",
      "score 0.8741241949022194\n",
      "cancer type: 53\n",
      "8    Melanoma of the Skin\n",
      "Creating Ridge Model and Fitting the Data\n",
      "score 0.7722141774247713\n",
      "cancer type: 55\n",
      "9    Breast (Female)\n",
      "Creating Ridge Model and Fitting the Data\n",
      "score 0.9185667621272752\n",
      "cancer type: 57\n",
      "10    Cervix (Female)\n",
      "Creating Ridge Model and Fitting the Data\n",
      "score 0.8455915833019196\n",
      "cancer type: 58\n",
      "11    Uterus (Corpus & Uterus, NOS) (Female)\n",
      "Creating Ridge Model and Fitting the Data\n",
      "score 0.8695973038707447\n",
      "cancer type: 61\n",
      "12    Ovary (Female)\n",
      "Creating Ridge Model and Fitting the Data\n",
      "score 0.8979339948949979\n",
      "cancer type: 66\n",
      "13    Prostate (Male)\n",
      "Creating Ridge Model and Fitting the Data\n",
      "score 0.8696986344313842\n",
      "cancer type: 71\n",
      "14    Bladder\n",
      "Creating Ridge Model and Fitting the Data\n",
      "score 0.8820974329631616\n",
      "cancer type: 72\n",
      "15    Kidney & Renal Pelvis\n",
      "Creating Ridge Model and Fitting the Data\n",
      "score 0.900358905517841\n",
      "cancer type: 76\n",
      "16    Brain & ONS\n",
      "Creating Ridge Model and Fitting the Data\n",
      "score 0.9137368962313472\n",
      "cancer type: 80\n",
      "17    Thyroid\n",
      "Creating Ridge Model and Fitting the Data\n",
      "score 0.8801209431970676\n",
      "cancer type: 86\n",
      "18    Non-Hodgkin Lymphoma\n",
      "Creating Ridge Model and Fitting the Data\n",
      "score 0.8497371473168727\n",
      "cancer type: 90\n",
      "19    Leukemia\n",
      "Creating Ridge Model and Fitting the Data\n",
      "score 0.8502989750304772\n",
      "cancer type: 400\n",
      "20    Breast (in situ) (Female)\n",
      "Creating Ridge Model and Fitting the Data\n",
      "score 0.8691722480820725\n",
      "cancer type: 515\n",
      "21    Childhood (Ages <20, All Sites)\n",
      "Creating Ridge Model and Fitting the Data\n",
      "score 0.8945846153748525\n",
      "cancer type: 516\n",
      "22    Childhood (Ages <15, All Sites)\n",
      "Creating Ridge Model and Fitting the Data\n",
      "score 0.8952109263624006\n",
      "Average score: 0.8703244136041673\n"
     ]
    }
   ],
   "source": [
    "sum1 = 0\n",
    "for i in cancerVals:\n",
    "    #print cancer type number\n",
    "    print(\"cancer type:\",i)\n",
    "    \n",
    "    #print cancer description\n",
    "    cancer=cancerTypes[\"cancer\"]==i\n",
    "    discr=cancerTypes[cancer][\"cancer_description\"].to_string()\n",
    "    print(discr)\n",
    "    \n",
    "    #selecting data for the specific cancer type\n",
    "    cancerData=data[\"cancer\"]==i\n",
    "    newData=data[cancerData]\n",
    "    \n",
    "    #splitting to test and train\n",
    "    x1=newData.loc[:, 'ACID':'WATR']\n",
    "    y = newData['annual_count_avg']\n",
    "\n",
    "    X_train1, X_test1, y_train, y_test = train_test_split(x1, y,\n",
    "                                                        test_size=0.3,\n",
    "                                                        random_state = RSEED)\n",
    "\n",
    "    scaler = StandardScaler()\n",
    "    scaler.fit(X_train1)\n",
    "\n",
    "    X_train = scaler.transform(X_train1)\n",
    "    X_test = scaler.transform(X_test1)\n",
    "    \n",
    "    #Creating SVR Model\n",
    "    print(\"Creating Ridge Model and Fitting the Data\")\n",
    "    ridge = linear_model.Ridge(alpha=0.5).fit(X_train, y_train)\n",
    "    \n",
    "    #Evaluation\n",
    "    r2_score = ridge.score(X_test, y_test)\n",
    "    print(\"score\", r2_score)\n",
    "    sum1 += r2_score\n",
    "\n",
    "print(f\"Average score: {sum1/len(cancerVals)}\")"
   ]
  },
  {
   "cell_type": "code",
   "execution_count": 20,
   "metadata": {},
   "outputs": [
    {
     "name": "stdout",
     "output_type": "stream",
     "text": [
      "cancer type: 1\n",
      "0    All Cancer Sites\n",
      "Creating Elastic Net Model and Fitting the Data\n",
      "score 0.0025520013628861356\n",
      "cancer type: 3\n",
      "1    Oral Cavity & Pharynx\n",
      "Creating Elastic Net Model and Fitting the Data\n",
      "score 0.0010854773382800165\n",
      "cancer type: 17\n",
      "2    Esophagus\n",
      "Creating Elastic Net Model and Fitting the Data\n",
      "score 0.008639073108377082\n",
      "cancer type: 18\n",
      "3    Stomach\n",
      "Creating Elastic Net Model and Fitting the Data\n",
      "score 0.04367918935355397\n",
      "cancer type: 20\n",
      "4    Colon & Rectum\n",
      "Creating Elastic Net Model and Fitting the Data\n",
      "score -0.0014016699587464654\n",
      "cancer type: 35\n",
      "5    Liver & Bile Duct\n",
      "Creating Elastic Net Model and Fitting the Data\n",
      "score 0.04474408258082785\n",
      "cancer type: 40\n",
      "6    Pancreas\n",
      "Creating Elastic Net Model and Fitting the Data\n",
      "score 0.021828315599029202\n",
      "cancer type: 47\n",
      "7    Lung & Bronchus\n",
      "Creating Elastic Net Model and Fitting the Data\n",
      "score 0.0019638840904487864\n",
      "cancer type: 53\n",
      "8    Melanoma of the Skin\n",
      "Creating Elastic Net Model and Fitting the Data\n",
      "score 0.015735348084074174\n",
      "cancer type: 55\n",
      "9    Breast (Female)\n",
      "Creating Elastic Net Model and Fitting the Data\n",
      "score 0.018124263091499615\n",
      "cancer type: 57\n",
      "10    Cervix (Female)\n",
      "Creating Elastic Net Model and Fitting the Data\n",
      "score 0.06747019847112357\n",
      "cancer type: 58\n",
      "11    Uterus (Corpus & Uterus, NOS) (Female)\n",
      "Creating Elastic Net Model and Fitting the Data\n",
      "score 0.021521277741591294\n",
      "cancer type: 61\n",
      "12    Ovary (Female)\n",
      "Creating Elastic Net Model and Fitting the Data\n",
      "score 0.06552732563292762\n",
      "cancer type: 66\n",
      "13    Prostate (Male)\n",
      "Creating Elastic Net Model and Fitting the Data\n",
      "score 0.01252505824738337\n",
      "cancer type: 71\n",
      "14    Bladder\n",
      "Creating Elastic Net Model and Fitting the Data\n",
      "score 0.011335549973685688\n",
      "cancer type: 72\n",
      "15    Kidney & Renal Pelvis\n",
      "Creating Elastic Net Model and Fitting the Data\n",
      "score 0.0012849478747694043\n",
      "cancer type: 76\n",
      "16    Brain & ONS\n",
      "Creating Elastic Net Model and Fitting the Data\n",
      "score 0.030266633936625542\n",
      "cancer type: 80\n",
      "17    Thyroid\n",
      "Creating Elastic Net Model and Fitting the Data\n",
      "score 0.04068318949074334\n",
      "cancer type: 86\n",
      "18    Non-Hodgkin Lymphoma\n",
      "Creating Elastic Net Model and Fitting the Data\n",
      "score 0.022507174880878278\n",
      "cancer type: 90\n",
      "19    Leukemia\n",
      "Creating Elastic Net Model and Fitting the Data\n",
      "score 0.012799861676613622\n",
      "cancer type: 400\n",
      "20    Breast (in situ) (Female)\n",
      "Creating Elastic Net Model and Fitting the Data\n",
      "score 0.06233680691201782\n",
      "cancer type: 515\n",
      "21    Childhood (Ages <20, All Sites)\n",
      "Creating Elastic Net Model and Fitting the Data\n",
      "score 0.10943832789300767\n",
      "cancer type: 516\n",
      "22    Childhood (Ages <15, All Sites)\n",
      "Creating Elastic Net Model and Fitting the Data\n",
      "score 0.14122492506685236\n",
      "Average score: 0.032863967062976084\n"
     ]
    }
   ],
   "source": [
    "from sklearn.linear_model import ElasticNet\n",
    "sum1 = 0\n",
    "for i in cancerVals:\n",
    "    #print cancer type number\n",
    "    print(\"cancer type:\",i)\n",
    "    \n",
    "    #print cancer description\n",
    "    cancer=cancerTypes[\"cancer\"]==i\n",
    "    discr=cancerTypes[cancer][\"cancer_description\"].to_string()\n",
    "    print(discr)\n",
    "    \n",
    "    #selecting data for the specific cancer type\n",
    "    cancerData=data[\"cancer\"]==i\n",
    "    newData=data[cancerData]\n",
    "    \n",
    "    #splitting to test and train\n",
    "    x1=newData.loc[:, 'ACID':'WATR']\n",
    "    y = newData['annual_count_avg']\n",
    "\n",
    "    X_train1, X_test1, y_train, y_test = train_test_split(x1, y,\n",
    "                                                        test_size=0.3,\n",
    "                                                        random_state = RSEED)\n",
    "\n",
    "    scaler = StandardScaler()\n",
    "    scaler.fit(X_train1)\n",
    "\n",
    "    X_train = scaler.transform(X_train1)\n",
    "    X_test = scaler.transform(X_test1)\n",
    "    \n",
    "    #Creating SVR Model\n",
    "    print(\"Creating Elastic Net Model and Fitting the Data\")\n",
    "    eNet = ElasticNet(random_state=RSEED).fit(X_train, y_train)\n",
    "    \n",
    "    #Evaluation\n",
    "    r2_score = eNet.score(X_test, y_test)\n",
    "    print(\"score\", r2_score)\n",
    "    sum1 += r2_score\n",
    "\n",
    "print(f\"Average score: {sum1/len(cancerVals)}\")"
   ]
  },
  {
   "cell_type": "code",
   "execution_count": 90,
   "metadata": {
    "scrolled": false
   },
   "outputs": [
    {
     "name": "stdout",
     "output_type": "stream",
     "text": [
      "cancer type: 1\n",
      "0    All Cancer Sites\n",
      "Creating Lasso Model and Fitting the Data\n",
      "score 0.8969623669548089\n",
      "cancer type: 3\n",
      "1    Oral Cavity & Pharynx\n",
      "Creating Lasso Model and Fitting the Data\n",
      "score 0.8683599829265045\n",
      "cancer type: 17\n",
      "2    Esophagus\n",
      "Creating Lasso Model and Fitting the Data\n",
      "score 0.8686486168615004\n",
      "cancer type: 18\n",
      "3    Stomach\n",
      "Creating Lasso Model and Fitting the Data\n",
      "score 0.7630405045273791\n",
      "cancer type: 20\n",
      "4    Colon & Rectum\n",
      "Creating Lasso Model and Fitting the Data\n"
     ]
    },
    {
     "name": "stderr",
     "output_type": "stream",
     "text": [
      "C:\\Users\\Owner\\Miniconda3\\lib\\site-packages\\sklearn\\linear_model\\_coordinate_descent.py:476: ConvergenceWarning: Objective did not converge. You might want to increase the number of iterations. Duality gap: 129173876.32710503, tolerance: 540730.6803087096\n",
      "  positive)\n",
      "C:\\Users\\Owner\\Miniconda3\\lib\\site-packages\\sklearn\\linear_model\\_coordinate_descent.py:476: ConvergenceWarning: Objective did not converge. You might want to increase the number of iterations. Duality gap: 104089.87067688466, tolerance: 352.4772922936618\n",
      "  positive)\n",
      "C:\\Users\\Owner\\Miniconda3\\lib\\site-packages\\sklearn\\linear_model\\_coordinate_descent.py:476: ConvergenceWarning: Objective did not converge. You might want to increase the number of iterations. Duality gap: 20399.624631353374, tolerance: 45.46706374828999\n",
      "  positive)\n",
      "C:\\Users\\Owner\\Miniconda3\\lib\\site-packages\\sklearn\\linear_model\\_coordinate_descent.py:476: ConvergenceWarning: Objective did not converge. You might want to increase the number of iterations. Duality gap: 50709.245516571726, tolerance: 213.50305444596438\n",
      "  positive)\n",
      "C:\\Users\\Owner\\Miniconda3\\lib\\site-packages\\sklearn\\linear_model\\_coordinate_descent.py:476: ConvergenceWarning: Objective did not converge. You might want to increase the number of iterations. Duality gap: 936266.2559235753, tolerance: 4280.5519511171915\n",
      "  positive)\n",
      "C:\\Users\\Owner\\Miniconda3\\lib\\site-packages\\sklearn\\linear_model\\_coordinate_descent.py:476: ConvergenceWarning: Objective did not converge. You might want to increase the number of iterations. Duality gap: 78512.10929202956, tolerance: 317.5998875512992\n",
      "  positive)\n"
     ]
    },
    {
     "name": "stdout",
     "output_type": "stream",
     "text": [
      "score 0.8884298993796352\n",
      "cancer type: 35\n",
      "5    Liver & Bile Duct\n",
      "Creating Lasso Model and Fitting the Data\n",
      "score 0.8103952526326066\n",
      "cancer type: 40\n",
      "6    Pancreas\n",
      "Creating Lasso Model and Fitting the Data\n",
      "score 0.8907012234529176\n",
      "cancer type: 47\n",
      "7    Lung & Bronchus\n",
      "Creating Lasso Model and Fitting the Data\n",
      "score 0.8661234589691071\n",
      "cancer type: 53\n",
      "8    Melanoma of the Skin\n",
      "Creating Lasso Model and Fitting the Data\n",
      "score 0.7738672640162452\n",
      "cancer type: 55\n",
      "9    Breast (Female)\n",
      "Creating Lasso Model and Fitting the Data\n"
     ]
    },
    {
     "name": "stderr",
     "output_type": "stream",
     "text": [
      "C:\\Users\\Owner\\Miniconda3\\lib\\site-packages\\sklearn\\linear_model\\_coordinate_descent.py:476: ConvergenceWarning: Objective did not converge. You might want to increase the number of iterations. Duality gap: 120003.74107478, tolerance: 476.1224101231196\n",
      "  positive)\n",
      "C:\\Users\\Owner\\Miniconda3\\lib\\site-packages\\sklearn\\linear_model\\_coordinate_descent.py:476: ConvergenceWarning: Objective did not converge. You might want to increase the number of iterations. Duality gap: 3441868.5987310726, tolerance: 7081.3557087095305\n",
      "  positive)\n",
      "C:\\Users\\Owner\\Miniconda3\\lib\\site-packages\\sklearn\\linear_model\\_coordinate_descent.py:476: ConvergenceWarning: Objective did not converge. You might want to increase the number of iterations. Duality gap: 568306.1142631328, tolerance: 1017.5560758777921\n",
      "  positive)\n",
      "C:\\Users\\Owner\\Miniconda3\\lib\\site-packages\\sklearn\\linear_model\\_coordinate_descent.py:476: ConvergenceWarning: Objective did not converge. You might want to increase the number of iterations. Duality gap: 2472227.7499809265, tolerance: 13217.972758230735\n",
      "  positive)\n",
      "C:\\Users\\Owner\\Miniconda3\\lib\\site-packages\\sklearn\\linear_model\\_coordinate_descent.py:476: ConvergenceWarning: Objective did not converge. You might want to increase the number of iterations. Duality gap: 13667.31019476535, tolerance: 49.966404468764324\n",
      "  positive)\n",
      "C:\\Users\\Owner\\Miniconda3\\lib\\site-packages\\sklearn\\linear_model\\_coordinate_descent.py:476: ConvergenceWarning: Objective did not converge. You might want to increase the number of iterations. Duality gap: 153119.02669025786, tolerance: 704.0653502963977\n",
      "  positive)\n"
     ]
    },
    {
     "name": "stdout",
     "output_type": "stream",
     "text": [
      "score 0.9119726739449163\n",
      "cancer type: 57\n",
      "10    Cervix (Female)\n",
      "Creating Lasso Model and Fitting the Data\n",
      "score 0.8444291307872867\n",
      "cancer type: 58\n",
      "11    Uterus (Corpus & Uterus, NOS) (Female)\n",
      "Creating Lasso Model and Fitting the Data\n",
      "score 0.8611870193637076\n",
      "cancer type: 61\n",
      "12    Ovary (Female)\n",
      "Creating Lasso Model and Fitting the Data\n",
      "score 0.8924470681234309\n",
      "cancer type: 66\n",
      "13    Prostate (Male)\n",
      "Creating Lasso Model and Fitting the Data\n",
      "score 0.8604717605166988\n",
      "cancer type: 71\n",
      "14    Bladder\n",
      "Creating Lasso Model and Fitting the Data\n"
     ]
    },
    {
     "name": "stderr",
     "output_type": "stream",
     "text": [
      "C:\\Users\\Owner\\Miniconda3\\lib\\site-packages\\sklearn\\linear_model\\_coordinate_descent.py:476: ConvergenceWarning: Objective did not converge. You might want to increase the number of iterations. Duality gap: 23920.848832219257, tolerance: 120.54657355221165\n",
      "  positive)\n",
      "C:\\Users\\Owner\\Miniconda3\\lib\\site-packages\\sklearn\\linear_model\\_coordinate_descent.py:476: ConvergenceWarning: Objective did not converge. You might want to increase the number of iterations. Duality gap: 2043102.9762834574, tolerance: 7212.901926949384\n",
      "  positive)\n",
      "C:\\Users\\Owner\\Miniconda3\\lib\\site-packages\\sklearn\\linear_model\\_coordinate_descent.py:476: ConvergenceWarning: Objective did not converge. You might want to increase the number of iterations. Duality gap: 383065.7452778023, tolerance: 941.5332523483819\n",
      "  positive)\n",
      "C:\\Users\\Owner\\Miniconda3\\lib\\site-packages\\sklearn\\linear_model\\_coordinate_descent.py:476: ConvergenceWarning: Objective did not converge. You might want to increase the number of iterations. Duality gap: 170046.9625533043, tolerance: 696.894666484269\n",
      "  positive)\n",
      "C:\\Users\\Owner\\Miniconda3\\lib\\site-packages\\sklearn\\linear_model\\_coordinate_descent.py:476: ConvergenceWarning: Objective did not converge. You might want to increase the number of iterations. Duality gap: 23410.58117036393, tolerance: 102.68313059735523\n",
      "  positive)\n"
     ]
    },
    {
     "name": "stdout",
     "output_type": "stream",
     "text": [
      "score 0.8763144323988025\n",
      "cancer type: 72\n",
      "15    Kidney & Renal Pelvis\n",
      "Creating Lasso Model and Fitting the Data\n",
      "score 0.8941784397794621\n",
      "cancer type: 76\n",
      "16    Brain & ONS\n",
      "Creating Lasso Model and Fitting the Data\n",
      "score 0.9108811920661329\n",
      "cancer type: 80\n",
      "17    Thyroid\n",
      "Creating Lasso Model and Fitting the Data\n",
      "score 0.8766125180945074\n",
      "cancer type: 86\n",
      "18    Non-Hodgkin Lymphoma\n",
      "Creating Lasso Model and Fitting the Data\n",
      "score 0.8470254455956951\n",
      "cancer type: 90\n",
      "19    Leukemia\n",
      "Creating Lasso Model and Fitting the Data\n"
     ]
    },
    {
     "name": "stderr",
     "output_type": "stream",
     "text": [
      "C:\\Users\\Owner\\Miniconda3\\lib\\site-packages\\sklearn\\linear_model\\_coordinate_descent.py:476: ConvergenceWarning: Objective did not converge. You might want to increase the number of iterations. Duality gap: 200431.07560445534, tolerance: 639.5637844049255\n",
      "  positive)\n",
      "C:\\Users\\Owner\\Miniconda3\\lib\\site-packages\\sklearn\\linear_model\\_coordinate_descent.py:476: ConvergenceWarning: Objective did not converge. You might want to increase the number of iterations. Duality gap: 275779.06712095684, tolerance: 1079.1091954400374\n",
      "  positive)\n",
      "C:\\Users\\Owner\\Miniconda3\\lib\\site-packages\\sklearn\\linear_model\\_coordinate_descent.py:476: ConvergenceWarning: Objective did not converge. You might want to increase the number of iterations. Duality gap: 169231.46859119923, tolerance: 510.6279533059732\n",
      "  positive)\n",
      "C:\\Users\\Owner\\Miniconda3\\lib\\site-packages\\sklearn\\linear_model\\_coordinate_descent.py:476: ConvergenceWarning: Objective did not converge. You might want to increase the number of iterations. Duality gap: 248784.10536564284, tolerance: 865.0445087095295\n",
      "  positive)\n",
      "C:\\Users\\Owner\\Miniconda3\\lib\\site-packages\\sklearn\\linear_model\\_coordinate_descent.py:476: ConvergenceWarning: Objective did not converge. You might want to increase the number of iterations. Duality gap: 15912.26895371276, tolerance: 69.79494126766983\n",
      "  positive)\n",
      "C:\\Users\\Owner\\Miniconda3\\lib\\site-packages\\sklearn\\linear_model\\_coordinate_descent.py:476: ConvergenceWarning: Objective did not converge. You might want to increase the number of iterations. Duality gap: 7935.784198835875, tolerance: 32.89886985864114\n",
      "  positive)\n"
     ]
    },
    {
     "name": "stdout",
     "output_type": "stream",
     "text": [
      "score 0.8490187844670306\n",
      "cancer type: 400\n",
      "20    Breast (in situ) (Female)\n",
      "Creating Lasso Model and Fitting the Data\n",
      "score 0.858275855850356\n",
      "cancer type: 515\n",
      "21    Childhood (Ages <20, All Sites)\n",
      "Creating Lasso Model and Fitting the Data\n",
      "score 0.8898610310910218\n",
      "cancer type: 516\n",
      "22    Childhood (Ages <15, All Sites)\n",
      "Creating Lasso Model and Fitting the Data\n",
      "score 0.8906117890087304\n",
      "Average score: 0.864774596122108\n"
     ]
    }
   ],
   "source": [
    "sum1 = 0\n",
    "for i in cancerVals:\n",
    "    #print cancer type number\n",
    "    print(\"cancer type:\",i)\n",
    "    \n",
    "    #print cancer description\n",
    "    cancer=cancerTypes[\"cancer\"]==i\n",
    "    discr=cancerTypes[cancer][\"cancer_description\"].to_string()\n",
    "    print(discr)\n",
    "    \n",
    "    #selecting data for the specific cancer type\n",
    "    cancerData=data[\"cancer\"]==i\n",
    "    newData=data[cancerData]\n",
    "    \n",
    "    #splitting to test and train\n",
    "    x1=newData.loc[:, 'ACID':'WATR']\n",
    "    y = newData['annual_count_avg']\n",
    "\n",
    "    X_train1, X_test1, y_train, y_test = train_test_split(x1, y,\n",
    "                                                        test_size=0.3,\n",
    "                                                        random_state = RSEED)\n",
    "\n",
    "    scaler = StandardScaler()\n",
    "    scaler.fit(X_train1)\n",
    "\n",
    "    X_train = scaler.transform(X_train1)\n",
    "    X_test = scaler.transform(X_test1)\n",
    "    \n",
    "    #Creating SVR Model\n",
    "    print(\"Creating Lasso Model and Fitting the Data\")\n",
    "    lasso = linear_model.Lasso(alpha=0.001).fit(X_train, y_train)\n",
    "    \n",
    "    #Evaluation\n",
    "    r2_score = lasso.score(X_test, y_test)\n",
    "    print(\"score\", r2_score)\n",
    "    sum1 += r2_score\n",
    "\n",
    "print(f\"Average score: {sum1/len(cancerVals)}\")"
   ]
  },
  {
   "cell_type": "code",
   "execution_count": 91,
   "metadata": {},
   "outputs": [
    {
     "name": "stdout",
     "output_type": "stream",
     "text": [
      "cancer type: 1\n",
      "0    All Cancer Sites\n",
      "Creating Lasso Model and Fitting the Data\n",
      "score 0.901807204254413\n",
      "cancer type: 3\n",
      "1    Oral Cavity & Pharynx\n",
      "Creating Lasso Model and Fitting the Data\n",
      "score 0.8911905465481343\n",
      "cancer type: 17\n",
      "2    Esophagus\n",
      "Creating Lasso Model and Fitting the Data\n",
      "score 0.7198206898946616\n",
      "cancer type: 18\n",
      "3    Stomach\n",
      "Creating Lasso Model and Fitting the Data\n",
      "score 0.8748911764137646\n",
      "cancer type: 20\n",
      "4    Colon & Rectum\n",
      "Creating Lasso Model and Fitting the Data\n",
      "score 0.9100972503406626\n",
      "cancer type: 35\n",
      "5    Liver & Bile Duct\n",
      "Creating Lasso Model and Fitting the Data\n",
      "score 0.8708546869209388\n",
      "cancer type: 40\n",
      "6    Pancreas\n",
      "Creating Lasso Model and Fitting the Data\n",
      "score 0.8999386954324663\n",
      "cancer type: 47\n",
      "7    Lung & Bronchus\n",
      "Creating Lasso Model and Fitting the Data\n",
      "score 0.8744464744824003\n",
      "cancer type: 53\n",
      "8    Melanoma of the Skin\n",
      "Creating Lasso Model and Fitting the Data\n",
      "score 0.8042425692522832\n",
      "cancer type: 55\n",
      "9    Breast (Female)\n",
      "Creating Lasso Model and Fitting the Data\n",
      "score 0.9216255427857156\n",
      "cancer type: 57\n",
      "10    Cervix (Female)\n",
      "Creating Lasso Model and Fitting the Data\n",
      "score 0.7366560512343212\n",
      "cancer type: 58\n",
      "11    Uterus (Corpus & Uterus, NOS) (Female)\n",
      "Creating Lasso Model and Fitting the Data\n",
      "score 0.8946705646944815\n",
      "cancer type: 61\n",
      "12    Ovary (Female)\n",
      "Creating Lasso Model and Fitting the Data\n",
      "score 0.8752640230432839\n",
      "cancer type: 66\n",
      "13    Prostate (Male)\n",
      "Creating Lasso Model and Fitting the Data\n",
      "score 0.8872919948840042\n",
      "cancer type: 71\n",
      "14    Bladder\n",
      "Creating Lasso Model and Fitting the Data\n",
      "score 0.871927967194497\n",
      "cancer type: 72\n",
      "15    Kidney & Renal Pelvis\n",
      "Creating Lasso Model and Fitting the Data\n",
      "score 0.8961290000748331\n",
      "cancer type: 76\n",
      "16    Brain & ONS\n",
      "Creating Lasso Model and Fitting the Data\n",
      "score 0.8554232144835692\n",
      "cancer type: 80\n",
      "17    Thyroid\n",
      "Creating Lasso Model and Fitting the Data\n",
      "score 0.8914318491849648\n",
      "cancer type: 86\n",
      "18    Non-Hodgkin Lymphoma\n",
      "Creating Lasso Model and Fitting the Data\n",
      "score 0.8714449263723012\n",
      "cancer type: 90\n",
      "19    Leukemia\n",
      "Creating Lasso Model and Fitting the Data\n",
      "score 0.8662250796121304\n",
      "cancer type: 400\n",
      "20    Breast (in situ) (Female)\n",
      "Creating Lasso Model and Fitting the Data\n",
      "score 0.8862065313934354\n",
      "cancer type: 515\n",
      "21    Childhood (Ages <20, All Sites)\n",
      "Creating Lasso Model and Fitting the Data\n",
      "score 0.8039380715647465\n",
      "cancer type: 516\n",
      "22    Childhood (Ages <15, All Sites)\n",
      "Creating Lasso Model and Fitting the Data\n",
      "score 0.7841643093831885\n",
      "Average score: 0.8604212356280521\n"
     ]
    }
   ],
   "source": [
    "sum1 = 0\n",
    "for i in cancerVals:\n",
    "    #print cancer type number\n",
    "    print(\"cancer type:\",i)\n",
    "    \n",
    "    #print cancer description\n",
    "    cancer=cancerTypes[\"cancer\"]==i\n",
    "    discr=cancerTypes[cancer][\"cancer_description\"].to_string()\n",
    "    print(discr)\n",
    "    \n",
    "    #selecting data for the specific cancer type\n",
    "    cancerData=data[\"cancer\"]==i\n",
    "    newData=data[cancerData]\n",
    "    \n",
    "    #splitting to test and train\n",
    "    x1=newData.loc[:, 'ACID':'WATR']\n",
    "    y = newData['annual_count_avg']\n",
    "\n",
    "    X_train1, X_test1, y_train, y_test = train_test_split(x1, y,\n",
    "                                                        test_size=0.3,\n",
    "                                                        random_state = RSEED)\n",
    "\n",
    "    scaler = StandardScaler()\n",
    "    scaler.fit(X_train1)\n",
    "\n",
    "    X_train = scaler.transform(X_train1)\n",
    "    X_test = scaler.transform(X_test1)\n",
    "    \n",
    "    #Creating SVR Model\n",
    "    print(\"Creating Lasso Model and Fitting the Data\")\n",
    "    lasso = linear_model.LassoLars(alpha=0.01).fit(X_train, y_train)\n",
    "    \n",
    "    #Evaluation\n",
    "    r2_score = lasso.score(X_test, y_test)\n",
    "    print(\"score\", r2_score)\n",
    "    sum1 += r2_score\n",
    "\n",
    "print(f\"Average score: {sum1/len(cancerVals)}\")"
   ]
  },
  {
   "cell_type": "code",
   "execution_count": 92,
   "metadata": {},
   "outputs": [
    {
     "data": {
      "text/plain": [
       "array([ 0.        ,  0.        ,  2.41646587,  0.99500504,  2.80908242,\n",
       "        0.        ,  0.        ,  0.        ,  0.        ,  0.        ,\n",
       "        0.        ,  0.        ,  0.        ,  0.        ,  3.1308057 ,\n",
       "        0.        ,  0.        , -0.30420355,  2.11201954,  0.3436754 ,\n",
       "        0.        ,  0.        ,  0.        ,  0.        ])"
      ]
     },
     "execution_count": 92,
     "metadata": {},
     "output_type": "execute_result"
    }
   ],
   "source": [
    "lasso.coef_"
   ]
  },
  {
   "cell_type": "code",
   "execution_count": 93,
   "metadata": {},
   "outputs": [
    {
     "data": {
      "text/plain": [
       "2.7861377108983127"
      ]
     },
     "execution_count": 93,
     "metadata": {},
     "output_type": "execute_result"
    }
   ],
   "source": [
    "lasso.intercept_"
   ]
  },
  {
   "cell_type": "code",
   "execution_count": 94,
   "metadata": {},
   "outputs": [],
   "source": [
    "import numpy as np\n",
    "np.savetxt(\"weights2.csv\", lasso.coef_, delimiter=\",\")"
   ]
  },
  {
   "cell_type": "code",
   "execution_count": 95,
   "metadata": {},
   "outputs": [
    {
     "data": {
      "text/plain": [
       "array([116.54926839])"
      ]
     },
     "execution_count": 95,
     "metadata": {},
     "output_type": "execute_result"
    }
   ],
   "source": [
    "lasso.predict(np.array([1, 2, 3, 4, 5, 6, 7, 8, 9, 10, 11, 12, 13, 14, 15, 16, 17, 18, 19, 20, 21, 22, 23, 24]).reshape(1, -1))"
   ]
  },
  {
   "cell_type": "markdown",
   "metadata": {},
   "source": [
    "# Multitask"
   ]
  },
  {
   "cell_type": "code",
   "execution_count": 11,
   "metadata": {},
   "outputs": [
    {
     "data": {
      "text/html": "<div>\n<style scoped>\n    .dataframe tbody tr th:only-of-type {\n        vertical-align: middle;\n    }\n\n    .dataframe tbody tr th {\n        vertical-align: top;\n    }\n\n    .dataframe thead th {\n        text-align: right;\n    }\n</style>\n<table border=\"1\" class=\"dataframe\">\n  <thead>\n    <tr style=\"text-align: right;\">\n      <th></th>\n      <th>locale</th>\n      <th>fips</th>\n      <th>areatype</th>\n      <th>cancer</th>\n      <th>stateFIPS</th>\n      <th>state</th>\n      <th>cancer_description</th>\n      <th>annual_count_avg</th>\n      <th>incidence rate_per_100000</th>\n      <th>incidence rate_lower_95_confidence</th>\n      <th>...</th>\n      <th>METL</th>\n      <th>MINE</th>\n      <th>MSW</th>\n      <th>NREN</th>\n      <th>OZON</th>\n      <th>PEST</th>\n      <th>REN</th>\n      <th>SMOG</th>\n      <th>VADD</th>\n      <th>WATR</th>\n    </tr>\n  </thead>\n  <tbody>\n    <tr>\n      <th>0</th>\n      <td>Autauga County(6,10)</td>\n      <td>1001</td>\n      <td>county</td>\n      <td>1</td>\n      <td>1</td>\n      <td>alabama</td>\n      <td>All Cancer Sites</td>\n      <td>304</td>\n      <td>495.6</td>\n      <td>470.6</td>\n      <td>...</td>\n      <td>0.000177</td>\n      <td>0.000000</td>\n      <td>3.332971</td>\n      <td>1558.288943</td>\n      <td>8.205763e-06</td>\n      <td>0.000069</td>\n      <td>1050.867678</td>\n      <td>9.764524</td>\n      <td>168.936475</td>\n      <td>27.485562</td>\n    </tr>\n    <tr>\n      <th>1</th>\n      <td>Autauga County(6,10)</td>\n      <td>1001</td>\n      <td>county</td>\n      <td>3</td>\n      <td>1</td>\n      <td>alabama</td>\n      <td>Oral Cavity &amp; Pharynx</td>\n      <td>8</td>\n      <td>13.5</td>\n      <td>9.6</td>\n      <td>...</td>\n      <td>0.000177</td>\n      <td>0.000000</td>\n      <td>3.332971</td>\n      <td>1558.288943</td>\n      <td>8.205763e-06</td>\n      <td>0.000069</td>\n      <td>1050.867678</td>\n      <td>9.764524</td>\n      <td>168.936475</td>\n      <td>27.485562</td>\n    </tr>\n    <tr>\n      <th>2</th>\n      <td>Autauga County(6,10)</td>\n      <td>1001</td>\n      <td>county</td>\n      <td>17</td>\n      <td>1</td>\n      <td>alabama</td>\n      <td>Esophagus</td>\n      <td>0</td>\n      <td>0.0</td>\n      <td>0.0</td>\n      <td>...</td>\n      <td>0.000177</td>\n      <td>0.000000</td>\n      <td>3.332971</td>\n      <td>1558.288943</td>\n      <td>8.205763e-06</td>\n      <td>0.000069</td>\n      <td>1050.867678</td>\n      <td>9.764524</td>\n      <td>168.936475</td>\n      <td>27.485562</td>\n    </tr>\n    <tr>\n      <th>3</th>\n      <td>Autauga County(6,10)</td>\n      <td>1001</td>\n      <td>county</td>\n      <td>18</td>\n      <td>1</td>\n      <td>alabama</td>\n      <td>Stomach</td>\n      <td>6</td>\n      <td>9.1</td>\n      <td>6.0</td>\n      <td>...</td>\n      <td>0.000177</td>\n      <td>0.000000</td>\n      <td>3.332971</td>\n      <td>1558.288943</td>\n      <td>8.205763e-06</td>\n      <td>0.000069</td>\n      <td>1050.867678</td>\n      <td>9.764524</td>\n      <td>168.936475</td>\n      <td>27.485562</td>\n    </tr>\n    <tr>\n      <th>4</th>\n      <td>Autauga County(6,10)</td>\n      <td>1001</td>\n      <td>county</td>\n      <td>20</td>\n      <td>1</td>\n      <td>alabama</td>\n      <td>Colon &amp; Rectum</td>\n      <td>32</td>\n      <td>52.2</td>\n      <td>44.2</td>\n      <td>...</td>\n      <td>0.000177</td>\n      <td>0.000000</td>\n      <td>3.332971</td>\n      <td>1558.288943</td>\n      <td>8.205763e-06</td>\n      <td>0.000069</td>\n      <td>1050.867678</td>\n      <td>9.764524</td>\n      <td>168.936475</td>\n      <td>27.485562</td>\n    </tr>\n    <tr>\n      <th>...</th>\n      <td>...</td>\n      <td>...</td>\n      <td>...</td>\n      <td>...</td>\n      <td>...</td>\n      <td>...</td>\n      <td>...</td>\n      <td>...</td>\n      <td>...</td>\n      <td>...</td>\n      <td>...</td>\n      <td>...</td>\n      <td>...</td>\n      <td>...</td>\n      <td>...</td>\n      <td>...</td>\n      <td>...</td>\n      <td>...</td>\n      <td>...</td>\n      <td>...</td>\n      <td>...</td>\n    </tr>\n    <tr>\n      <th>72054</th>\n      <td>Weston County(6,10)</td>\n      <td>56045</td>\n      <td>county</td>\n      <td>86</td>\n      <td>56</td>\n      <td>wyoming</td>\n      <td>Non-Hodgkin Lymphoma</td>\n      <td>0</td>\n      <td>0.0</td>\n      <td>0.0</td>\n      <td>...</td>\n      <td>0.000002</td>\n      <td>31.285543</td>\n      <td>0.491881</td>\n      <td>1971.904410</td>\n      <td>8.367255e-07</td>\n      <td>0.000002</td>\n      <td>0.159930</td>\n      <td>3.642929</td>\n      <td>28.875893</td>\n      <td>0.122450</td>\n    </tr>\n    <tr>\n      <th>72055</th>\n      <td>Weston County(6,10)</td>\n      <td>56045</td>\n      <td>county</td>\n      <td>90</td>\n      <td>56</td>\n      <td>wyoming</td>\n      <td>Leukemia</td>\n      <td>0</td>\n      <td>0.0</td>\n      <td>0.0</td>\n      <td>...</td>\n      <td>0.000002</td>\n      <td>31.285543</td>\n      <td>0.491881</td>\n      <td>1971.904410</td>\n      <td>8.367255e-07</td>\n      <td>0.000002</td>\n      <td>0.159930</td>\n      <td>3.642929</td>\n      <td>28.875893</td>\n      <td>0.122450</td>\n    </tr>\n    <tr>\n      <th>72056</th>\n      <td>Weston County(6,10)</td>\n      <td>56045</td>\n      <td>county</td>\n      <td>400</td>\n      <td>56</td>\n      <td>wyoming</td>\n      <td>Breast (in situ) (Female)</td>\n      <td>0</td>\n      <td>0.0</td>\n      <td>0.0</td>\n      <td>...</td>\n      <td>0.000002</td>\n      <td>31.285543</td>\n      <td>0.491881</td>\n      <td>1971.904410</td>\n      <td>8.367255e-07</td>\n      <td>0.000002</td>\n      <td>0.159930</td>\n      <td>3.642929</td>\n      <td>28.875893</td>\n      <td>0.122450</td>\n    </tr>\n    <tr>\n      <th>72057</th>\n      <td>Weston County(6,10)</td>\n      <td>56045</td>\n      <td>county</td>\n      <td>515</td>\n      <td>56</td>\n      <td>wyoming</td>\n      <td>Childhood (Ages &lt;20, All Sites)</td>\n      <td>0</td>\n      <td>0.0</td>\n      <td>0.0</td>\n      <td>...</td>\n      <td>0.000002</td>\n      <td>31.285543</td>\n      <td>0.491881</td>\n      <td>1971.904410</td>\n      <td>8.367255e-07</td>\n      <td>0.000002</td>\n      <td>0.159930</td>\n      <td>3.642929</td>\n      <td>28.875893</td>\n      <td>0.122450</td>\n    </tr>\n    <tr>\n      <th>72058</th>\n      <td>Weston County(6,10)</td>\n      <td>56045</td>\n      <td>county</td>\n      <td>516</td>\n      <td>56</td>\n      <td>wyoming</td>\n      <td>Childhood (Ages &lt;15, All Sites)</td>\n      <td>0</td>\n      <td>0.0</td>\n      <td>0.0</td>\n      <td>...</td>\n      <td>0.000002</td>\n      <td>31.285543</td>\n      <td>0.491881</td>\n      <td>1971.904410</td>\n      <td>8.367255e-07</td>\n      <td>0.000002</td>\n      <td>0.159930</td>\n      <td>3.642929</td>\n      <td>28.875893</td>\n      <td>0.122450</td>\n    </tr>\n  </tbody>\n</table>\n<p>72059 rows × 35 columns</p>\n</div>",
      "text/plain": "                     locale   fips areatype  cancer  stateFIPS    state  \\\n0      Autauga County(6,10)   1001   county       1          1  alabama   \n1      Autauga County(6,10)   1001   county       3          1  alabama   \n2      Autauga County(6,10)   1001   county      17          1  alabama   \n3      Autauga County(6,10)   1001   county      18          1  alabama   \n4      Autauga County(6,10)   1001   county      20          1  alabama   \n...                     ...    ...      ...     ...        ...      ...   \n72054   Weston County(6,10)  56045   county      86         56  wyoming   \n72055   Weston County(6,10)  56045   county      90         56  wyoming   \n72056   Weston County(6,10)  56045   county     400         56  wyoming   \n72057   Weston County(6,10)  56045   county     515         56  wyoming   \n72058   Weston County(6,10)  56045   county     516         56  wyoming   \n\n                    cancer_description  annual_count_avg  \\\n0                     All Cancer Sites               304   \n1                Oral Cavity & Pharynx                 8   \n2                            Esophagus                 0   \n3                              Stomach                 6   \n4                       Colon & Rectum                32   \n...                                ...               ...   \n72054             Non-Hodgkin Lymphoma                 0   \n72055                         Leukemia                 0   \n72056        Breast (in situ) (Female)                 0   \n72057  Childhood (Ages <20, All Sites)                 0   \n72058  Childhood (Ages <15, All Sites)                 0   \n\n       incidence rate_per_100000  incidence rate_lower_95_confidence  ...  \\\n0                          495.6                               470.6  ...   \n1                           13.5                                 9.6  ...   \n2                            0.0                                 0.0  ...   \n3                            9.1                                 6.0  ...   \n4                           52.2                                44.2  ...   \n...                          ...                                 ...  ...   \n72054                        0.0                                 0.0  ...   \n72055                        0.0                                 0.0  ...   \n72056                        0.0                                 0.0  ...   \n72057                        0.0                                 0.0  ...   \n72058                        0.0                                 0.0  ...   \n\n           METL       MINE       MSW         NREN          OZON      PEST  \\\n0      0.000177   0.000000  3.332971  1558.288943  8.205763e-06  0.000069   \n1      0.000177   0.000000  3.332971  1558.288943  8.205763e-06  0.000069   \n2      0.000177   0.000000  3.332971  1558.288943  8.205763e-06  0.000069   \n3      0.000177   0.000000  3.332971  1558.288943  8.205763e-06  0.000069   \n4      0.000177   0.000000  3.332971  1558.288943  8.205763e-06  0.000069   \n...         ...        ...       ...          ...           ...       ...   \n72054  0.000002  31.285543  0.491881  1971.904410  8.367255e-07  0.000002   \n72055  0.000002  31.285543  0.491881  1971.904410  8.367255e-07  0.000002   \n72056  0.000002  31.285543  0.491881  1971.904410  8.367255e-07  0.000002   \n72057  0.000002  31.285543  0.491881  1971.904410  8.367255e-07  0.000002   \n72058  0.000002  31.285543  0.491881  1971.904410  8.367255e-07  0.000002   \n\n               REN      SMOG        VADD       WATR  \n0      1050.867678  9.764524  168.936475  27.485562  \n1      1050.867678  9.764524  168.936475  27.485562  \n2      1050.867678  9.764524  168.936475  27.485562  \n3      1050.867678  9.764524  168.936475  27.485562  \n4      1050.867678  9.764524  168.936475  27.485562  \n...            ...       ...         ...        ...  \n72054     0.159930  3.642929   28.875893   0.122450  \n72055     0.159930  3.642929   28.875893   0.122450  \n72056     0.159930  3.642929   28.875893   0.122450  \n72057     0.159930  3.642929   28.875893   0.122450  \n72058     0.159930  3.642929   28.875893   0.122450  \n\n[72059 rows x 35 columns]"
     },
     "execution_count": 11,
     "metadata": {},
     "output_type": "execute_result"
    }
   ],
   "source": [
    "data"
   ]
  },
  {
   "cell_type": "code",
   "execution_count": 12,
   "metadata": {},
   "outputs": [
    {
     "data": {
      "text/html": "<div>\n<style scoped>\n    .dataframe tbody tr th:only-of-type {\n        vertical-align: middle;\n    }\n\n    .dataframe tbody tr th {\n        vertical-align: top;\n    }\n\n    .dataframe thead th {\n        text-align: right;\n    }\n</style>\n<table border=\"1\" class=\"dataframe\">\n  <thead>\n    <tr style=\"text-align: right;\">\n      <th></th>\n      <th>fips</th>\n      <th>1</th>\n      <th>3</th>\n      <th>17</th>\n      <th>18</th>\n      <th>20</th>\n      <th>35</th>\n      <th>40</th>\n      <th>47</th>\n      <th>53</th>\n      <th>...</th>\n      <th>66</th>\n      <th>71</th>\n      <th>72</th>\n      <th>76</th>\n      <th>80</th>\n      <th>86</th>\n      <th>90</th>\n      <th>400</th>\n      <th>515</th>\n      <th>516</th>\n    </tr>\n  </thead>\n  <tbody>\n    <tr>\n      <th>0</th>\n      <td>1001</td>\n      <td>304</td>\n      <td>8</td>\n      <td>0</td>\n      <td>6</td>\n      <td>32</td>\n      <td>6</td>\n      <td>8</td>\n      <td>45</td>\n      <td>18</td>\n      <td>...</td>\n      <td>32</td>\n      <td>11</td>\n      <td>13</td>\n      <td>4</td>\n      <td>7</td>\n      <td>9</td>\n      <td>8</td>\n      <td>8</td>\n      <td>3</td>\n      <td>0</td>\n    </tr>\n    <tr>\n      <th>1</th>\n      <td>1003</td>\n      <td>1189</td>\n      <td>40</td>\n      <td>14</td>\n      <td>13</td>\n      <td>108</td>\n      <td>22</td>\n      <td>34</td>\n      <td>199</td>\n      <td>81</td>\n      <td>...</td>\n      <td>121</td>\n      <td>56</td>\n      <td>44</td>\n      <td>16</td>\n      <td>14</td>\n      <td>44</td>\n      <td>32</td>\n      <td>36</td>\n      <td>11</td>\n      <td>7</td>\n    </tr>\n    <tr>\n      <th>2</th>\n      <td>1005</td>\n      <td>145</td>\n      <td>7</td>\n      <td>0</td>\n      <td>0</td>\n      <td>14</td>\n      <td>0</td>\n      <td>4</td>\n      <td>23</td>\n      <td>4</td>\n      <td>...</td>\n      <td>22</td>\n      <td>6</td>\n      <td>7</td>\n      <td>0</td>\n      <td>0</td>\n      <td>5</td>\n      <td>0</td>\n      <td>4</td>\n      <td>0</td>\n      <td>0</td>\n    </tr>\n    <tr>\n      <th>3</th>\n      <td>1007</td>\n      <td>128</td>\n      <td>4</td>\n      <td>0</td>\n      <td>0</td>\n      <td>12</td>\n      <td>0</td>\n      <td>4</td>\n      <td>21</td>\n      <td>3</td>\n      <td>...</td>\n      <td>16</td>\n      <td>4</td>\n      <td>7</td>\n      <td>0</td>\n      <td>4</td>\n      <td>4</td>\n      <td>3</td>\n      <td>3</td>\n      <td>0</td>\n      <td>0</td>\n    </tr>\n    <tr>\n      <th>4</th>\n      <td>1009</td>\n      <td>317</td>\n      <td>8</td>\n      <td>0</td>\n      <td>5</td>\n      <td>28</td>\n      <td>5</td>\n      <td>7</td>\n      <td>52</td>\n      <td>15</td>\n      <td>...</td>\n      <td>38</td>\n      <td>12</td>\n      <td>13</td>\n      <td>4</td>\n      <td>6</td>\n      <td>12</td>\n      <td>10</td>\n      <td>10</td>\n      <td>4</td>\n      <td>3</td>\n    </tr>\n    <tr>\n      <th>...</th>\n      <td>...</td>\n      <td>...</td>\n      <td>...</td>\n      <td>...</td>\n      <td>...</td>\n      <td>...</td>\n      <td>...</td>\n      <td>...</td>\n      <td>...</td>\n      <td>...</td>\n      <td>...</td>\n      <td>...</td>\n      <td>...</td>\n      <td>...</td>\n      <td>...</td>\n      <td>...</td>\n      <td>...</td>\n      <td>...</td>\n      <td>...</td>\n      <td>...</td>\n      <td>...</td>\n    </tr>\n    <tr>\n      <th>3128</th>\n      <td>56037</td>\n      <td>162</td>\n      <td>6</td>\n      <td>0</td>\n      <td>0</td>\n      <td>13</td>\n      <td>0</td>\n      <td>5</td>\n      <td>18</td>\n      <td>9</td>\n      <td>...</td>\n      <td>25</td>\n      <td>8</td>\n      <td>6</td>\n      <td>4</td>\n      <td>5</td>\n      <td>7</td>\n      <td>5</td>\n      <td>4</td>\n      <td>0</td>\n      <td>0</td>\n    </tr>\n    <tr>\n      <th>3129</th>\n      <td>56039</td>\n      <td>98</td>\n      <td>0</td>\n      <td>0</td>\n      <td>0</td>\n      <td>6</td>\n      <td>0</td>\n      <td>0</td>\n      <td>4</td>\n      <td>12</td>\n      <td>...</td>\n      <td>17</td>\n      <td>5</td>\n      <td>0</td>\n      <td>0</td>\n      <td>3</td>\n      <td>6</td>\n      <td>4</td>\n      <td>4</td>\n      <td>0</td>\n      <td>0</td>\n    </tr>\n    <tr>\n      <th>3130</th>\n      <td>56041</td>\n      <td>78</td>\n      <td>0</td>\n      <td>0</td>\n      <td>0</td>\n      <td>6</td>\n      <td>0</td>\n      <td>0</td>\n      <td>7</td>\n      <td>6</td>\n      <td>...</td>\n      <td>8</td>\n      <td>4</td>\n      <td>3</td>\n      <td>0</td>\n      <td>4</td>\n      <td>4</td>\n      <td>0</td>\n      <td>0</td>\n      <td>0</td>\n      <td>0</td>\n    </tr>\n    <tr>\n      <th>3131</th>\n      <td>56043</td>\n      <td>44</td>\n      <td>0</td>\n      <td>0</td>\n      <td>0</td>\n      <td>5</td>\n      <td>0</td>\n      <td>0</td>\n      <td>5</td>\n      <td>0</td>\n      <td>...</td>\n      <td>5</td>\n      <td>0</td>\n      <td>0</td>\n      <td>0</td>\n      <td>0</td>\n      <td>0</td>\n      <td>0</td>\n      <td>0</td>\n      <td>0</td>\n      <td>0</td>\n    </tr>\n    <tr>\n      <th>3132</th>\n      <td>56045</td>\n      <td>40</td>\n      <td>0</td>\n      <td>0</td>\n      <td>0</td>\n      <td>4</td>\n      <td>0</td>\n      <td>0</td>\n      <td>5</td>\n      <td>0</td>\n      <td>...</td>\n      <td>4</td>\n      <td>0</td>\n      <td>0</td>\n      <td>0</td>\n      <td>0</td>\n      <td>0</td>\n      <td>0</td>\n      <td>0</td>\n      <td>0</td>\n      <td>0</td>\n    </tr>\n  </tbody>\n</table>\n<p>3133 rows × 24 columns</p>\n</div>",
      "text/plain": "       fips     1   3  17  18   20  35  40   47  53  ...   66  71  72  76  80  \\\n0      1001   304   8   0   6   32   6   8   45  18  ...   32  11  13   4   7   \n1      1003  1189  40  14  13  108  22  34  199  81  ...  121  56  44  16  14   \n2      1005   145   7   0   0   14   0   4   23   4  ...   22   6   7   0   0   \n3      1007   128   4   0   0   12   0   4   21   3  ...   16   4   7   0   4   \n4      1009   317   8   0   5   28   5   7   52  15  ...   38  12  13   4   6   \n...     ...   ...  ..  ..  ..  ...  ..  ..  ...  ..  ...  ...  ..  ..  ..  ..   \n3128  56037   162   6   0   0   13   0   5   18   9  ...   25   8   6   4   5   \n3129  56039    98   0   0   0    6   0   0    4  12  ...   17   5   0   0   3   \n3130  56041    78   0   0   0    6   0   0    7   6  ...    8   4   3   0   4   \n3131  56043    44   0   0   0    5   0   0    5   0  ...    5   0   0   0   0   \n3132  56045    40   0   0   0    4   0   0    5   0  ...    4   0   0   0   0   \n\n      86  90  400  515  516  \n0      9   8    8    3    0  \n1     44  32   36   11    7  \n2      5   0    4    0    0  \n3      4   3    3    0    0  \n4     12  10   10    4    3  \n...   ..  ..  ...  ...  ...  \n3128   7   5    4    0    0  \n3129   6   4    4    0    0  \n3130   4   0    0    0    0  \n3131   0   0    0    0    0  \n3132   0   0    0    0    0  \n\n[3133 rows x 24 columns]"
     },
     "execution_count": 12,
     "metadata": {},
     "output_type": "execute_result"
    }
   ],
   "source": [
    "data2 = pd.read_csv(\"avg_count_per_cancer_per_fips.csv\")\n",
    "data2"
   ]
  },
  {
   "cell_type": "code",
   "execution_count": 13,
   "metadata": {},
   "outputs": [
    {
     "data": {
      "text/plain": "Index(['locale', 'fips', 'areatype', 'cancer', 'stateFIPS', 'state',\n       'cancer_description', 'annual_count_avg', 'incidence rate_per_100000',\n       'incidence rate_lower_95_confidence',\n       'incidence rate_upper_95_confidence', 'ACID', 'ENRG', 'ETOX', 'EUTR',\n       'FOOD', 'GCC', 'HAPS', 'HAZW', 'HC', 'HNC', 'HRSP', 'HTOX', 'JOBS',\n       'LAND', 'METL', 'MINE', 'MSW', 'NREN', 'OZON', 'PEST', 'REN', 'SMOG',\n       'VADD', 'WATR'],\n      dtype='object')"
     },
     "execution_count": 13,
     "metadata": {},
     "output_type": "execute_result"
    }
   ],
   "source": [
    "data.columns"
   ]
  },
  {
   "cell_type": "code",
   "execution_count": 14,
   "metadata": {},
   "outputs": [
    {
     "data": {
      "text/html": "<div>\n<style scoped>\n    .dataframe tbody tr th:only-of-type {\n        vertical-align: middle;\n    }\n\n    .dataframe tbody tr th {\n        vertical-align: top;\n    }\n\n    .dataframe thead th {\n        text-align: right;\n    }\n</style>\n<table border=\"1\" class=\"dataframe\">\n  <thead>\n    <tr style=\"text-align: right;\">\n      <th></th>\n      <th>fips</th>\n      <th>ACID</th>\n      <th>ENRG</th>\n      <th>ETOX</th>\n      <th>EUTR</th>\n      <th>FOOD</th>\n      <th>GCC</th>\n      <th>HAPS</th>\n      <th>HAZW</th>\n      <th>HC</th>\n      <th>...</th>\n      <th>METL</th>\n      <th>MINE</th>\n      <th>MSW</th>\n      <th>NREN</th>\n      <th>OZON</th>\n      <th>PEST</th>\n      <th>REN</th>\n      <th>SMOG</th>\n      <th>VADD</th>\n      <th>WATR</th>\n    </tr>\n  </thead>\n  <tbody>\n    <tr>\n      <th>0</th>\n      <td>1001</td>\n      <td>1.049800</td>\n      <td>2609.156621</td>\n      <td>3.932211</td>\n      <td>0.091967</td>\n      <td>1.070762</td>\n      <td>375.880086</td>\n      <td>0.028596</td>\n      <td>0.038196</td>\n      <td>1.392760e-08</td>\n      <td>...</td>\n      <td>0.000177</td>\n      <td>0.000000</td>\n      <td>3.332971</td>\n      <td>1558.288943</td>\n      <td>8.205763e-06</td>\n      <td>6.937696e-05</td>\n      <td>1050.867678</td>\n      <td>9.764524</td>\n      <td>168.936475</td>\n      <td>27.485562</td>\n    </tr>\n    <tr>\n      <th>23</th>\n      <td>1003</td>\n      <td>0.280475</td>\n      <td>15.561882</td>\n      <td>7.987962</td>\n      <td>0.290754</td>\n      <td>7.601684</td>\n      <td>121.748265</td>\n      <td>0.062129</td>\n      <td>0.932868</td>\n      <td>5.461040e-08</td>\n      <td>...</td>\n      <td>0.000130</td>\n      <td>44.123480</td>\n      <td>28.367361</td>\n      <td>12.236171</td>\n      <td>1.025729e-05</td>\n      <td>1.910217e-04</td>\n      <td>3.325711</td>\n      <td>9.430919</td>\n      <td>1620.234233</td>\n      <td>4.251408</td>\n    </tr>\n    <tr>\n      <th>46</th>\n      <td>1005</td>\n      <td>0.210885</td>\n      <td>0.010255</td>\n      <td>4.445820</td>\n      <td>0.027651</td>\n      <td>0.184201</td>\n      <td>41.021013</td>\n      <td>0.014290</td>\n      <td>0.006247</td>\n      <td>3.207004e-08</td>\n      <td>...</td>\n      <td>0.000007</td>\n      <td>0.000000</td>\n      <td>1.000043</td>\n      <td>0.000000</td>\n      <td>2.608045e-07</td>\n      <td>5.804013e-05</td>\n      <td>0.010255</td>\n      <td>7.502860</td>\n      <td>65.168132</td>\n      <td>0.701977</td>\n    </tr>\n    <tr>\n      <th>69</th>\n      <td>1007</td>\n      <td>0.059937</td>\n      <td>30.656456</td>\n      <td>2.418462</td>\n      <td>0.009070</td>\n      <td>0.112118</td>\n      <td>11.566748</td>\n      <td>0.004779</td>\n      <td>0.007600</td>\n      <td>9.819009e-09</td>\n      <td>...</td>\n      <td>0.000010</td>\n      <td>0.000000</td>\n      <td>0.520036</td>\n      <td>0.000000</td>\n      <td>8.704410e-07</td>\n      <td>3.238827e-05</td>\n      <td>30.656456</td>\n      <td>2.133152</td>\n      <td>24.050294</td>\n      <td>0.384009</td>\n    </tr>\n    <tr>\n      <th>92</th>\n      <td>1009</td>\n      <td>0.066937</td>\n      <td>0.017388</td>\n      <td>0.668729</td>\n      <td>0.008988</td>\n      <td>0.313152</td>\n      <td>13.374711</td>\n      <td>0.006907</td>\n      <td>0.014673</td>\n      <td>1.074744e-08</td>\n      <td>...</td>\n      <td>0.000009</td>\n      <td>0.000000</td>\n      <td>1.277899</td>\n      <td>0.000000</td>\n      <td>4.780418e-06</td>\n      <td>1.113430e-05</td>\n      <td>0.017388</td>\n      <td>2.409639</td>\n      <td>60.574602</td>\n      <td>0.160868</td>\n    </tr>\n    <tr>\n      <th>...</th>\n      <td>...</td>\n      <td>...</td>\n      <td>...</td>\n      <td>...</td>\n      <td>...</td>\n      <td>...</td>\n      <td>...</td>\n      <td>...</td>\n      <td>...</td>\n      <td>...</td>\n      <td>...</td>\n      <td>...</td>\n      <td>...</td>\n      <td>...</td>\n      <td>...</td>\n      <td>...</td>\n      <td>...</td>\n      <td>...</td>\n      <td>...</td>\n      <td>...</td>\n      <td>...</td>\n    </tr>\n    <tr>\n      <th>71944</th>\n      <td>56037</td>\n      <td>1.288242</td>\n      <td>6846.474113</td>\n      <td>1.671191</td>\n      <td>0.242657</td>\n      <td>1.548135</td>\n      <td>468.448494</td>\n      <td>0.094393</td>\n      <td>0.074211</td>\n      <td>2.360126e-07</td>\n      <td>...</td>\n      <td>0.000158</td>\n      <td>3197.779327</td>\n      <td>6.811835</td>\n      <td>6844.091086</td>\n      <td>6.462275e-06</td>\n      <td>1.788926e-05</td>\n      <td>2.383027</td>\n      <td>41.472524</td>\n      <td>654.507956</td>\n      <td>15.008485</td>\n    </tr>\n    <tr>\n      <th>71967</th>\n      <td>56039</td>\n      <td>0.083954</td>\n      <td>1.400183</td>\n      <td>17.679180</td>\n      <td>0.056704</td>\n      <td>3.572117</td>\n      <td>47.566459</td>\n      <td>0.090532</td>\n      <td>0.267253</td>\n      <td>3.504199e-08</td>\n      <td>...</td>\n      <td>0.000049</td>\n      <td>0.010181</td>\n      <td>12.942471</td>\n      <td>0.656189</td>\n      <td>5.078643e-06</td>\n      <td>4.713616e-04</td>\n      <td>0.743994</td>\n      <td>3.222444</td>\n      <td>721.506003</td>\n      <td>4.511225</td>\n    </tr>\n    <tr>\n      <th>71990</th>\n      <td>56041</td>\n      <td>0.192684</td>\n      <td>3509.922266</td>\n      <td>0.227323</td>\n      <td>0.027889</td>\n      <td>0.588789</td>\n      <td>62.957404</td>\n      <td>0.020252</td>\n      <td>0.015144</td>\n      <td>3.722919e-08</td>\n      <td>...</td>\n      <td>0.000022</td>\n      <td>730.743964</td>\n      <td>2.413328</td>\n      <td>3509.893777</td>\n      <td>1.139964e-06</td>\n      <td>1.078417e-06</td>\n      <td>0.028489</td>\n      <td>6.938709</td>\n      <td>202.008187</td>\n      <td>1.091574</td>\n    </tr>\n    <tr>\n      <th>72013</th>\n      <td>56043</td>\n      <td>0.084944</td>\n      <td>1652.835530</td>\n      <td>0.073477</td>\n      <td>0.012313</td>\n      <td>0.141232</td>\n      <td>17.695252</td>\n      <td>0.008530</td>\n      <td>0.004346</td>\n      <td>1.659289e-08</td>\n      <td>...</td>\n      <td>0.000001</td>\n      <td>0.000000</td>\n      <td>0.774102</td>\n      <td>1652.832375</td>\n      <td>3.911731e-07</td>\n      <td>5.269024e-10</td>\n      <td>0.003155</td>\n      <td>3.325439</td>\n      <td>51.721583</td>\n      <td>0.083898</td>\n    </tr>\n    <tr>\n      <th>72036</th>\n      <td>56045</td>\n      <td>0.091856</td>\n      <td>1972.064340</td>\n      <td>0.166077</td>\n      <td>0.013064</td>\n      <td>0.136889</td>\n      <td>21.413600</td>\n      <td>0.009921</td>\n      <td>0.003162</td>\n      <td>2.299176e-08</td>\n      <td>...</td>\n      <td>0.000002</td>\n      <td>31.285543</td>\n      <td>0.491881</td>\n      <td>1971.904410</td>\n      <td>8.367255e-07</td>\n      <td>2.198150e-06</td>\n      <td>0.159930</td>\n      <td>3.642929</td>\n      <td>28.875893</td>\n      <td>0.122450</td>\n    </tr>\n  </tbody>\n</table>\n<p>3133 rows × 25 columns</p>\n</div>",
      "text/plain": "        fips      ACID         ENRG       ETOX      EUTR      FOOD  \\\n0       1001  1.049800  2609.156621   3.932211  0.091967  1.070762   \n23      1003  0.280475    15.561882   7.987962  0.290754  7.601684   \n46      1005  0.210885     0.010255   4.445820  0.027651  0.184201   \n69      1007  0.059937    30.656456   2.418462  0.009070  0.112118   \n92      1009  0.066937     0.017388   0.668729  0.008988  0.313152   \n...      ...       ...          ...        ...       ...       ...   \n71944  56037  1.288242  6846.474113   1.671191  0.242657  1.548135   \n71967  56039  0.083954     1.400183  17.679180  0.056704  3.572117   \n71990  56041  0.192684  3509.922266   0.227323  0.027889  0.588789   \n72013  56043  0.084944  1652.835530   0.073477  0.012313  0.141232   \n72036  56045  0.091856  1972.064340   0.166077  0.013064  0.136889   \n\n              GCC      HAPS      HAZW            HC  ...      METL  \\\n0      375.880086  0.028596  0.038196  1.392760e-08  ...  0.000177   \n23     121.748265  0.062129  0.932868  5.461040e-08  ...  0.000130   \n46      41.021013  0.014290  0.006247  3.207004e-08  ...  0.000007   \n69      11.566748  0.004779  0.007600  9.819009e-09  ...  0.000010   \n92      13.374711  0.006907  0.014673  1.074744e-08  ...  0.000009   \n...           ...       ...       ...           ...  ...       ...   \n71944  468.448494  0.094393  0.074211  2.360126e-07  ...  0.000158   \n71967   47.566459  0.090532  0.267253  3.504199e-08  ...  0.000049   \n71990   62.957404  0.020252  0.015144  3.722919e-08  ...  0.000022   \n72013   17.695252  0.008530  0.004346  1.659289e-08  ...  0.000001   \n72036   21.413600  0.009921  0.003162  2.299176e-08  ...  0.000002   \n\n              MINE        MSW         NREN          OZON          PEST  \\\n0         0.000000   3.332971  1558.288943  8.205763e-06  6.937696e-05   \n23       44.123480  28.367361    12.236171  1.025729e-05  1.910217e-04   \n46        0.000000   1.000043     0.000000  2.608045e-07  5.804013e-05   \n69        0.000000   0.520036     0.000000  8.704410e-07  3.238827e-05   \n92        0.000000   1.277899     0.000000  4.780418e-06  1.113430e-05   \n...            ...        ...          ...           ...           ...   \n71944  3197.779327   6.811835  6844.091086  6.462275e-06  1.788926e-05   \n71967     0.010181  12.942471     0.656189  5.078643e-06  4.713616e-04   \n71990   730.743964   2.413328  3509.893777  1.139964e-06  1.078417e-06   \n72013     0.000000   0.774102  1652.832375  3.911731e-07  5.269024e-10   \n72036    31.285543   0.491881  1971.904410  8.367255e-07  2.198150e-06   \n\n               REN       SMOG         VADD       WATR  \n0      1050.867678   9.764524   168.936475  27.485562  \n23        3.325711   9.430919  1620.234233   4.251408  \n46        0.010255   7.502860    65.168132   0.701977  \n69       30.656456   2.133152    24.050294   0.384009  \n92        0.017388   2.409639    60.574602   0.160868  \n...            ...        ...          ...        ...  \n71944     2.383027  41.472524   654.507956  15.008485  \n71967     0.743994   3.222444   721.506003   4.511225  \n71990     0.028489   6.938709   202.008187   1.091574  \n72013     0.003155   3.325439    51.721583   0.083898  \n72036     0.159930   3.642929    28.875893   0.122450  \n\n[3133 rows x 25 columns]"
     },
     "execution_count": 14,
     "metadata": {},
     "output_type": "execute_result"
    }
   ],
   "source": [
    "\n",
    "#selecting data for the specific cancer type\n",
    "cancerData=data[\"cancer\"]==1\n",
    "newData=data[cancerData]\n",
    "newData=newData[['fips','ACID', 'ENRG', 'ETOX', 'EUTR',\n",
    "       'FOOD', 'GCC', 'HAPS', 'HAZW', 'HC', 'HNC', 'HRSP', 'HTOX', 'JOBS',\n",
    "       'LAND', 'METL', 'MINE', 'MSW', 'NREN', 'OZON', 'PEST', 'REN', 'SMOG',\n",
    "       'VADD', 'WATR']]\n",
    "newData"
   ]
  },
  {
   "cell_type": "code",
   "execution_count": 15,
   "metadata": {},
   "outputs": [],
   "source": [
    "df_inner = newData.merge(data2,on='fips', how='inner')"
   ]
  },
  {
   "cell_type": "code",
   "execution_count": 16,
   "metadata": {},
   "outputs": [
    {
     "data": {
      "text/html": "<div>\n<style scoped>\n    .dataframe tbody tr th:only-of-type {\n        vertical-align: middle;\n    }\n\n    .dataframe tbody tr th {\n        vertical-align: top;\n    }\n\n    .dataframe thead th {\n        text-align: right;\n    }\n</style>\n<table border=\"1\" class=\"dataframe\">\n  <thead>\n    <tr style=\"text-align: right;\">\n      <th></th>\n      <th>fips</th>\n      <th>ACID</th>\n      <th>ENRG</th>\n      <th>ETOX</th>\n      <th>EUTR</th>\n      <th>FOOD</th>\n      <th>GCC</th>\n      <th>HAPS</th>\n      <th>HAZW</th>\n      <th>HC</th>\n      <th>...</th>\n      <th>66</th>\n      <th>71</th>\n      <th>72</th>\n      <th>76</th>\n      <th>80</th>\n      <th>86</th>\n      <th>90</th>\n      <th>400</th>\n      <th>515</th>\n      <th>516</th>\n    </tr>\n  </thead>\n  <tbody>\n    <tr>\n      <th>0</th>\n      <td>1001</td>\n      <td>1.049800</td>\n      <td>2609.156621</td>\n      <td>3.932211</td>\n      <td>0.091967</td>\n      <td>1.070762</td>\n      <td>375.880086</td>\n      <td>0.028596</td>\n      <td>0.038196</td>\n      <td>1.392760e-08</td>\n      <td>...</td>\n      <td>32</td>\n      <td>11</td>\n      <td>13</td>\n      <td>4</td>\n      <td>7</td>\n      <td>9</td>\n      <td>8</td>\n      <td>8</td>\n      <td>3</td>\n      <td>0</td>\n    </tr>\n    <tr>\n      <th>1</th>\n      <td>1003</td>\n      <td>0.280475</td>\n      <td>15.561882</td>\n      <td>7.987962</td>\n      <td>0.290754</td>\n      <td>7.601684</td>\n      <td>121.748265</td>\n      <td>0.062129</td>\n      <td>0.932868</td>\n      <td>5.461040e-08</td>\n      <td>...</td>\n      <td>121</td>\n      <td>56</td>\n      <td>44</td>\n      <td>16</td>\n      <td>14</td>\n      <td>44</td>\n      <td>32</td>\n      <td>36</td>\n      <td>11</td>\n      <td>7</td>\n    </tr>\n    <tr>\n      <th>2</th>\n      <td>1005</td>\n      <td>0.210885</td>\n      <td>0.010255</td>\n      <td>4.445820</td>\n      <td>0.027651</td>\n      <td>0.184201</td>\n      <td>41.021013</td>\n      <td>0.014290</td>\n      <td>0.006247</td>\n      <td>3.207004e-08</td>\n      <td>...</td>\n      <td>22</td>\n      <td>6</td>\n      <td>7</td>\n      <td>0</td>\n      <td>0</td>\n      <td>5</td>\n      <td>0</td>\n      <td>4</td>\n      <td>0</td>\n      <td>0</td>\n    </tr>\n    <tr>\n      <th>3</th>\n      <td>1007</td>\n      <td>0.059937</td>\n      <td>30.656456</td>\n      <td>2.418462</td>\n      <td>0.009070</td>\n      <td>0.112118</td>\n      <td>11.566748</td>\n      <td>0.004779</td>\n      <td>0.007600</td>\n      <td>9.819009e-09</td>\n      <td>...</td>\n      <td>16</td>\n      <td>4</td>\n      <td>7</td>\n      <td>0</td>\n      <td>4</td>\n      <td>4</td>\n      <td>3</td>\n      <td>3</td>\n      <td>0</td>\n      <td>0</td>\n    </tr>\n    <tr>\n      <th>4</th>\n      <td>1009</td>\n      <td>0.066937</td>\n      <td>0.017388</td>\n      <td>0.668729</td>\n      <td>0.008988</td>\n      <td>0.313152</td>\n      <td>13.374711</td>\n      <td>0.006907</td>\n      <td>0.014673</td>\n      <td>1.074744e-08</td>\n      <td>...</td>\n      <td>38</td>\n      <td>12</td>\n      <td>13</td>\n      <td>4</td>\n      <td>6</td>\n      <td>12</td>\n      <td>10</td>\n      <td>10</td>\n      <td>4</td>\n      <td>3</td>\n    </tr>\n    <tr>\n      <th>...</th>\n      <td>...</td>\n      <td>...</td>\n      <td>...</td>\n      <td>...</td>\n      <td>...</td>\n      <td>...</td>\n      <td>...</td>\n      <td>...</td>\n      <td>...</td>\n      <td>...</td>\n      <td>...</td>\n      <td>...</td>\n      <td>...</td>\n      <td>...</td>\n      <td>...</td>\n      <td>...</td>\n      <td>...</td>\n      <td>...</td>\n      <td>...</td>\n      <td>...</td>\n      <td>...</td>\n    </tr>\n    <tr>\n      <th>3128</th>\n      <td>56037</td>\n      <td>1.288242</td>\n      <td>6846.474113</td>\n      <td>1.671191</td>\n      <td>0.242657</td>\n      <td>1.548135</td>\n      <td>468.448494</td>\n      <td>0.094393</td>\n      <td>0.074211</td>\n      <td>2.360126e-07</td>\n      <td>...</td>\n      <td>25</td>\n      <td>8</td>\n      <td>6</td>\n      <td>4</td>\n      <td>5</td>\n      <td>7</td>\n      <td>5</td>\n      <td>4</td>\n      <td>0</td>\n      <td>0</td>\n    </tr>\n    <tr>\n      <th>3129</th>\n      <td>56039</td>\n      <td>0.083954</td>\n      <td>1.400183</td>\n      <td>17.679180</td>\n      <td>0.056704</td>\n      <td>3.572117</td>\n      <td>47.566459</td>\n      <td>0.090532</td>\n      <td>0.267253</td>\n      <td>3.504199e-08</td>\n      <td>...</td>\n      <td>17</td>\n      <td>5</td>\n      <td>0</td>\n      <td>0</td>\n      <td>3</td>\n      <td>6</td>\n      <td>4</td>\n      <td>4</td>\n      <td>0</td>\n      <td>0</td>\n    </tr>\n    <tr>\n      <th>3130</th>\n      <td>56041</td>\n      <td>0.192684</td>\n      <td>3509.922266</td>\n      <td>0.227323</td>\n      <td>0.027889</td>\n      <td>0.588789</td>\n      <td>62.957404</td>\n      <td>0.020252</td>\n      <td>0.015144</td>\n      <td>3.722919e-08</td>\n      <td>...</td>\n      <td>8</td>\n      <td>4</td>\n      <td>3</td>\n      <td>0</td>\n      <td>4</td>\n      <td>4</td>\n      <td>0</td>\n      <td>0</td>\n      <td>0</td>\n      <td>0</td>\n    </tr>\n    <tr>\n      <th>3131</th>\n      <td>56043</td>\n      <td>0.084944</td>\n      <td>1652.835530</td>\n      <td>0.073477</td>\n      <td>0.012313</td>\n      <td>0.141232</td>\n      <td>17.695252</td>\n      <td>0.008530</td>\n      <td>0.004346</td>\n      <td>1.659289e-08</td>\n      <td>...</td>\n      <td>5</td>\n      <td>0</td>\n      <td>0</td>\n      <td>0</td>\n      <td>0</td>\n      <td>0</td>\n      <td>0</td>\n      <td>0</td>\n      <td>0</td>\n      <td>0</td>\n    </tr>\n    <tr>\n      <th>3132</th>\n      <td>56045</td>\n      <td>0.091856</td>\n      <td>1972.064340</td>\n      <td>0.166077</td>\n      <td>0.013064</td>\n      <td>0.136889</td>\n      <td>21.413600</td>\n      <td>0.009921</td>\n      <td>0.003162</td>\n      <td>2.299176e-08</td>\n      <td>...</td>\n      <td>4</td>\n      <td>0</td>\n      <td>0</td>\n      <td>0</td>\n      <td>0</td>\n      <td>0</td>\n      <td>0</td>\n      <td>0</td>\n      <td>0</td>\n      <td>0</td>\n    </tr>\n  </tbody>\n</table>\n<p>3133 rows × 48 columns</p>\n</div>",
      "text/plain": "       fips      ACID         ENRG       ETOX      EUTR      FOOD         GCC  \\\n0      1001  1.049800  2609.156621   3.932211  0.091967  1.070762  375.880086   \n1      1003  0.280475    15.561882   7.987962  0.290754  7.601684  121.748265   \n2      1005  0.210885     0.010255   4.445820  0.027651  0.184201   41.021013   \n3      1007  0.059937    30.656456   2.418462  0.009070  0.112118   11.566748   \n4      1009  0.066937     0.017388   0.668729  0.008988  0.313152   13.374711   \n...     ...       ...          ...        ...       ...       ...         ...   \n3128  56037  1.288242  6846.474113   1.671191  0.242657  1.548135  468.448494   \n3129  56039  0.083954     1.400183  17.679180  0.056704  3.572117   47.566459   \n3130  56041  0.192684  3509.922266   0.227323  0.027889  0.588789   62.957404   \n3131  56043  0.084944  1652.835530   0.073477  0.012313  0.141232   17.695252   \n3132  56045  0.091856  1972.064340   0.166077  0.013064  0.136889   21.413600   \n\n          HAPS      HAZW            HC  ...   66  71  72  76  80  86  90  400  \\\n0     0.028596  0.038196  1.392760e-08  ...   32  11  13   4   7   9   8    8   \n1     0.062129  0.932868  5.461040e-08  ...  121  56  44  16  14  44  32   36   \n2     0.014290  0.006247  3.207004e-08  ...   22   6   7   0   0   5   0    4   \n3     0.004779  0.007600  9.819009e-09  ...   16   4   7   0   4   4   3    3   \n4     0.006907  0.014673  1.074744e-08  ...   38  12  13   4   6  12  10   10   \n...        ...       ...           ...  ...  ...  ..  ..  ..  ..  ..  ..  ...   \n3128  0.094393  0.074211  2.360126e-07  ...   25   8   6   4   5   7   5    4   \n3129  0.090532  0.267253  3.504199e-08  ...   17   5   0   0   3   6   4    4   \n3130  0.020252  0.015144  3.722919e-08  ...    8   4   3   0   4   4   0    0   \n3131  0.008530  0.004346  1.659289e-08  ...    5   0   0   0   0   0   0    0   \n3132  0.009921  0.003162  2.299176e-08  ...    4   0   0   0   0   0   0    0   \n\n      515  516  \n0       3    0  \n1      11    7  \n2       0    0  \n3       0    0  \n4       4    3  \n...   ...  ...  \n3128    0    0  \n3129    0    0  \n3130    0    0  \n3131    0    0  \n3132    0    0  \n\n[3133 rows x 48 columns]"
     },
     "execution_count": 16,
     "metadata": {},
     "output_type": "execute_result"
    }
   ],
   "source": [
    "df_inner"
   ]
  },
  {
   "cell_type": "code",
   "execution_count": 17,
   "metadata": {},
   "outputs": [
    {
     "data": {
      "text/plain": "Index(['fips', 'ACID', 'ENRG', 'ETOX', 'EUTR', 'FOOD', 'GCC', 'HAPS', 'HAZW',\n       'HC', 'HNC', 'HRSP', 'HTOX', 'JOBS', 'LAND', 'METL', 'MINE', 'MSW',\n       'NREN', 'OZON', 'PEST', 'REN', 'SMOG', 'VADD', 'WATR', '1', '3', '17',\n       '18', '20', '35', '40', '47', '53', '55', '57', '58', '61', '66', '71',\n       '72', '76', '80', '86', '90', '400', '515', '516'],\n      dtype='object')"
     },
     "execution_count": 17,
     "metadata": {},
     "output_type": "execute_result"
    }
   ],
   "source": [
    "df_inner.columns"
   ]
  },
  {
   "cell_type": "code",
   "execution_count": 162,
   "metadata": {},
   "outputs": [
    {
     "name": "stdout",
     "output_type": "stream",
     "text": [
      "Creating Elastic Net Model and Fitting the Data\n",
      "score 0.7833450560976941\n"
     ]
    },
    {
     "name": "stderr",
     "output_type": "stream",
     "text": [
      "C:\\Users\\Owner\\Miniconda3\\lib\\site-packages\\sklearn\\base.py:434: FutureWarning: The default value of multioutput (not exposed in score method) will change from 'variance_weighted' to 'uniform_average' in 0.23 to keep consistent with 'metrics.r2_score'. To specify the default value manually and avoid the warning, please either call 'metrics.r2_score' directly or make a custom scorer with 'metrics.make_scorer' (the built-in scorer 'r2' uses multioutput='uniform_average').\n",
      "  \"multioutput='uniform_average').\", FutureWarning)\n"
     ]
    }
   ],
   "source": [
    "from sklearn.linear_model import MultiTaskElasticNet\n",
    "\n",
    "#splitting to test and train\n",
    "x1=df_inner.loc[:, 'ACID':'WATR']\n",
    "y = df_inner.loc[:, '1':'516']\n",
    "\n",
    "X_train1, X_test1, y_train, y_test = train_test_split(x1, y,\n",
    "                                                    test_size=0.3,\n",
    "                                                    random_state = RSEED)\n",
    "\n",
    "scaler = StandardScaler()\n",
    "scaler.fit(X_train1)\n",
    "\n",
    "X_train = scaler.transform(X_train1)\n",
    "X_test = scaler.transform(X_test1)\n",
    "    \n",
    "\n",
    "print(\"Creating Elastic Net Model and Fitting the Data\")\n",
    "eNet = MultiTaskElasticNet(random_state=RSEED).fit(X_train, y_train)\n",
    "    \n",
    "#Evaluation\n",
    "r2_score = eNet.score(X_test, y_test)\n",
    "print(\"score\", r2_score)\n"
   ]
  },
  {
   "cell_type": "code",
   "execution_count": 143,
   "metadata": {},
   "outputs": [
    {
     "data": {
      "text/plain": [
       "array([[ 8.37181866e+00, -1.24433920e+02,  2.09230739e+02,\n",
       "         1.47684487e+02,  2.03322154e+02,  1.40105145e-01,\n",
       "         1.41609391e+02,  4.77325283e+01,  1.59928936e+01,\n",
       "         2.10217281e-01,  1.08479285e+02,  1.85312592e+00,\n",
       "         8.86433312e+01, -4.74213475e+01,  1.99327362e+02,\n",
       "        -5.61299504e-01,  1.05069220e+02, -1.25449429e+02,\n",
       "         1.37438124e+02,  2.14209348e+02, -6.73538515e+01,\n",
       "         4.45333680e+01, -5.27991215e+00, -3.20671074e+01],\n",
       "       [ 3.66886887e-01, -2.93626237e+00,  5.52049306e+00,\n",
       "         3.41931976e+00,  5.08796577e+00,  5.12818972e-02,\n",
       "         3.61612670e+00,  1.32436636e+00,  4.96944701e-01,\n",
       "        -4.27741465e-03,  2.86138777e+00,  4.64858435e-02,\n",
       "         2.04714566e+00, -9.31672895e-01,  4.53518837e+00,\n",
       "         7.94234604e-02,  2.63815442e+00, -2.96288891e+00,\n",
       "         3.17733471e+00,  5.62250431e+00, -1.52836866e+00,\n",
       "         1.30025210e+00, -1.17377908e-01, -7.02999679e-01],\n",
       "       [ 1.32756690e-01, -1.10061048e+00,  2.03582758e+00,\n",
       "         1.06563653e+00,  1.77155652e+00,  2.48050996e-02,\n",
       "         1.46368648e+00,  4.14498721e-01,  1.64639179e-01,\n",
       "        -5.82421933e-02,  1.02108389e+00, -4.32752946e-02,\n",
       "         7.50442132e-01, -2.59531848e-01,  1.54195551e+00,\n",
       "         1.21305765e-01,  8.89164303e-01, -1.11401146e+00,\n",
       "         8.57768077e-01,  2.09006571e+00, -4.79488984e-01,\n",
       "         4.78943469e-01, -1.44505840e-01, -2.34284070e-01],\n",
       "       [-4.56346202e-02, -2.73371735e+00,  2.99207260e+00,\n",
       "         3.80646481e+00,  4.04552470e+00, -8.12572476e-02,\n",
       "         2.61627221e+00,  1.03855587e+00,  2.90453324e-01,\n",
       "         2.02785472e-01,  2.04639437e+00,  2.39029600e-01,\n",
       "         1.93753655e+00, -1.18226114e+00,  5.27929567e+00,\n",
       "        -6.31757029e-01,  2.06273908e+00, -2.74486482e+00,\n",
       "         3.76563078e+00,  2.98487547e+00, -1.77566847e+00,\n",
       "         6.62186597e-01, -6.37891096e-02, -9.49019645e-01],\n",
       "       [ 7.42823634e-01, -1.13843731e+01,  1.60733155e+01,\n",
       "         1.51312234e+01,  1.77398285e+01, -1.27437621e-01,\n",
       "         1.36733881e+01,  4.83045301e+00,  1.99543870e+00,\n",
       "         5.40246278e-01,  9.88434467e+00,  7.62069792e-01,\n",
       "         7.59334378e+00, -4.37045077e+00,  1.98391111e+01,\n",
       "        -8.25379458e-01,  9.00409257e+00, -1.14414605e+01,\n",
       "         1.37152393e+01,  1.61895924e+01, -7.14797933e+00,\n",
       "         4.44205691e+00, -8.19322817e-01, -3.85509506e+00],\n",
       "       [ 5.26069814e-01, -2.45759017e+00,  3.68053793e+00,\n",
       "         4.01606305e+00,  4.80929683e+00,  1.25812321e-01,\n",
       "         3.01686952e+00,  1.20946599e+00,  7.35188080e-01,\n",
       "         3.35851834e-01,  2.62125911e+00,  4.22236313e-01,\n",
       "         2.31289677e+00, -6.89672685e-01,  5.18334308e+00,\n",
       "        -1.49128749e-01,  2.61457525e+00, -2.48119925e+00,\n",
       "         3.71589853e+00,  3.51380808e+00, -1.27936650e+00,\n",
       "         1.32624941e+00,  2.66826095e-01, -4.14410256e-01],\n",
       "       [ 2.38866151e-01, -3.69029271e+00,  6.11657312e+00,\n",
       "         4.40560508e+00,  6.00643203e+00,  9.61229587e-03,\n",
       "         4.32983285e+00,  1.38361986e+00,  4.88815091e-01,\n",
       "         1.96223805e-02,  3.20872478e+00,  7.02661660e-02,\n",
       "         2.68990682e+00, -1.39663747e+00,  6.02983606e+00,\n",
       "        -1.95527011e-01,  3.10050310e+00, -3.72101445e+00,\n",
       "         3.95849175e+00,  6.27126215e+00, -1.98440636e+00,\n",
       "         1.30359945e+00, -1.91189459e-01, -9.39543311e-01],\n",
       "       [ 1.62689677e+00, -1.33033891e+01,  2.38370021e+01,\n",
       "         1.37720540e+01,  2.25871622e+01,  2.74963351e-01,\n",
       "         1.91959339e+01,  4.31361604e+00,  2.40768617e+00,\n",
       "        -5.56020963e-01,  1.27454474e+01, -3.27456540e-01,\n",
       "         1.02921531e+01, -4.14274535e+00,  1.92702867e+01,\n",
       "         4.49209752e-01,  1.16841408e+01, -1.34350991e+01,\n",
       "         1.04239485e+01,  2.44592000e+01, -6.61665794e+00,\n",
       "         6.31015296e+00, -1.38842923e+00, -3.31050224e+00],\n",
       "       [-3.22574453e-01, -5.20358278e+00,  1.27766287e+01,\n",
       "         4.67960239e+00,  8.23503393e+00, -1.32190188e-01,\n",
       "         4.17471124e+00,  3.25701812e+00, -6.41219006e-01,\n",
       "        -9.35764068e-01,  4.01290248e+00, -1.03246154e+00,\n",
       "         2.30211126e+00, -2.23496850e+00,  5.21871703e+00,\n",
       "         1.21601597e+00,  3.97320212e+00, -5.25559924e+00,\n",
       "         5.73847949e+00,  1.34897441e+01, -2.45461282e+00,\n",
       "         6.40460816e-01, -3.77437582e-01, -1.05538991e+00],\n",
       "       [ 8.84443987e-01, -1.99472532e+01,  3.19435316e+01,\n",
       "         2.36720603e+01,  3.22622076e+01, -1.12936223e-01,\n",
       "         2.12131280e+01,  9.20467461e+00,  1.82218215e+00,\n",
       "        -1.01195472e-01,  1.67104493e+01,  8.16038716e-02,\n",
       "         1.43506875e+01, -7.78651311e+00,  3.22244056e+01,\n",
       "         1.73735583e-01,  1.72098938e+01, -2.01103471e+01,\n",
       "         2.29550197e+01,  3.25737108e+01, -1.07258640e+01,\n",
       "         6.23360748e+00,  2.95517929e-01, -4.86229553e+00],\n",
       "       [ 3.23567834e-01, -9.40296706e-01,  1.36367371e+00,\n",
       "         1.63830603e+00,  1.72791622e+00,  6.24870222e-02,\n",
       "         1.28125674e+00,  3.63764933e-01,  5.05321486e-01,\n",
       "         2.72548029e-01,  1.09686065e+00,  3.33291107e-01,\n",
       "         7.35372077e-01, -3.80920134e-01,  2.10295987e+00,\n",
       "        -1.47065399e-01,  8.56817090e-01, -9.48039294e-01,\n",
       "         1.61933908e+00,  1.32596634e+00, -5.42919931e-01,\n",
       "         7.21620505e-01, -1.04749357e-01, -2.48374933e-01],\n",
       "       [ 1.86941851e-01, -5.02927116e+00,  6.77529885e+00,\n",
       "         5.74820322e+00,  7.44551945e+00, -1.02381903e-03,\n",
       "         5.15465433e+00,  1.80977738e+00,  3.96746400e-01,\n",
       "        -3.48067386e-02,  3.97433350e+00,  4.55343554e-03,\n",
       "         3.53302401e+00, -1.97039451e+00,  8.09332358e+00,\n",
       "        -3.05589912e-01,  3.92606965e+00, -5.08045977e+00,\n",
       "         5.47473530e+00,  6.86794111e+00, -2.44070672e+00,\n",
       "         1.40477892e+00, -1.25901117e-01, -1.15916600e+00],\n",
       "       [ 6.83856022e-02, -1.91200441e+00,  2.80682891e+00,\n",
       "         2.56166495e+00,  2.96240697e+00, -4.32008938e-02,\n",
       "         1.92397270e+00,  8.88936487e-01,  2.65240854e-01,\n",
       "         1.09100405e-01,  1.56771476e+00,  1.39782820e-01,\n",
       "         1.24429160e+00, -7.14907731e-01,  3.41299874e+00,\n",
       "        -1.36129787e-02,  1.50591538e+00, -1.92199695e+00,\n",
       "         2.61414092e+00,  2.84411261e+00, -1.18410541e+00,\n",
       "         6.17778196e-01, -7.36503826e-02, -6.07591547e-01],\n",
       "       [ 1.14321056e+00, -1.47173018e+01,  2.39047756e+01,\n",
       "         1.62389006e+01,  2.35769194e+01,  1.45333348e-01,\n",
       "         1.64154357e+01,  4.90350000e+00,  2.05631561e+00,\n",
       "         2.53844152e-02,  1.25534392e+01,  2.36731656e-01,\n",
       "         1.09672508e+01, -5.30146837e+00,  2.28779695e+01,\n",
       "        -2.25991420e-01,  1.23547106e+01, -1.48463514e+01,\n",
       "         1.47837629e+01,  2.44731697e+01, -7.74745498e+00,\n",
       "         5.43648848e+00, -5.46541037e-01, -3.70445091e+00],\n",
       "       [-1.01788170e-01, -5.51921469e+00,  1.01625659e+01,\n",
       "         5.60670229e+00,  8.34730327e+00, -1.63537698e-01,\n",
       "         6.00973541e+00,  1.75581424e+00,  1.36511823e-01,\n",
       "        -3.87604185e-01,  4.28560763e+00, -3.86583521e-01,\n",
       "         3.40523558e+00, -2.02678077e+00,  7.83240828e+00,\n",
       "         1.83029614e-01,  4.06971121e+00, -5.56357832e+00,\n",
       "         4.96743382e+00,  1.06799761e+01, -2.94874970e+00,\n",
       "         1.32244526e+00, -7.08112438e-01, -1.58716290e+00],\n",
       "       [ 6.87177443e-01, -4.15322476e+00,  6.86155205e+00,\n",
       "         5.70363745e+00,  6.92550219e+00,  4.35410070e-02,\n",
       "         5.41206356e+00,  1.60624141e+00,  1.11810818e+00,\n",
       "         2.75791637e-01,  4.11854536e+00,  3.99373300e-01,\n",
       "         2.73227621e+00, -1.41289778e+00,  7.08123698e+00,\n",
       "         1.20271551e-01,  3.38762536e+00, -4.18455325e+00,\n",
       "         5.11117768e+00,  6.85576252e+00, -2.35838009e+00,\n",
       "         2.27968885e+00, -5.87033242e-01, -1.30518343e+00],\n",
       "       [ 1.87394972e-01, -1.53371341e+00,  2.97458375e+00,\n",
       "         1.99984376e+00,  2.72283152e+00,  3.59157099e-02,\n",
       "         1.70255405e+00,  7.52730820e-01,  2.40078002e-01,\n",
       "         2.15501162e-02,  1.46448481e+00,  4.68426419e-02,\n",
       "         1.10844754e+00, -4.65759164e-01,  2.50045329e+00,\n",
       "         2.29663530e-01,  1.41248462e+00, -1.55079361e+00,\n",
       "         1.90903817e+00,  3.01835862e+00, -7.14559484e-01,\n",
       "         6.30266163e-01, -2.38421051e-02, -2.88939949e-01],\n",
       "       [ 1.71982385e-01, -4.25437921e+00,  6.80144475e+00,\n",
       "         4.81989954e+00,  7.35388691e+00,  1.62397689e-01,\n",
       "         3.90893920e+00,  1.22692469e+00,  1.29251519e-01,\n",
       "        -1.25272168e-01,  3.49444188e+00, -1.16198849e-01,\n",
       "         3.74688977e+00, -2.11194555e+00,  6.93706629e+00,\n",
       "        -6.17972130e-02,  4.00720525e+00, -4.31262700e+00,\n",
       "         4.95292585e+00,  6.95368284e+00, -1.67448522e+00,\n",
       "         9.87057667e-01,  2.33122618e-01, -3.31091388e-01],\n",
       "       [ 6.39560445e-02, -5.52332602e+00,  1.00002302e+01,\n",
       "         6.77831958e+00,  9.05987965e+00, -1.10126801e-01,\n",
       "         5.79179658e+00,  2.11702954e+00,  4.59849611e-01,\n",
       "         8.80332237e-03,  4.53234498e+00,  5.60018289e-02,\n",
       "         3.87945955e+00, -2.35755996e+00,  8.95626898e+00,\n",
       "        -1.17151278e-01,  4.70102099e+00, -5.55944846e+00,\n",
       "         6.43501057e+00,  1.03856414e+01, -3.20154380e+00,\n",
       "         1.49896748e+00, -2.54358408e-02, -1.50127628e+00],\n",
       "       [ 3.16293432e-01, -3.45373035e+00,  7.12259268e+00,\n",
       "         4.42533583e+00,  6.00566303e+00, -1.47368576e-02,\n",
       "         3.92767762e+00,  8.85182586e-01,  6.51274241e-01,\n",
       "         1.46362706e-01,  3.22659305e+00,  2.17842701e-01,\n",
       "         2.36690087e+00, -1.45792739e+00,  5.72383823e+00,\n",
       "         2.00957327e-01,  2.99011869e+00, -3.47533548e+00,\n",
       "         4.04035191e+00,  7.38768175e+00, -2.05592339e+00,\n",
       "         1.42957323e+00, -2.66601265e-01, -1.05035937e+00],\n",
       "       [ 2.04910647e-01, -4.99104124e+00,  8.43641548e+00,\n",
       "         4.86762713e+00,  8.69146002e+00,  1.75679093e-01,\n",
       "         4.56131646e+00,  1.97170516e+00,  1.04255372e-01,\n",
       "        -2.67042175e-01,  3.96931642e+00, -2.65104011e-01,\n",
       "         4.94262250e+00, -2.32061211e+00,  7.55220045e+00,\n",
       "        -9.44038233e-02,  5.18347681e+00, -5.06290259e+00,\n",
       "         4.36079301e+00,  8.74975939e+00, -1.84758972e+00,\n",
       "         1.09574616e+00,  1.02781694e+00, -2.83360181e-01],\n",
       "       [ 3.09977798e-01, -1.09508677e+00,  2.01447152e+00,\n",
       "         1.94484791e+00,  1.98650622e+00,  6.55790600e-02,\n",
       "         1.38617698e+00,  7.52988026e-01,  4.53007837e-01,\n",
       "         2.09951409e-01,  1.28850827e+00,  2.63264381e-01,\n",
       "         6.98939536e-01, -4.94995578e-01,  2.20584513e+00,\n",
       "        -1.29503193e-02,  9.43411884e-01, -1.10603398e+00,\n",
       "         2.03912473e+00,  1.97985657e+00, -5.71003557e-01,\n",
       "         7.40037161e-01, -1.74060664e-01, -2.40077349e-01],\n",
       "       [ 2.49835397e-01, -6.93864876e-01,  1.32576930e+00,\n",
       "         1.30193127e+00,  1.34198772e+00,  6.24346318e-02,\n",
       "         9.43315618e-01,  5.15156247e-01,  3.61817321e-01,\n",
       "         1.69644108e-01,  8.58817614e-01,  2.12308541e-01,\n",
       "         4.85683343e-01, -3.34594482e-01,  1.43777331e+00,\n",
       "         9.33117952e-03,  6.50204054e-01, -7.02021364e-01,\n",
       "         1.37707310e+00,  1.29403290e+00, -3.35881106e-01,\n",
       "         5.51765969e-01, -9.56920379e-02, -1.27755711e-01]])"
      ]
     },
     "execution_count": 143,
     "metadata": {},
     "output_type": "execute_result"
    }
   ],
   "source": [
    "eNet.coef_"
   ]
  },
  {
   "cell_type": "code",
   "execution_count": 144,
   "metadata": {},
   "outputs": [],
   "source": [
    "np.savetxt(\"enet_multi.csv\", eNet.coef_, delimiter=\",\")"
   ]
  },
  {
   "cell_type": "code",
   "execution_count": 23,
   "metadata": {},
   "outputs": [
    {
     "name": "stdout",
     "output_type": "stream",
     "text": "Creating Elastic Net Model and Fitting the Data\nscore 0.8971703578283284\n"
    }
   ],
   "source": [
    "from sklearn.linear_model import MultiTaskLasso\n",
    "\n",
    "#splitting to test and train\n",
    "x1=df_inner.loc[:, 'ACID':'WATR']\n",
    "y = df_inner.loc[:, '1':'516']\n",
    "\n",
    "X_train, X_test, y_train, y_test = train_test_split(x1, y,\n",
    "                                                    test_size=0.3,\n",
    "                                                    random_state = RSEED)\n",
    "\n",
    "# scaler = StandardScaler()\n",
    "# scaler.fit(X_train1)\n",
    "\n",
    "# X_train = scaler.transform(X_train1)\n",
    "# X_test = scaler.transform(X_test1)\n",
    "\n",
    "\n",
    "print(\"Creating Elastic Net Model and Fitting the Data\")\n",
    "lasso = MultiTaskLasso(random_state=RSEED).fit(X_train, y_train)\n",
    "\n",
    "#Evaluation\n",
    "r2_score = lasso.score(X_test, y_test)\n",
    "print(\"score\", r2_score)\n"
   ]
  },
  {
   "cell_type": "code",
   "execution_count": 26,
   "metadata": {},
   "outputs": [
    {
     "data": {
      "text/plain": "(3133, 24)"
     },
     "execution_count": 26,
     "metadata": {},
     "output_type": "execute_result"
    }
   ],
   "source": [
    "x1.shape"
   ]
  },
  {
   "cell_type": "code",
   "execution_count": 27,
   "metadata": {},
   "outputs": [
    {
     "data": {
      "text/plain": "(3133, 23)"
     },
     "execution_count": 27,
     "metadata": {},
     "output_type": "execute_result"
    }
   ],
   "source": [
    "y.shape"
   ]
  },
  {
   "cell_type": "code",
   "execution_count": 25,
   "metadata": {},
   "outputs": [
    {
     "data": {
      "text/plain": "array([[ 1.31305521e+02,  3.54706264e-02,  3.72477814e+00,\n         2.93481216e+01,  1.76208325e+02,  7.72720322e-01,\n         4.52790189e+02, -2.53912124e+00, -0.00000000e+00,\n        -0.00000000e+00, -6.77065857e+01, -0.00000000e+00,\n         0.00000000e+00,  6.02092244e-02, -0.00000000e+00,\n         1.69659369e-02, -5.23750588e+00, -3.80765983e-02,\n        -0.00000000e+00, -0.00000000e+00, -1.48947769e-02,\n        -6.56770163e+00, -1.84191728e-01, -1.44855789e+01],\n       [ 3.61154947e+00,  8.63034490e-04,  1.61370347e-01,\n        -2.68603539e+00,  4.37078544e+00,  1.83832182e-02,\n         1.12264459e+01, -1.30604657e-02, -0.00000000e+00,\n        -0.00000000e+00, -1.32961594e+00, -0.00000000e+00,\n        -0.00000000e+00,  1.90200564e-03, -0.00000000e+00,\n         6.06621228e-04, -1.22950259e-01, -9.22034700e-04,\n        -0.00000000e+00, -0.00000000e+00,  3.60003204e-04,\n        -1.50972588e-01, -4.59390627e-03, -3.89348933e-01],\n       [ 1.24175857e+00,  3.66009434e-04,  6.70989690e-02,\n        -2.41078566e+00,  1.37312720e+00,  7.76141256e-03,\n         8.52876902e+00, -1.16569989e-02, -0.00000000e+00,\n        -0.00000000e+00, -6.93887220e-01, -0.00000000e+00,\n         0.00000000e+00,  1.16218658e-03, -0.00000000e+00,\n         6.09908753e-04,  2.44541925e-02, -3.93408553e-04,\n        -0.00000000e+00, -0.00000000e+00,  2.35784409e-04,\n        -6.52796956e-02, -2.07083881e-03, -1.53554145e-01],\n       [ 3.44718314e+00,  7.28710046e-04, -1.92306713e-01,\n         9.16763765e+00,  4.14286708e+00,  1.94265732e-02,\n         6.56202811e+00, -1.13932941e-01, -0.00000000e+00,\n         0.00000000e+00, -4.57698698e-01,  0.00000000e+00,\n         0.00000000e+00,  2.56727716e-03,  0.00000000e+00,\n        -1.56864861e-03, -3.04332407e-01, -8.02950265e-04,\n         0.00000000e+00, -0.00000000e+00, -1.74897972e-03,\n        -1.89491005e-01, -2.69236884e-03, -3.18855913e-01],\n       [ 1.32738353e+01,  3.37443795e-03, -2.08142417e-01,\n         1.67071297e+01,  1.54550772e+01,  7.52201397e-02,\n         6.12801394e+01, -3.16556200e-01, -0.00000000e+00,\n        -0.00000000e+00, -1.70569152e+00, -0.00000000e+00,\n         0.00000000e+00,  8.66926426e-03, -0.00000000e+00,\n        -9.39724237e-04, -4.79295378e-01, -3.68231584e-03,\n        -0.00000000e+00, -0.00000000e+00, -4.49254907e-03,\n        -6.74491327e-01, -1.63103082e-02, -1.37277640e+00],\n       [ 2.72196548e+00,  7.20926669e-04, -1.77889122e-01,\n         5.72630887e+00,  4.91209220e+00,  1.99623816e-02,\n        -1.11640070e+00, -1.20137987e-01, -0.00000000e+00,\n        -0.00000000e+00, -2.15714497e+00, -0.00000000e+00,\n         0.00000000e+00,  4.44576398e-03, -0.00000000e+00,\n        -3.70964841e-04, -3.85312165e-01, -7.83074663e-04,\n         0.00000000e+00, -0.00000000e+00, -3.22196935e-04,\n        -1.11221977e-01, -2.74213880e-03, -3.30652875e-01],\n       [ 4.61432331e+00,  1.10500765e-03,  9.10329327e-02,\n         1.19085791e+00,  5.13659871e+00,  2.42408288e-02,\n         1.74737185e+01, -9.74181036e-02, -0.00000000e+00,\n        -0.00000000e+00, -2.18321255e+00, -0.00000000e+00,\n         0.00000000e+00,  2.17551862e-03, -0.00000000e+00,\n         2.48567072e-06, -1.28055998e-01, -1.18110697e-03,\n        -0.00000000e+00, -0.00000000e+00, -8.60712501e-04,\n        -2.32549083e-01, -5.62857581e-03, -4.47109349e-01],\n       [ 1.51796776e+01,  4.66252375e-03,  4.80571821e-01,\n        -2.65957392e+01,  1.65262153e+01,  9.37747680e-02,\n         1.18148740e+02, -4.31626679e-01, -0.00000000e+00,\n        -0.00000000e+00, -8.75244536e+00, -0.00000000e+00,\n         0.00000000e+00,  1.21309314e-02, -0.00000000e+00,\n         4.65533259e-03,  5.99903969e-01, -4.94593337e-03,\n        -0.00000000e+00, -0.00000000e+00,  1.33035273e-03,\n        -8.04032084e-01, -2.75440713e-02, -1.82759353e+00],\n       [-1.23599032e-01,  1.01284459e-03,  1.11754426e+00,\n        -9.44079116e+00,  7.92027398e+00,  1.57999876e-02,\n        -5.99051802e+00,  4.95843435e-01, -0.00000000e+00,\n        -0.00000000e+00, -3.00709126e+00, -0.00000000e+00,\n        -0.00000000e+00, -6.32962627e-03, -0.00000000e+00,\n         4.23576450e-03, -5.67918406e-01, -1.05108626e-03,\n         0.00000000e+00, -0.00000000e+00,  2.77331380e-03,\n        -9.83058005e-02, -5.43192527e-03, -3.58887885e-01],\n       [ 1.82962984e+01,  5.03372379e-03,  4.02184909e-01,\n         9.59281888e+00,  2.75315557e+01,  9.28845419e-02,\n         5.28530812e+01,  1.81312203e-01, -0.00000000e+00,\n        -0.00000000e+00, -5.60194668e+00, -0.00000000e+00,\n         0.00000000e+00,  8.85348650e-03, -0.00000000e+00,\n         4.23987033e-03, -8.70495683e-01, -5.41752945e-03,\n        -0.00000000e+00, -0.00000000e+00, -2.49592511e-03,\n        -9.00468402e-01, -2.77214606e-02, -1.82721488e+00],\n       [ 1.58340582e+00,  3.60991271e-04, -6.86081278e-02,\n         2.65166758e+00,  1.67348533e+00,  1.13572890e-02,\n         5.54611205e-01, -9.53179445e-02,  0.00000000e+00,\n         0.00000000e+00, -1.20365319e+00,  0.00000000e+00,\n         0.00000000e+00,  1.09976796e-03, -0.00000000e+00,\n        -5.26384252e-04, -7.27824343e-02, -3.96640875e-04,\n         0.00000000e+00, -0.00000000e+00, -3.46745310e-04,\n        -5.06736678e-02, -1.53722763e-03, -1.92344728e-01],\n       [ 6.46164082e+00,  1.47740352e-03, -6.76811781e-02,\n         5.30151545e+00,  6.30536208e+00,  3.63108860e-02,\n         1.95398854e+01, -1.19518304e-01, -0.00000000e+00,\n        -0.00000000e+00, -1.59652550e+00, -0.00000000e+00,\n         0.00000000e+00,  3.77187260e-03,  0.00000000e+00,\n         1.10174028e-04, -1.35666987e-01, -1.61759901e-03,\n        -0.00000000e+00, -0.00000000e+00, -1.48829062e-03,\n        -3.50231690e-01, -7.04400758e-03, -6.30236893e-01],\n       [ 1.44163383e+00,  4.62507251e-04, -7.82328076e-03,\n         3.78050570e+00,  2.73404807e+00,  8.86475224e-03,\n         2.68902014e+00, -2.61954910e-03, -0.00000000e+00,\n        -0.00000000e+00, -2.53616140e-01, -0.00000000e+00,\n         0.00000000e+00,  1.20136246e-03,  0.00000000e+00,\n         1.86852591e-04, -1.30401968e-01, -5.05272773e-04,\n         0.00000000e+00, -0.00000000e+00, -5.19001418e-04,\n        -7.05228169e-02, -2.40327410e-03, -1.66190053e-01],\n       [ 1.71053717e+01,  4.57854638e-03,  3.81157217e-01,\n        -2.20876492e+00,  1.98536483e+01,  1.19289266e-01,\n         5.01995321e+01, -4.86120110e-01, -0.00000000e+00,\n        -0.00000000e+00, -1.14420634e+01, -0.00000000e+00,\n         0.00000000e+00,  9.48206053e-03, -0.00000000e+00,\n         1.64342343e-03, -3.84873389e-01, -4.97838014e-03,\n        -0.00000000e+00, -0.00000000e+00, -2.63006645e-03,\n        -8.67743327e-01, -2.25500389e-02, -2.08326448e+00],\n       [ 5.49858167e+00,  1.41171335e-03,  4.52648710e-01,\n        -2.96258275e+00,  6.96630273e+00,  2.05645789e-02,\n         3.01691198e+01, -5.26783809e-02, -0.00000000e+00,\n        -0.00000000e+00, -2.22453993e+00, -0.00000000e+00,\n         0.00000000e+00,  9.38167076e-04, -0.00000000e+00,\n         1.64265986e-03, -7.85888357e-02, -1.47808615e-03,\n        -0.00000000e+00, -0.00000000e+00,  1.74360389e-04,\n        -2.99472644e-01, -8.66723528e-03, -4.90160010e-01],\n       [ 1.97196544e+00,  1.29565080e-03,  1.69007982e-02,\n         3.01849003e+00,  5.87495833e+00,  2.78564822e-02,\n         1.50949801e+01, -1.72885515e-01, -0.00000000e+00,\n        -0.00000000e+00, -1.74324632e+00, -0.00000000e+00,\n         0.00000000e+00,  3.27157873e-03, -0.00000000e+00,\n         7.10561351e-04, -4.97091686e-02, -1.40696885e-03,\n        -0.00000000e+00, -0.00000000e+00,  1.14019269e-03,\n        -1.00857433e-01, -7.39896811e-03, -5.32524446e-01],\n       [ 1.16532637e+00,  4.50088174e-04,  8.50313554e-02,\n         5.39882673e-01,  2.45277654e+00,  9.99185095e-03,\n         2.71023437e-01,  1.07792103e-04, -0.00000000e+00,\n        -0.00000000e+00, -1.48334294e+00, -0.00000000e+00,\n        -0.00000000e+00,  1.13358838e-03, -0.00000000e+00,\n         8.52485833e-04, -9.87016630e-02, -4.77442329e-04,\n        -0.00000000e+00, -0.00000000e+00,  5.40836797e-04,\n        -5.97532987e-02, -2.27810673e-03, -1.93069009e-01],\n       [ 2.88277910e+00,  1.43644926e-03, -1.34746822e-02,\n         3.47061869e+00,  6.84208623e+00,  4.44449331e-02,\n        -5.06693540e+00, -1.94689052e-01, -0.00000000e+00,\n        -0.00000000e+00, -6.97369003e+00, -0.00000000e+00,\n         0.00000000e+00,  1.89314739e-03, -0.00000000e+00,\n         7.63077053e-04, -3.01938435e-01, -1.52559839e-03,\n         0.00000000e+00, -0.00000000e+00, -1.81772353e-03,\n        -2.67673458e-01, -6.09386538e-03, -5.47083585e-01],\n       [ 6.00893582e+00,  1.27414779e-03,  3.50019342e-01,\n         4.72257940e+00,  8.20235285e+00,  2.12188087e-02,\n         1.52347278e+01, -7.64055403e-02, -0.00000000e+00,\n        -0.00000000e+00, -2.32520691e+00, -0.00000000e+00,\n        -0.00000000e+00, -3.06606622e-04, -0.00000000e+00,\n         2.32364516e-04, -4.45433544e-01, -1.34466274e-03,\n        -0.00000000e+00, -0.00000000e+00, -9.33953064e-04,\n        -2.73375288e-01, -6.68687294e-03, -4.74269224e-01],\n       [ 3.99302616e+00,  9.34553472e-04,  3.26717600e-01,\n         1.57914163e+00,  5.52891455e+00,  2.05796433e-02,\n         5.50527712e+00, -2.14432185e-01, -0.00000000e+00,\n        -0.00000000e+00, -2.90638743e+00, -0.00000000e+00,\n        -0.00000000e+00, -8.06792736e-04, -0.00000000e+00,\n         5.88472194e-04, -2.71984934e-01, -9.85996293e-04,\n        -0.00000000e+00, -0.00000000e+00,  5.30691328e-04,\n        -1.50559554e-01, -4.80471242e-03, -4.56109468e-01],\n       [ 6.03054281e+00,  1.38848366e-03,  1.93367161e-01,\n        -3.02406268e+00,  7.00593327e+00,  3.64991296e-02,\n        -1.61221778e+00,  1.88330132e-02, -0.00000000e+00,\n        -0.00000000e+00, -5.77891458e+00, -0.00000000e+00,\n         0.00000000e+00,  6.70637908e-04, -0.00000000e+00,\n         1.03716569e-03, -2.04796666e-01, -1.48026217e-03,\n        -0.00000000e+00, -0.00000000e+00, -8.84147814e-04,\n        -3.17794072e-01, -6.72634170e-03, -5.79530256e-01],\n       [-1.37908768e-01,  4.14383704e-04,  1.10118614e-02,\n         3.16271397e+00,  1.88397962e+00,  1.20352941e-02,\n        -2.09148136e+00, -1.17483236e-02, -0.00000000e+00,\n        -0.00000000e+00, -8.45217788e-01, -0.00000000e+00,\n        -0.00000000e+00,  3.08402531e-04, -0.00000000e+00,\n        -1.37165036e-04, -8.12033975e-02, -4.52107963e-04,\n         0.00000000e+00, -0.00000000e+00,  9.04135939e-05,\n        -9.93224563e-03, -1.80856696e-03, -1.71315211e-01],\n       [-4.25939632e-01,  2.92011490e-04,  3.64707849e-03,\n         2.00273845e+00,  1.27009642e+00,  9.39431258e-03,\n        -2.19070704e+00, -1.05165487e-02, -0.00000000e+00,\n        -0.00000000e+00, -1.05877779e+00, -0.00000000e+00,\n        -0.00000000e+00,  1.22398684e-04, -0.00000000e+00,\n        -6.12719869e-05, -5.55546343e-02, -3.20497417e-04,\n         0.00000000e+00, -0.00000000e+00,  2.62689276e-04,\n         5.04149166e-03, -1.20434083e-03, -1.28856549e-01]])"
     },
     "execution_count": 25,
     "metadata": {},
     "output_type": "execute_result"
    }
   ],
   "source": [
    "lasso.coef_"
   ]
  },
  {
   "cell_type": "code",
   "execution_count": 147,
   "metadata": {},
   "outputs": [],
   "source": [
    "np.savetxt(\"lasso_multi.csv\", lasso.coef_, delimiter=\",\")"
   ]
  },
  {
   "cell_type": "code",
   "execution_count": 24,
   "metadata": {},
   "outputs": [
    {
     "data": {
      "text/plain": "['Model2.sav']"
     },
     "execution_count": 24,
     "metadata": {},
     "output_type": "execute_result"
    }
   ],
   "source": [
    "from sklearn.externals import joblib\n",
    "joblib.dump(lasso, 'Model2.sav')"
   ]
  },
  {
   "cell_type": "code",
   "execution_count": 29,
   "metadata": {},
   "outputs": [
    {
     "data": {
      "text/plain": "array([[ 3.06936105e+03,  6.69687667e+01,  4.67491741e+01,\n         8.30248521e+01,  5.17824873e+02,  6.74806066e-01,\n         1.17078368e+02,  6.90451944e+02, -8.11393688e+01,\n         4.38819250e+02,  2.99401474e+00,  1.54148036e+02,\n         3.86416393e+01,  2.66210041e+02,  2.01581974e+02,\n         1.16681326e+02, -5.59537713e+00, -8.60015206e+01,\n         1.25556151e+02,  2.71503365e+01, -6.82640781e+01,\n        -7.99107697e+00, -1.73031148e+01]])"
     },
     "execution_count": 29,
     "metadata": {},
     "output_type": "execute_result"
    }
   ],
   "source": [
    "lasso.predict(np.array([1,2,3,4,5,6,7,8,9,10,11,12,13,14,15,16,17,18,19,20,21,22,23,24]).reshape(1, -1))"
   ]
  },
  {
   "cell_type": "code",
   "execution_count": null,
   "metadata": {},
   "outputs": [],
   "source": []
  }
 ],
 "metadata": {
  "kernelspec": {
   "display_name": "Python 3",
   "language": "python",
   "name": "python3"
  },
  "language_info": {
   "codemirror_mode": {
    "name": "ipython",
    "version": 3
   },
   "file_extension": ".py",
   "mimetype": "text/x-python",
   "name": "python",
   "nbconvert_exporter": "python",
   "pygments_lexer": "ipython3",
   "version": "3.7.6-final"
  }
 },
 "nbformat": 4,
 "nbformat_minor": 4
}