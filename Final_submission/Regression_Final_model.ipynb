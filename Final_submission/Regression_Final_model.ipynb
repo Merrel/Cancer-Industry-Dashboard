{
 "cells": [
  {
   "cell_type": "code",
   "execution_count": 17,
   "metadata": {},
   "outputs": [],
   "source": [
    "from sklearn.preprocessing import StandardScaler\n",
    "import re\n",
    "import pandas as pd\n",
    "import numpy as np\n",
    "from sklearn.externals import joblib\n",
    "from sklearn.model_selection import train_test_split\n",
    "from sklearn.model_selection import cross_val_score, GridSearchCV, cross_validate, train_test_split\n",
    "from sklearn.linear_model import MultiTaskLasso\n",
    "# Setting random seed to get reproducible runs\n",
    "RSEED = 100"
   ]
  },
  {
   "cell_type": "markdown",
   "metadata": {},
   "source": [
    "# Part 1: Data Processing\n",
    "### reading and processing the data"
   ]
  },
  {
   "cell_type": "code",
   "execution_count": 2,
   "metadata": {},
   "outputs": [],
   "source": [
    "data = pd.read_csv(\"./data_clean/cancer_industry.csv\")"
   ]
  },
  {
   "cell_type": "code",
   "execution_count": 3,
   "metadata": {},
   "outputs": [
    {
     "data": {
      "text/plain": "Index(['locale', 'fips', 'areatype', 'cancer', 'stateFIPS', 'state',\n       'cancer_description', 'annual_count_avg', 'incidence rate_per_100000',\n       'incidence rate_lower_95_confidence',\n       'incidence rate_upper_95_confidence', 'ACID', 'ENRG', 'ETOX', 'EUTR',\n       'FOOD', 'GCC', 'HAPS', 'HAZW', 'HC', 'HNC', 'HRSP', 'HTOX', 'JOBS',\n       'LAND', 'METL', 'MINE', 'MSW', 'NREN', 'OZON', 'PEST', 'REN', 'SMOG',\n       'VADD', 'WATR'],\n      dtype='object')"
     },
     "execution_count": 3,
     "metadata": {},
     "output_type": "execute_result"
    }
   ],
   "source": [
    "data.columns"
   ]
  },
  {
   "cell_type": "code",
   "execution_count": 4,
   "metadata": {},
   "outputs": [],
   "source": [
    "factors=np.array(['ACID', 'ENRG', 'ETOX', 'EUTR', 'FOOD',\n",
    "       'GCC', 'HAPS', 'HAZW', 'HC', 'HNC', 'HRSP', 'HTOX', 'JOBS', 'LAND',\n",
    "       'METL', 'MINE', 'MSW', 'NREN', 'OZON', 'PEST', 'REN', 'SMOG', 'VADD',\n",
    "       'WATR'])"
   ]
  },
  {
   "cell_type": "code",
   "execution_count": 5,
   "metadata": {},
   "outputs": [
    {
     "data": {
      "text/html": "<div>\n<style scoped>\n    .dataframe tbody tr th:only-of-type {\n        vertical-align: middle;\n    }\n\n    .dataframe tbody tr th {\n        vertical-align: top;\n    }\n\n    .dataframe thead th {\n        text-align: right;\n    }\n</style>\n<table border=\"1\" class=\"dataframe\">\n  <thead>\n    <tr style=\"text-align: right;\">\n      <th></th>\n      <th>locale</th>\n      <th>fips</th>\n      <th>areatype</th>\n      <th>cancer</th>\n      <th>stateFIPS</th>\n      <th>state</th>\n      <th>cancer_description</th>\n      <th>annual_count_avg</th>\n      <th>incidence rate_per_100000</th>\n      <th>incidence rate_lower_95_confidence</th>\n      <th>...</th>\n      <th>METL</th>\n      <th>MINE</th>\n      <th>MSW</th>\n      <th>NREN</th>\n      <th>OZON</th>\n      <th>PEST</th>\n      <th>REN</th>\n      <th>SMOG</th>\n      <th>VADD</th>\n      <th>WATR</th>\n    </tr>\n  </thead>\n  <tbody>\n    <tr>\n      <th>0</th>\n      <td>Autauga County(6,10)</td>\n      <td>1001</td>\n      <td>county</td>\n      <td>1</td>\n      <td>1</td>\n      <td>alabama</td>\n      <td>All Cancer Sites</td>\n      <td>304</td>\n      <td>495.6</td>\n      <td>470.6</td>\n      <td>...</td>\n      <td>0.000177</td>\n      <td>0.000000</td>\n      <td>3.332971</td>\n      <td>1558.288943</td>\n      <td>8.205763e-06</td>\n      <td>0.000069</td>\n      <td>1050.867678</td>\n      <td>9.764524</td>\n      <td>168.936475</td>\n      <td>27.485562</td>\n    </tr>\n    <tr>\n      <th>1</th>\n      <td>Autauga County(6,10)</td>\n      <td>1001</td>\n      <td>county</td>\n      <td>3</td>\n      <td>1</td>\n      <td>alabama</td>\n      <td>Oral Cavity &amp; Pharynx</td>\n      <td>8</td>\n      <td>13.5</td>\n      <td>9.6</td>\n      <td>...</td>\n      <td>0.000177</td>\n      <td>0.000000</td>\n      <td>3.332971</td>\n      <td>1558.288943</td>\n      <td>8.205763e-06</td>\n      <td>0.000069</td>\n      <td>1050.867678</td>\n      <td>9.764524</td>\n      <td>168.936475</td>\n      <td>27.485562</td>\n    </tr>\n    <tr>\n      <th>2</th>\n      <td>Autauga County(6,10)</td>\n      <td>1001</td>\n      <td>county</td>\n      <td>17</td>\n      <td>1</td>\n      <td>alabama</td>\n      <td>Esophagus</td>\n      <td>0</td>\n      <td>0.0</td>\n      <td>0.0</td>\n      <td>...</td>\n      <td>0.000177</td>\n      <td>0.000000</td>\n      <td>3.332971</td>\n      <td>1558.288943</td>\n      <td>8.205763e-06</td>\n      <td>0.000069</td>\n      <td>1050.867678</td>\n      <td>9.764524</td>\n      <td>168.936475</td>\n      <td>27.485562</td>\n    </tr>\n    <tr>\n      <th>3</th>\n      <td>Autauga County(6,10)</td>\n      <td>1001</td>\n      <td>county</td>\n      <td>18</td>\n      <td>1</td>\n      <td>alabama</td>\n      <td>Stomach</td>\n      <td>6</td>\n      <td>9.1</td>\n      <td>6.0</td>\n      <td>...</td>\n      <td>0.000177</td>\n      <td>0.000000</td>\n      <td>3.332971</td>\n      <td>1558.288943</td>\n      <td>8.205763e-06</td>\n      <td>0.000069</td>\n      <td>1050.867678</td>\n      <td>9.764524</td>\n      <td>168.936475</td>\n      <td>27.485562</td>\n    </tr>\n    <tr>\n      <th>4</th>\n      <td>Autauga County(6,10)</td>\n      <td>1001</td>\n      <td>county</td>\n      <td>20</td>\n      <td>1</td>\n      <td>alabama</td>\n      <td>Colon &amp; Rectum</td>\n      <td>32</td>\n      <td>52.2</td>\n      <td>44.2</td>\n      <td>...</td>\n      <td>0.000177</td>\n      <td>0.000000</td>\n      <td>3.332971</td>\n      <td>1558.288943</td>\n      <td>8.205763e-06</td>\n      <td>0.000069</td>\n      <td>1050.867678</td>\n      <td>9.764524</td>\n      <td>168.936475</td>\n      <td>27.485562</td>\n    </tr>\n    <tr>\n      <th>...</th>\n      <td>...</td>\n      <td>...</td>\n      <td>...</td>\n      <td>...</td>\n      <td>...</td>\n      <td>...</td>\n      <td>...</td>\n      <td>...</td>\n      <td>...</td>\n      <td>...</td>\n      <td>...</td>\n      <td>...</td>\n      <td>...</td>\n      <td>...</td>\n      <td>...</td>\n      <td>...</td>\n      <td>...</td>\n      <td>...</td>\n      <td>...</td>\n      <td>...</td>\n      <td>...</td>\n    </tr>\n    <tr>\n      <th>72054</th>\n      <td>Weston County(6,10)</td>\n      <td>56045</td>\n      <td>county</td>\n      <td>86</td>\n      <td>56</td>\n      <td>wyoming</td>\n      <td>Non-Hodgkin Lymphoma</td>\n      <td>0</td>\n      <td>0.0</td>\n      <td>0.0</td>\n      <td>...</td>\n      <td>0.000002</td>\n      <td>31.285543</td>\n      <td>0.491881</td>\n      <td>1971.904410</td>\n      <td>8.367255e-07</td>\n      <td>0.000002</td>\n      <td>0.159930</td>\n      <td>3.642929</td>\n      <td>28.875893</td>\n      <td>0.122450</td>\n    </tr>\n    <tr>\n      <th>72055</th>\n      <td>Weston County(6,10)</td>\n      <td>56045</td>\n      <td>county</td>\n      <td>90</td>\n      <td>56</td>\n      <td>wyoming</td>\n      <td>Leukemia</td>\n      <td>0</td>\n      <td>0.0</td>\n      <td>0.0</td>\n      <td>...</td>\n      <td>0.000002</td>\n      <td>31.285543</td>\n      <td>0.491881</td>\n      <td>1971.904410</td>\n      <td>8.367255e-07</td>\n      <td>0.000002</td>\n      <td>0.159930</td>\n      <td>3.642929</td>\n      <td>28.875893</td>\n      <td>0.122450</td>\n    </tr>\n    <tr>\n      <th>72056</th>\n      <td>Weston County(6,10)</td>\n      <td>56045</td>\n      <td>county</td>\n      <td>400</td>\n      <td>56</td>\n      <td>wyoming</td>\n      <td>Breast (in situ) (Female)</td>\n      <td>0</td>\n      <td>0.0</td>\n      <td>0.0</td>\n      <td>...</td>\n      <td>0.000002</td>\n      <td>31.285543</td>\n      <td>0.491881</td>\n      <td>1971.904410</td>\n      <td>8.367255e-07</td>\n      <td>0.000002</td>\n      <td>0.159930</td>\n      <td>3.642929</td>\n      <td>28.875893</td>\n      <td>0.122450</td>\n    </tr>\n    <tr>\n      <th>72057</th>\n      <td>Weston County(6,10)</td>\n      <td>56045</td>\n      <td>county</td>\n      <td>515</td>\n      <td>56</td>\n      <td>wyoming</td>\n      <td>Childhood (Ages &lt;20, All Sites)</td>\n      <td>0</td>\n      <td>0.0</td>\n      <td>0.0</td>\n      <td>...</td>\n      <td>0.000002</td>\n      <td>31.285543</td>\n      <td>0.491881</td>\n      <td>1971.904410</td>\n      <td>8.367255e-07</td>\n      <td>0.000002</td>\n      <td>0.159930</td>\n      <td>3.642929</td>\n      <td>28.875893</td>\n      <td>0.122450</td>\n    </tr>\n    <tr>\n      <th>72058</th>\n      <td>Weston County(6,10)</td>\n      <td>56045</td>\n      <td>county</td>\n      <td>516</td>\n      <td>56</td>\n      <td>wyoming</td>\n      <td>Childhood (Ages &lt;15, All Sites)</td>\n      <td>0</td>\n      <td>0.0</td>\n      <td>0.0</td>\n      <td>...</td>\n      <td>0.000002</td>\n      <td>31.285543</td>\n      <td>0.491881</td>\n      <td>1971.904410</td>\n      <td>8.367255e-07</td>\n      <td>0.000002</td>\n      <td>0.159930</td>\n      <td>3.642929</td>\n      <td>28.875893</td>\n      <td>0.122450</td>\n    </tr>\n  </tbody>\n</table>\n<p>72059 rows × 35 columns</p>\n</div>",
      "text/plain": "                     locale   fips areatype  cancer  stateFIPS    state  \\\n0      Autauga County(6,10)   1001   county       1          1  alabama   \n1      Autauga County(6,10)   1001   county       3          1  alabama   \n2      Autauga County(6,10)   1001   county      17          1  alabama   \n3      Autauga County(6,10)   1001   county      18          1  alabama   \n4      Autauga County(6,10)   1001   county      20          1  alabama   \n...                     ...    ...      ...     ...        ...      ...   \n72054   Weston County(6,10)  56045   county      86         56  wyoming   \n72055   Weston County(6,10)  56045   county      90         56  wyoming   \n72056   Weston County(6,10)  56045   county     400         56  wyoming   \n72057   Weston County(6,10)  56045   county     515         56  wyoming   \n72058   Weston County(6,10)  56045   county     516         56  wyoming   \n\n                    cancer_description  annual_count_avg  \\\n0                     All Cancer Sites               304   \n1                Oral Cavity & Pharynx                 8   \n2                            Esophagus                 0   \n3                              Stomach                 6   \n4                       Colon & Rectum                32   \n...                                ...               ...   \n72054             Non-Hodgkin Lymphoma                 0   \n72055                         Leukemia                 0   \n72056        Breast (in situ) (Female)                 0   \n72057  Childhood (Ages <20, All Sites)                 0   \n72058  Childhood (Ages <15, All Sites)                 0   \n\n       incidence rate_per_100000  incidence rate_lower_95_confidence  ...  \\\n0                          495.6                               470.6  ...   \n1                           13.5                                 9.6  ...   \n2                            0.0                                 0.0  ...   \n3                            9.1                                 6.0  ...   \n4                           52.2                                44.2  ...   \n...                          ...                                 ...  ...   \n72054                        0.0                                 0.0  ...   \n72055                        0.0                                 0.0  ...   \n72056                        0.0                                 0.0  ...   \n72057                        0.0                                 0.0  ...   \n72058                        0.0                                 0.0  ...   \n\n           METL       MINE       MSW         NREN          OZON      PEST  \\\n0      0.000177   0.000000  3.332971  1558.288943  8.205763e-06  0.000069   \n1      0.000177   0.000000  3.332971  1558.288943  8.205763e-06  0.000069   \n2      0.000177   0.000000  3.332971  1558.288943  8.205763e-06  0.000069   \n3      0.000177   0.000000  3.332971  1558.288943  8.205763e-06  0.000069   \n4      0.000177   0.000000  3.332971  1558.288943  8.205763e-06  0.000069   \n...         ...        ...       ...          ...           ...       ...   \n72054  0.000002  31.285543  0.491881  1971.904410  8.367255e-07  0.000002   \n72055  0.000002  31.285543  0.491881  1971.904410  8.367255e-07  0.000002   \n72056  0.000002  31.285543  0.491881  1971.904410  8.367255e-07  0.000002   \n72057  0.000002  31.285543  0.491881  1971.904410  8.367255e-07  0.000002   \n72058  0.000002  31.285543  0.491881  1971.904410  8.367255e-07  0.000002   \n\n               REN      SMOG        VADD       WATR  \n0      1050.867678  9.764524  168.936475  27.485562  \n1      1050.867678  9.764524  168.936475  27.485562  \n2      1050.867678  9.764524  168.936475  27.485562  \n3      1050.867678  9.764524  168.936475  27.485562  \n4      1050.867678  9.764524  168.936475  27.485562  \n...            ...       ...         ...        ...  \n72054     0.159930  3.642929   28.875893   0.122450  \n72055     0.159930  3.642929   28.875893   0.122450  \n72056     0.159930  3.642929   28.875893   0.122450  \n72057     0.159930  3.642929   28.875893   0.122450  \n72058     0.159930  3.642929   28.875893   0.122450  \n\n[72059 rows x 35 columns]"
     },
     "execution_count": 5,
     "metadata": {},
     "output_type": "execute_result"
    }
   ],
   "source": [
    "data"
   ]
  },
  {
   "cell_type": "code",
   "execution_count": 6,
   "metadata": {},
   "outputs": [],
   "source": [
    "data['incidence rate_per_100000'] = data['incidence rate_per_100000'].astype(\"float64\")"
   ]
  },
  {
   "cell_type": "markdown",
   "metadata": {},
   "source": [
    "### Getting the various cancers and their description"
   ]
  },
  {
   "cell_type": "code",
   "execution_count": 7,
   "metadata": {},
   "outputs": [
    {
     "data": {
      "text/plain": "array([  1,   3,  17,  18,  20,  35,  40,  47,  53,  55,  57,  58,  61,\n        66,  71,  72,  76,  80,  86,  90, 400, 515, 516])"
     },
     "execution_count": 7,
     "metadata": {},
     "output_type": "execute_result"
    }
   ],
   "source": [
    "cancerVals=data[\"cancer\"].unique()\n",
    "cancerVals"
   ]
  },
  {
   "cell_type": "code",
   "execution_count": 8,
   "metadata": {},
   "outputs": [
    {
     "data": {
      "text/plain": "array(['All Cancer Sites', 'Oral Cavity & Pharynx', 'Esophagus',\n       'Stomach', 'Colon & Rectum', 'Liver & Bile Duct', 'Pancreas',\n       'Lung & Bronchus', 'Melanoma of the Skin', 'Breast (Female)',\n       'Cervix (Female)', 'Uterus (Corpus & Uterus, NOS) (Female)',\n       'Ovary (Female)', 'Prostate (Male)', 'Bladder',\n       'Kidney & Renal Pelvis', 'Brain & ONS', 'Thyroid',\n       'Non-Hodgkin Lymphoma', 'Leukemia', 'Breast (in situ) (Female)',\n       'Childhood (Ages <20, All Sites)',\n       'Childhood (Ages <15, All Sites)'], dtype=object)"
     },
     "execution_count": 8,
     "metadata": {},
     "output_type": "execute_result"
    }
   ],
   "source": [
    "cancerDescr=data[\"cancer_description\"].unique()\n",
    "cancerDescr"
   ]
  },
  {
   "cell_type": "code",
   "execution_count": 9,
   "metadata": {},
   "outputs": [
    {
     "name": "stdout",
     "output_type": "stream",
     "text": "cancer                      cancer_description\n0        1                        All Cancer Sites\n1        3                   Oral Cavity & Pharynx\n2       17                               Esophagus\n3       18                                 Stomach\n4       20                          Colon & Rectum\n5       35                       Liver & Bile Duct\n6       40                                Pancreas\n7       47                         Lung & Bronchus\n8       53                    Melanoma of the Skin\n9       55                         Breast (Female)\n10      57                         Cervix (Female)\n11      58  Uterus (Corpus & Uterus, NOS) (Female)\n12      61                          Ovary (Female)\n13      66                         Prostate (Male)\n14      71                                 Bladder\n15      72                   Kidney & Renal Pelvis\n16      76                             Brain & ONS\n17      80                                 Thyroid\n18      86                    Non-Hodgkin Lymphoma\n19      90                                Leukemia\n20     400               Breast (in situ) (Female)\n21     515         Childhood (Ages <20, All Sites)\n22     516         Childhood (Ages <15, All Sites)\n"
    }
   ],
   "source": [
    "cancerDescription=data[[\"cancer\",\"cancer_description\"]]\n",
    "cancerTypes=cancerDescription.groupby([\"cancer\",\"cancer_description\"]).sum().reset_index()\n",
    "print(cancerTypes)"
   ]
  },
  {
   "cell_type": "markdown",
   "metadata": {},
   "source": [
    "### Reading and integrating with the average count of various cancer types per county"
   ]
  },
  {
   "cell_type": "code",
   "execution_count": 10,
   "metadata": {},
   "outputs": [
    {
     "data": {
      "text/html": "<div>\n<style scoped>\n    .dataframe tbody tr th:only-of-type {\n        vertical-align: middle;\n    }\n\n    .dataframe tbody tr th {\n        vertical-align: top;\n    }\n\n    .dataframe thead th {\n        text-align: right;\n    }\n</style>\n<table border=\"1\" class=\"dataframe\">\n  <thead>\n    <tr style=\"text-align: right;\">\n      <th></th>\n      <th>fips</th>\n      <th>1</th>\n      <th>3</th>\n      <th>17</th>\n      <th>18</th>\n      <th>20</th>\n      <th>35</th>\n      <th>40</th>\n      <th>47</th>\n      <th>53</th>\n      <th>...</th>\n      <th>66</th>\n      <th>71</th>\n      <th>72</th>\n      <th>76</th>\n      <th>80</th>\n      <th>86</th>\n      <th>90</th>\n      <th>400</th>\n      <th>515</th>\n      <th>516</th>\n    </tr>\n  </thead>\n  <tbody>\n    <tr>\n      <th>0</th>\n      <td>1001</td>\n      <td>304</td>\n      <td>8</td>\n      <td>0</td>\n      <td>6</td>\n      <td>32</td>\n      <td>6</td>\n      <td>8</td>\n      <td>45</td>\n      <td>18</td>\n      <td>...</td>\n      <td>32</td>\n      <td>11</td>\n      <td>13</td>\n      <td>4</td>\n      <td>7</td>\n      <td>9</td>\n      <td>8</td>\n      <td>8</td>\n      <td>3</td>\n      <td>0</td>\n    </tr>\n    <tr>\n      <th>1</th>\n      <td>1003</td>\n      <td>1189</td>\n      <td>40</td>\n      <td>14</td>\n      <td>13</td>\n      <td>108</td>\n      <td>22</td>\n      <td>34</td>\n      <td>199</td>\n      <td>81</td>\n      <td>...</td>\n      <td>121</td>\n      <td>56</td>\n      <td>44</td>\n      <td>16</td>\n      <td>14</td>\n      <td>44</td>\n      <td>32</td>\n      <td>36</td>\n      <td>11</td>\n      <td>7</td>\n    </tr>\n    <tr>\n      <th>2</th>\n      <td>1005</td>\n      <td>145</td>\n      <td>7</td>\n      <td>0</td>\n      <td>0</td>\n      <td>14</td>\n      <td>0</td>\n      <td>4</td>\n      <td>23</td>\n      <td>4</td>\n      <td>...</td>\n      <td>22</td>\n      <td>6</td>\n      <td>7</td>\n      <td>0</td>\n      <td>0</td>\n      <td>5</td>\n      <td>0</td>\n      <td>4</td>\n      <td>0</td>\n      <td>0</td>\n    </tr>\n    <tr>\n      <th>3</th>\n      <td>1007</td>\n      <td>128</td>\n      <td>4</td>\n      <td>0</td>\n      <td>0</td>\n      <td>12</td>\n      <td>0</td>\n      <td>4</td>\n      <td>21</td>\n      <td>3</td>\n      <td>...</td>\n      <td>16</td>\n      <td>4</td>\n      <td>7</td>\n      <td>0</td>\n      <td>4</td>\n      <td>4</td>\n      <td>3</td>\n      <td>3</td>\n      <td>0</td>\n      <td>0</td>\n    </tr>\n    <tr>\n      <th>4</th>\n      <td>1009</td>\n      <td>317</td>\n      <td>8</td>\n      <td>0</td>\n      <td>5</td>\n      <td>28</td>\n      <td>5</td>\n      <td>7</td>\n      <td>52</td>\n      <td>15</td>\n      <td>...</td>\n      <td>38</td>\n      <td>12</td>\n      <td>13</td>\n      <td>4</td>\n      <td>6</td>\n      <td>12</td>\n      <td>10</td>\n      <td>10</td>\n      <td>4</td>\n      <td>3</td>\n    </tr>\n    <tr>\n      <th>...</th>\n      <td>...</td>\n      <td>...</td>\n      <td>...</td>\n      <td>...</td>\n      <td>...</td>\n      <td>...</td>\n      <td>...</td>\n      <td>...</td>\n      <td>...</td>\n      <td>...</td>\n      <td>...</td>\n      <td>...</td>\n      <td>...</td>\n      <td>...</td>\n      <td>...</td>\n      <td>...</td>\n      <td>...</td>\n      <td>...</td>\n      <td>...</td>\n      <td>...</td>\n      <td>...</td>\n    </tr>\n    <tr>\n      <th>3128</th>\n      <td>56037</td>\n      <td>162</td>\n      <td>6</td>\n      <td>0</td>\n      <td>0</td>\n      <td>13</td>\n      <td>0</td>\n      <td>5</td>\n      <td>18</td>\n      <td>9</td>\n      <td>...</td>\n      <td>25</td>\n      <td>8</td>\n      <td>6</td>\n      <td>4</td>\n      <td>5</td>\n      <td>7</td>\n      <td>5</td>\n      <td>4</td>\n      <td>0</td>\n      <td>0</td>\n    </tr>\n    <tr>\n      <th>3129</th>\n      <td>56039</td>\n      <td>98</td>\n      <td>0</td>\n      <td>0</td>\n      <td>0</td>\n      <td>6</td>\n      <td>0</td>\n      <td>0</td>\n      <td>4</td>\n      <td>12</td>\n      <td>...</td>\n      <td>17</td>\n      <td>5</td>\n      <td>0</td>\n      <td>0</td>\n      <td>3</td>\n      <td>6</td>\n      <td>4</td>\n      <td>4</td>\n      <td>0</td>\n      <td>0</td>\n    </tr>\n    <tr>\n      <th>3130</th>\n      <td>56041</td>\n      <td>78</td>\n      <td>0</td>\n      <td>0</td>\n      <td>0</td>\n      <td>6</td>\n      <td>0</td>\n      <td>0</td>\n      <td>7</td>\n      <td>6</td>\n      <td>...</td>\n      <td>8</td>\n      <td>4</td>\n      <td>3</td>\n      <td>0</td>\n      <td>4</td>\n      <td>4</td>\n      <td>0</td>\n      <td>0</td>\n      <td>0</td>\n      <td>0</td>\n    </tr>\n    <tr>\n      <th>3131</th>\n      <td>56043</td>\n      <td>44</td>\n      <td>0</td>\n      <td>0</td>\n      <td>0</td>\n      <td>5</td>\n      <td>0</td>\n      <td>0</td>\n      <td>5</td>\n      <td>0</td>\n      <td>...</td>\n      <td>5</td>\n      <td>0</td>\n      <td>0</td>\n      <td>0</td>\n      <td>0</td>\n      <td>0</td>\n      <td>0</td>\n      <td>0</td>\n      <td>0</td>\n      <td>0</td>\n    </tr>\n    <tr>\n      <th>3132</th>\n      <td>56045</td>\n      <td>40</td>\n      <td>0</td>\n      <td>0</td>\n      <td>0</td>\n      <td>4</td>\n      <td>0</td>\n      <td>0</td>\n      <td>5</td>\n      <td>0</td>\n      <td>...</td>\n      <td>4</td>\n      <td>0</td>\n      <td>0</td>\n      <td>0</td>\n      <td>0</td>\n      <td>0</td>\n      <td>0</td>\n      <td>0</td>\n      <td>0</td>\n      <td>0</td>\n    </tr>\n  </tbody>\n</table>\n<p>3133 rows × 24 columns</p>\n</div>",
      "text/plain": "       fips     1   3  17  18   20  35  40   47  53  ...   66  71  72  76  80  \\\n0      1001   304   8   0   6   32   6   8   45  18  ...   32  11  13   4   7   \n1      1003  1189  40  14  13  108  22  34  199  81  ...  121  56  44  16  14   \n2      1005   145   7   0   0   14   0   4   23   4  ...   22   6   7   0   0   \n3      1007   128   4   0   0   12   0   4   21   3  ...   16   4   7   0   4   \n4      1009   317   8   0   5   28   5   7   52  15  ...   38  12  13   4   6   \n...     ...   ...  ..  ..  ..  ...  ..  ..  ...  ..  ...  ...  ..  ..  ..  ..   \n3128  56037   162   6   0   0   13   0   5   18   9  ...   25   8   6   4   5   \n3129  56039    98   0   0   0    6   0   0    4  12  ...   17   5   0   0   3   \n3130  56041    78   0   0   0    6   0   0    7   6  ...    8   4   3   0   4   \n3131  56043    44   0   0   0    5   0   0    5   0  ...    5   0   0   0   0   \n3132  56045    40   0   0   0    4   0   0    5   0  ...    4   0   0   0   0   \n\n      86  90  400  515  516  \n0      9   8    8    3    0  \n1     44  32   36   11    7  \n2      5   0    4    0    0  \n3      4   3    3    0    0  \n4     12  10   10    4    3  \n...   ..  ..  ...  ...  ...  \n3128   7   5    4    0    0  \n3129   6   4    4    0    0  \n3130   4   0    0    0    0  \n3131   0   0    0    0    0  \n3132   0   0    0    0    0  \n\n[3133 rows x 24 columns]"
     },
     "execution_count": 10,
     "metadata": {},
     "output_type": "execute_result"
    }
   ],
   "source": [
    "data2 = pd.read_csv(\"./data_clean/avg_count_per_cancer_per_fips.csv\")\n",
    "data2"
   ]
  },
  {
   "cell_type": "code",
   "execution_count": 11,
   "metadata": {},
   "outputs": [
    {
     "data": {
      "text/plain": "Index(['locale', 'fips', 'areatype', 'cancer', 'stateFIPS', 'state',\n       'cancer_description', 'annual_count_avg', 'incidence rate_per_100000',\n       'incidence rate_lower_95_confidence',\n       'incidence rate_upper_95_confidence', 'ACID', 'ENRG', 'ETOX', 'EUTR',\n       'FOOD', 'GCC', 'HAPS', 'HAZW', 'HC', 'HNC', 'HRSP', 'HTOX', 'JOBS',\n       'LAND', 'METL', 'MINE', 'MSW', 'NREN', 'OZON', 'PEST', 'REN', 'SMOG',\n       'VADD', 'WATR'],\n      dtype='object')"
     },
     "execution_count": 11,
     "metadata": {},
     "output_type": "execute_result"
    }
   ],
   "source": [
    "data.columns"
   ]
  },
  {
   "cell_type": "code",
   "execution_count": 12,
   "metadata": {},
   "outputs": [
    {
     "data": {
      "text/html": "<div>\n<style scoped>\n    .dataframe tbody tr th:only-of-type {\n        vertical-align: middle;\n    }\n\n    .dataframe tbody tr th {\n        vertical-align: top;\n    }\n\n    .dataframe thead th {\n        text-align: right;\n    }\n</style>\n<table border=\"1\" class=\"dataframe\">\n  <thead>\n    <tr style=\"text-align: right;\">\n      <th></th>\n      <th>fips</th>\n      <th>ACID</th>\n      <th>ENRG</th>\n      <th>ETOX</th>\n      <th>EUTR</th>\n      <th>FOOD</th>\n      <th>GCC</th>\n      <th>HAPS</th>\n      <th>HAZW</th>\n      <th>HC</th>\n      <th>...</th>\n      <th>METL</th>\n      <th>MINE</th>\n      <th>MSW</th>\n      <th>NREN</th>\n      <th>OZON</th>\n      <th>PEST</th>\n      <th>REN</th>\n      <th>SMOG</th>\n      <th>VADD</th>\n      <th>WATR</th>\n    </tr>\n  </thead>\n  <tbody>\n    <tr>\n      <th>0</th>\n      <td>1001</td>\n      <td>1.049800</td>\n      <td>2609.156621</td>\n      <td>3.932211</td>\n      <td>0.091967</td>\n      <td>1.070762</td>\n      <td>375.880086</td>\n      <td>0.028596</td>\n      <td>0.038196</td>\n      <td>1.392760e-08</td>\n      <td>...</td>\n      <td>0.000177</td>\n      <td>0.000000</td>\n      <td>3.332971</td>\n      <td>1558.288943</td>\n      <td>8.205763e-06</td>\n      <td>6.937696e-05</td>\n      <td>1050.867678</td>\n      <td>9.764524</td>\n      <td>168.936475</td>\n      <td>27.485562</td>\n    </tr>\n    <tr>\n      <th>23</th>\n      <td>1003</td>\n      <td>0.280475</td>\n      <td>15.561882</td>\n      <td>7.987962</td>\n      <td>0.290754</td>\n      <td>7.601684</td>\n      <td>121.748265</td>\n      <td>0.062129</td>\n      <td>0.932868</td>\n      <td>5.461040e-08</td>\n      <td>...</td>\n      <td>0.000130</td>\n      <td>44.123480</td>\n      <td>28.367361</td>\n      <td>12.236171</td>\n      <td>1.025729e-05</td>\n      <td>1.910217e-04</td>\n      <td>3.325711</td>\n      <td>9.430919</td>\n      <td>1620.234233</td>\n      <td>4.251408</td>\n    </tr>\n    <tr>\n      <th>46</th>\n      <td>1005</td>\n      <td>0.210885</td>\n      <td>0.010255</td>\n      <td>4.445820</td>\n      <td>0.027651</td>\n      <td>0.184201</td>\n      <td>41.021013</td>\n      <td>0.014290</td>\n      <td>0.006247</td>\n      <td>3.207004e-08</td>\n      <td>...</td>\n      <td>0.000007</td>\n      <td>0.000000</td>\n      <td>1.000043</td>\n      <td>0.000000</td>\n      <td>2.608045e-07</td>\n      <td>5.804013e-05</td>\n      <td>0.010255</td>\n      <td>7.502860</td>\n      <td>65.168132</td>\n      <td>0.701977</td>\n    </tr>\n    <tr>\n      <th>69</th>\n      <td>1007</td>\n      <td>0.059937</td>\n      <td>30.656456</td>\n      <td>2.418462</td>\n      <td>0.009070</td>\n      <td>0.112118</td>\n      <td>11.566748</td>\n      <td>0.004779</td>\n      <td>0.007600</td>\n      <td>9.819009e-09</td>\n      <td>...</td>\n      <td>0.000010</td>\n      <td>0.000000</td>\n      <td>0.520036</td>\n      <td>0.000000</td>\n      <td>8.704410e-07</td>\n      <td>3.238827e-05</td>\n      <td>30.656456</td>\n      <td>2.133152</td>\n      <td>24.050294</td>\n      <td>0.384009</td>\n    </tr>\n    <tr>\n      <th>92</th>\n      <td>1009</td>\n      <td>0.066937</td>\n      <td>0.017388</td>\n      <td>0.668729</td>\n      <td>0.008988</td>\n      <td>0.313152</td>\n      <td>13.374711</td>\n      <td>0.006907</td>\n      <td>0.014673</td>\n      <td>1.074744e-08</td>\n      <td>...</td>\n      <td>0.000009</td>\n      <td>0.000000</td>\n      <td>1.277899</td>\n      <td>0.000000</td>\n      <td>4.780418e-06</td>\n      <td>1.113430e-05</td>\n      <td>0.017388</td>\n      <td>2.409639</td>\n      <td>60.574602</td>\n      <td>0.160868</td>\n    </tr>\n    <tr>\n      <th>...</th>\n      <td>...</td>\n      <td>...</td>\n      <td>...</td>\n      <td>...</td>\n      <td>...</td>\n      <td>...</td>\n      <td>...</td>\n      <td>...</td>\n      <td>...</td>\n      <td>...</td>\n      <td>...</td>\n      <td>...</td>\n      <td>...</td>\n      <td>...</td>\n      <td>...</td>\n      <td>...</td>\n      <td>...</td>\n      <td>...</td>\n      <td>...</td>\n      <td>...</td>\n      <td>...</td>\n    </tr>\n    <tr>\n      <th>71944</th>\n      <td>56037</td>\n      <td>1.288242</td>\n      <td>6846.474113</td>\n      <td>1.671191</td>\n      <td>0.242657</td>\n      <td>1.548135</td>\n      <td>468.448494</td>\n      <td>0.094393</td>\n      <td>0.074211</td>\n      <td>2.360126e-07</td>\n      <td>...</td>\n      <td>0.000158</td>\n      <td>3197.779327</td>\n      <td>6.811835</td>\n      <td>6844.091086</td>\n      <td>6.462275e-06</td>\n      <td>1.788926e-05</td>\n      <td>2.383027</td>\n      <td>41.472524</td>\n      <td>654.507956</td>\n      <td>15.008485</td>\n    </tr>\n    <tr>\n      <th>71967</th>\n      <td>56039</td>\n      <td>0.083954</td>\n      <td>1.400183</td>\n      <td>17.679180</td>\n      <td>0.056704</td>\n      <td>3.572117</td>\n      <td>47.566459</td>\n      <td>0.090532</td>\n      <td>0.267253</td>\n      <td>3.504199e-08</td>\n      <td>...</td>\n      <td>0.000049</td>\n      <td>0.010181</td>\n      <td>12.942471</td>\n      <td>0.656189</td>\n      <td>5.078643e-06</td>\n      <td>4.713616e-04</td>\n      <td>0.743994</td>\n      <td>3.222444</td>\n      <td>721.506003</td>\n      <td>4.511225</td>\n    </tr>\n    <tr>\n      <th>71990</th>\n      <td>56041</td>\n      <td>0.192684</td>\n      <td>3509.922266</td>\n      <td>0.227323</td>\n      <td>0.027889</td>\n      <td>0.588789</td>\n      <td>62.957404</td>\n      <td>0.020252</td>\n      <td>0.015144</td>\n      <td>3.722919e-08</td>\n      <td>...</td>\n      <td>0.000022</td>\n      <td>730.743964</td>\n      <td>2.413328</td>\n      <td>3509.893777</td>\n      <td>1.139964e-06</td>\n      <td>1.078417e-06</td>\n      <td>0.028489</td>\n      <td>6.938709</td>\n      <td>202.008187</td>\n      <td>1.091574</td>\n    </tr>\n    <tr>\n      <th>72013</th>\n      <td>56043</td>\n      <td>0.084944</td>\n      <td>1652.835530</td>\n      <td>0.073477</td>\n      <td>0.012313</td>\n      <td>0.141232</td>\n      <td>17.695252</td>\n      <td>0.008530</td>\n      <td>0.004346</td>\n      <td>1.659289e-08</td>\n      <td>...</td>\n      <td>0.000001</td>\n      <td>0.000000</td>\n      <td>0.774102</td>\n      <td>1652.832375</td>\n      <td>3.911731e-07</td>\n      <td>5.269024e-10</td>\n      <td>0.003155</td>\n      <td>3.325439</td>\n      <td>51.721583</td>\n      <td>0.083898</td>\n    </tr>\n    <tr>\n      <th>72036</th>\n      <td>56045</td>\n      <td>0.091856</td>\n      <td>1972.064340</td>\n      <td>0.166077</td>\n      <td>0.013064</td>\n      <td>0.136889</td>\n      <td>21.413600</td>\n      <td>0.009921</td>\n      <td>0.003162</td>\n      <td>2.299176e-08</td>\n      <td>...</td>\n      <td>0.000002</td>\n      <td>31.285543</td>\n      <td>0.491881</td>\n      <td>1971.904410</td>\n      <td>8.367255e-07</td>\n      <td>2.198150e-06</td>\n      <td>0.159930</td>\n      <td>3.642929</td>\n      <td>28.875893</td>\n      <td>0.122450</td>\n    </tr>\n  </tbody>\n</table>\n<p>3133 rows × 25 columns</p>\n</div>",
      "text/plain": "        fips      ACID         ENRG       ETOX      EUTR      FOOD  \\\n0       1001  1.049800  2609.156621   3.932211  0.091967  1.070762   \n23      1003  0.280475    15.561882   7.987962  0.290754  7.601684   \n46      1005  0.210885     0.010255   4.445820  0.027651  0.184201   \n69      1007  0.059937    30.656456   2.418462  0.009070  0.112118   \n92      1009  0.066937     0.017388   0.668729  0.008988  0.313152   \n...      ...       ...          ...        ...       ...       ...   \n71944  56037  1.288242  6846.474113   1.671191  0.242657  1.548135   \n71967  56039  0.083954     1.400183  17.679180  0.056704  3.572117   \n71990  56041  0.192684  3509.922266   0.227323  0.027889  0.588789   \n72013  56043  0.084944  1652.835530   0.073477  0.012313  0.141232   \n72036  56045  0.091856  1972.064340   0.166077  0.013064  0.136889   \n\n              GCC      HAPS      HAZW            HC  ...      METL  \\\n0      375.880086  0.028596  0.038196  1.392760e-08  ...  0.000177   \n23     121.748265  0.062129  0.932868  5.461040e-08  ...  0.000130   \n46      41.021013  0.014290  0.006247  3.207004e-08  ...  0.000007   \n69      11.566748  0.004779  0.007600  9.819009e-09  ...  0.000010   \n92      13.374711  0.006907  0.014673  1.074744e-08  ...  0.000009   \n...           ...       ...       ...           ...  ...       ...   \n71944  468.448494  0.094393  0.074211  2.360126e-07  ...  0.000158   \n71967   47.566459  0.090532  0.267253  3.504199e-08  ...  0.000049   \n71990   62.957404  0.020252  0.015144  3.722919e-08  ...  0.000022   \n72013   17.695252  0.008530  0.004346  1.659289e-08  ...  0.000001   \n72036   21.413600  0.009921  0.003162  2.299176e-08  ...  0.000002   \n\n              MINE        MSW         NREN          OZON          PEST  \\\n0         0.000000   3.332971  1558.288943  8.205763e-06  6.937696e-05   \n23       44.123480  28.367361    12.236171  1.025729e-05  1.910217e-04   \n46        0.000000   1.000043     0.000000  2.608045e-07  5.804013e-05   \n69        0.000000   0.520036     0.000000  8.704410e-07  3.238827e-05   \n92        0.000000   1.277899     0.000000  4.780418e-06  1.113430e-05   \n...            ...        ...          ...           ...           ...   \n71944  3197.779327   6.811835  6844.091086  6.462275e-06  1.788926e-05   \n71967     0.010181  12.942471     0.656189  5.078643e-06  4.713616e-04   \n71990   730.743964   2.413328  3509.893777  1.139964e-06  1.078417e-06   \n72013     0.000000   0.774102  1652.832375  3.911731e-07  5.269024e-10   \n72036    31.285543   0.491881  1971.904410  8.367255e-07  2.198150e-06   \n\n               REN       SMOG         VADD       WATR  \n0      1050.867678   9.764524   168.936475  27.485562  \n23        3.325711   9.430919  1620.234233   4.251408  \n46        0.010255   7.502860    65.168132   0.701977  \n69       30.656456   2.133152    24.050294   0.384009  \n92        0.017388   2.409639    60.574602   0.160868  \n...            ...        ...          ...        ...  \n71944     2.383027  41.472524   654.507956  15.008485  \n71967     0.743994   3.222444   721.506003   4.511225  \n71990     0.028489   6.938709   202.008187   1.091574  \n72013     0.003155   3.325439    51.721583   0.083898  \n72036     0.159930   3.642929    28.875893   0.122450  \n\n[3133 rows x 25 columns]"
     },
     "execution_count": 12,
     "metadata": {},
     "output_type": "execute_result"
    }
   ],
   "source": [
    "\n",
    "#selecting data for the specific cancer type\n",
    "cancerData=data[\"cancer\"]==1\n",
    "newData=data[cancerData]\n",
    "newData=newData[['fips','ACID', 'ENRG', 'ETOX', 'EUTR',\n",
    "       'FOOD', 'GCC', 'HAPS', 'HAZW', 'HC', 'HNC', 'HRSP', 'HTOX', 'JOBS',\n",
    "       'LAND', 'METL', 'MINE', 'MSW', 'NREN', 'OZON', 'PEST', 'REN', 'SMOG',\n",
    "       'VADD', 'WATR']]\n",
    "newData"
   ]
  },
  {
   "cell_type": "code",
   "execution_count": 13,
   "metadata": {},
   "outputs": [],
   "source": [
    "df_inner = newData.merge(data2,on='fips', how='inner')"
   ]
  },
  {
   "cell_type": "code",
   "execution_count": 14,
   "metadata": {},
   "outputs": [
    {
     "data": {
      "text/html": "<div>\n<style scoped>\n    .dataframe tbody tr th:only-of-type {\n        vertical-align: middle;\n    }\n\n    .dataframe tbody tr th {\n        vertical-align: top;\n    }\n\n    .dataframe thead th {\n        text-align: right;\n    }\n</style>\n<table border=\"1\" class=\"dataframe\">\n  <thead>\n    <tr style=\"text-align: right;\">\n      <th></th>\n      <th>fips</th>\n      <th>ACID</th>\n      <th>ENRG</th>\n      <th>ETOX</th>\n      <th>EUTR</th>\n      <th>FOOD</th>\n      <th>GCC</th>\n      <th>HAPS</th>\n      <th>HAZW</th>\n      <th>HC</th>\n      <th>...</th>\n      <th>66</th>\n      <th>71</th>\n      <th>72</th>\n      <th>76</th>\n      <th>80</th>\n      <th>86</th>\n      <th>90</th>\n      <th>400</th>\n      <th>515</th>\n      <th>516</th>\n    </tr>\n  </thead>\n  <tbody>\n    <tr>\n      <th>0</th>\n      <td>1001</td>\n      <td>1.049800</td>\n      <td>2609.156621</td>\n      <td>3.932211</td>\n      <td>0.091967</td>\n      <td>1.070762</td>\n      <td>375.880086</td>\n      <td>0.028596</td>\n      <td>0.038196</td>\n      <td>1.392760e-08</td>\n      <td>...</td>\n      <td>32</td>\n      <td>11</td>\n      <td>13</td>\n      <td>4</td>\n      <td>7</td>\n      <td>9</td>\n      <td>8</td>\n      <td>8</td>\n      <td>3</td>\n      <td>0</td>\n    </tr>\n    <tr>\n      <th>1</th>\n      <td>1003</td>\n      <td>0.280475</td>\n      <td>15.561882</td>\n      <td>7.987962</td>\n      <td>0.290754</td>\n      <td>7.601684</td>\n      <td>121.748265</td>\n      <td>0.062129</td>\n      <td>0.932868</td>\n      <td>5.461040e-08</td>\n      <td>...</td>\n      <td>121</td>\n      <td>56</td>\n      <td>44</td>\n      <td>16</td>\n      <td>14</td>\n      <td>44</td>\n      <td>32</td>\n      <td>36</td>\n      <td>11</td>\n      <td>7</td>\n    </tr>\n    <tr>\n      <th>2</th>\n      <td>1005</td>\n      <td>0.210885</td>\n      <td>0.010255</td>\n      <td>4.445820</td>\n      <td>0.027651</td>\n      <td>0.184201</td>\n      <td>41.021013</td>\n      <td>0.014290</td>\n      <td>0.006247</td>\n      <td>3.207004e-08</td>\n      <td>...</td>\n      <td>22</td>\n      <td>6</td>\n      <td>7</td>\n      <td>0</td>\n      <td>0</td>\n      <td>5</td>\n      <td>0</td>\n      <td>4</td>\n      <td>0</td>\n      <td>0</td>\n    </tr>\n    <tr>\n      <th>3</th>\n      <td>1007</td>\n      <td>0.059937</td>\n      <td>30.656456</td>\n      <td>2.418462</td>\n      <td>0.009070</td>\n      <td>0.112118</td>\n      <td>11.566748</td>\n      <td>0.004779</td>\n      <td>0.007600</td>\n      <td>9.819009e-09</td>\n      <td>...</td>\n      <td>16</td>\n      <td>4</td>\n      <td>7</td>\n      <td>0</td>\n      <td>4</td>\n      <td>4</td>\n      <td>3</td>\n      <td>3</td>\n      <td>0</td>\n      <td>0</td>\n    </tr>\n    <tr>\n      <th>4</th>\n      <td>1009</td>\n      <td>0.066937</td>\n      <td>0.017388</td>\n      <td>0.668729</td>\n      <td>0.008988</td>\n      <td>0.313152</td>\n      <td>13.374711</td>\n      <td>0.006907</td>\n      <td>0.014673</td>\n      <td>1.074744e-08</td>\n      <td>...</td>\n      <td>38</td>\n      <td>12</td>\n      <td>13</td>\n      <td>4</td>\n      <td>6</td>\n      <td>12</td>\n      <td>10</td>\n      <td>10</td>\n      <td>4</td>\n      <td>3</td>\n    </tr>\n    <tr>\n      <th>...</th>\n      <td>...</td>\n      <td>...</td>\n      <td>...</td>\n      <td>...</td>\n      <td>...</td>\n      <td>...</td>\n      <td>...</td>\n      <td>...</td>\n      <td>...</td>\n      <td>...</td>\n      <td>...</td>\n      <td>...</td>\n      <td>...</td>\n      <td>...</td>\n      <td>...</td>\n      <td>...</td>\n      <td>...</td>\n      <td>...</td>\n      <td>...</td>\n      <td>...</td>\n      <td>...</td>\n    </tr>\n    <tr>\n      <th>3128</th>\n      <td>56037</td>\n      <td>1.288242</td>\n      <td>6846.474113</td>\n      <td>1.671191</td>\n      <td>0.242657</td>\n      <td>1.548135</td>\n      <td>468.448494</td>\n      <td>0.094393</td>\n      <td>0.074211</td>\n      <td>2.360126e-07</td>\n      <td>...</td>\n      <td>25</td>\n      <td>8</td>\n      <td>6</td>\n      <td>4</td>\n      <td>5</td>\n      <td>7</td>\n      <td>5</td>\n      <td>4</td>\n      <td>0</td>\n      <td>0</td>\n    </tr>\n    <tr>\n      <th>3129</th>\n      <td>56039</td>\n      <td>0.083954</td>\n      <td>1.400183</td>\n      <td>17.679180</td>\n      <td>0.056704</td>\n      <td>3.572117</td>\n      <td>47.566459</td>\n      <td>0.090532</td>\n      <td>0.267253</td>\n      <td>3.504199e-08</td>\n      <td>...</td>\n      <td>17</td>\n      <td>5</td>\n      <td>0</td>\n      <td>0</td>\n      <td>3</td>\n      <td>6</td>\n      <td>4</td>\n      <td>4</td>\n      <td>0</td>\n      <td>0</td>\n    </tr>\n    <tr>\n      <th>3130</th>\n      <td>56041</td>\n      <td>0.192684</td>\n      <td>3509.922266</td>\n      <td>0.227323</td>\n      <td>0.027889</td>\n      <td>0.588789</td>\n      <td>62.957404</td>\n      <td>0.020252</td>\n      <td>0.015144</td>\n      <td>3.722919e-08</td>\n      <td>...</td>\n      <td>8</td>\n      <td>4</td>\n      <td>3</td>\n      <td>0</td>\n      <td>4</td>\n      <td>4</td>\n      <td>0</td>\n      <td>0</td>\n      <td>0</td>\n      <td>0</td>\n    </tr>\n    <tr>\n      <th>3131</th>\n      <td>56043</td>\n      <td>0.084944</td>\n      <td>1652.835530</td>\n      <td>0.073477</td>\n      <td>0.012313</td>\n      <td>0.141232</td>\n      <td>17.695252</td>\n      <td>0.008530</td>\n      <td>0.004346</td>\n      <td>1.659289e-08</td>\n      <td>...</td>\n      <td>5</td>\n      <td>0</td>\n      <td>0</td>\n      <td>0</td>\n      <td>0</td>\n      <td>0</td>\n      <td>0</td>\n      <td>0</td>\n      <td>0</td>\n      <td>0</td>\n    </tr>\n    <tr>\n      <th>3132</th>\n      <td>56045</td>\n      <td>0.091856</td>\n      <td>1972.064340</td>\n      <td>0.166077</td>\n      <td>0.013064</td>\n      <td>0.136889</td>\n      <td>21.413600</td>\n      <td>0.009921</td>\n      <td>0.003162</td>\n      <td>2.299176e-08</td>\n      <td>...</td>\n      <td>4</td>\n      <td>0</td>\n      <td>0</td>\n      <td>0</td>\n      <td>0</td>\n      <td>0</td>\n      <td>0</td>\n      <td>0</td>\n      <td>0</td>\n      <td>0</td>\n    </tr>\n  </tbody>\n</table>\n<p>3133 rows × 48 columns</p>\n</div>",
      "text/plain": "       fips      ACID         ENRG       ETOX      EUTR      FOOD         GCC  \\\n0      1001  1.049800  2609.156621   3.932211  0.091967  1.070762  375.880086   \n1      1003  0.280475    15.561882   7.987962  0.290754  7.601684  121.748265   \n2      1005  0.210885     0.010255   4.445820  0.027651  0.184201   41.021013   \n3      1007  0.059937    30.656456   2.418462  0.009070  0.112118   11.566748   \n4      1009  0.066937     0.017388   0.668729  0.008988  0.313152   13.374711   \n...     ...       ...          ...        ...       ...       ...         ...   \n3128  56037  1.288242  6846.474113   1.671191  0.242657  1.548135  468.448494   \n3129  56039  0.083954     1.400183  17.679180  0.056704  3.572117   47.566459   \n3130  56041  0.192684  3509.922266   0.227323  0.027889  0.588789   62.957404   \n3131  56043  0.084944  1652.835530   0.073477  0.012313  0.141232   17.695252   \n3132  56045  0.091856  1972.064340   0.166077  0.013064  0.136889   21.413600   \n\n          HAPS      HAZW            HC  ...   66  71  72  76  80  86  90  400  \\\n0     0.028596  0.038196  1.392760e-08  ...   32  11  13   4   7   9   8    8   \n1     0.062129  0.932868  5.461040e-08  ...  121  56  44  16  14  44  32   36   \n2     0.014290  0.006247  3.207004e-08  ...   22   6   7   0   0   5   0    4   \n3     0.004779  0.007600  9.819009e-09  ...   16   4   7   0   4   4   3    3   \n4     0.006907  0.014673  1.074744e-08  ...   38  12  13   4   6  12  10   10   \n...        ...       ...           ...  ...  ...  ..  ..  ..  ..  ..  ..  ...   \n3128  0.094393  0.074211  2.360126e-07  ...   25   8   6   4   5   7   5    4   \n3129  0.090532  0.267253  3.504199e-08  ...   17   5   0   0   3   6   4    4   \n3130  0.020252  0.015144  3.722919e-08  ...    8   4   3   0   4   4   0    0   \n3131  0.008530  0.004346  1.659289e-08  ...    5   0   0   0   0   0   0    0   \n3132  0.009921  0.003162  2.299176e-08  ...    4   0   0   0   0   0   0    0   \n\n      515  516  \n0       3    0  \n1      11    7  \n2       0    0  \n3       0    0  \n4       4    3  \n...   ...  ...  \n3128    0    0  \n3129    0    0  \n3130    0    0  \n3131    0    0  \n3132    0    0  \n\n[3133 rows x 48 columns]"
     },
     "execution_count": 14,
     "metadata": {},
     "output_type": "execute_result"
    }
   ],
   "source": [
    "df_inner"
   ]
  },
  {
   "cell_type": "code",
   "execution_count": 15,
   "metadata": {},
   "outputs": [
    {
     "data": {
      "text/plain": "Index(['fips', 'ACID', 'ENRG', 'ETOX', 'EUTR', 'FOOD', 'GCC', 'HAPS', 'HAZW',\n       'HC', 'HNC', 'HRSP', 'HTOX', 'JOBS', 'LAND', 'METL', 'MINE', 'MSW',\n       'NREN', 'OZON', 'PEST', 'REN', 'SMOG', 'VADD', 'WATR', '1', '3', '17',\n       '18', '20', '35', '40', '47', '53', '55', '57', '58', '61', '66', '71',\n       '72', '76', '80', '86', '90', '400', '515', '516'],\n      dtype='object')"
     },
     "execution_count": 15,
     "metadata": {},
     "output_type": "execute_result"
    }
   ],
   "source": [
    "df_inner.columns"
   ]
  },
  {
   "cell_type": "markdown",
   "metadata": {},
   "source": [
    "# Final Model"
   ]
  },
  {
   "cell_type": "markdown",
   "metadata": {},
   "source": [
    "### Multitask Lasso"
   ]
  },
  {
   "cell_type": "code",
   "execution_count": 16,
   "metadata": {},
   "outputs": [
    {
     "name": "stdout",
     "output_type": "stream",
     "text": "Creating Elastic Net Model and Fitting the Data\nscore 0.8959449771883731\n"
    }
   ],
   "source": [
    "#splitting to test and train\n",
    "x1=df_inner.loc[:, 'ACID':'WATR']\n",
    "y = df_inner.loc[:, '1':'516']\n",
    "\n",
    "X_train1, X_test1, y_train, y_test = train_test_split(x1, y,\n",
    "                                                    test_size=0.3,\n",
    "                                                    random_state = RSEED)\n",
    "\n",
    "scaler = StandardScaler()\n",
    "scaler.fit(X_train1)\n",
    "\n",
    "X_train = scaler.transform(X_train1)\n",
    "X_test = scaler.transform(X_test1)\n",
    "    \n",
    "\n",
    "print(\"Creating Elastic Net Model and Fitting the Data\")\n",
    "lasso = MultiTaskLasso(random_state=RSEED).fit(X_train, y_train)\n",
    "    \n",
    "#Evaluation\n",
    "r2_score = lasso.score(X_test, y_test)\n",
    "print(\"score\", r2_score)\n"
   ]
  },
  {
   "cell_type": "code",
   "execution_count": 21,
   "metadata": {},
   "outputs": [
    {
     "data": {
      "text/plain": "['./data_viz/national_choropleth/resources/Model2.sav']"
     },
     "execution_count": 21,
     "metadata": {},
     "output_type": "execute_result"
    }
   ],
   "source": [
    "joblib.dump(lasso, './data_viz/national_choropleth/resources/Model2.sav')"
   ]
  },
  {
   "cell_type": "code",
   "execution_count": null,
   "metadata": {},
   "outputs": [],
   "source": []
  }
 ],
 "metadata": {
  "kernelspec": {
   "display_name": "Python 3",
   "language": "python",
   "name": "python3"
  },
  "language_info": {
   "codemirror_mode": {
    "name": "ipython",
    "version": 3
   },
   "file_extension": ".py",
   "mimetype": "text/x-python",
   "name": "python",
   "nbconvert_exporter": "python",
   "pygments_lexer": "ipython3",
   "version": "3.7.6-final"
  }
 },
 "nbformat": 4,
 "nbformat_minor": 4
}