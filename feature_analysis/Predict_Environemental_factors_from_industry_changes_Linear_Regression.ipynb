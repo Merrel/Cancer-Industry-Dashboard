{
 "cells": [
  {
   "cell_type": "code",
   "execution_count": 1,
   "metadata": {},
   "outputs": [],
   "source": [
    "import numpy as np\n",
    "import pandas as pd\n",
    "# Setting random seed to get reproducible runs\n",
    "RSEED = 100"
   ]
  },
  {
   "cell_type": "markdown",
   "metadata": {},
   "source": [
    "# Importing dataset and processing it"
   ]
  },
  {
   "cell_type": "code",
   "execution_count": 2,
   "metadata": {},
   "outputs": [],
   "source": [
    "df = pd.read_csv(\"../data_clean/cancer_industry.csv\")"
   ]
  },
  {
   "cell_type": "code",
   "execution_count": 3,
   "metadata": {},
   "outputs": [
    {
     "data": {
      "text/html": [
       "<div>\n",
       "<style scoped>\n",
       "    .dataframe tbody tr th:only-of-type {\n",
       "        vertical-align: middle;\n",
       "    }\n",
       "\n",
       "    .dataframe tbody tr th {\n",
       "        vertical-align: top;\n",
       "    }\n",
       "\n",
       "    .dataframe thead th {\n",
       "        text-align: right;\n",
       "    }\n",
       "</style>\n",
       "<table border=\"1\" class=\"dataframe\">\n",
       "  <thead>\n",
       "    <tr style=\"text-align: right;\">\n",
       "      <th></th>\n",
       "      <th>locale</th>\n",
       "      <th>fips</th>\n",
       "      <th>areatype</th>\n",
       "      <th>cancer</th>\n",
       "      <th>stateFIPS</th>\n",
       "      <th>state</th>\n",
       "      <th>cancer_description</th>\n",
       "      <th>annual_count_avg</th>\n",
       "      <th>incidence rate_per_100000</th>\n",
       "      <th>incidence rate_lower_95_confidence</th>\n",
       "      <th>...</th>\n",
       "      <th>METL</th>\n",
       "      <th>MINE</th>\n",
       "      <th>MSW</th>\n",
       "      <th>NREN</th>\n",
       "      <th>OZON</th>\n",
       "      <th>PEST</th>\n",
       "      <th>REN</th>\n",
       "      <th>SMOG</th>\n",
       "      <th>VADD</th>\n",
       "      <th>WATR</th>\n",
       "    </tr>\n",
       "  </thead>\n",
       "  <tbody>\n",
       "    <tr>\n",
       "      <th>0</th>\n",
       "      <td>Autauga County(6,10)</td>\n",
       "      <td>1001</td>\n",
       "      <td>county</td>\n",
       "      <td>1</td>\n",
       "      <td>1</td>\n",
       "      <td>alabama</td>\n",
       "      <td>All Cancer Sites</td>\n",
       "      <td>304</td>\n",
       "      <td>495.6</td>\n",
       "      <td>470.6</td>\n",
       "      <td>...</td>\n",
       "      <td>8.749380e-08</td>\n",
       "      <td>0.0</td>\n",
       "      <td>0.004263</td>\n",
       "      <td>0.000000</td>\n",
       "      <td>5.005340e-10</td>\n",
       "      <td>1.617190e-05</td>\n",
       "      <td>0.000365</td>\n",
       "      <td>0.026608</td>\n",
       "      <td>0.869459</td>\n",
       "      <td>0.180875</td>\n",
       "    </tr>\n",
       "    <tr>\n",
       "      <th>1</th>\n",
       "      <td>Autauga County(6,10)</td>\n",
       "      <td>1001</td>\n",
       "      <td>county</td>\n",
       "      <td>1</td>\n",
       "      <td>1</td>\n",
       "      <td>alabama</td>\n",
       "      <td>All Cancer Sites</td>\n",
       "      <td>304</td>\n",
       "      <td>495.6</td>\n",
       "      <td>470.6</td>\n",
       "      <td>...</td>\n",
       "      <td>0.000000e+00</td>\n",
       "      <td>0.0</td>\n",
       "      <td>0.000000</td>\n",
       "      <td>0.000000</td>\n",
       "      <td>0.000000e+00</td>\n",
       "      <td>0.000000e+00</td>\n",
       "      <td>0.000000</td>\n",
       "      <td>0.000000</td>\n",
       "      <td>0.000000</td>\n",
       "      <td>0.000000</td>\n",
       "    </tr>\n",
       "    <tr>\n",
       "      <th>2</th>\n",
       "      <td>Autauga County(6,10)</td>\n",
       "      <td>1001</td>\n",
       "      <td>county</td>\n",
       "      <td>1</td>\n",
       "      <td>1</td>\n",
       "      <td>alabama</td>\n",
       "      <td>All Cancer Sites</td>\n",
       "      <td>304</td>\n",
       "      <td>495.6</td>\n",
       "      <td>470.6</td>\n",
       "      <td>...</td>\n",
       "      <td>0.000000e+00</td>\n",
       "      <td>0.0</td>\n",
       "      <td>0.000000</td>\n",
       "      <td>0.000000</td>\n",
       "      <td>0.000000e+00</td>\n",
       "      <td>0.000000e+00</td>\n",
       "      <td>0.000000</td>\n",
       "      <td>0.000000</td>\n",
       "      <td>0.000000</td>\n",
       "      <td>0.000000</td>\n",
       "    </tr>\n",
       "    <tr>\n",
       "      <th>3</th>\n",
       "      <td>Autauga County(6,10)</td>\n",
       "      <td>1001</td>\n",
       "      <td>county</td>\n",
       "      <td>1</td>\n",
       "      <td>1</td>\n",
       "      <td>alabama</td>\n",
       "      <td>All Cancer Sites</td>\n",
       "      <td>304</td>\n",
       "      <td>495.6</td>\n",
       "      <td>470.6</td>\n",
       "      <td>...</td>\n",
       "      <td>1.687070e-04</td>\n",
       "      <td>0.0</td>\n",
       "      <td>0.084219</td>\n",
       "      <td>1558.288943</td>\n",
       "      <td>6.755460e-06</td>\n",
       "      <td>2.148530e-08</td>\n",
       "      <td>1050.804066</td>\n",
       "      <td>8.594629</td>\n",
       "      <td>42.953215</td>\n",
       "      <td>26.761900</td>\n",
       "    </tr>\n",
       "    <tr>\n",
       "      <th>4</th>\n",
       "      <td>Autauga County(6,10)</td>\n",
       "      <td>1001</td>\n",
       "      <td>county</td>\n",
       "      <td>1</td>\n",
       "      <td>1</td>\n",
       "      <td>alabama</td>\n",
       "      <td>All Cancer Sites</td>\n",
       "      <td>304</td>\n",
       "      <td>495.6</td>\n",
       "      <td>470.6</td>\n",
       "      <td>...</td>\n",
       "      <td>0.000000e+00</td>\n",
       "      <td>0.0</td>\n",
       "      <td>0.000000</td>\n",
       "      <td>0.000000</td>\n",
       "      <td>0.000000e+00</td>\n",
       "      <td>0.000000e+00</td>\n",
       "      <td>0.000000</td>\n",
       "      <td>0.000000</td>\n",
       "      <td>0.000000</td>\n",
       "      <td>0.000000</td>\n",
       "    </tr>\n",
       "  </tbody>\n",
       "</table>\n",
       "<p>5 rows × 46 columns</p>\n",
       "</div>"
      ],
      "text/plain": [
       "                 locale  fips areatype  cancer  stateFIPS    state  \\\n",
       "0  Autauga County(6,10)  1001   county       1          1  alabama   \n",
       "1  Autauga County(6,10)  1001   county       1          1  alabama   \n",
       "2  Autauga County(6,10)  1001   county       1          1  alabama   \n",
       "3  Autauga County(6,10)  1001   county       1          1  alabama   \n",
       "4  Autauga County(6,10)  1001   county       1          1  alabama   \n",
       "\n",
       "  cancer_description  annual_count_avg  incidence rate_per_100000  \\\n",
       "0   All Cancer Sites               304                      495.6   \n",
       "1   All Cancer Sites               304                      495.6   \n",
       "2   All Cancer Sites               304                      495.6   \n",
       "3   All Cancer Sites               304                      495.6   \n",
       "4   All Cancer Sites               304                      495.6   \n",
       "\n",
       "   incidence rate_lower_95_confidence  ...          METL  MINE       MSW  \\\n",
       "0                               470.6  ...  8.749380e-08   0.0  0.004263   \n",
       "1                               470.6  ...  0.000000e+00   0.0  0.000000   \n",
       "2                               470.6  ...  0.000000e+00   0.0  0.000000   \n",
       "3                               470.6  ...  1.687070e-04   0.0  0.084219   \n",
       "4                               470.6  ...  0.000000e+00   0.0  0.000000   \n",
       "\n",
       "          NREN          OZON          PEST          REN      SMOG       VADD  \\\n",
       "0     0.000000  5.005340e-10  1.617190e-05     0.000365  0.026608   0.869459   \n",
       "1     0.000000  0.000000e+00  0.000000e+00     0.000000  0.000000   0.000000   \n",
       "2     0.000000  0.000000e+00  0.000000e+00     0.000000  0.000000   0.000000   \n",
       "3  1558.288943  6.755460e-06  2.148530e-08  1050.804066  8.594629  42.953215   \n",
       "4     0.000000  0.000000e+00  0.000000e+00     0.000000  0.000000   0.000000   \n",
       "\n",
       "        WATR  \n",
       "0   0.180875  \n",
       "1   0.000000  \n",
       "2   0.000000  \n",
       "3  26.761900  \n",
       "4   0.000000  \n",
       "\n",
       "[5 rows x 46 columns]"
      ]
     },
     "execution_count": 3,
     "metadata": {},
     "output_type": "execute_result"
    }
   ],
   "source": [
    "df.head()"
   ]
  },
  {
   "cell_type": "code",
   "execution_count": 4,
   "metadata": {},
   "outputs": [
    {
     "data": {
      "text/plain": [
       "Index(['locale', 'fips', 'areatype', 'cancer', 'stateFIPS', 'state',\n",
       "       'cancer_description', 'annual_count_avg', 'incidence rate_per_100000',\n",
       "       'incidence rate_lower_95_confidence',\n",
       "       'incidence rate_upper_95_confidence', 'county', 'name', 'industry_code',\n",
       "       'industry_detail', 'relevant_naics', 'payann', 'total_compensation',\n",
       "       'added_value ($)', 'local_tranformation_ind', 'estab', 'emp', 'ACID',\n",
       "       'ENRG', 'ETOX', 'EUTR', 'FOOD', 'GCC', 'HAPS', 'HAZW', 'HC', 'HNC',\n",
       "       'HRSP', 'HTOX', 'JOBS', 'LAND', 'METL', 'MINE', 'MSW', 'NREN', 'OZON',\n",
       "       'PEST', 'REN', 'SMOG', 'VADD', 'WATR'],\n",
       "      dtype='object')"
      ]
     },
     "execution_count": 4,
     "metadata": {},
     "output_type": "execute_result"
    }
   ],
   "source": [
    "df.columns"
   ]
  },
  {
   "cell_type": "code",
   "execution_count": 5,
   "metadata": {},
   "outputs": [
    {
     "data": {
      "text/plain": [
       "(7030318, 46)"
      ]
     },
     "execution_count": 5,
     "metadata": {},
     "output_type": "execute_result"
    }
   ],
   "source": [
    "df.shape"
   ]
  },
  {
   "cell_type": "markdown",
   "metadata": {},
   "source": [
    "## Only keeping the values that we are interested in"
   ]
  },
  {
   "cell_type": "markdown",
   "metadata": {},
   "source": [
    "### Keeping general statistics for all types of cancer"
   ]
  },
  {
   "cell_type": "code",
   "execution_count": 6,
   "metadata": {},
   "outputs": [
    {
     "data": {
      "text/plain": [
       "(305666, 46)"
      ]
     },
     "execution_count": 6,
     "metadata": {},
     "output_type": "execute_result"
    }
   ],
   "source": [
    "dataset = df[df['cancer'] == 1].copy()\n",
    "dataset.shape"
   ]
  },
  {
   "cell_type": "markdown",
   "metadata": {},
   "source": [
    "### Keeping the columns that we are interested in"
   ]
  },
  {
   "cell_type": "code",
   "execution_count": 8,
   "metadata": {},
   "outputs": [],
   "source": [
    "# for now we drop the 'fips' column because we supose that the effect of having an idustry present in a certain\n",
    "# area will be the same in any location\n",
    "dataset.drop(['locale', 'fips','areatype', 'cancer', 'stateFIPS', 'state',\n",
    "              'cancer_description', 'annual_count_avg', 'incidence rate_per_100000',\n",
    "              'incidence rate_lower_95_confidence','incidence rate_upper_95_confidence',\n",
    "              'industry_detail', 'relevant_naics','county', 'name', 'local_tranformation_ind',\n",
    "              'total_compensation', 'added_value ($)'], axis=1, inplace=True)"
   ]
  },
  {
   "cell_type": "code",
   "execution_count": 9,
   "metadata": {},
   "outputs": [
    {
     "data": {
      "text/html": [
       "<div>\n",
       "<style scoped>\n",
       "    .dataframe tbody tr th:only-of-type {\n",
       "        vertical-align: middle;\n",
       "    }\n",
       "\n",
       "    .dataframe tbody tr th {\n",
       "        vertical-align: top;\n",
       "    }\n",
       "\n",
       "    .dataframe thead th {\n",
       "        text-align: right;\n",
       "    }\n",
       "</style>\n",
       "<table border=\"1\" class=\"dataframe\">\n",
       "  <thead>\n",
       "    <tr style=\"text-align: right;\">\n",
       "      <th></th>\n",
       "      <th>industry_code</th>\n",
       "      <th>payann</th>\n",
       "      <th>estab</th>\n",
       "      <th>emp</th>\n",
       "      <th>ACID</th>\n",
       "      <th>ENRG</th>\n",
       "      <th>ETOX</th>\n",
       "      <th>EUTR</th>\n",
       "      <th>FOOD</th>\n",
       "      <th>GCC</th>\n",
       "      <th>...</th>\n",
       "      <th>METL</th>\n",
       "      <th>MINE</th>\n",
       "      <th>MSW</th>\n",
       "      <th>NREN</th>\n",
       "      <th>OZON</th>\n",
       "      <th>PEST</th>\n",
       "      <th>REN</th>\n",
       "      <th>SMOG</th>\n",
       "      <th>VADD</th>\n",
       "      <th>WATR</th>\n",
       "    </tr>\n",
       "  </thead>\n",
       "  <tbody>\n",
       "    <tr>\n",
       "      <th>7029059</th>\n",
       "      <td>812200</td>\n",
       "      <td>0.000</td>\n",
       "      <td>1</td>\n",
       "      <td>0</td>\n",
       "      <td>0.000000</td>\n",
       "      <td>0.0</td>\n",
       "      <td>0.000000</td>\n",
       "      <td>0.000000e+00</td>\n",
       "      <td>0.000000</td>\n",
       "      <td>0.000000</td>\n",
       "      <td>...</td>\n",
       "      <td>0.000000e+00</td>\n",
       "      <td>0.0</td>\n",
       "      <td>0.000000</td>\n",
       "      <td>0.0</td>\n",
       "      <td>0.0</td>\n",
       "      <td>0.0</td>\n",
       "      <td>0.0</td>\n",
       "      <td>0.000000</td>\n",
       "      <td>0.000000</td>\n",
       "      <td>0.000000</td>\n",
       "    </tr>\n",
       "    <tr>\n",
       "      <th>7029060</th>\n",
       "      <td>812300</td>\n",
       "      <td>0.000</td>\n",
       "      <td>1</td>\n",
       "      <td>0</td>\n",
       "      <td>0.000000</td>\n",
       "      <td>0.0</td>\n",
       "      <td>0.000000</td>\n",
       "      <td>0.000000e+00</td>\n",
       "      <td>0.000000</td>\n",
       "      <td>0.000000</td>\n",
       "      <td>...</td>\n",
       "      <td>0.000000e+00</td>\n",
       "      <td>0.0</td>\n",
       "      <td>0.000000</td>\n",
       "      <td>0.0</td>\n",
       "      <td>0.0</td>\n",
       "      <td>0.0</td>\n",
       "      <td>0.0</td>\n",
       "      <td>0.000000</td>\n",
       "      <td>0.000000</td>\n",
       "      <td>0.000000</td>\n",
       "    </tr>\n",
       "    <tr>\n",
       "      <th>7029061</th>\n",
       "      <td>813100</td>\n",
       "      <td>0.177</td>\n",
       "      <td>8</td>\n",
       "      <td>15</td>\n",
       "      <td>0.000001</td>\n",
       "      <td>0.0</td>\n",
       "      <td>0.000001</td>\n",
       "      <td>1.472570e-07</td>\n",
       "      <td>0.000143</td>\n",
       "      <td>0.004671</td>\n",
       "      <td>...</td>\n",
       "      <td>2.589830e-11</td>\n",
       "      <td>0.0</td>\n",
       "      <td>0.001015</td>\n",
       "      <td>0.0</td>\n",
       "      <td>0.0</td>\n",
       "      <td>0.0</td>\n",
       "      <td>0.0</td>\n",
       "      <td>0.000049</td>\n",
       "      <td>0.108083</td>\n",
       "      <td>0.000396</td>\n",
       "    </tr>\n",
       "    <tr>\n",
       "      <th>7029062</th>\n",
       "      <td>813a00</td>\n",
       "      <td>0.000</td>\n",
       "      <td>1</td>\n",
       "      <td>0</td>\n",
       "      <td>0.000000</td>\n",
       "      <td>0.0</td>\n",
       "      <td>0.000000</td>\n",
       "      <td>0.000000e+00</td>\n",
       "      <td>0.000000</td>\n",
       "      <td>0.000000</td>\n",
       "      <td>...</td>\n",
       "      <td>0.000000e+00</td>\n",
       "      <td>0.0</td>\n",
       "      <td>0.000000</td>\n",
       "      <td>0.0</td>\n",
       "      <td>0.0</td>\n",
       "      <td>0.0</td>\n",
       "      <td>0.0</td>\n",
       "      <td>0.000000</td>\n",
       "      <td>0.000000</td>\n",
       "      <td>0.000000</td>\n",
       "    </tr>\n",
       "    <tr>\n",
       "      <th>7029063</th>\n",
       "      <td>813b00</td>\n",
       "      <td>0.000</td>\n",
       "      <td>2</td>\n",
       "      <td>0</td>\n",
       "      <td>0.000000</td>\n",
       "      <td>0.0</td>\n",
       "      <td>0.000000</td>\n",
       "      <td>0.000000e+00</td>\n",
       "      <td>0.000000</td>\n",
       "      <td>0.000000</td>\n",
       "      <td>...</td>\n",
       "      <td>0.000000e+00</td>\n",
       "      <td>0.0</td>\n",
       "      <td>0.000000</td>\n",
       "      <td>0.0</td>\n",
       "      <td>0.0</td>\n",
       "      <td>0.0</td>\n",
       "      <td>0.0</td>\n",
       "      <td>0.000000</td>\n",
       "      <td>0.000000</td>\n",
       "      <td>0.000000</td>\n",
       "    </tr>\n",
       "  </tbody>\n",
       "</table>\n",
       "<p>5 rows × 28 columns</p>\n",
       "</div>"
      ],
      "text/plain": [
       "        industry_code  payann  estab  emp      ACID  ENRG      ETOX  \\\n",
       "7029059        812200   0.000      1    0  0.000000   0.0  0.000000   \n",
       "7029060        812300   0.000      1    0  0.000000   0.0  0.000000   \n",
       "7029061        813100   0.177      8   15  0.000001   0.0  0.000001   \n",
       "7029062        813a00   0.000      1    0  0.000000   0.0  0.000000   \n",
       "7029063        813b00   0.000      2    0  0.000000   0.0  0.000000   \n",
       "\n",
       "                 EUTR      FOOD       GCC  ...          METL  MINE       MSW  \\\n",
       "7029059  0.000000e+00  0.000000  0.000000  ...  0.000000e+00   0.0  0.000000   \n",
       "7029060  0.000000e+00  0.000000  0.000000  ...  0.000000e+00   0.0  0.000000   \n",
       "7029061  1.472570e-07  0.000143  0.004671  ...  2.589830e-11   0.0  0.001015   \n",
       "7029062  0.000000e+00  0.000000  0.000000  ...  0.000000e+00   0.0  0.000000   \n",
       "7029063  0.000000e+00  0.000000  0.000000  ...  0.000000e+00   0.0  0.000000   \n",
       "\n",
       "         NREN  OZON  PEST  REN      SMOG      VADD      WATR  \n",
       "7029059   0.0   0.0   0.0  0.0  0.000000  0.000000  0.000000  \n",
       "7029060   0.0   0.0   0.0  0.0  0.000000  0.000000  0.000000  \n",
       "7029061   0.0   0.0   0.0  0.0  0.000049  0.108083  0.000396  \n",
       "7029062   0.0   0.0   0.0  0.0  0.000000  0.000000  0.000000  \n",
       "7029063   0.0   0.0   0.0  0.0  0.000000  0.000000  0.000000  \n",
       "\n",
       "[5 rows x 28 columns]"
      ]
     },
     "execution_count": 9,
     "metadata": {},
     "output_type": "execute_result"
    }
   ],
   "source": [
    "dataset.tail()"
   ]
  },
  {
   "cell_type": "markdown",
   "metadata": {},
   "source": [
    "# Now we want to predict the 24 environemental factors from varialbles such as fips, pay_ann, total_compensation, added_value, #estab, #emp"
   ]
  },
  {
   "cell_type": "markdown",
   "metadata": {},
   "source": [
    "## First we have to create one-hot vectors for idustry_codes and fips values"
   ]
  },
  {
   "cell_type": "code",
   "execution_count": 10,
   "metadata": {},
   "outputs": [],
   "source": [
    "#initializing 1-hot vectors to 0\n",
    "for ind_code in dataset[\"industry_code\"].unique():\n",
    "    dataset[ind_code] = 0\n",
    "    dataset[ind_code] = dataset[ind_code].astype(np.uint8)"
   ]
  },
  {
   "cell_type": "code",
   "execution_count": 11,
   "metadata": {},
   "outputs": [
    {
     "data": {
      "text/html": [
       "<div>\n",
       "<style scoped>\n",
       "    .dataframe tbody tr th:only-of-type {\n",
       "        vertical-align: middle;\n",
       "    }\n",
       "\n",
       "    .dataframe tbody tr th {\n",
       "        vertical-align: top;\n",
       "    }\n",
       "\n",
       "    .dataframe thead th {\n",
       "        text-align: right;\n",
       "    }\n",
       "</style>\n",
       "<table border=\"1\" class=\"dataframe\">\n",
       "  <thead>\n",
       "    <tr style=\"text-align: right;\">\n",
       "      <th></th>\n",
       "      <th>industry_code</th>\n",
       "      <th>payann</th>\n",
       "      <th>estab</th>\n",
       "      <th>emp</th>\n",
       "      <th>ACID</th>\n",
       "      <th>ENRG</th>\n",
       "      <th>ETOX</th>\n",
       "      <th>EUTR</th>\n",
       "      <th>FOOD</th>\n",
       "      <th>GCC</th>\n",
       "      <th>...</th>\n",
       "      <th>322291</th>\n",
       "      <th>311230</th>\n",
       "      <th>332913</th>\n",
       "      <th>334300</th>\n",
       "      <th>335221</th>\n",
       "      <th>325413</th>\n",
       "      <th>333991</th>\n",
       "      <th>311221</th>\n",
       "      <th>335110</th>\n",
       "      <th>335224</th>\n",
       "    </tr>\n",
       "  </thead>\n",
       "  <tbody>\n",
       "    <tr>\n",
       "      <th>7029059</th>\n",
       "      <td>812200</td>\n",
       "      <td>0.000</td>\n",
       "      <td>1</td>\n",
       "      <td>0</td>\n",
       "      <td>0.000000</td>\n",
       "      <td>0.0</td>\n",
       "      <td>0.000000</td>\n",
       "      <td>0.000000e+00</td>\n",
       "      <td>0.000000</td>\n",
       "      <td>0.000000</td>\n",
       "      <td>...</td>\n",
       "      <td>0</td>\n",
       "      <td>0</td>\n",
       "      <td>0</td>\n",
       "      <td>0</td>\n",
       "      <td>0</td>\n",
       "      <td>0</td>\n",
       "      <td>0</td>\n",
       "      <td>0</td>\n",
       "      <td>0</td>\n",
       "      <td>0</td>\n",
       "    </tr>\n",
       "    <tr>\n",
       "      <th>7029060</th>\n",
       "      <td>812300</td>\n",
       "      <td>0.000</td>\n",
       "      <td>1</td>\n",
       "      <td>0</td>\n",
       "      <td>0.000000</td>\n",
       "      <td>0.0</td>\n",
       "      <td>0.000000</td>\n",
       "      <td>0.000000e+00</td>\n",
       "      <td>0.000000</td>\n",
       "      <td>0.000000</td>\n",
       "      <td>...</td>\n",
       "      <td>0</td>\n",
       "      <td>0</td>\n",
       "      <td>0</td>\n",
       "      <td>0</td>\n",
       "      <td>0</td>\n",
       "      <td>0</td>\n",
       "      <td>0</td>\n",
       "      <td>0</td>\n",
       "      <td>0</td>\n",
       "      <td>0</td>\n",
       "    </tr>\n",
       "    <tr>\n",
       "      <th>7029061</th>\n",
       "      <td>813100</td>\n",
       "      <td>0.177</td>\n",
       "      <td>8</td>\n",
       "      <td>15</td>\n",
       "      <td>0.000001</td>\n",
       "      <td>0.0</td>\n",
       "      <td>0.000001</td>\n",
       "      <td>1.472570e-07</td>\n",
       "      <td>0.000143</td>\n",
       "      <td>0.004671</td>\n",
       "      <td>...</td>\n",
       "      <td>0</td>\n",
       "      <td>0</td>\n",
       "      <td>0</td>\n",
       "      <td>0</td>\n",
       "      <td>0</td>\n",
       "      <td>0</td>\n",
       "      <td>0</td>\n",
       "      <td>0</td>\n",
       "      <td>0</td>\n",
       "      <td>0</td>\n",
       "    </tr>\n",
       "    <tr>\n",
       "      <th>7029062</th>\n",
       "      <td>813a00</td>\n",
       "      <td>0.000</td>\n",
       "      <td>1</td>\n",
       "      <td>0</td>\n",
       "      <td>0.000000</td>\n",
       "      <td>0.0</td>\n",
       "      <td>0.000000</td>\n",
       "      <td>0.000000e+00</td>\n",
       "      <td>0.000000</td>\n",
       "      <td>0.000000</td>\n",
       "      <td>...</td>\n",
       "      <td>0</td>\n",
       "      <td>0</td>\n",
       "      <td>0</td>\n",
       "      <td>0</td>\n",
       "      <td>0</td>\n",
       "      <td>0</td>\n",
       "      <td>0</td>\n",
       "      <td>0</td>\n",
       "      <td>0</td>\n",
       "      <td>0</td>\n",
       "    </tr>\n",
       "    <tr>\n",
       "      <th>7029063</th>\n",
       "      <td>813b00</td>\n",
       "      <td>0.000</td>\n",
       "      <td>2</td>\n",
       "      <td>0</td>\n",
       "      <td>0.000000</td>\n",
       "      <td>0.0</td>\n",
       "      <td>0.000000</td>\n",
       "      <td>0.000000e+00</td>\n",
       "      <td>0.000000</td>\n",
       "      <td>0.000000</td>\n",
       "      <td>...</td>\n",
       "      <td>0</td>\n",
       "      <td>0</td>\n",
       "      <td>0</td>\n",
       "      <td>0</td>\n",
       "      <td>0</td>\n",
       "      <td>0</td>\n",
       "      <td>0</td>\n",
       "      <td>0</td>\n",
       "      <td>0</td>\n",
       "      <td>0</td>\n",
       "    </tr>\n",
       "  </tbody>\n",
       "</table>\n",
       "<p>5 rows × 363 columns</p>\n",
       "</div>"
      ],
      "text/plain": [
       "        industry_code  payann  estab  emp      ACID  ENRG      ETOX  \\\n",
       "7029059        812200   0.000      1    0  0.000000   0.0  0.000000   \n",
       "7029060        812300   0.000      1    0  0.000000   0.0  0.000000   \n",
       "7029061        813100   0.177      8   15  0.000001   0.0  0.000001   \n",
       "7029062        813a00   0.000      1    0  0.000000   0.0  0.000000   \n",
       "7029063        813b00   0.000      2    0  0.000000   0.0  0.000000   \n",
       "\n",
       "                 EUTR      FOOD       GCC  ...  322291  311230  332913  \\\n",
       "7029059  0.000000e+00  0.000000  0.000000  ...       0       0       0   \n",
       "7029060  0.000000e+00  0.000000  0.000000  ...       0       0       0   \n",
       "7029061  1.472570e-07  0.000143  0.004671  ...       0       0       0   \n",
       "7029062  0.000000e+00  0.000000  0.000000  ...       0       0       0   \n",
       "7029063  0.000000e+00  0.000000  0.000000  ...       0       0       0   \n",
       "\n",
       "         334300  335221  325413  333991  311221  335110  335224  \n",
       "7029059       0       0       0       0       0       0       0  \n",
       "7029060       0       0       0       0       0       0       0  \n",
       "7029061       0       0       0       0       0       0       0  \n",
       "7029062       0       0       0       0       0       0       0  \n",
       "7029063       0       0       0       0       0       0       0  \n",
       "\n",
       "[5 rows x 363 columns]"
      ]
     },
     "execution_count": 11,
     "metadata": {},
     "output_type": "execute_result"
    }
   ],
   "source": [
    "dataset.tail()"
   ]
  },
  {
   "cell_type": "code",
   "execution_count": 12,
   "metadata": {},
   "outputs": [],
   "source": [
    "def set_one_hot(row):\n",
    "    row[row['industry_code']] = 1\n",
    "    return row"
   ]
  },
  {
   "cell_type": "code",
   "execution_count": 13,
   "metadata": {},
   "outputs": [],
   "source": [
    "dataset = dataset.apply(set_one_hot, axis=1)"
   ]
  },
  {
   "cell_type": "code",
   "execution_count": 14,
   "metadata": {},
   "outputs": [
    {
     "data": {
      "text/plain": [
       "335"
      ]
     },
     "execution_count": 14,
     "metadata": {},
     "output_type": "execute_result"
    }
   ],
   "source": [
    "len(dataset['industry_code'].unique())"
   ]
  },
  {
   "cell_type": "code",
   "execution_count": 15,
   "metadata": {},
   "outputs": [
    {
     "data": {
      "text/html": [
       "<div>\n",
       "<style scoped>\n",
       "    .dataframe tbody tr th:only-of-type {\n",
       "        vertical-align: middle;\n",
       "    }\n",
       "\n",
       "    .dataframe tbody tr th {\n",
       "        vertical-align: top;\n",
       "    }\n",
       "\n",
       "    .dataframe thead th {\n",
       "        text-align: right;\n",
       "    }\n",
       "</style>\n",
       "<table border=\"1\" class=\"dataframe\">\n",
       "  <thead>\n",
       "    <tr style=\"text-align: right;\">\n",
       "      <th></th>\n",
       "      <th>industry_code</th>\n",
       "      <th>payann</th>\n",
       "      <th>estab</th>\n",
       "      <th>emp</th>\n",
       "      <th>ACID</th>\n",
       "      <th>ENRG</th>\n",
       "      <th>ETOX</th>\n",
       "      <th>EUTR</th>\n",
       "      <th>FOOD</th>\n",
       "      <th>GCC</th>\n",
       "      <th>...</th>\n",
       "      <th>322291</th>\n",
       "      <th>311230</th>\n",
       "      <th>332913</th>\n",
       "      <th>334300</th>\n",
       "      <th>335221</th>\n",
       "      <th>325413</th>\n",
       "      <th>333991</th>\n",
       "      <th>311221</th>\n",
       "      <th>335110</th>\n",
       "      <th>335224</th>\n",
       "    </tr>\n",
       "  </thead>\n",
       "  <tbody>\n",
       "    <tr>\n",
       "      <th>7029059</th>\n",
       "      <td>812200</td>\n",
       "      <td>0.000</td>\n",
       "      <td>1</td>\n",
       "      <td>0</td>\n",
       "      <td>0.000000</td>\n",
       "      <td>0.0</td>\n",
       "      <td>0.000000</td>\n",
       "      <td>0.000000e+00</td>\n",
       "      <td>0.000000</td>\n",
       "      <td>0.000000</td>\n",
       "      <td>...</td>\n",
       "      <td>0</td>\n",
       "      <td>0</td>\n",
       "      <td>0</td>\n",
       "      <td>0</td>\n",
       "      <td>0</td>\n",
       "      <td>0</td>\n",
       "      <td>0</td>\n",
       "      <td>0</td>\n",
       "      <td>0</td>\n",
       "      <td>0</td>\n",
       "    </tr>\n",
       "    <tr>\n",
       "      <th>7029060</th>\n",
       "      <td>812300</td>\n",
       "      <td>0.000</td>\n",
       "      <td>1</td>\n",
       "      <td>0</td>\n",
       "      <td>0.000000</td>\n",
       "      <td>0.0</td>\n",
       "      <td>0.000000</td>\n",
       "      <td>0.000000e+00</td>\n",
       "      <td>0.000000</td>\n",
       "      <td>0.000000</td>\n",
       "      <td>...</td>\n",
       "      <td>0</td>\n",
       "      <td>0</td>\n",
       "      <td>0</td>\n",
       "      <td>0</td>\n",
       "      <td>0</td>\n",
       "      <td>0</td>\n",
       "      <td>0</td>\n",
       "      <td>0</td>\n",
       "      <td>0</td>\n",
       "      <td>0</td>\n",
       "    </tr>\n",
       "    <tr>\n",
       "      <th>7029061</th>\n",
       "      <td>813100</td>\n",
       "      <td>0.177</td>\n",
       "      <td>8</td>\n",
       "      <td>15</td>\n",
       "      <td>0.000001</td>\n",
       "      <td>0.0</td>\n",
       "      <td>0.000001</td>\n",
       "      <td>1.472570e-07</td>\n",
       "      <td>0.000143</td>\n",
       "      <td>0.004671</td>\n",
       "      <td>...</td>\n",
       "      <td>0</td>\n",
       "      <td>0</td>\n",
       "      <td>0</td>\n",
       "      <td>0</td>\n",
       "      <td>0</td>\n",
       "      <td>0</td>\n",
       "      <td>0</td>\n",
       "      <td>0</td>\n",
       "      <td>0</td>\n",
       "      <td>0</td>\n",
       "    </tr>\n",
       "    <tr>\n",
       "      <th>7029062</th>\n",
       "      <td>813a00</td>\n",
       "      <td>0.000</td>\n",
       "      <td>1</td>\n",
       "      <td>0</td>\n",
       "      <td>0.000000</td>\n",
       "      <td>0.0</td>\n",
       "      <td>0.000000</td>\n",
       "      <td>0.000000e+00</td>\n",
       "      <td>0.000000</td>\n",
       "      <td>0.000000</td>\n",
       "      <td>...</td>\n",
       "      <td>0</td>\n",
       "      <td>0</td>\n",
       "      <td>0</td>\n",
       "      <td>0</td>\n",
       "      <td>0</td>\n",
       "      <td>0</td>\n",
       "      <td>0</td>\n",
       "      <td>0</td>\n",
       "      <td>0</td>\n",
       "      <td>0</td>\n",
       "    </tr>\n",
       "    <tr>\n",
       "      <th>7029063</th>\n",
       "      <td>813b00</td>\n",
       "      <td>0.000</td>\n",
       "      <td>2</td>\n",
       "      <td>0</td>\n",
       "      <td>0.000000</td>\n",
       "      <td>0.0</td>\n",
       "      <td>0.000000</td>\n",
       "      <td>0.000000e+00</td>\n",
       "      <td>0.000000</td>\n",
       "      <td>0.000000</td>\n",
       "      <td>...</td>\n",
       "      <td>0</td>\n",
       "      <td>0</td>\n",
       "      <td>0</td>\n",
       "      <td>0</td>\n",
       "      <td>0</td>\n",
       "      <td>0</td>\n",
       "      <td>0</td>\n",
       "      <td>0</td>\n",
       "      <td>0</td>\n",
       "      <td>0</td>\n",
       "    </tr>\n",
       "  </tbody>\n",
       "</table>\n",
       "<p>5 rows × 363 columns</p>\n",
       "</div>"
      ],
      "text/plain": [
       "        industry_code  payann  estab  emp      ACID  ENRG      ETOX  \\\n",
       "7029059        812200   0.000      1    0  0.000000   0.0  0.000000   \n",
       "7029060        812300   0.000      1    0  0.000000   0.0  0.000000   \n",
       "7029061        813100   0.177      8   15  0.000001   0.0  0.000001   \n",
       "7029062        813a00   0.000      1    0  0.000000   0.0  0.000000   \n",
       "7029063        813b00   0.000      2    0  0.000000   0.0  0.000000   \n",
       "\n",
       "                 EUTR      FOOD       GCC  ...  322291  311230  332913  \\\n",
       "7029059  0.000000e+00  0.000000  0.000000  ...       0       0       0   \n",
       "7029060  0.000000e+00  0.000000  0.000000  ...       0       0       0   \n",
       "7029061  1.472570e-07  0.000143  0.004671  ...       0       0       0   \n",
       "7029062  0.000000e+00  0.000000  0.000000  ...       0       0       0   \n",
       "7029063  0.000000e+00  0.000000  0.000000  ...       0       0       0   \n",
       "\n",
       "         334300  335221  325413  333991  311221  335110  335224  \n",
       "7029059       0       0       0       0       0       0       0  \n",
       "7029060       0       0       0       0       0       0       0  \n",
       "7029061       0       0       0       0       0       0       0  \n",
       "7029062       0       0       0       0       0       0       0  \n",
       "7029063       0       0       0       0       0       0       0  \n",
       "\n",
       "[5 rows x 363 columns]"
      ]
     },
     "execution_count": 15,
     "metadata": {},
     "output_type": "execute_result"
    }
   ],
   "source": [
    "dataset.tail()"
   ]
  },
  {
   "cell_type": "code",
   "execution_count": 16,
   "metadata": {},
   "outputs": [],
   "source": [
    "#print(list(dataset.columns))"
   ]
  },
  {
   "cell_type": "markdown",
   "metadata": {},
   "source": [
    "## Partitionning our dataset into train and test sets"
   ]
  },
  {
   "cell_type": "code",
   "execution_count": 17,
   "metadata": {},
   "outputs": [
    {
     "name": "stdout",
     "output_type": "stream",
     "text": [
      "XTrain (213966, 338)\n",
      "XTest (91700, 338)\n"
     ]
    }
   ],
   "source": [
    "from sklearn.model_selection import train_test_split\n",
    "from sklearn.preprocessing import StandardScaler\n",
    "\n",
    "x1 = pd.concat([dataset.loc[:, 'payann':'emp'], dataset.loc[:, '113000':]], axis=1)\n",
    "y = dataset.loc[:, 'ACID':'WATR']\n",
    "\n",
    "X_train1, X_test1, y_train, y_test = train_test_split(x1, y,\n",
    "                                                    test_size=0.3,\n",
    "                                                    random_state = RSEED)\n",
    "\n",
    "scaler = StandardScaler()\n",
    "scaler.fit(X_train1)\n",
    "\n",
    "X_train = scaler.transform(X_train1)\n",
    "X_test = scaler.transform(X_test1)\n",
    "\n",
    "print(\"XTrain\",X_train.shape)\n",
    "print(\"XTest\",X_test.shape)"
   ]
  },
  {
   "cell_type": "markdown",
   "metadata": {},
   "source": [
    "## Linear Regression"
   ]
  },
  {
   "cell_type": "markdown",
   "metadata": {},
   "source": [
    "### Scaled X_train and X_test"
   ]
  },
  {
   "cell_type": "code",
   "execution_count": 18,
   "metadata": {},
   "outputs": [
    {
     "data": {
      "text/plain": [
       "LinearRegression(copy_X=True, fit_intercept=True, n_jobs=None, normalize=False)"
      ]
     },
     "execution_count": 18,
     "metadata": {},
     "output_type": "execute_result"
    }
   ],
   "source": [
    "from sklearn.linear_model import LinearRegression\n",
    "\n",
    "lr_scaled = LinearRegression()\n",
    "\n",
    "lr_scaled.fit(X_train, y_train)"
   ]
  },
  {
   "cell_type": "code",
   "execution_count": 19,
   "metadata": {},
   "outputs": [
    {
     "name": "stdout",
     "output_type": "stream",
     "text": [
      "r2_score Train using metrics.r2_score: 0.11104506552127728\n",
      "r2_score Train using built in score fct: 0.021568898946116938\n",
      "\n",
      "r2_score Test using metrics.r2_score: 0.11149949476922068\n",
      "r2_score Test using built in score fct: 0.0388868300359007\n"
     ]
    },
    {
     "name": "stderr",
     "output_type": "stream",
     "text": [
      "/Users/ghitafilali/anaconda3/envs/cse6242/lib/python3.7/site-packages/sklearn/base.py:434: FutureWarning: The default value of multioutput (not exposed in score method) will change from 'variance_weighted' to 'uniform_average' in 0.23 to keep consistent with 'metrics.r2_score'. To specify the default value manually and avoid the warning, please either call 'metrics.r2_score' directly or make a custom scorer with 'metrics.make_scorer' (the built-in scorer 'r2' uses multioutput='uniform_average').\n",
      "  \"multioutput='uniform_average').\", FutureWarning)\n",
      "/Users/ghitafilali/anaconda3/envs/cse6242/lib/python3.7/site-packages/sklearn/base.py:434: FutureWarning: The default value of multioutput (not exposed in score method) will change from 'variance_weighted' to 'uniform_average' in 0.23 to keep consistent with 'metrics.r2_score'. To specify the default value manually and avoid the warning, please either call 'metrics.r2_score' directly or make a custom scorer with 'metrics.make_scorer' (the built-in scorer 'r2' uses multioutput='uniform_average').\n",
      "  \"multioutput='uniform_average').\", FutureWarning)\n"
     ]
    }
   ],
   "source": [
    "from sklearn import metrics\n",
    "train_rf_predictions = lr_scaled.predict(X_train)\n",
    "rf_predictions = lr_scaled.predict(X_test)\n",
    "r2_train = metrics.r2_score(y_train, train_rf_predictions)\n",
    "\n",
    "r2_test = metrics.r2_score(y_test, rf_predictions)\n",
    "\n",
    "print('r2_score Train using metrics.r2_score:',r2_train)\n",
    "print('r2_score Train using built in score fct:', lr_scaled.score(X_train, y_train))\n",
    "print()\n",
    "\n",
    "print('r2_score Test using metrics.r2_score:', r2_test)\n",
    "print('r2_score Test using built in score fct:', lr_scaled.score(X_test, y_test))"
   ]
  },
  {
   "cell_type": "code",
   "execution_count": 20,
   "metadata": {},
   "outputs": [
    {
     "data": {
      "text/plain": [
       "array([ 0.11879998,  0.10921225, -0.45351674,  0.11607987,  0.1152629 ])"
      ]
     },
     "execution_count": 20,
     "metadata": {},
     "output_type": "execute_result"
    }
   ],
   "source": [
    "from sklearn.model_selection import cross_val_score\n",
    "\n",
    "cross_val_score(lr_scaled, scaler.transform(x1), y, cv=5, scoring='r2')"
   ]
  },
  {
   "cell_type": "markdown",
   "metadata": {},
   "source": [
    "### Not scaled X_train and X_test"
   ]
  },
  {
   "cell_type": "code",
   "execution_count": 21,
   "metadata": {},
   "outputs": [
    {
     "data": {
      "text/plain": [
       "LinearRegression(copy_X=True, fit_intercept=True, n_jobs=None, normalize=False)"
      ]
     },
     "execution_count": 21,
     "metadata": {},
     "output_type": "execute_result"
    }
   ],
   "source": [
    "lr_not_scaled = LinearRegression()\n",
    "\n",
    "lr_not_scaled.fit(X_train1, y_train)"
   ]
  },
  {
   "cell_type": "code",
   "execution_count": 22,
   "metadata": {},
   "outputs": [
    {
     "name": "stdout",
     "output_type": "stream",
     "text": [
      "r2_score Train: 0.11104523851276588\n",
      "\n",
      "r2_score Test: 0.11150001835481553\n"
     ]
    }
   ],
   "source": [
    "from sklearn import metrics\n",
    "train_rf_predictions = lr_not_scaled.predict(X_train1)\n",
    "rf_predictions = lr_not_scaled.predict(X_test1)\n",
    "MAE_train = metrics.mean_absolute_error(y_train, train_rf_predictions)\n",
    "RMSE_train = np.sqrt(metrics.mean_squared_error(y_train, train_rf_predictions))\n",
    "MAPE_train = 100 * np.mean(abs(train_rf_predictions - y_train)/abs(y_train))\n",
    "accuracy_train = 100 - MAPE_train\n",
    "r2_train = metrics.r2_score(y_train, train_rf_predictions)\n",
    "\n",
    "MAE_test = metrics.mean_absolute_error(y_test, rf_predictions)\n",
    "RMSE_test = np.sqrt(metrics.mean_squared_error(y_test, rf_predictions))\n",
    "MAPE_test = 100 * np.mean(abs(rf_predictions - y_test)/abs(y_test))\n",
    "accuracy_test = 100 - MAPE_test\n",
    "r2_test = metrics.r2_score(y_test, rf_predictions)\n",
    "#print('Mean Absolute Error Train:', MAE_train)    \n",
    "#print('Root Mean Squared Error Train:', RMSE_train)\n",
    "#print('Mean Absolute Percentage Error Train:', MAPE_train)\n",
    "print('r2_score Train:',r2_train)\n",
    "print()\n",
    "\n",
    "print('r2_score Test:', r2_test)"
   ]
  },
  {
   "cell_type": "code",
   "execution_count": 23,
   "metadata": {},
   "outputs": [
    {
     "data": {
      "text/plain": [
       "array([ 0.11880062,  0.10921096, -0.45353114,  0.11607893,  0.11526358])"
      ]
     },
     "execution_count": 23,
     "metadata": {},
     "output_type": "execute_result"
    }
   ],
   "source": [
    "cross_val_score(lr_not_scaled, x1, y, cv=5, scoring='r2')"
   ]
  },
  {
   "cell_type": "code",
   "execution_count": null,
   "metadata": {},
   "outputs": [],
   "source": []
  }
 ],
 "metadata": {
  "kernelspec": {
   "display_name": "Python 3",
   "language": "python",
   "name": "python3"
  },
  "language_info": {
   "codemirror_mode": {
    "name": "ipython",
    "version": 3
   },
   "file_extension": ".py",
   "mimetype": "text/x-python",
   "name": "python",
   "nbconvert_exporter": "python",
   "pygments_lexer": "ipython3",
   "version": "3.7.7"
  }
 },
 "nbformat": 4,
 "nbformat_minor": 4
}
