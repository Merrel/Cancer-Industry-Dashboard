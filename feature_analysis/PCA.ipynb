{
 "cells": [
  {
   "cell_type": "markdown",
   "metadata": {},
   "source": [
    "# PCA: finding out which features are the most important"
   ]
  },
  {
   "cell_type": "code",
   "execution_count": 34,
   "metadata": {},
   "outputs": [],
   "source": [
    "import pandas as pd\n",
    "import matplotlib.pyplot as plt\n",
    "import seaborn as sns\n",
    "from sklearn.decomposition import PCA"
   ]
  },
  {
   "cell_type": "markdown",
   "metadata": {},
   "source": [
    "## Part 1: Importing the data and exploring it"
   ]
  },
  {
   "cell_type": "markdown",
   "metadata": {},
   "source": [
    "### Importing cancer data"
   ]
  },
  {
   "cell_type": "code",
   "execution_count": 2,
   "metadata": {},
   "outputs": [
    {
     "data": {
      "text/html": [
       "<div>\n",
       "<style scoped>\n",
       "    .dataframe tbody tr th:only-of-type {\n",
       "        vertical-align: middle;\n",
       "    }\n",
       "\n",
       "    .dataframe tbody tr th {\n",
       "        vertical-align: top;\n",
       "    }\n",
       "\n",
       "    .dataframe thead th {\n",
       "        text-align: right;\n",
       "    }\n",
       "</style>\n",
       "<table border=\"1\" class=\"dataframe\">\n",
       "  <thead>\n",
       "    <tr style=\"text-align: right;\">\n",
       "      <th></th>\n",
       "      <th>locale</th>\n",
       "      <th>fips</th>\n",
       "      <th>met_health_obj</th>\n",
       "      <th>incidence rate_per_100000</th>\n",
       "      <th>incidence rate_lower_95_confidence</th>\n",
       "      <th>incidence rate_upper_95_confidence</th>\n",
       "      <th>annual_count_avg</th>\n",
       "      <th>recent_trend_str</th>\n",
       "      <th>trend_last_5</th>\n",
       "      <th>trend_last_5_lower_95_confidence</th>\n",
       "      <th>...</th>\n",
       "      <th>cancer</th>\n",
       "      <th>file_name</th>\n",
       "      <th>race</th>\n",
       "      <th>sex</th>\n",
       "      <th>source_url</th>\n",
       "      <th>stage</th>\n",
       "      <th>stateFIPS</th>\n",
       "      <th>type</th>\n",
       "      <th>state</th>\n",
       "      <th>cancer_description</th>\n",
       "    </tr>\n",
       "  </thead>\n",
       "  <tbody>\n",
       "    <tr>\n",
       "      <th>0</th>\n",
       "      <td>US (SEER+NPCR)(1,10)</td>\n",
       "      <td>0.0</td>\n",
       "      <td>***</td>\n",
       "      <td>448.0</td>\n",
       "      <td>447.7</td>\n",
       "      <td>448.4</td>\n",
       "      <td>1638110.0</td>\n",
       "      <td>falling</td>\n",
       "      <td>-0.9</td>\n",
       "      <td>-1.6</td>\n",
       "      <td>...</td>\n",
       "      <td>1</td>\n",
       "      <td>incidencerates_000.csv</td>\n",
       "      <td>0</td>\n",
       "      <td>0</td>\n",
       "      <td>https://www.statecancerprofiles.cancer.gov/inc...</td>\n",
       "      <td>NaN</td>\n",
       "      <td>29</td>\n",
       "      <td>incd</td>\n",
       "      <td>missouri</td>\n",
       "      <td>All Cancer Sites</td>\n",
       "    </tr>\n",
       "    <tr>\n",
       "      <th>1</th>\n",
       "      <td>US (SEER+NPCR)(1,10)</td>\n",
       "      <td>0.0</td>\n",
       "      <td>***</td>\n",
       "      <td>11.7</td>\n",
       "      <td>11.7</td>\n",
       "      <td>11.8</td>\n",
       "      <td>43864</td>\n",
       "      <td>stable</td>\n",
       "      <td>0.5</td>\n",
       "      <td>-0.7</td>\n",
       "      <td>...</td>\n",
       "      <td>3</td>\n",
       "      <td>incidencerates_016.csv</td>\n",
       "      <td>0</td>\n",
       "      <td>0</td>\n",
       "      <td>https://www.statecancerprofiles.cancer.gov/inc...</td>\n",
       "      <td>NaN</td>\n",
       "      <td>29</td>\n",
       "      <td>incd</td>\n",
       "      <td>missouri</td>\n",
       "      <td>Oral Cavity &amp; Pharynx</td>\n",
       "    </tr>\n",
       "    <tr>\n",
       "      <th>2</th>\n",
       "      <td>US (SEER+NPCR)(1,10)</td>\n",
       "      <td>0.0</td>\n",
       "      <td>***</td>\n",
       "      <td>4.5</td>\n",
       "      <td>4.5</td>\n",
       "      <td>4.6</td>\n",
       "      <td>17084</td>\n",
       "      <td>stable</td>\n",
       "      <td>-0.8</td>\n",
       "      <td>-1.6</td>\n",
       "      <td>...</td>\n",
       "      <td>17</td>\n",
       "      <td>incidencerates_009.csv</td>\n",
       "      <td>0</td>\n",
       "      <td>0</td>\n",
       "      <td>https://www.statecancerprofiles.cancer.gov/inc...</td>\n",
       "      <td>NaN</td>\n",
       "      <td>29</td>\n",
       "      <td>incd</td>\n",
       "      <td>missouri</td>\n",
       "      <td>Esophagus</td>\n",
       "    </tr>\n",
       "    <tr>\n",
       "      <th>3</th>\n",
       "      <td>US (SEER+NPCR)(1,10)</td>\n",
       "      <td>0.0</td>\n",
       "      <td>***</td>\n",
       "      <td>6.6</td>\n",
       "      <td>6.5</td>\n",
       "      <td>6.6</td>\n",
       "      <td>23871</td>\n",
       "      <td>falling</td>\n",
       "      <td>-1.3</td>\n",
       "      <td>-2.0</td>\n",
       "      <td>...</td>\n",
       "      <td>18</td>\n",
       "      <td>incidencerates_020.csv</td>\n",
       "      <td>0</td>\n",
       "      <td>0</td>\n",
       "      <td>https://www.statecancerprofiles.cancer.gov/inc...</td>\n",
       "      <td>NaN</td>\n",
       "      <td>29</td>\n",
       "      <td>incd</td>\n",
       "      <td>missouri</td>\n",
       "      <td>Stomach</td>\n",
       "    </tr>\n",
       "    <tr>\n",
       "      <th>4</th>\n",
       "      <td>US (SEER+NPCR)(1,10)</td>\n",
       "      <td>0.0</td>\n",
       "      <td>Yes</td>\n",
       "      <td>38.7</td>\n",
       "      <td>38.6</td>\n",
       "      <td>38.8</td>\n",
       "      <td>140982</td>\n",
       "      <td>falling</td>\n",
       "      <td>-1.3</td>\n",
       "      <td>-2.1</td>\n",
       "      <td>...</td>\n",
       "      <td>20</td>\n",
       "      <td>incidencerates_008.csv</td>\n",
       "      <td>0</td>\n",
       "      <td>0</td>\n",
       "      <td>https://www.statecancerprofiles.cancer.gov/inc...</td>\n",
       "      <td>NaN</td>\n",
       "      <td>29</td>\n",
       "      <td>incd</td>\n",
       "      <td>missouri</td>\n",
       "      <td>Colon &amp; Rectum</td>\n",
       "    </tr>\n",
       "  </tbody>\n",
       "</table>\n",
       "<p>5 rows × 23 columns</p>\n",
       "</div>"
      ],
      "text/plain": [
       "                 locale  fips met_health_obj incidence rate_per_100000  \\\n",
       "0  US (SEER+NPCR)(1,10)   0.0            ***                     448.0   \n",
       "1  US (SEER+NPCR)(1,10)   0.0            ***                     11.7    \n",
       "2  US (SEER+NPCR)(1,10)   0.0            ***                      4.5    \n",
       "3  US (SEER+NPCR)(1,10)   0.0            ***                      6.6    \n",
       "4  US (SEER+NPCR)(1,10)   0.0            Yes                     38.7    \n",
       "\n",
       "  incidence rate_lower_95_confidence incidence rate_upper_95_confidence  \\\n",
       "0                              447.7                              448.4   \n",
       "1                               11.7                               11.8   \n",
       "2                                4.5                                4.6   \n",
       "3                                6.5                                6.6   \n",
       "4                               38.6                               38.8   \n",
       "\n",
       "  annual_count_avg recent_trend_str trend_last_5  \\\n",
       "0        1638110.0          falling         -0.9   \n",
       "1            43864           stable         0.5    \n",
       "2            17084           stable        -0.8    \n",
       "3            23871          falling        -1.3    \n",
       "4           140982          falling        -1.3    \n",
       "\n",
       "  trend_last_5_lower_95_confidence  ... cancer               file_name race  \\\n",
       "0                             -1.6  ...      1  incidencerates_000.csv    0   \n",
       "1                             -0.7  ...      3  incidencerates_016.csv    0   \n",
       "2                             -1.6  ...     17  incidencerates_009.csv    0   \n",
       "3                             -2.0  ...     18  incidencerates_020.csv    0   \n",
       "4                             -2.1  ...     20  incidencerates_008.csv    0   \n",
       "\n",
       "   sex                                         source_url  stage  stateFIPS  \\\n",
       "0    0  https://www.statecancerprofiles.cancer.gov/inc...    NaN         29   \n",
       "1    0  https://www.statecancerprofiles.cancer.gov/inc...    NaN         29   \n",
       "2    0  https://www.statecancerprofiles.cancer.gov/inc...    NaN         29   \n",
       "3    0  https://www.statecancerprofiles.cancer.gov/inc...    NaN         29   \n",
       "4    0  https://www.statecancerprofiles.cancer.gov/inc...    NaN         29   \n",
       "\n",
       "   type     state     cancer_description  \n",
       "0  incd  missouri       All Cancer Sites  \n",
       "1  incd  missouri  Oral Cavity & Pharynx  \n",
       "2  incd  missouri              Esophagus  \n",
       "3  incd  missouri                Stomach  \n",
       "4  incd  missouri         Colon & Rectum  \n",
       "\n",
       "[5 rows x 23 columns]"
      ]
     },
     "execution_count": 2,
     "metadata": {},
     "output_type": "execute_result"
    }
   ],
   "source": [
    "cancer_data = pd.read_csv(\"../data_clean/CDC_CancerByCounty/incidencerates/cancer_by_type.csv\")\n",
    "cancer_data.head()"
   ]
  },
  {
   "cell_type": "code",
   "execution_count": 3,
   "metadata": {},
   "outputs": [
    {
     "data": {
      "text/plain": [
       "Index(['locale', 'fips', 'met_health_obj', 'incidence rate_per_100000',\n",
       "       'incidence rate_lower_95_confidence',\n",
       "       'incidence rate_upper_95_confidence', 'annual_count_avg',\n",
       "       'recent_trend_str', 'trend_last_5', 'trend_last_5_lower_95_confidence',\n",
       "       'trend_last_5_upper_95_confidence', 'age', 'areatype', 'cancer',\n",
       "       'file_name', 'race', 'sex', 'source_url', 'stage', 'stateFIPS', 'type',\n",
       "       'state', 'cancer_description'],\n",
       "      dtype='object')"
      ]
     },
     "execution_count": 3,
     "metadata": {},
     "output_type": "execute_result"
    }
   ],
   "source": [
    "cancer_data.columns"
   ]
  },
  {
   "cell_type": "code",
   "execution_count": 4,
   "metadata": {},
   "outputs": [
    {
     "data": {
      "text/html": [
       "<div>\n",
       "<style scoped>\n",
       "    .dataframe tbody tr th:only-of-type {\n",
       "        vertical-align: middle;\n",
       "    }\n",
       "\n",
       "    .dataframe tbody tr th {\n",
       "        vertical-align: top;\n",
       "    }\n",
       "\n",
       "    .dataframe thead th {\n",
       "        text-align: right;\n",
       "    }\n",
       "</style>\n",
       "<table border=\"1\" class=\"dataframe\">\n",
       "  <thead>\n",
       "    <tr style=\"text-align: right;\">\n",
       "      <th></th>\n",
       "      <th>locale</th>\n",
       "      <th>fips</th>\n",
       "      <th>annual_count_avg</th>\n",
       "      <th>areatype</th>\n",
       "      <th>cancer</th>\n",
       "      <th>stateFIPS</th>\n",
       "      <th>state</th>\n",
       "      <th>cancer_description</th>\n",
       "    </tr>\n",
       "  </thead>\n",
       "  <tbody>\n",
       "    <tr>\n",
       "      <th>0</th>\n",
       "      <td>US (SEER+NPCR)(1,10)</td>\n",
       "      <td>0.0</td>\n",
       "      <td>1638110.0</td>\n",
       "      <td>country</td>\n",
       "      <td>1</td>\n",
       "      <td>29</td>\n",
       "      <td>missouri</td>\n",
       "      <td>All Cancer Sites</td>\n",
       "    </tr>\n",
       "    <tr>\n",
       "      <th>1</th>\n",
       "      <td>US (SEER+NPCR)(1,10)</td>\n",
       "      <td>0.0</td>\n",
       "      <td>43864</td>\n",
       "      <td>country</td>\n",
       "      <td>3</td>\n",
       "      <td>29</td>\n",
       "      <td>missouri</td>\n",
       "      <td>Oral Cavity &amp; Pharynx</td>\n",
       "    </tr>\n",
       "    <tr>\n",
       "      <th>2</th>\n",
       "      <td>US (SEER+NPCR)(1,10)</td>\n",
       "      <td>0.0</td>\n",
       "      <td>17084</td>\n",
       "      <td>country</td>\n",
       "      <td>17</td>\n",
       "      <td>29</td>\n",
       "      <td>missouri</td>\n",
       "      <td>Esophagus</td>\n",
       "    </tr>\n",
       "    <tr>\n",
       "      <th>3</th>\n",
       "      <td>US (SEER+NPCR)(1,10)</td>\n",
       "      <td>0.0</td>\n",
       "      <td>23871</td>\n",
       "      <td>country</td>\n",
       "      <td>18</td>\n",
       "      <td>29</td>\n",
       "      <td>missouri</td>\n",
       "      <td>Stomach</td>\n",
       "    </tr>\n",
       "    <tr>\n",
       "      <th>4</th>\n",
       "      <td>US (SEER+NPCR)(1,10)</td>\n",
       "      <td>0.0</td>\n",
       "      <td>140982</td>\n",
       "      <td>country</td>\n",
       "      <td>20</td>\n",
       "      <td>29</td>\n",
       "      <td>missouri</td>\n",
       "      <td>Colon &amp; Rectum</td>\n",
       "    </tr>\n",
       "  </tbody>\n",
       "</table>\n",
       "</div>"
      ],
      "text/plain": [
       "                 locale  fips annual_count_avg areatype  cancer  stateFIPS  \\\n",
       "0  US (SEER+NPCR)(1,10)   0.0        1638110.0  country       1         29   \n",
       "1  US (SEER+NPCR)(1,10)   0.0            43864  country       3         29   \n",
       "2  US (SEER+NPCR)(1,10)   0.0            17084  country      17         29   \n",
       "3  US (SEER+NPCR)(1,10)   0.0            23871  country      18         29   \n",
       "4  US (SEER+NPCR)(1,10)   0.0           140982  country      20         29   \n",
       "\n",
       "      state     cancer_description  \n",
       "0  missouri       All Cancer Sites  \n",
       "1  missouri  Oral Cavity & Pharynx  \n",
       "2  missouri              Esophagus  \n",
       "3  missouri                Stomach  \n",
       "4  missouri         Colon & Rectum  "
      ]
     },
     "execution_count": 4,
     "metadata": {},
     "output_type": "execute_result"
    }
   ],
   "source": [
    "cancer_data = cancer_data[['locale', 'fips', 'annual_count_avg', 'areatype', 'cancer', 'stateFIPS',\n",
    "       'state', 'cancer_description']]\n",
    "cancer_data.head()"
   ]
  },
  {
   "cell_type": "code",
   "execution_count": 5,
   "metadata": {},
   "outputs": [
    {
     "data": {
      "text/html": [
       "<div>\n",
       "<style scoped>\n",
       "    .dataframe tbody tr th:only-of-type {\n",
       "        vertical-align: middle;\n",
       "    }\n",
       "\n",
       "    .dataframe tbody tr th {\n",
       "        vertical-align: top;\n",
       "    }\n",
       "\n",
       "    .dataframe thead th {\n",
       "        text-align: right;\n",
       "    }\n",
       "</style>\n",
       "<table border=\"1\" class=\"dataframe\">\n",
       "  <thead>\n",
       "    <tr style=\"text-align: right;\">\n",
       "      <th></th>\n",
       "      <th>locale</th>\n",
       "      <th>fips</th>\n",
       "      <th>annual_count_avg</th>\n",
       "      <th>areatype</th>\n",
       "      <th>cancer</th>\n",
       "      <th>stateFIPS</th>\n",
       "      <th>state</th>\n",
       "      <th>cancer_description</th>\n",
       "    </tr>\n",
       "  </thead>\n",
       "  <tbody>\n",
       "    <tr>\n",
       "      <th>52656</th>\n",
       "      <td>Weston County(6,10)</td>\n",
       "      <td>56045.0</td>\n",
       "      <td>3 or fewer</td>\n",
       "      <td>county</td>\n",
       "      <td>86</td>\n",
       "      <td>56</td>\n",
       "      <td>wyoming</td>\n",
       "      <td>Non-Hodgkin Lymphoma</td>\n",
       "    </tr>\n",
       "    <tr>\n",
       "      <th>52657</th>\n",
       "      <td>Weston County(6,10)</td>\n",
       "      <td>56045.0</td>\n",
       "      <td>3 or fewer</td>\n",
       "      <td>county</td>\n",
       "      <td>90</td>\n",
       "      <td>56</td>\n",
       "      <td>wyoming</td>\n",
       "      <td>Leukemia</td>\n",
       "    </tr>\n",
       "    <tr>\n",
       "      <th>52658</th>\n",
       "      <td>Weston County(6,10)</td>\n",
       "      <td>56045.0</td>\n",
       "      <td>3 or fewer</td>\n",
       "      <td>county</td>\n",
       "      <td>400</td>\n",
       "      <td>56</td>\n",
       "      <td>wyoming</td>\n",
       "      <td>Breast (in situ) (Female)</td>\n",
       "    </tr>\n",
       "    <tr>\n",
       "      <th>52659</th>\n",
       "      <td>Weston County(6,10)</td>\n",
       "      <td>56045.0</td>\n",
       "      <td>3 or fewer</td>\n",
       "      <td>county</td>\n",
       "      <td>515</td>\n",
       "      <td>56</td>\n",
       "      <td>wyoming</td>\n",
       "      <td>Childhood (Ages &lt;20, All Sites)</td>\n",
       "    </tr>\n",
       "    <tr>\n",
       "      <th>52660</th>\n",
       "      <td>Weston County(6,10)</td>\n",
       "      <td>56045.0</td>\n",
       "      <td>3 or fewer</td>\n",
       "      <td>county</td>\n",
       "      <td>516</td>\n",
       "      <td>56</td>\n",
       "      <td>wyoming</td>\n",
       "      <td>Childhood (Ages &lt;15, All Sites)</td>\n",
       "    </tr>\n",
       "  </tbody>\n",
       "</table>\n",
       "</div>"
      ],
      "text/plain": [
       "                    locale     fips annual_count_avg areatype  cancer  \\\n",
       "52656  Weston County(6,10)  56045.0       3 or fewer   county      86   \n",
       "52657  Weston County(6,10)  56045.0       3 or fewer   county      90   \n",
       "52658  Weston County(6,10)  56045.0       3 or fewer   county     400   \n",
       "52659  Weston County(6,10)  56045.0       3 or fewer   county     515   \n",
       "52660  Weston County(6,10)  56045.0       3 or fewer   county     516   \n",
       "\n",
       "       stateFIPS    state               cancer_description  \n",
       "52656         56  wyoming             Non-Hodgkin Lymphoma  \n",
       "52657         56  wyoming                         Leukemia  \n",
       "52658         56  wyoming        Breast (in situ) (Female)  \n",
       "52659         56  wyoming  Childhood (Ages <20, All Sites)  \n",
       "52660         56  wyoming  Childhood (Ages <15, All Sites)  "
      ]
     },
     "execution_count": 5,
     "metadata": {},
     "output_type": "execute_result"
    }
   ],
   "source": [
    "cancer_data.tail()"
   ]
  },
  {
   "cell_type": "code",
   "execution_count": 6,
   "metadata": {},
   "outputs": [
    {
     "data": {
      "text/html": [
       "<div>\n",
       "<style scoped>\n",
       "    .dataframe tbody tr th:only-of-type {\n",
       "        vertical-align: middle;\n",
       "    }\n",
       "\n",
       "    .dataframe tbody tr th {\n",
       "        vertical-align: top;\n",
       "    }\n",
       "\n",
       "    .dataframe thead th {\n",
       "        text-align: right;\n",
       "    }\n",
       "</style>\n",
       "<table border=\"1\" class=\"dataframe\">\n",
       "  <thead>\n",
       "    <tr style=\"text-align: right;\">\n",
       "      <th></th>\n",
       "      <th>locale</th>\n",
       "      <th>fips</th>\n",
       "      <th>annual_count_avg</th>\n",
       "      <th>areatype</th>\n",
       "      <th>cancer</th>\n",
       "      <th>stateFIPS</th>\n",
       "      <th>state</th>\n",
       "      <th>cancer_description</th>\n",
       "    </tr>\n",
       "  </thead>\n",
       "  <tbody>\n",
       "    <tr>\n",
       "      <th>0</th>\n",
       "      <td>US (SEER+NPCR)(1,10)</td>\n",
       "      <td>0.0</td>\n",
       "      <td>1638110.0</td>\n",
       "      <td>country</td>\n",
       "      <td>1</td>\n",
       "      <td>29</td>\n",
       "      <td>missouri</td>\n",
       "      <td>All Cancer Sites</td>\n",
       "    </tr>\n",
       "    <tr>\n",
       "      <th>1</th>\n",
       "      <td>US (SEER+NPCR)(1,10)</td>\n",
       "      <td>0.0</td>\n",
       "      <td>43864</td>\n",
       "      <td>country</td>\n",
       "      <td>3</td>\n",
       "      <td>29</td>\n",
       "      <td>missouri</td>\n",
       "      <td>Oral Cavity &amp; Pharynx</td>\n",
       "    </tr>\n",
       "    <tr>\n",
       "      <th>2</th>\n",
       "      <td>US (SEER+NPCR)(1,10)</td>\n",
       "      <td>0.0</td>\n",
       "      <td>17084</td>\n",
       "      <td>country</td>\n",
       "      <td>17</td>\n",
       "      <td>29</td>\n",
       "      <td>missouri</td>\n",
       "      <td>Esophagus</td>\n",
       "    </tr>\n",
       "    <tr>\n",
       "      <th>3</th>\n",
       "      <td>US (SEER+NPCR)(1,10)</td>\n",
       "      <td>0.0</td>\n",
       "      <td>23871</td>\n",
       "      <td>country</td>\n",
       "      <td>18</td>\n",
       "      <td>29</td>\n",
       "      <td>missouri</td>\n",
       "      <td>Stomach</td>\n",
       "    </tr>\n",
       "    <tr>\n",
       "      <th>4</th>\n",
       "      <td>US (SEER+NPCR)(1,10)</td>\n",
       "      <td>0.0</td>\n",
       "      <td>140982</td>\n",
       "      <td>country</td>\n",
       "      <td>20</td>\n",
       "      <td>29</td>\n",
       "      <td>missouri</td>\n",
       "      <td>Colon &amp; Rectum</td>\n",
       "    </tr>\n",
       "  </tbody>\n",
       "</table>\n",
       "</div>"
      ],
      "text/plain": [
       "                 locale  fips annual_count_avg areatype  cancer  stateFIPS  \\\n",
       "0  US (SEER+NPCR)(1,10)   0.0        1638110.0  country       1         29   \n",
       "1  US (SEER+NPCR)(1,10)   0.0            43864  country       3         29   \n",
       "2  US (SEER+NPCR)(1,10)   0.0            17084  country      17         29   \n",
       "3  US (SEER+NPCR)(1,10)   0.0            23871  country      18         29   \n",
       "4  US (SEER+NPCR)(1,10)   0.0           140982  country      20         29   \n",
       "\n",
       "      state     cancer_description  \n",
       "0  missouri       All Cancer Sites  \n",
       "1  missouri  Oral Cavity & Pharynx  \n",
       "2  missouri              Esophagus  \n",
       "3  missouri                Stomach  \n",
       "4  missouri         Colon & Rectum  "
      ]
     },
     "execution_count": 6,
     "metadata": {},
     "output_type": "execute_result"
    }
   ],
   "source": [
    "cancer_data.head()"
   ]
  },
  {
   "cell_type": "code",
   "execution_count": 7,
   "metadata": {},
   "outputs": [],
   "source": [
    "# converting type of \"fips\" to int64\n",
    "cancer_data['fips'] = cancer_data['fips'].astype(\"int64\")"
   ]
  },
  {
   "cell_type": "code",
   "execution_count": 8,
   "metadata": {},
   "outputs": [
    {
     "data": {
      "text/plain": [
       "2360"
      ]
     },
     "execution_count": 8,
     "metadata": {},
     "output_type": "execute_result"
    }
   ],
   "source": [
    "# number of fips codes for which cancer data is available\n",
    "len(cancer_data['fips'].unique())"
   ]
  },
  {
   "cell_type": "markdown",
   "metadata": {},
   "source": [
    "### Importing industry data per county"
   ]
  },
  {
   "cell_type": "code",
   "execution_count": 9,
   "metadata": {},
   "outputs": [
    {
     "data": {
      "text/html": [
       "<div>\n",
       "<style scoped>\n",
       "    .dataframe tbody tr th:only-of-type {\n",
       "        vertical-align: middle;\n",
       "    }\n",
       "\n",
       "    .dataframe tbody tr th {\n",
       "        vertical-align: top;\n",
       "    }\n",
       "\n",
       "    .dataframe thead th {\n",
       "        text-align: right;\n",
       "    }\n",
       "</style>\n",
       "<table border=\"1\" class=\"dataframe\">\n",
       "  <thead>\n",
       "    <tr style=\"text-align: right;\">\n",
       "      <th></th>\n",
       "      <th>Unnamed: 0</th>\n",
       "      <th>fips</th>\n",
       "      <th>county</th>\n",
       "      <th>name</th>\n",
       "      <th>industry_code</th>\n",
       "      <th>industry_detail</th>\n",
       "      <th>relevant_naics</th>\n",
       "      <th>year</th>\n",
       "      <th>payann</th>\n",
       "      <th>estab</th>\n",
       "      <th>...</th>\n",
       "      <th>METL</th>\n",
       "      <th>MINE</th>\n",
       "      <th>MSW</th>\n",
       "      <th>NREN</th>\n",
       "      <th>OZON</th>\n",
       "      <th>PEST</th>\n",
       "      <th>REN</th>\n",
       "      <th>SMOG</th>\n",
       "      <th>VADD</th>\n",
       "      <th>WATR</th>\n",
       "    </tr>\n",
       "  </thead>\n",
       "  <tbody>\n",
       "    <tr>\n",
       "      <th>0</th>\n",
       "      <td>0</td>\n",
       "      <td>8001</td>\n",
       "      <td>1</td>\n",
       "      <td>Adams County, Colorado</td>\n",
       "      <td>113000</td>\n",
       "      <td>timber and raw forest products</td>\n",
       "      <td>[113]</td>\n",
       "      <td>2012</td>\n",
       "      <td>0</td>\n",
       "      <td>1</td>\n",
       "      <td>...</td>\n",
       "      <td>0.00000</td>\n",
       "      <td>0.0</td>\n",
       "      <td>0.000000</td>\n",
       "      <td>0.0</td>\n",
       "      <td>0.000000</td>\n",
       "      <td>0.000000</td>\n",
       "      <td>0.00000</td>\n",
       "      <td>0.000000</td>\n",
       "      <td>0.000000</td>\n",
       "      <td>0.000000</td>\n",
       "    </tr>\n",
       "    <tr>\n",
       "      <th>1</th>\n",
       "      <td>1</td>\n",
       "      <td>8001</td>\n",
       "      <td>1</td>\n",
       "      <td>Adams County, Colorado</td>\n",
       "      <td>115000</td>\n",
       "      <td>agriculture and forestry support</td>\n",
       "      <td>[115]</td>\n",
       "      <td>2012</td>\n",
       "      <td>290</td>\n",
       "      <td>6</td>\n",
       "      <td>...</td>\n",
       "      <td>0.00008</td>\n",
       "      <td>0.0</td>\n",
       "      <td>3.405586</td>\n",
       "      <td>0.0</td>\n",
       "      <td>0.000183</td>\n",
       "      <td>0.008769</td>\n",
       "      <td>0.95877</td>\n",
       "      <td>2.011564</td>\n",
       "      <td>211.423463</td>\n",
       "      <td>15.653502</td>\n",
       "    </tr>\n",
       "    <tr>\n",
       "      <th>2</th>\n",
       "      <td>2</td>\n",
       "      <td>8001</td>\n",
       "      <td>1</td>\n",
       "      <td>Adams County, Colorado</td>\n",
       "      <td>211000</td>\n",
       "      <td>unrefined oil and gas</td>\n",
       "      <td>[211]</td>\n",
       "      <td>2012</td>\n",
       "      <td>0</td>\n",
       "      <td>6</td>\n",
       "      <td>...</td>\n",
       "      <td>0.00000</td>\n",
       "      <td>0.0</td>\n",
       "      <td>0.000000</td>\n",
       "      <td>0.0</td>\n",
       "      <td>0.000000</td>\n",
       "      <td>0.000000</td>\n",
       "      <td>0.00000</td>\n",
       "      <td>0.000000</td>\n",
       "      <td>0.000000</td>\n",
       "      <td>0.000000</td>\n",
       "    </tr>\n",
       "    <tr>\n",
       "      <th>3</th>\n",
       "      <td>3</td>\n",
       "      <td>8001</td>\n",
       "      <td>1</td>\n",
       "      <td>Adams County, Colorado</td>\n",
       "      <td>2122a0</td>\n",
       "      <td>iron, gold, silver, and other metal ores</td>\n",
       "      <td>[21221, 21222, 21229]</td>\n",
       "      <td>2012</td>\n",
       "      <td>0</td>\n",
       "      <td>1</td>\n",
       "      <td>...</td>\n",
       "      <td>0.00000</td>\n",
       "      <td>0.0</td>\n",
       "      <td>0.000000</td>\n",
       "      <td>0.0</td>\n",
       "      <td>0.000000</td>\n",
       "      <td>0.000000</td>\n",
       "      <td>0.00000</td>\n",
       "      <td>0.000000</td>\n",
       "      <td>0.000000</td>\n",
       "      <td>0.000000</td>\n",
       "    </tr>\n",
       "    <tr>\n",
       "      <th>4</th>\n",
       "      <td>4</td>\n",
       "      <td>8001</td>\n",
       "      <td>1</td>\n",
       "      <td>Adams County, Colorado</td>\n",
       "      <td>212310</td>\n",
       "      <td>dimensional stone</td>\n",
       "      <td>[21231]</td>\n",
       "      <td>2012</td>\n",
       "      <td>0</td>\n",
       "      <td>4</td>\n",
       "      <td>...</td>\n",
       "      <td>0.00000</td>\n",
       "      <td>0.0</td>\n",
       "      <td>0.000000</td>\n",
       "      <td>0.0</td>\n",
       "      <td>0.000000</td>\n",
       "      <td>0.000000</td>\n",
       "      <td>0.00000</td>\n",
       "      <td>0.000000</td>\n",
       "      <td>0.000000</td>\n",
       "      <td>0.000000</td>\n",
       "    </tr>\n",
       "  </tbody>\n",
       "</table>\n",
       "<p>5 rows × 35 columns</p>\n",
       "</div>"
      ],
      "text/plain": [
       "   Unnamed: 0  fips  county                    name industry_code  \\\n",
       "0           0  8001       1  Adams County, Colorado        113000   \n",
       "1           1  8001       1  Adams County, Colorado        115000   \n",
       "2           2  8001       1  Adams County, Colorado        211000   \n",
       "3           3  8001       1  Adams County, Colorado        2122a0   \n",
       "4           4  8001       1  Adams County, Colorado        212310   \n",
       "\n",
       "                            industry_detail         relevant_naics  year  \\\n",
       "0            timber and raw forest products                  [113]  2012   \n",
       "1          agriculture and forestry support                  [115]  2012   \n",
       "2                     unrefined oil and gas                  [211]  2012   \n",
       "3  iron, gold, silver, and other metal ores  [21221, 21222, 21229]  2012   \n",
       "4                         dimensional stone                [21231]  2012   \n",
       "\n",
       "   payann  estab  ...     METL  MINE       MSW  NREN      OZON      PEST  \\\n",
       "0       0      1  ...  0.00000   0.0  0.000000   0.0  0.000000  0.000000   \n",
       "1     290      6  ...  0.00008   0.0  3.405586   0.0  0.000183  0.008769   \n",
       "2       0      6  ...  0.00000   0.0  0.000000   0.0  0.000000  0.000000   \n",
       "3       0      1  ...  0.00000   0.0  0.000000   0.0  0.000000  0.000000   \n",
       "4       0      4  ...  0.00000   0.0  0.000000   0.0  0.000000  0.000000   \n",
       "\n",
       "       REN      SMOG        VADD       WATR  \n",
       "0  0.00000  0.000000    0.000000   0.000000  \n",
       "1  0.95877  2.011564  211.423463  15.653502  \n",
       "2  0.00000  0.000000    0.000000   0.000000  \n",
       "3  0.00000  0.000000    0.000000   0.000000  \n",
       "4  0.00000  0.000000    0.000000   0.000000  \n",
       "\n",
       "[5 rows x 35 columns]"
      ]
     },
     "execution_count": 9,
     "metadata": {},
     "output_type": "execute_result"
    }
   ],
   "source": [
    "industry_data = pd.read_csv(\"../data_clean/indicators_per-industry_per-county.csv\")\n",
    "industry_data.head()"
   ]
  },
  {
   "cell_type": "markdown",
   "metadata": {},
   "source": [
    "#### Removing un-necessary columns"
   ]
  },
  {
   "cell_type": "code",
   "execution_count": 10,
   "metadata": {},
   "outputs": [],
   "source": [
    "industry_data.drop('Unnamed: 0', axis=1, inplace=True)"
   ]
  },
  {
   "cell_type": "code",
   "execution_count": 11,
   "metadata": {},
   "outputs": [],
   "source": [
    "def remove_useless(df):\n",
    "    for col in df.columns:\n",
    "        if len(df[col].unique()) == 1:\n",
    "            df.drop(col, axis=1, inplace=True)"
   ]
  },
  {
   "cell_type": "code",
   "execution_count": 12,
   "metadata": {},
   "outputs": [
    {
     "data": {
      "text/plain": [
       "Index(['fips', 'county', 'name', 'industry_code', 'industry_detail',\n",
       "       'relevant_naics', 'payann', 'estab', 'emp', 'ACID', 'ENRG', 'ETOX',\n",
       "       'EUTR', 'FOOD', 'GCC', 'HAPS', 'HAZW', 'HC', 'HNC', 'HRSP', 'HTOX',\n",
       "       'JOBS', 'LAND', 'METL', 'MINE', 'MSW', 'NREN', 'OZON', 'PEST', 'REN',\n",
       "       'SMOG', 'VADD', 'WATR'],\n",
       "      dtype='object')"
      ]
     },
     "execution_count": 12,
     "metadata": {},
     "output_type": "execute_result"
    }
   ],
   "source": [
    "remove_useless(industry_data)\n",
    "industry_data.columns"
   ]
  },
  {
   "cell_type": "code",
   "execution_count": 13,
   "metadata": {},
   "outputs": [
    {
     "data": {
      "text/html": [
       "<div>\n",
       "<style scoped>\n",
       "    .dataframe tbody tr th:only-of-type {\n",
       "        vertical-align: middle;\n",
       "    }\n",
       "\n",
       "    .dataframe tbody tr th {\n",
       "        vertical-align: top;\n",
       "    }\n",
       "\n",
       "    .dataframe thead th {\n",
       "        text-align: right;\n",
       "    }\n",
       "</style>\n",
       "<table border=\"1\" class=\"dataframe\">\n",
       "  <thead>\n",
       "    <tr style=\"text-align: right;\">\n",
       "      <th></th>\n",
       "      <th>fips</th>\n",
       "      <th>county</th>\n",
       "      <th>name</th>\n",
       "      <th>industry_code</th>\n",
       "      <th>industry_detail</th>\n",
       "      <th>relevant_naics</th>\n",
       "      <th>payann</th>\n",
       "      <th>estab</th>\n",
       "      <th>emp</th>\n",
       "      <th>ACID</th>\n",
       "      <th>...</th>\n",
       "      <th>METL</th>\n",
       "      <th>MINE</th>\n",
       "      <th>MSW</th>\n",
       "      <th>NREN</th>\n",
       "      <th>OZON</th>\n",
       "      <th>PEST</th>\n",
       "      <th>REN</th>\n",
       "      <th>SMOG</th>\n",
       "      <th>VADD</th>\n",
       "      <th>WATR</th>\n",
       "    </tr>\n",
       "  </thead>\n",
       "  <tbody>\n",
       "    <tr>\n",
       "      <th>0</th>\n",
       "      <td>8001</td>\n",
       "      <td>1</td>\n",
       "      <td>Adams County, Colorado</td>\n",
       "      <td>113000</td>\n",
       "      <td>timber and raw forest products</td>\n",
       "      <td>[113]</td>\n",
       "      <td>0</td>\n",
       "      <td>1</td>\n",
       "      <td>0</td>\n",
       "      <td>0.000000</td>\n",
       "      <td>...</td>\n",
       "      <td>0.00000</td>\n",
       "      <td>0.0</td>\n",
       "      <td>0.000000</td>\n",
       "      <td>0.0</td>\n",
       "      <td>0.000000</td>\n",
       "      <td>0.000000</td>\n",
       "      <td>0.00000</td>\n",
       "      <td>0.000000</td>\n",
       "      <td>0.000000</td>\n",
       "      <td>0.000000</td>\n",
       "    </tr>\n",
       "    <tr>\n",
       "      <th>1</th>\n",
       "      <td>8001</td>\n",
       "      <td>1</td>\n",
       "      <td>Adams County, Colorado</td>\n",
       "      <td>115000</td>\n",
       "      <td>agriculture and forestry support</td>\n",
       "      <td>[115]</td>\n",
       "      <td>290</td>\n",
       "      <td>6</td>\n",
       "      <td>10</td>\n",
       "      <td>0.537394</td>\n",
       "      <td>...</td>\n",
       "      <td>0.00008</td>\n",
       "      <td>0.0</td>\n",
       "      <td>3.405586</td>\n",
       "      <td>0.0</td>\n",
       "      <td>0.000183</td>\n",
       "      <td>0.008769</td>\n",
       "      <td>0.95877</td>\n",
       "      <td>2.011564</td>\n",
       "      <td>211.423463</td>\n",
       "      <td>15.653502</td>\n",
       "    </tr>\n",
       "    <tr>\n",
       "      <th>2</th>\n",
       "      <td>8001</td>\n",
       "      <td>1</td>\n",
       "      <td>Adams County, Colorado</td>\n",
       "      <td>211000</td>\n",
       "      <td>unrefined oil and gas</td>\n",
       "      <td>[211]</td>\n",
       "      <td>0</td>\n",
       "      <td>6</td>\n",
       "      <td>0</td>\n",
       "      <td>0.000000</td>\n",
       "      <td>...</td>\n",
       "      <td>0.00000</td>\n",
       "      <td>0.0</td>\n",
       "      <td>0.000000</td>\n",
       "      <td>0.0</td>\n",
       "      <td>0.000000</td>\n",
       "      <td>0.000000</td>\n",
       "      <td>0.00000</td>\n",
       "      <td>0.000000</td>\n",
       "      <td>0.000000</td>\n",
       "      <td>0.000000</td>\n",
       "    </tr>\n",
       "    <tr>\n",
       "      <th>3</th>\n",
       "      <td>8001</td>\n",
       "      <td>1</td>\n",
       "      <td>Adams County, Colorado</td>\n",
       "      <td>2122a0</td>\n",
       "      <td>iron, gold, silver, and other metal ores</td>\n",
       "      <td>[21221, 21222, 21229]</td>\n",
       "      <td>0</td>\n",
       "      <td>1</td>\n",
       "      <td>0</td>\n",
       "      <td>0.000000</td>\n",
       "      <td>...</td>\n",
       "      <td>0.00000</td>\n",
       "      <td>0.0</td>\n",
       "      <td>0.000000</td>\n",
       "      <td>0.0</td>\n",
       "      <td>0.000000</td>\n",
       "      <td>0.000000</td>\n",
       "      <td>0.00000</td>\n",
       "      <td>0.000000</td>\n",
       "      <td>0.000000</td>\n",
       "      <td>0.000000</td>\n",
       "    </tr>\n",
       "    <tr>\n",
       "      <th>4</th>\n",
       "      <td>8001</td>\n",
       "      <td>1</td>\n",
       "      <td>Adams County, Colorado</td>\n",
       "      <td>212310</td>\n",
       "      <td>dimensional stone</td>\n",
       "      <td>[21231]</td>\n",
       "      <td>0</td>\n",
       "      <td>4</td>\n",
       "      <td>0</td>\n",
       "      <td>0.000000</td>\n",
       "      <td>...</td>\n",
       "      <td>0.00000</td>\n",
       "      <td>0.0</td>\n",
       "      <td>0.000000</td>\n",
       "      <td>0.0</td>\n",
       "      <td>0.000000</td>\n",
       "      <td>0.000000</td>\n",
       "      <td>0.00000</td>\n",
       "      <td>0.000000</td>\n",
       "      <td>0.000000</td>\n",
       "      <td>0.000000</td>\n",
       "    </tr>\n",
       "  </tbody>\n",
       "</table>\n",
       "<p>5 rows × 33 columns</p>\n",
       "</div>"
      ],
      "text/plain": [
       "   fips  county                    name industry_code  \\\n",
       "0  8001       1  Adams County, Colorado        113000   \n",
       "1  8001       1  Adams County, Colorado        115000   \n",
       "2  8001       1  Adams County, Colorado        211000   \n",
       "3  8001       1  Adams County, Colorado        2122a0   \n",
       "4  8001       1  Adams County, Colorado        212310   \n",
       "\n",
       "                            industry_detail         relevant_naics  payann  \\\n",
       "0            timber and raw forest products                  [113]       0   \n",
       "1          agriculture and forestry support                  [115]     290   \n",
       "2                     unrefined oil and gas                  [211]       0   \n",
       "3  iron, gold, silver, and other metal ores  [21221, 21222, 21229]       0   \n",
       "4                         dimensional stone                [21231]       0   \n",
       "\n",
       "   estab  emp      ACID  ...     METL  MINE       MSW  NREN      OZON  \\\n",
       "0      1    0  0.000000  ...  0.00000   0.0  0.000000   0.0  0.000000   \n",
       "1      6   10  0.537394  ...  0.00008   0.0  3.405586   0.0  0.000183   \n",
       "2      6    0  0.000000  ...  0.00000   0.0  0.000000   0.0  0.000000   \n",
       "3      1    0  0.000000  ...  0.00000   0.0  0.000000   0.0  0.000000   \n",
       "4      4    0  0.000000  ...  0.00000   0.0  0.000000   0.0  0.000000   \n",
       "\n",
       "       PEST      REN      SMOG        VADD       WATR  \n",
       "0  0.000000  0.00000  0.000000    0.000000   0.000000  \n",
       "1  0.008769  0.95877  2.011564  211.423463  15.653502  \n",
       "2  0.000000  0.00000  0.000000    0.000000   0.000000  \n",
       "3  0.000000  0.00000  0.000000    0.000000   0.000000  \n",
       "4  0.000000  0.00000  0.000000    0.000000   0.000000  \n",
       "\n",
       "[5 rows x 33 columns]"
      ]
     },
     "execution_count": 13,
     "metadata": {},
     "output_type": "execute_result"
    }
   ],
   "source": [
    "industry_data.head()"
   ]
  },
  {
   "cell_type": "code",
   "execution_count": 14,
   "metadata": {},
   "outputs": [
    {
     "data": {
      "text/plain": [
       "3140"
      ]
     },
     "execution_count": 14,
     "metadata": {},
     "output_type": "execute_result"
    }
   ],
   "source": [
    "# Number of available fips codes\n",
    "len(industry_data['fips'].unique())"
   ]
  },
  {
   "cell_type": "markdown",
   "metadata": {},
   "source": [
    "### Finding out diffrerences in \"fips\" values between the two datasets\n",
    "Check the counties_fips.csv file in data_raw to find out if fips value actually corresponds to a county or if it corresponds to a state of national value."
   ]
  },
  {
   "cell_type": "code",
   "execution_count": 15,
   "metadata": {},
   "outputs": [],
   "source": [
    "industry_fips = set(industry_data['fips'].unique())\n",
    "cancer_fips = set(cancer_data['fips'].unique())"
   ]
  },
  {
   "cell_type": "markdown",
   "metadata": {},
   "source": [
    "#### Getting \"fips\" values in cancer data that don't have corresponding industry data and the other way around"
   ]
  },
  {
   "cell_type": "code",
   "execution_count": 16,
   "metadata": {},
   "outputs": [
    {
     "name": "stdout",
     "output_type": "stream",
     "text": [
      "{0, 48000, 32000, 16000, 53000, 37000, 21000, 5000, 48269, 42000, 26000, 10000, 47000, 2201, 31000, 15000, 15005, 36000, 20000, 4000, 41000, 25000, 9000, 46000, 30000, 51000, 2232, 35000, 19000, 56000, 40000, 24000, 8000, 45000, 29000, 13000, 51917, 50000, 34000, 18000, 2900, 55000, 39000, 23000, 44000, 28000, 12000, 33000, 17000, 1000, 2280, 49000, 54000, 38000, 22000, 6000, 27000}\n"
     ]
    }
   ],
   "source": [
    "cancer_diff_industry = cancer_fips.difference(industry_fips)\n",
    "print(cancer_diff_industry)"
   ]
  },
  {
   "cell_type": "code",
   "execution_count": 17,
   "metadata": {},
   "outputs": [],
   "source": [
    "county_corresp_fips = pd.read_csv('../data_raw/counties_fips.csv')"
   ]
  },
  {
   "cell_type": "code",
   "execution_count": 18,
   "metadata": {},
   "outputs": [
    {
     "data": {
      "text/html": [
       "<div>\n",
       "<style scoped>\n",
       "    .dataframe tbody tr th:only-of-type {\n",
       "        vertical-align: middle;\n",
       "    }\n",
       "\n",
       "    .dataframe tbody tr th {\n",
       "        vertical-align: top;\n",
       "    }\n",
       "\n",
       "    .dataframe thead th {\n",
       "        text-align: right;\n",
       "    }\n",
       "</style>\n",
       "<table border=\"1\" class=\"dataframe\">\n",
       "  <thead>\n",
       "    <tr style=\"text-align: right;\">\n",
       "      <th></th>\n",
       "      <th>FIPS</th>\n",
       "      <th>Name</th>\n",
       "      <th>State</th>\n",
       "    </tr>\n",
       "  </thead>\n",
       "  <tbody>\n",
       "    <tr>\n",
       "      <th>0</th>\n",
       "      <td>1001</td>\n",
       "      <td>Autauga</td>\n",
       "      <td>AL</td>\n",
       "    </tr>\n",
       "    <tr>\n",
       "      <th>1</th>\n",
       "      <td>1003</td>\n",
       "      <td>Baldwin</td>\n",
       "      <td>AL</td>\n",
       "    </tr>\n",
       "    <tr>\n",
       "      <th>2</th>\n",
       "      <td>1005</td>\n",
       "      <td>Barbour</td>\n",
       "      <td>AL</td>\n",
       "    </tr>\n",
       "    <tr>\n",
       "      <th>3</th>\n",
       "      <td>1007</td>\n",
       "      <td>Bibb</td>\n",
       "      <td>AL</td>\n",
       "    </tr>\n",
       "    <tr>\n",
       "      <th>4</th>\n",
       "      <td>1009</td>\n",
       "      <td>Blount</td>\n",
       "      <td>AL</td>\n",
       "    </tr>\n",
       "  </tbody>\n",
       "</table>\n",
       "</div>"
      ],
      "text/plain": [
       "   FIPS     Name State\n",
       "0  1001  Autauga    AL\n",
       "1  1003  Baldwin    AL\n",
       "2  1005  Barbour    AL\n",
       "3  1007     Bibb    AL\n",
       "4  1009   Blount    AL"
      ]
     },
     "execution_count": 18,
     "metadata": {},
     "output_type": "execute_result"
    }
   ],
   "source": [
    "county_corresp_fips.head()"
   ]
  },
  {
   "cell_type": "code",
   "execution_count": 19,
   "metadata": {
    "scrolled": true
   },
   "outputs": [
    {
     "name": "stdout",
     "output_type": "stream",
     "text": [
      "{2232, 2201, 2280, 48269}\n"
     ]
    }
   ],
   "source": [
    "# getting fips values which correspond to actual counties but don't have entries in the industry dataset\n",
    "missing_industry_values = set()\n",
    "for fips in cancer_diff_industry:\n",
    "    if not county_corresp_fips[county_corresp_fips['FIPS'] == fips].empty:\n",
    "        missing_industry_values.add(fips)\n",
    "print(missing_industry_values)"
   ]
  },
  {
   "cell_type": "code",
   "execution_count": 20,
   "metadata": {},
   "outputs": [
    {
     "data": {
      "text/plain": [
       "837"
      ]
     },
     "execution_count": 20,
     "metadata": {},
     "output_type": "execute_result"
    }
   ],
   "source": [
    "industry_diff_cancer = industry_fips.difference(cancer_fips)\n",
    "len(industry_diff_cancer)"
   ]
  },
  {
   "cell_type": "code",
   "execution_count": 21,
   "metadata": {},
   "outputs": [
    {
     "name": "stdout",
     "output_type": "stream",
     "text": [
      "{2275, 2195, 2230, 2198, 2105}\n"
     ]
    }
   ],
   "source": [
    "#getting fips values that don't correspond to actual counties but have entries in the industry dataset\n",
    "extra_industry_values = set()\n",
    "for fips in industry_diff_cancer:\n",
    "    if county_corresp_fips[county_corresp_fips['FIPS'] == fips].empty:\n",
    "        extra_industry_values.add(fips)\n",
    "print(extra_industry_values)"
   ]
  },
  {
   "cell_type": "markdown",
   "metadata": {},
   "source": [
    "### Joining datasets on \"fips\" column"
   ]
  },
  {
   "cell_type": "markdown",
   "metadata": {},
   "source": [
    "#### Inner join: Only keep fips values that are in both datasets"
   ]
  },
  {
   "cell_type": "code",
   "execution_count": 22,
   "metadata": {},
   "outputs": [],
   "source": [
    "df_inner = pd.merge(cancer_data, industry_data, on='fips', how='inner')"
   ]
  },
  {
   "cell_type": "code",
   "execution_count": 23,
   "metadata": {},
   "outputs": [
    {
     "data": {
      "text/plain": [
       "2303"
      ]
     },
     "execution_count": 23,
     "metadata": {},
     "output_type": "execute_result"
    }
   ],
   "source": [
    "len(df_inner[\"fips\"].unique())"
   ]
  },
  {
   "cell_type": "markdown",
   "metadata": {},
   "source": [
    "#### Right join: Keep all \"fips\" values from the industry dataset"
   ]
  },
  {
   "cell_type": "code",
   "execution_count": 24,
   "metadata": {},
   "outputs": [],
   "source": [
    "df_right = pd.merge(cancer_data, industry_data, on='fips', how='right')"
   ]
  },
  {
   "cell_type": "code",
   "execution_count": 25,
   "metadata": {},
   "outputs": [
    {
     "data": {
      "text/plain": [
       "3140"
      ]
     },
     "execution_count": 25,
     "metadata": {},
     "output_type": "execute_result"
    }
   ],
   "source": [
    "len(df_right[\"fips\"].unique())"
   ]
  },
  {
   "cell_type": "markdown",
   "metadata": {},
   "source": [
    "#### Left join: Keep all \"fips\" values from the cancer dataset"
   ]
  },
  {
   "cell_type": "code",
   "execution_count": 26,
   "metadata": {},
   "outputs": [],
   "source": [
    "df_left = pd.merge(cancer_data, industry_data, on='fips', how='left')"
   ]
  },
  {
   "cell_type": "code",
   "execution_count": 27,
   "metadata": {},
   "outputs": [
    {
     "data": {
      "text/plain": [
       "2360"
      ]
     },
     "execution_count": 27,
     "metadata": {},
     "output_type": "execute_result"
    }
   ],
   "source": [
    "len(df_left[\"fips\"].unique())"
   ]
  },
  {
   "cell_type": "markdown",
   "metadata": {},
   "source": [
    "## Part 2: analysis"
   ]
  },
  {
   "cell_type": "markdown",
   "metadata": {},
   "source": [
    "For now we'll work with the resulting inner_join data because it is the most complete"
   ]
  },
  {
   "cell_type": "markdown",
   "metadata": {},
   "source": [
    "Names of environemental factors: ['Acid Rain', 'Energy', 'Freshwater Aquatic Ecotoxicity', 'Eutrophication', 'Food Waste', 'Global Climate Change', 'Hazardous Air Pollutants', 'Hazardous Waste', 'Human Health Cancer', 'Human Health Noncancer', 'Human Health - Respiratory Effects', 'Human Health Cancer and Noncancer', 'Employment', 'Land', 'Metals', 'Minerals and Metals', 'Muncipal Solid Waste', 'Nonrenewable Energy', 'Ozone Depletion', 'Pesticides', 'Renewable Energy', 'Smog Formation', 'Value Added', 'Water']"
   ]
  },
  {
   "cell_type": "code",
   "execution_count": 28,
   "metadata": {},
   "outputs": [
    {
     "data": {
      "text/plain": [
       "Index(['locale', 'fips', 'annual_count_avg', 'areatype', 'cancer', 'stateFIPS',\n",
       "       'state', 'cancer_description', 'county', 'name', 'industry_code',\n",
       "       'industry_detail', 'relevant_naics', 'payann', 'estab', 'emp', 'ACID',\n",
       "       'ENRG', 'ETOX', 'EUTR', 'FOOD', 'GCC', 'HAPS', 'HAZW', 'HC', 'HNC',\n",
       "       'HRSP', 'HTOX', 'JOBS', 'LAND', 'METL', 'MINE', 'MSW', 'NREN', 'OZON',\n",
       "       'PEST', 'REN', 'SMOG', 'VADD', 'WATR'],\n",
       "      dtype='object')"
      ]
     },
     "execution_count": 28,
     "metadata": {},
     "output_type": "execute_result"
    }
   ],
   "source": [
    "df_inner.columns"
   ]
  },
  {
   "cell_type": "code",
   "execution_count": 29,
   "metadata": {},
   "outputs": [
    {
     "data": {
      "text/html": [
       "<div>\n",
       "<style scoped>\n",
       "    .dataframe tbody tr th:only-of-type {\n",
       "        vertical-align: middle;\n",
       "    }\n",
       "\n",
       "    .dataframe tbody tr th {\n",
       "        vertical-align: top;\n",
       "    }\n",
       "\n",
       "    .dataframe thead th {\n",
       "        text-align: right;\n",
       "    }\n",
       "</style>\n",
       "<table border=\"1\" class=\"dataframe\">\n",
       "  <thead>\n",
       "    <tr style=\"text-align: right;\">\n",
       "      <th></th>\n",
       "      <th>locale</th>\n",
       "      <th>fips</th>\n",
       "      <th>annual_count_avg</th>\n",
       "      <th>areatype</th>\n",
       "      <th>cancer</th>\n",
       "      <th>stateFIPS</th>\n",
       "      <th>state</th>\n",
       "      <th>cancer_description</th>\n",
       "      <th>county</th>\n",
       "      <th>name</th>\n",
       "      <th>...</th>\n",
       "      <th>METL</th>\n",
       "      <th>MINE</th>\n",
       "      <th>MSW</th>\n",
       "      <th>NREN</th>\n",
       "      <th>OZON</th>\n",
       "      <th>PEST</th>\n",
       "      <th>REN</th>\n",
       "      <th>SMOG</th>\n",
       "      <th>VADD</th>\n",
       "      <th>WATR</th>\n",
       "    </tr>\n",
       "  </thead>\n",
       "  <tbody>\n",
       "    <tr>\n",
       "      <th>0</th>\n",
       "      <td>Autauga County(6,10)</td>\n",
       "      <td>1001</td>\n",
       "      <td>304.0</td>\n",
       "      <td>county</td>\n",
       "      <td>1</td>\n",
       "      <td>1</td>\n",
       "      <td>alabama</td>\n",
       "      <td>All Cancer Sites</td>\n",
       "      <td>1</td>\n",
       "      <td>Autauga County, Alabama</td>\n",
       "      <td>...</td>\n",
       "      <td>0.000066</td>\n",
       "      <td>0.0</td>\n",
       "      <td>3.210888</td>\n",
       "      <td>0.000000</td>\n",
       "      <td>3.767853e-07</td>\n",
       "      <td>0.012181</td>\n",
       "      <td>0.275217</td>\n",
       "      <td>20.041190</td>\n",
       "      <td>654.873075</td>\n",
       "      <td>136.234634</td>\n",
       "    </tr>\n",
       "    <tr>\n",
       "      <th>1</th>\n",
       "      <td>Autauga County(6,10)</td>\n",
       "      <td>1001</td>\n",
       "      <td>304.0</td>\n",
       "      <td>county</td>\n",
       "      <td>1</td>\n",
       "      <td>1</td>\n",
       "      <td>alabama</td>\n",
       "      <td>All Cancer Sites</td>\n",
       "      <td>1</td>\n",
       "      <td>Autauga County, Alabama</td>\n",
       "      <td>...</td>\n",
       "      <td>0.000000</td>\n",
       "      <td>0.0</td>\n",
       "      <td>0.000000</td>\n",
       "      <td>0.000000</td>\n",
       "      <td>0.000000e+00</td>\n",
       "      <td>0.000000</td>\n",
       "      <td>0.000000</td>\n",
       "      <td>0.000000</td>\n",
       "      <td>0.000000</td>\n",
       "      <td>0.000000</td>\n",
       "    </tr>\n",
       "    <tr>\n",
       "      <th>2</th>\n",
       "      <td>Autauga County(6,10)</td>\n",
       "      <td>1001</td>\n",
       "      <td>304.0</td>\n",
       "      <td>county</td>\n",
       "      <td>1</td>\n",
       "      <td>1</td>\n",
       "      <td>alabama</td>\n",
       "      <td>All Cancer Sites</td>\n",
       "      <td>1</td>\n",
       "      <td>Autauga County, Alabama</td>\n",
       "      <td>...</td>\n",
       "      <td>0.000000</td>\n",
       "      <td>0.0</td>\n",
       "      <td>0.000000</td>\n",
       "      <td>0.000000</td>\n",
       "      <td>0.000000e+00</td>\n",
       "      <td>0.000000</td>\n",
       "      <td>0.000000</td>\n",
       "      <td>0.000000</td>\n",
       "      <td>0.000000</td>\n",
       "      <td>0.000000</td>\n",
       "    </tr>\n",
       "    <tr>\n",
       "      <th>3</th>\n",
       "      <td>Autauga County(6,10)</td>\n",
       "      <td>1001</td>\n",
       "      <td>304.0</td>\n",
       "      <td>county</td>\n",
       "      <td>1</td>\n",
       "      <td>1</td>\n",
       "      <td>alabama</td>\n",
       "      <td>All Cancer Sites</td>\n",
       "      <td>1</td>\n",
       "      <td>Autauga County, Alabama</td>\n",
       "      <td>...</td>\n",
       "      <td>0.047113</td>\n",
       "      <td>0.0</td>\n",
       "      <td>23.518978</td>\n",
       "      <td>435169.166702</td>\n",
       "      <td>1.886537e-03</td>\n",
       "      <td>0.000006</td>\n",
       "      <td>293448.484963</td>\n",
       "      <td>2400.143851</td>\n",
       "      <td>11995.153334</td>\n",
       "      <td>7473.552102</td>\n",
       "    </tr>\n",
       "    <tr>\n",
       "      <th>4</th>\n",
       "      <td>Autauga County(6,10)</td>\n",
       "      <td>1001</td>\n",
       "      <td>304.0</td>\n",
       "      <td>county</td>\n",
       "      <td>1</td>\n",
       "      <td>1</td>\n",
       "      <td>alabama</td>\n",
       "      <td>All Cancer Sites</td>\n",
       "      <td>1</td>\n",
       "      <td>Autauga County, Alabama</td>\n",
       "      <td>...</td>\n",
       "      <td>0.000000</td>\n",
       "      <td>0.0</td>\n",
       "      <td>0.000000</td>\n",
       "      <td>0.000000</td>\n",
       "      <td>0.000000e+00</td>\n",
       "      <td>0.000000</td>\n",
       "      <td>0.000000</td>\n",
       "      <td>0.000000</td>\n",
       "      <td>0.000000</td>\n",
       "      <td>0.000000</td>\n",
       "    </tr>\n",
       "  </tbody>\n",
       "</table>\n",
       "<p>5 rows × 40 columns</p>\n",
       "</div>"
      ],
      "text/plain": [
       "                 locale  fips annual_count_avg areatype  cancer  stateFIPS  \\\n",
       "0  Autauga County(6,10)  1001            304.0   county       1          1   \n",
       "1  Autauga County(6,10)  1001            304.0   county       1          1   \n",
       "2  Autauga County(6,10)  1001            304.0   county       1          1   \n",
       "3  Autauga County(6,10)  1001            304.0   county       1          1   \n",
       "4  Autauga County(6,10)  1001            304.0   county       1          1   \n",
       "\n",
       "     state cancer_description  county                     name  ...      METL  \\\n",
       "0  alabama   All Cancer Sites       1  Autauga County, Alabama  ...  0.000066   \n",
       "1  alabama   All Cancer Sites       1  Autauga County, Alabama  ...  0.000000   \n",
       "2  alabama   All Cancer Sites       1  Autauga County, Alabama  ...  0.000000   \n",
       "3  alabama   All Cancer Sites       1  Autauga County, Alabama  ...  0.047113   \n",
       "4  alabama   All Cancer Sites       1  Autauga County, Alabama  ...  0.000000   \n",
       "\n",
       "  MINE        MSW           NREN          OZON      PEST            REN  \\\n",
       "0  0.0   3.210888       0.000000  3.767853e-07  0.012181       0.275217   \n",
       "1  0.0   0.000000       0.000000  0.000000e+00  0.000000       0.000000   \n",
       "2  0.0   0.000000       0.000000  0.000000e+00  0.000000       0.000000   \n",
       "3  0.0  23.518978  435169.166702  1.886537e-03  0.000006  293448.484963   \n",
       "4  0.0   0.000000       0.000000  0.000000e+00  0.000000       0.000000   \n",
       "\n",
       "          SMOG          VADD         WATR  \n",
       "0    20.041190    654.873075   136.234634  \n",
       "1     0.000000      0.000000     0.000000  \n",
       "2     0.000000      0.000000     0.000000  \n",
       "3  2400.143851  11995.153334  7473.552102  \n",
       "4     0.000000      0.000000     0.000000  \n",
       "\n",
       "[5 rows x 40 columns]"
      ]
     },
     "execution_count": 29,
     "metadata": {},
     "output_type": "execute_result"
    }
   ],
   "source": [
    "df_inner.head()"
   ]
  },
  {
   "cell_type": "code",
   "execution_count": 30,
   "metadata": {},
   "outputs": [
    {
     "data": {
      "text/plain": [
       "array([ 1,  2,  4,  5,  6,  8,  9, 10, 12, 13, 15, 16, 17, 18, 19, 20, 21,\n",
       "       22, 23, 24, 25, 26, 27, 28, 29, 30, 31, 32, 33, 34, 35, 36, 37, 38,\n",
       "       39, 40, 41, 42, 44, 45, 46, 47, 48, 49, 50, 51, 53, 54, 55, 56])"
      ]
     },
     "execution_count": 30,
     "metadata": {},
     "output_type": "execute_result"
    }
   ],
   "source": [
    "df_inner['stateFIPS'].unique()"
   ]
  },
  {
   "cell_type": "markdown",
   "metadata": {},
   "source": [
    "### Let's use PCA on the data_set"
   ]
  },
  {
   "cell_type": "code",
   "execution_count": 45,
   "metadata": {},
   "outputs": [],
   "source": [
    "df_factors = df_inner[['ACID',\n",
    "       'ENRG', 'ETOX', 'EUTR', 'FOOD', 'GCC', 'HAPS', 'HAZW', 'HC', 'HNC',\n",
    "       'HRSP', 'HTOX', 'JOBS', 'LAND', 'METL', 'MINE', 'MSW', 'NREN', 'OZON',\n",
    "       'PEST', 'REN', 'SMOG', 'VADD', 'WATR', 'annual_count_avg']]\n",
    "df_factors=df_factors.rename(columns={'annual_count_avg': \"cancer\"})"
   ]
  },
  {
   "cell_type": "code",
   "execution_count": 51,
   "metadata": {},
   "outputs": [
    {
     "data": {
      "text/plain": [
       "array(['304.0', '8', '3 or fewer', ..., '248.0', '2452.0', '326.0'],\n",
       "      dtype=object)"
      ]
     },
     "execution_count": 51,
     "metadata": {},
     "output_type": "execute_result"
    }
   ],
   "source": [
    "# TODO: Replace 3 or fewer value by randomly choosing 0, 1, 2, 3\n",
    "df_factors['cancer'].unique()"
   ]
  },
  {
   "cell_type": "markdown",
   "metadata": {},
   "source": [
    "#### Covariance matrices"
   ]
  },
  {
   "cell_type": "code",
   "execution_count": 47,
   "metadata": {},
   "outputs": [
    {
     "data": {
      "image/png": "[encoded data removed]",
      "text/plain": [
       "<Figure size 1440x1152 with 2 Axes>"
      ]
     },
     "metadata": {
      "needs_background": "light"
     },
     "output_type": "display_data"
    }
   ],
   "source": [
    "X = df_factors.iloc[:,0:24]  #independent columns\n",
    "y = df_factors.iloc[:,-1]    #target column i.e cancer_rates\n",
    "#get correlations of each features in dataset\n",
    "corrmat = df_factors.corr()\n",
    "top_corr_features = corrmat.index\n",
    "plt.figure(figsize=(20,16))\n",
    "#plot heat map\n",
    "g=sns.heatmap(df_factors[top_corr_features].corr(),annot=True,cmap='Reds')\n",
    "# doesn't show cancer column because it has vaules that are strings"
   ]
  },
  {
   "cell_type": "markdown",
   "metadata": {},
   "source": [
    "#### PCA model"
   ]
  },
  {
   "cell_type": "code",
   "execution_count": 36,
   "metadata": {},
   "outputs": [
    {
     "data": {
      "text/plain": [
       "PCA(copy=True, iterated_power='auto', n_components=24, random_state=None,\n",
       "    svd_solver='full', tol=0.0, whiten=False)"
      ]
     },
     "execution_count": 36,
     "metadata": {},
     "output_type": "execute_result"
    }
   ],
   "source": [
    "pca = PCA(n_components=24, svd_solver='full')\n",
    "pca.fit(df_factors.loc[:, df_factors.columns != 'annual_count_avg'])"
   ]
  },
  {
   "cell_type": "code",
   "execution_count": 38,
   "metadata": {},
   "outputs": [
    {
     "data": {
      "text/plain": [
       "array([2.81280385e+09, 2.06340105e+08, 1.46563582e+08, 6.62401758e+07,\n",
       "       4.95302414e+07, 2.63797371e+07, 2.66561514e+06, 2.30385536e+06,\n",
       "       2.09713549e+06, 7.38181277e+05, 4.63361231e+05, 2.54331914e+05,\n",
       "       4.34554548e+04, 2.27082756e+04, 8.84226670e+03, 6.79066765e+03,\n",
       "       1.85208472e+03, 4.76587591e+01, 1.31694239e+01, 3.12992441e+00,\n",
       "       1.28821813e-01, 1.61722398e-03, 3.05382013e-04, 1.52935655e-06])"
      ]
     },
     "execution_count": 38,
     "metadata": {},
     "output_type": "execute_result"
    }
   ],
   "source": [
    "pca.singular_values_"
   ]
  },
  {
   "cell_type": "markdown",
   "metadata": {},
   "source": [
    "### Now we want to get the most important environemental indicators that affect the annual_count_avg:\n",
    "Let's build a regression model that connect environemental factors and incidence rates"
   ]
  },
  {
   "cell_type": "markdown",
   "metadata": {},
   "source": [
    "Get code from regression models from Nazanin's notebooks"
   ]
  },
  {
   "cell_type": "code",
   "execution_count": null,
   "metadata": {},
   "outputs": [],
   "source": []
  },
  {
   "cell_type": "markdown",
   "metadata": {},
   "source": [
    "### Now we want to predict industry identifier based on Environemental values"
   ]
  },
  {
   "cell_type": "code",
   "execution_count": null,
   "metadata": {},
   "outputs": [],
   "source": [
    "# TODO: Test different classifiers"
   ]
  },
  {
   "cell_type": "markdown",
   "metadata": {},
   "source": [
    "### Question to be answered how do we caracterize the size of an industry ?\n",
    "### Also we also want to predict Envirenemental values out of which industries are present in a county and the size of each industry (This is useful for the what if analysis)"
   ]
  },
  {
   "cell_type": "code",
   "execution_count": null,
   "metadata": {},
   "outputs": [],
   "source": []
  }
 ],
 "metadata": {
  "kernelspec": {
   "display_name": "Python 3",
   "language": "python",
   "name": "python3"
  },
  "language_info": {
   "codemirror_mode": {
    "name": "ipython",
    "version": 3
   },
   "file_extension": ".py",
   "mimetype": "text/x-python",
   "name": "python",
   "nbconvert_exporter": "python",
   "pygments_lexer": "ipython3",
   "version": "3.7.7"
  }
 },
 "nbformat": 4,
 "nbformat_minor": 4
}
