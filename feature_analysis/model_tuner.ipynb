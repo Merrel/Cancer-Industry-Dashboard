{
 "nbformat": 4,
 "nbformat_minor": 2,
 "metadata": {
  "language_info": {
   "name": "python",
   "codemirror_mode": {
    "name": "ipython",
    "version": 3
   },
   "version": "3.7.6-final"
  },
  "orig_nbformat": 2,
  "file_extension": ".py",
  "mimetype": "text/x-python",
  "name": "python",
  "npconvert_exporter": "python",
  "pygments_lexer": "ipython3",
  "version": 3,
  "kernelspec": {
   "name": "python37664bitanaconda3virtualenv645fb40bd430409885d817c947821ebb",
   "display_name": "Python 3.7.6 64-bit ('anaconda3': virtualenv)"
  }
 },
 "cells": [
  {
   "cell_type": "code",
   "execution_count": 1,
   "metadata": {},
   "outputs": [],
   "source": [
    "import pandas as pd\n",
    "from sklearn.model_selection import train_test_split\n",
    "from sklearn.preprocessing import StandardScaler\n",
    "from sklearn import linear_model\n",
    "\n",
    "\n",
    "dataset = pd.read_pickle(\"Model1_Data\")\n",
    "RSEED = 100\n",
    "\n",
    "x1 = pd.concat([dataset.loc[:, 'payann':'emp'], dataset.loc[:, '113000':]], axis=1)\n",
    "y = dataset.loc[:, 'ACID':'WATR']\n",
    "\n"
   ]
  },
  {
   "cell_type": "code",
   "execution_count": 2,
   "metadata": {},
   "outputs": [],
   "source": [
    "dataset.to_csv('dataset.csv')"
   ]
  },
  {
   "cell_type": "code",
   "execution_count": 2,
   "metadata": {},
   "outputs": [
    {
     "data": {
      "text/html": "<div>\n<style scoped>\n    .dataframe tbody tr th:only-of-type {\n        vertical-align: middle;\n    }\n\n    .dataframe tbody tr th {\n        vertical-align: top;\n    }\n\n    .dataframe thead th {\n        text-align: right;\n    }\n</style>\n<table border=\"1\" class=\"dataframe\">\n  <thead>\n    <tr style=\"text-align: right;\">\n      <th></th>\n      <th>payann</th>\n      <th>total_compensation</th>\n      <th>added_value ($)</th>\n      <th>local_tranformation_ind</th>\n      <th>estab</th>\n      <th>emp</th>\n      <th>113000</th>\n      <th>212310</th>\n      <th>2123a0</th>\n      <th>221100</th>\n      <th>...</th>\n      <th>322291</th>\n      <th>311230</th>\n      <th>332913</th>\n      <th>334300</th>\n      <th>335221</th>\n      <th>325413</th>\n      <th>333991</th>\n      <th>311221</th>\n      <th>335110</th>\n      <th>335224</th>\n    </tr>\n  </thead>\n  <tbody>\n    <tr>\n      <th>0</th>\n      <td>1.102</td>\n      <td>6363</td>\n      <td>8448</td>\n      <td>0.001463</td>\n      <td>6</td>\n      <td>30</td>\n      <td>1</td>\n      <td>0</td>\n      <td>0</td>\n      <td>0</td>\n      <td>...</td>\n      <td>0</td>\n      <td>0</td>\n      <td>0</td>\n      <td>0</td>\n      <td>0</td>\n      <td>0</td>\n      <td>0</td>\n      <td>0</td>\n      <td>0</td>\n      <td>0</td>\n    </tr>\n    <tr>\n      <th>1</th>\n      <td>0.000</td>\n      <td>2385</td>\n      <td>8559</td>\n      <td>0.000000</td>\n      <td>1</td>\n      <td>0</td>\n      <td>0</td>\n      <td>1</td>\n      <td>0</td>\n      <td>0</td>\n      <td>...</td>\n      <td>0</td>\n      <td>0</td>\n      <td>0</td>\n      <td>0</td>\n      <td>0</td>\n      <td>0</td>\n      <td>0</td>\n      <td>0</td>\n      <td>0</td>\n      <td>0</td>\n    </tr>\n    <tr>\n      <th>2</th>\n      <td>0.000</td>\n      <td>3190</td>\n      <td>8450</td>\n      <td>0.000000</td>\n      <td>1</td>\n      <td>0</td>\n      <td>0</td>\n      <td>0</td>\n      <td>1</td>\n      <td>0</td>\n      <td>...</td>\n      <td>0</td>\n      <td>0</td>\n      <td>0</td>\n      <td>0</td>\n      <td>0</td>\n      <td>0</td>\n      <td>0</td>\n      <td>0</td>\n      <td>0</td>\n      <td>0</td>\n    </tr>\n    <tr>\n      <th>3</th>\n      <td>16.657</td>\n      <td>54469</td>\n      <td>195047</td>\n      <td>0.059647</td>\n      <td>8</td>\n      <td>182</td>\n      <td>0</td>\n      <td>0</td>\n      <td>0</td>\n      <td>1</td>\n      <td>...</td>\n      <td>0</td>\n      <td>0</td>\n      <td>0</td>\n      <td>0</td>\n      <td>0</td>\n      <td>0</td>\n      <td>0</td>\n      <td>0</td>\n      <td>0</td>\n      <td>0</td>\n    </tr>\n    <tr>\n      <th>4</th>\n      <td>0.000</td>\n      <td>3991</td>\n      <td>8132</td>\n      <td>0.000000</td>\n      <td>1</td>\n      <td>0</td>\n      <td>0</td>\n      <td>0</td>\n      <td>0</td>\n      <td>0</td>\n      <td>...</td>\n      <td>0</td>\n      <td>0</td>\n      <td>0</td>\n      <td>0</td>\n      <td>0</td>\n      <td>0</td>\n      <td>0</td>\n      <td>0</td>\n      <td>0</td>\n      <td>0</td>\n    </tr>\n    <tr>\n      <th>...</th>\n      <td>...</td>\n      <td>...</td>\n      <td>...</td>\n      <td>...</td>\n      <td>...</td>\n      <td>...</td>\n      <td>...</td>\n      <td>...</td>\n      <td>...</td>\n      <td>...</td>\n      <td>...</td>\n      <td>...</td>\n      <td>...</td>\n      <td>...</td>\n      <td>...</td>\n      <td>...</td>\n      <td>...</td>\n      <td>...</td>\n      <td>...</td>\n      <td>...</td>\n      <td>...</td>\n    </tr>\n    <tr>\n      <th>7029059</th>\n      <td>0.000</td>\n      <td>30961</td>\n      <td>46819</td>\n      <td>0.000000</td>\n      <td>1</td>\n      <td>0</td>\n      <td>0</td>\n      <td>0</td>\n      <td>0</td>\n      <td>0</td>\n      <td>...</td>\n      <td>0</td>\n      <td>0</td>\n      <td>0</td>\n      <td>0</td>\n      <td>0</td>\n      <td>0</td>\n      <td>0</td>\n      <td>0</td>\n      <td>0</td>\n      <td>0</td>\n    </tr>\n    <tr>\n      <th>7029060</th>\n      <td>0.000</td>\n      <td>7516</td>\n      <td>11735</td>\n      <td>0.000000</td>\n      <td>1</td>\n      <td>0</td>\n      <td>0</td>\n      <td>0</td>\n      <td>0</td>\n      <td>0</td>\n      <td>...</td>\n      <td>0</td>\n      <td>0</td>\n      <td>0</td>\n      <td>0</td>\n      <td>0</td>\n      <td>0</td>\n      <td>0</td>\n      <td>0</td>\n      <td>0</td>\n      <td>0</td>\n    </tr>\n    <tr>\n      <th>7029061</th>\n      <td>0.177</td>\n      <td>15995</td>\n      <td>34235</td>\n      <td>0.000379</td>\n      <td>8</td>\n      <td>15</td>\n      <td>0</td>\n      <td>0</td>\n      <td>0</td>\n      <td>0</td>\n      <td>...</td>\n      <td>0</td>\n      <td>0</td>\n      <td>0</td>\n      <td>0</td>\n      <td>0</td>\n      <td>0</td>\n      <td>0</td>\n      <td>0</td>\n      <td>0</td>\n      <td>0</td>\n    </tr>\n    <tr>\n      <th>7029062</th>\n      <td>0.000</td>\n      <td>12255</td>\n      <td>21646</td>\n      <td>0.000000</td>\n      <td>1</td>\n      <td>0</td>\n      <td>0</td>\n      <td>0</td>\n      <td>0</td>\n      <td>0</td>\n      <td>...</td>\n      <td>0</td>\n      <td>0</td>\n      <td>0</td>\n      <td>0</td>\n      <td>0</td>\n      <td>0</td>\n      <td>0</td>\n      <td>0</td>\n      <td>0</td>\n      <td>0</td>\n    </tr>\n    <tr>\n      <th>7029063</th>\n      <td>0.000</td>\n      <td>22449</td>\n      <td>29800</td>\n      <td>0.000000</td>\n      <td>2</td>\n      <td>0</td>\n      <td>0</td>\n      <td>0</td>\n      <td>0</td>\n      <td>0</td>\n      <td>...</td>\n      <td>0</td>\n      <td>0</td>\n      <td>0</td>\n      <td>0</td>\n      <td>0</td>\n      <td>0</td>\n      <td>0</td>\n      <td>0</td>\n      <td>0</td>\n      <td>0</td>\n    </tr>\n  </tbody>\n</table>\n<p>305666 rows × 341 columns</p>\n</div>",
      "text/plain": "         payann  total_compensation  added_value ($)  local_tranformation_ind  \\\n0         1.102                6363             8448                 0.001463   \n1         0.000                2385             8559                 0.000000   \n2         0.000                3190             8450                 0.000000   \n3        16.657               54469           195047                 0.059647   \n4         0.000                3991             8132                 0.000000   \n...         ...                 ...              ...                      ...   \n7029059   0.000               30961            46819                 0.000000   \n7029060   0.000                7516            11735                 0.000000   \n7029061   0.177               15995            34235                 0.000379   \n7029062   0.000               12255            21646                 0.000000   \n7029063   0.000               22449            29800                 0.000000   \n\n         estab  emp  113000  212310  2123a0  221100  ...  322291  311230  \\\n0            6   30       1       0       0       0  ...       0       0   \n1            1    0       0       1       0       0  ...       0       0   \n2            1    0       0       0       1       0  ...       0       0   \n3            8  182       0       0       0       1  ...       0       0   \n4            1    0       0       0       0       0  ...       0       0   \n...        ...  ...     ...     ...     ...     ...  ...     ...     ...   \n7029059      1    0       0       0       0       0  ...       0       0   \n7029060      1    0       0       0       0       0  ...       0       0   \n7029061      8   15       0       0       0       0  ...       0       0   \n7029062      1    0       0       0       0       0  ...       0       0   \n7029063      2    0       0       0       0       0  ...       0       0   \n\n         332913  334300  335221  325413  333991  311221  335110  335224  \n0             0       0       0       0       0       0       0       0  \n1             0       0       0       0       0       0       0       0  \n2             0       0       0       0       0       0       0       0  \n3             0       0       0       0       0       0       0       0  \n4             0       0       0       0       0       0       0       0  \n...         ...     ...     ...     ...     ...     ...     ...     ...  \n7029059       0       0       0       0       0       0       0       0  \n7029060       0       0       0       0       0       0       0       0  \n7029061       0       0       0       0       0       0       0       0  \n7029062       0       0       0       0       0       0       0       0  \n7029063       0       0       0       0       0       0       0       0  \n\n[305666 rows x 341 columns]"
     },
     "execution_count": 2,
     "metadata": {},
     "output_type": "execute_result"
    }
   ],
   "source": [
    "x1"
   ]
  },
  {
   "cell_type": "code",
   "execution_count": 4,
   "metadata": {},
   "outputs": [
    {
     "data": {
      "text/plain": "payann                        0.0\ntotal_compensation         2385.0\nadded_value ($)            8559.0\nlocal_tranformation_ind       0.0\nestab                         1.0\n                            ...  \n325413                        0.0\n333991                        0.0\n311221                        0.0\n335110                        0.0\n335224                        0.0\nName: 1, Length: 341, dtype: float64"
     },
     "execution_count": 4,
     "metadata": {},
     "output_type": "execute_result"
    }
   ],
   "source": [
    "X_train1.loc[1, :]"
   ]
  },
  {
   "cell_type": "code",
   "execution_count": 5,
   "metadata": {},
   "outputs": [
    {
     "data": {
      "text/html": "<div>\n<style scoped>\n    .dataframe tbody tr th:only-of-type {\n        vertical-align: middle;\n    }\n\n    .dataframe tbody tr th {\n        vertical-align: top;\n    }\n\n    .dataframe thead th {\n        text-align: right;\n    }\n</style>\n<table border=\"1\" class=\"dataframe\">\n  <thead>\n    <tr style=\"text-align: right;\">\n      <th></th>\n      <th>ACID</th>\n      <th>ENRG</th>\n      <th>ETOX</th>\n      <th>EUTR</th>\n      <th>FOOD</th>\n      <th>GCC</th>\n      <th>HAPS</th>\n      <th>HAZW</th>\n      <th>HC</th>\n      <th>HNC</th>\n      <th>...</th>\n      <th>METL</th>\n      <th>MINE</th>\n      <th>MSW</th>\n      <th>NREN</th>\n      <th>OZON</th>\n      <th>PEST</th>\n      <th>REN</th>\n      <th>SMOG</th>\n      <th>VADD</th>\n      <th>WATR</th>\n    </tr>\n  </thead>\n  <tbody>\n    <tr>\n      <th>6069220</th>\n      <td>0.000034</td>\n      <td>0.000131</td>\n      <td>0.000038</td>\n      <td>0.000354</td>\n      <td>0.002658</td>\n      <td>0.632430</td>\n      <td>0.000008</td>\n      <td>0.000239</td>\n      <td>9.549500e-12</td>\n      <td>1.878910e-11</td>\n      <td>...</td>\n      <td>2.453570e-07</td>\n      <td>0.0</td>\n      <td>0.030240</td>\n      <td>0.0</td>\n      <td>1.740880e-10</td>\n      <td>4.732500e-11</td>\n      <td>0.000131</td>\n      <td>0.001272</td>\n      <td>6.417863</td>\n      <td>0.018637</td>\n    </tr>\n    <tr>\n      <th>1540301</th>\n      <td>0.000000</td>\n      <td>0.000000</td>\n      <td>0.000000</td>\n      <td>0.000000</td>\n      <td>0.000000</td>\n      <td>0.000000</td>\n      <td>0.000000</td>\n      <td>0.000000</td>\n      <td>0.000000e+00</td>\n      <td>0.000000e+00</td>\n      <td>...</td>\n      <td>0.000000e+00</td>\n      <td>0.0</td>\n      <td>0.000000</td>\n      <td>0.0</td>\n      <td>0.000000e+00</td>\n      <td>0.000000e+00</td>\n      <td>0.000000</td>\n      <td>0.000000</td>\n      <td>0.000000</td>\n      <td>0.000000</td>\n    </tr>\n    <tr>\n      <th>5203730</th>\n      <td>0.000000</td>\n      <td>0.000000</td>\n      <td>0.000000</td>\n      <td>0.000000</td>\n      <td>0.000000</td>\n      <td>0.000000</td>\n      <td>0.000000</td>\n      <td>0.000000</td>\n      <td>0.000000e+00</td>\n      <td>0.000000e+00</td>\n      <td>...</td>\n      <td>0.000000e+00</td>\n      <td>0.0</td>\n      <td>0.000000</td>\n      <td>0.0</td>\n      <td>0.000000e+00</td>\n      <td>0.000000e+00</td>\n      <td>0.000000</td>\n      <td>0.000000</td>\n      <td>0.000000</td>\n      <td>0.000000</td>\n    </tr>\n    <tr>\n      <th>3307673</th>\n      <td>0.000000</td>\n      <td>0.000000</td>\n      <td>0.000000</td>\n      <td>0.000000</td>\n      <td>0.000000</td>\n      <td>0.000000</td>\n      <td>0.000000</td>\n      <td>0.000000</td>\n      <td>0.000000e+00</td>\n      <td>0.000000e+00</td>\n      <td>...</td>\n      <td>0.000000e+00</td>\n      <td>0.0</td>\n      <td>0.000000</td>\n      <td>0.0</td>\n      <td>0.000000e+00</td>\n      <td>0.000000e+00</td>\n      <td>0.000000</td>\n      <td>0.000000</td>\n      <td>0.000000</td>\n      <td>0.000000</td>\n    </tr>\n    <tr>\n      <th>4172813</th>\n      <td>0.000000</td>\n      <td>0.000000</td>\n      <td>0.000000</td>\n      <td>0.000000</td>\n      <td>0.000000</td>\n      <td>0.000000</td>\n      <td>0.000000</td>\n      <td>0.000000</td>\n      <td>0.000000e+00</td>\n      <td>0.000000e+00</td>\n      <td>...</td>\n      <td>0.000000e+00</td>\n      <td>0.0</td>\n      <td>0.000000</td>\n      <td>0.0</td>\n      <td>0.000000e+00</td>\n      <td>0.000000e+00</td>\n      <td>0.000000</td>\n      <td>0.000000</td>\n      <td>0.000000</td>\n      <td>0.000000</td>\n    </tr>\n    <tr>\n      <th>...</th>\n      <td>...</td>\n      <td>...</td>\n      <td>...</td>\n      <td>...</td>\n      <td>...</td>\n      <td>...</td>\n      <td>...</td>\n      <td>...</td>\n      <td>...</td>\n      <td>...</td>\n      <td>...</td>\n      <td>...</td>\n      <td>...</td>\n      <td>...</td>\n      <td>...</td>\n      <td>...</td>\n      <td>...</td>\n      <td>...</td>\n      <td>...</td>\n      <td>...</td>\n      <td>...</td>\n    </tr>\n    <tr>\n      <th>1508903</th>\n      <td>0.000000</td>\n      <td>0.000000</td>\n      <td>0.000000</td>\n      <td>0.000000</td>\n      <td>0.000000</td>\n      <td>0.000000</td>\n      <td>0.000000</td>\n      <td>0.000000</td>\n      <td>0.000000e+00</td>\n      <td>0.000000e+00</td>\n      <td>...</td>\n      <td>0.000000e+00</td>\n      <td>0.0</td>\n      <td>0.000000</td>\n      <td>0.0</td>\n      <td>0.000000e+00</td>\n      <td>0.000000e+00</td>\n      <td>0.000000</td>\n      <td>0.000000</td>\n      <td>0.000000</td>\n      <td>0.000000</td>\n    </tr>\n    <tr>\n      <th>5836981</th>\n      <td>0.000000</td>\n      <td>0.000000</td>\n      <td>0.000000</td>\n      <td>0.000000</td>\n      <td>0.000000</td>\n      <td>0.000000</td>\n      <td>0.000000</td>\n      <td>0.000000</td>\n      <td>0.000000e+00</td>\n      <td>0.000000e+00</td>\n      <td>...</td>\n      <td>0.000000e+00</td>\n      <td>0.0</td>\n      <td>0.000000</td>\n      <td>0.0</td>\n      <td>0.000000e+00</td>\n      <td>0.000000e+00</td>\n      <td>0.000000</td>\n      <td>0.000000</td>\n      <td>0.000000</td>\n      <td>0.000000</td>\n    </tr>\n    <tr>\n      <th>4844637</th>\n      <td>0.000001</td>\n      <td>0.000057</td>\n      <td>0.000009</td>\n      <td>0.000001</td>\n      <td>0.000528</td>\n      <td>0.002607</td>\n      <td>0.000014</td>\n      <td>0.000028</td>\n      <td>2.650650e-12</td>\n      <td>9.579550e-12</td>\n      <td>...</td>\n      <td>4.173610e-09</td>\n      <td>0.0</td>\n      <td>0.002435</td>\n      <td>0.0</td>\n      <td>3.069180e-09</td>\n      <td>4.301500e-11</td>\n      <td>0.000057</td>\n      <td>0.000291</td>\n      <td>0.218968</td>\n      <td>0.000334</td>\n    </tr>\n    <tr>\n      <th>1289364</th>\n      <td>0.000000</td>\n      <td>0.000000</td>\n      <td>0.000000</td>\n      <td>0.000000</td>\n      <td>0.000000</td>\n      <td>0.000000</td>\n      <td>0.000000</td>\n      <td>0.000000</td>\n      <td>0.000000e+00</td>\n      <td>0.000000e+00</td>\n      <td>...</td>\n      <td>0.000000e+00</td>\n      <td>0.0</td>\n      <td>0.000000</td>\n      <td>0.0</td>\n      <td>0.000000e+00</td>\n      <td>0.000000e+00</td>\n      <td>0.000000</td>\n      <td>0.000000</td>\n      <td>0.000000</td>\n      <td>0.000000</td>\n    </tr>\n    <tr>\n      <th>6910716</th>\n      <td>0.000000</td>\n      <td>0.000000</td>\n      <td>0.000000</td>\n      <td>0.000000</td>\n      <td>0.000000</td>\n      <td>0.000000</td>\n      <td>0.000000</td>\n      <td>0.000000</td>\n      <td>0.000000e+00</td>\n      <td>0.000000e+00</td>\n      <td>...</td>\n      <td>0.000000e+00</td>\n      <td>0.0</td>\n      <td>0.000000</td>\n      <td>0.0</td>\n      <td>0.000000e+00</td>\n      <td>0.000000e+00</td>\n      <td>0.000000</td>\n      <td>0.000000</td>\n      <td>0.000000</td>\n      <td>0.000000</td>\n    </tr>\n  </tbody>\n</table>\n<p>213966 rows × 24 columns</p>\n</div>",
      "text/plain": "             ACID      ENRG      ETOX      EUTR      FOOD       GCC      HAPS  \\\n6069220  0.000034  0.000131  0.000038  0.000354  0.002658  0.632430  0.000008   \n1540301  0.000000  0.000000  0.000000  0.000000  0.000000  0.000000  0.000000   \n5203730  0.000000  0.000000  0.000000  0.000000  0.000000  0.000000  0.000000   \n3307673  0.000000  0.000000  0.000000  0.000000  0.000000  0.000000  0.000000   \n4172813  0.000000  0.000000  0.000000  0.000000  0.000000  0.000000  0.000000   \n...           ...       ...       ...       ...       ...       ...       ...   \n1508903  0.000000  0.000000  0.000000  0.000000  0.000000  0.000000  0.000000   \n5836981  0.000000  0.000000  0.000000  0.000000  0.000000  0.000000  0.000000   \n4844637  0.000001  0.000057  0.000009  0.000001  0.000528  0.002607  0.000014   \n1289364  0.000000  0.000000  0.000000  0.000000  0.000000  0.000000  0.000000   \n6910716  0.000000  0.000000  0.000000  0.000000  0.000000  0.000000  0.000000   \n\n             HAZW            HC           HNC  ...          METL  MINE  \\\n6069220  0.000239  9.549500e-12  1.878910e-11  ...  2.453570e-07   0.0   \n1540301  0.000000  0.000000e+00  0.000000e+00  ...  0.000000e+00   0.0   \n5203730  0.000000  0.000000e+00  0.000000e+00  ...  0.000000e+00   0.0   \n3307673  0.000000  0.000000e+00  0.000000e+00  ...  0.000000e+00   0.0   \n4172813  0.000000  0.000000e+00  0.000000e+00  ...  0.000000e+00   0.0   \n...           ...           ...           ...  ...           ...   ...   \n1508903  0.000000  0.000000e+00  0.000000e+00  ...  0.000000e+00   0.0   \n5836981  0.000000  0.000000e+00  0.000000e+00  ...  0.000000e+00   0.0   \n4844637  0.000028  2.650650e-12  9.579550e-12  ...  4.173610e-09   0.0   \n1289364  0.000000  0.000000e+00  0.000000e+00  ...  0.000000e+00   0.0   \n6910716  0.000000  0.000000e+00  0.000000e+00  ...  0.000000e+00   0.0   \n\n              MSW  NREN          OZON          PEST       REN      SMOG  \\\n6069220  0.030240   0.0  1.740880e-10  4.732500e-11  0.000131  0.001272   \n1540301  0.000000   0.0  0.000000e+00  0.000000e+00  0.000000  0.000000   \n5203730  0.000000   0.0  0.000000e+00  0.000000e+00  0.000000  0.000000   \n3307673  0.000000   0.0  0.000000e+00  0.000000e+00  0.000000  0.000000   \n4172813  0.000000   0.0  0.000000e+00  0.000000e+00  0.000000  0.000000   \n...           ...   ...           ...           ...       ...       ...   \n1508903  0.000000   0.0  0.000000e+00  0.000000e+00  0.000000  0.000000   \n5836981  0.000000   0.0  0.000000e+00  0.000000e+00  0.000000  0.000000   \n4844637  0.002435   0.0  3.069180e-09  4.301500e-11  0.000057  0.000291   \n1289364  0.000000   0.0  0.000000e+00  0.000000e+00  0.000000  0.000000   \n6910716  0.000000   0.0  0.000000e+00  0.000000e+00  0.000000  0.000000   \n\n             VADD      WATR  \n6069220  6.417863  0.018637  \n1540301  0.000000  0.000000  \n5203730  0.000000  0.000000  \n3307673  0.000000  0.000000  \n4172813  0.000000  0.000000  \n...           ...       ...  \n1508903  0.000000  0.000000  \n5836981  0.000000  0.000000  \n4844637  0.218968  0.000334  \n1289364  0.000000  0.000000  \n6910716  0.000000  0.000000  \n\n[213966 rows x 24 columns]"
     },
     "execution_count": 5,
     "metadata": {},
     "output_type": "execute_result"
    }
   ],
   "source": [
    "y_train"
   ]
  },
  {
   "cell_type": "code",
   "execution_count": 20,
   "metadata": {},
   "outputs": [
    {
     "name": "stdout",
     "output_type": "stream",
     "text": "0.04210501892227106\n"
    }
   ],
   "source": [
    "ridge = linear_model.Ridge(alpha=0.0001).fit(X_train1, y_train)\n",
    "print(ridge.score(X_test1, y_test))"
   ]
  },
  {
   "cell_type": "code",
   "execution_count": 26,
   "metadata": {},
   "outputs": [
    {
     "name": "stdout",
     "output_type": "stream",
     "text": "0.042106625893106264\n"
    }
   ],
   "source": [
    "lasso = linear_model.Lasso(alpha=0.001).fit(X_train1, y_train)\n",
    "print(lasso.score(X_test1, y_test))"
   ]
  },
  {
   "cell_type": "code",
   "execution_count": 6,
   "metadata": {},
   "outputs": [
    {
     "name": "stdout",
     "output_type": "stream",
     "text": "0.04210613740922495\n"
    }
   ],
   "source": [
    "multi = linear_model.MultiTaskLasso(alpha=0.001).fit(X_train1, y_train)\n",
    "print(multi.score(X_test1, y_test))"
   ]
  },
  {
   "cell_type": "code",
   "execution_count": null,
   "metadata": {},
   "outputs": [],
   "source": [
    "eNet = linear_model.ElasticNet(random_state=RSEED).fit(X_train1, y_train)\n",
    "print(eNet.score(X_test1, y_test))"
   ]
  },
  {
   "cell_type": "code",
   "execution_count": null,
   "metadata": {},
   "outputs": [],
   "source": [
    "multi = linear_model.MultiTaskElasticNet(random_state=RSEED).fit(X_train1, y_train)\n",
    "print(multi.score(X_test1, y_test))"
   ]
  },
  {
   "cell_type": "markdown",
   "metadata": {},
   "source": [
    "## Trying with just total_compensation, payann, added_value, emp, estab"
   ]
  },
  {
   "cell_type": "code",
   "execution_count": 15,
   "metadata": {},
   "outputs": [
    {
     "data": {
      "text/html": "<div>\n<style scoped>\n    .dataframe tbody tr th:only-of-type {\n        vertical-align: middle;\n    }\n\n    .dataframe tbody tr th {\n        vertical-align: top;\n    }\n\n    .dataframe thead th {\n        text-align: right;\n    }\n</style>\n<table border=\"1\" class=\"dataframe\">\n  <thead>\n    <tr style=\"text-align: right;\">\n      <th></th>\n      <th>total_compensation</th>\n      <th>added_value ($)</th>\n      <th>estab</th>\n      <th>emp</th>\n      <th>113000</th>\n      <th>212310</th>\n      <th>2123a0</th>\n      <th>221100</th>\n      <th>221300</th>\n      <th>31161a</th>\n      <th>...</th>\n      <th>322291</th>\n      <th>311230</th>\n      <th>332913</th>\n      <th>334300</th>\n      <th>335221</th>\n      <th>325413</th>\n      <th>333991</th>\n      <th>311221</th>\n      <th>335110</th>\n      <th>335224</th>\n    </tr>\n  </thead>\n  <tbody>\n    <tr>\n      <th>0</th>\n      <td>6363</td>\n      <td>8448</td>\n      <td>6</td>\n      <td>30</td>\n      <td>1</td>\n      <td>0</td>\n      <td>0</td>\n      <td>0</td>\n      <td>0</td>\n      <td>0</td>\n      <td>...</td>\n      <td>0</td>\n      <td>0</td>\n      <td>0</td>\n      <td>0</td>\n      <td>0</td>\n      <td>0</td>\n      <td>0</td>\n      <td>0</td>\n      <td>0</td>\n      <td>0</td>\n    </tr>\n    <tr>\n      <th>1</th>\n      <td>2385</td>\n      <td>8559</td>\n      <td>1</td>\n      <td>0</td>\n      <td>0</td>\n      <td>1</td>\n      <td>0</td>\n      <td>0</td>\n      <td>0</td>\n      <td>0</td>\n      <td>...</td>\n      <td>0</td>\n      <td>0</td>\n      <td>0</td>\n      <td>0</td>\n      <td>0</td>\n      <td>0</td>\n      <td>0</td>\n      <td>0</td>\n      <td>0</td>\n      <td>0</td>\n    </tr>\n    <tr>\n      <th>2</th>\n      <td>3190</td>\n      <td>8450</td>\n      <td>1</td>\n      <td>0</td>\n      <td>0</td>\n      <td>0</td>\n      <td>1</td>\n      <td>0</td>\n      <td>0</td>\n      <td>0</td>\n      <td>...</td>\n      <td>0</td>\n      <td>0</td>\n      <td>0</td>\n      <td>0</td>\n      <td>0</td>\n      <td>0</td>\n      <td>0</td>\n      <td>0</td>\n      <td>0</td>\n      <td>0</td>\n    </tr>\n    <tr>\n      <th>3</th>\n      <td>54469</td>\n      <td>195047</td>\n      <td>8</td>\n      <td>182</td>\n      <td>0</td>\n      <td>0</td>\n      <td>0</td>\n      <td>1</td>\n      <td>0</td>\n      <td>0</td>\n      <td>...</td>\n      <td>0</td>\n      <td>0</td>\n      <td>0</td>\n      <td>0</td>\n      <td>0</td>\n      <td>0</td>\n      <td>0</td>\n      <td>0</td>\n      <td>0</td>\n      <td>0</td>\n    </tr>\n    <tr>\n      <th>4</th>\n      <td>3991</td>\n      <td>8132</td>\n      <td>1</td>\n      <td>0</td>\n      <td>0</td>\n      <td>0</td>\n      <td>0</td>\n      <td>0</td>\n      <td>1</td>\n      <td>0</td>\n      <td>...</td>\n      <td>0</td>\n      <td>0</td>\n      <td>0</td>\n      <td>0</td>\n      <td>0</td>\n      <td>0</td>\n      <td>0</td>\n      <td>0</td>\n      <td>0</td>\n      <td>0</td>\n    </tr>\n    <tr>\n      <th>...</th>\n      <td>...</td>\n      <td>...</td>\n      <td>...</td>\n      <td>...</td>\n      <td>...</td>\n      <td>...</td>\n      <td>...</td>\n      <td>...</td>\n      <td>...</td>\n      <td>...</td>\n      <td>...</td>\n      <td>...</td>\n      <td>...</td>\n      <td>...</td>\n      <td>...</td>\n      <td>...</td>\n      <td>...</td>\n      <td>...</td>\n      <td>...</td>\n      <td>...</td>\n      <td>...</td>\n    </tr>\n    <tr>\n      <th>7029059</th>\n      <td>30961</td>\n      <td>46819</td>\n      <td>1</td>\n      <td>0</td>\n      <td>0</td>\n      <td>0</td>\n      <td>0</td>\n      <td>0</td>\n      <td>0</td>\n      <td>0</td>\n      <td>...</td>\n      <td>0</td>\n      <td>0</td>\n      <td>0</td>\n      <td>0</td>\n      <td>0</td>\n      <td>0</td>\n      <td>0</td>\n      <td>0</td>\n      <td>0</td>\n      <td>0</td>\n    </tr>\n    <tr>\n      <th>7029060</th>\n      <td>7516</td>\n      <td>11735</td>\n      <td>1</td>\n      <td>0</td>\n      <td>0</td>\n      <td>0</td>\n      <td>0</td>\n      <td>0</td>\n      <td>0</td>\n      <td>0</td>\n      <td>...</td>\n      <td>0</td>\n      <td>0</td>\n      <td>0</td>\n      <td>0</td>\n      <td>0</td>\n      <td>0</td>\n      <td>0</td>\n      <td>0</td>\n      <td>0</td>\n      <td>0</td>\n    </tr>\n    <tr>\n      <th>7029061</th>\n      <td>15995</td>\n      <td>34235</td>\n      <td>8</td>\n      <td>15</td>\n      <td>0</td>\n      <td>0</td>\n      <td>0</td>\n      <td>0</td>\n      <td>0</td>\n      <td>0</td>\n      <td>...</td>\n      <td>0</td>\n      <td>0</td>\n      <td>0</td>\n      <td>0</td>\n      <td>0</td>\n      <td>0</td>\n      <td>0</td>\n      <td>0</td>\n      <td>0</td>\n      <td>0</td>\n    </tr>\n    <tr>\n      <th>7029062</th>\n      <td>12255</td>\n      <td>21646</td>\n      <td>1</td>\n      <td>0</td>\n      <td>0</td>\n      <td>0</td>\n      <td>0</td>\n      <td>0</td>\n      <td>0</td>\n      <td>0</td>\n      <td>...</td>\n      <td>0</td>\n      <td>0</td>\n      <td>0</td>\n      <td>0</td>\n      <td>0</td>\n      <td>0</td>\n      <td>0</td>\n      <td>0</td>\n      <td>0</td>\n      <td>0</td>\n    </tr>\n    <tr>\n      <th>7029063</th>\n      <td>22449</td>\n      <td>29800</td>\n      <td>2</td>\n      <td>0</td>\n      <td>0</td>\n      <td>0</td>\n      <td>0</td>\n      <td>0</td>\n      <td>0</td>\n      <td>0</td>\n      <td>...</td>\n      <td>0</td>\n      <td>0</td>\n      <td>0</td>\n      <td>0</td>\n      <td>0</td>\n      <td>0</td>\n      <td>0</td>\n      <td>0</td>\n      <td>0</td>\n      <td>0</td>\n    </tr>\n  </tbody>\n</table>\n<p>305666 rows × 339 columns</p>\n</div>",
      "text/plain": "         total_compensation  added_value ($)  estab  emp  113000  212310  \\\n0                      6363             8448      6   30       1       0   \n1                      2385             8559      1    0       0       1   \n2                      3190             8450      1    0       0       0   \n3                     54469           195047      8  182       0       0   \n4                      3991             8132      1    0       0       0   \n...                     ...              ...    ...  ...     ...     ...   \n7029059               30961            46819      1    0       0       0   \n7029060                7516            11735      1    0       0       0   \n7029061               15995            34235      8   15       0       0   \n7029062               12255            21646      1    0       0       0   \n7029063               22449            29800      2    0       0       0   \n\n         2123a0  221100  221300  31161a  ...  322291  311230  332913  334300  \\\n0             0       0       0       0  ...       0       0       0       0   \n1             0       0       0       0  ...       0       0       0       0   \n2             1       0       0       0  ...       0       0       0       0   \n3             0       1       0       0  ...       0       0       0       0   \n4             0       0       1       0  ...       0       0       0       0   \n...         ...     ...     ...     ...  ...     ...     ...     ...     ...   \n7029059       0       0       0       0  ...       0       0       0       0   \n7029060       0       0       0       0  ...       0       0       0       0   \n7029061       0       0       0       0  ...       0       0       0       0   \n7029062       0       0       0       0  ...       0       0       0       0   \n7029063       0       0       0       0  ...       0       0       0       0   \n\n         335221  325413  333991  311221  335110  335224  \n0             0       0       0       0       0       0  \n1             0       0       0       0       0       0  \n2             0       0       0       0       0       0  \n3             0       0       0       0       0       0  \n4             0       0       0       0       0       0  \n...         ...     ...     ...     ...     ...     ...  \n7029059       0       0       0       0       0       0  \n7029060       0       0       0       0       0       0  \n7029061       0       0       0       0       0       0  \n7029062       0       0       0       0       0       0  \n7029063       0       0       0       0       0       0  \n\n[305666 rows x 339 columns]"
     },
     "execution_count": 15,
     "metadata": {},
     "output_type": "execute_result"
    }
   ],
   "source": [
    "new_X = x1.drop(['payann', 'local_tranformation_ind'], axis=1)\n",
    "new_X"
   ]
  },
  {
   "cell_type": "code",
   "execution_count": 16,
   "metadata": {},
   "outputs": [
    {
     "data": {
      "text/html": "<div>\n<style scoped>\n    .dataframe tbody tr th:only-of-type {\n        vertical-align: middle;\n    }\n\n    .dataframe tbody tr th {\n        vertical-align: top;\n    }\n\n    .dataframe thead th {\n        text-align: right;\n    }\n</style>\n<table border=\"1\" class=\"dataframe\">\n  <thead>\n    <tr style=\"text-align: right;\">\n      <th></th>\n      <th>ACID</th>\n      <th>ENRG</th>\n      <th>ETOX</th>\n      <th>EUTR</th>\n      <th>FOOD</th>\n      <th>GCC</th>\n      <th>HAPS</th>\n      <th>HAZW</th>\n      <th>HTOX</th>\n      <th>JOBS</th>\n      <th>...</th>\n      <th>METL</th>\n      <th>MINE</th>\n      <th>MSW</th>\n      <th>NREN</th>\n      <th>OZON</th>\n      <th>PEST</th>\n      <th>REN</th>\n      <th>SMOG</th>\n      <th>VADD</th>\n      <th>WATR</th>\n    </tr>\n  </thead>\n  <tbody>\n    <tr>\n      <th>0</th>\n      <td>0.001144</td>\n      <td>0.000365</td>\n      <td>1.186567</td>\n      <td>3.682590e-04</td>\n      <td>0.001087</td>\n      <td>0.187578</td>\n      <td>1.596290e-04</td>\n      <td>0.000004</td>\n      <td>9.559260e-10</td>\n      <td>0.000005</td>\n      <td>...</td>\n      <td>8.749380e-08</td>\n      <td>0.0</td>\n      <td>0.004263</td>\n      <td>0.000000</td>\n      <td>5.005340e-10</td>\n      <td>1.617190e-05</td>\n      <td>0.000365</td>\n      <td>0.026608</td>\n      <td>0.869459</td>\n      <td>0.180875</td>\n    </tr>\n    <tr>\n      <th>1</th>\n      <td>0.000000</td>\n      <td>0.000000</td>\n      <td>0.000000</td>\n      <td>0.000000e+00</td>\n      <td>0.000000</td>\n      <td>0.000000</td>\n      <td>0.000000e+00</td>\n      <td>0.000000</td>\n      <td>0.000000e+00</td>\n      <td>0.000000</td>\n      <td>...</td>\n      <td>0.000000e+00</td>\n      <td>0.0</td>\n      <td>0.000000</td>\n      <td>0.000000</td>\n      <td>0.000000e+00</td>\n      <td>0.000000e+00</td>\n      <td>0.000000</td>\n      <td>0.000000</td>\n      <td>0.000000</td>\n      <td>0.000000</td>\n    </tr>\n    <tr>\n      <th>2</th>\n      <td>0.000000</td>\n      <td>0.000000</td>\n      <td>0.000000</td>\n      <td>0.000000e+00</td>\n      <td>0.000000</td>\n      <td>0.000000</td>\n      <td>0.000000e+00</td>\n      <td>0.000000</td>\n      <td>0.000000e+00</td>\n      <td>0.000000</td>\n      <td>...</td>\n      <td>0.000000e+00</td>\n      <td>0.0</td>\n      <td>0.000000</td>\n      <td>0.000000</td>\n      <td>0.000000e+00</td>\n      <td>0.000000e+00</td>\n      <td>0.000000</td>\n      <td>0.000000</td>\n      <td>0.000000</td>\n      <td>0.000000</td>\n    </tr>\n    <tr>\n      <th>3</th>\n      <td>1.017563</td>\n      <td>2609.093009</td>\n      <td>0.732817</td>\n      <td>8.420957e-02</td>\n      <td>0.021679</td>\n      <td>367.417833</td>\n      <td>1.591900e-02</td>\n      <td>0.022022</td>\n      <td>3.867350e-08</td>\n      <td>0.000082</td>\n      <td>...</td>\n      <td>1.687070e-04</td>\n      <td>0.0</td>\n      <td>0.084219</td>\n      <td>1558.288943</td>\n      <td>6.755460e-06</td>\n      <td>2.148530e-08</td>\n      <td>1050.804066</td>\n      <td>8.594629</td>\n      <td>42.953215</td>\n      <td>26.761900</td>\n    </tr>\n    <tr>\n      <th>4</th>\n      <td>0.000000</td>\n      <td>0.000000</td>\n      <td>0.000000</td>\n      <td>0.000000e+00</td>\n      <td>0.000000</td>\n      <td>0.000000</td>\n      <td>0.000000e+00</td>\n      <td>0.000000</td>\n      <td>0.000000e+00</td>\n      <td>0.000000</td>\n      <td>...</td>\n      <td>0.000000e+00</td>\n      <td>0.0</td>\n      <td>0.000000</td>\n      <td>0.000000</td>\n      <td>0.000000e+00</td>\n      <td>0.000000e+00</td>\n      <td>0.000000</td>\n      <td>0.000000</td>\n      <td>0.000000</td>\n      <td>0.000000</td>\n    </tr>\n    <tr>\n      <th>...</th>\n      <td>...</td>\n      <td>...</td>\n      <td>...</td>\n      <td>...</td>\n      <td>...</td>\n      <td>...</td>\n      <td>...</td>\n      <td>...</td>\n      <td>...</td>\n      <td>...</td>\n      <td>...</td>\n      <td>...</td>\n      <td>...</td>\n      <td>...</td>\n      <td>...</td>\n      <td>...</td>\n      <td>...</td>\n      <td>...</td>\n      <td>...</td>\n      <td>...</td>\n      <td>...</td>\n    </tr>\n    <tr>\n      <th>7029059</th>\n      <td>0.000000</td>\n      <td>0.000000</td>\n      <td>0.000000</td>\n      <td>0.000000e+00</td>\n      <td>0.000000</td>\n      <td>0.000000</td>\n      <td>0.000000e+00</td>\n      <td>0.000000</td>\n      <td>0.000000e+00</td>\n      <td>0.000000</td>\n      <td>...</td>\n      <td>0.000000e+00</td>\n      <td>0.0</td>\n      <td>0.000000</td>\n      <td>0.000000</td>\n      <td>0.000000e+00</td>\n      <td>0.000000e+00</td>\n      <td>0.000000</td>\n      <td>0.000000</td>\n      <td>0.000000</td>\n      <td>0.000000</td>\n    </tr>\n    <tr>\n      <th>7029060</th>\n      <td>0.000000</td>\n      <td>0.000000</td>\n      <td>0.000000</td>\n      <td>0.000000e+00</td>\n      <td>0.000000</td>\n      <td>0.000000</td>\n      <td>0.000000e+00</td>\n      <td>0.000000</td>\n      <td>0.000000e+00</td>\n      <td>0.000000</td>\n      <td>...</td>\n      <td>0.000000e+00</td>\n      <td>0.0</td>\n      <td>0.000000</td>\n      <td>0.000000</td>\n      <td>0.000000e+00</td>\n      <td>0.000000e+00</td>\n      <td>0.000000</td>\n      <td>0.000000</td>\n      <td>0.000000</td>\n      <td>0.000000</td>\n    </tr>\n    <tr>\n      <th>7029061</th>\n      <td>0.000001</td>\n      <td>0.000000</td>\n      <td>0.000001</td>\n      <td>1.472570e-07</td>\n      <td>0.000143</td>\n      <td>0.004671</td>\n      <td>3.370400e-07</td>\n      <td>0.000003</td>\n      <td>1.273510e-12</td>\n      <td>0.000000</td>\n      <td>...</td>\n      <td>2.589830e-11</td>\n      <td>0.0</td>\n      <td>0.001015</td>\n      <td>0.000000</td>\n      <td>0.000000e+00</td>\n      <td>0.000000e+00</td>\n      <td>0.000000</td>\n      <td>0.000049</td>\n      <td>0.108083</td>\n      <td>0.000396</td>\n    </tr>\n    <tr>\n      <th>7029062</th>\n      <td>0.000000</td>\n      <td>0.000000</td>\n      <td>0.000000</td>\n      <td>0.000000e+00</td>\n      <td>0.000000</td>\n      <td>0.000000</td>\n      <td>0.000000e+00</td>\n      <td>0.000000</td>\n      <td>0.000000e+00</td>\n      <td>0.000000</td>\n      <td>...</td>\n      <td>0.000000e+00</td>\n      <td>0.0</td>\n      <td>0.000000</td>\n      <td>0.000000</td>\n      <td>0.000000e+00</td>\n      <td>0.000000e+00</td>\n      <td>0.000000</td>\n      <td>0.000000</td>\n      <td>0.000000</td>\n      <td>0.000000</td>\n    </tr>\n    <tr>\n      <th>7029063</th>\n      <td>0.000000</td>\n      <td>0.000000</td>\n      <td>0.000000</td>\n      <td>0.000000e+00</td>\n      <td>0.000000</td>\n      <td>0.000000</td>\n      <td>0.000000e+00</td>\n      <td>0.000000</td>\n      <td>0.000000e+00</td>\n      <td>0.000000</td>\n      <td>...</td>\n      <td>0.000000e+00</td>\n      <td>0.0</td>\n      <td>0.000000</td>\n      <td>0.000000</td>\n      <td>0.000000e+00</td>\n      <td>0.000000e+00</td>\n      <td>0.000000</td>\n      <td>0.000000</td>\n      <td>0.000000</td>\n      <td>0.000000</td>\n    </tr>\n  </tbody>\n</table>\n<p>305666 rows × 21 columns</p>\n</div>",
      "text/plain": "             ACID         ENRG      ETOX          EUTR      FOOD         GCC  \\\n0        0.001144     0.000365  1.186567  3.682590e-04  0.001087    0.187578   \n1        0.000000     0.000000  0.000000  0.000000e+00  0.000000    0.000000   \n2        0.000000     0.000000  0.000000  0.000000e+00  0.000000    0.000000   \n3        1.017563  2609.093009  0.732817  8.420957e-02  0.021679  367.417833   \n4        0.000000     0.000000  0.000000  0.000000e+00  0.000000    0.000000   \n...           ...          ...       ...           ...       ...         ...   \n7029059  0.000000     0.000000  0.000000  0.000000e+00  0.000000    0.000000   \n7029060  0.000000     0.000000  0.000000  0.000000e+00  0.000000    0.000000   \n7029061  0.000001     0.000000  0.000001  1.472570e-07  0.000143    0.004671   \n7029062  0.000000     0.000000  0.000000  0.000000e+00  0.000000    0.000000   \n7029063  0.000000     0.000000  0.000000  0.000000e+00  0.000000    0.000000   \n\n                 HAPS      HAZW          HTOX      JOBS  ...          METL  \\\n0        1.596290e-04  0.000004  9.559260e-10  0.000005  ...  8.749380e-08   \n1        0.000000e+00  0.000000  0.000000e+00  0.000000  ...  0.000000e+00   \n2        0.000000e+00  0.000000  0.000000e+00  0.000000  ...  0.000000e+00   \n3        1.591900e-02  0.022022  3.867350e-08  0.000082  ...  1.687070e-04   \n4        0.000000e+00  0.000000  0.000000e+00  0.000000  ...  0.000000e+00   \n...               ...       ...           ...       ...  ...           ...   \n7029059  0.000000e+00  0.000000  0.000000e+00  0.000000  ...  0.000000e+00   \n7029060  0.000000e+00  0.000000  0.000000e+00  0.000000  ...  0.000000e+00   \n7029061  3.370400e-07  0.000003  1.273510e-12  0.000000  ...  2.589830e-11   \n7029062  0.000000e+00  0.000000  0.000000e+00  0.000000  ...  0.000000e+00   \n7029063  0.000000e+00  0.000000  0.000000e+00  0.000000  ...  0.000000e+00   \n\n         MINE       MSW         NREN          OZON          PEST          REN  \\\n0         0.0  0.004263     0.000000  5.005340e-10  1.617190e-05     0.000365   \n1         0.0  0.000000     0.000000  0.000000e+00  0.000000e+00     0.000000   \n2         0.0  0.000000     0.000000  0.000000e+00  0.000000e+00     0.000000   \n3         0.0  0.084219  1558.288943  6.755460e-06  2.148530e-08  1050.804066   \n4         0.0  0.000000     0.000000  0.000000e+00  0.000000e+00     0.000000   \n...       ...       ...          ...           ...           ...          ...   \n7029059   0.0  0.000000     0.000000  0.000000e+00  0.000000e+00     0.000000   \n7029060   0.0  0.000000     0.000000  0.000000e+00  0.000000e+00     0.000000   \n7029061   0.0  0.001015     0.000000  0.000000e+00  0.000000e+00     0.000000   \n7029062   0.0  0.000000     0.000000  0.000000e+00  0.000000e+00     0.000000   \n7029063   0.0  0.000000     0.000000  0.000000e+00  0.000000e+00     0.000000   \n\n             SMOG       VADD       WATR  \n0        0.026608   0.869459   0.180875  \n1        0.000000   0.000000   0.000000  \n2        0.000000   0.000000   0.000000  \n3        8.594629  42.953215  26.761900  \n4        0.000000   0.000000   0.000000  \n...           ...        ...        ...  \n7029059  0.000000   0.000000   0.000000  \n7029060  0.000000   0.000000   0.000000  \n7029061  0.000049   0.108083   0.000396  \n7029062  0.000000   0.000000   0.000000  \n7029063  0.000000   0.000000   0.000000  \n\n[305666 rows x 21 columns]"
     },
     "execution_count": 16,
     "metadata": {},
     "output_type": "execute_result"
    }
   ],
   "source": [
    "new_y = y.drop(['HC', 'HNC', 'HRSP'], axis=1)\n",
    "new_y"
   ]
  },
  {
   "cell_type": "code",
   "execution_count": 17,
   "metadata": {},
   "outputs": [],
   "source": [
    "X_train, X_test, y_train, y_test = train_test_split(new_X, new_y,\n",
    "                                                    test_size=0.3,\n",
    "                                                    random_state = RSEED)"
   ]
  },
  {
   "cell_type": "code",
   "execution_count": 20,
   "metadata": {},
   "outputs": [],
   "source": [
    "eNet = linear_model.MultiTaskLasso(alpha=0.01).fit(X_train, y_train)\n",
    "print(eNet.score(X_test, y_test))"
   ]
  },
  {
   "cell_type": "code",
   "execution_count": null,
   "metadata": {},
   "outputs": [],
   "source": []
  }
 ]
}