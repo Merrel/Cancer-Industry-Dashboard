{
 "cells": [
  {
   "cell_type": "code",
   "execution_count": 1,
   "metadata": {},
   "outputs": [],
   "source": [
    "import pandas as pd"
   ]
  },
  {
   "cell_type": "markdown",
   "metadata": {},
   "source": [
    "# Importing the data and exploring it"
   ]
  },
  {
   "cell_type": "markdown",
   "metadata": {},
   "source": [
    "### Importing cancer data"
   ]
  },
  {
   "cell_type": "code",
   "execution_count": 2,
   "metadata": {},
   "outputs": [
    {
     "data": {
      "text/html": [
       "<div>\n",
       "<style scoped>\n",
       "    .dataframe tbody tr th:only-of-type {\n",
       "        vertical-align: middle;\n",
       "    }\n",
       "\n",
       "    .dataframe tbody tr th {\n",
       "        vertical-align: top;\n",
       "    }\n",
       "\n",
       "    .dataframe thead th {\n",
       "        text-align: right;\n",
       "    }\n",
       "</style>\n",
       "<table border=\"1\" class=\"dataframe\">\n",
       "  <thead>\n",
       "    <tr style=\"text-align: right;\">\n",
       "      <th></th>\n",
       "      <th>locale</th>\n",
       "      <th>fips</th>\n",
       "      <th>met_health_obj</th>\n",
       "      <th>incidence rate_per_100000</th>\n",
       "      <th>incidence rate_lower_95_confidence</th>\n",
       "      <th>incidence rate_upper_95_confidence</th>\n",
       "      <th>annual_count_avg</th>\n",
       "      <th>late_stage_%</th>\n",
       "      <th>age</th>\n",
       "      <th>areatype</th>\n",
       "      <th>cancer</th>\n",
       "      <th>file_name</th>\n",
       "      <th>race</th>\n",
       "      <th>sex</th>\n",
       "      <th>source_url</th>\n",
       "      <th>stage</th>\n",
       "      <th>stateFIPS</th>\n",
       "      <th>type</th>\n",
       "      <th>state</th>\n",
       "      <th>cancer_description</th>\n",
       "    </tr>\n",
       "  </thead>\n",
       "  <tbody>\n",
       "    <tr>\n",
       "      <th>0</th>\n",
       "      <td>US (SEER+NPCR)(1)</td>\n",
       "      <td>0.0</td>\n",
       "      <td>***</td>\n",
       "      <td>7.3</td>\n",
       "      <td>7.2</td>\n",
       "      <td>7.3</td>\n",
       "      <td>27477</td>\n",
       "      <td>62.6</td>\n",
       "      <td>1</td>\n",
       "      <td>county</td>\n",
       "      <td>3</td>\n",
       "      <td>incidencerates_052.csv</td>\n",
       "      <td>0</td>\n",
       "      <td>0</td>\n",
       "      <td>https://www.statecancerprofiles.cancer.gov/inc...</td>\n",
       "      <td>211.0</td>\n",
       "      <td>29</td>\n",
       "      <td>incd</td>\n",
       "      <td>missouri</td>\n",
       "      <td>Oral Cavity &amp; Pharynx</td>\n",
       "    </tr>\n",
       "    <tr>\n",
       "      <th>1</th>\n",
       "      <td>US (SEER+NPCR)(1)</td>\n",
       "      <td>0.0</td>\n",
       "      <td>***</td>\n",
       "      <td>3.1</td>\n",
       "      <td>3.1</td>\n",
       "      <td>3.1</td>\n",
       "      <td>11635</td>\n",
       "      <td>68.1</td>\n",
       "      <td>1</td>\n",
       "      <td>county</td>\n",
       "      <td>17</td>\n",
       "      <td>incidencerates_045.csv</td>\n",
       "      <td>0</td>\n",
       "      <td>0</td>\n",
       "      <td>https://www.statecancerprofiles.cancer.gov/inc...</td>\n",
       "      <td>211.0</td>\n",
       "      <td>29</td>\n",
       "      <td>incd</td>\n",
       "      <td>missouri</td>\n",
       "      <td>Esophagus</td>\n",
       "    </tr>\n",
       "    <tr>\n",
       "      <th>2</th>\n",
       "      <td>US (SEER+NPCR)(1)</td>\n",
       "      <td>0.0</td>\n",
       "      <td>***</td>\n",
       "      <td>3.8</td>\n",
       "      <td>3.8</td>\n",
       "      <td>3.8</td>\n",
       "      <td>13895</td>\n",
       "      <td>58.2</td>\n",
       "      <td>1</td>\n",
       "      <td>county</td>\n",
       "      <td>18</td>\n",
       "      <td>incidencerates_056.csv</td>\n",
       "      <td>0</td>\n",
       "      <td>0</td>\n",
       "      <td>https://www.statecancerprofiles.cancer.gov/inc...</td>\n",
       "      <td>211.0</td>\n",
       "      <td>29</td>\n",
       "      <td>incd</td>\n",
       "      <td>missouri</td>\n",
       "      <td>Stomach</td>\n",
       "    </tr>\n",
       "    <tr>\n",
       "      <th>3</th>\n",
       "      <td>US (SEER+NPCR)(1)</td>\n",
       "      <td>0.0</td>\n",
       "      <td>***</td>\n",
       "      <td>21.5</td>\n",
       "      <td>21.5</td>\n",
       "      <td>21.6</td>\n",
       "      <td>78225</td>\n",
       "      <td>55.5</td>\n",
       "      <td>1</td>\n",
       "      <td>county</td>\n",
       "      <td>20</td>\n",
       "      <td>incidencerates_044.csv</td>\n",
       "      <td>0</td>\n",
       "      <td>0</td>\n",
       "      <td>https://www.statecancerprofiles.cancer.gov/inc...</td>\n",
       "      <td>211.0</td>\n",
       "      <td>29</td>\n",
       "      <td>incd</td>\n",
       "      <td>missouri</td>\n",
       "      <td>Colon &amp; Rectum</td>\n",
       "    </tr>\n",
       "    <tr>\n",
       "      <th>4</th>\n",
       "      <td>US (SEER+NPCR)(1)</td>\n",
       "      <td>0.0</td>\n",
       "      <td>***</td>\n",
       "      <td>3.6</td>\n",
       "      <td>3.5</td>\n",
       "      <td>3.6</td>\n",
       "      <td>13676</td>\n",
       "      <td>42.7</td>\n",
       "      <td>1</td>\n",
       "      <td>county</td>\n",
       "      <td>35</td>\n",
       "      <td>incidencerates_048.csv</td>\n",
       "      <td>0</td>\n",
       "      <td>0</td>\n",
       "      <td>https://www.statecancerprofiles.cancer.gov/inc...</td>\n",
       "      <td>211.0</td>\n",
       "      <td>29</td>\n",
       "      <td>incd</td>\n",
       "      <td>missouri</td>\n",
       "      <td>Liver &amp; Bile Duct</td>\n",
       "    </tr>\n",
       "  </tbody>\n",
       "</table>\n",
       "</div>"
      ],
      "text/plain": [
       "              locale  fips met_health_obj incidence rate_per_100000  \\\n",
       "0  US (SEER+NPCR)(1)   0.0            ***                      7.3    \n",
       "1  US (SEER+NPCR)(1)   0.0            ***                      3.1    \n",
       "2  US (SEER+NPCR)(1)   0.0            ***                      3.8    \n",
       "3  US (SEER+NPCR)(1)   0.0            ***                     21.5    \n",
       "4  US (SEER+NPCR)(1)   0.0            ***                      3.6    \n",
       "\n",
       "  incidence rate_lower_95_confidence incidence rate_upper_95_confidence  \\\n",
       "0                                7.2                                7.3   \n",
       "1                                3.1                                3.1   \n",
       "2                                3.8                                3.8   \n",
       "3                               21.5                               21.6   \n",
       "4                                3.5                                3.6   \n",
       "\n",
       "  annual_count_avg late_stage_%  age areatype  cancer               file_name  \\\n",
       "0            27477         62.6    1   county       3  incidencerates_052.csv   \n",
       "1            11635         68.1    1   county      17  incidencerates_045.csv   \n",
       "2            13895         58.2    1   county      18  incidencerates_056.csv   \n",
       "3            78225         55.5    1   county      20  incidencerates_044.csv   \n",
       "4            13676         42.7    1   county      35  incidencerates_048.csv   \n",
       "\n",
       "   race  sex                                         source_url  stage  \\\n",
       "0     0    0  https://www.statecancerprofiles.cancer.gov/inc...  211.0   \n",
       "1     0    0  https://www.statecancerprofiles.cancer.gov/inc...  211.0   \n",
       "2     0    0  https://www.statecancerprofiles.cancer.gov/inc...  211.0   \n",
       "3     0    0  https://www.statecancerprofiles.cancer.gov/inc...  211.0   \n",
       "4     0    0  https://www.statecancerprofiles.cancer.gov/inc...  211.0   \n",
       "\n",
       "   stateFIPS  type     state     cancer_description  \n",
       "0         29  incd  missouri  Oral Cavity & Pharynx  \n",
       "1         29  incd  missouri              Esophagus  \n",
       "2         29  incd  missouri                Stomach  \n",
       "3         29  incd  missouri         Colon & Rectum  \n",
       "4         29  incd  missouri      Liver & Bile Duct  "
      ]
     },
     "execution_count": 2,
     "metadata": {},
     "output_type": "execute_result"
    }
   ],
   "source": [
    "cancer_data = pd.read_csv(\"../data_clean/CDC_CancerByCounty/incidencerates/cancer_latestage_by_type.csv\")\n",
    "cancer_data.head()"
   ]
  },
  {
   "cell_type": "code",
   "execution_count": 3,
   "metadata": {},
   "outputs": [
    {
     "data": {
      "text/plain": [
       "Index(['locale', 'fips', 'met_health_obj', 'incidence rate_per_100000',\n",
       "       'incidence rate_lower_95_confidence',\n",
       "       'incidence rate_upper_95_confidence', 'annual_count_avg',\n",
       "       'late_stage_%', 'age', 'areatype', 'cancer', 'file_name', 'race', 'sex',\n",
       "       'source_url', 'stage', 'stateFIPS', 'type', 'state',\n",
       "       'cancer_description'],\n",
       "      dtype='object')"
      ]
     },
     "execution_count": 3,
     "metadata": {},
     "output_type": "execute_result"
    }
   ],
   "source": [
    "cancer_data.columns"
   ]
  },
  {
   "cell_type": "code",
   "execution_count": 4,
   "metadata": {},
   "outputs": [
    {
     "data": {
      "text/html": [
       "<div>\n",
       "<style scoped>\n",
       "    .dataframe tbody tr th:only-of-type {\n",
       "        vertical-align: middle;\n",
       "    }\n",
       "\n",
       "    .dataframe tbody tr th {\n",
       "        vertical-align: top;\n",
       "    }\n",
       "\n",
       "    .dataframe thead th {\n",
       "        text-align: right;\n",
       "    }\n",
       "</style>\n",
       "<table border=\"1\" class=\"dataframe\">\n",
       "  <thead>\n",
       "    <tr style=\"text-align: right;\">\n",
       "      <th></th>\n",
       "      <th>locale</th>\n",
       "      <th>fips</th>\n",
       "      <th>annual_count_avg</th>\n",
       "      <th>areatype</th>\n",
       "      <th>cancer</th>\n",
       "      <th>stateFIPS</th>\n",
       "      <th>state</th>\n",
       "      <th>cancer_description</th>\n",
       "    </tr>\n",
       "  </thead>\n",
       "  <tbody>\n",
       "    <tr>\n",
       "      <th>0</th>\n",
       "      <td>US (SEER+NPCR)(1)</td>\n",
       "      <td>0.0</td>\n",
       "      <td>27477</td>\n",
       "      <td>county</td>\n",
       "      <td>3</td>\n",
       "      <td>29</td>\n",
       "      <td>missouri</td>\n",
       "      <td>Oral Cavity &amp; Pharynx</td>\n",
       "    </tr>\n",
       "    <tr>\n",
       "      <th>1</th>\n",
       "      <td>US (SEER+NPCR)(1)</td>\n",
       "      <td>0.0</td>\n",
       "      <td>11635</td>\n",
       "      <td>county</td>\n",
       "      <td>17</td>\n",
       "      <td>29</td>\n",
       "      <td>missouri</td>\n",
       "      <td>Esophagus</td>\n",
       "    </tr>\n",
       "    <tr>\n",
       "      <th>2</th>\n",
       "      <td>US (SEER+NPCR)(1)</td>\n",
       "      <td>0.0</td>\n",
       "      <td>13895</td>\n",
       "      <td>county</td>\n",
       "      <td>18</td>\n",
       "      <td>29</td>\n",
       "      <td>missouri</td>\n",
       "      <td>Stomach</td>\n",
       "    </tr>\n",
       "    <tr>\n",
       "      <th>3</th>\n",
       "      <td>US (SEER+NPCR)(1)</td>\n",
       "      <td>0.0</td>\n",
       "      <td>78225</td>\n",
       "      <td>county</td>\n",
       "      <td>20</td>\n",
       "      <td>29</td>\n",
       "      <td>missouri</td>\n",
       "      <td>Colon &amp; Rectum</td>\n",
       "    </tr>\n",
       "    <tr>\n",
       "      <th>4</th>\n",
       "      <td>US (SEER+NPCR)(1)</td>\n",
       "      <td>0.0</td>\n",
       "      <td>13676</td>\n",
       "      <td>county</td>\n",
       "      <td>35</td>\n",
       "      <td>29</td>\n",
       "      <td>missouri</td>\n",
       "      <td>Liver &amp; Bile Duct</td>\n",
       "    </tr>\n",
       "  </tbody>\n",
       "</table>\n",
       "</div>"
      ],
      "text/plain": [
       "              locale  fips annual_count_avg areatype  cancer  stateFIPS  \\\n",
       "0  US (SEER+NPCR)(1)   0.0            27477   county       3         29   \n",
       "1  US (SEER+NPCR)(1)   0.0            11635   county      17         29   \n",
       "2  US (SEER+NPCR)(1)   0.0            13895   county      18         29   \n",
       "3  US (SEER+NPCR)(1)   0.0            78225   county      20         29   \n",
       "4  US (SEER+NPCR)(1)   0.0            13676   county      35         29   \n",
       "\n",
       "      state     cancer_description  \n",
       "0  missouri  Oral Cavity & Pharynx  \n",
       "1  missouri              Esophagus  \n",
       "2  missouri                Stomach  \n",
       "3  missouri         Colon & Rectum  \n",
       "4  missouri      Liver & Bile Duct  "
      ]
     },
     "execution_count": 4,
     "metadata": {},
     "output_type": "execute_result"
    }
   ],
   "source": [
    "cancer_data = cancer_data[['locale', 'fips', 'annual_count_avg', 'areatype', 'cancer', 'stateFIPS',\n",
    "       'state', 'cancer_description']]\n",
    "cancer_data.head()"
   ]
  },
  {
   "cell_type": "code",
   "execution_count": 5,
   "metadata": {},
   "outputs": [
    {
     "data": {
      "text/html": [
       "<div>\n",
       "<style scoped>\n",
       "    .dataframe tbody tr th:only-of-type {\n",
       "        vertical-align: middle;\n",
       "    }\n",
       "\n",
       "    .dataframe tbody tr th {\n",
       "        vertical-align: top;\n",
       "    }\n",
       "\n",
       "    .dataframe thead th {\n",
       "        text-align: right;\n",
       "    }\n",
       "</style>\n",
       "<table border=\"1\" class=\"dataframe\">\n",
       "  <thead>\n",
       "    <tr style=\"text-align: right;\">\n",
       "      <th></th>\n",
       "      <th>locale</th>\n",
       "      <th>fips</th>\n",
       "      <th>annual_count_avg</th>\n",
       "      <th>areatype</th>\n",
       "      <th>cancer</th>\n",
       "      <th>stateFIPS</th>\n",
       "      <th>state</th>\n",
       "      <th>cancer_description</th>\n",
       "    </tr>\n",
       "  </thead>\n",
       "  <tbody>\n",
       "    <tr>\n",
       "      <th>39439</th>\n",
       "      <td>Weston County(6)</td>\n",
       "      <td>56045.0</td>\n",
       "      <td>3 or fewer</td>\n",
       "      <td>county</td>\n",
       "      <td>72</td>\n",
       "      <td>56</td>\n",
       "      <td>wyoming</td>\n",
       "      <td>Kidney &amp; Renal Pelvis</td>\n",
       "    </tr>\n",
       "    <tr>\n",
       "      <th>39440</th>\n",
       "      <td>Weston County(6)</td>\n",
       "      <td>56045.0</td>\n",
       "      <td>3 or fewer</td>\n",
       "      <td>county</td>\n",
       "      <td>76</td>\n",
       "      <td>56</td>\n",
       "      <td>wyoming</td>\n",
       "      <td>Brain &amp; ONS</td>\n",
       "    </tr>\n",
       "    <tr>\n",
       "      <th>39441</th>\n",
       "      <td>Weston County(6)</td>\n",
       "      <td>56045.0</td>\n",
       "      <td>3 or fewer</td>\n",
       "      <td>county</td>\n",
       "      <td>80</td>\n",
       "      <td>56</td>\n",
       "      <td>wyoming</td>\n",
       "      <td>Thyroid</td>\n",
       "    </tr>\n",
       "    <tr>\n",
       "      <th>39442</th>\n",
       "      <td>Weston County(6)</td>\n",
       "      <td>56045.0</td>\n",
       "      <td>3 or fewer</td>\n",
       "      <td>county</td>\n",
       "      <td>86</td>\n",
       "      <td>56</td>\n",
       "      <td>wyoming</td>\n",
       "      <td>Non-Hodgkin Lymphoma</td>\n",
       "    </tr>\n",
       "    <tr>\n",
       "      <th>39443</th>\n",
       "      <td>Weston County(6)</td>\n",
       "      <td>56045.0</td>\n",
       "      <td>3 or fewer</td>\n",
       "      <td>county</td>\n",
       "      <td>90</td>\n",
       "      <td>56</td>\n",
       "      <td>wyoming</td>\n",
       "      <td>Leukemia</td>\n",
       "    </tr>\n",
       "  </tbody>\n",
       "</table>\n",
       "</div>"
      ],
      "text/plain": [
       "                 locale     fips annual_count_avg areatype  cancer  stateFIPS  \\\n",
       "39439  Weston County(6)  56045.0       3 or fewer   county      72         56   \n",
       "39440  Weston County(6)  56045.0       3 or fewer   county      76         56   \n",
       "39441  Weston County(6)  56045.0       3 or fewer   county      80         56   \n",
       "39442  Weston County(6)  56045.0       3 or fewer   county      86         56   \n",
       "39443  Weston County(6)  56045.0       3 or fewer   county      90         56   \n",
       "\n",
       "         state     cancer_description  \n",
       "39439  wyoming  Kidney & Renal Pelvis  \n",
       "39440  wyoming            Brain & ONS  \n",
       "39441  wyoming                Thyroid  \n",
       "39442  wyoming   Non-Hodgkin Lymphoma  \n",
       "39443  wyoming               Leukemia  "
      ]
     },
     "execution_count": 5,
     "metadata": {},
     "output_type": "execute_result"
    }
   ],
   "source": [
    "cancer_data.tail()"
   ]
  },
  {
   "cell_type": "code",
   "execution_count": 6,
   "metadata": {},
   "outputs": [
    {
     "data": {
      "text/html": [
       "<div>\n",
       "<style scoped>\n",
       "    .dataframe tbody tr th:only-of-type {\n",
       "        vertical-align: middle;\n",
       "    }\n",
       "\n",
       "    .dataframe tbody tr th {\n",
       "        vertical-align: top;\n",
       "    }\n",
       "\n",
       "    .dataframe thead th {\n",
       "        text-align: right;\n",
       "    }\n",
       "</style>\n",
       "<table border=\"1\" class=\"dataframe\">\n",
       "  <thead>\n",
       "    <tr style=\"text-align: right;\">\n",
       "      <th></th>\n",
       "      <th>locale</th>\n",
       "      <th>fips</th>\n",
       "      <th>annual_count_avg</th>\n",
       "      <th>areatype</th>\n",
       "      <th>cancer</th>\n",
       "      <th>stateFIPS</th>\n",
       "      <th>state</th>\n",
       "      <th>cancer_description</th>\n",
       "    </tr>\n",
       "  </thead>\n",
       "  <tbody>\n",
       "    <tr>\n",
       "      <th>0</th>\n",
       "      <td>US (SEER+NPCR)(1)</td>\n",
       "      <td>0.0</td>\n",
       "      <td>27477</td>\n",
       "      <td>county</td>\n",
       "      <td>3</td>\n",
       "      <td>29</td>\n",
       "      <td>missouri</td>\n",
       "      <td>Oral Cavity &amp; Pharynx</td>\n",
       "    </tr>\n",
       "    <tr>\n",
       "      <th>1</th>\n",
       "      <td>US (SEER+NPCR)(1)</td>\n",
       "      <td>0.0</td>\n",
       "      <td>11635</td>\n",
       "      <td>county</td>\n",
       "      <td>17</td>\n",
       "      <td>29</td>\n",
       "      <td>missouri</td>\n",
       "      <td>Esophagus</td>\n",
       "    </tr>\n",
       "    <tr>\n",
       "      <th>2</th>\n",
       "      <td>US (SEER+NPCR)(1)</td>\n",
       "      <td>0.0</td>\n",
       "      <td>13895</td>\n",
       "      <td>county</td>\n",
       "      <td>18</td>\n",
       "      <td>29</td>\n",
       "      <td>missouri</td>\n",
       "      <td>Stomach</td>\n",
       "    </tr>\n",
       "    <tr>\n",
       "      <th>3</th>\n",
       "      <td>US (SEER+NPCR)(1)</td>\n",
       "      <td>0.0</td>\n",
       "      <td>78225</td>\n",
       "      <td>county</td>\n",
       "      <td>20</td>\n",
       "      <td>29</td>\n",
       "      <td>missouri</td>\n",
       "      <td>Colon &amp; Rectum</td>\n",
       "    </tr>\n",
       "    <tr>\n",
       "      <th>4</th>\n",
       "      <td>US (SEER+NPCR)(1)</td>\n",
       "      <td>0.0</td>\n",
       "      <td>13676</td>\n",
       "      <td>county</td>\n",
       "      <td>35</td>\n",
       "      <td>29</td>\n",
       "      <td>missouri</td>\n",
       "      <td>Liver &amp; Bile Duct</td>\n",
       "    </tr>\n",
       "  </tbody>\n",
       "</table>\n",
       "</div>"
      ],
      "text/plain": [
       "              locale  fips annual_count_avg areatype  cancer  stateFIPS  \\\n",
       "0  US (SEER+NPCR)(1)   0.0            27477   county       3         29   \n",
       "1  US (SEER+NPCR)(1)   0.0            11635   county      17         29   \n",
       "2  US (SEER+NPCR)(1)   0.0            13895   county      18         29   \n",
       "3  US (SEER+NPCR)(1)   0.0            78225   county      20         29   \n",
       "4  US (SEER+NPCR)(1)   0.0            13676   county      35         29   \n",
       "\n",
       "      state     cancer_description  \n",
       "0  missouri  Oral Cavity & Pharynx  \n",
       "1  missouri              Esophagus  \n",
       "2  missouri                Stomach  \n",
       "3  missouri         Colon & Rectum  \n",
       "4  missouri      Liver & Bile Duct  "
      ]
     },
     "execution_count": 6,
     "metadata": {},
     "output_type": "execute_result"
    }
   ],
   "source": [
    "cancer_data.head()"
   ]
  },
  {
   "cell_type": "code",
   "execution_count": 7,
   "metadata": {},
   "outputs": [],
   "source": [
    "# converting type of \"fips\" to int64\n",
    "cancer_data['fips'] = cancer_data['fips'].astype(\"int64\")"
   ]
  },
  {
   "cell_type": "code",
   "execution_count": 8,
   "metadata": {},
   "outputs": [
    {
     "data": {
      "text/plain": [
       "2076"
      ]
     },
     "execution_count": 8,
     "metadata": {},
     "output_type": "execute_result"
    }
   ],
   "source": [
    "# number of fips codes for which cancer data is available\n",
    "len(cancer_data['fips'].unique())"
   ]
  },
  {
   "cell_type": "markdown",
   "metadata": {},
   "source": [
    "### Importing industry data per county"
   ]
  },
  {
   "cell_type": "code",
   "execution_count": 9,
   "metadata": {},
   "outputs": [
    {
     "data": {
      "text/html": [
       "<div>\n",
       "<style scoped>\n",
       "    .dataframe tbody tr th:only-of-type {\n",
       "        vertical-align: middle;\n",
       "    }\n",
       "\n",
       "    .dataframe tbody tr th {\n",
       "        vertical-align: top;\n",
       "    }\n",
       "\n",
       "    .dataframe thead th {\n",
       "        text-align: right;\n",
       "    }\n",
       "</style>\n",
       "<table border=\"1\" class=\"dataframe\">\n",
       "  <thead>\n",
       "    <tr style=\"text-align: right;\">\n",
       "      <th></th>\n",
       "      <th>Unnamed: 0</th>\n",
       "      <th>fips</th>\n",
       "      <th>county</th>\n",
       "      <th>name</th>\n",
       "      <th>industry_code</th>\n",
       "      <th>industry_detail</th>\n",
       "      <th>relevant_naics</th>\n",
       "      <th>year</th>\n",
       "      <th>payann</th>\n",
       "      <th>estab</th>\n",
       "      <th>...</th>\n",
       "      <th>METL</th>\n",
       "      <th>MINE</th>\n",
       "      <th>MSW</th>\n",
       "      <th>NREN</th>\n",
       "      <th>OZON</th>\n",
       "      <th>PEST</th>\n",
       "      <th>REN</th>\n",
       "      <th>SMOG</th>\n",
       "      <th>VADD</th>\n",
       "      <th>WATR</th>\n",
       "    </tr>\n",
       "  </thead>\n",
       "  <tbody>\n",
       "    <tr>\n",
       "      <th>0</th>\n",
       "      <td>0</td>\n",
       "      <td>8001</td>\n",
       "      <td>1</td>\n",
       "      <td>Adams County, Colorado</td>\n",
       "      <td>113000</td>\n",
       "      <td>timber and raw forest products</td>\n",
       "      <td>[113]</td>\n",
       "      <td>2012</td>\n",
       "      <td>0</td>\n",
       "      <td>1</td>\n",
       "      <td>...</td>\n",
       "      <td>0.00000</td>\n",
       "      <td>0.0</td>\n",
       "      <td>0.000000</td>\n",
       "      <td>0.0</td>\n",
       "      <td>0.000000</td>\n",
       "      <td>0.000000</td>\n",
       "      <td>0.00000</td>\n",
       "      <td>0.000000</td>\n",
       "      <td>0.000000</td>\n",
       "      <td>0.000000</td>\n",
       "    </tr>\n",
       "    <tr>\n",
       "      <th>1</th>\n",
       "      <td>1</td>\n",
       "      <td>8001</td>\n",
       "      <td>1</td>\n",
       "      <td>Adams County, Colorado</td>\n",
       "      <td>115000</td>\n",
       "      <td>agriculture and forestry support</td>\n",
       "      <td>[115]</td>\n",
       "      <td>2012</td>\n",
       "      <td>290</td>\n",
       "      <td>6</td>\n",
       "      <td>...</td>\n",
       "      <td>0.00008</td>\n",
       "      <td>0.0</td>\n",
       "      <td>3.405586</td>\n",
       "      <td>0.0</td>\n",
       "      <td>0.000183</td>\n",
       "      <td>0.008769</td>\n",
       "      <td>0.95877</td>\n",
       "      <td>2.011564</td>\n",
       "      <td>211.423463</td>\n",
       "      <td>15.653502</td>\n",
       "    </tr>\n",
       "    <tr>\n",
       "      <th>2</th>\n",
       "      <td>2</td>\n",
       "      <td>8001</td>\n",
       "      <td>1</td>\n",
       "      <td>Adams County, Colorado</td>\n",
       "      <td>211000</td>\n",
       "      <td>unrefined oil and gas</td>\n",
       "      <td>[211]</td>\n",
       "      <td>2012</td>\n",
       "      <td>0</td>\n",
       "      <td>6</td>\n",
       "      <td>...</td>\n",
       "      <td>0.00000</td>\n",
       "      <td>0.0</td>\n",
       "      <td>0.000000</td>\n",
       "      <td>0.0</td>\n",
       "      <td>0.000000</td>\n",
       "      <td>0.000000</td>\n",
       "      <td>0.00000</td>\n",
       "      <td>0.000000</td>\n",
       "      <td>0.000000</td>\n",
       "      <td>0.000000</td>\n",
       "    </tr>\n",
       "    <tr>\n",
       "      <th>3</th>\n",
       "      <td>3</td>\n",
       "      <td>8001</td>\n",
       "      <td>1</td>\n",
       "      <td>Adams County, Colorado</td>\n",
       "      <td>2122a0</td>\n",
       "      <td>iron, gold, silver, and other metal ores</td>\n",
       "      <td>[21221, 21222, 21229]</td>\n",
       "      <td>2012</td>\n",
       "      <td>0</td>\n",
       "      <td>1</td>\n",
       "      <td>...</td>\n",
       "      <td>0.00000</td>\n",
       "      <td>0.0</td>\n",
       "      <td>0.000000</td>\n",
       "      <td>0.0</td>\n",
       "      <td>0.000000</td>\n",
       "      <td>0.000000</td>\n",
       "      <td>0.00000</td>\n",
       "      <td>0.000000</td>\n",
       "      <td>0.000000</td>\n",
       "      <td>0.000000</td>\n",
       "    </tr>\n",
       "    <tr>\n",
       "      <th>4</th>\n",
       "      <td>4</td>\n",
       "      <td>8001</td>\n",
       "      <td>1</td>\n",
       "      <td>Adams County, Colorado</td>\n",
       "      <td>212310</td>\n",
       "      <td>dimensional stone</td>\n",
       "      <td>[21231]</td>\n",
       "      <td>2012</td>\n",
       "      <td>0</td>\n",
       "      <td>4</td>\n",
       "      <td>...</td>\n",
       "      <td>0.00000</td>\n",
       "      <td>0.0</td>\n",
       "      <td>0.000000</td>\n",
       "      <td>0.0</td>\n",
       "      <td>0.000000</td>\n",
       "      <td>0.000000</td>\n",
       "      <td>0.00000</td>\n",
       "      <td>0.000000</td>\n",
       "      <td>0.000000</td>\n",
       "      <td>0.000000</td>\n",
       "    </tr>\n",
       "  </tbody>\n",
       "</table>\n",
       "<p>5 rows × 35 columns</p>\n",
       "</div>"
      ],
      "text/plain": [
       "   Unnamed: 0  fips  county                    name industry_code  \\\n",
       "0           0  8001       1  Adams County, Colorado        113000   \n",
       "1           1  8001       1  Adams County, Colorado        115000   \n",
       "2           2  8001       1  Adams County, Colorado        211000   \n",
       "3           3  8001       1  Adams County, Colorado        2122a0   \n",
       "4           4  8001       1  Adams County, Colorado        212310   \n",
       "\n",
       "                            industry_detail         relevant_naics  year  \\\n",
       "0            timber and raw forest products                  [113]  2012   \n",
       "1          agriculture and forestry support                  [115]  2012   \n",
       "2                     unrefined oil and gas                  [211]  2012   \n",
       "3  iron, gold, silver, and other metal ores  [21221, 21222, 21229]  2012   \n",
       "4                         dimensional stone                [21231]  2012   \n",
       "\n",
       "   payann  estab  ...     METL  MINE       MSW  NREN      OZON      PEST  \\\n",
       "0       0      1  ...  0.00000   0.0  0.000000   0.0  0.000000  0.000000   \n",
       "1     290      6  ...  0.00008   0.0  3.405586   0.0  0.000183  0.008769   \n",
       "2       0      6  ...  0.00000   0.0  0.000000   0.0  0.000000  0.000000   \n",
       "3       0      1  ...  0.00000   0.0  0.000000   0.0  0.000000  0.000000   \n",
       "4       0      4  ...  0.00000   0.0  0.000000   0.0  0.000000  0.000000   \n",
       "\n",
       "       REN      SMOG        VADD       WATR  \n",
       "0  0.00000  0.000000    0.000000   0.000000  \n",
       "1  0.95877  2.011564  211.423463  15.653502  \n",
       "2  0.00000  0.000000    0.000000   0.000000  \n",
       "3  0.00000  0.000000    0.000000   0.000000  \n",
       "4  0.00000  0.000000    0.000000   0.000000  \n",
       "\n",
       "[5 rows x 35 columns]"
      ]
     },
     "execution_count": 9,
     "metadata": {},
     "output_type": "execute_result"
    }
   ],
   "source": [
    "industry_data = pd.read_csv(\"../data_clean/indicators_per-industry_per-county.csv\")\n",
    "industry_data.head()"
   ]
  },
  {
   "cell_type": "markdown",
   "metadata": {},
   "source": [
    "#### Removing un-necessary columns"
   ]
  },
  {
   "cell_type": "code",
   "execution_count": 10,
   "metadata": {},
   "outputs": [],
   "source": [
    "industry_data.drop('Unnamed: 0', axis=1, inplace=True)"
   ]
  },
  {
   "cell_type": "code",
   "execution_count": 11,
   "metadata": {},
   "outputs": [],
   "source": [
    "def remove_useless(df):\n",
    "    for col in df.columns:\n",
    "        if len(df[col].unique()) == 1:\n",
    "            df.drop(col, axis=1, inplace=True)"
   ]
  },
  {
   "cell_type": "code",
   "execution_count": 12,
   "metadata": {},
   "outputs": [
    {
     "data": {
      "text/plain": [
       "Index(['fips', 'county', 'name', 'industry_code', 'industry_detail',\n",
       "       'relevant_naics', 'payann', 'estab', 'emp', 'ACID', 'ENRG', 'ETOX',\n",
       "       'EUTR', 'FOOD', 'GCC', 'HAPS', 'HAZW', 'HC', 'HNC', 'HRSP', 'HTOX',\n",
       "       'JOBS', 'LAND', 'METL', 'MINE', 'MSW', 'NREN', 'OZON', 'PEST', 'REN',\n",
       "       'SMOG', 'VADD', 'WATR'],\n",
       "      dtype='object')"
      ]
     },
     "execution_count": 12,
     "metadata": {},
     "output_type": "execute_result"
    }
   ],
   "source": [
    "remove_useless(industry_data)\n",
    "industry_data.columns"
   ]
  },
  {
   "cell_type": "code",
   "execution_count": 13,
   "metadata": {},
   "outputs": [
    {
     "data": {
      "text/html": [
       "<div>\n",
       "<style scoped>\n",
       "    .dataframe tbody tr th:only-of-type {\n",
       "        vertical-align: middle;\n",
       "    }\n",
       "\n",
       "    .dataframe tbody tr th {\n",
       "        vertical-align: top;\n",
       "    }\n",
       "\n",
       "    .dataframe thead th {\n",
       "        text-align: right;\n",
       "    }\n",
       "</style>\n",
       "<table border=\"1\" class=\"dataframe\">\n",
       "  <thead>\n",
       "    <tr style=\"text-align: right;\">\n",
       "      <th></th>\n",
       "      <th>fips</th>\n",
       "      <th>county</th>\n",
       "      <th>name</th>\n",
       "      <th>industry_code</th>\n",
       "      <th>industry_detail</th>\n",
       "      <th>relevant_naics</th>\n",
       "      <th>payann</th>\n",
       "      <th>estab</th>\n",
       "      <th>emp</th>\n",
       "      <th>ACID</th>\n",
       "      <th>...</th>\n",
       "      <th>METL</th>\n",
       "      <th>MINE</th>\n",
       "      <th>MSW</th>\n",
       "      <th>NREN</th>\n",
       "      <th>OZON</th>\n",
       "      <th>PEST</th>\n",
       "      <th>REN</th>\n",
       "      <th>SMOG</th>\n",
       "      <th>VADD</th>\n",
       "      <th>WATR</th>\n",
       "    </tr>\n",
       "  </thead>\n",
       "  <tbody>\n",
       "    <tr>\n",
       "      <th>0</th>\n",
       "      <td>8001</td>\n",
       "      <td>1</td>\n",
       "      <td>Adams County, Colorado</td>\n",
       "      <td>113000</td>\n",
       "      <td>timber and raw forest products</td>\n",
       "      <td>[113]</td>\n",
       "      <td>0</td>\n",
       "      <td>1</td>\n",
       "      <td>0</td>\n",
       "      <td>0.000000</td>\n",
       "      <td>...</td>\n",
       "      <td>0.00000</td>\n",
       "      <td>0.0</td>\n",
       "      <td>0.000000</td>\n",
       "      <td>0.0</td>\n",
       "      <td>0.000000</td>\n",
       "      <td>0.000000</td>\n",
       "      <td>0.00000</td>\n",
       "      <td>0.000000</td>\n",
       "      <td>0.000000</td>\n",
       "      <td>0.000000</td>\n",
       "    </tr>\n",
       "    <tr>\n",
       "      <th>1</th>\n",
       "      <td>8001</td>\n",
       "      <td>1</td>\n",
       "      <td>Adams County, Colorado</td>\n",
       "      <td>115000</td>\n",
       "      <td>agriculture and forestry support</td>\n",
       "      <td>[115]</td>\n",
       "      <td>290</td>\n",
       "      <td>6</td>\n",
       "      <td>10</td>\n",
       "      <td>0.537394</td>\n",
       "      <td>...</td>\n",
       "      <td>0.00008</td>\n",
       "      <td>0.0</td>\n",
       "      <td>3.405586</td>\n",
       "      <td>0.0</td>\n",
       "      <td>0.000183</td>\n",
       "      <td>0.008769</td>\n",
       "      <td>0.95877</td>\n",
       "      <td>2.011564</td>\n",
       "      <td>211.423463</td>\n",
       "      <td>15.653502</td>\n",
       "    </tr>\n",
       "    <tr>\n",
       "      <th>2</th>\n",
       "      <td>8001</td>\n",
       "      <td>1</td>\n",
       "      <td>Adams County, Colorado</td>\n",
       "      <td>211000</td>\n",
       "      <td>unrefined oil and gas</td>\n",
       "      <td>[211]</td>\n",
       "      <td>0</td>\n",
       "      <td>6</td>\n",
       "      <td>0</td>\n",
       "      <td>0.000000</td>\n",
       "      <td>...</td>\n",
       "      <td>0.00000</td>\n",
       "      <td>0.0</td>\n",
       "      <td>0.000000</td>\n",
       "      <td>0.0</td>\n",
       "      <td>0.000000</td>\n",
       "      <td>0.000000</td>\n",
       "      <td>0.00000</td>\n",
       "      <td>0.000000</td>\n",
       "      <td>0.000000</td>\n",
       "      <td>0.000000</td>\n",
       "    </tr>\n",
       "    <tr>\n",
       "      <th>3</th>\n",
       "      <td>8001</td>\n",
       "      <td>1</td>\n",
       "      <td>Adams County, Colorado</td>\n",
       "      <td>2122a0</td>\n",
       "      <td>iron, gold, silver, and other metal ores</td>\n",
       "      <td>[21221, 21222, 21229]</td>\n",
       "      <td>0</td>\n",
       "      <td>1</td>\n",
       "      <td>0</td>\n",
       "      <td>0.000000</td>\n",
       "      <td>...</td>\n",
       "      <td>0.00000</td>\n",
       "      <td>0.0</td>\n",
       "      <td>0.000000</td>\n",
       "      <td>0.0</td>\n",
       "      <td>0.000000</td>\n",
       "      <td>0.000000</td>\n",
       "      <td>0.00000</td>\n",
       "      <td>0.000000</td>\n",
       "      <td>0.000000</td>\n",
       "      <td>0.000000</td>\n",
       "    </tr>\n",
       "    <tr>\n",
       "      <th>4</th>\n",
       "      <td>8001</td>\n",
       "      <td>1</td>\n",
       "      <td>Adams County, Colorado</td>\n",
       "      <td>212310</td>\n",
       "      <td>dimensional stone</td>\n",
       "      <td>[21231]</td>\n",
       "      <td>0</td>\n",
       "      <td>4</td>\n",
       "      <td>0</td>\n",
       "      <td>0.000000</td>\n",
       "      <td>...</td>\n",
       "      <td>0.00000</td>\n",
       "      <td>0.0</td>\n",
       "      <td>0.000000</td>\n",
       "      <td>0.0</td>\n",
       "      <td>0.000000</td>\n",
       "      <td>0.000000</td>\n",
       "      <td>0.00000</td>\n",
       "      <td>0.000000</td>\n",
       "      <td>0.000000</td>\n",
       "      <td>0.000000</td>\n",
       "    </tr>\n",
       "  </tbody>\n",
       "</table>\n",
       "<p>5 rows × 33 columns</p>\n",
       "</div>"
      ],
      "text/plain": [
       "   fips  county                    name industry_code  \\\n",
       "0  8001       1  Adams County, Colorado        113000   \n",
       "1  8001       1  Adams County, Colorado        115000   \n",
       "2  8001       1  Adams County, Colorado        211000   \n",
       "3  8001       1  Adams County, Colorado        2122a0   \n",
       "4  8001       1  Adams County, Colorado        212310   \n",
       "\n",
       "                            industry_detail         relevant_naics  payann  \\\n",
       "0            timber and raw forest products                  [113]       0   \n",
       "1          agriculture and forestry support                  [115]     290   \n",
       "2                     unrefined oil and gas                  [211]       0   \n",
       "3  iron, gold, silver, and other metal ores  [21221, 21222, 21229]       0   \n",
       "4                         dimensional stone                [21231]       0   \n",
       "\n",
       "   estab  emp      ACID  ...     METL  MINE       MSW  NREN      OZON  \\\n",
       "0      1    0  0.000000  ...  0.00000   0.0  0.000000   0.0  0.000000   \n",
       "1      6   10  0.537394  ...  0.00008   0.0  3.405586   0.0  0.000183   \n",
       "2      6    0  0.000000  ...  0.00000   0.0  0.000000   0.0  0.000000   \n",
       "3      1    0  0.000000  ...  0.00000   0.0  0.000000   0.0  0.000000   \n",
       "4      4    0  0.000000  ...  0.00000   0.0  0.000000   0.0  0.000000   \n",
       "\n",
       "       PEST      REN      SMOG        VADD       WATR  \n",
       "0  0.000000  0.00000  0.000000    0.000000   0.000000  \n",
       "1  0.008769  0.95877  2.011564  211.423463  15.653502  \n",
       "2  0.000000  0.00000  0.000000    0.000000   0.000000  \n",
       "3  0.000000  0.00000  0.000000    0.000000   0.000000  \n",
       "4  0.000000  0.00000  0.000000    0.000000   0.000000  \n",
       "\n",
       "[5 rows x 33 columns]"
      ]
     },
     "execution_count": 13,
     "metadata": {},
     "output_type": "execute_result"
    }
   ],
   "source": [
    "industry_data.head()"
   ]
  },
  {
   "cell_type": "code",
   "execution_count": 14,
   "metadata": {},
   "outputs": [
    {
     "data": {
      "text/plain": [
       "3140"
      ]
     },
     "execution_count": 14,
     "metadata": {},
     "output_type": "execute_result"
    }
   ],
   "source": [
    "# Number of available fips codes\n",
    "len(industry_data['fips'].unique())"
   ]
  },
  {
   "cell_type": "markdown",
   "metadata": {},
   "source": [
    "### Finding out diffrerences in \"fips\" values between the two datasets\n",
    "Check the counties_fips.csv file in data_raw to find out if fips value actually corresponds to a county or if it corresponds to a state of national value."
   ]
  },
  {
   "cell_type": "code",
   "execution_count": 15,
   "metadata": {},
   "outputs": [],
   "source": [
    "industry_fips = set(industry_data['fips'].unique())\n",
    "cancer_fips = set(cancer_data['fips'].unique())"
   ]
  },
  {
   "cell_type": "markdown",
   "metadata": {},
   "source": [
    "#### Getting \"fips\" values in cancer data that don't have corresponding industry data and the other way around"
   ]
  },
  {
   "cell_type": "code",
   "execution_count": 16,
   "metadata": {},
   "outputs": [
    {
     "name": "stdout",
     "output_type": "stream",
     "text": [
      "{0, 48000, 32000, 16000, 53000, 37000, 21000, 5000, 48269, 42000, 26000, 10000, 47000, 2201, 31000, 15000, 15005, 36000, 20000, 4000, 41000, 25000, 9000, 46000, 30000, 51000, 2232, 35000, 19000, 56000, 40000, 24000, 8000, 45000, 29000, 13000, 51917, 50000, 34000, 18000, 2900, 55000, 39000, 23000, 44000, 28000, 12000, 33000, 17000, 1000, 2280, 49000, 54000, 38000, 22000, 6000, 27000}\n"
     ]
    }
   ],
   "source": [
    "cancer_diff_industry = cancer_fips.difference(industry_fips)\n",
    "print(cancer_diff_industry)"
   ]
  },
  {
   "cell_type": "code",
   "execution_count": 17,
   "metadata": {},
   "outputs": [],
   "source": [
    "county_corresp_fips = pd.read_csv('../data_raw/counties_fips.csv')"
   ]
  },
  {
   "cell_type": "code",
   "execution_count": 18,
   "metadata": {},
   "outputs": [
    {
     "data": {
      "text/html": [
       "<div>\n",
       "<style scoped>\n",
       "    .dataframe tbody tr th:only-of-type {\n",
       "        vertical-align: middle;\n",
       "    }\n",
       "\n",
       "    .dataframe tbody tr th {\n",
       "        vertical-align: top;\n",
       "    }\n",
       "\n",
       "    .dataframe thead th {\n",
       "        text-align: right;\n",
       "    }\n",
       "</style>\n",
       "<table border=\"1\" class=\"dataframe\">\n",
       "  <thead>\n",
       "    <tr style=\"text-align: right;\">\n",
       "      <th></th>\n",
       "      <th>FIPS</th>\n",
       "      <th>Name</th>\n",
       "      <th>State</th>\n",
       "    </tr>\n",
       "  </thead>\n",
       "  <tbody>\n",
       "    <tr>\n",
       "      <th>0</th>\n",
       "      <td>1001</td>\n",
       "      <td>Autauga</td>\n",
       "      <td>AL</td>\n",
       "    </tr>\n",
       "    <tr>\n",
       "      <th>1</th>\n",
       "      <td>1003</td>\n",
       "      <td>Baldwin</td>\n",
       "      <td>AL</td>\n",
       "    </tr>\n",
       "    <tr>\n",
       "      <th>2</th>\n",
       "      <td>1005</td>\n",
       "      <td>Barbour</td>\n",
       "      <td>AL</td>\n",
       "    </tr>\n",
       "    <tr>\n",
       "      <th>3</th>\n",
       "      <td>1007</td>\n",
       "      <td>Bibb</td>\n",
       "      <td>AL</td>\n",
       "    </tr>\n",
       "    <tr>\n",
       "      <th>4</th>\n",
       "      <td>1009</td>\n",
       "      <td>Blount</td>\n",
       "      <td>AL</td>\n",
       "    </tr>\n",
       "  </tbody>\n",
       "</table>\n",
       "</div>"
      ],
      "text/plain": [
       "   FIPS     Name State\n",
       "0  1001  Autauga    AL\n",
       "1  1003  Baldwin    AL\n",
       "2  1005  Barbour    AL\n",
       "3  1007     Bibb    AL\n",
       "4  1009   Blount    AL"
      ]
     },
     "execution_count": 18,
     "metadata": {},
     "output_type": "execute_result"
    }
   ],
   "source": [
    "county_corresp_fips.head()"
   ]
  },
  {
   "cell_type": "code",
   "execution_count": 19,
   "metadata": {
    "scrolled": true
   },
   "outputs": [
    {
     "name": "stdout",
     "output_type": "stream",
     "text": [
      "{2232, 2201, 2280, 48269}\n"
     ]
    }
   ],
   "source": [
    "# getting fips values which correspond to actual counties but don't have entries in the industry dataset\n",
    "missing_industry_values = set()\n",
    "for fips in cancer_diff_industry:\n",
    "    if not county_corresp_fips[county_corresp_fips['FIPS'] == fips].empty:\n",
    "        missing_industry_values.add(fips)\n",
    "print(missing_industry_values)"
   ]
  },
  {
   "cell_type": "code",
   "execution_count": 20,
   "metadata": {},
   "outputs": [
    {
     "data": {
      "text/plain": [
       "1121"
      ]
     },
     "execution_count": 20,
     "metadata": {},
     "output_type": "execute_result"
    }
   ],
   "source": [
    "industry_diff_cancer = industry_fips.difference(cancer_fips)\n",
    "len(industry_diff_cancer)"
   ]
  },
  {
   "cell_type": "code",
   "execution_count": 21,
   "metadata": {},
   "outputs": [
    {
     "name": "stdout",
     "output_type": "stream",
     "text": [
      "{2275, 2195, 2230, 2198, 2105}\n"
     ]
    }
   ],
   "source": [
    "#getting fips values that don't correspond to actual counties but have entries in the industry dataset\n",
    "extra_industry_values = set()\n",
    "for fips in industry_diff_cancer:\n",
    "    if county_corresp_fips[county_corresp_fips['FIPS'] == fips].empty:\n",
    "        extra_industry_values.add(fips)\n",
    "print(extra_industry_values)"
   ]
  },
  {
   "cell_type": "markdown",
   "metadata": {},
   "source": [
    "### Joining datasets on \"fips\" column"
   ]
  },
  {
   "cell_type": "markdown",
   "metadata": {},
   "source": [
    "#### Inner join: Only keep fips values that are in both datasets"
   ]
  },
  {
   "cell_type": "code",
   "execution_count": 22,
   "metadata": {},
   "outputs": [],
   "source": [
    "df_inner = pd.merge(cancer_data, industry_data, on='fips', how='inner')"
   ]
  },
  {
   "cell_type": "code",
   "execution_count": 23,
   "metadata": {},
   "outputs": [
    {
     "data": {
      "text/plain": [
       "2019"
      ]
     },
     "execution_count": 23,
     "metadata": {},
     "output_type": "execute_result"
    }
   ],
   "source": [
    "len(df_inner[\"fips\"].unique())"
   ]
  },
  {
   "cell_type": "markdown",
   "metadata": {},
   "source": [
    "#### Right join: Keep all \"fips\" values from the industry dataset"
   ]
  },
  {
   "cell_type": "code",
   "execution_count": 24,
   "metadata": {},
   "outputs": [],
   "source": [
    "df_right = pd.merge(cancer_data, industry_data, on='fips', how='right')"
   ]
  },
  {
   "cell_type": "code",
   "execution_count": 25,
   "metadata": {},
   "outputs": [
    {
     "data": {
      "text/plain": [
       "3140"
      ]
     },
     "execution_count": 25,
     "metadata": {},
     "output_type": "execute_result"
    }
   ],
   "source": [
    "len(df_right[\"fips\"].unique())"
   ]
  },
  {
   "cell_type": "markdown",
   "metadata": {},
   "source": [
    "#### Left join: Keep all \"fips\" values from the cancer dataset"
   ]
  },
  {
   "cell_type": "code",
   "execution_count": 26,
   "metadata": {},
   "outputs": [],
   "source": [
    "df_left = pd.merge(cancer_data, industry_data, on='fips', how='left')"
   ]
  },
  {
   "cell_type": "code",
   "execution_count": 27,
   "metadata": {},
   "outputs": [
    {
     "data": {
      "text/plain": [
       "2076"
      ]
     },
     "execution_count": 27,
     "metadata": {},
     "output_type": "execute_result"
    }
   ],
   "source": [
    "len(df_left[\"fips\"].unique())"
   ]
  },
  {
   "cell_type": "markdown",
   "metadata": {},
   "source": [
    "### Exporting the joined dataset\n",
    "For now we'll work with the resulting inner_join data because it is the most complete."
   ]
  },
  {
   "cell_type": "code",
   "execution_count": 28,
   "metadata": {},
   "outputs": [],
   "source": [
    "df_inner.to_csv(\"../data_clean/cancer_industry.csv\", index=False)"
   ]
  },
  {
   "cell_type": "code",
   "execution_count": null,
   "metadata": {},
   "outputs": [],
   "source": []
  }
 ],
 "metadata": {
  "kernelspec": {
   "display_name": "Python 3",
   "language": "python",
   "name": "python3"
  },
  "language_info": {
   "codemirror_mode": {
    "name": "ipython",
    "version": 3
   },
   "file_extension": ".py",
   "mimetype": "text/x-python",
   "name": "python",
   "nbconvert_exporter": "python",
   "pygments_lexer": "ipython3",
   "version": "3.7.7"
  }
 },
 "nbformat": 4,
 "nbformat_minor": 4
}
