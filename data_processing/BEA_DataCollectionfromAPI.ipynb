{
 "cells": [
  {
   "cell_type": "code",
   "execution_count": 4,
   "metadata": {},
   "outputs": [],
   "source": [
    "#BASE URL AND KEY\n",
    "#Use the requests library\n",
    "import csv\n",
    "import requests as r\n",
    "import pandas as pd\n",
    "import zipfile, io\n",
    "import os\n",
    "#Set the base URL.\n",
    "#base_url = 'https://api.edap-cluster.com/useeio/api'\n",
    "base_url ='https://smmtool.app.cloud.gov/api/' \n",
    "#Add a key for the request hhttps://api.edap-cluster.com/useeio/api/eaders. No keys are needed by default, so it's blank\n",
    "api_headers = {}\n",
    "# api-key for USEEIO\n",
    "api_headers['x-api-key']='cjdNxlaMdY4B0C84v2Nua3O0rubhHj421K0Z318l'"
   ]
  },
  {
   "cell_type": "code",
   "execution_count": 5,
   "metadata": {},
   "outputs": [],
   "source": [
    "import pathlib\n",
    "\n",
    "# Set a relative location to save the data from the request\n",
    "repo_dir = pathlib.Path().cwd().parent\n",
    "raw_data_dir = repo_dir / 'data_raw'\n",
    "out_data_dir = raw_data_dir / 'BEA_Industry_Factors'\n",
    "\n",
    "# Create new folders if needed\n",
    "state_data_dir = out_data_dir / 'state_level'\n",
    "if not state_data_dir.exists():\n",
    "    state_data_dir.mkdir(parents=True)\n",
    "    \n",
    "county_data_dir = out_data_dir / 'county_level'\n",
    "if not county_data_dir.exists():\n",
    "    county_data_dir.mkdir(parents=True)"
   ]
  },
  {
   "cell_type": "code",
   "execution_count": 6,
   "metadata": {},
   "outputs": [
    {
     "data": {
      "text/plain": [
       "WindowsPath('C:/Users/Owner/Documents/DataVisualAnalytics_Industries-cancer/data_raw/BEA_Industry_Factors/county_level')"
      ]
     },
     "execution_count": 6,
     "metadata": {},
     "output_type": "execute_result"
    }
   ],
   "source": [
    "county_data_dir"
   ]
  },
  {
   "cell_type": "markdown",
   "metadata": {},
   "source": [
    "### Industries' Info per State of GA \n",
    "EMP - Total employment  \n",
    "NESTAB - Number of establishments  \n",
    "PAYANN - Annual payroll  \n",
    "\n",
    "To get variables for each year-> https://api.census.gov/data/2011/cbp/variables.html   \n",
    "General API Documentation-> https://www.census.gov/data/developers/data-sets/cbp-nonemp-zbp/cbp-api.html  \n",
    "We can go a lot lower hat year 2000 as well!"
   ]
  },
  {
   "cell_type": "code",
   "execution_count": 17,
   "metadata": {},
   "outputs": [
    {
     "name": "stdout",
     "output_type": "stream",
     "text": [
      "Getting data for year2000\n",
      "Finished CSV for year2000\n",
      "Getting data for year2001\n",
      "Finished CSV for year2001\n",
      "Getting data for year2002\n",
      "Finished CSV for year2002\n",
      "Getting data for year2003\n",
      "Finished CSV for year2003\n",
      "Getting data for year2004\n",
      "Finished CSV for year2004\n",
      "Getting data for year2005\n",
      "Finished CSV for year2005\n",
      "Getting data for year2006\n",
      "Finished CSV for year2006\n",
      "Getting data for year2007\n",
      "Finished CSV for year2007\n",
      "Getting data for year2008\n",
      "Finished CSV for year2008\n",
      "Getting data for year2009\n",
      "Finished CSV for year2009\n",
      "Getting data for year2010\n",
      "Finished CSV for year2010\n",
      "Getting data for year2011\n",
      "Finished CSV for year2011\n",
      "Getting data for year2012\n",
      "Finished CSV for year2012\n",
      "Getting data for year2013\n",
      "Finished CSV for year2013\n",
      "Getting data for year2014\n",
      "Finished CSV for year2014\n",
      "Getting data for year2015\n",
      "Finished CSV for year2015\n",
      "Getting data for year2016\n",
      "Finished CSV for year2016\n",
      "Getting data for year2017\n",
      "Finished CSV for year2017\n"
     ]
    }
   ],
   "source": [
    "years=range(2000,2018)\n",
    "for year in years:\n",
    "    print(\"Getting data for year\"+str(year))\n",
    "    \n",
    "    # Define the api call --> changes per year based on NAICS coding\n",
    "    if year>=2000 and year<=2002:\n",
    "        url=\"https://api.census.gov/data/\"+str(year)+\"/cbp?get=GEO_TTL,YEAR,NAICS1997,NAICS1997_TTL,ESTAB,EMP,PAYANN&for=state:13\"\n",
    "    elif year>=2003 and year<=2007:\n",
    "        url=\"https://api.census.gov/data/\"+str(year)+\"/cbp?get=GEO_TTL,YEAR,NAICS2002,NAICS2002_TTL,ESTAB,EMP,PAYANN&for=state:13\"\n",
    "    elif year>=2008 and year<=2011:\n",
    "        url=\"https://api.census.gov/data/\"+str(year)+\"/cbp?get=GEO_TTL,YEAR,NAICS2007,NAICS2007_TTL,ESTAB,EMP,PAYANN&for=state:13\"\n",
    "    elif year>=2012 and year<=2016:\n",
    "        url=\"https://api.census.gov/data/\"+str(year)+\"/cbp?get=GEO_TTL,YEAR,NAICS2012,NAICS2012_TTL,ESTAB,EMP,PAYANN&for=state:13\"\n",
    "    elif year==2017:\n",
    "        url=\"https://api.census.gov/data/\"+str(year)+\"/cbp?get=NAME,YEAR,NAICS2017,NAICS2017_LABEL,ESTAB,EMP,PAYANN&for=state:13\"\n",
    "    \n",
    "    # Query the API\n",
    "    response = r.get(url)\n",
    "    \n",
    "    # Save the API return to CSV\n",
    "    with open(state_data_dir / f\"industriesPerStateGA-{year}.csv\",'w') as resultPath:\n",
    "        for line in response.text.strip().split('\\n'):\n",
    "            line=line.replace('[',\"\").replace(']',\"\")\n",
    "            resultPath.write(line + \"\\n\")\n",
    "\n",
    "    print(\"Finished CSV for year\"+str(year))\n",
    "\n",
    "#to read a csv file ----------------------------------------------------------->\n",
    "#pd1=pd.read_csv(\"dataSets/industriesPerStateGA\"+str(2014)+\".csv\",delimiter=',')\n",
    "#pd1"
   ]
  },
  {
   "cell_type": "markdown",
   "metadata": {},
   "source": [
    "### Industries Info per Counties of GA"
   ]
  },
  {
   "cell_type": "code",
   "execution_count": 7,
   "metadata": {},
   "outputs": [
    {
     "name": "stdout",
     "output_type": "stream",
     "text": [
      "Getting data for year2016\n",
      "Finished CSV for year2016\n"
     ]
    }
   ],
   "source": [
    "years=range(2000,2018)\n",
    "count=0\n",
    "for year in years:\n",
    "    print(\"Getting data for year\"+str(year))\n",
    "    if year>=2000 and year<=2002:\n",
    "        url=\"https://api.census.gov/data/\"+str(year)+\"/cbp?get=GEO_TTL,YEAR,NAICS1997,NAICS1997_TTL,ESTAB,EMP,PAYANN&for=county:*&in=state:13\"\n",
    "    elif year>=2003 and year<=2007:\n",
    "        url=\"https://api.census.gov/data/\"+str(year)+\"/cbp?get=GEO_TTL,YEAR,NAICS2002,NAICS2002_TTL,ESTAB,EMP,PAYANN&for=county:*&in=state:13\"\n",
    "    elif year>=2008 and year<=2011:\n",
    "        url=\"https://api.census.gov/data/\"+str(year)+\"/cbp?get=GEO_TTL,YEAR,NAICS2007,NAICS2007_TTL,ESTAB,EMP,PAYANN&for=county:*&in=state:13\"\n",
    "    elif year>=2012 and year<=2016:\n",
    "        url=\"https://api.census.gov/data/\"+str(year)+\"/cbp?get=GEO_TTL,YEAR,NAICS2012,NAICS2012_TTL,ESTAB,EMP,PAYANN&for=county:*&in=state:13\"\n",
    "    elif year==2017:\n",
    "        url=\"https://api.census.gov/data/\"+str(year)+\"/cbp?get=NAME,YEAR,NAICS2017,NAICS2017_LABEL,ESTAB,EMP,PAYANN&for=county:*&in=state:13\"\n",
    "    \n",
    "    \n",
    "    response = r.get(url)\n",
    "    \n",
    "    with open(county_data_dir / f\"industriesPerCountyGA-{year}.csv\",'w') as resultPath:\n",
    "        for line in response.text.strip().split('\\n'):\n",
    "            line=line.replace('[',\"\").replace(']',\"\")\n",
    "            resultPath.write(line + \"\\n\")\n",
    "\n",
    "    print(\"Finished CSV for year\"+str(year))\n",
    "\n",
    "#to read a csv file ----------------------------------------------------------->\n",
    "#pd1=pd.read_csv(\"dataSets/industriesPerStateGA\"+str(2014)+\".csv\",delimiter=',')\n",
    "#pd1"
   ]
  },
  {
   "cell_type": "code",
   "execution_count": 181,
   "metadata": {},
   "outputs": [
    {
     "data": {
      "text/html": [
       "<div>\n",
       "<style scoped>\n",
       "    .dataframe tbody tr th:only-of-type {\n",
       "        vertical-align: middle;\n",
       "    }\n",
       "\n",
       "    .dataframe tbody tr th {\n",
       "        vertical-align: top;\n",
       "    }\n",
       "\n",
       "    .dataframe thead th {\n",
       "        text-align: right;\n",
       "    }\n",
       "</style>\n",
       "<table border=\"1\" class=\"dataframe\">\n",
       "  <thead>\n",
       "    <tr style=\"text-align: right;\">\n",
       "      <th></th>\n",
       "      <th>error: estimated query results exceed cell limit of 1024926</th>\n",
       "    </tr>\n",
       "  </thead>\n",
       "  <tbody>\n",
       "  </tbody>\n",
       "</table>\n",
       "</div>"
      ],
      "text/plain": [
       "Empty DataFrame\n",
       "Columns: [error: estimated query results exceed cell limit of 1024926]\n",
       "Index: []"
      ]
     },
     "execution_count": 181,
     "metadata": {},
     "output_type": "execute_result"
    }
   ],
   "source": [
    "pd1=pd.read_csv(\"dataSets/IndustriesPerCountiesGA/IndustriesPerCountiesGA\"+str(2000)+\".csv\",delimiter=',')\n",
    "pd1"
   ]
  },
  {
   "cell_type": "code",
   "execution_count": 19,
   "metadata": {},
   "outputs": [
    {
     "data": {
      "text/plain": [
       "<Response [400]>"
      ]
     },
     "execution_count": 19,
     "metadata": {},
     "output_type": "execute_result"
    }
   ],
   "source": [
    "response"
   ]
  },
  {
   "cell_type": "code",
   "execution_count": null,
   "metadata": {},
   "outputs": [],
   "source": []
  }
 ],
 "metadata": {
  "kernelspec": {
   "display_name": "Python 3",
   "language": "python",
   "name": "python3"
  },
  "language_info": {
   "codemirror_mode": {
    "name": "ipython",
    "version": 3
   },
   "file_extension": ".py",
   "mimetype": "text/x-python",
   "name": "python",
   "nbconvert_exporter": "python",
   "pygments_lexer": "ipython3",
   "version": "3.7.4"
  }
 },
 "nbformat": 4,
 "nbformat_minor": 4
}
