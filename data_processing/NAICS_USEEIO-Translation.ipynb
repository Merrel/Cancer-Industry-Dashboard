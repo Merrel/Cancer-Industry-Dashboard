{
 "cells": [
  {
   "cell_type": "markdown",
   "metadata": {},
   "source": [
    "read-> https://github.com/USEPA/flowsa/blob/master/scripts/write_NAICS_info_from_useeior.py\n",
    "instead of calling the getNAICSCrosswalk(2012) you can call the loadMasterCrosswalk() function.\n",
    "\n",
    "This file has the correspondence between all NAICS levels and the USEEIO sector codes and names.\n",
    "\n",
    "The one issue is that this MasterCrosswalk is based on the 2012 BEA schema, slightly different than the 2007 schema used by USEEIOv1.1."
   ]
  },
  {
   "cell_type": "code",
   "execution_count": 1,
   "metadata": {},
   "outputs": [
    {
     "ename": "ModuleNotFoundError",
     "evalue": "No module named 'flowsa'",
     "output_type": "error",
     "traceback": [
      "\u001b[1;31m---------------------------------------------------------------------------\u001b[0m",
      "\u001b[1;31mModuleNotFoundError\u001b[0m                       Traceback (most recent call last)",
      "\u001b[1;32m<ipython-input-1-4a43d0abd59e>\u001b[0m in \u001b[0;36m<module>\u001b[1;34m\u001b[0m\n\u001b[0;32m     10\u001b[0m \"\"\"\n\u001b[0;32m     11\u001b[0m \u001b[1;33m\u001b[0m\u001b[0m\n\u001b[1;32m---> 12\u001b[1;33m \u001b[1;32mfrom\u001b[0m \u001b[0mflowsa\u001b[0m\u001b[1;33m.\u001b[0m\u001b[0mcommon\u001b[0m \u001b[1;32mimport\u001b[0m \u001b[0mdatapath\u001b[0m\u001b[1;33m\u001b[0m\u001b[1;33m\u001b[0m\u001b[0m\n\u001b[0m\u001b[0;32m     13\u001b[0m \u001b[1;32mfrom\u001b[0m \u001b[0mrpy2\u001b[0m\u001b[1;33m.\u001b[0m\u001b[0mrobjects\u001b[0m\u001b[1;33m.\u001b[0m\u001b[0mpackages\u001b[0m \u001b[1;32mimport\u001b[0m \u001b[0mimportr\u001b[0m\u001b[1;33m\u001b[0m\u001b[1;33m\u001b[0m\u001b[0m\n\u001b[0;32m     14\u001b[0m \u001b[1;32mfrom\u001b[0m \u001b[0mrpy2\u001b[0m\u001b[1;33m.\u001b[0m\u001b[0mrobjects\u001b[0m \u001b[1;32mimport\u001b[0m \u001b[0mpandas2ri\u001b[0m\u001b[1;33m\u001b[0m\u001b[1;33m\u001b[0m\u001b[0m\n",
      "\u001b[1;31mModuleNotFoundError\u001b[0m: No module named 'flowsa'"
     ]
    }
   ],
   "source": [
    "# write_NAICS_info_from_useeior.py (scripts)\n",
    "# !/usr/bin/env python3\n",
    "# coding=utf-8\n",
    "# ingwersen.wesley@epa.gov\n",
    "\n",
    "\"\"\"\n",
    "A script to get NAICS names and a NAICS 2-3-4-5-6 crosswalk.\n",
    "- from useeior amd store them as .csv.\n",
    "- Depends on rpy2 and tzlocal as well as having R installed and useeior installed.\n",
    "\"\"\"\n",
    "\n",
    "from flowsa.common import datapath\n",
    "from rpy2.robjects.packages import importr\n",
    "from rpy2.robjects import pandas2ri\n",
    "pandas2ri.activate()\n",
    "\n",
    "useeior = importr('useeior')\n",
    "\n",
    "NAICS_crosswalk = useeior.getNAICSCrosswalk(2012)\n",
    "NAICS_crosswalk = pandas2ri.ri2py_dataframe(NAICS_crosswalk)\n",
    "NAICS_crosswalk.to_csv(datapath+\"NAICS_2012_Crosswalk.csv\", index=False)\n",
    "\n",
    "NAICS_names = useeior.getNAICSCodeName(2012)\n",
    "NAICS_names = pandas2ri.ri2py_dataframe(NAICS_names)\n",
    "NAICS_names.to_csv(datapath+\"NAICS_2012_Names.csv\", index=False)"
   ]
  },
  {
   "cell_type": "code",
   "execution_count": null,
   "metadata": {},
   "outputs": [],
   "source": []
  }
 ],
 "metadata": {
  "kernelspec": {
   "display_name": "Python 3",
   "language": "python",
   "name": "python3"
  },
  "language_info": {
   "codemirror_mode": {
    "name": "ipython",
    "version": 3
   },
   "file_extension": ".py",
   "mimetype": "text/x-python",
   "name": "python",
   "nbconvert_exporter": "python",
   "pygments_lexer": "ipython3",
   "version": "3.7.6"
  }
 },
 "nbformat": 4,
 "nbformat_minor": 4
}
