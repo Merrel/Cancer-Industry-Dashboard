{
 "cells": [
  {
   "cell_type": "code",
   "execution_count": 2,
   "metadata": {},
   "outputs": [],
   "source": [
    "#BASE URL AND KEY\n",
    "#Use the requests library\n",
    "import csv\n",
    "import requests as r\n",
    "import pandas as pd\n",
    "import zipfile, io\n",
    "import os\n",
    "\n",
    "#Set the base URL.\n",
    "base_url ='https://smmtool.app.cloud.gov/api/' \n",
    "\n",
    "# Add a key for the request hhttps://api.edap-cluster.com/useeio/api/eaders. \n",
    "# No keys are needed by default, so it's blank\n",
    "\n",
    "api_headers = {}\n",
    "# api-key for USEEIO\n",
    "with open(\".BEA_API_KEY\", 'r') as KEY_FILE:\n",
    "    api_headers['x-api-key']=KEY_FILE.read()"
   ]
  },
  {
   "cell_type": "code",
   "execution_count": 3,
   "metadata": {},
   "outputs": [],
   "source": [
    "import pathlib\n",
    "\n",
    "# Set a relative location to save the data from the request\n",
    "repo_dir = pathlib.Path().cwd().parent\n",
    "raw_data_dir = repo_dir / 'data_raw'\n",
    "out_data_dir = raw_data_dir / 'BEA_Industry_Factors'\n",
    "\n",
    "# Create new folders if needed\n",
    "state_data_dir = out_data_dir / 'state_level'\n",
    "if not state_data_dir.exists():\n",
    "    state_data_dir.mkdir(parents=True)\n",
    "    \n",
    "county_data_dir = out_data_dir / 'county_level'\n",
    "if not county_data_dir.exists():\n",
    "    county_data_dir.mkdir(parents=True)"
   ]
  },
  {
   "cell_type": "code",
   "execution_count": 4,
   "metadata": {},
   "outputs": [
    {
     "data": {
      "text/plain": [
       "PosixPath('/Users/merrelbook/Projects/HealthDataVizGA/DataVisualAnalytics_Industries-cancer/data_raw/BEA_Industry_Factors/county_level')"
      ]
     },
     "execution_count": 4,
     "metadata": {},
     "output_type": "execute_result"
    }
   ],
   "source": [
    "county_data_dir"
   ]
  },
  {
   "cell_type": "markdown",
   "metadata": {},
   "source": [
    "### Industries' Info per State of GA \n",
    "EMP - Total employment  \n",
    "NESTAB - Number of establishments  \n",
    "PAYANN - Annual payroll  \n",
    "\n",
    "To get variables for each year-> https://api.census.gov/data/2011/cbp/variables.html   \n",
    "General API Documentation-> https://www.census.gov/data/developers/data-sets/cbp-nonemp-zbp/cbp-api.html  \n",
    "We can go a lot lower hat year 2000 as well!"
   ]
  },
  {
   "cell_type": "code",
   "execution_count": null,
   "metadata": {},
   "outputs": [],
   "source": []
  },
  {
   "cell_type": "code",
   "execution_count": null,
   "metadata": {},
   "outputs": [
    {
     "name": "stdout",
     "output_type": "stream",
     "text": [
      "Getting data for year2000\n",
      "Finished CSV for year2000\n",
      "Getting data for year2001\n"
     ]
    }
   ],
   "source": [
    "years=range(2000,2018)\n",
    "for year in years:\n",
    "    print(\"Getting data for year\"+str(year))\n",
    "    \n",
    "    # Define the api call --> changes per year based on NAICS coding\n",
    "    if year>=2000 and year<=2002:\n",
    "        url=\"https://api.census.gov/data/\"+str(year)+\"/cbp?get=GEO_TTL,YEAR,NAICS1997,NAICS1997_TTL,ESTAB,EMP,PAYANN&for=state:13\"\n",
    "    elif year>=2003 and year<=2007:\n",
    "        url=\"https://api.census.gov/data/\"+str(year)+\"/cbp?get=GEO_TTL,YEAR,NAICS2002,NAICS2002_TTL,ESTAB,EMP,PAYANN&for=state:13\"\n",
    "    elif year>=2008 and year<=2011:\n",
    "        url=\"https://api.census.gov/data/\"+str(year)+\"/cbp?get=GEO_TTL,YEAR,NAICS2007,NAICS2007_TTL,ESTAB,EMP,PAYANN&for=state:13\"\n",
    "    elif year>=2012 and year<=2016:\n",
    "        url=\"https://api.census.gov/data/\"+str(year)+\"/cbp?get=GEO_TTL,YEAR,NAICS2012,NAICS2012_TTL,ESTAB,EMP,PAYANN&for=state:13\"\n",
    "    elif year==2017:\n",
    "        url=\"https://api.census.gov/data/\"+str(year)+\"/cbp?get=NAME,YEAR,NAICS2017,NAICS2017_LABEL,ESTAB,EMP,PAYANN&for=state:13\"\n",
    "    \n",
    "    # Query the API\n",
    "    response = r.get(url)\n",
    "    \n",
    "    # Save the API return to CSV\n",
    "    with open(state_data_dir / f\"industriesPerStateGA-{year}.csv\",'w') as resultPath:\n",
    "        for line in response.text.strip().split('\\n'):\n",
    "            line=line.replace('[',\"\").replace(']',\"\")\n",
    "            resultPath.write(line + \"\\n\")\n",
    "\n",
    "    print(\"Finished CSV for year\"+str(year))\n",
    "\n",
    "#to read a csv file ----------------------------------------------------------->\n",
    "#pd1=pd.read_csv(\"dataSets/industriesPerStateGA\"+str(2014)+\".csv\",delimiter=',')\n",
    "#pd1"
   ]
  },
  {
   "cell_type": "markdown",
   "metadata": {},
   "source": [
    "### Industries Info per Counties of GA\n",
    "\n",
    "#### API Comments - County Level\n",
    "\n",
    "This set of API calls are requesting data on *county business patterns* (CBP)\n",
    "\n",
    "See https://api.census.gov/data/2017/cbp.html\n",
    "\n",
    "\n"
   ]
  },
  {
   "cell_type": "code",
   "execution_count": 5,
   "metadata": {},
   "outputs": [
    {
     "name": "stdout",
     "output_type": "stream",
     "text": [
      "1999 --> API Response: 200\n"
     ]
    }
   ],
   "source": [
    "\n",
    "\n",
    "# years=range(1999,2000)\n",
    "# count=0\n",
    "# for year in years:\n",
    "# #     columns_to_select = \"GEO_TTL,COUNTY,YEAR,NAICS1997,NAICS1997_TTL,ESTAB,EMP,PAYANN\"\n",
    "#     columns_to_select = \"GEO_TTL,COUNTY,YEAR,ESTAB,EMP,PAYANN,NAICS1997_TTL\"\n",
    "\n",
    "    \n",
    "# #     url=f\"{base_url}/{year}/cbp?get={columns_to_select}&for=county:*&in=state:13&NAICS2007=72\"\n",
    "# #     url=\"https://api.census.gov/data/\"+str(year)+\"/cbp?get=GEO_TTL,COUNTY,YEAR,NAICS2012,NAICS2012_TTL,ESTAB,EMP,PAYANN&for=county:*&in=state:13\"\n",
    "# #     url = \"https://api.census.gov/data/2000/cbp?get=GEO_TTL,NAICS1997_TTL,EMP,ESTAB&for=county:*&in=state:06\"\n",
    "#     url = \"https://api.census.gov/data/2010/cbp?get=ESTAB,LFO,NAICS2007,NAICS2007_TTL,GEO_TTL&for=state:06&NAICS2007=72\"\n",
    "#     response = r.get(url)\n",
    "    \n",
    "#     print(f'{year} --> API Response: {response.status_code}')\n",
    "\n",
    "# # response"
   ]
  },
  {
   "cell_type": "code",
   "execution_count": 6,
   "metadata": {},
   "outputs": [
    {
     "name": "stdout",
     "output_type": "stream",
     "text": [
      "[[\"ESTAB\",\"LFO\",\"NAICS2007\",\"NAICS2007_TTL\",\"GEO_TTL\",\"NAICS2007\",\"state\"],\n",
      "[\"75463\",\"001\",\"72    \",\"Accommodation and food services\",\"California\",\"72    \",\"06\"],\n",
      "[\"19310\",\"910\",\"72    \",\"Accommodation and food services\",\"California\",\"72    \",\"06\"],\n",
      "[\"22854\",\"9111\",\"72    \",\"Accommodation and food services\",\"California\",\"72    \",\"06\"],\n",
      "[\"18802\",\"920\",\"72    \",\"Accommodation and food services\",\"California\",\"72    \",\"06\"],\n",
      "[\"14090\",\"930\",\"72    \",\"Accommodation and food services\",\"California\",\"72    \",\"06\"],\n",
      "[\"347\",\"932\",\"72    \",\"Accommodation and food services\",\"California\",\"72    \",\"06\"],\n",
      "[\"12\",\"933\",\"72    \",\"Accommodation and food services\",\"California\",\"72    \",\"06\"],\n",
      "[\"48\",\"942\",\"72    \",\"Accommodation and food services\",\"California\",\"72    \",\"06\"]]\n"
     ]
    }
   ],
   "source": [
    "print(response.text)"
   ]
  },
  {
   "cell_type": "code",
   "execution_count": 7,
   "metadata": {},
   "outputs": [],
   "source": [
    "# TO GET AVAILABLE VARIABLES\n",
    "\n",
    "# year = 2013\n",
    "# url = f\"{base_url}/{year}/cbp/variables\"\n",
    "\n",
    "# response = r.get(url)\n",
    "# print(response.text)"
   ]
  },
  {
   "cell_type": "code",
   "execution_count": null,
   "metadata": {},
   "outputs": [],
   "source": []
  },
  {
   "cell_type": "code",
   "execution_count": 11,
   "metadata": {
    "scrolled": true
   },
   "outputs": [
    {
     "name": "stdout",
     "output_type": "stream",
     "text": [
      "Getting data for year2017\n",
      "Finished CSV for year2017\n"
     ]
    }
   ],
   "source": [
    "# Base URL for the API call\n",
    "base_url = \"https://api.census.gov/data\"\n",
    "\n",
    "#\n",
    "# NOTE Years Prior to 2012 Currently have a bug when specifying NAICS#### as one of the columns\n",
    "#      - stick to 2012 and later for now\n",
    "#\n",
    "\n",
    "years=range(2012,2018)\n",
    "count=0\n",
    "for year in years:\n",
    "    print(\"Getting data for year\"+str(year))\n",
    "    if year>=2000 and year<=2002:\n",
    "        columns_to_select = \"GEO_ID,GEO_TTL,COUNTY,YEAR,NAICS1997_TTL,ESTAB,EMP,PAYANN\"\n",
    "        url=f\"{base_url}/{year}/cbp?get={columns_to_select}&for=county:*&in=state:13\"\n",
    "    elif year>=2003 and year<=2007:\n",
    "        columns_to_select = \"GEO_ID,GEO_TTL,COUNTY,YEAR,NAICS2002_TTL,ESTAB,EMP,PAYANN\"\n",
    "        url=f\"{base_url}/{year}/cbp?get={columns_to_select}&for=county:*&in=state:13&NAICS2002=70\"\n",
    "    elif year>=2008 and year<=2011:\n",
    "        columns_to_select = \"GEO_ID,GEO_TTL,COUNTY,YEAR,NAICS2007_TTL,ESTAB,EMP,PAYANN\"\n",
    "        url=f\"{base_url}/{year}/cbp?get={columns_to_select}&for=county:*&in=state:13\"\n",
    "    elif year>=2012 and year<=2016:\n",
    "        columns_to_select = \"GEO_ID,GEO_TTL,COUNTY,YEAR,NAICS2012,NAICS2012_TTL,ESTAB,EMP,PAYANN\"\n",
    "        url=f\"{base_url}/{year}/cbp?get={columns_to_select}&for=county:*&in=state:13\"\n",
    "    elif year==2017:\n",
    "        columns_to_select = \"GEO_ID,NAME,COUNTY,YEAR,NAICS2017,NAICS2017_LABEL,ESTAB,EMP,PAYANN\"\n",
    "        url=f\"{base_url}/{year}/cbp?get={columns_to_select}&for=county:*&in=state:13\"\n",
    "    \n",
    "    \n",
    "    response = r.get(url)\n",
    "        \n",
    "    with open(county_data_dir / f\"industriesPerCountyGA-{year}.csv\",'w') as resultPath:\n",
    "        for line in response.text.strip().split('\\n'):\n",
    "            line=line.replace('[',\"\").replace(']',\"\")\n",
    "            resultPath.write(line + \"\\n\")\n",
    "\n",
    "    print(\"Finished CSV for year\"+str(year))"
   ]
  },
  {
   "cell_type": "code",
   "execution_count": null,
   "metadata": {},
   "outputs": [],
   "source": []
  }
 ],
 "metadata": {
  "kernelspec": {
   "display_name": "Python 3",
   "language": "python",
   "name": "python3"
  },
  "language_info": {
   "codemirror_mode": {
    "name": "ipython",
    "version": 3
   },
   "file_extension": ".py",
   "mimetype": "text/x-python",
   "name": "python",
   "nbconvert_exporter": "python",
   "pygments_lexer": "ipython3",
   "version": "3.7.4"
  }
 },
 "nbformat": 4,
 "nbformat_minor": 4
}
