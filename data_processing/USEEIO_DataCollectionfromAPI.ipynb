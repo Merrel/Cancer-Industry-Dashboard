{
 "cells": [
  {
   "cell_type": "markdown",
   "metadata": {},
   "source": [
    "for breif matrix explanations read-> https://github.com/USEPA/USEEIO_API/blob/master/doc/data_format.md"
   ]
  },
  {
   "cell_type": "code",
   "execution_count": 2,
   "metadata": {},
   "outputs": [],
   "source": [
    "#BASE URL AND KEY\n",
    "#Use the requests library\n",
    "import csv\n",
    "import requests as r\n",
    "import pandas as pd\n",
    "import zipfile, io\n",
    "import os\n",
    "#Set the base URL.\n",
    "#base_url = 'https://api.edap-cluster.com/useeio/api'\n",
    "base_url ='https://smmtool.app.cloud.gov/api/' \n",
    "#Add a key for the request hhttps://api.edap-cluster.com/useeio/api/eaders. No keys are needed by default, so it's blank\n",
    "api_headers = {}\n",
    "# api-key for USEEIO\n",
    "# api_headers['x-api-key']='cjdNxlaMdY4B0C84v2Nua3O0rubhHj421K0Z318l'\n",
    "# api-key for USEEIO\n",
    "with open(\".USEEIO_API_KEY\", 'r') as KEY_FILE:\n",
    "    api_headers['x-api-key']=KEY_FILE.read()"
   ]
  },
  {
   "cell_type": "code",
   "execution_count": 3,
   "metadata": {},
   "outputs": [
    {
     "data": {
      "text/plain": [
       "[{'id': 'USEEIO', 'name': 'USEEIO', 'location': 'US'},\n",
       " {'id': 'GAUSEEIO', 'name': 'GAUSEEIO', 'location': 'GA'}]"
      ]
     },
     "execution_count": 3,
     "metadata": {},
     "output_type": "execute_result"
    }
   ],
   "source": [
    "#AVAILABLE MODELS\n",
    "#Show the available models in the native JSON output\n",
    "models = r.get(base_url+'/models',headers=api_headers)\n",
    "models_json = models.json()\n",
    "models_json\n",
    "#Returns output like\n",
    "#[{'id': 'USEEIOv1.1',\n",
    "#  'name': 'USEEIOv1.1',\n",
    "#  'location': 'US',\n",
    "#  'description': 'EPA national life cycle model of goods and services, v1.1.'}]"
   ]
  },
  {
   "cell_type": "markdown",
   "metadata": {},
   "source": [
    "##### Select here of you want to work with GA or the whole USA data"
   ]
  },
  {
   "cell_type": "code",
   "execution_count": 4,
   "metadata": {},
   "outputs": [
    {
     "name": "stdout",
     "output_type": "stream",
     "text": [
      "The first model name is GAUSEEIO.\n"
     ]
    }
   ],
   "source": [
    "#MODEL NAME\n",
    "#Use the first available model\n",
    "model_name = models_json[1]['id']\n",
    "print('The first model name is ' + str(model_name) + '.')"
   ]
  },
  {
   "cell_type": "code",
   "execution_count": 5,
   "metadata": {},
   "outputs": [
    {
     "name": "stdout",
     "output_type": "stream",
     "text": [
      "The GAUSEEIO model has 24 indicators. The names are:\n",
      "['Acid Rain', 'Energy', 'Freshwater Aquatic Ecotoxicity', 'Eutrophication', 'Food Waste', 'Global Climate Change', 'Hazardous Air Pollutants', 'Hazardous Waste', 'Human Health Cancer', 'Human Health Noncancer', 'Human Health - Respiratory Effects', 'Human Health Cancer and Noncancer', 'Employment', 'Land', 'Metals', 'Minerals and Metals', 'Muncipal Solid Waste', 'Nonrenewable Energy', 'Ozone Depletion', 'Pesticides', 'Renewable Energy', 'Smog Formation', 'Value Added', 'Water']\n"
     ]
    }
   ],
   "source": [
    "#INDICATORS\n",
    "model_indictrs_response = r.get(base_url+model_name+'/indicators',headers=api_headers)\n",
    "model_indictrs_json = model_indictrs_response.json()\n",
    "HC_indictr_id = model_indictrs_json[8]['id']\n",
    "model_indictrs_names = []\n",
    "model_indictrs_ids = []\n",
    "for i in model_indictrs_json:\n",
    "    model_indictrs_names.append(i['name'])\n",
    "    model_indictrs_ids.append(i['id'])\n",
    "print('The '+ model_name +' model has ' + str(len(model_indictrs_json)) + ' indicators. The names are:')\n",
    "print(model_indictrs_names)\n",
    "HTOX_indictr_id = model_indictrs_json[11]['id']\n",
    "#print(HTOX_indictr_id)"
   ]
  },
  {
   "cell_type": "code",
   "execution_count": 7,
   "metadata": {},
   "outputs": [
    {
     "name": "stdout",
     "output_type": "stream",
     "text": [
      "The GAUSEEIO model has 776 sectors.\n",
      "The first sector name is \"Fresh soybeans, canola, flaxseeds, and other oilseeds\" with an ID of \"1111a0/fresh soybeans, canola, flaxseeds, and other oilseeds/us-ga\"\n"
     ]
    }
   ],
   "source": [
    "dqname = '(Reliability,Time Corr,Geo Corr,Tech Corr,Data Collection)'\n",
    "#MODEL SECTORS\n",
    "#Get the sectors\n",
    "model_sectors = r.get(base_url+model_name+'/sectors',headers=api_headers)\n",
    "model_sectors_json = model_sectors.json()\n",
    "model_sector_ids = []\n",
    "model_sectors_json\n",
    "for i in model_sectors_json:\n",
    "    model_sector_ids.append(i['id'])\n",
    "first_sector_id = model_sector_ids[0]\n",
    "first_sector_name = model_sectors_json[0]['name']\n",
    "print('The '+ model_name +' model has ' + str(len(model_sectors_json)) + ' sectors.')\n",
    "print('The first sector name is \\\"' + first_sector_name + '\\\" with an ID of \\\"' + first_sector_id + '\\\"')"
   ]
  },
  {
   "cell_type": "code",
   "execution_count": 30,
   "metadata": {},
   "outputs": [
    {
     "data": {
      "text/plain": [
       "['1111a0/fresh soybeans, canola, flaxseeds, and other oilseeds/us-ga',\n",
       " '1111b0/fresh wheat, corn, rice, and other grains/us-ga']"
      ]
     },
     "execution_count": 30,
     "metadata": {},
     "output_type": "execute_result"
    }
   ],
   "source": [
    "[_ for _ in model_sector_ids if (_[:4] == \"1111\") & (_[-4:] != \"rous\")]"
   ]
  },
  {
   "cell_type": "code",
   "execution_count": 31,
   "metadata": {},
   "outputs": [],
   "source": [
    "# model_sector_ids"
   ]
  },
  {
   "cell_type": "markdown",
   "metadata": {},
   "source": [
    "## Top sectors related to Human Cancer and HTOX (Per dollar value)"
   ]
  },
  {
   "cell_type": "code",
   "execution_count": 34,
   "metadata": {},
   "outputs": [
    {
     "name": "stdout",
     "output_type": "stream",
     "text": [
      "Table. Top 10 direct sector impacts per dollar for Human Health Cancer with DQ scores.\n"
     ]
    }
   ],
   "source": [
    "#DIRECT IMPACTS\n",
    "#Get top direct impacts for HC(Human Cancer) indicator\n",
    "#Query the first row of the direct impacts matrix, D. This provides the direct impacts for the first indicator.\n",
    "D0_response = r.get(base_url+model_name+'/matrix/D?row=0',headers=api_headers)\n",
    "D0 = D0_response.json()\n",
    "#Get the accompanying data quality scores\n",
    "D0dqi_response = r.get(base_url+model_name+'/matrix/D_dqi?row=0',headers=api_headers)\n",
    "try:\n",
    "    D0dqi = D0dqi_response.json()\n",
    "except: \n",
    "    D0dqi = [0]*len(D0)\n",
    "#Convert it to a dataframe\n",
    "D0_df = pd.DataFrame({HC_indictr_id:D0},index=model_sector_ids)\n",
    "#Sort it by descending order\n",
    "# D0_df = D0_df.sort_values(by=HC_indictr_id,ascending=False)\n",
    "print('Table. Top 10 direct sector impacts per dollar for ' + model_indictrs_names[8] +' with DQ scores.')\n",
    "# D0_df.head(10)\n",
    "\n",
    "# D0_df.loc[]"
   ]
  },
  {
   "cell_type": "code",
   "execution_count": 36,
   "metadata": {},
   "outputs": [
    {
     "data": {
      "text/html": [
       "<div>\n",
       "<style scoped>\n",
       "    .dataframe tbody tr th:only-of-type {\n",
       "        vertical-align: middle;\n",
       "    }\n",
       "\n",
       "    .dataframe tbody tr th {\n",
       "        vertical-align: top;\n",
       "    }\n",
       "\n",
       "    .dataframe thead th {\n",
       "        text-align: right;\n",
       "    }\n",
       "</style>\n",
       "<table border=\"1\" class=\"dataframe\">\n",
       "  <thead>\n",
       "    <tr style=\"text-align: right;\">\n",
       "      <th></th>\n",
       "      <th>HC</th>\n",
       "    </tr>\n",
       "  </thead>\n",
       "  <tbody>\n",
       "    <tr>\n",
       "      <td>1111a0/fresh soybeans, canola, flaxseeds, and other oilseeds/us-ga</td>\n",
       "      <td>0.006991</td>\n",
       "    </tr>\n",
       "    <tr>\n",
       "      <td>1111b0/fresh wheat, corn, rice, and other grains/us-ga</td>\n",
       "      <td>0.023198</td>\n",
       "    </tr>\n",
       "    <tr>\n",
       "      <td>111200/fresh vegetables, melons, and potatoes/us-ga</td>\n",
       "      <td>0.005637</td>\n",
       "    </tr>\n",
       "    <tr>\n",
       "      <td>111300/fresh fruits and tree nuts/us-ga</td>\n",
       "      <td>0.003150</td>\n",
       "    </tr>\n",
       "    <tr>\n",
       "      <td>111400/greenhouse crops, mushrooms, nurseries, and flowers/us-ga</td>\n",
       "      <td>0.000780</td>\n",
       "    </tr>\n",
       "    <tr>\n",
       "      <td>...</td>\n",
       "      <td>...</td>\n",
       "    </tr>\n",
       "    <tr>\n",
       "      <td>s00402/used and secondhand goods/us-ga</td>\n",
       "      <td>0.000000</td>\n",
       "    </tr>\n",
       "    <tr>\n",
       "      <td>s00500/federal general government (defense)/us-ga</td>\n",
       "      <td>0.000019</td>\n",
       "    </tr>\n",
       "    <tr>\n",
       "      <td>s00600/federal general government (nondefense)/us-ga</td>\n",
       "      <td>0.000005</td>\n",
       "    </tr>\n",
       "    <tr>\n",
       "      <td>s00700/state and local general government/us-ga</td>\n",
       "      <td>0.000025</td>\n",
       "    </tr>\n",
       "    <tr>\n",
       "      <td>s00900/rest of the world adjustment/us-ga</td>\n",
       "      <td>0.000009</td>\n",
       "    </tr>\n",
       "  </tbody>\n",
       "</table>\n",
       "<p>388 rows × 1 columns</p>\n",
       "</div>"
      ],
      "text/plain": [
       "                                                          HC\n",
       "1111a0/fresh soybeans, canola, flaxseeds, and o...  0.006991\n",
       "1111b0/fresh wheat, corn, rice, and other grain...  0.023198\n",
       "111200/fresh vegetables, melons, and potatoes/u...  0.005637\n",
       "111300/fresh fruits and tree nuts/us-ga             0.003150\n",
       "111400/greenhouse crops, mushrooms, nurseries, ...  0.000780\n",
       "...                                                      ...\n",
       "s00402/used and secondhand goods/us-ga              0.000000\n",
       "s00500/federal general government (defense)/us-ga   0.000019\n",
       "s00600/federal general government (nondefense)/...  0.000005\n",
       "s00700/state and local general government/us-ga     0.000025\n",
       "s00900/rest of the world adjustment/us-ga           0.000009\n",
       "\n",
       "[388 rows x 1 columns]"
      ]
     },
     "execution_count": 36,
     "metadata": {},
     "output_type": "execute_result"
    }
   ],
   "source": [
    "D0_df.loc[\n",
    "\n",
    "#     [_ for _ in model_sector_ids if (_[:4] == \"1111\") & (_[-4:] != \"rous\")]\n",
    "\n",
    "    [_ for _ in model_sector_ids if (_[-4:] != \"rous\")]\n",
    "\n",
    "]"
   ]
  },
  {
   "cell_type": "code",
   "execution_count": 52,
   "metadata": {},
   "outputs": [
    {
     "name": "stdout",
     "output_type": "stream",
     "text": [
      "Table. Top 10 direct sector impacts per dollar for Human Health Cancer and Noncancer with DQ scores.\n"
     ]
    },
    {
     "data": {
      "text/html": [
       "<div>\n",
       "<style scoped>\n",
       "    .dataframe tbody tr th:only-of-type {\n",
       "        vertical-align: middle;\n",
       "    }\n",
       "\n",
       "    .dataframe tbody tr th {\n",
       "        vertical-align: top;\n",
       "    }\n",
       "\n",
       "    .dataframe thead th {\n",
       "        text-align: right;\n",
       "    }\n",
       "</style>\n",
       "<table border=\"1\" class=\"dataframe\">\n",
       "  <thead>\n",
       "    <tr style=\"text-align: right;\">\n",
       "      <th></th>\n",
       "      <th>HTOX</th>\n",
       "    </tr>\n",
       "  </thead>\n",
       "  <tbody>\n",
       "    <tr>\n",
       "      <th>112a00/animal farms and aquaculture ponds (except cattle and poultry)/rous</th>\n",
       "      <td>0.030414</td>\n",
       "    </tr>\n",
       "    <tr>\n",
       "      <th>327310/cement/rous</th>\n",
       "      <td>0.024351</td>\n",
       "    </tr>\n",
       "    <tr>\n",
       "      <th>112a00/animal farms and aquaculture ponds (except cattle and poultry)/us-ga</th>\n",
       "      <td>0.023216</td>\n",
       "    </tr>\n",
       "    <tr>\n",
       "      <th>1111b0/fresh wheat, corn, rice, and other grains/us-ga</th>\n",
       "      <td>0.023198</td>\n",
       "    </tr>\n",
       "    <tr>\n",
       "      <th>483000/water transport (boats, ships, ferries)/rous</th>\n",
       "      <td>0.022553</td>\n",
       "    </tr>\n",
       "    <tr>\n",
       "      <th>221100/electricity/us-ga</th>\n",
       "      <td>0.022001</td>\n",
       "    </tr>\n",
       "    <tr>\n",
       "      <th>112300/poultry farms/rous</th>\n",
       "      <td>0.021694</td>\n",
       "    </tr>\n",
       "    <tr>\n",
       "      <th>327310/cement/us-ga</th>\n",
       "      <td>0.021472</td>\n",
       "    </tr>\n",
       "    <tr>\n",
       "      <th>112300/poultry farms/us-ga</th>\n",
       "      <td>0.020613</td>\n",
       "    </tr>\n",
       "    <tr>\n",
       "      <th>1111b0/fresh wheat, corn, rice, and other grains/rous</th>\n",
       "      <td>0.019810</td>\n",
       "    </tr>\n",
       "  </tbody>\n",
       "</table>\n",
       "</div>"
      ],
      "text/plain": [
       "                                                        HTOX\n",
       "112a00/animal farms and aquaculture ponds (exce...  0.030414\n",
       "327310/cement/rous                                  0.024351\n",
       "112a00/animal farms and aquaculture ponds (exce...  0.023216\n",
       "1111b0/fresh wheat, corn, rice, and other grain...  0.023198\n",
       "483000/water transport (boats, ships, ferries)/...  0.022553\n",
       "221100/electricity/us-ga                            0.022001\n",
       "112300/poultry farms/rous                           0.021694\n",
       "327310/cement/us-ga                                 0.021472\n",
       "112300/poultry farms/us-ga                          0.020613\n",
       "1111b0/fresh wheat, corn, rice, and other grain...  0.019810"
      ]
     },
     "execution_count": 52,
     "metadata": {},
     "output_type": "execute_result"
    }
   ],
   "source": [
    "#DIRECT IMPACTS\n",
    "#Get top direct impacts for HTOX indicator\n",
    "#Query the first row of the direct impacts matrix, D. This provides the direct impacts for the first indicator.\n",
    "D0_response = r.get(base_url+model_name+'/matrix/D?row=0',headers=api_headers)\n",
    "D0 = D0_response.json()\n",
    "#Get the accompanying data quality scores\n",
    "D0dqi_response = r.get(base_url+model_name+'/matrix/D_dqi?row=0',headers=api_headers)\n",
    "try:\n",
    "    D0dqi = D0dqi_response.json()\n",
    "except: \n",
    "    D0dqi = [0]*len(D0)\n",
    "#Convert it to a dataframe\n",
    "D0_df = pd.DataFrame({HTOX_indictr_id:D0},index=model_sector_ids)\n",
    "#Sort it by descending order\n",
    "D0_df = D0_df.sort_values(by=HTOX_indictr_id,ascending=False)\n",
    "print('Table. Top 10 direct sector impacts per dollar for ' + model_indictrs_names[11] +' with DQ scores.')\n",
    "D0_df.head(10)"
   ]
  },
  {
   "cell_type": "markdown",
   "metadata": {},
   "source": [
    "## Top sectors related to Human Cancer  Per demand vector\n",
    "#### What even is demand vector?!\n",
    "#### Why is this only 2007?!"
   ]
  },
  {
   "cell_type": "code",
   "execution_count": 53,
   "metadata": {},
   "outputs": [
    {
     "data": {
      "text/plain": [
       "[{'id': '2007_ga_consumption',\n",
       "  'year': 2007,\n",
       "  'type': 'Consumption',\n",
       "  'system': 'Full System',\n",
       "  'location': 'GA'},\n",
       " {'id': '2007_ga_production',\n",
       "  'year': 2007,\n",
       "  'type': 'Production',\n",
       "  'system': 'Full System',\n",
       "  'location': 'GA'},\n",
       " {'id': '2007_ga_consumption_food',\n",
       "  'year': 2007,\n",
       "  'type': 'Consumption',\n",
       "  'system': 'Food System',\n",
       "  'location': 'GA'},\n",
       " {'id': '2007_ga_production_food',\n",
       "  'year': 2007,\n",
       "  'type': 'Production',\n",
       "  'system': 'Food System',\n",
       "  'location': 'GA'},\n",
       " {'id': '2007_us_consumption',\n",
       "  'year': 2007,\n",
       "  'type': 'Consumption',\n",
       "  'system': 'Full System',\n",
       "  'location': 'US'},\n",
       " {'id': '2007_us_production',\n",
       "  'year': 2007,\n",
       "  'type': 'Production',\n",
       "  'system': 'Full System',\n",
       "  'location': 'US'},\n",
       " {'id': '2007_us_consumption_food',\n",
       "  'year': 2007,\n",
       "  'type': 'Consumption',\n",
       "  'system': 'Food System',\n",
       "  'location': 'US'},\n",
       " {'id': '2007_us_production_food',\n",
       "  'year': 2007,\n",
       "  'type': 'Production',\n",
       "  'system': 'Food System',\n",
       "  'location': 'US'}]"
      ]
     },
     "execution_count": 53,
     "metadata": {},
     "output_type": "execute_result"
    }
   ],
   "source": [
    "#DEMAND VECTORS\n",
    "#See the demand vectors available for the model in their JSON format\n",
    "demands_response = r.get(base_url+model_name+'/demands',headers=api_headers)\n",
    "demands = demands_response.json()\n",
    "demands"
   ]
  },
  {
   "cell_type": "code",
   "execution_count": 54,
   "metadata": {},
   "outputs": [
    {
     "name": "stdout",
     "output_type": "stream",
     "text": [
      "[{'sector': '1111a0/fresh soybeans, canola, flaxseeds, and other oilseeds/rous', 'amount': -6435810.84080927}, {'sector': '1111a0/fresh soybeans, canola, flaxseeds, and other oilseeds/us-ga', 'amount': -2829320.19067274}, {'sector': '1111b0/fresh wheat, corn, rice, and other grains/rous', 'amount': 195082127.60257}, {'sector': '1111b0/fresh wheat, corn, rice, and other grains/us-ga', 'amount': 62102321.6148822}, {'sector': '111200/fresh vegetables, melons, and potatoes/rous', 'amount': 324186911.141618}]\n"
     ]
    }
   ],
   "source": [
    "#DEMAND VECTOR IN NATIVE FORMAT\n",
    "#See the first demand vector in its native format, which has to be created if one wants to calculate the model results with a custom vector\n",
    "first_demand_id = demands[1]['id']\n",
    "first_demand_id\n",
    "y0_response = r.get(base_url+model_name+'/demands/'+first_demand_id,headers=api_headers)\n",
    "y0 = y0_response.json()\n",
    "if len(y0)>5:\n",
    "    print(y0[0:5])\n",
    "else:\n",
    "    print(y0)"
   ]
  },
  {
   "cell_type": "code",
   "execution_count": 55,
   "metadata": {},
   "outputs": [
    {
     "name": "stdout",
     "output_type": "stream",
     "text": [
      "Top ten sectors by direct perspective impact for indicator Human Health Cancer using demand vector 2007_ga_production, with 4 additional indicator results presented.\n"
     ]
    },
    {
     "data": {
      "text/plain": [
       "484000/truck transport/us-ga                                                                       6.727894\n",
       "211000/unrefined oil and gas/rous                                                                  4.443556\n",
       "484000/truck transport/rous                                                                        2.463153\n",
       "233411/single-family residential structures/us-ga                                                  1.679057\n",
       "486000/pipeline transport/us-ga                                                                    1.583266\n",
       "111900/tobacco, cotton, sugarcane, peanuts, sugar beets, herbs and spices, and other crops/rous    1.286130\n",
       "486000/pipeline transport/rous                                                                     0.997112\n",
       "221100/electricity/us-ga                                                                           0.751990\n",
       "48a000/scenic and sightseeing transportation and support activities for transportation/us-ga       0.704543\n",
       "1111b0/fresh wheat, corn, rice, and other grains/rous                                              0.660954\n",
       "2332a0/commercial structures, including farm structures/us-ga                                      0.600792\n",
       "2332b0/other nonresidential structures/us-ga                                                       0.526007\n",
       "2334a0/other residential structures/us-ga                                                          0.524756\n",
       "233293/highways and streets/us-ga                                                                  0.482613\n",
       "324110/gasoline, fuels, and by-products of petroleum refining/rous                                 0.399510\n",
       "s00700/state and local general government/us-ga                                                    0.384341\n",
       "713200/gambling establishments (except casino hotels)/us-ga                                        0.379194\n",
       "321200/plywood and veneer/rous                                                                     0.358184\n",
       "1121a0/cattle ranches and feedlots/rous                                                            0.354861\n",
       "722211/limited-service restaurants/us-ga                                                           0.312153\n",
       "Name: HC, dtype: float64"
      ]
     },
     "execution_count": 55,
     "metadata": {},
     "output_type": "execute_result"
    }
   ],
   "source": [
    "#SECTORS IN ROWS. \n",
    "#Use this same demand for a model calculation. Use the direct perspective calculation. \n",
    "#Show a transposed view with indicators in the columns and sectors in the rows\n",
    "data_to_post = {\"perspective\": \"direct\"}\n",
    "data_to_post[\"demand\"] = y0\n",
    "result1_response = r.post(base_url+model_name+'/calculate',headers=api_headers,json=data_to_post)\n",
    "result1 = result1_response.json()\n",
    "result1_df = pd.DataFrame(data=result1['data'],columns=result1['sectors'],index=result1['indicators']).transpose()\n",
    "result1_df = result1_df.sort_values(by=HC_indictr_id,ascending=False)\n",
    "print('Top ten sectors by direct perspective impact for indicator '+ model_indictrs_names[8] + ' using demand vector ' +  first_demand_id + ', with 4 additional indicator results presented.')\n",
    "result1_df[model_indictrs_ids[8]].head(20)"
   ]
  },
  {
   "cell_type": "code",
   "execution_count": 56,
   "metadata": {},
   "outputs": [
    {
     "name": "stdout",
     "output_type": "stream",
     "text": [
      "Top ten sectors by direct perspective impact for indicator Human Health Cancer and Noncancer using demand vector 2007_ga_production, with 4 additional indicator results presented.\n"
     ]
    },
    {
     "data": {
      "text/plain": [
       "484000/truck transport/us-ga                                                                       33.170455\n",
       "211000/unrefined oil and gas/rous                                                                  32.007642\n",
       "48a000/scenic and sightseeing transportation and support activities for transportation/us-ga       20.745588\n",
       "484000/truck transport/rous                                                                        12.233495\n",
       "111900/tobacco, cotton, sugarcane, peanuts, sugar beets, herbs and spices, and other crops/rous     8.926833\n",
       "486000/pipeline transport/rous                                                                      8.189080\n",
       "1111b0/fresh wheat, corn, rice, and other grains/rous                                               5.656902\n",
       "221100/electricity/us-ga                                                                            5.366512\n",
       "322110/wood pulp/rous                                                                               5.179001\n",
       "233411/single-family residential structures/us-ga                                                   4.131404\n",
       "Name: HTOX, dtype: float64"
      ]
     },
     "execution_count": 56,
     "metadata": {},
     "output_type": "execute_result"
    }
   ],
   "source": [
    "#SECTORS IN ROWS. \n",
    "#Use this same demand for a model calculation. Use the direct perspective calculation. \n",
    "#Show a transposed view with indicators in the columns and sectors in the rows\n",
    "data_to_post = {\"perspective\": \"direct\"}\n",
    "data_to_post[\"demand\"] = y0\n",
    "result1_response = r.post(base_url+model_name+'/calculate',headers=api_headers,json=data_to_post)\n",
    "result1 = result1_response.json()\n",
    "result1_df = pd.DataFrame(data=result1['data'],columns=result1['sectors'],index=result1['indicators']).transpose()\n",
    "result1_df = result1_df.sort_values(by=HTOX_indictr_id,ascending=False)\n",
    "print('Top ten sectors by direct perspective impact for indicator '+ model_indictrs_names[11] + ' using demand vector ' +  first_demand_id + ', with 4 additional indicator results presented.')\n",
    "result1_df[model_indictrs_ids[11]].head(10)"
   ]
  },
  {
   "cell_type": "code",
   "execution_count": null,
   "metadata": {},
   "outputs": [],
   "source": []
  },
  {
   "cell_type": "code",
   "execution_count": null,
   "metadata": {},
   "outputs": [],
   "source": []
  }
 ],
 "metadata": {
  "kernelspec": {
   "display_name": "Python 3",
   "language": "python",
   "name": "python3"
  },
  "language_info": {
   "codemirror_mode": {
    "name": "ipython",
    "version": 3
   },
   "file_extension": ".py",
   "mimetype": "text/x-python",
   "name": "python",
   "nbconvert_exporter": "python",
   "pygments_lexer": "ipython3",
   "version": "3.7.4"
  }
 },
 "nbformat": 4,
 "nbformat_minor": 4
}
