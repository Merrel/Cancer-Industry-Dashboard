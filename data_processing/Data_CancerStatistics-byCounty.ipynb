{
 "cells": [
  {
   "cell_type": "markdown",
   "metadata": {},
   "source": [
    "### NOTE: This is maintained for example purpose.  'Real' query process has been moved to 'cancer_data_query.py'"
   ]
  },
  {
   "cell_type": "code",
   "execution_count": 1,
   "metadata": {},
   "outputs": [],
   "source": [
    "import os\n",
    "import re\n",
    "import pathlib\n",
    "import requests\n",
    "import pandas as pd\n",
    "pd.options.display.max_columns=999\n",
    "\n",
    "from tqdm import tqdm, tqdm_notebook\n",
    "\n",
    "from functools import partial\n",
    "\n",
    "from cancer_data_query import CancerDataQuery, query_state_data"
   ]
  },
  {
   "cell_type": "code",
   "execution_count": 2,
   "metadata": {},
   "outputs": [],
   "source": [
    "# Define the data paths\n",
    "project_dir = pathlib.Path.cwd().parent.parent\n",
    "repo_dir = pathlib.Path.cwd().parent\n",
    "raw_data_dir = repo_dir / 'data_raw'"
   ]
  },
  {
   "cell_type": "code",
   "execution_count": 3,
   "metadata": {},
   "outputs": [
    {
     "data": {
      "text/plain": [
       "PosixPath('/Users/merrelbook/Projects/HealthDataVizGA/DataVisualAnalytics_Industries-cancer/data_raw')"
      ]
     },
     "execution_count": 3,
     "metadata": {},
     "output_type": "execute_result"
    }
   ],
   "source": [
    "raw_data_dir"
   ]
  },
  {
   "cell_type": "code",
   "execution_count": 4,
   "metadata": {},
   "outputs": [],
   "source": [
    "with open(raw_data_dir / 'county_cancer_stats' / 'states.txt') as f:\n",
    "    states_str = f.read()\n",
    "    states_list = states_str.split(', ')\n",
    "    \n",
    "# Convert to lower case\n",
    "states_list = [str.lower(state) for state in states_list]\n",
    "states_list = [s.replace(' ', '') for s in states_list]"
   ]
  },
  {
   "cell_type": "code",
   "execution_count": 5,
   "metadata": {},
   "outputs": [
    {
     "data": {
      "text/plain": [
       "'southdakota'"
      ]
     },
     "execution_count": 5,
     "metadata": {},
     "output_type": "execute_result"
    }
   ],
   "source": [
    "states_list[40]"
   ]
  },
  {
   "cell_type": "code",
   "execution_count": 6,
   "metadata": {},
   "outputs": [],
   "source": [
    "# cdq = CancerDataQuery(states_list[0])"
   ]
  },
  {
   "cell_type": "code",
   "execution_count": 7,
   "metadata": {},
   "outputs": [],
   "source": [
    "# cdq.download_cancer_data('demographics')"
   ]
  },
  {
   "cell_type": "code",
   "execution_count": 8,
   "metadata": {},
   "outputs": [],
   "source": [
    "#\n",
    "# THE FOLLOWING IS NOW MULTITHREADED IN cancer_data_query.py\n",
    "#\n",
    "\n",
    "# for state in states_list[0:5]:\n",
    "#     cdq = CancerDataQuery(state, data_dir=raw_data_dir)\n",
    "#     for data_type in cdq.data_types:\n",
    "#         cdq.download_cancer_data(data_type)"
   ]
  },
  {
   "cell_type": "code",
   "execution_count": 9,
   "metadata": {},
   "outputs": [],
   "source": [
    "# cdq.data_keys"
   ]
  },
  {
   "cell_type": "code",
   "execution_count": 10,
   "metadata": {},
   "outputs": [],
   "source": [
    "# url = \"https://www.statecancerprofiles.cancer.gov/quick-profiles/index.php?statename=georgia\"\n",
    "# url = \"https://www.statecancerprofiles.cancer.gov/quick-profiles/index.php?stateFIPS=13\"\n",
    "\n",
    "url = \"https://www.statecancerprofiles.cancer.gov/quick-profiles/index.php?statename=\" + states_list[0]\n",
    "\n",
    "\n",
    "headers = {\n",
    "    'User-Agent': 'Mozilla/5.0 (Windows NT 6.1; WOW64) AppleWebKit/537.36 (KHTML, like Gecko) Chrome/46.0.2490.80 Safari/537.36',\n",
    "    'Content-Type': 'text/html',\n",
    "}\n",
    "\n",
    "response = requests.get(url, headers=headers)\n",
    "html = response.text"
   ]
  },
  {
   "cell_type": "code",
   "execution_count": 11,
   "metadata": {},
   "outputs": [],
   "source": [
    "###\n",
    "# GET ALL TABLES\n",
    "regex = 'class=\"icn icn-table\" href=\"(.*?)\"'\n",
    "url_all = re.findall(regex, html)"
   ]
  },
  {
   "cell_type": "code",
   "execution_count": 12,
   "metadata": {},
   "outputs": [
    {
     "data": {
      "text/plain": [
       "['prevalence', 'incidencerates', 'demographics', 'risk', 'deathrates']"
      ]
     },
     "execution_count": 12,
     "metadata": {},
     "output_type": "execute_result"
    }
   ],
   "source": [
    "###############\n",
    "# GET icn-table\n",
    "\n",
    "# Pull Unique DataSet Types\n",
    "data_types = list(set([u.split('/')[1] for u in url_all]))\n",
    "url_by_type = {datatype: [u for u in url_all if datatype in u] for datatype in data_types}\n",
    "\n",
    "data_types"
   ]
  },
  {
   "cell_type": "code",
   "execution_count": 13,
   "metadata": {},
   "outputs": [
    {
     "data": {
      "text/plain": [
       "['/demographics/index.php?stateFIPS=01&areatype=county&topic=crowd&demo=00027&race=00&sex=0&age=001&type=manyareacensus#results',\n",
       " '/demographics/index.php?stateFIPS=01&areatype=county&topic=ed&demo=00004&race=00&sex=0&age=081&type=manyareacensus#results',\n",
       " '/demographics/index.php?stateFIPS=01&areatype=county&topic=ed&demo=00005&race=00&sex=0&age=081&type=manyareacensus#results',\n",
       " '/demographics/index.php?stateFIPS=01&areatype=county&topic=ed&demo=00006&race=00&sex=0&age=081&type=manyareacensus#results',\n",
       " '/demographics/index.php?stateFIPS=01&areatype=county&topic=inc&demo=00010&race=00&sex=0&age=001&type=manyareacensus#results']"
      ]
     },
     "execution_count": 13,
     "metadata": {},
     "output_type": "execute_result"
    }
   ],
   "source": [
    "url_by_type['demographics'][0:5]"
   ]
  },
  {
   "cell_type": "code",
   "execution_count": 14,
   "metadata": {},
   "outputs": [],
   "source": [
    "### OLD URL SPLITTING APPROACH\n",
    "\n",
    "# url_deathrates = [u for u in url_all if 'deathrates' in u]\n",
    "# url_risk = [u for u in url_all if 'risk' in u]\n",
    "# url_prevalence = [u for u in url_all if 'prevalence' in u]\n",
    "# url_demographics = [u for u in url_all if 'demographics' in u]\n",
    "# url_incidencerates = [u for u in url_all if 'incidencerates' in u]\n",
    "\n",
    "# for url in url_deathrates[:5]:\n",
    "#     details = url.split('?')[1].split('&')\n",
    "#     details = [d.split('#results')[0] for d in details]\n",
    "#     print(details)\n",
    "\n",
    "# for url in url_prevalence:\n",
    "#     details = url.split('?')[1].split('&')\n",
    "#     details = [d.split('#results')[0] for d in details]\n",
    "#     print(details)"
   ]
  },
  {
   "cell_type": "code",
   "execution_count": 15,
   "metadata": {},
   "outputs": [],
   "source": [
    "# raw_data_dir = pathlib.Path('/Users/merrelbook/Projects/HealthDataVizGA/raw_data/CDC_CancerIncidence-GAbyCounty')\n",
    "\n",
    "# base_url = 'https://www.statecancerprofiles.cancer.gov'\n",
    "\n",
    "# dl_text = '&sortVariableName=rate&sortOrder=desc&output=1'\n",
    "# dl_url = base_url + url_incidencerates[0].replace('#results', dl_text)\n",
    "# dl_url"
   ]
  },
  {
   "cell_type": "code",
   "execution_count": 16,
   "metadata": {},
   "outputs": [],
   "source": [
    "# download_cancer_data('demographics', url_by_type)"
   ]
  },
  {
   "cell_type": "code",
   "execution_count": 17,
   "metadata": {},
   "outputs": [],
   "source": [
    "# d.split['='][0]: d.split['='][1]"
   ]
  },
  {
   "cell_type": "markdown",
   "metadata": {},
   "source": [
    "---\n",
    "## Cleaning per data type"
   ]
  },
  {
   "cell_type": "code",
   "execution_count": 18,
   "metadata": {},
   "outputs": [],
   "source": [
    "def make_meta_df(idx_max, subset_key):\n",
    "    for idx in range(idx_max):\n",
    "        df = pd.DataFrame(subset_key).transpose()\n",
    "        df.index = [idx]\n",
    "        yield df\n",
    "\n",
    "\n",
    "def skip_to(fle, starters,**kwargs):\n",
    "    '''Source: https://stackoverflow.com/questions/34028511/skipping-unknown-number-of-lines-to-read-the-header-python-pandas'''\n",
    "    if os.stat(fle).st_size == 0:\n",
    "        raise ValueError(\"File is empty\")\n",
    "    with open(fle, errors='replace') as f:\n",
    "        pos = 0\n",
    "        cur_line = f.readline()\n",
    "        \n",
    "        while not any([cur_line.startswith(s) for s in starters]):\n",
    "            pos = f.tell()\n",
    "            cur_line = f.readline()\n",
    "        f.seek(pos)\n",
    "\n",
    "        df = pd.read_csv(f, **kwargs)\n",
    "        return df\n",
    "\n",
    "\n",
    "def gen_subsets(df_key, raw_data_dir, cols_to_clean=None):\n",
    "    for idx, subset_key in tqdm(df_key.iterrows(), total=len(df_key)):\n",
    "        \n",
    "        # df_subset = pd.read_csv(raw_data_dir / subset_key.file_name, header=9, encoding = \"ISO-8859-1\").dropna()\n",
    "    \n",
    "        try:\n",
    "            df_subset = skip_to(raw_data_dir / subset_key.file_name, ['County', 'Parish', 'Borough'])\n",
    "\n",
    "            df_subset.columns = [c.strip().lower() for c in df_subset.columns]\n",
    "            df_subset = df_subset.dropna(subset=['fips'])\n",
    "\n",
    "            # Join with metadata\n",
    "            df_subset = df_subset.join(\n",
    "                pd.concat(make_meta_df(len(df_subset), subset_key))\n",
    "            )\n",
    "\n",
    "            # Rename the columns\n",
    "            if cols_to_clean is not None:\n",
    "                try:\n",
    "                    df_subset.columns = cols_to_clean\n",
    "                except ValueError:\n",
    "                    print(subset_key.file_name)\n",
    "                    print('---')\n",
    "                    print(df_subset.columns)\n",
    "                    print('---')\n",
    "\n",
    "            yield df_subset\n",
    "            \n",
    "        except:\n",
    "            continue"
   ]
  },
  {
   "cell_type": "code",
   "execution_count": 23,
   "metadata": {},
   "outputs": [],
   "source": [
    "state = states_list[9]"
   ]
  },
  {
   "cell_type": "markdown",
   "metadata": {},
   "source": [
    "---\n",
    "### Process Death Rate Data\n",
    "\n",
    "Processing Steps\n",
    "1. Load Each Pre-downloaded data\n",
    "2. Clean (rename) columns\n",
    "3. Join metadata to each row of subset\n",
    "4. Combine datasets\n",
    "5. Drow all rows with NaN\n",
    "6. Change areatype for state and country entries"
   ]
  },
  {
   "cell_type": "code",
   "execution_count": 24,
   "metadata": {},
   "outputs": [
    {
     "data": {
      "text/plain": [
       "True"
      ]
     },
     "execution_count": 24,
     "metadata": {},
     "output_type": "execute_result"
    }
   ],
   "source": [
    "cancer_data_dir = raw_data_dir / 'CDC_CancerByCounty'\n",
    "\n",
    "(cancer_data_dir/'ohio').exists()"
   ]
  },
  {
   "cell_type": "code",
   "execution_count": 114,
   "metadata": {},
   "outputs": [
    {
     "data": {
      "text/html": [
       "<div>\n",
       "<style scoped>\n",
       "    .dataframe tbody tr th:only-of-type {\n",
       "        vertical-align: middle;\n",
       "    }\n",
       "\n",
       "    .dataframe tbody tr th {\n",
       "        vertical-align: top;\n",
       "    }\n",
       "\n",
       "    .dataframe thead th {\n",
       "        text-align: right;\n",
       "    }\n",
       "</style>\n",
       "<table border=\"1\" class=\"dataframe\">\n",
       "  <thead>\n",
       "    <tr style=\"text-align: right;\">\n",
       "      <th></th>\n",
       "      <th>age</th>\n",
       "      <th>areatype</th>\n",
       "      <th>cancer</th>\n",
       "      <th>file_name</th>\n",
       "      <th>race</th>\n",
       "      <th>sex</th>\n",
       "      <th>source_url</th>\n",
       "      <th>stateFIPS</th>\n",
       "      <th>type</th>\n",
       "    </tr>\n",
       "  </thead>\n",
       "  <tbody>\n",
       "    <tr>\n",
       "      <th>38</th>\n",
       "      <td>1</td>\n",
       "      <td>county</td>\n",
       "      <td>1</td>\n",
       "      <td>deathrates_038.csv</td>\n",
       "      <td>0</td>\n",
       "      <td>0</td>\n",
       "      <td>https://www.statecancerprofiles.cancer.gov/dea...</td>\n",
       "      <td>56</td>\n",
       "      <td>death</td>\n",
       "    </tr>\n",
       "  </tbody>\n",
       "</table>\n",
       "</div>"
      ],
      "text/plain": [
       "    age areatype  cancer           file_name  race  sex  \\\n",
       "38    1   county       1  deathrates_038.csv     0    0   \n",
       "\n",
       "                                           source_url  stateFIPS   type  \n",
       "38  https://www.statecancerprofiles.cancer.gov/dea...         56  death  "
      ]
     },
     "execution_count": 114,
     "metadata": {},
     "output_type": "execute_result"
    }
   ],
   "source": [
    "subset_key_dict = {\n",
    "    'cancer_by_type': range(0,22),\n",
    "    'cancer_by_race': range(22,30),\n",
    "    'cancer_by_sex': range(30,33),\n",
    "    'cancer_by_age': range(33,38),\n",
    "    'cancer_all': range(38,49),\n",
    "}\n",
    "\n",
    "\n",
    "data_type = 'deathrates'\n",
    "\n",
    "# Set the data path\n",
    "cancer_data_dir = raw_data_dir / 'CDC_CancerByCounty'\n",
    "this_data_dir = cancer_data_dir / state / data_type\n",
    "\n",
    "# Load the data key\n",
    "df_key = pd.read_csv(this_data_dir / 'DATA_KEY.csv')\n",
    "# df_key\n",
    "\n",
    "subset_range = subset_key_dict['cancer_all']\n",
    "df_key[df_key.index.isin(subset_range)]"
   ]
  },
  {
   "cell_type": "code",
   "execution_count": null,
   "metadata": {},
   "outputs": [],
   "source": []
  },
  {
   "cell_type": "code",
   "execution_count": 116,
   "metadata": {},
   "outputs": [],
   "source": [
    "def process_deathrates_raw(state):\n",
    "    \n",
    "    subset_key_dict = {\n",
    "    'cancer_by_type': range(0,22),\n",
    "    'cancer_by_race': range(22,30),\n",
    "    'cancer_by_sex': range(30,33),\n",
    "    'cancer_by_age': range(33,38),\n",
    "    'cancer_all': range(38,49),\n",
    "    }\n",
    "        \n",
    "    data_type = 'deathrates'\n",
    "\n",
    "    # Set the data path\n",
    "    cancer_data_dir = raw_data_dir / 'CDC_CancerByCounty'\n",
    "    this_data_dir = cancer_data_dir / state / data_type\n",
    "\n",
    "    # Load the data key\n",
    "    df_key = pd.read_csv(this_data_dir / 'DATA_KEY.csv')\n",
    "\n",
    "    for subset_name, subset_range in subset_key_dict.items():\n",
    "        \n",
    "        print(f'Processing data for:\\t{subset_name}')\n",
    "        \n",
    "        subset_key = df_key[df_key.index.isin(subset_range)]\n",
    "    \n",
    "        # Load and clean/rename columns\n",
    "        cols_to_clean= ['locale', 'fips', 'met_health_obj', \n",
    "                    'deathrate_per_100000', 'deathrate_lower_95_confidence', 'deathrate_upper_95_confidence',\n",
    "                    'annual_count_avg', 'recent_trend_str',\n",
    "                    'trend_last_5', 'trend_last_5_lower_95_confidence', 'trend_last_5_upper_95_confidence',\n",
    "                    'stateFIPS', 'areatype', 'cancer', 'race', 'sex', 'age', 'type','file_name', 'source_url']\n",
    "\n",
    "        df = pd.concat(\n",
    "            gen_subsets(subset_key, this_data_dir, cols_to_clean)\n",
    "        )\n",
    "\n",
    "        # Change areatype for state and country entries\n",
    "        df.loc[df.locale == str.title(state), 'areatype'] = \"state\"\n",
    "        df.loc[df.locale == 'United States', 'areatype'] = \"country\"\n",
    "\n",
    "        # Save out the cleaned and joined dataset\n",
    "        df.to_csv(this_data_dir / f'{subset_name}-deathrates.csv',\n",
    "                  index=False\n",
    "                 )\n",
    "\n",
    "        print(f'Data Joined and cleaned for data type {data_type} in {state}')"
   ]
  },
  {
   "cell_type": "code",
   "execution_count": 117,
   "metadata": {},
   "outputs": [
    {
     "name": "stderr",
     "output_type": "stream",
     "text": [
      "  5%|▍         | 1/22 [00:00<00:02,  8.30it/s]"
     ]
    },
    {
     "name": "stdout",
     "output_type": "stream",
     "text": [
      "Processing data for:\tcancer_by_type\n"
     ]
    },
    {
     "name": "stderr",
     "output_type": "stream",
     "text": [
      "100%|██████████| 22/22 [00:02<00:00,  8.26it/s]\n",
      " 12%|█▎        | 1/8 [00:00<00:00,  8.50it/s]"
     ]
    },
    {
     "name": "stdout",
     "output_type": "stream",
     "text": [
      "Data Joined and cleaned for data type deathrates in alabama\n",
      "Processing data for:\tcancer_by_race\n"
     ]
    },
    {
     "name": "stderr",
     "output_type": "stream",
     "text": [
      "100%|██████████| 8/8 [00:00<00:00,  8.13it/s]\n",
      " 33%|███▎      | 1/3 [00:00<00:00,  8.30it/s]"
     ]
    },
    {
     "name": "stdout",
     "output_type": "stream",
     "text": [
      "Data Joined and cleaned for data type deathrates in alabama\n",
      "Processing data for:\tcancer_by_sex\n"
     ]
    },
    {
     "name": "stderr",
     "output_type": "stream",
     "text": [
      "100%|██████████| 3/3 [00:00<00:00,  8.22it/s]\n",
      " 20%|██        | 1/5 [00:00<00:00,  7.93it/s]"
     ]
    },
    {
     "name": "stdout",
     "output_type": "stream",
     "text": [
      "Data Joined and cleaned for data type deathrates in alabama\n",
      "Processing data for:\tcancer_by_age\n"
     ]
    },
    {
     "name": "stderr",
     "output_type": "stream",
     "text": [
      "100%|██████████| 5/5 [00:00<00:00,  8.01it/s]\n",
      "100%|██████████| 1/1 [00:00<00:00,  8.17it/s]\n",
      "  0%|          | 0/22 [00:00<?, ?it/s]"
     ]
    },
    {
     "name": "stdout",
     "output_type": "stream",
     "text": [
      "Data Joined and cleaned for data type deathrates in alabama\n",
      "Processing data for:\tcancer_all\n",
      "Data Joined and cleaned for data type deathrates in alabama\n",
      "Processing data for:\tcancer_by_type\n"
     ]
    },
    {
     "name": "stderr",
     "output_type": "stream",
     "text": [
      "100%|██████████| 22/22 [00:01<00:00, 17.43it/s]\n",
      " 25%|██▌       | 2/8 [00:00<00:00, 17.20it/s]"
     ]
    },
    {
     "name": "stdout",
     "output_type": "stream",
     "text": [
      "Data Joined and cleaned for data type deathrates in alaska\n",
      "Processing data for:\tcancer_by_race\n"
     ]
    },
    {
     "name": "stderr",
     "output_type": "stream",
     "text": [
      "100%|██████████| 8/8 [00:00<00:00, 17.07it/s]\n",
      "100%|██████████| 3/3 [00:00<00:00, 17.71it/s]\n",
      "  0%|          | 0/5 [00:00<?, ?it/s]"
     ]
    },
    {
     "name": "stdout",
     "output_type": "stream",
     "text": [
      "Data Joined and cleaned for data type deathrates in alaska\n",
      "Processing data for:\tcancer_by_sex\n",
      "Data Joined and cleaned for data type deathrates in alaska\n",
      "Processing data for:\tcancer_by_age\n"
     ]
    },
    {
     "name": "stderr",
     "output_type": "stream",
     "text": [
      "100%|██████████| 5/5 [00:00<00:00, 17.83it/s]\n",
      "100%|██████████| 1/1 [00:00<00:00, 17.45it/s]\n",
      " 14%|█▎        | 3/22 [00:00<00:00, 28.63it/s]"
     ]
    },
    {
     "name": "stdout",
     "output_type": "stream",
     "text": [
      "Data Joined and cleaned for data type deathrates in alaska\n",
      "Processing data for:\tcancer_all\n",
      "Data Joined and cleaned for data type deathrates in alaska\n",
      "Processing data for:\tcancer_by_type\n"
     ]
    },
    {
     "name": "stderr",
     "output_type": "stream",
     "text": [
      "100%|██████████| 22/22 [00:00<00:00, 27.39it/s]\n",
      " 38%|███▊      | 3/8 [00:00<00:00, 27.49it/s]"
     ]
    },
    {
     "name": "stdout",
     "output_type": "stream",
     "text": [
      "Data Joined and cleaned for data type deathrates in arizona\n",
      "Processing data for:\tcancer_by_race\n"
     ]
    },
    {
     "name": "stderr",
     "output_type": "stream",
     "text": [
      "100%|██████████| 8/8 [00:00<00:00, 28.12it/s]\n",
      "100%|██████████| 3/3 [00:00<00:00, 27.99it/s]\n",
      "  0%|          | 0/5 [00:00<?, ?it/s]"
     ]
    },
    {
     "name": "stdout",
     "output_type": "stream",
     "text": [
      "Data Joined and cleaned for data type deathrates in arizona\n",
      "Processing data for:\tcancer_by_sex\n",
      "Data Joined and cleaned for data type deathrates in arizona\n",
      "Processing data for:\tcancer_by_age\n"
     ]
    },
    {
     "name": "stderr",
     "output_type": "stream",
     "text": [
      "100%|██████████| 5/5 [00:00<00:00, 26.56it/s]\n",
      "100%|██████████| 1/1 [00:00<00:00, 25.39it/s]"
     ]
    },
    {
     "name": "stdout",
     "output_type": "stream",
     "text": [
      "Data Joined and cleaned for data type deathrates in arizona\n",
      "Processing data for:\tcancer_all\n",
      "Data Joined and cleaned for data type deathrates in arizona\n"
     ]
    },
    {
     "name": "stderr",
     "output_type": "stream",
     "text": [
      "\n"
     ]
    }
   ],
   "source": [
    "for state in states_list[0:3]:\n",
    "    process_deathrates_raw(state)"
   ]
  },
  {
   "cell_type": "markdown",
   "metadata": {},
   "source": [
    "---\n",
    "### Process Incidence Data\n",
    "\n",
    "Processing Steps\n",
    "1. Load Each Pre-downloaded data\n",
    "2. Drop Duplicates from DATA KEY\n",
    "3. Split data key to process ALL STAGE and LATE STAGE data sets separately (different column names)\n",
    "4. Drow all rows with NaN\n",
    "5. Clean (rename) columns\n",
    "6. Join metadata to each row of subset\n",
    "7. Combine data subsets\n",
    "8. Re-join ALL STAGE and LATE STAGE data sets"
   ]
  },
  {
   "cell_type": "code",
   "execution_count": 66,
   "metadata": {},
   "outputs": [],
   "source": [
    "#\n",
    "# PROCESS INCIDENCE RATE DATA\n",
    "#\n",
    "\n",
    "subset_key_dict = {\n",
    "    'cancer_by_type': range(0,23),\n",
    "    'cancer_by_race': range(23,31),\n",
    "    'cancer_by_sex': range(31,34),\n",
    "    'cancer_by_age': range(34,39),\n",
    "    'cancer_all': range(39,40),\n",
    "    'cancer_latestage_by_type': range(40,59),\n",
    "}\n",
    "\n",
    "def process_incidencerates_raw(state):\n",
    "    \n",
    "    data_type = 'incidencerates'\n",
    "\n",
    "    # Set the data path\n",
    "    cancer_data_dir = raw_data_dir / 'CDC_CancerByCounty'\n",
    "    this_data_dir = cancer_data_dir / state / data_type\n",
    "\n",
    "    # Load the data key\n",
    "    df_key = pd.read_csv(this_data_dir / 'DATA_KEY.csv')\n",
    "    \n",
    "    for subset_name, subset_range in subset_key_dict.items():\n",
    "        \n",
    "        print(f'Processing data for:\\t{subset_name}')\n",
    "        \n",
    "        subset_key = df_key[df_key.index.isin(subset_range)]\n",
    "\n",
    "        # Drop all the duplicates from data key\n",
    "        subset_key = subset_key.drop_duplicates(\n",
    "            subset=[c for c in df_key.columns if 'file_name' not in c]\n",
    "            # Ignore the file_name column for deduplication\n",
    "        )\n",
    "\n",
    "       \n",
    "        if subset_name != 'cancer_latestage_by_type':\n",
    "        #\n",
    "        # ALL STAGE DATA  -  Must split 'all stage' and 'late stage' data sets due to difference in columns\n",
    "        #\n",
    "\n",
    "            # Load and clean/rename columns\n",
    "            cols_to_clean= ['locale', 'fips', 'met_health_obj', \n",
    "                        'incidence rate_per_100000', 'incidence rate_lower_95_confidence', 'incidence rate_upper_95_confidence',\n",
    "                        'annual_count_avg', 'recent_trend_str',\n",
    "                        'trend_last_5', 'trend_last_5_lower_95_confidence', 'trend_last_5_upper_95_confidence',\n",
    "                        'age', 'areatype', 'cancer', 'file_name', 'race', 'sex', 'source_url', \n",
    "                        'stage', 'stateFIPS', 'type']\n",
    "\n",
    "        else:\n",
    "        #\n",
    "        # LATE STAGE DATA\n",
    "        #\n",
    "\n",
    "            # Load and clean/rename columns\n",
    "            cols_to_clean= ['locale', 'fips', 'met_health_obj', \n",
    "                        'incidence rate_per_100000', 'incidence rate_lower_95_confidence', 'incidence rate_upper_95_confidence',\n",
    "                        'annual_count_avg', 'late_stage_%',\n",
    "                        'age', 'areatype', 'cancer', 'file_name', 'race', 'sex', 'source_url', \n",
    "                        'stage', 'stateFIPS', 'type']\n",
    "\n",
    "            \n",
    "        df = pd.concat(\n",
    "            gen_subsets(subset_key, this_data_dir, cols_to_clean=cols_to_clean),\n",
    "            sort=False\n",
    "        )\n",
    "\n",
    "\n",
    "        # Relabel state and US level data\n",
    "        df.loc[df.locale.str.contains(str.title(state)), 'areatype'] = \"state\"\n",
    "        df.loc[df.locale == 'US (SEER+NPCR)(1,10)', 'areatype'] = \"country\"\n",
    "\n",
    "        # Save out the cleaned and joined dataset\n",
    "        df.to_csv(this_data_dir / f'{subset_name}-incidencerates.csv',\n",
    "                  index=False\n",
    "                 )"
   ]
  },
  {
   "cell_type": "code",
   "execution_count": 64,
   "metadata": {},
   "outputs": [],
   "source": [
    "# process_incidencerates_raw('alabama')"
   ]
  },
  {
   "cell_type": "code",
   "execution_count": 65,
   "metadata": {},
   "outputs": [
    {
     "name": "stderr",
     "output_type": "stream",
     "text": [
      "  4%|▍         | 1/23 [00:00<00:02,  7.94it/s]"
     ]
    },
    {
     "name": "stdout",
     "output_type": "stream",
     "text": [
      "Processing data for:\tcancer_by_type\n"
     ]
    },
    {
     "name": "stderr",
     "output_type": "stream",
     "text": [
      "100%|██████████| 23/23 [00:02<00:00,  8.01it/s]\n",
      " 12%|█▎        | 1/8 [00:00<00:00,  8.52it/s]"
     ]
    },
    {
     "name": "stdout",
     "output_type": "stream",
     "text": [
      "Processing data for:\tcancer_by_race\n"
     ]
    },
    {
     "name": "stderr",
     "output_type": "stream",
     "text": [
      "100%|██████████| 8/8 [00:00<00:00, 10.86it/s]\n",
      " 33%|███▎      | 1/3 [00:00<00:00,  7.98it/s]"
     ]
    },
    {
     "name": "stdout",
     "output_type": "stream",
     "text": [
      "Processing data for:\tcancer_by_sex\n"
     ]
    },
    {
     "name": "stderr",
     "output_type": "stream",
     "text": [
      "100%|██████████| 3/3 [00:00<00:00,  8.01it/s]\n",
      " 20%|██        | 1/5 [00:00<00:00,  8.19it/s]"
     ]
    },
    {
     "name": "stdout",
     "output_type": "stream",
     "text": [
      "Processing data for:\tcancer_by_age\n"
     ]
    },
    {
     "name": "stderr",
     "output_type": "stream",
     "text": [
      "100%|██████████| 5/5 [00:00<00:00,  7.92it/s]\n",
      "100%|██████████| 1/1 [00:00<00:00,  8.16it/s]\n",
      "  0%|          | 0/19 [00:00<?, ?it/s]"
     ]
    },
    {
     "name": "stdout",
     "output_type": "stream",
     "text": [
      "Processing data for:\tcancer_all\n",
      "Processing data for:\tcancer_latestage_by_type\n"
     ]
    },
    {
     "name": "stderr",
     "output_type": "stream",
     "text": [
      "100%|██████████| 19/19 [00:02<00:00,  8.23it/s]\n",
      "  4%|▍         | 1/23 [00:00<00:03,  5.90it/s]"
     ]
    },
    {
     "name": "stdout",
     "output_type": "stream",
     "text": [
      "Processing data for:\tcancer_by_type\n"
     ]
    },
    {
     "name": "stderr",
     "output_type": "stream",
     "text": [
      "100%|██████████| 23/23 [00:03<00:00,  5.79it/s]\n",
      " 12%|█▎        | 1/8 [00:00<00:01,  5.83it/s]"
     ]
    },
    {
     "name": "stdout",
     "output_type": "stream",
     "text": [
      "Processing data for:\tcancer_by_race\n"
     ]
    },
    {
     "name": "stderr",
     "output_type": "stream",
     "text": [
      "100%|██████████| 8/8 [00:01<00:00,  5.70it/s]\n",
      " 33%|███▎      | 1/3 [00:00<00:00,  6.01it/s]"
     ]
    },
    {
     "name": "stdout",
     "output_type": "stream",
     "text": [
      "Processing data for:\tcancer_by_sex\n"
     ]
    },
    {
     "name": "stderr",
     "output_type": "stream",
     "text": [
      "100%|██████████| 3/3 [00:00<00:00,  5.94it/s]\n",
      " 20%|██        | 1/5 [00:00<00:00,  6.08it/s]"
     ]
    },
    {
     "name": "stdout",
     "output_type": "stream",
     "text": [
      "Processing data for:\tcancer_by_age\n"
     ]
    },
    {
     "name": "stderr",
     "output_type": "stream",
     "text": [
      "100%|██████████| 5/5 [00:00<00:00,  5.87it/s]\n",
      "100%|██████████| 1/1 [00:00<00:00,  5.93it/s]\n",
      "  0%|          | 0/19 [00:00<?, ?it/s]"
     ]
    },
    {
     "name": "stdout",
     "output_type": "stream",
     "text": [
      "Processing data for:\tcancer_all\n",
      "Processing data for:\tcancer_latestage_by_type\n"
     ]
    },
    {
     "name": "stderr",
     "output_type": "stream",
     "text": [
      "100%|██████████| 19/19 [00:03<00:00,  5.65it/s]\n",
      "  0%|          | 0/23 [00:00<?, ?it/s]"
     ]
    },
    {
     "name": "stdout",
     "output_type": "stream",
     "text": [
      "Processing data for:\tcancer_by_type\n"
     ]
    },
    {
     "name": "stderr",
     "output_type": "stream",
     "text": [
      "100%|██████████| 23/23 [00:10<00:00,  2.29it/s]\n",
      "  0%|          | 0/8 [00:00<?, ?it/s]"
     ]
    },
    {
     "name": "stdout",
     "output_type": "stream",
     "text": [
      "Processing data for:\tcancer_by_race\n"
     ]
    },
    {
     "name": "stderr",
     "output_type": "stream",
     "text": [
      "100%|██████████| 8/8 [00:03<00:00,  2.22it/s]\n",
      "  0%|          | 0/3 [00:00<?, ?it/s]"
     ]
    },
    {
     "name": "stdout",
     "output_type": "stream",
     "text": [
      "Processing data for:\tcancer_by_sex\n"
     ]
    },
    {
     "name": "stderr",
     "output_type": "stream",
     "text": [
      "100%|██████████| 3/3 [00:01<00:00,  2.18it/s]\n",
      "  0%|          | 0/5 [00:00<?, ?it/s]"
     ]
    },
    {
     "name": "stdout",
     "output_type": "stream",
     "text": [
      "Processing data for:\tcancer_by_age\n"
     ]
    },
    {
     "name": "stderr",
     "output_type": "stream",
     "text": [
      "100%|██████████| 5/5 [00:02<00:00,  2.18it/s]\n",
      "  0%|          | 0/1 [00:00<?, ?it/s]"
     ]
    },
    {
     "name": "stdout",
     "output_type": "stream",
     "text": [
      "Processing data for:\tcancer_all\n"
     ]
    },
    {
     "name": "stderr",
     "output_type": "stream",
     "text": [
      "100%|██████████| 1/1 [00:00<00:00,  2.14it/s]\n",
      "  0%|          | 0/19 [00:00<?, ?it/s]"
     ]
    },
    {
     "name": "stdout",
     "output_type": "stream",
     "text": [
      "Processing data for:\tcancer_latestage_by_type\n"
     ]
    },
    {
     "name": "stderr",
     "output_type": "stream",
     "text": [
      "100%|██████████| 19/19 [00:08<00:00,  2.19it/s]\n",
      "  9%|▊         | 2/23 [00:00<00:01, 16.70it/s]"
     ]
    },
    {
     "name": "stdout",
     "output_type": "stream",
     "text": [
      "Processing data for:\tcancer_by_type\n"
     ]
    },
    {
     "name": "stderr",
     "output_type": "stream",
     "text": [
      "100%|██████████| 23/23 [00:01<00:00, 16.40it/s]\n",
      " 25%|██▌       | 2/8 [00:00<00:00, 16.42it/s]"
     ]
    },
    {
     "name": "stdout",
     "output_type": "stream",
     "text": [
      "Processing data for:\tcancer_by_race\n"
     ]
    },
    {
     "name": "stderr",
     "output_type": "stream",
     "text": [
      "100%|██████████| 8/8 [00:00<00:00, 15.88it/s]\n",
      "100%|██████████| 3/3 [00:00<00:00, 16.85it/s]\n",
      "  0%|          | 0/5 [00:00<?, ?it/s]"
     ]
    },
    {
     "name": "stdout",
     "output_type": "stream",
     "text": [
      "Processing data for:\tcancer_by_sex\n",
      "Processing data for:\tcancer_by_age\n"
     ]
    },
    {
     "name": "stderr",
     "output_type": "stream",
     "text": [
      "100%|██████████| 5/5 [00:00<00:00, 16.31it/s]\n",
      "100%|██████████| 1/1 [00:00<00:00, 16.16it/s]\n",
      " 11%|█         | 2/19 [00:00<00:00, 17.92it/s]"
     ]
    },
    {
     "name": "stdout",
     "output_type": "stream",
     "text": [
      "Processing data for:\tcancer_all\n",
      "Processing data for:\tcancer_latestage_by_type\n"
     ]
    },
    {
     "name": "stderr",
     "output_type": "stream",
     "text": [
      "100%|██████████| 19/19 [00:01<00:00, 16.54it/s]\n",
      " 13%|█▎        | 3/23 [00:00<00:00, 26.70it/s]"
     ]
    },
    {
     "name": "stdout",
     "output_type": "stream",
     "text": [
      "Processing data for:\tcancer_by_type\n"
     ]
    },
    {
     "name": "stderr",
     "output_type": "stream",
     "text": [
      "100%|██████████| 23/23 [00:00<00:00, 27.55it/s]\n",
      " 38%|███▊      | 3/8 [00:00<00:00, 29.26it/s]"
     ]
    },
    {
     "name": "stdout",
     "output_type": "stream",
     "text": [
      "Processing data for:\tcancer_by_race\n"
     ]
    },
    {
     "name": "stderr",
     "output_type": "stream",
     "text": [
      "100%|██████████| 8/8 [00:00<00:00, 28.56it/s]\n",
      "100%|██████████| 3/3 [00:00<00:00, 29.22it/s]\n",
      "  0%|          | 0/5 [00:00<?, ?it/s]"
     ]
    },
    {
     "name": "stdout",
     "output_type": "stream",
     "text": [
      "Processing data for:\tcancer_by_sex\n",
      "Processing data for:\tcancer_by_age\n"
     ]
    },
    {
     "name": "stderr",
     "output_type": "stream",
     "text": [
      "100%|██████████| 5/5 [00:00<00:00, 27.30it/s]\n",
      "100%|██████████| 1/1 [00:00<00:00, 26.60it/s]\n",
      " 16%|█▌        | 3/19 [00:00<00:00, 29.26it/s]"
     ]
    },
    {
     "name": "stdout",
     "output_type": "stream",
     "text": [
      "Processing data for:\tcancer_all\n",
      "Processing data for:\tcancer_latestage_by_type\n"
     ]
    },
    {
     "name": "stderr",
     "output_type": "stream",
     "text": [
      "100%|██████████| 19/19 [00:00<00:00, 28.85it/s]\n",
      "  0%|          | 0/23 [00:00<?, ?it/s]"
     ]
    },
    {
     "name": "stdout",
     "output_type": "stream",
     "text": [
      "Processing data for:\tcancer_by_type\n"
     ]
    },
    {
     "name": "stderr",
     "output_type": "stream",
     "text": [
      "100%|██████████| 23/23 [00:05<00:00,  4.20it/s]\n",
      "  0%|          | 0/8 [00:00<?, ?it/s]"
     ]
    },
    {
     "name": "stdout",
     "output_type": "stream",
     "text": [
      "Processing data for:\tcancer_by_race\n"
     ]
    },
    {
     "name": "stderr",
     "output_type": "stream",
     "text": [
      "100%|██████████| 8/8 [00:01<00:00,  4.11it/s]\n",
      "  0%|          | 0/3 [00:00<?, ?it/s]"
     ]
    },
    {
     "name": "stdout",
     "output_type": "stream",
     "text": [
      "Processing data for:\tcancer_by_sex\n"
     ]
    },
    {
     "name": "stderr",
     "output_type": "stream",
     "text": [
      "100%|██████████| 3/3 [00:00<00:00,  4.25it/s]\n",
      "  0%|          | 0/5 [00:00<?, ?it/s]"
     ]
    },
    {
     "name": "stdout",
     "output_type": "stream",
     "text": [
      "Processing data for:\tcancer_by_age\n"
     ]
    },
    {
     "name": "stderr",
     "output_type": "stream",
     "text": [
      "100%|██████████| 5/5 [00:01<00:00,  4.20it/s]\n",
      "  0%|          | 0/1 [00:00<?, ?it/s]"
     ]
    },
    {
     "name": "stdout",
     "output_type": "stream",
     "text": [
      "Processing data for:\tcancer_all\n"
     ]
    },
    {
     "name": "stderr",
     "output_type": "stream",
     "text": [
      "100%|██████████| 1/1 [00:00<00:00,  4.12it/s]\n",
      "  0%|          | 0/19 [00:00<?, ?it/s]"
     ]
    },
    {
     "name": "stdout",
     "output_type": "stream",
     "text": [
      "Processing data for:\tcancer_latestage_by_type\n"
     ]
    },
    {
     "name": "stderr",
     "output_type": "stream",
     "text": [
      "100%|██████████| 19/19 [00:04<00:00,  4.13it/s]\n",
      "  9%|▊         | 2/23 [00:00<00:01, 12.51it/s]"
     ]
    },
    {
     "name": "stdout",
     "output_type": "stream",
     "text": [
      "Processing data for:\tcancer_by_type\n"
     ]
    },
    {
     "name": "stderr",
     "output_type": "stream",
     "text": [
      "100%|██████████| 23/23 [00:01<00:00, 12.88it/s]\n",
      " 25%|██▌       | 2/8 [00:00<00:00, 12.15it/s]"
     ]
    },
    {
     "name": "stdout",
     "output_type": "stream",
     "text": [
      "Processing data for:\tcancer_by_race\n"
     ]
    },
    {
     "name": "stderr",
     "output_type": "stream",
     "text": [
      "100%|██████████| 8/8 [00:00<00:00, 12.34it/s]\n",
      " 67%|██████▋   | 2/3 [00:00<00:00, 12.87it/s]"
     ]
    },
    {
     "name": "stdout",
     "output_type": "stream",
     "text": [
      "Processing data for:\tcancer_by_sex\n"
     ]
    },
    {
     "name": "stderr",
     "output_type": "stream",
     "text": [
      "100%|██████████| 3/3 [00:00<00:00, 12.47it/s]\n",
      " 40%|████      | 2/5 [00:00<00:00, 11.90it/s]"
     ]
    },
    {
     "name": "stdout",
     "output_type": "stream",
     "text": [
      "Processing data for:\tcancer_by_age\n"
     ]
    },
    {
     "name": "stderr",
     "output_type": "stream",
     "text": [
      "100%|██████████| 5/5 [00:00<00:00, 11.97it/s]\n",
      "100%|██████████| 1/1 [00:00<00:00, 12.50it/s]\n",
      "  0%|          | 0/19 [00:00<?, ?it/s]"
     ]
    },
    {
     "name": "stdout",
     "output_type": "stream",
     "text": [
      "Processing data for:\tcancer_all\n",
      "Processing data for:\tcancer_latestage_by_type\n"
     ]
    },
    {
     "name": "stderr",
     "output_type": "stream",
     "text": [
      "100%|██████████| 19/19 [00:01<00:00, 12.61it/s]\n",
      "  4%|▍         | 1/23 [00:00<00:02,  8.87it/s]"
     ]
    },
    {
     "name": "stdout",
     "output_type": "stream",
     "text": [
      "Processing data for:\tcancer_by_type\n"
     ]
    },
    {
     "name": "stderr",
     "output_type": "stream",
     "text": [
      "100%|██████████| 23/23 [00:02<00:00,  9.25it/s]\n",
      " 12%|█▎        | 1/8 [00:00<00:00,  7.83it/s]"
     ]
    },
    {
     "name": "stdout",
     "output_type": "stream",
     "text": [
      "Processing data for:\tcancer_by_race\n"
     ]
    },
    {
     "name": "stderr",
     "output_type": "stream",
     "text": [
      "100%|██████████| 8/8 [00:00<00:00,  8.81it/s]\n",
      " 33%|███▎      | 1/3 [00:00<00:00,  9.94it/s]"
     ]
    },
    {
     "name": "stdout",
     "output_type": "stream",
     "text": [
      "Processing data for:\tcancer_by_sex\n"
     ]
    },
    {
     "name": "stderr",
     "output_type": "stream",
     "text": [
      "100%|██████████| 3/3 [00:00<00:00,  9.53it/s]\n",
      " 20%|██        | 1/5 [00:00<00:00,  9.24it/s]"
     ]
    },
    {
     "name": "stdout",
     "output_type": "stream",
     "text": [
      "Processing data for:\tcancer_by_age\n"
     ]
    },
    {
     "name": "stderr",
     "output_type": "stream",
     "text": [
      "100%|██████████| 5/5 [00:00<00:00,  9.70it/s]\n",
      "100%|██████████| 1/1 [00:00<00:00,  9.27it/s]\n",
      "  0%|          | 0/19 [00:00<?, ?it/s]"
     ]
    },
    {
     "name": "stdout",
     "output_type": "stream",
     "text": [
      "Processing data for:\tcancer_all\n",
      "Processing data for:\tcancer_latestage_by_type\n"
     ]
    },
    {
     "name": "stderr",
     "output_type": "stream",
     "text": [
      "100%|██████████| 19/19 [00:01<00:00,  9.79it/s]\n",
      "  4%|▍         | 1/23 [00:00<00:02,  7.58it/s]"
     ]
    },
    {
     "name": "stdout",
     "output_type": "stream",
     "text": [
      "Processing data for:\tcancer_by_type\n"
     ]
    },
    {
     "name": "stderr",
     "output_type": "stream",
     "text": [
      "100%|██████████| 23/23 [00:03<00:00,  7.20it/s]\n",
      " 12%|█▎        | 1/8 [00:00<00:01,  6.94it/s]"
     ]
    },
    {
     "name": "stdout",
     "output_type": "stream",
     "text": [
      "Processing data for:\tcancer_by_race\n"
     ]
    },
    {
     "name": "stderr",
     "output_type": "stream",
     "text": [
      "100%|██████████| 8/8 [00:01<00:00,  6.78it/s]\n",
      " 33%|███▎      | 1/3 [00:00<00:00,  6.51it/s]"
     ]
    },
    {
     "name": "stdout",
     "output_type": "stream",
     "text": [
      "Processing data for:\tcancer_by_sex\n"
     ]
    },
    {
     "name": "stderr",
     "output_type": "stream",
     "text": [
      "100%|██████████| 3/3 [00:00<00:00,  6.74it/s]\n",
      " 20%|██        | 1/5 [00:00<00:00,  6.72it/s]"
     ]
    },
    {
     "name": "stdout",
     "output_type": "stream",
     "text": [
      "Processing data for:\tcancer_by_age\n"
     ]
    },
    {
     "name": "stderr",
     "output_type": "stream",
     "text": [
      "100%|██████████| 5/5 [00:00<00:00,  6.65it/s]\n",
      "100%|██████████| 1/1 [00:00<00:00,  6.46it/s]\n",
      "  0%|          | 0/19 [00:00<?, ?it/s]"
     ]
    },
    {
     "name": "stdout",
     "output_type": "stream",
     "text": [
      "Processing data for:\tcancer_all\n",
      "Processing data for:\tcancer_latestage_by_type\n"
     ]
    },
    {
     "name": "stderr",
     "output_type": "stream",
     "text": [
      "100%|██████████| 19/19 [00:02<00:00,  6.81it/s]\n",
      "  9%|▊         | 2/23 [00:00<00:01, 19.49it/s]"
     ]
    },
    {
     "name": "stdout",
     "output_type": "stream",
     "text": [
      "Processing data for:\tcancer_by_type\n"
     ]
    },
    {
     "name": "stderr",
     "output_type": "stream",
     "text": [
      "100%|██████████| 23/23 [00:01<00:00, 19.48it/s]\n",
      " 25%|██▌       | 2/8 [00:00<00:00, 19.54it/s]"
     ]
    },
    {
     "name": "stdout",
     "output_type": "stream",
     "text": [
      "Processing data for:\tcancer_by_race\n"
     ]
    },
    {
     "name": "stderr",
     "output_type": "stream",
     "text": [
      "100%|██████████| 8/8 [00:00<00:00, 19.98it/s]\n",
      "100%|██████████| 3/3 [00:00<00:00, 20.04it/s]\n",
      "  0%|          | 0/5 [00:00<?, ?it/s]"
     ]
    },
    {
     "name": "stdout",
     "output_type": "stream",
     "text": [
      "Processing data for:\tcancer_by_sex\n",
      "Processing data for:\tcancer_by_age\n"
     ]
    },
    {
     "name": "stderr",
     "output_type": "stream",
     "text": [
      "100%|██████████| 5/5 [00:00<00:00, 20.66it/s]\n",
      "100%|██████████| 1/1 [00:00<00:00, 19.03it/s]\n",
      " 11%|█         | 2/19 [00:00<00:00, 19.93it/s]"
     ]
    },
    {
     "name": "stdout",
     "output_type": "stream",
     "text": [
      "Processing data for:\tcancer_all\n",
      "Processing data for:\tcancer_latestage_by_type\n"
     ]
    },
    {
     "name": "stderr",
     "output_type": "stream",
     "text": [
      "100%|██████████| 19/19 [00:00<00:00, 20.30it/s]\n"
     ]
    }
   ],
   "source": [
    "for state in states_list[40:]:\n",
    "    process_incidencerates_raw(state)"
   ]
  },
  {
   "cell_type": "code",
   "execution_count": 108,
   "metadata": {},
   "outputs": [],
   "source": [
    "# ###################################\n",
    "# Queries to Split incidence datasets\n",
    "\n",
    "# # Split out the data by stage keys\n",
    "# df[~df.stage.isna()]\n",
    "\n",
    "# # Split out the data by age keys\n",
    "# criterion = ((df.age!=1) & (df.cancer==1))\n",
    "\n",
    "# # Split out the data by sex keys\n",
    "# criterion = ((df.sex!=0) & (df.cancer==1))\n",
    "\n",
    "# # Split out the data by race keys\n",
    "# criterion = ((df.race!=0))\n",
    "\n",
    "# # Split out the data by cancer keys\n",
    "# criterion = ((df.cancer!=1))\n",
    "\n",
    "# # All cancer, race, sex, age, stage\n",
    "# df_key_by_all = df_key"
   ]
  },
  {
   "cell_type": "code",
   "execution_count": 127,
   "metadata": {},
   "outputs": [
    {
     "data": {
      "text/html": [
       "<div>\n",
       "<style scoped>\n",
       "    .dataframe tbody tr th:only-of-type {\n",
       "        vertical-align: middle;\n",
       "    }\n",
       "\n",
       "    .dataframe tbody tr th {\n",
       "        vertical-align: top;\n",
       "    }\n",
       "\n",
       "    .dataframe thead th {\n",
       "        text-align: right;\n",
       "    }\n",
       "</style>\n",
       "<table border=\"1\" class=\"dataframe\">\n",
       "  <thead>\n",
       "    <tr style=\"text-align: right;\">\n",
       "      <th></th>\n",
       "      <th>age</th>\n",
       "      <th>areatype</th>\n",
       "      <th>demo</th>\n",
       "      <th>file_name</th>\n",
       "      <th>race</th>\n",
       "      <th>sex</th>\n",
       "      <th>source_url</th>\n",
       "      <th>stateFIPS</th>\n",
       "      <th>topic</th>\n",
       "      <th>type</th>\n",
       "    </tr>\n",
       "  </thead>\n",
       "  <tbody>\n",
       "    <tr>\n",
       "      <th>28</th>\n",
       "      <td>1</td>\n",
       "      <td>county</td>\n",
       "      <td>7</td>\n",
       "      <td>demographics_028.csv</td>\n",
       "      <td>0</td>\n",
       "      <td>0</td>\n",
       "      <td>https://www.statecancerprofiles.cancer.gov/dem...</td>\n",
       "      <td>4</td>\n",
       "      <td>pov</td>\n",
       "      <td>manyareacensus</td>\n",
       "    </tr>\n",
       "    <tr>\n",
       "      <th>29</th>\n",
       "      <td>1</td>\n",
       "      <td>county</td>\n",
       "      <td>8</td>\n",
       "      <td>demographics_029.csv</td>\n",
       "      <td>0</td>\n",
       "      <td>0</td>\n",
       "      <td>https://www.statecancerprofiles.cancer.gov/dem...</td>\n",
       "      <td>4</td>\n",
       "      <td>pov</td>\n",
       "      <td>manyareacensus</td>\n",
       "    </tr>\n",
       "    <tr>\n",
       "      <th>30</th>\n",
       "      <td>1</td>\n",
       "      <td>county</td>\n",
       "      <td>9</td>\n",
       "      <td>demographics_030.csv</td>\n",
       "      <td>0</td>\n",
       "      <td>0</td>\n",
       "      <td>https://www.statecancerprofiles.cancer.gov/dem...</td>\n",
       "      <td>4</td>\n",
       "      <td>pov</td>\n",
       "      <td>manyareacensus</td>\n",
       "    </tr>\n",
       "  </tbody>\n",
       "</table>\n",
       "</div>"
      ],
      "text/plain": [
       "    age areatype  demo             file_name  race  sex  \\\n",
       "28    1   county     7  demographics_028.csv     0    0   \n",
       "29    1   county     8  demographics_029.csv     0    0   \n",
       "30    1   county     9  demographics_030.csv     0    0   \n",
       "\n",
       "                                           source_url  stateFIPS topic  \\\n",
       "28  https://www.statecancerprofiles.cancer.gov/dem...          4   pov   \n",
       "29  https://www.statecancerprofiles.cancer.gov/dem...          4   pov   \n",
       "30  https://www.statecancerprofiles.cancer.gov/dem...          4   pov   \n",
       "\n",
       "              type  \n",
       "28  manyareacensus  \n",
       "29  manyareacensus  \n",
       "30  manyareacensus  "
      ]
     },
     "execution_count": 127,
     "metadata": {},
     "output_type": "execute_result"
    }
   ],
   "source": [
    "subset_key_dict = {\n",
    "    'crowding': range(0,1),\n",
    "    'education': range(1,4),\n",
    "    'income': range(4,6),\n",
    "    'uninsured': range(6,7),\n",
    "    'language_isloation': range(7,8),\n",
    "    'mobility': range(8,13),\n",
    "    'age': range(13,19),\n",
    "    'race': range(19,26),\n",
    "    'sex': range(26,28),\n",
    "    'poverty': range(28,31),\n",
    "    'unemployed': range(31,32),\n",
    "}\n",
    "\n",
    "\n",
    "data_type = 'demographics'\n",
    "\n",
    "# Set the data path\n",
    "cancer_data_dir = raw_data_dir / 'CDC_CancerByCounty'\n",
    "this_data_dir = cancer_data_dir / state / data_type\n",
    "\n",
    "# Load the data key\n",
    "df_key = pd.read_csv(this_data_dir / 'DATA_KEY.csv')\n",
    "# df_key\n",
    "\n",
    "subset_range = subset_key_dict['poverty']\n",
    "df_key[df_key.index.isin(subset_range)]"
   ]
  },
  {
   "cell_type": "markdown",
   "metadata": {},
   "source": [
    "---\n",
    "### Process Demographic Data\n",
    "\n",
    "Processing Steps\n",
    "1. Load Each Pre-downloaded data\n",
    "2. Drop Duplicates from DATA KEY"
   ]
  },
  {
   "cell_type": "code",
   "execution_count": 130,
   "metadata": {},
   "outputs": [],
   "source": [
    "#\n",
    "# PROCESS Risk DATA\n",
    "#\n",
    "\n",
    "def process_demographics_raw(state): \n",
    "\n",
    "    subset_key_dict = {\n",
    "        'crowding': range(0,1),\n",
    "        'education': range(1,4),\n",
    "        'income': range(4,6),\n",
    "        'uninsured': range(6,7),\n",
    "        'language_isloation': range(7,8),\n",
    "        'mobility': range(8,13),\n",
    "        'age': range(13,19),\n",
    "        'race': range(19,26),\n",
    "        'sex': range(26,28),\n",
    "        'poverty': range(28,31),\n",
    "        'unemployed': range(31,32),\n",
    "    }\n",
    "\n",
    "\n",
    "    data_type = 'demographics'\n",
    "\n",
    "    # Set the data path\n",
    "    cancer_data_dir = raw_data_dir / 'CDC_CancerByCounty'\n",
    "    this_data_dir = cancer_data_dir / state / data_type\n",
    "\n",
    "    # Load the data key\n",
    "    df_key = pd.read_csv(this_data_dir / 'DATA_KEY.csv')\n",
    "    # df_key\n",
    "    \n",
    "    for subset_name, subset_range in subset_key_dict.items():\n",
    "        \n",
    "        print(f'Processing data for:\\t{subset_name}')\n",
    "        \n",
    "        subset_key = df_key[df_key.index.isin(subset_range)]\n",
    "\n",
    "        # Drop all the duplicates from data key\n",
    "        subset_key = subset_key.drop_duplicates(\n",
    "            subset=[c for c in df_key.columns if 'file_name' not in c]\n",
    "            # Ignore the file_name column for deduplication\n",
    "        )\n",
    "        \n",
    "        print('Processing data for all cancer stages')\n",
    "\n",
    "\n",
    "        df_demographics = pd.concat(\n",
    "            gen_subsets(subset_key, this_data_dir, cols_to_clean=None),\n",
    "            sort=False\n",
    "        ).reset_index(drop=True)\n",
    "\n",
    "        df_demographics.rename(columns={\n",
    "            'county': 'locale',\n",
    "            'borough or census area': 'locale',\n",
    "            'parish': 'locale'\n",
    "        }, \n",
    "                               inplace=True)\n",
    "\n",
    "        # Change areatype for state and country entries\n",
    "        df_demographics.loc[df_demographics.locale.str.contains(str.title(state)), 'areatype'] = \"state\"    \n",
    "        df_demographics.loc[df_demographics.locale == 'United States', 'areatype'] = \"country\"\n",
    "\n",
    "        # Save out the cleaned and joined dataset\n",
    "        df.to_csv(this_data_dir / f'{subset_name}-demographics.csv',\n",
    "                  index=False\n",
    "                 )"
   ]
  },
  {
   "cell_type": "code",
   "execution_count": 12,
   "metadata": {},
   "outputs": [
    {
     "name": "stderr",
     "output_type": "stream",
     "text": [
      "  3%|▎         | 1/32 [00:00<00:03,  8.90it/s]"
     ]
    },
    {
     "name": "stdout",
     "output_type": "stream",
     "text": [
      "Processing data for all cancer stages\n"
     ]
    },
    {
     "name": "stderr",
     "output_type": "stream",
     "text": [
      "100%|██████████| 32/32 [00:03<00:00,  8.35it/s]\n",
      "  6%|▋         | 2/32 [00:00<00:01, 18.87it/s]"
     ]
    },
    {
     "name": "stdout",
     "output_type": "stream",
     "text": [
      "Data Joined and cleaned for data type:\n",
      " -> demographics\n",
      "Processing data for all cancer stages\n"
     ]
    },
    {
     "name": "stderr",
     "output_type": "stream",
     "text": [
      "100%|██████████| 32/32 [00:01<00:00, 18.41it/s]\n",
      "  9%|▉         | 3/32 [00:00<00:00, 29.04it/s]"
     ]
    },
    {
     "name": "stdout",
     "output_type": "stream",
     "text": [
      "Data Joined and cleaned for data type:\n",
      " -> demographics\n",
      "Processing data for all cancer stages\n"
     ]
    },
    {
     "name": "stderr",
     "output_type": "stream",
     "text": [
      "100%|██████████| 32/32 [00:01<00:00, 28.26it/s]\n",
      "  3%|▎         | 1/32 [00:00<00:04,  7.43it/s]"
     ]
    },
    {
     "name": "stdout",
     "output_type": "stream",
     "text": [
      "Data Joined and cleaned for data type:\n",
      " -> demographics\n",
      "Processing data for all cancer stages\n"
     ]
    },
    {
     "name": "stderr",
     "output_type": "stream",
     "text": [
      "100%|██████████| 32/32 [00:04<00:00,  7.35it/s]\n",
      "  3%|▎         | 1/32 [00:00<00:03,  9.57it/s]"
     ]
    },
    {
     "name": "stdout",
     "output_type": "stream",
     "text": [
      "Data Joined and cleaned for data type:\n",
      " -> demographics\n",
      "Processing data for all cancer stages\n"
     ]
    },
    {
     "name": "stderr",
     "output_type": "stream",
     "text": [
      "100%|██████████| 32/32 [00:03<00:00,  9.79it/s]\n",
      "  3%|▎         | 1/32 [00:00<00:03,  8.47it/s]"
     ]
    },
    {
     "name": "stdout",
     "output_type": "stream",
     "text": [
      "Data Joined and cleaned for data type:\n",
      " -> demographics\n",
      "Processing data for all cancer stages\n"
     ]
    },
    {
     "name": "stderr",
     "output_type": "stream",
     "text": [
      "100%|██████████| 32/32 [00:03<00:00,  8.68it/s]\n",
      " 16%|█▌        | 5/32 [00:00<00:00, 42.61it/s]"
     ]
    },
    {
     "name": "stdout",
     "output_type": "stream",
     "text": [
      "Data Joined and cleaned for data type:\n",
      " -> demographics\n",
      "Processing data for all cancer stages\n"
     ]
    },
    {
     "name": "stderr",
     "output_type": "stream",
     "text": [
      "100%|██████████| 32/32 [00:00<00:00, 42.26it/s]\n",
      " 22%|██▏       | 7/32 [00:00<00:00, 64.22it/s]"
     ]
    },
    {
     "name": "stdout",
     "output_type": "stream",
     "text": [
      "Data Joined and cleaned for data type:\n",
      " -> demographics\n",
      "Processing data for all cancer stages\n"
     ]
    },
    {
     "name": "stderr",
     "output_type": "stream",
     "text": [
      "100%|██████████| 32/32 [00:00<00:00, 66.69it/s]\n",
      "  3%|▎         | 1/32 [00:00<00:03,  8.20it/s]"
     ]
    },
    {
     "name": "stdout",
     "output_type": "stream",
     "text": [
      "Data Joined and cleaned for data type:\n",
      " -> demographics\n",
      "Processing data for all cancer stages\n"
     ]
    },
    {
     "name": "stderr",
     "output_type": "stream",
     "text": [
      "100%|██████████| 32/32 [00:03<00:00,  8.38it/s]\n",
      "  0%|          | 0/32 [00:00<?, ?it/s]"
     ]
    },
    {
     "name": "stdout",
     "output_type": "stream",
     "text": [
      "Data Joined and cleaned for data type:\n",
      " -> demographics\n",
      "Processing data for all cancer stages\n"
     ]
    },
    {
     "name": "stderr",
     "output_type": "stream",
     "text": [
      "100%|██████████| 32/32 [00:08<00:00,  3.85it/s]\n",
      " 19%|█▉        | 6/32 [00:00<00:00, 53.57it/s]"
     ]
    },
    {
     "name": "stdout",
     "output_type": "stream",
     "text": [
      "Data Joined and cleaned for data type:\n",
      " -> demographics\n",
      "Processing data for all cancer stages\n"
     ]
    },
    {
     "name": "stderr",
     "output_type": "stream",
     "text": [
      "100%|██████████| 32/32 [00:00<00:00, 55.79it/s]\n",
      "  6%|▋         | 2/32 [00:00<00:02, 11.88it/s]"
     ]
    },
    {
     "name": "stdout",
     "output_type": "stream",
     "text": [
      "Data Joined and cleaned for data type:\n",
      " -> demographics\n",
      "Processing data for all cancer stages\n"
     ]
    },
    {
     "name": "stderr",
     "output_type": "stream",
     "text": [
      "100%|██████████| 32/32 [00:02<00:00, 12.26it/s]\n",
      "  3%|▎         | 1/32 [00:00<00:05,  5.57it/s]"
     ]
    },
    {
     "name": "stdout",
     "output_type": "stream",
     "text": [
      "Data Joined and cleaned for data type:\n",
      " -> demographics\n",
      "Processing data for all cancer stages\n"
     ]
    },
    {
     "name": "stderr",
     "output_type": "stream",
     "text": [
      "100%|██████████| 32/32 [00:05<00:00,  5.81it/s]\n",
      "  3%|▎         | 1/32 [00:00<00:04,  6.20it/s]"
     ]
    },
    {
     "name": "stdout",
     "output_type": "stream",
     "text": [
      "Data Joined and cleaned for data type:\n",
      " -> demographics\n",
      "Processing data for all cancer stages\n"
     ]
    },
    {
     "name": "stderr",
     "output_type": "stream",
     "text": [
      "100%|██████████| 32/32 [00:05<00:00,  5.97it/s]\n",
      "  3%|▎         | 1/32 [00:00<00:05,  5.91it/s]"
     ]
    },
    {
     "name": "stdout",
     "output_type": "stream",
     "text": [
      "Data Joined and cleaned for data type:\n",
      " -> demographics\n",
      "Processing data for all cancer stages\n"
     ]
    },
    {
     "name": "stderr",
     "output_type": "stream",
     "text": [
      "100%|██████████| 32/32 [00:05<00:00,  5.81it/s]\n",
      "  3%|▎         | 1/32 [00:00<00:05,  5.65it/s]"
     ]
    },
    {
     "name": "stdout",
     "output_type": "stream",
     "text": [
      "Data Joined and cleaned for data type:\n",
      " -> demographics\n",
      "Processing data for all cancer stages\n"
     ]
    },
    {
     "name": "stderr",
     "output_type": "stream",
     "text": [
      "100%|██████████| 32/32 [00:05<00:00,  5.60it/s]\n",
      "  3%|▎         | 1/32 [00:00<00:05,  5.20it/s]"
     ]
    },
    {
     "name": "stdout",
     "output_type": "stream",
     "text": [
      "Data Joined and cleaned for data type:\n",
      " -> demographics\n",
      "Processing data for all cancer stages\n"
     ]
    },
    {
     "name": "stderr",
     "output_type": "stream",
     "text": [
      "100%|██████████| 32/32 [00:06<00:00,  4.96it/s]\n",
      "  3%|▎         | 1/32 [00:00<00:03,  8.65it/s]"
     ]
    },
    {
     "name": "stdout",
     "output_type": "stream",
     "text": [
      "Data Joined and cleaned for data type:\n",
      " -> demographics\n",
      "Processing data for all cancer stages\n"
     ]
    },
    {
     "name": "stderr",
     "output_type": "stream",
     "text": [
      "100%|██████████| 32/32 [00:03<00:00,  8.77it/s]\n",
      "  9%|▉         | 3/32 [00:00<00:01, 28.61it/s]"
     ]
    },
    {
     "name": "stdout",
     "output_type": "stream",
     "text": [
      "Data Joined and cleaned for data type:\n",
      " -> demographics\n",
      "Processing data for all cancer stages\n"
     ]
    },
    {
     "name": "stderr",
     "output_type": "stream",
     "text": [
      "100%|██████████| 32/32 [00:01<00:00, 27.31it/s]\n",
      "  9%|▉         | 3/32 [00:00<00:01, 20.61it/s]"
     ]
    },
    {
     "name": "stdout",
     "output_type": "stream",
     "text": [
      "Data Joined and cleaned for data type:\n",
      " -> demographics\n",
      "Processing data for all cancer stages\n"
     ]
    },
    {
     "name": "stderr",
     "output_type": "stream",
     "text": [
      "100%|██████████| 32/32 [00:01<00:00, 20.65it/s]\n",
      "  9%|▉         | 3/32 [00:00<00:00, 29.52it/s]"
     ]
    },
    {
     "name": "stdout",
     "output_type": "stream",
     "text": [
      "Data Joined and cleaned for data type:\n",
      " -> demographics\n",
      "Processing data for all cancer stages\n"
     ]
    },
    {
     "name": "stderr",
     "output_type": "stream",
     "text": [
      "100%|██████████| 32/32 [00:01<00:00, 30.00it/s]\n",
      "  3%|▎         | 1/32 [00:00<00:04,  6.71it/s]"
     ]
    },
    {
     "name": "stdout",
     "output_type": "stream",
     "text": [
      "Data Joined and cleaned for data type:\n",
      " -> demographics\n",
      "Processing data for all cancer stages\n"
     ]
    },
    {
     "name": "stderr",
     "output_type": "stream",
     "text": [
      "100%|██████████| 32/32 [00:04<00:00,  6.85it/s]\n",
      "  3%|▎         | 1/32 [00:00<00:04,  6.51it/s]"
     ]
    },
    {
     "name": "stdout",
     "output_type": "stream",
     "text": [
      "Data Joined and cleaned for data type:\n",
      " -> demographics\n",
      "Processing data for all cancer stages\n"
     ]
    },
    {
     "name": "stderr",
     "output_type": "stream",
     "text": [
      "100%|██████████| 32/32 [00:04<00:00,  6.63it/s]\n",
      "  3%|▎         | 1/32 [00:00<00:04,  6.35it/s]"
     ]
    },
    {
     "name": "stdout",
     "output_type": "stream",
     "text": [
      "Data Joined and cleaned for data type:\n",
      " -> demographics\n",
      "Processing data for all cancer stages\n"
     ]
    },
    {
     "name": "stderr",
     "output_type": "stream",
     "text": [
      "100%|██████████| 32/32 [00:04<00:00,  6.92it/s]\n",
      "  3%|▎         | 1/32 [00:00<00:05,  5.21it/s]"
     ]
    },
    {
     "name": "stdout",
     "output_type": "stream",
     "text": [
      "Data Joined and cleaned for data type:\n",
      " -> demographics\n",
      "Processing data for all cancer stages\n"
     ]
    },
    {
     "name": "stderr",
     "output_type": "stream",
     "text": [
      "100%|██████████| 32/32 [00:06<00:00,  5.23it/s]\n",
      "  3%|▎         | 1/32 [00:00<00:03,  9.39it/s]"
     ]
    },
    {
     "name": "stdout",
     "output_type": "stream",
     "text": [
      "Data Joined and cleaned for data type:\n",
      " -> demographics\n",
      "Processing data for all cancer stages\n"
     ]
    },
    {
     "name": "stderr",
     "output_type": "stream",
     "text": [
      "100%|██████████| 32/32 [00:03<00:00,  9.95it/s]\n",
      "  3%|▎         | 1/32 [00:00<00:05,  6.14it/s]"
     ]
    },
    {
     "name": "stdout",
     "output_type": "stream",
     "text": [
      "Data Joined and cleaned for data type:\n",
      " -> demographics\n",
      "Processing data for all cancer stages\n"
     ]
    },
    {
     "name": "stderr",
     "output_type": "stream",
     "text": [
      "100%|██████████| 32/32 [00:05<00:00,  6.27it/s]\n",
      "  9%|▉         | 3/32 [00:00<00:01, 25.26it/s]"
     ]
    },
    {
     "name": "stdout",
     "output_type": "stream",
     "text": [
      "Data Joined and cleaned for data type:\n",
      " -> demographics\n",
      "Processing data for all cancer stages\n"
     ]
    },
    {
     "name": "stderr",
     "output_type": "stream",
     "text": [
      "100%|██████████| 32/32 [00:01<00:00, 26.06it/s]\n",
      " 12%|█▎        | 4/32 [00:00<00:00, 38.91it/s]"
     ]
    },
    {
     "name": "stdout",
     "output_type": "stream",
     "text": [
      "Data Joined and cleaned for data type:\n",
      " -> demographics\n",
      "Processing data for all cancer stages\n"
     ]
    },
    {
     "name": "stderr",
     "output_type": "stream",
     "text": [
      "100%|██████████| 32/32 [00:00<00:00, 37.30it/s]\n",
      "  9%|▉         | 3/32 [00:00<00:01, 22.98it/s]"
     ]
    },
    {
     "name": "stdout",
     "output_type": "stream",
     "text": [
      "Data Joined and cleaned for data type:\n",
      " -> demographics\n",
      "Processing data for all cancer stages\n"
     ]
    },
    {
     "name": "stderr",
     "output_type": "stream",
     "text": [
      "100%|██████████| 32/32 [00:01<00:00, 22.59it/s]\n",
      "  6%|▋         | 2/32 [00:00<00:01, 15.56it/s]"
     ]
    },
    {
     "name": "stdout",
     "output_type": "stream",
     "text": [
      "Data Joined and cleaned for data type:\n",
      " -> demographics\n",
      "Processing data for all cancer stages\n"
     ]
    },
    {
     "name": "stderr",
     "output_type": "stream",
     "text": [
      "100%|██████████| 32/32 [00:02<00:00, 15.47it/s]\n",
      "  3%|▎         | 1/32 [00:00<00:03,  8.41it/s]"
     ]
    },
    {
     "name": "stdout",
     "output_type": "stream",
     "text": [
      "Data Joined and cleaned for data type:\n",
      " -> demographics\n",
      "Processing data for all cancer stages\n"
     ]
    },
    {
     "name": "stderr",
     "output_type": "stream",
     "text": [
      "100%|██████████| 32/32 [00:03<00:00,  8.86it/s]\n",
      "  3%|▎         | 1/32 [00:00<00:05,  5.36it/s]"
     ]
    },
    {
     "name": "stdout",
     "output_type": "stream",
     "text": [
      "Data Joined and cleaned for data type:\n",
      " -> demographics\n",
      "Processing data for all cancer stages\n"
     ]
    },
    {
     "name": "stderr",
     "output_type": "stream",
     "text": [
      "100%|██████████| 32/32 [00:05<00:00,  5.84it/s]\n",
      "  0%|          | 0/32 [00:00<?, ?it/s]"
     ]
    },
    {
     "name": "stdout",
     "output_type": "stream",
     "text": [
      "Data Joined and cleaned for data type:\n",
      " -> demographics\n",
      "Processing data for all cancer stages\n"
     ]
    },
    {
     "name": "stderr",
     "output_type": "stream",
     "text": [
      "100%|██████████| 32/32 [00:03<00:00, 10.46it/s]\n",
      "  3%|▎         | 1/32 [00:00<00:04,  6.27it/s]"
     ]
    },
    {
     "name": "stdout",
     "output_type": "stream",
     "text": [
      "Data Joined and cleaned for data type:\n",
      " -> demographics\n",
      "Processing data for all cancer stages\n"
     ]
    },
    {
     "name": "stderr",
     "output_type": "stream",
     "text": [
      "100%|██████████| 32/32 [00:04<00:00,  6.44it/s]\n",
      "  3%|▎         | 1/32 [00:00<00:04,  7.29it/s]"
     ]
    },
    {
     "name": "stdout",
     "output_type": "stream",
     "text": [
      "Data Joined and cleaned for data type:\n",
      " -> demographics\n",
      "Processing data for all cancer stages\n"
     ]
    },
    {
     "name": "stderr",
     "output_type": "stream",
     "text": [
      "100%|██████████| 32/32 [00:04<00:00,  7.41it/s]\n",
      "  6%|▋         | 2/32 [00:00<00:02, 14.44it/s]"
     ]
    },
    {
     "name": "stdout",
     "output_type": "stream",
     "text": [
      "Data Joined and cleaned for data type:\n",
      " -> demographics\n",
      "Processing data for all cancer stages\n"
     ]
    },
    {
     "name": "stderr",
     "output_type": "stream",
     "text": [
      "100%|██████████| 32/32 [00:02<00:00, 14.66it/s]\n",
      "  3%|▎         | 1/32 [00:00<00:03,  8.49it/s]"
     ]
    },
    {
     "name": "stdout",
     "output_type": "stream",
     "text": [
      "Data Joined and cleaned for data type:\n",
      " -> demographics\n",
      "Processing data for all cancer stages\n"
     ]
    },
    {
     "name": "stderr",
     "output_type": "stream",
     "text": [
      "100%|██████████| 32/32 [00:03<00:00,  8.09it/s]\n",
      " 16%|█▌        | 5/32 [00:00<00:00, 49.27it/s]"
     ]
    },
    {
     "name": "stdout",
     "output_type": "stream",
     "text": [
      "Data Joined and cleaned for data type:\n",
      " -> demographics\n",
      "Processing data for all cancer stages\n"
     ]
    },
    {
     "name": "stderr",
     "output_type": "stream",
     "text": [
      "100%|██████████| 32/32 [00:00<00:00, 50.76it/s]\n",
      "  6%|▋         | 2/32 [00:00<00:02, 11.24it/s]"
     ]
    },
    {
     "name": "stdout",
     "output_type": "stream",
     "text": [
      "Data Joined and cleaned for data type:\n",
      " -> demographics\n",
      "Processing data for all cancer stages\n"
     ]
    },
    {
     "name": "stderr",
     "output_type": "stream",
     "text": [
      "100%|██████████| 32/32 [00:02<00:00, 11.38it/s]\n",
      "  3%|▎         | 1/32 [00:00<00:03,  8.59it/s]"
     ]
    },
    {
     "name": "stdout",
     "output_type": "stream",
     "text": [
      "Data Joined and cleaned for data type:\n",
      " -> demographics\n",
      "Processing data for all cancer stages\n"
     ]
    },
    {
     "name": "stderr",
     "output_type": "stream",
     "text": [
      "100%|██████████| 32/32 [00:03<00:00,  8.41it/s]\n",
      "  3%|▎         | 1/32 [00:00<00:05,  5.53it/s]"
     ]
    },
    {
     "name": "stdout",
     "output_type": "stream",
     "text": [
      "Data Joined and cleaned for data type:\n",
      " -> demographics\n",
      "Processing data for all cancer stages\n"
     ]
    },
    {
     "name": "stderr",
     "output_type": "stream",
     "text": [
      "100%|██████████| 32/32 [00:05<00:00,  5.98it/s]\n",
      "  0%|          | 0/32 [00:00<?, ?it/s]"
     ]
    },
    {
     "name": "stdout",
     "output_type": "stream",
     "text": [
      "Data Joined and cleaned for data type:\n",
      " -> demographics\n",
      "Processing data for all cancer stages\n"
     ]
    },
    {
     "name": "stderr",
     "output_type": "stream",
     "text": [
      "100%|██████████| 32/32 [00:14<00:00,  2.27it/s]\n",
      "  6%|▋         | 2/32 [00:00<00:01, 15.56it/s]"
     ]
    },
    {
     "name": "stdout",
     "output_type": "stream",
     "text": [
      "Data Joined and cleaned for data type:\n",
      " -> demographics\n",
      "Processing data for all cancer stages\n"
     ]
    },
    {
     "name": "stderr",
     "output_type": "stream",
     "text": [
      "100%|██████████| 32/32 [00:01<00:00, 16.80it/s]\n",
      "  9%|▉         | 3/32 [00:00<00:00, 29.23it/s]"
     ]
    },
    {
     "name": "stdout",
     "output_type": "stream",
     "text": [
      "Data Joined and cleaned for data type:\n",
      " -> demographics\n",
      "Processing data for all cancer stages\n"
     ]
    },
    {
     "name": "stderr",
     "output_type": "stream",
     "text": [
      "100%|██████████| 32/32 [00:01<00:00, 30.39it/s]\n",
      "  0%|          | 0/32 [00:00<?, ?it/s]"
     ]
    },
    {
     "name": "stdout",
     "output_type": "stream",
     "text": [
      "Data Joined and cleaned for data type:\n",
      " -> demographics\n",
      "Processing data for all cancer stages\n"
     ]
    },
    {
     "name": "stderr",
     "output_type": "stream",
     "text": [
      "100%|██████████| 32/32 [00:07<00:00,  4.39it/s]\n",
      "  6%|▋         | 2/32 [00:00<00:02, 13.72it/s]"
     ]
    },
    {
     "name": "stdout",
     "output_type": "stream",
     "text": [
      "Data Joined and cleaned for data type:\n",
      " -> demographics\n",
      "Processing data for all cancer stages\n"
     ]
    },
    {
     "name": "stderr",
     "output_type": "stream",
     "text": [
      "100%|██████████| 32/32 [00:02<00:00, 13.39it/s]\n",
      "  3%|▎         | 1/32 [00:00<00:03,  9.38it/s]"
     ]
    },
    {
     "name": "stdout",
     "output_type": "stream",
     "text": [
      "Data Joined and cleaned for data type:\n",
      " -> demographics\n",
      "Processing data for all cancer stages\n"
     ]
    },
    {
     "name": "stderr",
     "output_type": "stream",
     "text": [
      "100%|██████████| 32/32 [00:03<00:00,  9.78it/s]\n",
      "  3%|▎         | 1/32 [00:00<00:04,  7.68it/s]"
     ]
    },
    {
     "name": "stdout",
     "output_type": "stream",
     "text": [
      "Data Joined and cleaned for data type:\n",
      " -> demographics\n",
      "Processing data for all cancer stages\n"
     ]
    },
    {
     "name": "stderr",
     "output_type": "stream",
     "text": [
      "100%|██████████| 32/32 [00:04<00:00,  7.58it/s]\n",
      "  6%|▋         | 2/32 [00:00<00:01, 19.52it/s]"
     ]
    },
    {
     "name": "stdout",
     "output_type": "stream",
     "text": [
      "Data Joined and cleaned for data type:\n",
      " -> demographics\n",
      "Processing data for all cancer stages\n"
     ]
    },
    {
     "name": "stderr",
     "output_type": "stream",
     "text": [
      "100%|██████████| 32/32 [00:01<00:00, 20.35it/s]\n"
     ]
    },
    {
     "name": "stdout",
     "output_type": "stream",
     "text": [
      "Data Joined and cleaned for data type:\n",
      " -> demographics\n"
     ]
    }
   ],
   "source": [
    "for state in states_list:\n",
    "    process_demographics_raw(state)"
   ]
  },
  {
   "cell_type": "code",
   "execution_count": 132,
   "metadata": {},
   "outputs": [
    {
     "data": {
      "text/plain": [
       "'arizona'"
      ]
     },
     "execution_count": 132,
     "metadata": {},
     "output_type": "execute_result"
    }
   ],
   "source": [
    "# df_key.head(1)\n",
    "state"
   ]
  },
  {
   "cell_type": "code",
   "execution_count": 14,
   "metadata": {},
   "outputs": [],
   "source": [
    "# df_demographics.columns"
   ]
  },
  {
   "cell_type": "code",
   "execution_count": 15,
   "metadata": {},
   "outputs": [],
   "source": [
    "# print('Processing data for all cancer stages')\n",
    "\n",
    "\n",
    "# # df_demographics = pd.concat(\n",
    "# #     gen_subsets(df_key, raw_data_dir, cols_to_clean=None),\n",
    "# #     sort=False\n",
    "# # ).reset_index(drop=True)\n",
    "\n",
    "# df_demographics.rename(columns={'county': 'locale'}, inplace=True)\n",
    "\n",
    "# # # Change areatype for state and country entries\n",
    "# df_demographics.loc[df_demographics.locale == 'Georgia', 'areatype'] = \"state\"\n",
    "# df_demographics.loc[df_demographics.locale == 'United States', 'areatype'] = \"country\"\n",
    "\n",
    "# df_demographics.to_csv(project_data_dir / 'raw_data' / 'CDC_CancerIncidence-GAbyCounty' / data_type / 'data_join_clean.csv',\n",
    "#           index=False\n",
    "#          )\n",
    "# print(f'Data Joined and cleaned for data type:\\n -> {data_type}')\n",
    "# df_demographics.head()"
   ]
  },
  {
   "cell_type": "code",
   "execution_count": 41,
   "metadata": {},
   "outputs": [],
   "source": [
    "# Subdataset 1 - Demographics: Crowding\n",
    "# - Also include 'value (percent)', 'rank within us'\n",
    "criterion = ~df_demographics['households (with >1 person per room)'].isna()\n",
    "\n",
    "# # Subdataset 2 - Demographics: Education\n",
    "# - Also include 'value (percent)', 'rank within us'\n",
    "criterion = ( (~ df_demographics['people (education: less than 9th grade)'].isna()) \\\n",
    "            | (~ df_demographics['people(education: less than high school)'].isna()) \\\n",
    "            | (~ df_demographics['people (education: at least bachelors degree)'].isna()) )\n",
    "\n",
    "# Subdataset 3 - Demographics: Income\n",
    "# - Split Further by \n",
    "#   - demo=10 --> Median family income, 2013-2017\n",
    "#   - demo=11 --> Median household income, 2013-2017\n",
    "criterion = (~df_demographics[\"value (dollars)\"].isna())\n",
    "\n",
    "# Subdataset 4 - Demographics: Insurance\n",
    "# - Also include 'value (percent)', 'rank within us'\n",
    "# - Percent uninsured in demographic group, people at or below 138% of poverty, 2017, Ages <65\n",
    "criterion = (~df_demographics['people (uninsured)'].isna())\n",
    "\n",
    "# Subdataset 5 - Demographics: Language\n",
    "# - Also include 'value (percent)', 'rank within us'\n",
    "# - Language isolation, 2013-2017:  https://www.statecancerprofiles.cancer.gov/dictionary.php#non-english\n",
    "criterion = (~df_demographics['households (language isolation)'].isna())\n",
    "\n",
    "# Subdataset 6 - Demographics: Mobility\n",
    "# - Also include 'value (percent)', 'rank within us'\n",
    "criterion = ( (~ df_demographics[\"people (haven't moved)\"].isna()) \\\n",
    "            | (~ df_demographics[\"people (moved within county)\"].isna()) \\\n",
    "            | (~ df_demographics[\"people (moved from different county in same state)\"].isna()) \\\n",
    "            | (~ df_demographics[\"people (moved from different state)\"].isna()) \\\n",
    "            | (~ df_demographics[\"people (moved from outside us)\"].isna()) )\n",
    "\n",
    "\n",
    "# Subdataset 7 - Demographics: Population - Ages\n",
    "# - Also include 'value (percent)', 'rank within us'\n",
    "criterion = ( (~ df_demographics[\"people (age under 18)\"].isna()) \\\n",
    "            | (~ df_demographics[\"people (age 18-39)\"].isna()) \\\n",
    "            | (~ df_demographics[\"people (age 40-64)\"].isna()) \\\n",
    "            | (~ df_demographics[\"people (age 40 and over)\"].isna()) \\\n",
    "            | (~ df_demographics[\"people (age 50 and over)\"].isna()) \\\n",
    "            | (~ df_demographics[\"people (age 65 and over)\"].isna()) )\n",
    "\n",
    "\n",
    "# Subdataset 8 - Demographics: Population -  Race/Ethnicity\n",
    "# - Also include 'value (percent)', 'rank within us'\n",
    "criterion = ( (~ df_demographics[\"people (ai/an)\"].isna()) \\\n",
    "            | (~ df_demographics[\"people (api)\"].isna()) \\\n",
    "            | (~ df_demographics[\"people (black)\"].isna()) \\\n",
    "            | (~ df_demographics[\"people (foreign born)\"].isna()) \\\n",
    "            | (~ df_demographics[\"people (hispanic)\"].isna()) \\\n",
    "            | (~ df_demographics[\"people (non-hispanic [origin recode])\"].isna()) \\\n",
    "            | (~ df_demographics[\"people (white)\"].isna()) )\n",
    "\n",
    "\n",
    "# Subdataset 9 - Demographics: Population -  Sex\n",
    "# - Also include 'value (percent)', 'rank within us'\n",
    "criterion = ( (~ df_demographics['people (male)'].isna()) \\\n",
    "            | (~ df_demographics['people (female)'].isna()) )\n",
    "\n",
    "\n",
    "# Subdataset 9 - Demographics: Poverty\n",
    "# - Also include 'value (percent)', 'rank within us'\n",
    "criterion = ( (~ df_demographics['families (below poverty)'].isna()) \\\n",
    "            | (~ df_demographics['people (below poverty)'].isna()) \\\n",
    "            | (~ df_demographics['people (<150% of poverty)'].isna()) )\n",
    "\n",
    "# Subdataset 5 - Demographics: Workforce/Unemployment\n",
    "# - Also include 'value (percent)', 'rank within us'\n",
    "criterion = (~df_demographics['people (unemployed)'].isna())"
   ]
  },
  {
   "cell_type": "markdown",
   "metadata": {},
   "source": [
    "---\n",
    "### Join all data per type across all states"
   ]
  },
  {
   "cell_type": "code",
   "execution_count": 16,
   "metadata": {},
   "outputs": [
    {
     "data": {
      "text/plain": [
       "PosixPath('/Users/merrelbook/Projects/HealthDataVizGA/DataVisualAnalytics_Industries-cancer/data_raw/CDC_CancerByCounty')"
      ]
     },
     "execution_count": 16,
     "metadata": {},
     "output_type": "execute_result"
    }
   ],
   "source": [
    "cancer_data_dir = raw_data_dir / 'CDC_CancerByCounty'\n",
    "\n",
    "cancer_data_dir"
   ]
  },
  {
   "cell_type": "code",
   "execution_count": 68,
   "metadata": {},
   "outputs": [],
   "source": [
    "def combine_states(cancer_data_dir, data_type, data_subset):\n",
    "    for state_dir in cancer_data_dir.iterdir():\n",
    "\n",
    "        if state_dir.name.startswith('.'):\n",
    "            # skip\n",
    "            continue\n",
    "        else:\n",
    "            df = pd.read_csv(state_dir / data_type / f'{data_subset}-incidencerates.csv')\n",
    "            df['state'] = str.lower(state_dir.name)\n",
    "\n",
    "        yield df\n",
    "\n",
    "\n",
    "# def combine_states(cancer_data_dir, data_type):\n",
    "#     for state_dir in cancer_data_dir.iterdir():\n",
    "\n",
    "#         if state_dir.name.startswith('.'):\n",
    "#             # skip\n",
    "#             continue\n",
    "#         else:\n",
    "#             df = pd.read_csv(state_dir / data_type / f'all_{data_type}.csv')\n",
    "#             df['state'] = str.lower(state_dir.name)\n",
    "\n",
    "#         yield df"
   ]
  },
  {
   "cell_type": "code",
   "execution_count": 104,
   "metadata": {},
   "outputs": [],
   "source": [
    "subset_key_dict = {\n",
    "    'cancer_by_type': range(0,23),\n",
    "    'cancer_by_race': range(23,31),\n",
    "    'cancer_by_sex': range(31,34),\n",
    "    'cancer_by_age': range(34,39),\n",
    "    'cancer_all': range(39,40),\n",
    "    'cancer_latestage_by_type': range(40,59),\n",
    "}\n",
    "\n",
    "# Load the cancer_id key\n",
    "cancer_id_key = pd.read_csv(repo_dir / 'data_raw' / 'cancer_ID_list.csv')\n",
    "cancer_key_dict = cancer_id_key.set_index('Cancer_ID').to_dict()['Cancer_Description']\n",
    "\n",
    "# Clean cancer data dir\n",
    "clean_data_dir = repo_dir / 'data_clean' / 'CDC_CancerByCounty' / 'incidencerates'\n",
    "\n",
    "if not clean_data_dir.exists():\n",
    "    clean_data_dir.mkdir(parents=True)\n",
    "\n",
    "for subset_name, value in subset_key_dict.items():\n",
    "    df_consolidated = pd.concat(\n",
    "        combine_states(cancer_data_dir, subset_name)\n",
    "    )\n",
    "\n",
    "    df_consolidated = (df_consolidated\n",
    "                       .sort_values(by=['fips', 'cancer'])\n",
    "                       .drop_duplicates(subset=['locale', 'cancer'])\n",
    "    )\n",
    "\n",
    "    df_consolidated['cancer_description'] = df_consolidated.cancer.apply(\n",
    "        lambda x: cancer_key_dict[x]\n",
    "    )\n",
    "    \n",
    "    df_consolidated.to_csv(clean_data_dir / f'{subset_name}.csv', index=False)\n"
   ]
  },
  {
   "cell_type": "code",
   "execution_count": 100,
   "metadata": {},
   "outputs": [],
   "source": []
  },
  {
   "cell_type": "code",
   "execution_count": 103,
   "metadata": {},
   "outputs": [
    {
     "data": {
      "text/html": [
       "<div>\n",
       "<style scoped>\n",
       "    .dataframe tbody tr th:only-of-type {\n",
       "        vertical-align: middle;\n",
       "    }\n",
       "\n",
       "    .dataframe tbody tr th {\n",
       "        vertical-align: top;\n",
       "    }\n",
       "\n",
       "    .dataframe thead th {\n",
       "        text-align: right;\n",
       "    }\n",
       "</style>\n",
       "<table border=\"1\" class=\"dataframe\">\n",
       "  <thead>\n",
       "    <tr style=\"text-align: right;\">\n",
       "      <th></th>\n",
       "      <th>locale</th>\n",
       "      <th>fips</th>\n",
       "      <th>met_health_obj</th>\n",
       "      <th>incidence rate_per_100000</th>\n",
       "      <th>incidence rate_lower_95_confidence</th>\n",
       "      <th>incidence rate_upper_95_confidence</th>\n",
       "      <th>annual_count_avg</th>\n",
       "      <th>recent_trend_str</th>\n",
       "      <th>trend_last_5</th>\n",
       "      <th>trend_last_5_lower_95_confidence</th>\n",
       "      <th>trend_last_5_upper_95_confidence</th>\n",
       "      <th>age</th>\n",
       "      <th>areatype</th>\n",
       "      <th>cancer</th>\n",
       "      <th>file_name</th>\n",
       "      <th>race</th>\n",
       "      <th>sex</th>\n",
       "      <th>source_url</th>\n",
       "      <th>stage</th>\n",
       "      <th>stateFIPS</th>\n",
       "      <th>type</th>\n",
       "      <th>state</th>\n",
       "      <th>cancer_description</th>\n",
       "    </tr>\n",
       "  </thead>\n",
       "  <tbody>\n",
       "    <tr>\n",
       "      <th>0</th>\n",
       "      <td>US (SEER+NPCR)(1,10)</td>\n",
       "      <td>0.0</td>\n",
       "      <td>***</td>\n",
       "      <td>448.0</td>\n",
       "      <td>447.7</td>\n",
       "      <td>448.4</td>\n",
       "      <td>1638110.0</td>\n",
       "      <td>falling</td>\n",
       "      <td>-0.9</td>\n",
       "      <td>-1.6</td>\n",
       "      <td>-0.1</td>\n",
       "      <td>1</td>\n",
       "      <td>country</td>\n",
       "      <td>1</td>\n",
       "      <td>incidencerates_000.csv</td>\n",
       "      <td>0</td>\n",
       "      <td>0</td>\n",
       "      <td>https://www.statecancerprofiles.cancer.gov/inc...</td>\n",
       "      <td>NaN</td>\n",
       "      <td>29</td>\n",
       "      <td>incd</td>\n",
       "      <td>missouri</td>\n",
       "      <td>All Cancer Sites</td>\n",
       "    </tr>\n",
       "    <tr>\n",
       "      <th>1</th>\n",
       "      <td>US (SEER+NPCR)(1,10)</td>\n",
       "      <td>0.0</td>\n",
       "      <td>***</td>\n",
       "      <td>11.7</td>\n",
       "      <td>11.7</td>\n",
       "      <td>11.8</td>\n",
       "      <td>43864</td>\n",
       "      <td>stable</td>\n",
       "      <td>0.5</td>\n",
       "      <td>-0.7</td>\n",
       "      <td>1.6</td>\n",
       "      <td>1</td>\n",
       "      <td>country</td>\n",
       "      <td>3</td>\n",
       "      <td>incidencerates_016.csv</td>\n",
       "      <td>0</td>\n",
       "      <td>0</td>\n",
       "      <td>https://www.statecancerprofiles.cancer.gov/inc...</td>\n",
       "      <td>NaN</td>\n",
       "      <td>29</td>\n",
       "      <td>incd</td>\n",
       "      <td>missouri</td>\n",
       "      <td>Oral Cavity &amp; Pharynx</td>\n",
       "    </tr>\n",
       "    <tr>\n",
       "      <th>2</th>\n",
       "      <td>US (SEER+NPCR)(1,10)</td>\n",
       "      <td>0.0</td>\n",
       "      <td>***</td>\n",
       "      <td>4.5</td>\n",
       "      <td>4.5</td>\n",
       "      <td>4.6</td>\n",
       "      <td>17084</td>\n",
       "      <td>stable</td>\n",
       "      <td>-0.8</td>\n",
       "      <td>-1.6</td>\n",
       "      <td>0.0</td>\n",
       "      <td>1</td>\n",
       "      <td>country</td>\n",
       "      <td>17</td>\n",
       "      <td>incidencerates_009.csv</td>\n",
       "      <td>0</td>\n",
       "      <td>0</td>\n",
       "      <td>https://www.statecancerprofiles.cancer.gov/inc...</td>\n",
       "      <td>NaN</td>\n",
       "      <td>29</td>\n",
       "      <td>incd</td>\n",
       "      <td>missouri</td>\n",
       "      <td>Esophagus</td>\n",
       "    </tr>\n",
       "    <tr>\n",
       "      <th>3</th>\n",
       "      <td>US (SEER+NPCR)(1,10)</td>\n",
       "      <td>0.0</td>\n",
       "      <td>***</td>\n",
       "      <td>6.6</td>\n",
       "      <td>6.5</td>\n",
       "      <td>6.6</td>\n",
       "      <td>23871</td>\n",
       "      <td>falling</td>\n",
       "      <td>-1.3</td>\n",
       "      <td>-2.0</td>\n",
       "      <td>-0.5</td>\n",
       "      <td>1</td>\n",
       "      <td>country</td>\n",
       "      <td>18</td>\n",
       "      <td>incidencerates_020.csv</td>\n",
       "      <td>0</td>\n",
       "      <td>0</td>\n",
       "      <td>https://www.statecancerprofiles.cancer.gov/inc...</td>\n",
       "      <td>NaN</td>\n",
       "      <td>29</td>\n",
       "      <td>incd</td>\n",
       "      <td>missouri</td>\n",
       "      <td>Stomach</td>\n",
       "    </tr>\n",
       "    <tr>\n",
       "      <th>4</th>\n",
       "      <td>US (SEER+NPCR)(1,10)</td>\n",
       "      <td>0.0</td>\n",
       "      <td>Yes</td>\n",
       "      <td>38.7</td>\n",
       "      <td>38.6</td>\n",
       "      <td>38.8</td>\n",
       "      <td>140982</td>\n",
       "      <td>falling</td>\n",
       "      <td>-1.3</td>\n",
       "      <td>-2.1</td>\n",
       "      <td>-0.6</td>\n",
       "      <td>1</td>\n",
       "      <td>country</td>\n",
       "      <td>20</td>\n",
       "      <td>incidencerates_008.csv</td>\n",
       "      <td>0</td>\n",
       "      <td>0</td>\n",
       "      <td>https://www.statecancerprofiles.cancer.gov/inc...</td>\n",
       "      <td>NaN</td>\n",
       "      <td>29</td>\n",
       "      <td>incd</td>\n",
       "      <td>missouri</td>\n",
       "      <td>Colon &amp; Rectum</td>\n",
       "    </tr>\n",
       "    <tr>\n",
       "      <th>...</th>\n",
       "      <td>...</td>\n",
       "      <td>...</td>\n",
       "      <td>...</td>\n",
       "      <td>...</td>\n",
       "      <td>...</td>\n",
       "      <td>...</td>\n",
       "      <td>...</td>\n",
       "      <td>...</td>\n",
       "      <td>...</td>\n",
       "      <td>...</td>\n",
       "      <td>...</td>\n",
       "      <td>...</td>\n",
       "      <td>...</td>\n",
       "      <td>...</td>\n",
       "      <td>...</td>\n",
       "      <td>...</td>\n",
       "      <td>...</td>\n",
       "      <td>...</td>\n",
       "      <td>...</td>\n",
       "      <td>...</td>\n",
       "      <td>...</td>\n",
       "      <td>...</td>\n",
       "      <td>...</td>\n",
       "    </tr>\n",
       "    <tr>\n",
       "      <th>52656</th>\n",
       "      <td>Weston County(6,10)</td>\n",
       "      <td>56045.0</td>\n",
       "      <td>***</td>\n",
       "      <td>*</td>\n",
       "      <td>*</td>\n",
       "      <td>*</td>\n",
       "      <td>3 or fewer</td>\n",
       "      <td>*</td>\n",
       "      <td>*</td>\n",
       "      <td>*</td>\n",
       "      <td>*</td>\n",
       "      <td>1</td>\n",
       "      <td>county</td>\n",
       "      <td>86</td>\n",
       "      <td>incidencerates_015.csv</td>\n",
       "      <td>0</td>\n",
       "      <td>0</td>\n",
       "      <td>https://www.statecancerprofiles.cancer.gov/inc...</td>\n",
       "      <td>NaN</td>\n",
       "      <td>56</td>\n",
       "      <td>incd</td>\n",
       "      <td>wyoming</td>\n",
       "      <td>Non-Hodgkin Lymphoma</td>\n",
       "    </tr>\n",
       "    <tr>\n",
       "      <th>52657</th>\n",
       "      <td>Weston County(6,10)</td>\n",
       "      <td>56045.0</td>\n",
       "      <td>***</td>\n",
       "      <td>*</td>\n",
       "      <td>*</td>\n",
       "      <td>*</td>\n",
       "      <td>3 or fewer</td>\n",
       "      <td>*</td>\n",
       "      <td>*</td>\n",
       "      <td>*</td>\n",
       "      <td>*</td>\n",
       "      <td>1</td>\n",
       "      <td>county</td>\n",
       "      <td>90</td>\n",
       "      <td>incidencerates_011.csv</td>\n",
       "      <td>0</td>\n",
       "      <td>0</td>\n",
       "      <td>https://www.statecancerprofiles.cancer.gov/inc...</td>\n",
       "      <td>NaN</td>\n",
       "      <td>56</td>\n",
       "      <td>incd</td>\n",
       "      <td>wyoming</td>\n",
       "      <td>Leukemia</td>\n",
       "    </tr>\n",
       "    <tr>\n",
       "      <th>52658</th>\n",
       "      <td>Weston County(6,10)</td>\n",
       "      <td>56045.0</td>\n",
       "      <td>***</td>\n",
       "      <td>*</td>\n",
       "      <td>*</td>\n",
       "      <td>*</td>\n",
       "      <td>3 or fewer</td>\n",
       "      <td>*</td>\n",
       "      <td>*</td>\n",
       "      <td>*</td>\n",
       "      <td>*</td>\n",
       "      <td>1</td>\n",
       "      <td>county</td>\n",
       "      <td>400</td>\n",
       "      <td>incidencerates_004.csv</td>\n",
       "      <td>0</td>\n",
       "      <td>2</td>\n",
       "      <td>https://www.statecancerprofiles.cancer.gov/inc...</td>\n",
       "      <td>NaN</td>\n",
       "      <td>56</td>\n",
       "      <td>incd</td>\n",
       "      <td>wyoming</td>\n",
       "      <td>Breast (in situ) (Female)</td>\n",
       "    </tr>\n",
       "    <tr>\n",
       "      <th>52659</th>\n",
       "      <td>Weston County(6,10)</td>\n",
       "      <td>56045.0</td>\n",
       "      <td>***</td>\n",
       "      <td>*</td>\n",
       "      <td>*</td>\n",
       "      <td>*</td>\n",
       "      <td>3 or fewer</td>\n",
       "      <td>*</td>\n",
       "      <td>*</td>\n",
       "      <td>*</td>\n",
       "      <td>*</td>\n",
       "      <td>15</td>\n",
       "      <td>county</td>\n",
       "      <td>515</td>\n",
       "      <td>incidencerates_007.csv</td>\n",
       "      <td>0</td>\n",
       "      <td>0</td>\n",
       "      <td>https://www.statecancerprofiles.cancer.gov/inc...</td>\n",
       "      <td>NaN</td>\n",
       "      <td>56</td>\n",
       "      <td>incd</td>\n",
       "      <td>wyoming</td>\n",
       "      <td>Childhood (Ages &lt;20, All Sites)</td>\n",
       "    </tr>\n",
       "    <tr>\n",
       "      <th>52660</th>\n",
       "      <td>Weston County(6,10)</td>\n",
       "      <td>56045.0</td>\n",
       "      <td>***</td>\n",
       "      <td>*</td>\n",
       "      <td>*</td>\n",
       "      <td>*</td>\n",
       "      <td>3 or fewer</td>\n",
       "      <td>*</td>\n",
       "      <td>*</td>\n",
       "      <td>*</td>\n",
       "      <td>*</td>\n",
       "      <td>16</td>\n",
       "      <td>county</td>\n",
       "      <td>516</td>\n",
       "      <td>incidencerates_006.csv</td>\n",
       "      <td>0</td>\n",
       "      <td>0</td>\n",
       "      <td>https://www.statecancerprofiles.cancer.gov/inc...</td>\n",
       "      <td>NaN</td>\n",
       "      <td>56</td>\n",
       "      <td>incd</td>\n",
       "      <td>wyoming</td>\n",
       "      <td>Childhood (Ages &lt;15, All Sites)</td>\n",
       "    </tr>\n",
       "  </tbody>\n",
       "</table>\n",
       "<p>52661 rows × 23 columns</p>\n",
       "</div>"
      ],
      "text/plain": [
       "                     locale     fips met_health_obj incidence rate_per_100000  \\\n",
       "0      US (SEER+NPCR)(1,10)      0.0            ***                     448.0   \n",
       "1      US (SEER+NPCR)(1,10)      0.0            ***                     11.7    \n",
       "2      US (SEER+NPCR)(1,10)      0.0            ***                      4.5    \n",
       "3      US (SEER+NPCR)(1,10)      0.0            ***                      6.6    \n",
       "4      US (SEER+NPCR)(1,10)      0.0            Yes                     38.7    \n",
       "...                     ...      ...            ...                       ...   \n",
       "52656   Weston County(6,10)  56045.0            ***                        *    \n",
       "52657   Weston County(6,10)  56045.0            ***                        *    \n",
       "52658   Weston County(6,10)  56045.0            ***                        *    \n",
       "52659   Weston County(6,10)  56045.0            ***                        *    \n",
       "52660   Weston County(6,10)  56045.0            ***                        *    \n",
       "\n",
       "      incidence rate_lower_95_confidence incidence rate_upper_95_confidence  \\\n",
       "0                                  447.7                              448.4   \n",
       "1                                   11.7                               11.8   \n",
       "2                                    4.5                                4.6   \n",
       "3                                    6.5                                6.6   \n",
       "4                                   38.6                               38.8   \n",
       "...                                  ...                                ...   \n",
       "52656                                  *                                  *   \n",
       "52657                                  *                                  *   \n",
       "52658                                  *                                  *   \n",
       "52659                                  *                                  *   \n",
       "52660                                  *                                  *   \n",
       "\n",
       "      annual_count_avg recent_trend_str trend_last_5  \\\n",
       "0            1638110.0          falling         -0.9   \n",
       "1                43864           stable         0.5    \n",
       "2                17084           stable        -0.8    \n",
       "3                23871          falling        -1.3    \n",
       "4               140982          falling        -1.3    \n",
       "...                ...              ...          ...   \n",
       "52656       3 or fewer                *            *   \n",
       "52657       3 or fewer                *            *   \n",
       "52658       3 or fewer                *            *   \n",
       "52659       3 or fewer                *            *   \n",
       "52660       3 or fewer                *            *   \n",
       "\n",
       "      trend_last_5_lower_95_confidence trend_last_5_upper_95_confidence  age  \\\n",
       "0                                 -1.6                             -0.1    1   \n",
       "1                                 -0.7                              1.6    1   \n",
       "2                                 -1.6                              0.0    1   \n",
       "3                                 -2.0                             -0.5    1   \n",
       "4                                 -2.1                             -0.6    1   \n",
       "...                                ...                              ...  ...   \n",
       "52656                                *                                *    1   \n",
       "52657                                *                                *    1   \n",
       "52658                                *                                *    1   \n",
       "52659                                *                                *   15   \n",
       "52660                                *                                *   16   \n",
       "\n",
       "      areatype  cancer               file_name  race  sex  \\\n",
       "0      country       1  incidencerates_000.csv     0    0   \n",
       "1      country       3  incidencerates_016.csv     0    0   \n",
       "2      country      17  incidencerates_009.csv     0    0   \n",
       "3      country      18  incidencerates_020.csv     0    0   \n",
       "4      country      20  incidencerates_008.csv     0    0   \n",
       "...        ...     ...                     ...   ...  ...   \n",
       "52656   county      86  incidencerates_015.csv     0    0   \n",
       "52657   county      90  incidencerates_011.csv     0    0   \n",
       "52658   county     400  incidencerates_004.csv     0    2   \n",
       "52659   county     515  incidencerates_007.csv     0    0   \n",
       "52660   county     516  incidencerates_006.csv     0    0   \n",
       "\n",
       "                                              source_url  stage  stateFIPS  \\\n",
       "0      https://www.statecancerprofiles.cancer.gov/inc...    NaN         29   \n",
       "1      https://www.statecancerprofiles.cancer.gov/inc...    NaN         29   \n",
       "2      https://www.statecancerprofiles.cancer.gov/inc...    NaN         29   \n",
       "3      https://www.statecancerprofiles.cancer.gov/inc...    NaN         29   \n",
       "4      https://www.statecancerprofiles.cancer.gov/inc...    NaN         29   \n",
       "...                                                  ...    ...        ...   \n",
       "52656  https://www.statecancerprofiles.cancer.gov/inc...    NaN         56   \n",
       "52657  https://www.statecancerprofiles.cancer.gov/inc...    NaN         56   \n",
       "52658  https://www.statecancerprofiles.cancer.gov/inc...    NaN         56   \n",
       "52659  https://www.statecancerprofiles.cancer.gov/inc...    NaN         56   \n",
       "52660  https://www.statecancerprofiles.cancer.gov/inc...    NaN         56   \n",
       "\n",
       "       type     state               cancer_description  \n",
       "0      incd  missouri                 All Cancer Sites  \n",
       "1      incd  missouri            Oral Cavity & Pharynx  \n",
       "2      incd  missouri                        Esophagus  \n",
       "3      incd  missouri                          Stomach  \n",
       "4      incd  missouri                   Colon & Rectum  \n",
       "...     ...       ...                              ...  \n",
       "52656  incd   wyoming             Non-Hodgkin Lymphoma  \n",
       "52657  incd   wyoming                         Leukemia  \n",
       "52658  incd   wyoming        Breast (in situ) (Female)  \n",
       "52659  incd   wyoming  Childhood (Ages <20, All Sites)  \n",
       "52660  incd   wyoming  Childhood (Ages <15, All Sites)  \n",
       "\n",
       "[52661 rows x 23 columns]"
      ]
     },
     "execution_count": 103,
     "metadata": {},
     "output_type": "execute_result"
    }
   ],
   "source": [
    "df = pd.read_csv('/Users/merrelbook/Projects/HealthDataVizGA/DataVisualAnalytics_Industries-cancer/data_clean/CDC_CancerByCounty/cancer_by_type-incidencerates.csv')\n",
    "df"
   ]
  },
  {
   "cell_type": "code",
   "execution_count": 84,
   "metadata": {},
   "outputs": [
    {
     "data": {
      "text/plain": [
       "23"
      ]
     },
     "execution_count": 84,
     "metadata": {},
     "output_type": "execute_result"
    }
   ],
   "source": [
    "# df.sort_values(by=['fips', 'cancer']).drop_duplicates(subset=['locale'])\n",
    "\n",
    "# # Drop all the duplicates from data key\n",
    "# subset_key = subset_key.drop_duplicates(\n",
    "#     subset=[c for c in df_key.columns if 'file_name' not in c]\n",
    "#     # Ignore the file_name column for deduplication\n",
    "# )\n",
    "\n",
    "df.query('fips==56045')"
   ]
  },
  {
   "cell_type": "code",
   "execution_count": 79,
   "metadata": {},
   "outputs": [
    {
     "data": {
      "text/plain": [
       "array([  1, 515,   3,  17,  57,  35,  80,  18,  61])"
      ]
     },
     "execution_count": 79,
     "metadata": {},
     "output_type": "execute_result"
    }
   ],
   "source": [
    "df.cancer.unique()"
   ]
  },
  {
   "cell_type": "code",
   "execution_count": null,
   "metadata": {},
   "outputs": [],
   "source": []
  }
 ],
 "metadata": {
  "kernelspec": {
   "display_name": "Python 3",
   "language": "python",
   "name": "python3"
  },
  "language_info": {
   "codemirror_mode": {
    "name": "ipython",
    "version": 3
   },
   "file_extension": ".py",
   "mimetype": "text/x-python",
   "name": "python",
   "nbconvert_exporter": "python",
   "pygments_lexer": "ipython3",
   "version": "3.7.6"
  }
 },
 "nbformat": 4,
 "nbformat_minor": 4
}
