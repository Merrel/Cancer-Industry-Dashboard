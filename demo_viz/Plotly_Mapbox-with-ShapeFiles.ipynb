{
 "cells": [
  {
   "cell_type": "code",
   "execution_count": 43,
   "metadata": {},
   "outputs": [],
   "source": [
    "import fiona\n",
    "import pandas as pd\n",
    "import geopandas as gpd\n",
    "import plotly.express as px\n",
    "import plotly.graph_objects as go\n",
    "import plotly.figure_factory as ff\n",
    "from pathlib import Path"
   ]
  },
  {
   "cell_type": "code",
   "execution_count": 44,
   "metadata": {},
   "outputs": [],
   "source": [
    "#\n",
    "# Explore the shapefiles\n",
    "#\n",
    "\n",
    "# Load the data\n",
    "project_dir = Path('/Users/merrelbook/Projects/HealthDataVizGA')\n",
    "data_dir = project_dir / 'DataVisualAnalytics_Industries-cancer' / 'data_raw'\n",
    "data_path = data_dir / 'US_Shape_Files' / 'cb_2018_us_county_500k.zip'\n",
    "\n",
    "# Read direct from the .zip file -- See: https://geopandas.org/io.html\n",
    "gdf = gpd.read_file('zip://'+str(data_path))\n",
    "# states = geopandas.read_file(zipfile)"
   ]
  },
  {
   "cell_type": "code",
   "execution_count": 61,
   "metadata": {},
   "outputs": [],
   "source": [
    "# SOURCE: https://github.com/geopandas/geopandas/issues/834\n",
    "from shapely import geometry\n",
    "upcast_dispatch = {geometry.Point: geometry.MultiPoint, \n",
    "                   geometry.LineString: geometry.MultiLineString, \n",
    "                   geometry.Polygon: geometry.MultiPolygon}\n",
    "\n",
    "def maybe_cast_to_multigeometry(geom):\n",
    "    caster = upcast_dispatch.get(type(geom), lambda x: x[0])\n",
    "    return caster([geom])"
   ]
  },
  {
   "cell_type": "code",
   "execution_count": 60,
   "metadata": {},
   "outputs": [],
   "source": [
    "georgia_shapes = gdf[gdf.STATEFP=='13']\n",
    "# georgia_shapes['FIPS'] = georgia_shapes.STATEFP + georgia_shapes.COUNTYFP\n",
    "# georgia_shapes.head()\n",
    "\n",
    "georgia_shapes.geometry = georgia_shapes.geometry.apply(maybe_cast_to_multigeometry)\n",
    "# \n",
    "\n",
    "georgia_shapes.to_file(data_path.parent / 'georgia_counties.geojson', driver='GeoJSON')"
   ]
  },
  {
   "cell_type": "code",
   "execution_count": null,
   "metadata": {},
   "outputs": [],
   "source": []
  },
  {
   "cell_type": "code",
   "execution_count": 36,
   "metadata": {},
   "outputs": [],
   "source": [
    "# Mapbox\n",
    "token = open(project_dir / \".mapbox_token\").read() # you will need your own token"
   ]
  },
  {
   "cell_type": "code",
   "execution_count": null,
   "metadata": {},
   "outputs": [],
   "source": []
  }
 ],
 "metadata": {
  "kernelspec": {
   "display_name": "Python 3",
   "language": "python",
   "name": "python3"
  },
  "language_info": {
   "codemirror_mode": {
    "name": "ipython",
    "version": 3
   },
   "file_extension": ".py",
   "mimetype": "text/x-python",
   "name": "python",
   "nbconvert_exporter": "python",
   "pygments_lexer": "ipython3",
   "version": "3.7.6"
  }
 },
 "nbformat": 4,
 "nbformat_minor": 4
}
