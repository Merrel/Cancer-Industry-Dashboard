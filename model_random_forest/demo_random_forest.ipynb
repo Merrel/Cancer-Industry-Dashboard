{
 "cells": [
  {
   "cell_type": "markdown",
   "metadata": {},
   "source": [
    "# Importing libraries"
   ]
  },
  {
   "cell_type": "code",
   "execution_count": 2,
   "metadata": {},
   "outputs": [],
   "source": [
    "import numpy as np\n",
    "import pandas as pd\n",
    "\n",
    "# Setting rando seed to get reproducible runs\n",
    "RSEED = 100"
   ]
  },
  {
   "cell_type": "markdown",
   "metadata": {},
   "source": [
    "# Importing dataset"
   ]
  },
  {
   "cell_type": "markdown",
   "metadata": {},
   "source": [
    "This section has been taken from Angelo's notebook demo_svr.ipynb"
   ]
  },
  {
   "cell_type": "code",
   "execution_count": 3,
   "metadata": {},
   "outputs": [],
   "source": [
    "input_df = pd.read_csv(\"modifiedIndustriesPerCountyGA-2012.csv\")\n",
    "input_df = input_df.drop(['Column'], axis=1)\n",
    "\n",
    "output_df = pd.read_csv(\"incidencerates.csv\")\n",
    "output_df = output_df[['locale', 'fips', 'annual_count_avg']]  # 'trend_last_5' missing data in 10 counties"
   ]
  },
  {
   "cell_type": "code",
   "execution_count": 4,
   "metadata": {},
   "outputs": [
    {
     "data": {
      "text/html": [
       "<div>\n",
       "<style scoped>\n",
       "    .dataframe tbody tr th:only-of-type {\n",
       "        vertical-align: middle;\n",
       "    }\n",
       "\n",
       "    .dataframe tbody tr th {\n",
       "        vertical-align: top;\n",
       "    }\n",
       "\n",
       "    .dataframe thead th {\n",
       "        text-align: right;\n",
       "    }\n",
       "</style>\n",
       "<table border=\"1\" class=\"dataframe\">\n",
       "  <thead>\n",
       "    <tr style=\"text-align: right;\">\n",
       "      <th></th>\n",
       "      <th>GEO_TTL</th>\n",
       "      <th>COUNTY</th>\n",
       "      <th>YEAR</th>\n",
       "      <th>NAICS2012</th>\n",
       "      <th>NAICS2012_TTL</th>\n",
       "      <th>ESTAB</th>\n",
       "      <th>EMP</th>\n",
       "      <th>PAYANN</th>\n",
       "      <th>state</th>\n",
       "      <th>county</th>\n",
       "    </tr>\n",
       "  </thead>\n",
       "  <tbody>\n",
       "    <tr>\n",
       "      <th>0</th>\n",
       "      <td>Appling County, Georgia</td>\n",
       "      <td>1</td>\n",
       "      <td>2012</td>\n",
       "      <td>113</td>\n",
       "      <td>Forestry and logging</td>\n",
       "      <td>11</td>\n",
       "      <td>61</td>\n",
       "      <td>2256</td>\n",
       "      <td>13</td>\n",
       "      <td>1</td>\n",
       "    </tr>\n",
       "    <tr>\n",
       "      <th>1</th>\n",
       "      <td>Appling County, Georgia</td>\n",
       "      <td>1</td>\n",
       "      <td>2012</td>\n",
       "      <td>115</td>\n",
       "      <td>Support activities for agriculture and forestry</td>\n",
       "      <td>1</td>\n",
       "      <td>0</td>\n",
       "      <td>0</td>\n",
       "      <td>13</td>\n",
       "      <td>1</td>\n",
       "    </tr>\n",
       "    <tr>\n",
       "      <th>2</th>\n",
       "      <td>Appling County, Georgia</td>\n",
       "      <td>1</td>\n",
       "      <td>2012</td>\n",
       "      <td>221</td>\n",
       "      <td>Utilities</td>\n",
       "      <td>7</td>\n",
       "      <td>0</td>\n",
       "      <td>0</td>\n",
       "      <td>13</td>\n",
       "      <td>1</td>\n",
       "    </tr>\n",
       "    <tr>\n",
       "      <th>3</th>\n",
       "      <td>Appling County, Georgia</td>\n",
       "      <td>1</td>\n",
       "      <td>2012</td>\n",
       "      <td>236</td>\n",
       "      <td>Construction of buildings</td>\n",
       "      <td>12</td>\n",
       "      <td>113</td>\n",
       "      <td>2572</td>\n",
       "      <td>13</td>\n",
       "      <td>1</td>\n",
       "    </tr>\n",
       "    <tr>\n",
       "      <th>4</th>\n",
       "      <td>Appling County, Georgia</td>\n",
       "      <td>1</td>\n",
       "      <td>2012</td>\n",
       "      <td>237</td>\n",
       "      <td>Heavy and civil engineering construction</td>\n",
       "      <td>2</td>\n",
       "      <td>0</td>\n",
       "      <td>0</td>\n",
       "      <td>13</td>\n",
       "      <td>1</td>\n",
       "    </tr>\n",
       "  </tbody>\n",
       "</table>\n",
       "</div>"
      ],
      "text/plain": [
       "                   GEO_TTL  COUNTY  YEAR  NAICS2012  \\\n",
       "0  Appling County, Georgia       1  2012        113   \n",
       "1  Appling County, Georgia       1  2012        115   \n",
       "2  Appling County, Georgia       1  2012        221   \n",
       "3  Appling County, Georgia       1  2012        236   \n",
       "4  Appling County, Georgia       1  2012        237   \n",
       "\n",
       "                                     NAICS2012_TTL  ESTAB  EMP  PAYANN  state  \\\n",
       "0                             Forestry and logging     11   61    2256     13   \n",
       "1  Support activities for agriculture and forestry      1    0       0     13   \n",
       "2                                        Utilities      7    0       0     13   \n",
       "3                        Construction of buildings     12  113    2572     13   \n",
       "4         Heavy and civil engineering construction      2    0       0     13   \n",
       "\n",
       "   county  \n",
       "0       1  \n",
       "1       1  \n",
       "2       1  \n",
       "3       1  \n",
       "4       1  "
      ]
     },
     "execution_count": 4,
     "metadata": {},
     "output_type": "execute_result"
    }
   ],
   "source": [
    "input_df.head()"
   ]
  },
  {
   "cell_type": "code",
   "execution_count": 5,
   "metadata": {},
   "outputs": [
    {
     "data": {
      "text/html": [
       "<div>\n",
       "<style scoped>\n",
       "    .dataframe tbody tr th:only-of-type {\n",
       "        vertical-align: middle;\n",
       "    }\n",
       "\n",
       "    .dataframe tbody tr th {\n",
       "        vertical-align: top;\n",
       "    }\n",
       "\n",
       "    .dataframe thead th {\n",
       "        text-align: right;\n",
       "    }\n",
       "</style>\n",
       "<table border=\"1\" class=\"dataframe\">\n",
       "  <thead>\n",
       "    <tr style=\"text-align: right;\">\n",
       "      <th></th>\n",
       "      <th>locale</th>\n",
       "      <th>fips</th>\n",
       "      <th>annual_count_avg</th>\n",
       "    </tr>\n",
       "  </thead>\n",
       "  <tbody>\n",
       "    <tr>\n",
       "      <th>0</th>\n",
       "      <td>Pickens County(7,8)</td>\n",
       "      <td>227</td>\n",
       "      <td>249</td>\n",
       "    </tr>\n",
       "    <tr>\n",
       "      <th>1</th>\n",
       "      <td>Towns County(7,8)</td>\n",
       "      <td>281</td>\n",
       "      <td>116</td>\n",
       "    </tr>\n",
       "    <tr>\n",
       "      <th>2</th>\n",
       "      <td>Union County(7,8)</td>\n",
       "      <td>291</td>\n",
       "      <td>226</td>\n",
       "    </tr>\n",
       "    <tr>\n",
       "      <th>3</th>\n",
       "      <td>Lee County(7,8)</td>\n",
       "      <td>177</td>\n",
       "      <td>154</td>\n",
       "    </tr>\n",
       "    <tr>\n",
       "      <th>4</th>\n",
       "      <td>Turner County(7,8)</td>\n",
       "      <td>287</td>\n",
       "      <td>56</td>\n",
       "    </tr>\n",
       "  </tbody>\n",
       "</table>\n",
       "</div>"
      ],
      "text/plain": [
       "                locale  fips  annual_count_avg\n",
       "0  Pickens County(7,8)   227               249\n",
       "1    Towns County(7,8)   281               116\n",
       "2    Union County(7,8)   291               226\n",
       "3      Lee County(7,8)   177               154\n",
       "4   Turner County(7,8)   287                56"
      ]
     },
     "execution_count": 5,
     "metadata": {},
     "output_type": "execute_result"
    }
   ],
   "source": [
    "output_df.head()"
   ]
  },
  {
   "cell_type": "markdown",
   "metadata": {},
   "source": [
    "# Dataset processing"
   ]
  },
  {
   "cell_type": "markdown",
   "metadata": {},
   "source": [
    "This section has been taken from Angelo's notebook demo_svr.ipynb"
   ]
  },
  {
   "cell_type": "code",
   "execution_count": 6,
   "metadata": {},
   "outputs": [],
   "source": [
    "industry_keys = {}\n",
    "\n",
    "for naics in input_df['NAICS2012']:\n",
    "    if naics not in industry_keys:\n",
    "        industry_keys[naics] = 0\n",
    "\n",
    "# industry_keys['year'] = 2012\n",
    "industry_keys['counties'] = []\n",
    "industry_keys['annual_count_avg'] = 0\n",
    "\n",
    "for county in output_df['fips']:\n",
    "    industry_keys['counties'].append(county)"
   ]
  },
  {
   "cell_type": "code",
   "execution_count": 9,
   "metadata": {},
   "outputs": [],
   "source": [
    "#industry_keys"
   ]
  },
  {
   "cell_type": "code",
   "execution_count": 7,
   "metadata": {},
   "outputs": [],
   "source": [
    "df = pd.DataFrame(industry_keys, index=industry_keys['counties'])\n",
    "df.set_index('counties')\n",
    "\n",
    "for idx, row in input_df.iterrows():\n",
    "#     df.set_value(row['COUNTY'], row['NAICS2012'], row['ESTAB'])\n",
    "    df.loc[row['COUNTY'], row['NAICS2012']] = row['ESTAB']\n",
    "\n",
    "for idx, row in output_df.iterrows():\n",
    "#     df.set_value(row['fips'], 'annual_count_avg', row['annual_count_avg'])\n",
    "    df.loc[row['fips'], 'annual_count_avg'] = row['annual_count_avg']"
   ]
  },
  {
   "cell_type": "code",
   "execution_count": 10,
   "metadata": {},
   "outputs": [
    {
     "data": {
      "text/html": [
       "<div>\n",
       "<style scoped>\n",
       "    .dataframe tbody tr th:only-of-type {\n",
       "        vertical-align: middle;\n",
       "    }\n",
       "\n",
       "    .dataframe tbody tr th {\n",
       "        vertical-align: top;\n",
       "    }\n",
       "\n",
       "    .dataframe thead th {\n",
       "        text-align: right;\n",
       "    }\n",
       "</style>\n",
       "<table border=\"1\" class=\"dataframe\">\n",
       "  <thead>\n",
       "    <tr style=\"text-align: right;\">\n",
       "      <th></th>\n",
       "      <th>113</th>\n",
       "      <th>115</th>\n",
       "      <th>221</th>\n",
       "      <th>236</th>\n",
       "      <th>237</th>\n",
       "      <th>238</th>\n",
       "      <th>321</th>\n",
       "      <th>325</th>\n",
       "      <th>327</th>\n",
       "      <th>331</th>\n",
       "      <th>...</th>\n",
       "      <th>525</th>\n",
       "      <th>533</th>\n",
       "      <th>114</th>\n",
       "      <th>483</th>\n",
       "      <th>316</th>\n",
       "      <th>487</th>\n",
       "      <th>211</th>\n",
       "      <th>521</th>\n",
       "      <th>counties</th>\n",
       "      <th>annual_count_avg</th>\n",
       "    </tr>\n",
       "  </thead>\n",
       "  <tbody>\n",
       "    <tr>\n",
       "      <th>227</th>\n",
       "      <td>4</td>\n",
       "      <td>1</td>\n",
       "      <td>3</td>\n",
       "      <td>18</td>\n",
       "      <td>10</td>\n",
       "      <td>41</td>\n",
       "      <td>2</td>\n",
       "      <td>1</td>\n",
       "      <td>4</td>\n",
       "      <td>0</td>\n",
       "      <td>...</td>\n",
       "      <td>0</td>\n",
       "      <td>1</td>\n",
       "      <td>0</td>\n",
       "      <td>0</td>\n",
       "      <td>0</td>\n",
       "      <td>0</td>\n",
       "      <td>0</td>\n",
       "      <td>0</td>\n",
       "      <td>227</td>\n",
       "      <td>249</td>\n",
       "    </tr>\n",
       "    <tr>\n",
       "      <th>281</th>\n",
       "      <td>0</td>\n",
       "      <td>0</td>\n",
       "      <td>1</td>\n",
       "      <td>10</td>\n",
       "      <td>4</td>\n",
       "      <td>23</td>\n",
       "      <td>0</td>\n",
       "      <td>0</td>\n",
       "      <td>1</td>\n",
       "      <td>0</td>\n",
       "      <td>...</td>\n",
       "      <td>0</td>\n",
       "      <td>0</td>\n",
       "      <td>0</td>\n",
       "      <td>0</td>\n",
       "      <td>0</td>\n",
       "      <td>0</td>\n",
       "      <td>0</td>\n",
       "      <td>0</td>\n",
       "      <td>281</td>\n",
       "      <td>116</td>\n",
       "    </tr>\n",
       "    <tr>\n",
       "      <th>291</th>\n",
       "      <td>1</td>\n",
       "      <td>1</td>\n",
       "      <td>3</td>\n",
       "      <td>23</td>\n",
       "      <td>9</td>\n",
       "      <td>29</td>\n",
       "      <td>2</td>\n",
       "      <td>0</td>\n",
       "      <td>1</td>\n",
       "      <td>0</td>\n",
       "      <td>...</td>\n",
       "      <td>0</td>\n",
       "      <td>0</td>\n",
       "      <td>0</td>\n",
       "      <td>0</td>\n",
       "      <td>0</td>\n",
       "      <td>0</td>\n",
       "      <td>0</td>\n",
       "      <td>0</td>\n",
       "      <td>291</td>\n",
       "      <td>226</td>\n",
       "    </tr>\n",
       "    <tr>\n",
       "      <th>177</th>\n",
       "      <td>1</td>\n",
       "      <td>4</td>\n",
       "      <td>1</td>\n",
       "      <td>8</td>\n",
       "      <td>3</td>\n",
       "      <td>47</td>\n",
       "      <td>3</td>\n",
       "      <td>0</td>\n",
       "      <td>0</td>\n",
       "      <td>0</td>\n",
       "      <td>...</td>\n",
       "      <td>0</td>\n",
       "      <td>0</td>\n",
       "      <td>1</td>\n",
       "      <td>0</td>\n",
       "      <td>0</td>\n",
       "      <td>0</td>\n",
       "      <td>0</td>\n",
       "      <td>0</td>\n",
       "      <td>177</td>\n",
       "      <td>154</td>\n",
       "    </tr>\n",
       "    <tr>\n",
       "      <th>287</th>\n",
       "      <td>1</td>\n",
       "      <td>1</td>\n",
       "      <td>1</td>\n",
       "      <td>1</td>\n",
       "      <td>1</td>\n",
       "      <td>3</td>\n",
       "      <td>2</td>\n",
       "      <td>1</td>\n",
       "      <td>2</td>\n",
       "      <td>0</td>\n",
       "      <td>...</td>\n",
       "      <td>0</td>\n",
       "      <td>0</td>\n",
       "      <td>0</td>\n",
       "      <td>0</td>\n",
       "      <td>0</td>\n",
       "      <td>0</td>\n",
       "      <td>0</td>\n",
       "      <td>0</td>\n",
       "      <td>287</td>\n",
       "      <td>56</td>\n",
       "    </tr>\n",
       "  </tbody>\n",
       "</table>\n",
       "<p>5 rows × 88 columns</p>\n",
       "</div>"
      ],
      "text/plain": [
       "     113  115  221  236  237  238  321  325  327  331  ...  525  533  114  \\\n",
       "227    4    1    3   18   10   41    2    1    4    0  ...    0    1    0   \n",
       "281    0    0    1   10    4   23    0    0    1    0  ...    0    0    0   \n",
       "291    1    1    3   23    9   29    2    0    1    0  ...    0    0    0   \n",
       "177    1    4    1    8    3   47    3    0    0    0  ...    0    0    1   \n",
       "287    1    1    1    1    1    3    2    1    2    0  ...    0    0    0   \n",
       "\n",
       "     483  316  487  211  521  counties  annual_count_avg  \n",
       "227    0    0    0    0    0       227               249  \n",
       "281    0    0    0    0    0       281               116  \n",
       "291    0    0    0    0    0       291               226  \n",
       "177    0    0    0    0    0       177               154  \n",
       "287    0    0    0    0    0       287                56  \n",
       "\n",
       "[5 rows x 88 columns]"
      ]
     },
     "execution_count": 10,
     "metadata": {},
     "output_type": "execute_result"
    }
   ],
   "source": [
    "df.head()"
   ]
  },
  {
   "cell_type": "markdown",
   "metadata": {},
   "source": [
    "# Splitting Dataset into Training and testing Set"
   ]
  },
  {
   "cell_type": "markdown",
   "metadata": {},
   "source": [
    "This section has partly been taken from Angelo's notebook demo_svr.ipynb"
   ]
  },
  {
   "cell_type": "code",
   "execution_count": 13,
   "metadata": {},
   "outputs": [],
   "source": [
    "from sklearn.model_selection import train_test_split\n",
    "\n",
    "X = df.loc[:, :'counties']\n",
    "y = df['annual_count_avg']\n",
    "\n",
    "X_train, X_test, y_train, y_test = train_test_split(X, y,\n",
    "                                                    test_size=0.3,\n",
    "                                                    random_state = RSEED)\n"
   ]
  },
  {
   "cell_type": "code",
   "execution_count": 14,
   "metadata": {},
   "outputs": [
    {
     "data": {
      "text/plain": [
       "(111, 87)"
      ]
     },
     "execution_count": 14,
     "metadata": {},
     "output_type": "execute_result"
    }
   ],
   "source": [
    "X_train.shape"
   ]
  },
  {
   "cell_type": "code",
   "execution_count": 15,
   "metadata": {},
   "outputs": [
    {
     "data": {
      "text/plain": [
       "(48, 87)"
      ]
     },
     "execution_count": 15,
     "metadata": {},
     "output_type": "execute_result"
    }
   ],
   "source": [
    "X_test.shape"
   ]
  },
  {
   "cell_type": "markdown",
   "metadata": {},
   "source": [
    "# Creating a Random Forest Regression model"
   ]
  },
  {
   "cell_type": "markdown",
   "metadata": {},
   "source": [
    "This section is partly inspired from:\n",
    "https://github.com/WillKoehrsen/Machine-Learning-Projects/blob/master/Random%20Forest%20Tutorial.ipynb"
   ]
  },
  {
   "cell_type": "code",
   "execution_count": 28,
   "metadata": {},
   "outputs": [
    {
     "data": {
      "text/plain": [
       "RandomForestRegressor(bootstrap=True, ccp_alpha=0.0, criterion='mse',\n",
       "                      max_depth=None, max_features='auto', max_leaf_nodes=None,\n",
       "                      max_samples=None, min_impurity_decrease=0.0,\n",
       "                      min_impurity_split=None, min_samples_leaf=1,\n",
       "                      min_samples_split=2, min_weight_fraction_leaf=0.0,\n",
       "                      n_estimators=100, n_jobs=None, oob_score=False,\n",
       "                      random_state=100, verbose=0, warm_start=False)"
      ]
     },
     "execution_count": 28,
     "metadata": {},
     "output_type": "execute_result"
    }
   ],
   "source": [
    "from sklearn.ensemble import RandomForestRegressor\n",
    "\n",
    "# Create the model with 10 trees\n",
    "regressor = RandomForestRegressor(n_estimators = 100,\n",
    "                                  random_state = RSEED)\n",
    "\n",
    "# Fit on training data\n",
    "regressor.fit(X_train, y_train)"
   ]
  },
  {
   "cell_type": "markdown",
   "metadata": {},
   "source": [
    "Now, let's look at the average number of nodes and the average maximum depth"
   ]
  },
  {
   "cell_type": "code",
   "execution_count": 29,
   "metadata": {},
   "outputs": [
    {
     "name": "stdout",
     "output_type": "stream",
     "text": [
      "Average number of nodes 133\n",
      "Average maximum depth 10\n"
     ]
    }
   ],
   "source": [
    "n_nodes = []\n",
    "max_depths = []\n",
    "\n",
    "for ind_tree in regressor.estimators_:\n",
    "    n_nodes.append(ind_tree.tree_.node_count)\n",
    "    max_depths.append(ind_tree.tree_.max_depth)\n",
    "    \n",
    "print(f'Average number of nodes {int(np.mean(n_nodes))}')\n",
    "print(f'Average maximum depth {int(np.mean(max_depths))}')"
   ]
  },
  {
   "cell_type": "markdown",
   "metadata": {},
   "source": [
    "# Evaluating the regressor"
   ]
  },
  {
   "cell_type": "markdown",
   "metadata": {},
   "source": [
    "This section is partly inspired from:\n",
    "https://github.com/WillKoehrsen/Machine-Learning-Projects/blob/master/Random%20Forest%20Tutorial.ipynb"
   ]
  },
  {
   "cell_type": "code",
   "execution_count": 39,
   "metadata": {},
   "outputs": [
    {
     "name": "stdout",
     "output_type": "stream",
     "text": [
      "Accuracy Train 92.22614986836747%\n",
      "r2_score Train: 0.9918824564967289\n",
      "\n",
      "Accuracy Test 75.95871973219374%\n",
      "r2_score Test: 0.9822055487332183\n"
     ]
    }
   ],
   "source": [
    "from sklearn import metrics\n",
    "train_rf_predictions = regressor.predict(X_train)\n",
    "rf_predictions = regressor.predict(X_test)\n",
    "MAE_train = metrics.mean_absolute_error(y_train, train_rf_predictions)\n",
    "RMSE_train = np.sqrt(metrics.mean_squared_error(y_train, train_rf_predictions))\n",
    "MAPE_train = 100 * np.mean(abs(train_rf_predictions - y_train)/abs(y_train))\n",
    "accuracy_train = 100 - MAPE_train\n",
    "r2_train = metrics.r2_score(y_train, train_rf_predictions)\n",
    "\n",
    "MAE_test = metrics.mean_absolute_error(y_test, rf_predictions)\n",
    "RMSE_test = np.sqrt(metrics.mean_squared_error(y_test, rf_predictions))\n",
    "MAPE_test = 100 * np.mean(abs(rf_predictions - y_test)/abs(y_test))\n",
    "accuracy_test = 100 - MAPE_test\n",
    "r2_test = metrics.r2_score(y_test, rf_predictions)\n",
    "#print('Mean Absolute Error Train:', MAE_train)    \n",
    "#print('Root Mean Squared Error Train:', RMSE_train)\n",
    "#print('Mean Absolute Percentage Error Train:', MAPE_train)\n",
    "print('Accuracy Train', str(accuracy_train) + \"%\")\n",
    "print('r2_score Train:',r2_train)\n",
    "print()\n",
    "#print('Mean Absolute Error Test:', MAE_test)    \n",
    "#print('Root Mean Squared Error Test:', RMSE_test)\n",
    "#print('Mean Absolute Percentage Error Test:', MAPE_test)\n",
    "print('Accuracy Test', str(accuracy_test) + \"%\")\n",
    "print('r2_score Test:', r2_test)"
   ]
  },
  {
   "cell_type": "markdown",
   "metadata": {},
   "source": [
    "# Hyper-parameter optimization through random search"
   ]
  },
  {
   "cell_type": "markdown",
   "metadata": {},
   "source": [
    "This section is inspired from: https://towardsdatascience.com/hyperparameter-tuning-the-random-forest-in-python-using-scikit-learn-28d2aa77dd74"
   ]
  },
  {
   "cell_type": "code",
   "execution_count": null,
   "metadata": {},
   "outputs": [],
   "source": [
    "from sklearn.model_selection import RandomizedSearchCV\n",
    "\n"
   ]
  }
 ],
 "metadata": {
  "kernelspec": {
   "display_name": "Python 3",
   "language": "python",
   "name": "python3"
  },
  "language_info": {
   "codemirror_mode": {
    "name": "ipython",
    "version": 3
   },
   "file_extension": ".py",
   "mimetype": "text/x-python",
   "name": "python",
   "nbconvert_exporter": "python",
   "pygments_lexer": "ipython3",
   "version": "3.7.7"
  }
 },
 "nbformat": 4,
 "nbformat_minor": 4
}
